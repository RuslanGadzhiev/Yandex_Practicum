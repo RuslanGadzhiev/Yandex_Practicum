{
 "cells": [
  {
   "cell_type": "markdown",
   "metadata": {
    "toc": true
   },
   "source": [
    "<h1>Содержание<span class=\"tocSkip\"></span></h1>\n",
    "<div class=\"toc\"><ul class=\"toc-item\"><li><span><a href=\"#Шаг-1.-Открыть-файл-с-данными-и-изучить-общую-информацию\" data-toc-modified-id=\"Шаг-1.-Открыть-файл-с-данными-и-изучить-общую-информацию-1\"><span class=\"toc-item-num\">1&nbsp;&nbsp;</span>Шаг 1. Открыть файл с данными и изучить общую информацию</a></span><ul class=\"toc-item\"><li><span><a href=\"#Знакомимся-с-calls\" data-toc-modified-id=\"Знакомимся-с-calls-1.1\"><span class=\"toc-item-num\">1.1&nbsp;&nbsp;</span>Знакомимся с calls</a></span></li><li><span><a href=\"#Знакомимся-с-internet\" data-toc-modified-id=\"Знакомимся-с-internet-1.2\"><span class=\"toc-item-num\">1.2&nbsp;&nbsp;</span>Знакомимся с internet</a></span></li><li><span><a href=\"#Знакомимся-с-messages\" data-toc-modified-id=\"Знакомимся-с-messages-1.3\"><span class=\"toc-item-num\">1.3&nbsp;&nbsp;</span>Знакомимся с messages</a></span></li><li><span><a href=\"#Знакомимся-tariffs\" data-toc-modified-id=\"Знакомимся-tariffs-1.4\"><span class=\"toc-item-num\">1.4&nbsp;&nbsp;</span>Знакомимся tariffs</a></span></li><li><span><a href=\"#Знакомимся-users\" data-toc-modified-id=\"Знакомимся-users-1.5\"><span class=\"toc-item-num\">1.5&nbsp;&nbsp;</span>Знакомимся users</a></span></li><li><span><a href=\"#Вывод\" data-toc-modified-id=\"Вывод-1.6\"><span class=\"toc-item-num\">1.6&nbsp;&nbsp;</span>Вывод</a></span></li></ul></li><li><span><a href=\"#Шаг-2.-Подготовьте-данные\" data-toc-modified-id=\"Шаг-2.-Подготовьте-данные-2\"><span class=\"toc-item-num\">2&nbsp;&nbsp;</span>Шаг 2. Подготовьте данные</a></span><ul class=\"toc-item\"><li><span><a href=\"#Создаем-общую-выборку-клиентов-Мегалайн\" data-toc-modified-id=\"Создаем-общую-выборку-клиентов-Мегалайн-2.1\"><span class=\"toc-item-num\">2.1&nbsp;&nbsp;</span>Создаем общую выборку клиентов Мегалайн</a></span></li><li><span><a href=\"#Обработка-общей-выборки\" data-toc-modified-id=\"Обработка-общей-выборки-2.2\"><span class=\"toc-item-num\">2.2&nbsp;&nbsp;</span>Обработка общей выборки</a></span></li><li><span><a href=\"#Группировка-данных-по-calls,-internet-и-messages\" data-toc-modified-id=\"Группировка-данных-по-calls,-internet-и-messages-2.3\"><span class=\"toc-item-num\">2.3&nbsp;&nbsp;</span>Группировка данных по calls, internet и messages</a></span><ul class=\"toc-item\"><li><span><a href=\"#calls\" data-toc-modified-id=\"calls-2.3.1\"><span class=\"toc-item-num\">2.3.1&nbsp;&nbsp;</span>calls</a></span></li><li><span><a href=\"#Вывод-по-calls\" data-toc-modified-id=\"Вывод-по-calls-2.3.2\"><span class=\"toc-item-num\">2.3.2&nbsp;&nbsp;</span>Вывод по calls</a></span></li><li><span><a href=\"#internet\" data-toc-modified-id=\"internet-2.3.3\"><span class=\"toc-item-num\">2.3.3&nbsp;&nbsp;</span>internet</a></span></li><li><span><a href=\"#Вывод-по-internet\" data-toc-modified-id=\"Вывод-по-internet-2.3.4\"><span class=\"toc-item-num\">2.3.4&nbsp;&nbsp;</span>Вывод по internet</a></span></li><li><span><a href=\"#messages\" data-toc-modified-id=\"messages-2.3.5\"><span class=\"toc-item-num\">2.3.5&nbsp;&nbsp;</span>messages</a></span></li><li><span><a href=\"#Вывод-по-messages\" data-toc-modified-id=\"Вывод-по-messages-2.3.6\"><span class=\"toc-item-num\">2.3.6&nbsp;&nbsp;</span>Вывод по messages</a></span></li></ul></li><li><span><a href=\"#Объединяем-данные-для-необходимых-вычислений\" data-toc-modified-id=\"Объединяем-данные-для-необходимых-вычислений-2.4\"><span class=\"toc-item-num\">2.4&nbsp;&nbsp;</span>Объединяем данные для необходимых вычислений</a></span><ul class=\"toc-item\"><li><span><a href=\"#Вывод-по-объединению\" data-toc-modified-id=\"Вывод-по-объединению-2.4.1\"><span class=\"toc-item-num\">2.4.1&nbsp;&nbsp;</span>Вывод по объединению</a></span></li></ul></li><li><span><a href=\"#Выборки-по-каждому-тарифному-плану\" data-toc-modified-id=\"Выборки-по-каждому-тарифному-плану-2.5\"><span class=\"toc-item-num\">2.5&nbsp;&nbsp;</span>Выборки по каждому тарифному плану</a></span></li><li><span><a href=\"#Вывод\" data-toc-modified-id=\"Вывод-2.6\"><span class=\"toc-item-num\">2.6&nbsp;&nbsp;</span>Вывод</a></span></li></ul></li><li><span><a href=\"#Шаг-3.-Проанализировать-данные\" data-toc-modified-id=\"Шаг-3.-Проанализировать-данные-3\"><span class=\"toc-item-num\">3&nbsp;&nbsp;</span>Шаг 3. Проанализировать данные</a></span><ul class=\"toc-item\"><li><span><a href=\"#Анализируем--звонки-с-тарифов-&quot;smart&quot;-и-&quot;ultra&quot;\" data-toc-modified-id=\"Анализируем--звонки-с-тарифов-&quot;smart&quot;-и-&quot;ultra&quot;-3.1\"><span class=\"toc-item-num\">3.1&nbsp;&nbsp;</span>Анализируем  звонки с тарифов \"smart\" и \"ultra\"</a></span></li><li><span><a href=\"#Анализируем-трафик-тарифов-&quot;smart&quot;-и-&quot;ultra&quot;\" data-toc-modified-id=\"Анализируем-трафик-тарифов-&quot;smart&quot;-и-&quot;ultra&quot;-3.2\"><span class=\"toc-item-num\">3.2&nbsp;&nbsp;</span>Анализируем трафик тарифов \"smart\" и \"ultra\"</a></span></li><li><span><a href=\"#Анализируем-сообщения-клиентов-тарифов-Smart-и-Ultra\" data-toc-modified-id=\"Анализируем-сообщения-клиентов-тарифов-Smart-и-Ultra-3.3\"><span class=\"toc-item-num\">3.3&nbsp;&nbsp;</span>Анализируем сообщения клиентов тарифов Smart и Ultra</a></span></li><li><span><a href=\"#Вывод\" data-toc-modified-id=\"Вывод-3.4\"><span class=\"toc-item-num\">3.4&nbsp;&nbsp;</span>Вывод</a></span></li></ul></li><li><span><a href=\"#Шаг-4.-Проверьте-гипотезы\" data-toc-modified-id=\"Шаг-4.-Проверьте-гипотезы-4\"><span class=\"toc-item-num\">4&nbsp;&nbsp;</span>Шаг 4. Проверьте гипотезы</a></span><ul class=\"toc-item\"><li><span><a href=\"#Cредняя-выручка-пользователей-тарифов-«Ультра»-и-«Смарт»-различаются;\" data-toc-modified-id=\"Cредняя-выручка-пользователей-тарифов-«Ультра»-и-«Смарт»-различаются;-4.1\"><span class=\"toc-item-num\">4.1&nbsp;&nbsp;</span>Cредняя выручка пользователей тарифов «Ультра» и «Смарт» различаются;</a></span></li><li><span><a href=\"#Средняя-выручка-пользователи-из-Москвы-отличается-от-выручки-пользователей-из-других-регионов.\" data-toc-modified-id=\"Средняя-выручка-пользователи-из-Москвы-отличается-от-выручки-пользователей-из-других-регионов.-4.2\"><span class=\"toc-item-num\">4.2&nbsp;&nbsp;</span>Средняя выручка пользователи из Москвы отличается от выручки пользователей из других регионов.</a></span></li></ul></li><li><span><a href=\"#Общий-Вывод\" data-toc-modified-id=\"Общий-Вывод-5\"><span class=\"toc-item-num\">5&nbsp;&nbsp;</span>Общий Вывод</a></span></li></ul></div>"
   ]
  },
  {
   "cell_type": "markdown",
   "metadata": {},
   "source": [
    "# Определение перспективного тарифа для телеком-компании"
   ]
  },
  {
   "cell_type": "markdown",
   "metadata": {},
   "source": [
    "*Для анализа предоставлены пять выборок с данными о 500 пользователей двух тарифов «Мегалайна», «Смарт» и «Ультра», с информацией о звонках, смс и использованном трафике за 2018год.  \n",
    "Для корректировки рекламного бюджета,необходимо проанализировать поведение клиентов каждого из тарифов, просчитать сколько минут разговора, сколько сообщений и какой объём интернет-трафика требуется пользователям каждого тарифа в месяц.  \n",
    "На основании полученных данных сделать вывод - какой из тарифов выгоднее для компании «Мегалайн».  \n",
    "Проверить гипотезы: о средней выручке пользователей по тарифам, о средней выручке пользователей из Москвы и из других регионов.*"
   ]
  },
  {
   "cell_type": "markdown",
   "metadata": {},
   "source": [
    "## Шаг 1. Открыть файл с данными и изучить общую информацию"
   ]
  },
  {
   "cell_type": "code",
   "execution_count": 1,
   "metadata": {
    "ExecuteTime": {
     "end_time": "2022-05-22T15:19:03.364001Z",
     "start_time": "2022-05-22T15:19:01.782388Z"
    }
   },
   "outputs": [],
   "source": [
    "# импорт библиотек\n",
    "import pandas as pd\n",
    "import numpy as np\n",
    "import seaborn as sns\n",
    "import matplotlib.pyplot as plt\n",
    "\n",
    "# импорт модулей\n",
    "from scipy import stats as st\n",
    "from IPython.display import display_html\n",
    "from IPython.core.display import display, HTML"
   ]
  },
  {
   "cell_type": "code",
   "execution_count": 13,
   "metadata": {
    "ExecuteTime": {
     "end_time": "2022-05-22T15:27:28.187057Z",
     "start_time": "2022-05-22T15:27:27.887840Z"
    }
   },
   "outputs": [],
   "source": [
    "try:\n",
    "    calls = pd.read_csv('/datasets/calls.csv')\n",
    "    internet = pd.read_csv('/datasets/internet.csv')\n",
    "    messages = pd.read_csv('/datasets/messages.csv')\n",
    "    tariffs = pd.read_csv('/datasets/tariffs.csv')\n",
    "    users = pd.read_csv('/datasets/users.csv')\n",
    "    pd.set_option('display.max_columns', None)\n",
    "    pd.options.mode.chained_assignment = None\n",
    "except:\n",
    "    calls = pd.read_csv('calls.csv')\n",
    "    internet = pd.read_csv('internet.csv')\n",
    "    messages = pd.read_csv('messages.csv')\n",
    "    tariffs = pd.read_csv('tariffs.csv')\n",
    "    users = pd.read_csv('users.csv')\n",
    "    pd.set_option('display.max_columns', None)\n",
    "    pd.options.mode.chained_assignment = None"
   ]
  },
  {
   "cell_type": "code",
   "execution_count": 7,
   "metadata": {
    "ExecuteTime": {
     "end_time": "2022-05-22T15:24:20.895942Z",
     "start_time": "2022-05-22T15:24:20.885976Z"
    }
   },
   "outputs": [],
   "source": [
    "def info_row(df):\n",
    "    '''\n",
    "        Input: df - таблица pd.DataFrame.\n",
    "        Output: None.\n",
    "        Description: Функция первичного знакомства с данными.\n",
    "\n",
    "    '''\n",
    "    \n",
    "    display(df.head(10))\n",
    "    print('Общая информация:')\n",
    "    display(df.info())\n",
    "    print('Общая статистика:')\n",
    "    display(df.describe())\n",
    "    display(df.describe(include = ['object']))\n",
    "    print('Дубликаты:')\n",
    "    display(df.duplicated().sum())\n",
    "    print(f'{df.duplicated().sum()/len(df):.1%}')\n",
    "    print()\n",
    "    print('Дубликаты по столбцам типа \"object\":')\n",
    "    display(df[df.duplicated(subset=df.describe(include = ['object']).columns, keep=False)])\n",
    "    print('Пропуски:')\n",
    "    for col in df.columns:\n",
    "        pct_missing = np.mean(df[col].isna())\n",
    "        print('{} - {}%'.format(col, round(pct_missing*100,2)))\n",
    "    print()\n",
    "    print('Уникальные значения столбцов:')\n",
    "    for row in df.columns:\n",
    "        print('Уникальные значения столбца', row)\n",
    "        print(df[row].unique())\n",
    "    print()"
   ]
  },
  {
   "cell_type": "markdown",
   "metadata": {},
   "source": [
    "### Знакомимся с calls"
   ]
  },
  {
   "cell_type": "code",
   "execution_count": 8,
   "metadata": {
    "ExecuteTime": {
     "end_time": "2022-05-22T15:24:23.842565Z",
     "start_time": "2022-05-22T15:24:23.320542Z"
    }
   },
   "outputs": [
    {
     "data": {
      "text/html": [
       "<div>\n",
       "<style scoped>\n",
       "    .dataframe tbody tr th:only-of-type {\n",
       "        vertical-align: middle;\n",
       "    }\n",
       "\n",
       "    .dataframe tbody tr th {\n",
       "        vertical-align: top;\n",
       "    }\n",
       "\n",
       "    .dataframe thead th {\n",
       "        text-align: right;\n",
       "    }\n",
       "</style>\n",
       "<table border=\"1\" class=\"dataframe\">\n",
       "  <thead>\n",
       "    <tr style=\"text-align: right;\">\n",
       "      <th></th>\n",
       "      <th>id</th>\n",
       "      <th>call_date</th>\n",
       "      <th>duration</th>\n",
       "      <th>user_id</th>\n",
       "    </tr>\n",
       "  </thead>\n",
       "  <tbody>\n",
       "    <tr>\n",
       "      <th>0</th>\n",
       "      <td>1000_0</td>\n",
       "      <td>2018-07-25</td>\n",
       "      <td>0.00</td>\n",
       "      <td>1000</td>\n",
       "    </tr>\n",
       "    <tr>\n",
       "      <th>1</th>\n",
       "      <td>1000_1</td>\n",
       "      <td>2018-08-17</td>\n",
       "      <td>0.00</td>\n",
       "      <td>1000</td>\n",
       "    </tr>\n",
       "    <tr>\n",
       "      <th>2</th>\n",
       "      <td>1000_2</td>\n",
       "      <td>2018-06-11</td>\n",
       "      <td>2.85</td>\n",
       "      <td>1000</td>\n",
       "    </tr>\n",
       "    <tr>\n",
       "      <th>3</th>\n",
       "      <td>1000_3</td>\n",
       "      <td>2018-09-21</td>\n",
       "      <td>13.80</td>\n",
       "      <td>1000</td>\n",
       "    </tr>\n",
       "    <tr>\n",
       "      <th>4</th>\n",
       "      <td>1000_4</td>\n",
       "      <td>2018-12-15</td>\n",
       "      <td>5.18</td>\n",
       "      <td>1000</td>\n",
       "    </tr>\n",
       "    <tr>\n",
       "      <th>5</th>\n",
       "      <td>1000_5</td>\n",
       "      <td>2018-11-02</td>\n",
       "      <td>0.00</td>\n",
       "      <td>1000</td>\n",
       "    </tr>\n",
       "    <tr>\n",
       "      <th>6</th>\n",
       "      <td>1000_6</td>\n",
       "      <td>2018-10-18</td>\n",
       "      <td>0.00</td>\n",
       "      <td>1000</td>\n",
       "    </tr>\n",
       "    <tr>\n",
       "      <th>7</th>\n",
       "      <td>1000_7</td>\n",
       "      <td>2018-08-22</td>\n",
       "      <td>18.31</td>\n",
       "      <td>1000</td>\n",
       "    </tr>\n",
       "    <tr>\n",
       "      <th>8</th>\n",
       "      <td>1000_8</td>\n",
       "      <td>2018-09-15</td>\n",
       "      <td>18.44</td>\n",
       "      <td>1000</td>\n",
       "    </tr>\n",
       "    <tr>\n",
       "      <th>9</th>\n",
       "      <td>1000_9</td>\n",
       "      <td>2018-08-15</td>\n",
       "      <td>0.00</td>\n",
       "      <td>1000</td>\n",
       "    </tr>\n",
       "  </tbody>\n",
       "</table>\n",
       "</div>"
      ],
      "text/plain": [
       "       id   call_date  duration  user_id\n",
       "0  1000_0  2018-07-25      0.00     1000\n",
       "1  1000_1  2018-08-17      0.00     1000\n",
       "2  1000_2  2018-06-11      2.85     1000\n",
       "3  1000_3  2018-09-21     13.80     1000\n",
       "4  1000_4  2018-12-15      5.18     1000\n",
       "5  1000_5  2018-11-02      0.00     1000\n",
       "6  1000_6  2018-10-18      0.00     1000\n",
       "7  1000_7  2018-08-22     18.31     1000\n",
       "8  1000_8  2018-09-15     18.44     1000\n",
       "9  1000_9  2018-08-15      0.00     1000"
      ]
     },
     "metadata": {},
     "output_type": "display_data"
    },
    {
     "name": "stdout",
     "output_type": "stream",
     "text": [
      "Общая информация:\n",
      "<class 'pandas.core.frame.DataFrame'>\n",
      "RangeIndex: 202607 entries, 0 to 202606\n",
      "Data columns (total 4 columns):\n",
      " #   Column     Non-Null Count   Dtype  \n",
      "---  ------     --------------   -----  \n",
      " 0   id         202607 non-null  object \n",
      " 1   call_date  202607 non-null  object \n",
      " 2   duration   202607 non-null  float64\n",
      " 3   user_id    202607 non-null  int64  \n",
      "dtypes: float64(1), int64(1), object(2)\n",
      "memory usage: 6.2+ MB\n"
     ]
    },
    {
     "data": {
      "text/plain": [
       "None"
      ]
     },
     "metadata": {},
     "output_type": "display_data"
    },
    {
     "name": "stdout",
     "output_type": "stream",
     "text": [
      "Общая статистика:\n"
     ]
    },
    {
     "data": {
      "text/html": [
       "<div>\n",
       "<style scoped>\n",
       "    .dataframe tbody tr th:only-of-type {\n",
       "        vertical-align: middle;\n",
       "    }\n",
       "\n",
       "    .dataframe tbody tr th {\n",
       "        vertical-align: top;\n",
       "    }\n",
       "\n",
       "    .dataframe thead th {\n",
       "        text-align: right;\n",
       "    }\n",
       "</style>\n",
       "<table border=\"1\" class=\"dataframe\">\n",
       "  <thead>\n",
       "    <tr style=\"text-align: right;\">\n",
       "      <th></th>\n",
       "      <th>duration</th>\n",
       "      <th>user_id</th>\n",
       "    </tr>\n",
       "  </thead>\n",
       "  <tbody>\n",
       "    <tr>\n",
       "      <th>count</th>\n",
       "      <td>202607.000000</td>\n",
       "      <td>202607.000000</td>\n",
       "    </tr>\n",
       "    <tr>\n",
       "      <th>mean</th>\n",
       "      <td>6.755887</td>\n",
       "      <td>1253.940619</td>\n",
       "    </tr>\n",
       "    <tr>\n",
       "      <th>std</th>\n",
       "      <td>5.843365</td>\n",
       "      <td>144.722751</td>\n",
       "    </tr>\n",
       "    <tr>\n",
       "      <th>min</th>\n",
       "      <td>0.000000</td>\n",
       "      <td>1000.000000</td>\n",
       "    </tr>\n",
       "    <tr>\n",
       "      <th>25%</th>\n",
       "      <td>1.300000</td>\n",
       "      <td>1126.000000</td>\n",
       "    </tr>\n",
       "    <tr>\n",
       "      <th>50%</th>\n",
       "      <td>6.000000</td>\n",
       "      <td>1260.000000</td>\n",
       "    </tr>\n",
       "    <tr>\n",
       "      <th>75%</th>\n",
       "      <td>10.700000</td>\n",
       "      <td>1379.000000</td>\n",
       "    </tr>\n",
       "    <tr>\n",
       "      <th>max</th>\n",
       "      <td>38.000000</td>\n",
       "      <td>1499.000000</td>\n",
       "    </tr>\n",
       "  </tbody>\n",
       "</table>\n",
       "</div>"
      ],
      "text/plain": [
       "            duration        user_id\n",
       "count  202607.000000  202607.000000\n",
       "mean        6.755887    1253.940619\n",
       "std         5.843365     144.722751\n",
       "min         0.000000    1000.000000\n",
       "25%         1.300000    1126.000000\n",
       "50%         6.000000    1260.000000\n",
       "75%        10.700000    1379.000000\n",
       "max        38.000000    1499.000000"
      ]
     },
     "metadata": {},
     "output_type": "display_data"
    },
    {
     "data": {
      "text/html": [
       "<div>\n",
       "<style scoped>\n",
       "    .dataframe tbody tr th:only-of-type {\n",
       "        vertical-align: middle;\n",
       "    }\n",
       "\n",
       "    .dataframe tbody tr th {\n",
       "        vertical-align: top;\n",
       "    }\n",
       "\n",
       "    .dataframe thead th {\n",
       "        text-align: right;\n",
       "    }\n",
       "</style>\n",
       "<table border=\"1\" class=\"dataframe\">\n",
       "  <thead>\n",
       "    <tr style=\"text-align: right;\">\n",
       "      <th></th>\n",
       "      <th>id</th>\n",
       "      <th>call_date</th>\n",
       "    </tr>\n",
       "  </thead>\n",
       "  <tbody>\n",
       "    <tr>\n",
       "      <th>count</th>\n",
       "      <td>202607</td>\n",
       "      <td>202607</td>\n",
       "    </tr>\n",
       "    <tr>\n",
       "      <th>unique</th>\n",
       "      <td>202607</td>\n",
       "      <td>365</td>\n",
       "    </tr>\n",
       "    <tr>\n",
       "      <th>top</th>\n",
       "      <td>1000_0</td>\n",
       "      <td>2018-12-31</td>\n",
       "    </tr>\n",
       "    <tr>\n",
       "      <th>freq</th>\n",
       "      <td>1</td>\n",
       "      <td>1435</td>\n",
       "    </tr>\n",
       "  </tbody>\n",
       "</table>\n",
       "</div>"
      ],
      "text/plain": [
       "            id   call_date\n",
       "count   202607      202607\n",
       "unique  202607         365\n",
       "top     1000_0  2018-12-31\n",
       "freq         1        1435"
      ]
     },
     "metadata": {},
     "output_type": "display_data"
    },
    {
     "name": "stdout",
     "output_type": "stream",
     "text": [
      "Дубликаты:\n"
     ]
    },
    {
     "data": {
      "text/plain": [
       "0"
      ]
     },
     "metadata": {},
     "output_type": "display_data"
    },
    {
     "name": "stdout",
     "output_type": "stream",
     "text": [
      "0.0%\n",
      "\n",
      "Дубликаты по столбцам типа \"object\":\n"
     ]
    },
    {
     "data": {
      "text/html": [
       "<div>\n",
       "<style scoped>\n",
       "    .dataframe tbody tr th:only-of-type {\n",
       "        vertical-align: middle;\n",
       "    }\n",
       "\n",
       "    .dataframe tbody tr th {\n",
       "        vertical-align: top;\n",
       "    }\n",
       "\n",
       "    .dataframe thead th {\n",
       "        text-align: right;\n",
       "    }\n",
       "</style>\n",
       "<table border=\"1\" class=\"dataframe\">\n",
       "  <thead>\n",
       "    <tr style=\"text-align: right;\">\n",
       "      <th></th>\n",
       "      <th>id</th>\n",
       "      <th>call_date</th>\n",
       "      <th>duration</th>\n",
       "      <th>user_id</th>\n",
       "    </tr>\n",
       "  </thead>\n",
       "  <tbody>\n",
       "  </tbody>\n",
       "</table>\n",
       "</div>"
      ],
      "text/plain": [
       "Empty DataFrame\n",
       "Columns: [id, call_date, duration, user_id]\n",
       "Index: []"
      ]
     },
     "metadata": {},
     "output_type": "display_data"
    },
    {
     "name": "stdout",
     "output_type": "stream",
     "text": [
      "Пропуски:\n",
      "id - 0.0%\n",
      "call_date - 0.0%\n",
      "duration - 0.0%\n",
      "user_id - 0.0%\n",
      "\n",
      "Уникальные значения столбцов:\n",
      "Уникальные значения столбца id\n",
      "['1000_0' '1000_1' '1000_2' ... '1499_217' '1499_218' '1499_219']\n",
      "Уникальные значения столбца call_date\n",
      "['2018-07-25' '2018-08-17' '2018-06-11' '2018-09-21' '2018-12-15'\n",
      " '2018-11-02' '2018-10-18' '2018-08-22' '2018-09-15' '2018-08-15'\n",
      " '2018-05-28' '2018-07-05' '2018-09-29' '2018-12-11' '2018-07-27'\n",
      " '2018-08-11' '2018-08-02' '2018-06-15' '2018-12-04' '2018-08-20'\n",
      " '2018-09-25' '2018-07-21' '2018-08-27' '2018-08-25' '2018-12-12'\n",
      " '2018-07-19' '2018-11-14' '2018-12-26' '2018-12-02' '2018-10-08'\n",
      " '2018-09-23' '2018-10-09' '2018-05-25' '2018-06-13' '2018-10-25'\n",
      " '2018-12-29' '2018-07-12' '2018-11-20' '2018-06-05' '2018-10-13'\n",
      " '2018-06-26' '2018-07-14' '2018-07-20' '2018-12-01' '2018-06-17'\n",
      " '2018-10-24' '2018-11-26' '2018-09-19' '2018-05-30' '2018-12-21'\n",
      " '2018-12-23' '2018-07-03' '2018-10-04' '2018-09-16' '2018-11-21'\n",
      " '2018-10-28' '2018-08-29' '2018-08-13' '2018-07-18' '2018-06-03'\n",
      " '2018-09-03' '2018-08-14' '2018-11-01' '2018-05-26' '2018-11-23'\n",
      " '2018-09-30' '2018-11-09' '2018-08-01' '2018-06-18' '2018-10-20'\n",
      " '2018-11-07' '2018-08-04' '2018-09-06' '2018-10-27' '2018-10-15'\n",
      " '2018-10-26' '2018-11-18' '2018-07-30' '2018-10-06' '2018-12-17'\n",
      " '2018-08-24' '2018-09-28' '2018-07-06' '2018-06-02' '2018-09-02'\n",
      " '2018-12-10' '2018-11-03' '2018-07-28' '2018-09-27' '2018-12-24'\n",
      " '2018-07-29' '2018-12-18' '2018-10-16' '2018-10-07' '2018-11-12'\n",
      " '2018-07-23' '2018-08-26' '2018-09-07' '2018-09-14' '2018-07-15'\n",
      " '2018-09-17' '2018-09-09' '2018-10-02' '2018-07-02' '2018-10-21'\n",
      " '2018-07-10' '2018-09-10' '2018-07-11' '2018-09-20' '2018-11-04'\n",
      " '2018-12-05' '2018-06-22' '2018-07-04' '2018-08-09' '2018-12-25'\n",
      " '2018-06-12' '2018-12-22' '2018-07-17' '2018-09-18' '2018-10-14'\n",
      " '2018-11-15' '2018-06-19' '2018-06-07' '2018-11-25' '2018-12-07'\n",
      " '2018-05-31' '2018-06-27' '2018-12-03' '2018-06-28' '2018-09-13'\n",
      " '2018-11-19' '2018-09-11' '2018-06-21' '2018-11-27' '2018-08-10'\n",
      " '2018-08-07' '2018-09-24' '2018-10-01' '2018-06-20' '2018-10-19'\n",
      " '2018-07-26' '2018-09-12' '2018-11-24' '2018-12-09' '2018-06-10'\n",
      " '2018-06-14' '2018-06-24' '2018-11-11' '2018-11-05' '2018-06-29'\n",
      " '2018-09-05' '2018-08-23' '2018-08-19' '2018-08-03' '2018-06-25'\n",
      " '2018-05-27' '2018-07-07' '2018-11-16' '2018-09-08' '2018-10-11'\n",
      " '2018-05-29' '2018-12-19' '2018-08-30' '2018-07-24' '2018-10-03'\n",
      " '2018-12-08' '2018-06-08' '2018-10-05' '2018-11-28' '2018-10-29'\n",
      " '2018-12-27' '2018-11-29' '2018-10-30' '2018-11-08' '2018-07-08'\n",
      " '2018-06-23' '2018-12-06' '2018-12-13' '2018-11-13' '2018-12-14'\n",
      " '2018-12-30' '2018-11-22' '2018-12-28' '2018-12-20' '2018-11-10'\n",
      " '2018-11-30' '2018-12-16' '2018-11-17' '2018-12-31' '2018-08-18'\n",
      " '2018-07-09' '2018-07-16' '2018-08-05' '2018-08-06' '2018-10-31'\n",
      " '2018-09-04' '2018-07-31' '2018-11-06' '2018-10-17' '2018-10-22'\n",
      " '2018-09-26' '2018-10-23' '2018-09-22' '2018-09-01' '2018-08-28'\n",
      " '2018-08-08' '2018-08-12' '2018-07-01' '2018-07-22' '2018-08-31'\n",
      " '2018-10-12' '2018-10-10' '2018-08-21' '2018-08-16' '2018-06-30'\n",
      " '2018-05-14' '2018-05-18' '2018-05-24' '2018-07-13' '2018-06-06'\n",
      " '2018-05-19' '2018-05-23' '2018-05-17' '2018-03-21' '2018-04-09'\n",
      " '2018-05-13' '2018-04-05' '2018-04-12' '2018-01-28' '2018-03-06'\n",
      " '2018-04-23' '2018-03-15' '2018-03-04' '2018-03-09' '2018-02-27'\n",
      " '2018-03-27' '2018-06-16' '2018-03-12' '2018-04-21' '2018-05-09'\n",
      " '2018-03-11' '2018-04-14' '2018-03-07' '2018-01-27' '2018-02-18'\n",
      " '2018-03-01' '2018-02-24' '2018-05-10' '2018-03-08' '2018-02-23'\n",
      " '2018-03-03' '2018-04-22' '2018-02-09' '2018-01-31' '2018-02-19'\n",
      " '2018-03-13' '2018-03-30' '2018-05-08' '2018-04-17' '2018-04-18'\n",
      " '2018-01-29' '2018-04-19' '2018-04-02' '2018-05-05' '2018-04-10'\n",
      " '2018-03-19' '2018-04-06' '2018-04-24' '2018-03-10' '2018-05-22'\n",
      " '2018-03-16' '2018-02-12' '2018-05-01' '2018-02-13' '2018-01-26'\n",
      " '2018-02-01' '2018-02-02' '2018-04-26' '2018-02-10' '2018-04-04'\n",
      " '2018-06-09' '2018-03-18' '2018-03-31' '2018-04-01' '2018-02-20'\n",
      " '2018-02-03' '2018-02-07' '2018-04-16' '2018-02-04' '2018-05-21'\n",
      " '2018-05-02' '2018-04-08' '2018-06-04' '2018-03-20' '2018-02-17'\n",
      " '2018-03-23' '2018-05-04' '2018-05-11' '2018-03-22' '2018-05-03'\n",
      " '2018-02-08' '2018-02-06' '2018-02-15' '2018-05-20' '2018-03-26'\n",
      " '2018-03-28' '2018-03-24' '2018-04-15' '2018-04-30' '2018-02-25'\n",
      " '2018-04-25' '2018-03-25' '2018-05-15' '2018-03-29' '2018-02-22'\n",
      " '2018-04-28' '2018-04-03' '2018-03-17' '2018-04-13' '2018-03-05'\n",
      " '2018-04-11' '2018-01-30' '2018-05-07' '2018-06-01' '2018-02-11'\n",
      " '2018-05-16' '2018-02-16' '2018-04-27' '2018-01-25' '2018-05-06'\n",
      " '2018-02-21' '2018-04-29' '2018-04-07' '2018-02-28' '2018-02-14'\n",
      " '2018-03-02' '2018-03-14' '2018-02-26' '2018-04-20' '2018-05-12'\n",
      " '2018-01-05' '2018-01-13' '2018-01-18' '2018-01-12' '2018-01-20'\n",
      " '2018-01-24' '2018-01-21' '2018-01-22' '2018-01-15' '2018-01-16'\n",
      " '2018-02-05' '2018-01-10' '2018-01-11' '2018-01-08' '2018-01-14'\n",
      " '2018-01-19' '2018-01-04' '2018-01-09' '2018-01-07' '2018-01-02'\n",
      " '2018-01-06' '2018-01-17' '2018-01-03' '2018-01-23' '2018-01-01']\n",
      "Уникальные значения столбца duration\n",
      "[ 0.    2.85 13.8  ... 24.36 24.5  26.9 ]\n",
      "Уникальные значения столбца user_id\n",
      "[1000 1001 1002 1003 1004 1005 1006 1007 1008 1009 1010 1011 1012 1013\n",
      " 1014 1015 1016 1017 1018 1019 1020 1021 1022 1023 1024 1025 1026 1027\n",
      " 1028 1029 1030 1031 1032 1033 1034 1035 1036 1037 1038 1039 1040 1041\n",
      " 1042 1043 1044 1045 1046 1047 1048 1049 1050 1051 1052 1053 1054 1055\n",
      " 1056 1057 1058 1059 1060 1061 1062 1063 1064 1065 1066 1067 1068 1069\n",
      " 1070 1071 1072 1073 1074 1075 1076 1077 1078 1079 1080 1081 1082 1083\n",
      " 1084 1085 1086 1087 1088 1089 1090 1092 1093 1094 1095 1096 1097 1098\n",
      " 1099 1100 1101 1102 1103 1104 1105 1107 1108 1109 1110 1111 1112 1113\n",
      " 1114 1115 1116 1117 1118 1119 1120 1121 1122 1123 1124 1125 1126 1127\n",
      " 1129 1130 1131 1132 1133 1134 1135 1136 1137 1138 1139 1140 1141 1142\n",
      " 1143 1144 1145 1146 1147 1148 1149 1150 1151 1152 1153 1154 1155 1156\n",
      " 1157 1158 1159 1160 1161 1162 1163 1164 1165 1166 1167 1168 1169 1170\n",
      " 1171 1172 1173 1174 1175 1176 1177 1178 1179 1180 1181 1182 1183 1184\n",
      " 1185 1186 1187 1188 1189 1190 1191 1192 1193 1194 1195 1196 1197 1198\n",
      " 1199 1200 1201 1202 1203 1204 1205 1206 1207 1208 1209 1210 1211 1212\n",
      " 1213 1214 1215 1216 1217 1218 1219 1220 1221 1222 1223 1224 1225 1226\n",
      " 1227 1228 1229 1230 1232 1233 1234 1235 1236 1237 1238 1239 1240 1241\n",
      " 1242 1243 1244 1245 1246 1247 1248 1249 1250 1251 1252 1253 1254 1255\n",
      " 1256 1257 1258 1259 1260 1261 1262 1263 1264 1265 1266 1267 1268 1269\n",
      " 1270 1271 1272 1273 1274 1275 1276 1277 1278 1279 1280 1281 1282 1283\n",
      " 1284 1285 1286 1287 1288 1289 1290 1291 1292 1293 1294 1295 1296 1297\n",
      " 1298 1299 1300 1301 1302 1303 1304 1305 1306 1307 1308 1309 1310 1311\n",
      " 1312 1313 1314 1315 1316 1317 1318 1319 1320 1321 1322 1323 1324 1325\n",
      " 1326 1327 1329 1330 1331 1332 1333 1334 1335 1336 1337 1338 1339 1340\n",
      " 1341 1342 1343 1344 1345 1346 1347 1348 1349 1350 1351 1352 1353 1354\n",
      " 1355 1356 1357 1358 1359 1360 1361 1362 1363 1364 1365 1366 1367 1368\n",
      " 1369 1370 1372 1373 1374 1375 1376 1377 1378 1379 1380 1381 1382 1383\n",
      " 1384 1385 1386 1387 1388 1389 1390 1391 1392 1393 1394 1395 1396 1397\n",
      " 1398 1399 1400 1401 1402 1403 1404 1405 1406 1407 1408 1409 1410 1411\n",
      " 1412 1413 1414 1415 1416 1417 1418 1419 1420 1421 1422 1423 1424 1425\n",
      " 1426 1427 1428 1429 1430 1431 1432 1433 1434 1435 1436 1437 1438 1439\n",
      " 1440 1441 1442 1443 1444 1445 1446 1447 1448 1449 1450 1451 1452 1453\n",
      " 1454 1455 1456 1457 1458 1459 1460 1461 1462 1463 1464 1465 1466 1467\n",
      " 1468 1469 1470 1471 1472 1474 1475 1476 1477 1478 1479 1480 1481 1482\n",
      " 1483 1484 1485 1486 1487 1488 1490 1491 1492 1493 1494 1495 1496 1497\n",
      " 1498 1499]\n",
      "\n"
     ]
    }
   ],
   "source": [
    "info_row(calls)"
   ]
  },
  {
   "cell_type": "markdown",
   "metadata": {},
   "source": [
    "### Знакомимся с internet"
   ]
  },
  {
   "cell_type": "code",
   "execution_count": 9,
   "metadata": {
    "ExecuteTime": {
     "end_time": "2022-05-22T15:25:01.783801Z",
     "start_time": "2022-05-22T15:25:01.358716Z"
    }
   },
   "outputs": [
    {
     "data": {
      "text/html": [
       "<div>\n",
       "<style scoped>\n",
       "    .dataframe tbody tr th:only-of-type {\n",
       "        vertical-align: middle;\n",
       "    }\n",
       "\n",
       "    .dataframe tbody tr th {\n",
       "        vertical-align: top;\n",
       "    }\n",
       "\n",
       "    .dataframe thead th {\n",
       "        text-align: right;\n",
       "    }\n",
       "</style>\n",
       "<table border=\"1\" class=\"dataframe\">\n",
       "  <thead>\n",
       "    <tr style=\"text-align: right;\">\n",
       "      <th></th>\n",
       "      <th>Unnamed: 0</th>\n",
       "      <th>id</th>\n",
       "      <th>mb_used</th>\n",
       "      <th>session_date</th>\n",
       "      <th>user_id</th>\n",
       "    </tr>\n",
       "  </thead>\n",
       "  <tbody>\n",
       "    <tr>\n",
       "      <th>0</th>\n",
       "      <td>0</td>\n",
       "      <td>1000_0</td>\n",
       "      <td>112.95</td>\n",
       "      <td>2018-11-25</td>\n",
       "      <td>1000</td>\n",
       "    </tr>\n",
       "    <tr>\n",
       "      <th>1</th>\n",
       "      <td>1</td>\n",
       "      <td>1000_1</td>\n",
       "      <td>1052.81</td>\n",
       "      <td>2018-09-07</td>\n",
       "      <td>1000</td>\n",
       "    </tr>\n",
       "    <tr>\n",
       "      <th>2</th>\n",
       "      <td>2</td>\n",
       "      <td>1000_2</td>\n",
       "      <td>1197.26</td>\n",
       "      <td>2018-06-25</td>\n",
       "      <td>1000</td>\n",
       "    </tr>\n",
       "    <tr>\n",
       "      <th>3</th>\n",
       "      <td>3</td>\n",
       "      <td>1000_3</td>\n",
       "      <td>550.27</td>\n",
       "      <td>2018-08-22</td>\n",
       "      <td>1000</td>\n",
       "    </tr>\n",
       "    <tr>\n",
       "      <th>4</th>\n",
       "      <td>4</td>\n",
       "      <td>1000_4</td>\n",
       "      <td>302.56</td>\n",
       "      <td>2018-09-24</td>\n",
       "      <td>1000</td>\n",
       "    </tr>\n",
       "    <tr>\n",
       "      <th>5</th>\n",
       "      <td>5</td>\n",
       "      <td>1000_5</td>\n",
       "      <td>399.97</td>\n",
       "      <td>2018-10-02</td>\n",
       "      <td>1000</td>\n",
       "    </tr>\n",
       "    <tr>\n",
       "      <th>6</th>\n",
       "      <td>6</td>\n",
       "      <td>1000_6</td>\n",
       "      <td>540.08</td>\n",
       "      <td>2018-09-07</td>\n",
       "      <td>1000</td>\n",
       "    </tr>\n",
       "    <tr>\n",
       "      <th>7</th>\n",
       "      <td>7</td>\n",
       "      <td>1000_7</td>\n",
       "      <td>415.70</td>\n",
       "      <td>2018-07-11</td>\n",
       "      <td>1000</td>\n",
       "    </tr>\n",
       "    <tr>\n",
       "      <th>8</th>\n",
       "      <td>8</td>\n",
       "      <td>1000_8</td>\n",
       "      <td>505.40</td>\n",
       "      <td>2018-10-08</td>\n",
       "      <td>1000</td>\n",
       "    </tr>\n",
       "    <tr>\n",
       "      <th>9</th>\n",
       "      <td>9</td>\n",
       "      <td>1000_9</td>\n",
       "      <td>345.54</td>\n",
       "      <td>2018-09-03</td>\n",
       "      <td>1000</td>\n",
       "    </tr>\n",
       "  </tbody>\n",
       "</table>\n",
       "</div>"
      ],
      "text/plain": [
       "   Unnamed: 0      id  mb_used session_date  user_id\n",
       "0           0  1000_0   112.95   2018-11-25     1000\n",
       "1           1  1000_1  1052.81   2018-09-07     1000\n",
       "2           2  1000_2  1197.26   2018-06-25     1000\n",
       "3           3  1000_3   550.27   2018-08-22     1000\n",
       "4           4  1000_4   302.56   2018-09-24     1000\n",
       "5           5  1000_5   399.97   2018-10-02     1000\n",
       "6           6  1000_6   540.08   2018-09-07     1000\n",
       "7           7  1000_7   415.70   2018-07-11     1000\n",
       "8           8  1000_8   505.40   2018-10-08     1000\n",
       "9           9  1000_9   345.54   2018-09-03     1000"
      ]
     },
     "metadata": {},
     "output_type": "display_data"
    },
    {
     "name": "stdout",
     "output_type": "stream",
     "text": [
      "Общая информация:\n",
      "<class 'pandas.core.frame.DataFrame'>\n",
      "RangeIndex: 149396 entries, 0 to 149395\n",
      "Data columns (total 5 columns):\n",
      " #   Column        Non-Null Count   Dtype  \n",
      "---  ------        --------------   -----  \n",
      " 0   Unnamed: 0    149396 non-null  int64  \n",
      " 1   id            149396 non-null  object \n",
      " 2   mb_used       149396 non-null  float64\n",
      " 3   session_date  149396 non-null  object \n",
      " 4   user_id       149396 non-null  int64  \n",
      "dtypes: float64(1), int64(2), object(2)\n",
      "memory usage: 5.7+ MB\n"
     ]
    },
    {
     "data": {
      "text/plain": [
       "None"
      ]
     },
     "metadata": {},
     "output_type": "display_data"
    },
    {
     "name": "stdout",
     "output_type": "stream",
     "text": [
      "Общая статистика:\n"
     ]
    },
    {
     "data": {
      "text/html": [
       "<div>\n",
       "<style scoped>\n",
       "    .dataframe tbody tr th:only-of-type {\n",
       "        vertical-align: middle;\n",
       "    }\n",
       "\n",
       "    .dataframe tbody tr th {\n",
       "        vertical-align: top;\n",
       "    }\n",
       "\n",
       "    .dataframe thead th {\n",
       "        text-align: right;\n",
       "    }\n",
       "</style>\n",
       "<table border=\"1\" class=\"dataframe\">\n",
       "  <thead>\n",
       "    <tr style=\"text-align: right;\">\n",
       "      <th></th>\n",
       "      <th>Unnamed: 0</th>\n",
       "      <th>mb_used</th>\n",
       "      <th>user_id</th>\n",
       "    </tr>\n",
       "  </thead>\n",
       "  <tbody>\n",
       "    <tr>\n",
       "      <th>count</th>\n",
       "      <td>149396.000000</td>\n",
       "      <td>149396.000000</td>\n",
       "      <td>149396.000000</td>\n",
       "    </tr>\n",
       "    <tr>\n",
       "      <th>mean</th>\n",
       "      <td>74697.500000</td>\n",
       "      <td>370.192426</td>\n",
       "      <td>1252.099842</td>\n",
       "    </tr>\n",
       "    <tr>\n",
       "      <th>std</th>\n",
       "      <td>43127.054745</td>\n",
       "      <td>278.300951</td>\n",
       "      <td>144.050823</td>\n",
       "    </tr>\n",
       "    <tr>\n",
       "      <th>min</th>\n",
       "      <td>0.000000</td>\n",
       "      <td>0.000000</td>\n",
       "      <td>1000.000000</td>\n",
       "    </tr>\n",
       "    <tr>\n",
       "      <th>25%</th>\n",
       "      <td>37348.750000</td>\n",
       "      <td>138.187500</td>\n",
       "      <td>1130.000000</td>\n",
       "    </tr>\n",
       "    <tr>\n",
       "      <th>50%</th>\n",
       "      <td>74697.500000</td>\n",
       "      <td>348.015000</td>\n",
       "      <td>1251.000000</td>\n",
       "    </tr>\n",
       "    <tr>\n",
       "      <th>75%</th>\n",
       "      <td>112046.250000</td>\n",
       "      <td>559.552500</td>\n",
       "      <td>1380.000000</td>\n",
       "    </tr>\n",
       "    <tr>\n",
       "      <th>max</th>\n",
       "      <td>149395.000000</td>\n",
       "      <td>1724.830000</td>\n",
       "      <td>1499.000000</td>\n",
       "    </tr>\n",
       "  </tbody>\n",
       "</table>\n",
       "</div>"
      ],
      "text/plain": [
       "          Unnamed: 0        mb_used        user_id\n",
       "count  149396.000000  149396.000000  149396.000000\n",
       "mean    74697.500000     370.192426    1252.099842\n",
       "std     43127.054745     278.300951     144.050823\n",
       "min         0.000000       0.000000    1000.000000\n",
       "25%     37348.750000     138.187500    1130.000000\n",
       "50%     74697.500000     348.015000    1251.000000\n",
       "75%    112046.250000     559.552500    1380.000000\n",
       "max    149395.000000    1724.830000    1499.000000"
      ]
     },
     "metadata": {},
     "output_type": "display_data"
    },
    {
     "data": {
      "text/html": [
       "<div>\n",
       "<style scoped>\n",
       "    .dataframe tbody tr th:only-of-type {\n",
       "        vertical-align: middle;\n",
       "    }\n",
       "\n",
       "    .dataframe tbody tr th {\n",
       "        vertical-align: top;\n",
       "    }\n",
       "\n",
       "    .dataframe thead th {\n",
       "        text-align: right;\n",
       "    }\n",
       "</style>\n",
       "<table border=\"1\" class=\"dataframe\">\n",
       "  <thead>\n",
       "    <tr style=\"text-align: right;\">\n",
       "      <th></th>\n",
       "      <th>id</th>\n",
       "      <th>session_date</th>\n",
       "    </tr>\n",
       "  </thead>\n",
       "  <tbody>\n",
       "    <tr>\n",
       "      <th>count</th>\n",
       "      <td>149396</td>\n",
       "      <td>149396</td>\n",
       "    </tr>\n",
       "    <tr>\n",
       "      <th>unique</th>\n",
       "      <td>149396</td>\n",
       "      <td>365</td>\n",
       "    </tr>\n",
       "    <tr>\n",
       "      <th>top</th>\n",
       "      <td>1000_0</td>\n",
       "      <td>2018-12-31</td>\n",
       "    </tr>\n",
       "    <tr>\n",
       "      <th>freq</th>\n",
       "      <td>1</td>\n",
       "      <td>1057</td>\n",
       "    </tr>\n",
       "  </tbody>\n",
       "</table>\n",
       "</div>"
      ],
      "text/plain": [
       "            id session_date\n",
       "count   149396       149396\n",
       "unique  149396          365\n",
       "top     1000_0   2018-12-31\n",
       "freq         1         1057"
      ]
     },
     "metadata": {},
     "output_type": "display_data"
    },
    {
     "name": "stdout",
     "output_type": "stream",
     "text": [
      "Дубликаты:\n"
     ]
    },
    {
     "data": {
      "text/plain": [
       "0"
      ]
     },
     "metadata": {},
     "output_type": "display_data"
    },
    {
     "name": "stdout",
     "output_type": "stream",
     "text": [
      "0.0%\n",
      "\n",
      "Дубликаты по столбцам типа \"object\":\n"
     ]
    },
    {
     "data": {
      "text/html": [
       "<div>\n",
       "<style scoped>\n",
       "    .dataframe tbody tr th:only-of-type {\n",
       "        vertical-align: middle;\n",
       "    }\n",
       "\n",
       "    .dataframe tbody tr th {\n",
       "        vertical-align: top;\n",
       "    }\n",
       "\n",
       "    .dataframe thead th {\n",
       "        text-align: right;\n",
       "    }\n",
       "</style>\n",
       "<table border=\"1\" class=\"dataframe\">\n",
       "  <thead>\n",
       "    <tr style=\"text-align: right;\">\n",
       "      <th></th>\n",
       "      <th>Unnamed: 0</th>\n",
       "      <th>id</th>\n",
       "      <th>mb_used</th>\n",
       "      <th>session_date</th>\n",
       "      <th>user_id</th>\n",
       "    </tr>\n",
       "  </thead>\n",
       "  <tbody>\n",
       "  </tbody>\n",
       "</table>\n",
       "</div>"
      ],
      "text/plain": [
       "Empty DataFrame\n",
       "Columns: [Unnamed: 0, id, mb_used, session_date, user_id]\n",
       "Index: []"
      ]
     },
     "metadata": {},
     "output_type": "display_data"
    },
    {
     "name": "stdout",
     "output_type": "stream",
     "text": [
      "Пропуски:\n",
      "Unnamed: 0 - 0.0%\n",
      "id - 0.0%\n",
      "mb_used - 0.0%\n",
      "session_date - 0.0%\n",
      "user_id - 0.0%\n",
      "\n",
      "Уникальные значения столбцов:\n",
      "Уникальные значения столбца Unnamed: 0\n",
      "[     0      1      2 ... 149393 149394 149395]\n",
      "Уникальные значения столбца id\n",
      "['1000_0' '1000_1' '1000_2' ... '1499_154' '1499_155' '1499_156']\n",
      "Уникальные значения столбца mb_used\n",
      "[ 112.95 1052.81 1197.26 ...  460.75  247.59   23.72]\n",
      "Уникальные значения столбца session_date\n",
      "['2018-11-25' '2018-09-07' '2018-06-25' '2018-08-22' '2018-09-24'\n",
      " '2018-10-02' '2018-07-11' '2018-10-08' '2018-09-03' '2018-09-27'\n",
      " '2018-08-28' '2018-06-20' '2018-08-09' '2018-08-11' '2018-07-21'\n",
      " '2018-06-09' '2018-06-03' '2018-11-01' '2018-11-28' '2018-08-20'\n",
      " '2018-12-06' '2018-07-02' '2018-10-19' '2018-10-30' '2018-06-17'\n",
      " '2018-11-06' '2018-09-14' '2018-11-15' '2018-08-26' '2018-10-15'\n",
      " '2018-11-27' '2018-10-17' '2018-10-07' '2018-08-05' '2018-07-06'\n",
      " '2018-10-03' '2018-11-02' '2018-06-30' '2018-11-17' '2018-06-06'\n",
      " '2018-11-20' '2018-05-31' '2018-10-29' '2018-12-10' '2018-07-04'\n",
      " '2018-12-28' '2018-05-28' '2018-09-15' '2018-09-09' '2018-09-17'\n",
      " '2018-09-01' '2018-11-03' '2018-11-04' '2018-06-16' '2018-12-07'\n",
      " '2018-08-25' '2018-06-15' '2018-06-26' '2018-10-06' '2018-12-01'\n",
      " '2018-10-14' '2018-06-07' '2018-12-15' '2018-10-04' '2018-08-13'\n",
      " '2018-07-10' '2018-07-07' '2018-08-17' '2018-06-28' '2018-08-07'\n",
      " '2018-06-29' '2018-07-13' '2018-07-27' '2018-11-30' '2018-07-26'\n",
      " '2018-05-26' '2018-11-16' '2018-11-13' '2018-11-11' '2018-12-18'\n",
      " '2018-06-18' '2018-12-02' '2018-06-14' '2018-12-25' '2018-06-24'\n",
      " '2018-12-05' '2018-06-10' '2018-10-16' '2018-10-21' '2018-07-09'\n",
      " '2018-07-17' '2018-08-04' '2018-06-01' '2018-06-13' '2018-06-27'\n",
      " '2018-11-14' '2018-06-19' '2018-12-29' '2018-07-08' '2018-11-23'\n",
      " '2018-07-25' '2018-06-21' '2018-07-23' '2018-08-31' '2018-09-08'\n",
      " '2018-07-14' '2018-07-29' '2018-06-05' '2018-12-21' '2018-12-24'\n",
      " '2018-09-19' '2018-12-19' '2018-09-06' '2018-10-13' '2018-09-04'\n",
      " '2018-09-30' '2018-07-28' '2018-10-22' '2018-08-02' '2018-11-07'\n",
      " '2018-11-08' '2018-08-21' '2018-08-30' '2018-07-31' '2018-12-30'\n",
      " '2018-06-08' '2018-12-03' '2018-09-16' '2018-09-26' '2018-08-27'\n",
      " '2018-06-23' '2018-08-14' '2018-12-16' '2018-11-22' '2018-11-18'\n",
      " '2018-12-08' '2018-11-29' '2018-12-13' '2018-12-26' '2018-11-26'\n",
      " '2018-12-09' '2018-11-09' '2018-12-04' '2018-11-19' '2018-11-12'\n",
      " '2018-12-20' '2018-11-21' '2018-12-22' '2018-12-23' '2018-08-24'\n",
      " '2018-12-17' '2018-10-23' '2018-09-12' '2018-10-25' '2018-09-10'\n",
      " '2018-12-27' '2018-09-11' '2018-09-20' '2018-08-06' '2018-11-24'\n",
      " '2018-07-15' '2018-12-31' '2018-07-18' '2018-07-30' '2018-12-11'\n",
      " '2018-10-24' '2018-08-29' '2018-06-22' '2018-07-24' '2018-09-05'\n",
      " '2018-08-01' '2018-07-22' '2018-10-01' '2018-09-23' '2018-09-13'\n",
      " '2018-08-23' '2018-07-03' '2018-11-10' '2018-08-12' '2018-09-22'\n",
      " '2018-07-20' '2018-10-09' '2018-07-12' '2018-10-20' '2018-10-11'\n",
      " '2018-10-05' '2018-08-08' '2018-09-29' '2018-08-15' '2018-09-21'\n",
      " '2018-07-16' '2018-09-25' '2018-08-03' '2018-10-26' '2018-09-02'\n",
      " '2018-09-28' '2018-10-18' '2018-10-27' '2018-07-01' '2018-12-12'\n",
      " '2018-12-14' '2018-08-10' '2018-08-16' '2018-08-18' '2018-10-31'\n",
      " '2018-10-28' '2018-10-10' '2018-10-12' '2018-06-11' '2018-05-27'\n",
      " '2018-06-02' '2018-08-19' '2018-05-18' '2018-05-15' '2018-05-16'\n",
      " '2018-05-14' '2018-06-12' '2018-09-18' '2018-05-20' '2018-05-19'\n",
      " '2018-06-04' '2018-05-23' '2018-05-30' '2018-05-21' '2018-07-05'\n",
      " '2018-05-22' '2018-07-19' '2018-02-09' '2018-03-10' '2018-04-12'\n",
      " '2018-03-30' '2018-03-15' '2018-01-28' '2018-04-03' '2018-03-09'\n",
      " '2018-03-06' '2018-02-24' '2018-04-26' '2018-03-05' '2018-05-12'\n",
      " '2018-04-21' '2018-04-24' '2018-03-02' '2018-02-16' '2018-05-03'\n",
      " '2018-03-07' '2018-02-20' '2018-03-19' '2018-01-30' '2018-05-09'\n",
      " '2018-02-07' '2018-03-12' '2018-11-05' '2018-04-01' '2018-04-07'\n",
      " '2018-01-29' '2018-03-16' '2018-03-14' '2018-02-01' '2018-04-29'\n",
      " '2018-02-02' '2018-04-30' '2018-03-17' '2018-04-17' '2018-05-29'\n",
      " '2018-02-27' '2018-03-26' '2018-04-08' '2018-04-02' '2018-02-18'\n",
      " '2018-01-27' '2018-05-01' '2018-02-11' '2018-04-19' '2018-04-25'\n",
      " '2018-02-13' '2018-02-21' '2018-02-04' '2018-03-28' '2018-03-21'\n",
      " '2018-04-11' '2018-03-31' '2018-05-07' '2018-02-17' '2018-03-04'\n",
      " '2018-02-12' '2018-02-14' '2018-05-10' '2018-03-23' '2018-03-22'\n",
      " '2018-04-09' '2018-05-25' '2018-04-22' '2018-04-05' '2018-04-23'\n",
      " '2018-04-14' '2018-04-13' '2018-05-04' '2018-04-20' '2018-03-13'\n",
      " '2018-04-28' '2018-05-08' '2018-03-27' '2018-03-01' '2018-05-02'\n",
      " '2018-04-18' '2018-02-26' '2018-05-24' '2018-04-16' '2018-05-13'\n",
      " '2018-05-06' '2018-03-18' '2018-03-24' '2018-02-28' '2018-04-15'\n",
      " '2018-05-11' '2018-04-06' '2018-03-25' '2018-05-17' '2018-05-05'\n",
      " '2018-04-04' '2018-03-03' '2018-04-27' '2018-03-29' '2018-04-10'\n",
      " '2018-03-20' '2018-01-13' '2018-01-19' '2018-01-23' '2018-01-20'\n",
      " '2018-01-12' '2018-02-23' '2018-01-05' '2018-01-21' '2018-01-31'\n",
      " '2018-01-10' '2018-02-10' '2018-01-15' '2018-01-09' '2018-03-08'\n",
      " '2018-01-18' '2018-02-19' '2018-02-25' '2018-03-11' '2018-01-25'\n",
      " '2018-02-08' '2018-01-22' '2018-02-06' '2018-02-05' '2018-01-06'\n",
      " '2018-01-08' '2018-01-17' '2018-01-11' '2018-01-04' '2018-01-24'\n",
      " '2018-01-26' '2018-01-16' '2018-02-15' '2018-02-22' '2018-02-03'\n",
      " '2018-01-03' '2018-01-14' '2018-01-02' '2018-01-07' '2018-01-01']\n",
      "Уникальные значения столбца user_id\n",
      "[1000 1001 1002 1003 1004 1005 1006 1007 1008 1009 1010 1011 1012 1013\n",
      " 1014 1015 1016 1017 1018 1019 1020 1021 1022 1023 1024 1025 1026 1027\n",
      " 1028 1029 1030 1031 1032 1033 1034 1035 1036 1037 1038 1039 1040 1041\n",
      " 1042 1043 1044 1045 1046 1047 1048 1049 1050 1051 1052 1053 1054 1055\n",
      " 1056 1057 1058 1059 1060 1061 1062 1063 1064 1065 1066 1067 1068 1069\n",
      " 1070 1071 1072 1073 1074 1075 1076 1077 1078 1079 1080 1081 1082 1083\n",
      " 1084 1085 1086 1087 1088 1089 1090 1091 1092 1093 1094 1095 1096 1097\n",
      " 1098 1099 1100 1101 1102 1103 1104 1105 1106 1107 1108 1109 1110 1111\n",
      " 1112 1113 1114 1115 1116 1117 1118 1119 1120 1121 1122 1123 1124 1125\n",
      " 1126 1127 1129 1130 1131 1132 1133 1134 1135 1136 1137 1138 1139 1140\n",
      " 1141 1142 1143 1144 1145 1146 1147 1148 1149 1150 1151 1152 1153 1154\n",
      " 1155 1156 1157 1158 1159 1160 1161 1162 1163 1164 1165 1166 1167 1168\n",
      " 1169 1170 1171 1172 1173 1174 1175 1176 1177 1178 1179 1180 1181 1182\n",
      " 1183 1184 1185 1186 1187 1188 1189 1190 1191 1192 1193 1194 1195 1196\n",
      " 1197 1198 1199 1200 1201 1202 1203 1204 1205 1206 1207 1208 1209 1210\n",
      " 1211 1212 1213 1214 1215 1216 1217 1218 1219 1220 1221 1222 1223 1224\n",
      " 1225 1226 1227 1228 1229 1230 1231 1232 1233 1234 1235 1236 1237 1238\n",
      " 1239 1240 1241 1242 1243 1244 1245 1246 1247 1248 1249 1250 1251 1252\n",
      " 1253 1254 1255 1256 1257 1258 1259 1260 1261 1262 1263 1264 1265 1266\n",
      " 1267 1268 1269 1270 1271 1272 1274 1275 1276 1277 1278 1279 1280 1281\n",
      " 1282 1283 1284 1285 1286 1287 1288 1289 1290 1291 1292 1293 1294 1295\n",
      " 1296 1297 1298 1299 1300 1301 1302 1303 1304 1305 1306 1307 1308 1309\n",
      " 1310 1311 1312 1313 1314 1315 1316 1317 1318 1319 1320 1321 1322 1323\n",
      " 1324 1325 1326 1327 1328 1329 1330 1331 1332 1333 1334 1335 1336 1337\n",
      " 1338 1339 1340 1341 1342 1343 1344 1345 1346 1347 1348 1349 1350 1351\n",
      " 1352 1353 1354 1355 1356 1357 1358 1359 1360 1361 1362 1363 1364 1365\n",
      " 1366 1367 1368 1369 1370 1372 1373 1374 1375 1376 1377 1378 1379 1380\n",
      " 1381 1382 1383 1384 1385 1386 1387 1388 1389 1390 1391 1392 1393 1394\n",
      " 1395 1396 1397 1398 1399 1400 1401 1402 1403 1404 1405 1406 1407 1408\n",
      " 1409 1410 1411 1412 1413 1414 1415 1416 1417 1418 1419 1420 1421 1422\n",
      " 1423 1424 1425 1426 1427 1428 1429 1430 1431 1432 1433 1434 1435 1436\n",
      " 1437 1438 1439 1440 1441 1442 1443 1444 1445 1446 1447 1448 1449 1450\n",
      " 1451 1452 1453 1454 1455 1456 1457 1458 1459 1460 1461 1462 1463 1464\n",
      " 1465 1466 1467 1468 1469 1470 1471 1472 1473 1474 1475 1476 1477 1478\n",
      " 1479 1480 1481 1482 1483 1484 1485 1486 1487 1488 1489 1490 1491 1492\n",
      " 1493 1494 1495 1496 1497 1498 1499]\n",
      "\n"
     ]
    }
   ],
   "source": [
    "info_row(internet)"
   ]
  },
  {
   "cell_type": "markdown",
   "metadata": {},
   "source": [
    "### Знакомимся с messages"
   ]
  },
  {
   "cell_type": "code",
   "execution_count": 10,
   "metadata": {
    "ExecuteTime": {
     "end_time": "2022-05-22T15:25:28.554677Z",
     "start_time": "2022-05-22T15:25:28.246577Z"
    }
   },
   "outputs": [
    {
     "data": {
      "text/html": [
       "<div>\n",
       "<style scoped>\n",
       "    .dataframe tbody tr th:only-of-type {\n",
       "        vertical-align: middle;\n",
       "    }\n",
       "\n",
       "    .dataframe tbody tr th {\n",
       "        vertical-align: top;\n",
       "    }\n",
       "\n",
       "    .dataframe thead th {\n",
       "        text-align: right;\n",
       "    }\n",
       "</style>\n",
       "<table border=\"1\" class=\"dataframe\">\n",
       "  <thead>\n",
       "    <tr style=\"text-align: right;\">\n",
       "      <th></th>\n",
       "      <th>id</th>\n",
       "      <th>message_date</th>\n",
       "      <th>user_id</th>\n",
       "    </tr>\n",
       "  </thead>\n",
       "  <tbody>\n",
       "    <tr>\n",
       "      <th>0</th>\n",
       "      <td>1000_0</td>\n",
       "      <td>2018-06-27</td>\n",
       "      <td>1000</td>\n",
       "    </tr>\n",
       "    <tr>\n",
       "      <th>1</th>\n",
       "      <td>1000_1</td>\n",
       "      <td>2018-10-08</td>\n",
       "      <td>1000</td>\n",
       "    </tr>\n",
       "    <tr>\n",
       "      <th>2</th>\n",
       "      <td>1000_2</td>\n",
       "      <td>2018-08-04</td>\n",
       "      <td>1000</td>\n",
       "    </tr>\n",
       "    <tr>\n",
       "      <th>3</th>\n",
       "      <td>1000_3</td>\n",
       "      <td>2018-06-16</td>\n",
       "      <td>1000</td>\n",
       "    </tr>\n",
       "    <tr>\n",
       "      <th>4</th>\n",
       "      <td>1000_4</td>\n",
       "      <td>2018-12-05</td>\n",
       "      <td>1000</td>\n",
       "    </tr>\n",
       "    <tr>\n",
       "      <th>5</th>\n",
       "      <td>1000_5</td>\n",
       "      <td>2018-06-20</td>\n",
       "      <td>1000</td>\n",
       "    </tr>\n",
       "    <tr>\n",
       "      <th>6</th>\n",
       "      <td>1000_6</td>\n",
       "      <td>2018-11-19</td>\n",
       "      <td>1000</td>\n",
       "    </tr>\n",
       "    <tr>\n",
       "      <th>7</th>\n",
       "      <td>1000_7</td>\n",
       "      <td>2018-10-29</td>\n",
       "      <td>1000</td>\n",
       "    </tr>\n",
       "    <tr>\n",
       "      <th>8</th>\n",
       "      <td>1000_8</td>\n",
       "      <td>2018-06-25</td>\n",
       "      <td>1000</td>\n",
       "    </tr>\n",
       "    <tr>\n",
       "      <th>9</th>\n",
       "      <td>1000_9</td>\n",
       "      <td>2018-12-18</td>\n",
       "      <td>1000</td>\n",
       "    </tr>\n",
       "  </tbody>\n",
       "</table>\n",
       "</div>"
      ],
      "text/plain": [
       "       id message_date  user_id\n",
       "0  1000_0   2018-06-27     1000\n",
       "1  1000_1   2018-10-08     1000\n",
       "2  1000_2   2018-08-04     1000\n",
       "3  1000_3   2018-06-16     1000\n",
       "4  1000_4   2018-12-05     1000\n",
       "5  1000_5   2018-06-20     1000\n",
       "6  1000_6   2018-11-19     1000\n",
       "7  1000_7   2018-10-29     1000\n",
       "8  1000_8   2018-06-25     1000\n",
       "9  1000_9   2018-12-18     1000"
      ]
     },
     "metadata": {},
     "output_type": "display_data"
    },
    {
     "name": "stdout",
     "output_type": "stream",
     "text": [
      "Общая информация:\n",
      "<class 'pandas.core.frame.DataFrame'>\n",
      "RangeIndex: 123036 entries, 0 to 123035\n",
      "Data columns (total 3 columns):\n",
      " #   Column        Non-Null Count   Dtype \n",
      "---  ------        --------------   ----- \n",
      " 0   id            123036 non-null  object\n",
      " 1   message_date  123036 non-null  object\n",
      " 2   user_id       123036 non-null  int64 \n",
      "dtypes: int64(1), object(2)\n",
      "memory usage: 2.8+ MB\n"
     ]
    },
    {
     "data": {
      "text/plain": [
       "None"
      ]
     },
     "metadata": {},
     "output_type": "display_data"
    },
    {
     "name": "stdout",
     "output_type": "stream",
     "text": [
      "Общая статистика:\n"
     ]
    },
    {
     "data": {
      "text/html": [
       "<div>\n",
       "<style scoped>\n",
       "    .dataframe tbody tr th:only-of-type {\n",
       "        vertical-align: middle;\n",
       "    }\n",
       "\n",
       "    .dataframe tbody tr th {\n",
       "        vertical-align: top;\n",
       "    }\n",
       "\n",
       "    .dataframe thead th {\n",
       "        text-align: right;\n",
       "    }\n",
       "</style>\n",
       "<table border=\"1\" class=\"dataframe\">\n",
       "  <thead>\n",
       "    <tr style=\"text-align: right;\">\n",
       "      <th></th>\n",
       "      <th>user_id</th>\n",
       "    </tr>\n",
       "  </thead>\n",
       "  <tbody>\n",
       "    <tr>\n",
       "      <th>count</th>\n",
       "      <td>123036.000000</td>\n",
       "    </tr>\n",
       "    <tr>\n",
       "      <th>mean</th>\n",
       "      <td>1256.989410</td>\n",
       "    </tr>\n",
       "    <tr>\n",
       "      <th>std</th>\n",
       "      <td>143.523967</td>\n",
       "    </tr>\n",
       "    <tr>\n",
       "      <th>min</th>\n",
       "      <td>1000.000000</td>\n",
       "    </tr>\n",
       "    <tr>\n",
       "      <th>25%</th>\n",
       "      <td>1134.000000</td>\n",
       "    </tr>\n",
       "    <tr>\n",
       "      <th>50%</th>\n",
       "      <td>1271.000000</td>\n",
       "    </tr>\n",
       "    <tr>\n",
       "      <th>75%</th>\n",
       "      <td>1381.000000</td>\n",
       "    </tr>\n",
       "    <tr>\n",
       "      <th>max</th>\n",
       "      <td>1499.000000</td>\n",
       "    </tr>\n",
       "  </tbody>\n",
       "</table>\n",
       "</div>"
      ],
      "text/plain": [
       "             user_id\n",
       "count  123036.000000\n",
       "mean     1256.989410\n",
       "std       143.523967\n",
       "min      1000.000000\n",
       "25%      1134.000000\n",
       "50%      1271.000000\n",
       "75%      1381.000000\n",
       "max      1499.000000"
      ]
     },
     "metadata": {},
     "output_type": "display_data"
    },
    {
     "data": {
      "text/html": [
       "<div>\n",
       "<style scoped>\n",
       "    .dataframe tbody tr th:only-of-type {\n",
       "        vertical-align: middle;\n",
       "    }\n",
       "\n",
       "    .dataframe tbody tr th {\n",
       "        vertical-align: top;\n",
       "    }\n",
       "\n",
       "    .dataframe thead th {\n",
       "        text-align: right;\n",
       "    }\n",
       "</style>\n",
       "<table border=\"1\" class=\"dataframe\">\n",
       "  <thead>\n",
       "    <tr style=\"text-align: right;\">\n",
       "      <th></th>\n",
       "      <th>id</th>\n",
       "      <th>message_date</th>\n",
       "    </tr>\n",
       "  </thead>\n",
       "  <tbody>\n",
       "    <tr>\n",
       "      <th>count</th>\n",
       "      <td>123036</td>\n",
       "      <td>123036</td>\n",
       "    </tr>\n",
       "    <tr>\n",
       "      <th>unique</th>\n",
       "      <td>123036</td>\n",
       "      <td>364</td>\n",
       "    </tr>\n",
       "    <tr>\n",
       "      <th>top</th>\n",
       "      <td>1000_0</td>\n",
       "      <td>2018-12-31</td>\n",
       "    </tr>\n",
       "    <tr>\n",
       "      <th>freq</th>\n",
       "      <td>1</td>\n",
       "      <td>859</td>\n",
       "    </tr>\n",
       "  </tbody>\n",
       "</table>\n",
       "</div>"
      ],
      "text/plain": [
       "            id message_date\n",
       "count   123036       123036\n",
       "unique  123036          364\n",
       "top     1000_0   2018-12-31\n",
       "freq         1          859"
      ]
     },
     "metadata": {},
     "output_type": "display_data"
    },
    {
     "name": "stdout",
     "output_type": "stream",
     "text": [
      "Дубликаты:\n"
     ]
    },
    {
     "data": {
      "text/plain": [
       "0"
      ]
     },
     "metadata": {},
     "output_type": "display_data"
    },
    {
     "name": "stdout",
     "output_type": "stream",
     "text": [
      "0.0%\n",
      "\n",
      "Дубликаты по столбцам типа \"object\":\n"
     ]
    },
    {
     "data": {
      "text/html": [
       "<div>\n",
       "<style scoped>\n",
       "    .dataframe tbody tr th:only-of-type {\n",
       "        vertical-align: middle;\n",
       "    }\n",
       "\n",
       "    .dataframe tbody tr th {\n",
       "        vertical-align: top;\n",
       "    }\n",
       "\n",
       "    .dataframe thead th {\n",
       "        text-align: right;\n",
       "    }\n",
       "</style>\n",
       "<table border=\"1\" class=\"dataframe\">\n",
       "  <thead>\n",
       "    <tr style=\"text-align: right;\">\n",
       "      <th></th>\n",
       "      <th>id</th>\n",
       "      <th>message_date</th>\n",
       "      <th>user_id</th>\n",
       "    </tr>\n",
       "  </thead>\n",
       "  <tbody>\n",
       "  </tbody>\n",
       "</table>\n",
       "</div>"
      ],
      "text/plain": [
       "Empty DataFrame\n",
       "Columns: [id, message_date, user_id]\n",
       "Index: []"
      ]
     },
     "metadata": {},
     "output_type": "display_data"
    },
    {
     "name": "stdout",
     "output_type": "stream",
     "text": [
      "Пропуски:\n",
      "id - 0.0%\n",
      "message_date - 0.0%\n",
      "user_id - 0.0%\n",
      "\n",
      "Уникальные значения столбцов:\n",
      "Уникальные значения столбца id\n",
      "['1000_0' '1000_1' '1000_2' ... '1499_181' '1499_182' '1499_183']\n",
      "Уникальные значения столбца message_date\n",
      "['2018-06-27' '2018-10-08' '2018-08-04' '2018-06-16' '2018-12-05'\n",
      " '2018-06-20' '2018-11-19' '2018-10-29' '2018-06-25' '2018-12-18'\n",
      " '2018-05-30' '2018-07-06' '2018-08-20' '2018-10-30' '2018-09-14'\n",
      " '2018-08-28' '2018-06-29' '2018-07-07' '2018-05-29' '2018-05-28'\n",
      " '2018-08-15' '2018-07-29' '2018-12-07' '2018-12-25' '2018-10-31'\n",
      " '2018-07-30' '2018-11-05' '2018-12-15' '2018-12-04' '2018-06-30'\n",
      " '2018-12-22' '2018-10-02' '2018-08-29' '2018-09-09' '2018-07-19'\n",
      " '2018-09-04' '2018-07-15' '2018-10-25' '2018-12-08' '2018-06-01'\n",
      " '2018-06-12' '2018-12-21' '2018-10-07' '2018-08-30' '2018-06-04'\n",
      " '2018-10-01' '2018-06-22' '2018-10-12' '2018-10-15' '2018-10-24'\n",
      " '2018-09-20' '2018-08-22' '2018-09-17' '2018-08-27' '2018-07-26'\n",
      " '2018-06-05' '2018-11-16' '2018-09-06' '2018-11-26' '2018-11-18'\n",
      " '2018-09-21' '2018-07-11' '2018-07-16' '2018-11-08' '2018-07-25'\n",
      " '2018-09-13' '2018-08-13' '2018-12-31' '2018-06-10' '2018-06-28'\n",
      " '2018-09-18' '2018-10-11' '2018-12-12' '2018-07-12' '2018-09-01'\n",
      " '2018-07-23' '2018-09-22' '2018-08-17' '2018-09-29' '2018-07-22'\n",
      " '2018-06-18' '2018-06-14' '2018-12-10' '2018-11-29' '2018-11-21'\n",
      " '2018-12-28' '2018-11-30' '2018-08-31' '2018-06-26' '2018-07-21'\n",
      " '2018-11-15' '2018-10-06' '2018-06-13' '2018-12-29' '2018-11-10'\n",
      " '2018-08-24' '2018-11-07' '2018-09-19' '2018-08-10' '2018-07-08'\n",
      " '2018-05-25' '2018-08-21' '2018-07-28' '2018-07-31' '2018-11-03'\n",
      " '2018-11-04' '2018-10-26' '2018-07-01' '2018-09-23' '2018-08-25'\n",
      " '2018-07-18' '2018-11-02' '2018-05-27' '2018-12-03' '2018-11-23'\n",
      " '2018-10-05' '2018-11-12' '2018-07-10' '2018-06-24' '2018-10-17'\n",
      " '2018-11-22' '2018-11-09' '2018-11-24' '2018-10-23' '2018-10-19'\n",
      " '2018-09-30' '2018-06-09' '2018-12-06' '2018-12-11' '2018-12-01'\n",
      " '2018-12-19' '2018-09-02' '2018-10-22' '2018-08-03' '2018-11-06'\n",
      " '2018-12-26' '2018-09-24' '2018-09-07' '2018-08-12' '2018-10-20'\n",
      " '2018-12-27' '2018-12-23' '2018-07-02' '2018-12-02' '2018-09-11'\n",
      " '2018-07-27' '2018-09-26' '2018-08-14' '2018-11-28' '2018-07-13'\n",
      " '2018-08-26' '2018-08-09' '2018-10-28' '2018-10-18' '2018-06-03'\n",
      " '2018-08-23' '2018-12-16' '2018-10-13' '2018-12-14' '2018-09-08'\n",
      " '2018-08-05' '2018-12-30' '2018-08-08' '2018-06-23' '2018-12-24'\n",
      " '2018-07-14' '2018-09-28' '2018-07-04' '2018-10-27' '2018-10-14'\n",
      " '2018-08-02' '2018-11-17' '2018-08-18' '2018-07-24' '2018-06-17'\n",
      " '2018-09-16' '2018-06-07' '2018-09-15' '2018-10-21' '2018-08-01'\n",
      " '2018-06-11' '2018-07-20' '2018-12-17' '2018-10-03' '2018-06-08'\n",
      " '2018-12-13' '2018-11-01' '2018-05-31' '2018-09-03' '2018-08-16'\n",
      " '2018-07-09' '2018-11-27' '2018-10-16' '2018-11-11' '2018-07-03'\n",
      " '2018-11-14' '2018-12-09' '2018-08-07' '2018-10-09' '2018-11-25'\n",
      " '2018-09-27' '2018-06-19' '2018-08-06' '2018-09-25' '2018-09-12'\n",
      " '2018-11-20' '2018-12-20' '2018-11-13' '2018-10-10' '2018-09-05'\n",
      " '2018-10-04' '2018-09-10' '2018-08-19' '2018-05-21' '2018-06-15'\n",
      " '2018-05-14' '2018-05-16' '2018-05-15' '2018-07-17' '2018-05-24'\n",
      " '2018-08-11' '2018-05-26' '2018-07-05' '2018-05-17' '2018-05-19'\n",
      " '2018-06-02' '2018-05-18' '2018-05-23' '2018-06-21' '2018-05-22'\n",
      " '2018-05-20' '2018-06-06' '2018-03-03' '2018-04-10' '2018-02-24'\n",
      " '2018-02-08' '2018-02-25' '2018-04-27' '2018-03-10' '2018-03-25'\n",
      " '2018-04-15' '2018-03-19' '2018-03-01' '2018-02-15' '2018-04-05'\n",
      " '2018-02-23' '2018-05-02' '2018-05-07' '2018-05-13' '2018-03-17'\n",
      " '2018-03-20' '2018-02-20' '2018-01-25' '2018-04-19' '2018-02-13'\n",
      " '2018-02-26' '2018-01-26' '2018-03-07' '2018-04-07' '2018-01-28'\n",
      " '2018-02-28' '2018-02-17' '2018-03-21' '2018-03-15' '2018-03-13'\n",
      " '2018-04-01' '2018-03-08' '2018-04-04' '2018-04-12' '2018-03-22'\n",
      " '2018-04-24' '2018-04-06' '2018-04-08' '2018-03-14' '2018-03-05'\n",
      " '2018-05-04' '2018-03-02' '2018-02-14' '2018-04-20' '2018-02-19'\n",
      " '2018-04-21' '2018-03-29' '2018-05-05' '2018-04-14' '2018-02-09'\n",
      " '2018-02-21' '2018-04-13' '2018-03-16' '2018-05-12' '2018-04-03'\n",
      " '2018-03-30' '2018-02-10' '2018-03-24' '2018-03-06' '2018-02-07'\n",
      " '2018-04-22' '2018-02-03' '2018-03-27' '2018-05-09' '2018-02-16'\n",
      " '2018-03-04' '2018-04-09' '2018-03-26' '2018-03-09' '2018-04-26'\n",
      " '2018-05-10' '2018-04-16' '2018-05-08' '2018-04-25' '2018-02-06'\n",
      " '2018-04-02' '2018-01-29' '2018-02-02' '2018-02-05' '2018-04-29'\n",
      " '2018-02-22' '2018-01-27' '2018-02-18' '2018-04-11' '2018-05-01'\n",
      " '2018-04-23' '2018-04-28' '2018-05-03' '2018-05-11' '2018-04-17'\n",
      " '2018-03-28' '2018-04-30' '2018-05-06' '2018-03-23' '2018-04-18'\n",
      " '2018-03-31' '2018-01-23' '2018-01-04' '2018-01-14' '2018-01-19'\n",
      " '2018-01-30' '2018-01-11' '2018-03-18' '2018-01-16' '2018-02-01'\n",
      " '2018-01-18' '2018-01-10' '2018-01-21' '2018-03-11' '2018-01-09'\n",
      " '2018-02-04' '2018-01-17' '2018-01-15' '2018-01-12' '2018-01-20'\n",
      " '2018-01-07' '2018-01-05' '2018-02-11' '2018-03-12' '2018-01-08'\n",
      " '2018-01-31' '2018-02-27' '2018-02-12' '2018-01-03' '2018-01-02'\n",
      " '2018-01-22' '2018-01-24' '2018-01-13' '2018-01-06']\n",
      "Уникальные значения столбца user_id\n",
      "[1000 1002 1003 1004 1005 1007 1008 1009 1011 1012 1013 1014 1015 1016\n",
      " 1018 1019 1020 1021 1022 1023 1025 1026 1027 1028 1029 1030 1031 1032\n",
      " 1033 1034 1035 1036 1037 1038 1039 1041 1042 1043 1044 1045 1046 1047\n",
      " 1048 1050 1051 1052 1054 1055 1056 1057 1058 1059 1060 1061 1062 1064\n",
      " 1065 1066 1067 1068 1069 1070 1071 1072 1073 1074 1075 1076 1077 1079\n",
      " 1080 1081 1082 1083 1084 1086 1087 1088 1089 1090 1091 1092 1093 1094\n",
      " 1096 1097 1098 1099 1100 1102 1103 1104 1105 1106 1108 1109 1110 1111\n",
      " 1112 1113 1115 1119 1121 1122 1123 1124 1125 1126 1127 1130 1131 1133\n",
      " 1134 1135 1136 1137 1138 1139 1140 1141 1142 1144 1145 1146 1147 1148\n",
      " 1149 1150 1151 1154 1155 1156 1158 1159 1160 1161 1163 1164 1165 1166\n",
      " 1167 1168 1169 1170 1171 1172 1173 1174 1176 1178 1180 1181 1182 1183\n",
      " 1184 1186 1187 1188 1189 1190 1191 1192 1193 1194 1196 1197 1198 1199\n",
      " 1200 1202 1203 1205 1206 1207 1209 1211 1212 1213 1214 1215 1216 1217\n",
      " 1218 1219 1221 1222 1223 1226 1227 1229 1230 1231 1232 1233 1234 1235\n",
      " 1236 1237 1238 1239 1241 1243 1244 1245 1246 1247 1249 1250 1251 1252\n",
      " 1253 1256 1257 1258 1259 1261 1262 1263 1264 1265 1266 1267 1268 1269\n",
      " 1270 1271 1272 1273 1274 1275 1276 1277 1278 1279 1280 1281 1282 1283\n",
      " 1284 1285 1286 1287 1288 1289 1293 1294 1295 1296 1298 1299 1300 1302\n",
      " 1303 1304 1307 1308 1309 1310 1311 1312 1313 1314 1315 1316 1317 1318\n",
      " 1319 1320 1321 1323 1324 1325 1326 1327 1328 1329 1330 1331 1332 1333\n",
      " 1335 1336 1337 1338 1340 1341 1342 1343 1344 1345 1346 1347 1348 1349\n",
      " 1350 1351 1352 1353 1354 1355 1356 1357 1358 1359 1361 1362 1364 1365\n",
      " 1366 1368 1369 1372 1373 1374 1375 1377 1378 1379 1380 1381 1382 1383\n",
      " 1384 1385 1386 1387 1389 1390 1391 1392 1393 1394 1395 1396 1398 1399\n",
      " 1400 1401 1402 1403 1404 1405 1406 1407 1408 1409 1410 1411 1412 1413\n",
      " 1414 1415 1416 1417 1418 1419 1420 1421 1422 1423 1424 1425 1426 1427\n",
      " 1430 1431 1432 1433 1434 1436 1437 1438 1439 1440 1441 1443 1444 1445\n",
      " 1446 1447 1448 1449 1450 1451 1452 1453 1454 1455 1457 1458 1459 1460\n",
      " 1461 1463 1464 1465 1467 1468 1470 1471 1472 1473 1474 1475 1476 1477\n",
      " 1478 1480 1481 1482 1483 1484 1485 1486 1487 1488 1489 1490 1491 1492\n",
      " 1493 1495 1496 1497 1498 1499]\n",
      "\n"
     ]
    }
   ],
   "source": [
    "info_row(messages)"
   ]
  },
  {
   "cell_type": "markdown",
   "metadata": {},
   "source": [
    "### Знакомимся tariffs"
   ]
  },
  {
   "cell_type": "code",
   "execution_count": 11,
   "metadata": {
    "ExecuteTime": {
     "end_time": "2022-05-22T15:25:52.772182Z",
     "start_time": "2022-05-22T15:25:52.709505Z"
    }
   },
   "outputs": [
    {
     "data": {
      "text/html": [
       "<div>\n",
       "<style scoped>\n",
       "    .dataframe tbody tr th:only-of-type {\n",
       "        vertical-align: middle;\n",
       "    }\n",
       "\n",
       "    .dataframe tbody tr th {\n",
       "        vertical-align: top;\n",
       "    }\n",
       "\n",
       "    .dataframe thead th {\n",
       "        text-align: right;\n",
       "    }\n",
       "</style>\n",
       "<table border=\"1\" class=\"dataframe\">\n",
       "  <thead>\n",
       "    <tr style=\"text-align: right;\">\n",
       "      <th></th>\n",
       "      <th>messages_included</th>\n",
       "      <th>mb_per_month_included</th>\n",
       "      <th>minutes_included</th>\n",
       "      <th>rub_monthly_fee</th>\n",
       "      <th>rub_per_gb</th>\n",
       "      <th>rub_per_message</th>\n",
       "      <th>rub_per_minute</th>\n",
       "      <th>tariff_name</th>\n",
       "    </tr>\n",
       "  </thead>\n",
       "  <tbody>\n",
       "    <tr>\n",
       "      <th>0</th>\n",
       "      <td>50</td>\n",
       "      <td>15360</td>\n",
       "      <td>500</td>\n",
       "      <td>550</td>\n",
       "      <td>200</td>\n",
       "      <td>3</td>\n",
       "      <td>3</td>\n",
       "      <td>smart</td>\n",
       "    </tr>\n",
       "    <tr>\n",
       "      <th>1</th>\n",
       "      <td>1000</td>\n",
       "      <td>30720</td>\n",
       "      <td>3000</td>\n",
       "      <td>1950</td>\n",
       "      <td>150</td>\n",
       "      <td>1</td>\n",
       "      <td>1</td>\n",
       "      <td>ultra</td>\n",
       "    </tr>\n",
       "  </tbody>\n",
       "</table>\n",
       "</div>"
      ],
      "text/plain": [
       "   messages_included  mb_per_month_included  minutes_included  \\\n",
       "0                 50                  15360               500   \n",
       "1               1000                  30720              3000   \n",
       "\n",
       "   rub_monthly_fee  rub_per_gb  rub_per_message  rub_per_minute tariff_name  \n",
       "0              550         200                3               3       smart  \n",
       "1             1950         150                1               1       ultra  "
      ]
     },
     "metadata": {},
     "output_type": "display_data"
    },
    {
     "name": "stdout",
     "output_type": "stream",
     "text": [
      "Общая информация:\n",
      "<class 'pandas.core.frame.DataFrame'>\n",
      "RangeIndex: 2 entries, 0 to 1\n",
      "Data columns (total 8 columns):\n",
      " #   Column                 Non-Null Count  Dtype \n",
      "---  ------                 --------------  ----- \n",
      " 0   messages_included      2 non-null      int64 \n",
      " 1   mb_per_month_included  2 non-null      int64 \n",
      " 2   minutes_included       2 non-null      int64 \n",
      " 3   rub_monthly_fee        2 non-null      int64 \n",
      " 4   rub_per_gb             2 non-null      int64 \n",
      " 5   rub_per_message        2 non-null      int64 \n",
      " 6   rub_per_minute         2 non-null      int64 \n",
      " 7   tariff_name            2 non-null      object\n",
      "dtypes: int64(7), object(1)\n",
      "memory usage: 256.0+ bytes\n"
     ]
    },
    {
     "data": {
      "text/plain": [
       "None"
      ]
     },
     "metadata": {},
     "output_type": "display_data"
    },
    {
     "name": "stdout",
     "output_type": "stream",
     "text": [
      "Общая статистика:\n"
     ]
    },
    {
     "data": {
      "text/html": [
       "<div>\n",
       "<style scoped>\n",
       "    .dataframe tbody tr th:only-of-type {\n",
       "        vertical-align: middle;\n",
       "    }\n",
       "\n",
       "    .dataframe tbody tr th {\n",
       "        vertical-align: top;\n",
       "    }\n",
       "\n",
       "    .dataframe thead th {\n",
       "        text-align: right;\n",
       "    }\n",
       "</style>\n",
       "<table border=\"1\" class=\"dataframe\">\n",
       "  <thead>\n",
       "    <tr style=\"text-align: right;\">\n",
       "      <th></th>\n",
       "      <th>messages_included</th>\n",
       "      <th>mb_per_month_included</th>\n",
       "      <th>minutes_included</th>\n",
       "      <th>rub_monthly_fee</th>\n",
       "      <th>rub_per_gb</th>\n",
       "      <th>rub_per_message</th>\n",
       "      <th>rub_per_minute</th>\n",
       "    </tr>\n",
       "  </thead>\n",
       "  <tbody>\n",
       "    <tr>\n",
       "      <th>count</th>\n",
       "      <td>2.000000</td>\n",
       "      <td>2.000000</td>\n",
       "      <td>2.000000</td>\n",
       "      <td>2.000000</td>\n",
       "      <td>2.000000</td>\n",
       "      <td>2.000000</td>\n",
       "      <td>2.000000</td>\n",
       "    </tr>\n",
       "    <tr>\n",
       "      <th>mean</th>\n",
       "      <td>525.000000</td>\n",
       "      <td>23040.000000</td>\n",
       "      <td>1750.000000</td>\n",
       "      <td>1250.000000</td>\n",
       "      <td>175.000000</td>\n",
       "      <td>2.000000</td>\n",
       "      <td>2.000000</td>\n",
       "    </tr>\n",
       "    <tr>\n",
       "      <th>std</th>\n",
       "      <td>671.751442</td>\n",
       "      <td>10861.160159</td>\n",
       "      <td>1767.766953</td>\n",
       "      <td>989.949494</td>\n",
       "      <td>35.355339</td>\n",
       "      <td>1.414214</td>\n",
       "      <td>1.414214</td>\n",
       "    </tr>\n",
       "    <tr>\n",
       "      <th>min</th>\n",
       "      <td>50.000000</td>\n",
       "      <td>15360.000000</td>\n",
       "      <td>500.000000</td>\n",
       "      <td>550.000000</td>\n",
       "      <td>150.000000</td>\n",
       "      <td>1.000000</td>\n",
       "      <td>1.000000</td>\n",
       "    </tr>\n",
       "    <tr>\n",
       "      <th>25%</th>\n",
       "      <td>287.500000</td>\n",
       "      <td>19200.000000</td>\n",
       "      <td>1125.000000</td>\n",
       "      <td>900.000000</td>\n",
       "      <td>162.500000</td>\n",
       "      <td>1.500000</td>\n",
       "      <td>1.500000</td>\n",
       "    </tr>\n",
       "    <tr>\n",
       "      <th>50%</th>\n",
       "      <td>525.000000</td>\n",
       "      <td>23040.000000</td>\n",
       "      <td>1750.000000</td>\n",
       "      <td>1250.000000</td>\n",
       "      <td>175.000000</td>\n",
       "      <td>2.000000</td>\n",
       "      <td>2.000000</td>\n",
       "    </tr>\n",
       "    <tr>\n",
       "      <th>75%</th>\n",
       "      <td>762.500000</td>\n",
       "      <td>26880.000000</td>\n",
       "      <td>2375.000000</td>\n",
       "      <td>1600.000000</td>\n",
       "      <td>187.500000</td>\n",
       "      <td>2.500000</td>\n",
       "      <td>2.500000</td>\n",
       "    </tr>\n",
       "    <tr>\n",
       "      <th>max</th>\n",
       "      <td>1000.000000</td>\n",
       "      <td>30720.000000</td>\n",
       "      <td>3000.000000</td>\n",
       "      <td>1950.000000</td>\n",
       "      <td>200.000000</td>\n",
       "      <td>3.000000</td>\n",
       "      <td>3.000000</td>\n",
       "    </tr>\n",
       "  </tbody>\n",
       "</table>\n",
       "</div>"
      ],
      "text/plain": [
       "       messages_included  mb_per_month_included  minutes_included  \\\n",
       "count           2.000000               2.000000          2.000000   \n",
       "mean          525.000000           23040.000000       1750.000000   \n",
       "std           671.751442           10861.160159       1767.766953   \n",
       "min            50.000000           15360.000000        500.000000   \n",
       "25%           287.500000           19200.000000       1125.000000   \n",
       "50%           525.000000           23040.000000       1750.000000   \n",
       "75%           762.500000           26880.000000       2375.000000   \n",
       "max          1000.000000           30720.000000       3000.000000   \n",
       "\n",
       "       rub_monthly_fee  rub_per_gb  rub_per_message  rub_per_minute  \n",
       "count         2.000000    2.000000         2.000000        2.000000  \n",
       "mean       1250.000000  175.000000         2.000000        2.000000  \n",
       "std         989.949494   35.355339         1.414214        1.414214  \n",
       "min         550.000000  150.000000         1.000000        1.000000  \n",
       "25%         900.000000  162.500000         1.500000        1.500000  \n",
       "50%        1250.000000  175.000000         2.000000        2.000000  \n",
       "75%        1600.000000  187.500000         2.500000        2.500000  \n",
       "max        1950.000000  200.000000         3.000000        3.000000  "
      ]
     },
     "metadata": {},
     "output_type": "display_data"
    },
    {
     "data": {
      "text/html": [
       "<div>\n",
       "<style scoped>\n",
       "    .dataframe tbody tr th:only-of-type {\n",
       "        vertical-align: middle;\n",
       "    }\n",
       "\n",
       "    .dataframe tbody tr th {\n",
       "        vertical-align: top;\n",
       "    }\n",
       "\n",
       "    .dataframe thead th {\n",
       "        text-align: right;\n",
       "    }\n",
       "</style>\n",
       "<table border=\"1\" class=\"dataframe\">\n",
       "  <thead>\n",
       "    <tr style=\"text-align: right;\">\n",
       "      <th></th>\n",
       "      <th>tariff_name</th>\n",
       "    </tr>\n",
       "  </thead>\n",
       "  <tbody>\n",
       "    <tr>\n",
       "      <th>count</th>\n",
       "      <td>2</td>\n",
       "    </tr>\n",
       "    <tr>\n",
       "      <th>unique</th>\n",
       "      <td>2</td>\n",
       "    </tr>\n",
       "    <tr>\n",
       "      <th>top</th>\n",
       "      <td>smart</td>\n",
       "    </tr>\n",
       "    <tr>\n",
       "      <th>freq</th>\n",
       "      <td>1</td>\n",
       "    </tr>\n",
       "  </tbody>\n",
       "</table>\n",
       "</div>"
      ],
      "text/plain": [
       "       tariff_name\n",
       "count            2\n",
       "unique           2\n",
       "top          smart\n",
       "freq             1"
      ]
     },
     "metadata": {},
     "output_type": "display_data"
    },
    {
     "name": "stdout",
     "output_type": "stream",
     "text": [
      "Дубликаты:\n"
     ]
    },
    {
     "data": {
      "text/plain": [
       "0"
      ]
     },
     "metadata": {},
     "output_type": "display_data"
    },
    {
     "name": "stdout",
     "output_type": "stream",
     "text": [
      "0.0%\n",
      "\n",
      "Дубликаты по столбцам типа \"object\":\n"
     ]
    },
    {
     "data": {
      "text/html": [
       "<div>\n",
       "<style scoped>\n",
       "    .dataframe tbody tr th:only-of-type {\n",
       "        vertical-align: middle;\n",
       "    }\n",
       "\n",
       "    .dataframe tbody tr th {\n",
       "        vertical-align: top;\n",
       "    }\n",
       "\n",
       "    .dataframe thead th {\n",
       "        text-align: right;\n",
       "    }\n",
       "</style>\n",
       "<table border=\"1\" class=\"dataframe\">\n",
       "  <thead>\n",
       "    <tr style=\"text-align: right;\">\n",
       "      <th></th>\n",
       "      <th>messages_included</th>\n",
       "      <th>mb_per_month_included</th>\n",
       "      <th>minutes_included</th>\n",
       "      <th>rub_monthly_fee</th>\n",
       "      <th>rub_per_gb</th>\n",
       "      <th>rub_per_message</th>\n",
       "      <th>rub_per_minute</th>\n",
       "      <th>tariff_name</th>\n",
       "    </tr>\n",
       "  </thead>\n",
       "  <tbody>\n",
       "  </tbody>\n",
       "</table>\n",
       "</div>"
      ],
      "text/plain": [
       "Empty DataFrame\n",
       "Columns: [messages_included, mb_per_month_included, minutes_included, rub_monthly_fee, rub_per_gb, rub_per_message, rub_per_minute, tariff_name]\n",
       "Index: []"
      ]
     },
     "metadata": {},
     "output_type": "display_data"
    },
    {
     "name": "stdout",
     "output_type": "stream",
     "text": [
      "Пропуски:\n",
      "messages_included - 0.0%\n",
      "mb_per_month_included - 0.0%\n",
      "minutes_included - 0.0%\n",
      "rub_monthly_fee - 0.0%\n",
      "rub_per_gb - 0.0%\n",
      "rub_per_message - 0.0%\n",
      "rub_per_minute - 0.0%\n",
      "tariff_name - 0.0%\n",
      "\n",
      "Уникальные значения столбцов:\n",
      "Уникальные значения столбца messages_included\n",
      "[  50 1000]\n",
      "Уникальные значения столбца mb_per_month_included\n",
      "[15360 30720]\n",
      "Уникальные значения столбца minutes_included\n",
      "[ 500 3000]\n",
      "Уникальные значения столбца rub_monthly_fee\n",
      "[ 550 1950]\n",
      "Уникальные значения столбца rub_per_gb\n",
      "[200 150]\n",
      "Уникальные значения столбца rub_per_message\n",
      "[3 1]\n",
      "Уникальные значения столбца rub_per_minute\n",
      "[3 1]\n",
      "Уникальные значения столбца tariff_name\n",
      "['smart' 'ultra']\n",
      "\n"
     ]
    }
   ],
   "source": [
    "info_row(tariffs)"
   ]
  },
  {
   "cell_type": "markdown",
   "metadata": {},
   "source": [
    "### Знакомимся users"
   ]
  },
  {
   "cell_type": "code",
   "execution_count": 14,
   "metadata": {
    "ExecuteTime": {
     "end_time": "2022-05-22T15:27:35.471477Z",
     "start_time": "2022-05-22T15:27:35.406651Z"
    }
   },
   "outputs": [
    {
     "data": {
      "text/html": [
       "<div>\n",
       "<style scoped>\n",
       "    .dataframe tbody tr th:only-of-type {\n",
       "        vertical-align: middle;\n",
       "    }\n",
       "\n",
       "    .dataframe tbody tr th {\n",
       "        vertical-align: top;\n",
       "    }\n",
       "\n",
       "    .dataframe thead th {\n",
       "        text-align: right;\n",
       "    }\n",
       "</style>\n",
       "<table border=\"1\" class=\"dataframe\">\n",
       "  <thead>\n",
       "    <tr style=\"text-align: right;\">\n",
       "      <th></th>\n",
       "      <th>user_id</th>\n",
       "      <th>age</th>\n",
       "      <th>churn_date</th>\n",
       "      <th>city</th>\n",
       "      <th>first_name</th>\n",
       "      <th>last_name</th>\n",
       "      <th>reg_date</th>\n",
       "      <th>tariff</th>\n",
       "    </tr>\n",
       "  </thead>\n",
       "  <tbody>\n",
       "    <tr>\n",
       "      <th>0</th>\n",
       "      <td>1000</td>\n",
       "      <td>52</td>\n",
       "      <td>NaN</td>\n",
       "      <td>Краснодар</td>\n",
       "      <td>Рафаил</td>\n",
       "      <td>Верещагин</td>\n",
       "      <td>2018-05-25</td>\n",
       "      <td>ultra</td>\n",
       "    </tr>\n",
       "    <tr>\n",
       "      <th>1</th>\n",
       "      <td>1001</td>\n",
       "      <td>41</td>\n",
       "      <td>NaN</td>\n",
       "      <td>Москва</td>\n",
       "      <td>Иван</td>\n",
       "      <td>Ежов</td>\n",
       "      <td>2018-11-01</td>\n",
       "      <td>smart</td>\n",
       "    </tr>\n",
       "    <tr>\n",
       "      <th>2</th>\n",
       "      <td>1002</td>\n",
       "      <td>59</td>\n",
       "      <td>NaN</td>\n",
       "      <td>Стерлитамак</td>\n",
       "      <td>Евгений</td>\n",
       "      <td>Абрамович</td>\n",
       "      <td>2018-06-17</td>\n",
       "      <td>smart</td>\n",
       "    </tr>\n",
       "    <tr>\n",
       "      <th>3</th>\n",
       "      <td>1003</td>\n",
       "      <td>23</td>\n",
       "      <td>NaN</td>\n",
       "      <td>Москва</td>\n",
       "      <td>Белла</td>\n",
       "      <td>Белякова</td>\n",
       "      <td>2018-08-17</td>\n",
       "      <td>ultra</td>\n",
       "    </tr>\n",
       "    <tr>\n",
       "      <th>4</th>\n",
       "      <td>1004</td>\n",
       "      <td>68</td>\n",
       "      <td>NaN</td>\n",
       "      <td>Новокузнецк</td>\n",
       "      <td>Татьяна</td>\n",
       "      <td>Авдеенко</td>\n",
       "      <td>2018-05-14</td>\n",
       "      <td>ultra</td>\n",
       "    </tr>\n",
       "    <tr>\n",
       "      <th>5</th>\n",
       "      <td>1005</td>\n",
       "      <td>67</td>\n",
       "      <td>NaN</td>\n",
       "      <td>Набережные Челны</td>\n",
       "      <td>Афанасий</td>\n",
       "      <td>Горлов</td>\n",
       "      <td>2018-01-25</td>\n",
       "      <td>smart</td>\n",
       "    </tr>\n",
       "    <tr>\n",
       "      <th>6</th>\n",
       "      <td>1006</td>\n",
       "      <td>21</td>\n",
       "      <td>NaN</td>\n",
       "      <td>Ульяновск</td>\n",
       "      <td>Леонид</td>\n",
       "      <td>Ермолаев</td>\n",
       "      <td>2018-02-26</td>\n",
       "      <td>smart</td>\n",
       "    </tr>\n",
       "    <tr>\n",
       "      <th>7</th>\n",
       "      <td>1007</td>\n",
       "      <td>65</td>\n",
       "      <td>NaN</td>\n",
       "      <td>Москва</td>\n",
       "      <td>Юна</td>\n",
       "      <td>Березина</td>\n",
       "      <td>2018-04-19</td>\n",
       "      <td>smart</td>\n",
       "    </tr>\n",
       "    <tr>\n",
       "      <th>8</th>\n",
       "      <td>1008</td>\n",
       "      <td>63</td>\n",
       "      <td>NaN</td>\n",
       "      <td>Челябинск</td>\n",
       "      <td>Рустэм</td>\n",
       "      <td>Пономарёв</td>\n",
       "      <td>2018-12-19</td>\n",
       "      <td>smart</td>\n",
       "    </tr>\n",
       "    <tr>\n",
       "      <th>9</th>\n",
       "      <td>1009</td>\n",
       "      <td>24</td>\n",
       "      <td>NaN</td>\n",
       "      <td>Пермь</td>\n",
       "      <td>Василиса</td>\n",
       "      <td>Блинова</td>\n",
       "      <td>2018-03-22</td>\n",
       "      <td>smart</td>\n",
       "    </tr>\n",
       "  </tbody>\n",
       "</table>\n",
       "</div>"
      ],
      "text/plain": [
       "   user_id  age churn_date              city first_name  last_name  \\\n",
       "0     1000   52        NaN         Краснодар     Рафаил  Верещагин   \n",
       "1     1001   41        NaN            Москва       Иван       Ежов   \n",
       "2     1002   59        NaN       Стерлитамак    Евгений  Абрамович   \n",
       "3     1003   23        NaN            Москва      Белла   Белякова   \n",
       "4     1004   68        NaN       Новокузнецк    Татьяна   Авдеенко   \n",
       "5     1005   67        NaN  Набережные Челны   Афанасий     Горлов   \n",
       "6     1006   21        NaN         Ульяновск     Леонид   Ермолаев   \n",
       "7     1007   65        NaN            Москва        Юна   Березина   \n",
       "8     1008   63        NaN         Челябинск     Рустэм  Пономарёв   \n",
       "9     1009   24        NaN             Пермь   Василиса    Блинова   \n",
       "\n",
       "     reg_date tariff  \n",
       "0  2018-05-25  ultra  \n",
       "1  2018-11-01  smart  \n",
       "2  2018-06-17  smart  \n",
       "3  2018-08-17  ultra  \n",
       "4  2018-05-14  ultra  \n",
       "5  2018-01-25  smart  \n",
       "6  2018-02-26  smart  \n",
       "7  2018-04-19  smart  \n",
       "8  2018-12-19  smart  \n",
       "9  2018-03-22  smart  "
      ]
     },
     "metadata": {},
     "output_type": "display_data"
    },
    {
     "name": "stdout",
     "output_type": "stream",
     "text": [
      "Общая информация:\n",
      "<class 'pandas.core.frame.DataFrame'>\n",
      "RangeIndex: 500 entries, 0 to 499\n",
      "Data columns (total 8 columns):\n",
      " #   Column      Non-Null Count  Dtype \n",
      "---  ------      --------------  ----- \n",
      " 0   user_id     500 non-null    int64 \n",
      " 1   age         500 non-null    int64 \n",
      " 2   churn_date  38 non-null     object\n",
      " 3   city        500 non-null    object\n",
      " 4   first_name  500 non-null    object\n",
      " 5   last_name   500 non-null    object\n",
      " 6   reg_date    500 non-null    object\n",
      " 7   tariff      500 non-null    object\n",
      "dtypes: int64(2), object(6)\n",
      "memory usage: 31.4+ KB\n"
     ]
    },
    {
     "data": {
      "text/plain": [
       "None"
      ]
     },
     "metadata": {},
     "output_type": "display_data"
    },
    {
     "name": "stdout",
     "output_type": "stream",
     "text": [
      "Общая статистика:\n"
     ]
    },
    {
     "data": {
      "text/html": [
       "<div>\n",
       "<style scoped>\n",
       "    .dataframe tbody tr th:only-of-type {\n",
       "        vertical-align: middle;\n",
       "    }\n",
       "\n",
       "    .dataframe tbody tr th {\n",
       "        vertical-align: top;\n",
       "    }\n",
       "\n",
       "    .dataframe thead th {\n",
       "        text-align: right;\n",
       "    }\n",
       "</style>\n",
       "<table border=\"1\" class=\"dataframe\">\n",
       "  <thead>\n",
       "    <tr style=\"text-align: right;\">\n",
       "      <th></th>\n",
       "      <th>user_id</th>\n",
       "      <th>age</th>\n",
       "    </tr>\n",
       "  </thead>\n",
       "  <tbody>\n",
       "    <tr>\n",
       "      <th>count</th>\n",
       "      <td>500.000000</td>\n",
       "      <td>500.00000</td>\n",
       "    </tr>\n",
       "    <tr>\n",
       "      <th>mean</th>\n",
       "      <td>1249.500000</td>\n",
       "      <td>46.58800</td>\n",
       "    </tr>\n",
       "    <tr>\n",
       "      <th>std</th>\n",
       "      <td>144.481833</td>\n",
       "      <td>16.66763</td>\n",
       "    </tr>\n",
       "    <tr>\n",
       "      <th>min</th>\n",
       "      <td>1000.000000</td>\n",
       "      <td>18.00000</td>\n",
       "    </tr>\n",
       "    <tr>\n",
       "      <th>25%</th>\n",
       "      <td>1124.750000</td>\n",
       "      <td>32.00000</td>\n",
       "    </tr>\n",
       "    <tr>\n",
       "      <th>50%</th>\n",
       "      <td>1249.500000</td>\n",
       "      <td>46.00000</td>\n",
       "    </tr>\n",
       "    <tr>\n",
       "      <th>75%</th>\n",
       "      <td>1374.250000</td>\n",
       "      <td>62.00000</td>\n",
       "    </tr>\n",
       "    <tr>\n",
       "      <th>max</th>\n",
       "      <td>1499.000000</td>\n",
       "      <td>75.00000</td>\n",
       "    </tr>\n",
       "  </tbody>\n",
       "</table>\n",
       "</div>"
      ],
      "text/plain": [
       "           user_id        age\n",
       "count   500.000000  500.00000\n",
       "mean   1249.500000   46.58800\n",
       "std     144.481833   16.66763\n",
       "min    1000.000000   18.00000\n",
       "25%    1124.750000   32.00000\n",
       "50%    1249.500000   46.00000\n",
       "75%    1374.250000   62.00000\n",
       "max    1499.000000   75.00000"
      ]
     },
     "metadata": {},
     "output_type": "display_data"
    },
    {
     "data": {
      "text/html": [
       "<div>\n",
       "<style scoped>\n",
       "    .dataframe tbody tr th:only-of-type {\n",
       "        vertical-align: middle;\n",
       "    }\n",
       "\n",
       "    .dataframe tbody tr th {\n",
       "        vertical-align: top;\n",
       "    }\n",
       "\n",
       "    .dataframe thead th {\n",
       "        text-align: right;\n",
       "    }\n",
       "</style>\n",
       "<table border=\"1\" class=\"dataframe\">\n",
       "  <thead>\n",
       "    <tr style=\"text-align: right;\">\n",
       "      <th></th>\n",
       "      <th>churn_date</th>\n",
       "      <th>city</th>\n",
       "      <th>first_name</th>\n",
       "      <th>last_name</th>\n",
       "      <th>reg_date</th>\n",
       "      <th>tariff</th>\n",
       "    </tr>\n",
       "  </thead>\n",
       "  <tbody>\n",
       "    <tr>\n",
       "      <th>count</th>\n",
       "      <td>38</td>\n",
       "      <td>500</td>\n",
       "      <td>500</td>\n",
       "      <td>500</td>\n",
       "      <td>500</td>\n",
       "      <td>500</td>\n",
       "    </tr>\n",
       "    <tr>\n",
       "      <th>unique</th>\n",
       "      <td>33</td>\n",
       "      <td>76</td>\n",
       "      <td>246</td>\n",
       "      <td>419</td>\n",
       "      <td>270</td>\n",
       "      <td>2</td>\n",
       "    </tr>\n",
       "    <tr>\n",
       "      <th>top</th>\n",
       "      <td>2018-12-03</td>\n",
       "      <td>Москва</td>\n",
       "      <td>Радим</td>\n",
       "      <td>Андреенко</td>\n",
       "      <td>2018-05-28</td>\n",
       "      <td>smart</td>\n",
       "    </tr>\n",
       "    <tr>\n",
       "      <th>freq</th>\n",
       "      <td>2</td>\n",
       "      <td>99</td>\n",
       "      <td>6</td>\n",
       "      <td>5</td>\n",
       "      <td>8</td>\n",
       "      <td>351</td>\n",
       "    </tr>\n",
       "  </tbody>\n",
       "</table>\n",
       "</div>"
      ],
      "text/plain": [
       "        churn_date    city first_name  last_name    reg_date tariff\n",
       "count           38     500        500        500         500    500\n",
       "unique          33      76        246        419         270      2\n",
       "top     2018-12-03  Москва      Радим  Андреенко  2018-05-28  smart\n",
       "freq             2      99          6          5           8    351"
      ]
     },
     "metadata": {},
     "output_type": "display_data"
    },
    {
     "name": "stdout",
     "output_type": "stream",
     "text": [
      "Дубликаты:\n"
     ]
    },
    {
     "data": {
      "text/plain": [
       "0"
      ]
     },
     "metadata": {},
     "output_type": "display_data"
    },
    {
     "name": "stdout",
     "output_type": "stream",
     "text": [
      "0.0%\n",
      "\n",
      "Дубликаты по столбцам типа \"object\":\n"
     ]
    },
    {
     "data": {
      "text/html": [
       "<div>\n",
       "<style scoped>\n",
       "    .dataframe tbody tr th:only-of-type {\n",
       "        vertical-align: middle;\n",
       "    }\n",
       "\n",
       "    .dataframe tbody tr th {\n",
       "        vertical-align: top;\n",
       "    }\n",
       "\n",
       "    .dataframe thead th {\n",
       "        text-align: right;\n",
       "    }\n",
       "</style>\n",
       "<table border=\"1\" class=\"dataframe\">\n",
       "  <thead>\n",
       "    <tr style=\"text-align: right;\">\n",
       "      <th></th>\n",
       "      <th>user_id</th>\n",
       "      <th>age</th>\n",
       "      <th>churn_date</th>\n",
       "      <th>city</th>\n",
       "      <th>first_name</th>\n",
       "      <th>last_name</th>\n",
       "      <th>reg_date</th>\n",
       "      <th>tariff</th>\n",
       "    </tr>\n",
       "  </thead>\n",
       "  <tbody>\n",
       "  </tbody>\n",
       "</table>\n",
       "</div>"
      ],
      "text/plain": [
       "Empty DataFrame\n",
       "Columns: [user_id, age, churn_date, city, first_name, last_name, reg_date, tariff]\n",
       "Index: []"
      ]
     },
     "metadata": {},
     "output_type": "display_data"
    },
    {
     "name": "stdout",
     "output_type": "stream",
     "text": [
      "Пропуски:\n",
      "user_id - 0.0%\n",
      "age - 0.0%\n",
      "churn_date - 92.4%\n",
      "city - 0.0%\n",
      "first_name - 0.0%\n",
      "last_name - 0.0%\n",
      "reg_date - 0.0%\n",
      "tariff - 0.0%\n",
      "\n",
      "Уникальные значения столбцов:\n",
      "Уникальные значения столбца user_id\n",
      "[1000 1001 1002 1003 1004 1005 1006 1007 1008 1009 1010 1011 1012 1013\n",
      " 1014 1015 1016 1017 1018 1019 1020 1021 1022 1023 1024 1025 1026 1027\n",
      " 1028 1029 1030 1031 1032 1033 1034 1035 1036 1037 1038 1039 1040 1041\n",
      " 1042 1043 1044 1045 1046 1047 1048 1049 1050 1051 1052 1053 1054 1055\n",
      " 1056 1057 1058 1059 1060 1061 1062 1063 1064 1065 1066 1067 1068 1069\n",
      " 1070 1071 1072 1073 1074 1075 1076 1077 1078 1079 1080 1081 1082 1083\n",
      " 1084 1085 1086 1087 1088 1089 1090 1091 1092 1093 1094 1095 1096 1097\n",
      " 1098 1099 1100 1101 1102 1103 1104 1105 1106 1107 1108 1109 1110 1111\n",
      " 1112 1113 1114 1115 1116 1117 1118 1119 1120 1121 1122 1123 1124 1125\n",
      " 1126 1127 1128 1129 1130 1131 1132 1133 1134 1135 1136 1137 1138 1139\n",
      " 1140 1141 1142 1143 1144 1145 1146 1147 1148 1149 1150 1151 1152 1153\n",
      " 1154 1155 1156 1157 1158 1159 1160 1161 1162 1163 1164 1165 1166 1167\n",
      " 1168 1169 1170 1171 1172 1173 1174 1175 1176 1177 1178 1179 1180 1181\n",
      " 1182 1183 1184 1185 1186 1187 1188 1189 1190 1191 1192 1193 1194 1195\n",
      " 1196 1197 1198 1199 1200 1201 1202 1203 1204 1205 1206 1207 1208 1209\n",
      " 1210 1211 1212 1213 1214 1215 1216 1217 1218 1219 1220 1221 1222 1223\n",
      " 1224 1225 1226 1227 1228 1229 1230 1231 1232 1233 1234 1235 1236 1237\n",
      " 1238 1239 1240 1241 1242 1243 1244 1245 1246 1247 1248 1249 1250 1251\n",
      " 1252 1253 1254 1255 1256 1257 1258 1259 1260 1261 1262 1263 1264 1265\n",
      " 1266 1267 1268 1269 1270 1271 1272 1273 1274 1275 1276 1277 1278 1279\n",
      " 1280 1281 1282 1283 1284 1285 1286 1287 1288 1289 1290 1291 1292 1293\n",
      " 1294 1295 1296 1297 1298 1299 1300 1301 1302 1303 1304 1305 1306 1307\n",
      " 1308 1309 1310 1311 1312 1313 1314 1315 1316 1317 1318 1319 1320 1321\n",
      " 1322 1323 1324 1325 1326 1327 1328 1329 1330 1331 1332 1333 1334 1335\n",
      " 1336 1337 1338 1339 1340 1341 1342 1343 1344 1345 1346 1347 1348 1349\n",
      " 1350 1351 1352 1353 1354 1355 1356 1357 1358 1359 1360 1361 1362 1363\n",
      " 1364 1365 1366 1367 1368 1369 1370 1371 1372 1373 1374 1375 1376 1377\n",
      " 1378 1379 1380 1381 1382 1383 1384 1385 1386 1387 1388 1389 1390 1391\n",
      " 1392 1393 1394 1395 1396 1397 1398 1399 1400 1401 1402 1403 1404 1405\n",
      " 1406 1407 1408 1409 1410 1411 1412 1413 1414 1415 1416 1417 1418 1419\n",
      " 1420 1421 1422 1423 1424 1425 1426 1427 1428 1429 1430 1431 1432 1433\n",
      " 1434 1435 1436 1437 1438 1439 1440 1441 1442 1443 1444 1445 1446 1447\n",
      " 1448 1449 1450 1451 1452 1453 1454 1455 1456 1457 1458 1459 1460 1461\n",
      " 1462 1463 1464 1465 1466 1467 1468 1469 1470 1471 1472 1473 1474 1475\n",
      " 1476 1477 1478 1479 1480 1481 1482 1483 1484 1485 1486 1487 1488 1489\n",
      " 1490 1491 1492 1493 1494 1495 1496 1497 1498 1499]\n",
      "Уникальные значения столбца age\n",
      "[52 41 59 23 68 67 21 65 63 24 26 44 38 36 64 58 73 71 61 72 42 56 32 62\n",
      " 20 51 28 66 31 37 47 40 69 48 33 39 43 46 45 55 53 34 49 25 18 70 50 19\n",
      " 54 60 29 27 74 22 30 75 57 35]\n",
      "Уникальные значения столбца churn_date\n",
      "[nan '2018-10-05' '2018-12-18' '2018-11-21' '2018-10-03' '2018-10-14'\n",
      " '2018-12-09' '2018-12-11' '2018-12-26' '2018-08-31' '2018-12-03'\n",
      " '2018-12-23' '2018-11-07' '2018-12-16' '2018-12-20' '2018-11-30'\n",
      " '2018-12-21' '2018-08-17' '2018-09-02' '2018-10-04' '2018-11-13'\n",
      " '2018-11-22' '2018-10-28' '2018-11-26' '2018-11-27' '2018-11-16'\n",
      " '2018-10-27' '2018-12-30' '2018-09-27' '2018-12-25' '2018-12-14'\n",
      " '2018-12-24' '2018-09-26' '2018-10-25']\n",
      "Уникальные значения столбца city\n",
      "['Краснодар' 'Москва' 'Стерлитамак' 'Новокузнецк' 'Набережные Челны'\n",
      " 'Ульяновск' 'Челябинск' 'Пермь' 'Тюмень' 'Самара' 'Санкт-Петербург'\n",
      " 'Иваново' 'Чебоксары' 'Омск' 'Уфа' 'Томск' 'Чита' 'Мурманск'\n",
      " 'Петрозаводск' 'Тверь' 'Екатеринбург' 'Махачкала' 'Вологда' 'Череповец'\n",
      " 'Ярославль' 'Сочи' 'Хабаровск' 'Ставрополь' 'Рязань' 'Улан-Удэ' 'Тула'\n",
      " 'Саратов' 'Ростов-на-Дону' 'Казань' 'Иркутск' 'Курск' 'Калуга' 'Якутск'\n",
      " 'Астрахань' 'Химки' 'Владикавказ' 'Волгоград' 'Саранск' 'Ижевск'\n",
      " 'Новосибирск' 'Брянск' 'Тольятти' 'Нижний Тагил' 'Орёл' 'Белгород'\n",
      " 'Воронеж' 'Волжский' 'Курган' 'Барнаул' 'Красноярск' 'Архангельск'\n",
      " 'Липецк' 'Кемерово' 'Киров' 'Сургут' 'Пенза' 'Магнитогорск'\n",
      " 'Нижний Новгород' 'Кострома' 'Владивосток' 'Тамбов' 'Балашиха'\n",
      " 'Севастополь' 'Калининград' 'Оренбург' 'Смоленск' 'Нижневартовск'\n",
      " 'Владимир' 'Новороссийск' 'Грозный' 'Подольск']\n",
      "Уникальные значения столбца first_name\n",
      "['Рафаил' 'Иван' 'Евгений' 'Белла' 'Татьяна' 'Афанасий' 'Леонид' 'Юна'\n",
      " 'Рустэм' 'Василиса' 'Эдуард' 'Веселина' 'Варлам' 'Борис' 'Яков' 'Рузана'\n",
      " 'Марица' 'Мария' 'Матвей' 'Игнатий' 'Тала' 'Святослав' 'Людмила' 'Иулиан'\n",
      " 'Владислав' 'Рустем' 'Алексей' 'Мариетта' 'Лаврентий' 'Инна' 'Лия'\n",
      " 'Розалия' 'Анжелика' 'Изольда' 'Агнесса' 'Юрий' 'Михаил' 'Константин'\n",
      " 'Марианна' 'Иннокентий' 'Джемма' 'Екатерина' 'Милица' 'Лола' 'Габриель'\n",
      " 'Кристина' 'Павел' 'Ренальд' 'Луиза' 'Радислав' 'Динара' 'Лукий' 'Глеб'\n",
      " 'Тамара' 'Александр' 'Таира' 'Роза' 'Исак' 'Юзефа' 'Ким' 'Гордей' 'Эльза'\n",
      " 'Гектор' 'Андрей' 'Рафаэль' 'Фёдор' 'Харитон' 'Еремей' 'Всеволод' 'Софья'\n",
      " 'Авксентий' 'Виолетта' 'Ириней' 'Гелена' 'Ксения' 'Вера' 'Вениамин'\n",
      " 'Вероника' 'Даниэла' 'Алла' 'Элеонора' 'Аюна' 'Руслан' 'Онисим' 'Марта'\n",
      " 'Эльвира' 'Габриэль' 'Исаак' 'Милана' 'Арнольд' 'Маргарита' 'Рашид'\n",
      " 'Альберта' 'Дана' 'Олег' 'Альбин' 'Сабина' 'Яна' 'Анвар' 'Инара' 'Нина'\n",
      " 'Надежда' 'Марьяна' 'Милена' 'Пётр' 'Леся' 'Светлана' 'Клариса' 'Симона'\n",
      " 'Арсен' 'Ефим' 'Юлий' 'Владимир' 'Евдокия' 'Алиса' 'Майя' 'Лариса'\n",
      " 'Марина' 'Валерий' 'Виктория' 'Игорь' 'Эльга' 'Лев' 'Геральд' 'Клавдия'\n",
      " 'Лилия' 'Георгина' 'Вадим' 'Каролина' 'Алан' 'Агафья' 'Лолита' 'Радим'\n",
      " 'Наталья' 'Рем' 'Снежана' 'Мануэла' 'Рэм' 'Виталий' 'Рауль' 'Степан'\n",
      " 'Егор' 'Демьян' 'Агата' 'Геннадий' 'Адам' 'Мирослава' 'Елена' 'Ева'\n",
      " 'Евфросинья' 'Арина' 'Гайдар' 'Артемий' 'Рустам' 'Ермолай' 'Кузьма'\n",
      " 'Рубен' 'Ахмет' 'Раиса' 'Денис' 'Нелли' 'Касьян' 'Сара' 'Роксана' 'Леон'\n",
      " 'Алина' 'Даниил' 'Зинаида' 'Артём' 'Анатолий' 'Лейла' 'Александра'\n",
      " 'Серафима' 'Алевтина' 'Эмилия' 'Мадина' 'Антонина' 'Саида' 'Трофим'\n",
      " 'Аким' 'Мальвина' 'Аурелия' 'Мстислав' 'Аксён' 'Семён' 'Валерия'\n",
      " 'Григорий' 'Таисия' 'Арсений' 'Эдита' 'Дебора' 'Олеся' 'Альфред' 'Тихон'\n",
      " 'Наида' 'Илья' 'Инесса' 'Юлия' 'Рудольф' 'Максим' 'Инга' 'Эсмеральда'\n",
      " 'Дайна' 'Джозефина' 'Тимофей' 'Виктор' 'Валентина' 'Анита' 'Илзе'\n",
      " 'Галина' 'Варвара' 'Анфиса' 'Доминика' 'Лаура' 'Рената' 'Оксана'\n",
      " 'Георгий' 'Лидия' 'Евгения' 'Фаддей' 'Герасим' 'Радомир' 'Ренат'\n",
      " 'Владислава' 'Роберт' 'Элина' 'Станислав' 'Элла' 'Гарри' 'Берта' 'Геодар'\n",
      " 'Эльмира' 'Клара' 'Камилла' 'Джулия' 'Карина' 'Нателла' 'Леонтий'\n",
      " 'Ростислав' 'Ангелина' 'Алёна' 'Ринат' 'Эллада' 'Николай' 'Руслана'\n",
      " 'Трифон']\n",
      "Уникальные значения столбца last_name\n",
      "['Верещагин' 'Ежов' 'Абрамович' 'Белякова' 'Авдеенко' 'Горлов' 'Ермолаев'\n",
      " 'Березина' 'Пономарёв' 'Блинова' 'Кононов' 'Алёшко' 'Соловьев'\n",
      " 'Андреенко' 'Акинфьев' 'Алюшина' 'Сазонова' 'Аленникова' 'Золотов'\n",
      " 'Круглов' 'Костина' 'Тихонов' 'Трофимова' 'Мельникова' 'Антипов' 'Акинин'\n",
      " 'Бородин' 'Авдеев' 'Евсеев' 'Селезнев' 'Русанова' 'Тимофеев' 'Игнатьева'\n",
      " 'Бабушкина' 'Бондарев' 'Аракина' 'Андропова' 'Архипова' 'Денисова'\n",
      " 'Одинцов' 'Кравцов' 'Добрынин' 'Родионова' 'Рябов' 'Карасева'\n",
      " 'Александрова' 'Меркулова' 'Мясникова' 'Ларин' 'Аничкина' 'Сомова'\n",
      " 'Панов' 'Фёдоров' 'Платонова' 'Артемьев' 'Дьячкова' 'Глушков' 'Свиридов'\n",
      " 'Рудаков' 'Ситникова' 'Коршунов' 'Климова' 'Алфеева' 'Игнатова' 'Малахов'\n",
      " 'Абашкина' 'Демьянов' 'Кочетов' 'Селиванова' 'Чумаков' 'Андрейкин'\n",
      " 'Павловский' 'Никулин' 'Шарапов' 'Кольцова' 'Литвинов' 'Авроров'\n",
      " 'Игнатьев' 'Терехова' 'Малышев' 'Галкин' 'Спиридонова' 'Дорофеева'\n",
      " 'Аксёнов' 'Абалакова' 'Нечаева' 'Астафьева' 'Суслова' 'Амельченко'\n",
      " 'Лапина' 'Пугачева' 'Кабанова' 'Кулешова' 'Озерова' 'Сергеева'\n",
      " 'Красильников' 'Колобов' 'Королькова' 'Лобанова' 'Поляков' 'Рыбакова'\n",
      " 'Костин' 'Воронин' 'Болдырев' 'Андрющенко' 'Александрович' 'Макарова'\n",
      " 'Казанцев' 'Булгаков' 'Колесова' 'Толкачев' 'Шевцова' 'Латышева'\n",
      " 'Сухарев' 'Абдулина' 'Афанасова' 'Устинов' 'Андрианов' 'Арсенкова'\n",
      " 'Ильина' 'Агаева' 'Морозов' 'Крюкова' 'Афонасьева' 'Алехина' 'Аникина'\n",
      " 'Авросимова' 'Воронина' 'Левин' 'Артёшин' 'Ерофеева' 'Корнеева'\n",
      " 'Ахматулин' 'Короткова' 'Алешкова' 'Покровский' 'Ефремов' 'Алешин'\n",
      " 'Никонов' 'Синицын' 'Киреева' 'Алексеенко' 'Муравьева' 'Молчанова'\n",
      " 'Щербакова' 'Одинцова' 'Тихомирова' 'Чернов' 'Белоусова' 'Андрейчук'\n",
      " 'Авдонюшкин' 'Голованова' 'Минаева' 'Вишневский' 'Лебедев' 'Медведев'\n",
      " 'Жданов' 'Ананьева' 'Карташова' 'Козлов' 'Иванова' 'Карасев' 'Григорьева'\n",
      " 'Розанова' 'Марков' 'Куприянов' 'Жарова' 'Астапенко' 'Мишин' 'Аврорин'\n",
      " 'Агаев' 'Тарасова' 'Родина' 'Абакумов' 'Овчинников' 'Соколов' 'Зубкова'\n",
      " 'Абоимов' 'Акиндинов' 'Мальцев' 'Безруков' 'Наумов' 'Петухова' 'Чернышев'\n",
      " 'Черняев' 'Швецов' 'Демьянова' 'Ларионова' 'Веселов' 'Адаменко'\n",
      " 'Григорьев' 'Лазарева' 'Семина' 'Шарапова' 'Зеленина' 'Сахарова'\n",
      " 'Сорокин' 'Серебрякова' 'Азимова' 'Пономарев' 'Муравьёв' 'Алиев'\n",
      " 'Малинин' 'Сазонов' 'Мамонтова' 'Некрасов' 'Астапов' 'Сафонова'\n",
      " 'Панфилов' 'Тарасов' 'Горбачева' 'Бобылёв' 'Калинина' 'Алфимов'\n",
      " 'Капустин' 'Авдюков' 'Ларина' 'Алфимова' 'Алексеева' 'Басова' 'Демидов'\n",
      " 'Кошелева' 'Ёрохов' 'Шарова' 'Федосеев' 'Леонтьев' 'Макеев' 'Коновалова'\n",
      " 'Минаев' 'Авдушева' 'Ракова' 'Тетерина' 'Масленникова' 'Сухарева'\n",
      " 'Пономарева' 'Панфилова' 'Беляев' 'Третьякова' 'Горбунов' 'Пантелеева'\n",
      " 'Зайцев' 'Жукова' 'Адамов' 'Антропова' 'Седова' 'Трошин' 'Ахмадулин'\n",
      " 'Вешнякова' 'Чижова' 'Корнилов' 'Еремин' 'Елизаров' 'Крюков' 'Троицкий'\n",
      " 'Худяков' 'Зимина' 'Аракчеев' 'Крючков' 'Давыдов' 'Богданова' 'Анищенко'\n",
      " 'Дубинина' 'Асафьева' 'Черный' 'Абрамцев' 'Чеснокова' 'Симонова'\n",
      " 'Азерников' 'Авраменко' 'Абаимов' 'Абакшина' 'Соловьёв' 'Лаптева' 'Попов'\n",
      " 'Авсейкина' 'Корнилова' 'Касьянова' 'Нестеров' 'Крылова' 'Поликарпова'\n",
      " 'Суслов' 'Амелишко' 'Агапеева' 'Алымова' 'Зыков' 'Парфенов' 'Киселёв'\n",
      " 'Софронов' 'Сальников' 'Носкова' 'Барсуков' 'Севастьянова' 'Аркадьев'\n",
      " 'Золотова' 'Малинина' 'Антонова' 'Алексеичев' 'Орлов' 'Алютин' 'Кузнецов'\n",
      " 'Казакова' 'Верещагина' 'Ёркина' 'Антропов' 'Фокина' 'Громова' 'Курочкин'\n",
      " 'Козырева' 'Румянцева' 'Кулагина' 'Абрикосова' 'Гончаров' 'Ермилов'\n",
      " 'Логинов' 'Абашкин' 'Болдырева' 'Вишняков' 'Фетисова' 'Антоненко'\n",
      " 'Гришина' 'Сысоев' 'Трофимов' 'Авраамова' 'Афанасенко' 'Акимычева'\n",
      " 'Акимов' 'Семин' 'Бычкова' 'Кочергина' 'Нестерова' 'Родионов' 'Зуев'\n",
      " 'Беляева' 'Беликова' 'Зубков' 'Кондратов' 'Савельева' 'Чистякова'\n",
      " 'Ахмедов' 'Абрашина' 'Артёмов' 'Васильева' 'Измайлова' 'Амелин' 'Уваров'\n",
      " 'Белова' 'Семёнов' 'Пирогова' 'Кукушкин' 'Ильин' 'Прокофьева' 'Афонин'\n",
      " 'Фролов' 'Лукин' 'Ёлчина' 'Макаров' 'Ахматов' 'Яшина' 'Корольков'\n",
      " 'Устинова' 'Силин' 'Ёрохова' 'Фомин' 'Азаров' 'Добрынина' 'Тимофеева'\n",
      " 'Кочетков' 'Алёшкова' 'Субботина' 'Ерофеев' 'Селезнева' 'Бородина'\n",
      " 'Афонина' 'Матвеев' 'Белозёров' 'Ковалева' 'Афинин' 'Иванов' 'Артемчук'\n",
      " 'Алешина' 'Дроздов' 'Новикова' 'Козлова' 'Завьялова' 'Абалдуева'\n",
      " 'Акуленко' 'Авринский' 'Авчинникова' 'Абрамычева' 'Авросинова' 'Ёркин'\n",
      " 'Шевцов' 'Александрюк' 'Авдышев' 'Абалкин' 'Лосева' 'Гаврилова' 'Боброва'\n",
      " 'Любимов' 'Фадеева' 'Семенова' 'Серов' 'Константинова' 'Богданов'\n",
      " 'Емельянова' 'Блохина' 'Борисова' 'Сухова' 'Моргунов' 'Кириллов'\n",
      " 'Филатов' 'Алесин' 'Артёменко' 'Ахматулина' 'Андропов' 'Фокин' 'Блохин'\n",
      " 'Агеева' 'Акимчин']\n",
      "Уникальные значения столбца reg_date\n",
      "['2018-05-25' '2018-11-01' '2018-06-17' '2018-08-17' '2018-05-14'\n",
      " '2018-01-25' '2018-02-26' '2018-04-19' '2018-12-19' '2018-03-22'\n",
      " '2018-08-05' '2018-03-19' '2018-03-28' '2018-11-14' '2018-05-15'\n",
      " '2018-04-30' '2018-11-21' '2018-05-22' '2018-04-01' '2018-05-16'\n",
      " '2018-10-22' '2018-04-26' '2018-12-01' '2018-10-31' '2018-03-15'\n",
      " '2018-10-06' '2018-04-10' '2018-10-02' '2018-09-15' '2018-05-23'\n",
      " '2018-11-02' '2018-01-04' '2018-07-15' '2018-08-26' '2018-04-03'\n",
      " '2018-07-14' '2018-10-13' '2018-10-07' '2018-06-21' '2018-06-08'\n",
      " '2018-11-29' '2018-11-25' '2018-07-08' '2018-05-09' '2018-01-30'\n",
      " '2018-08-20' '2018-10-29' '2018-08-19' '2018-03-10' '2018-06-16'\n",
      " '2018-05-28' '2018-07-27' '2018-09-30' '2018-03-20' '2018-01-02'\n",
      " '2018-04-13' '2018-03-12' '2018-04-14' '2018-11-24' '2018-11-16'\n",
      " '2018-04-12' '2018-03-17' '2018-03-08' '2018-06-24' '2018-04-09'\n",
      " '2018-07-16' '2018-12-10' '2018-08-07' '2018-01-09' '2018-02-20'\n",
      " '2018-10-04' '2018-12-30' '2018-10-23' '2018-06-19' '2018-08-12'\n",
      " '2018-03-25' '2018-10-05' '2018-04-24' '2018-12-13' '2018-06-12'\n",
      " '2018-10-03' '2018-06-04' '2018-02-24' '2018-10-11' '2018-05-08'\n",
      " '2018-06-29' '2018-12-23' '2018-06-25' '2018-06-23' '2018-03-16'\n",
      " '2018-07-02' '2018-05-21' '2018-12-04' '2018-02-21' '2018-09-29'\n",
      " '2018-07-20' '2018-02-23' '2018-05-06' '2018-09-04' '2018-01-24'\n",
      " '2018-07-26' '2018-07-28' '2018-04-17' '2018-03-06' '2018-04-22'\n",
      " '2018-05-04' '2018-11-07' '2018-03-18' '2018-09-24' '2018-09-01'\n",
      " '2018-01-19' '2018-04-11' '2018-12-15' '2018-12-17' '2018-12-08'\n",
      " '2018-10-19' '2018-01-16' '2018-01-29' '2018-11-19' '2018-12-02'\n",
      " '2018-07-13' '2018-11-09' '2018-12-31' '2018-03-24' '2018-04-27'\n",
      " '2018-04-29' '2018-07-09' '2018-05-19' '2018-02-05' '2018-10-18'\n",
      " '2018-06-02' '2018-11-12' '2018-02-03' '2018-11-28' '2018-07-03'\n",
      " '2018-10-09' '2018-11-03' '2018-10-14' '2018-12-20' '2018-05-05'\n",
      " '2018-02-17' '2018-04-08' '2018-01-20' '2018-02-02' '2018-11-23'\n",
      " '2018-07-12' '2018-09-03' '2018-08-22' '2018-02-04' '2018-12-07'\n",
      " '2018-06-30' '2018-01-01' '2018-12-03' '2018-06-18' '2018-08-15'\n",
      " '2018-09-10' '2018-04-28' '2018-08-06' '2018-09-20' '2018-03-13'\n",
      " '2018-10-21' '2018-07-29' '2018-06-20' '2018-07-05' '2018-01-21'\n",
      " '2018-11-22' '2018-06-03' '2018-08-30' '2018-12-12' '2018-06-01'\n",
      " '2018-12-22' '2018-11-04' '2018-01-08' '2018-02-27' '2018-05-02'\n",
      " '2018-11-18' '2018-09-26' '2018-08-14' '2018-02-13' '2018-02-19'\n",
      " '2018-09-28' '2018-10-30' '2018-07-17' '2018-07-01' '2018-08-29'\n",
      " '2018-05-03' '2018-08-13' '2018-07-18' '2018-06-09' '2018-09-07'\n",
      " '2018-11-27' '2018-09-23' '2018-09-09' '2018-05-11' '2018-02-08'\n",
      " '2018-09-05' '2018-09-19' '2018-06-05' '2018-01-27' '2018-09-27'\n",
      " '2018-01-23' '2018-07-25' '2018-11-05' '2018-10-25' '2018-11-30'\n",
      " '2018-08-03' '2018-10-24' '2018-03-04' '2018-08-24' '2018-08-02'\n",
      " '2018-05-29' '2018-10-16' '2018-10-08' '2018-06-26' '2018-01-15'\n",
      " '2018-06-22' '2018-12-18' '2018-07-21' '2018-04-18' '2018-09-02'\n",
      " '2018-06-14' '2018-09-14' '2018-12-14' '2018-08-18' '2018-02-06'\n",
      " '2018-12-25' '2018-01-17' '2018-05-31' '2018-02-25' '2018-08-09'\n",
      " '2018-05-07' '2018-01-13' '2018-03-26' '2018-12-21' '2018-08-27'\n",
      " '2018-07-30' '2018-05-12' '2018-01-12' '2018-01-06' '2018-12-06'\n",
      " '2018-11-06' '2018-03-09' '2018-05-20' '2018-05-27' '2018-03-14'\n",
      " '2018-08-28' '2018-07-19' '2018-02-22' '2018-10-12' '2018-08-25'\n",
      " '2018-01-26' '2018-04-23' '2018-08-04' '2018-01-05' '2018-04-04'\n",
      " '2018-11-13' '2018-09-17' '2018-12-29' '2018-08-31' '2018-09-13'\n",
      " '2018-09-16' '2018-10-10' '2018-04-06' '2018-02-28' '2018-02-11'\n",
      " '2018-07-06' '2018-01-18' '2018-11-11' '2018-02-14' '2018-04-25']\n",
      "Уникальные значения столбца tariff\n",
      "['ultra' 'smart']\n",
      "\n"
     ]
    }
   ],
   "source": [
    "info_row(users)"
   ]
  },
  {
   "cell_type": "markdown",
   "metadata": {},
   "source": [
    "### Вывод"
   ]
  },
  {
   "cell_type": "markdown",
   "metadata": {},
   "source": [
    "*На этапе получения ощей информации было выявлено то, что необходимые для исследования данные хранятся в пяти файлах.*   \n",
    "\n",
    "**Описание данных:**\n",
    "1. **Таблица users (информация о пользователях):**  \n",
    "`user_id` — *уникальный идентификатор пользователя*  \n",
    "`first_name`  — *имя пользователя*  \n",
    "`last_name` — *фамилия пользователя*  \n",
    "`age` — *возраст пользователя (годы)*  \n",
    "`reg_date` — *дата подключения тарифа (день, месяц, год)*  \n",
    "`churn_date` — *дата прекращения пользования тарифом (если значение пропущено, то тариф ещё действовал на момент выгрузки данных)* -    \n",
    "`city` — *город проживания пользователя*  \n",
    "`tarif` — *название тарифного плана*  \n",
    "2. **Таблица calls (информация о звонках):** \n",
    "`id` — *уникальный номер звонка*  \n",
    "`call_date` — *дата звонка*  \n",
    "`duration` — *длительность звонка в минутах*  \n",
    "`user_id` — *идентификатор пользователя, сделавшего звонок*  \n",
    "3. **Таблица messages (информация о сообщениях):**  \n",
    "`id` — *уникальный номер сообщения*  \n",
    "`message_date` — *дата сообщения*  \n",
    "`user_id` — *идентификатор пользователя, отправившего сообщение*  \n",
    "4. **Таблица internet (информация об интернет-сессиях):**  \n",
    "`id` — *уникальный номер сессии*  \n",
    "`mb_used` — *объём потраченного за сессию интернет-трафика (в мегабайтах)*  \n",
    "`session_date` — *дата интернет-сессии*  \n",
    "`user_id` — *идентификатор пользователя*  \n",
    "5. **Таблица tariffs (информация о тарифах):**  \n",
    "`tariff_name` — *название тарифа*  \n",
    "`rub_monthly_fee` — *ежемесячная абонентская плата в рублях*  \n",
    "`minutes_included` — *количество минут разговора в месяц, включённых в абонентскую плату*  \n",
    "`messages_included` — *количество сообщений в месяц, включённых в абонентскую плату*  \n",
    "`mb_per_month_included` — *объём интернет-трафика, включённого в абонентскую плату (в мегабайтах)*  \n",
    "`rub_per_minute` — *стоимость минуты разговора сверх тарифного пакета (например, если в тарифе 100 минут разговора в месяц, то со 101 минуты будет взиматься плата)*  \n",
    "`rub_per_message` — *стоимость отправки сообщения сверх тарифного пакета*  \n",
    "`rub_per_gb` — *стоимость дополнительного гигабайта интернет-трафика сверх тарифного пакета (1 гигабайт = 1024 мегабайта)* \n",
    "\n",
    "<font color='red'>**users**: *462 пропуска `churn_date` - видимо у большинства клиентов тариф действовал на момент выгрузки;`reg_date` - несоответствует тип данных*  \n",
    "**calls**: *`call_date` - несоответствует тип данных, `duration` - звонки с нулевой продолжительностью. Это не ошибка: нулями обозначены пропущенные звонки, поэтому их не нужно удалять.*  \n",
    "**messages**: *`message_date` - несоответствует тип данных*  \n",
    "**internet**: *`Unnamed: 0` - дублирует индексы, `session_date` - несоответствует тип данных*</font>"
   ]
  },
  {
   "cell_type": "markdown",
   "metadata": {},
   "source": [
    "## Шаг 2. Подготовьте данные"
   ]
  },
  {
   "cell_type": "markdown",
   "metadata": {},
   "source": [
    "* *Привести данные к нужным типам;*  \n",
    "* *Найти и исправить ошибки в данных, если они есть.*  \n",
    "\n",
    "*Пояснить, какие ошибки  нашли и как их исправили. В данных могут быть звонки с нулевой продолжительностью. Это не ошибка:  \n",
    "нулями обозначены пропущенные звонки, поэтому их не нужно удалять.*  \n",
    "\n",
    "*Посчитать для каждого пользователя:*  \n",
    "* *количество сделанных звонков и израсходованных минут разговора по месяцам;*  \n",
    "* *количество отправленных сообщений по месяцам;*  \n",
    "* *объем израсходованного интернет-трафика по месяцам;*  \n",
    "* *помесячную выручку с каждого пользователя (вычтите бесплатный лимит из суммарного количества звонков, сообщений и интернет-трафика; остаток умножьте на значение из тарифного плана; прибавьте абонентскую плату, соответствующую тарифному плану).*\n",
    "<font color='red'>**План действий:**</font>  \n",
    "<font color='red'>- *Скомпилировать общую выборку клиентов Мегалайн*</font>  \n",
    "<font color='red'>- *Преобразовать тип данных столбцов с датой в datetime*</font>  \n",
    "<font color='red'>- *Сгруппировать данные по `calls`, `internet` и `messages` для необходимых вычислений*</font>  \n",
    "<font color='red'>- *Вывести необходимые выборки по каждому тарифному плану*</font>"
   ]
  },
  {
   "cell_type": "markdown",
   "metadata": {},
   "source": [
    "### Создаем общую выборку клиентов Мегалайн"
   ]
  },
  {
   "cell_type": "code",
   "execution_count": 15,
   "metadata": {
    "ExecuteTime": {
     "end_time": "2022-05-22T15:31:58.103230Z",
     "start_time": "2022-05-22T15:31:58.086253Z"
    }
   },
   "outputs": [],
   "source": [
    "data_users = users.merge(tariffs, left_on='tariff', right_on='tariff_name', how='outer')\n",
    "\n",
    "# Добавим tariffs к users без потери данных в обоих датафреймах"
   ]
  },
  {
   "cell_type": "code",
   "execution_count": 16,
   "metadata": {
    "ExecuteTime": {
     "end_time": "2022-05-22T15:31:59.230182Z",
     "start_time": "2022-05-22T15:31:59.166865Z"
    }
   },
   "outputs": [],
   "source": [
    "data_calls = data_users.merge(calls, on='user_id', how='outer')\n",
    "\n",
    "# Добавим calls к data_users без потери данных в обоих датафреймах"
   ]
  },
  {
   "cell_type": "code",
   "execution_count": 17,
   "metadata": {
    "ExecuteTime": {
     "end_time": "2022-05-22T15:32:00.153796Z",
     "start_time": "2022-05-22T15:32:00.085977Z"
    }
   },
   "outputs": [],
   "source": [
    "data_internet = data_users.merge(internet, on='user_id', how='outer')\n",
    "\n",
    "# Добавим internet к data_users без потери данных в обоих датафреймах"
   ]
  },
  {
   "cell_type": "code",
   "execution_count": 18,
   "metadata": {
    "ExecuteTime": {
     "end_time": "2022-05-22T15:32:00.983908Z",
     "start_time": "2022-05-22T15:32:00.941992Z"
    }
   },
   "outputs": [],
   "source": [
    "data_messages = data_users.merge(messages, on='user_id', how='outer')\n",
    "\n",
    "# Добавим messages к data_users без потери данных в обоих датафреймах"
   ]
  },
  {
   "cell_type": "code",
   "execution_count": 19,
   "metadata": {
    "ExecuteTime": {
     "end_time": "2022-05-22T15:32:04.103173Z",
     "start_time": "2022-05-22T15:32:03.974090Z"
    }
   },
   "outputs": [
    {
     "data": {
      "text/html": [
       "<div>\n",
       "<style scoped>\n",
       "    .dataframe tbody tr th:only-of-type {\n",
       "        vertical-align: middle;\n",
       "    }\n",
       "\n",
       "    .dataframe tbody tr th {\n",
       "        vertical-align: top;\n",
       "    }\n",
       "\n",
       "    .dataframe thead th {\n",
       "        text-align: right;\n",
       "    }\n",
       "</style>\n",
       "<table border=\"1\" class=\"dataframe\">\n",
       "  <thead>\n",
       "    <tr style=\"text-align: right;\">\n",
       "      <th></th>\n",
       "      <th>Unnamed: 0</th>\n",
       "      <th>age</th>\n",
       "      <th>call_date</th>\n",
       "      <th>churn_date</th>\n",
       "      <th>city</th>\n",
       "      <th>duration</th>\n",
       "      <th>first_name</th>\n",
       "      <th>id</th>\n",
       "      <th>last_name</th>\n",
       "      <th>mb_per_month_included</th>\n",
       "      <th>mb_used</th>\n",
       "      <th>message_date</th>\n",
       "      <th>messages_included</th>\n",
       "      <th>minutes_included</th>\n",
       "      <th>reg_date</th>\n",
       "      <th>rub_monthly_fee</th>\n",
       "      <th>rub_per_gb</th>\n",
       "      <th>rub_per_message</th>\n",
       "      <th>rub_per_minute</th>\n",
       "      <th>session_date</th>\n",
       "      <th>tariff</th>\n",
       "      <th>tariff_name</th>\n",
       "      <th>user_id</th>\n",
       "    </tr>\n",
       "  </thead>\n",
       "  <tbody>\n",
       "    <tr>\n",
       "      <th>0</th>\n",
       "      <td>NaN</td>\n",
       "      <td>52</td>\n",
       "      <td>2018-07-25</td>\n",
       "      <td>NaN</td>\n",
       "      <td>Краснодар</td>\n",
       "      <td>0.00</td>\n",
       "      <td>Рафаил</td>\n",
       "      <td>1000_0</td>\n",
       "      <td>Верещагин</td>\n",
       "      <td>30720</td>\n",
       "      <td>NaN</td>\n",
       "      <td>NaN</td>\n",
       "      <td>1000</td>\n",
       "      <td>3000</td>\n",
       "      <td>2018-05-25</td>\n",
       "      <td>1950</td>\n",
       "      <td>150</td>\n",
       "      <td>1</td>\n",
       "      <td>1</td>\n",
       "      <td>NaN</td>\n",
       "      <td>ultra</td>\n",
       "      <td>ultra</td>\n",
       "      <td>1000</td>\n",
       "    </tr>\n",
       "    <tr>\n",
       "      <th>1</th>\n",
       "      <td>NaN</td>\n",
       "      <td>52</td>\n",
       "      <td>2018-08-17</td>\n",
       "      <td>NaN</td>\n",
       "      <td>Краснодар</td>\n",
       "      <td>0.00</td>\n",
       "      <td>Рафаил</td>\n",
       "      <td>1000_1</td>\n",
       "      <td>Верещагин</td>\n",
       "      <td>30720</td>\n",
       "      <td>NaN</td>\n",
       "      <td>NaN</td>\n",
       "      <td>1000</td>\n",
       "      <td>3000</td>\n",
       "      <td>2018-05-25</td>\n",
       "      <td>1950</td>\n",
       "      <td>150</td>\n",
       "      <td>1</td>\n",
       "      <td>1</td>\n",
       "      <td>NaN</td>\n",
       "      <td>ultra</td>\n",
       "      <td>ultra</td>\n",
       "      <td>1000</td>\n",
       "    </tr>\n",
       "    <tr>\n",
       "      <th>2</th>\n",
       "      <td>NaN</td>\n",
       "      <td>52</td>\n",
       "      <td>2018-06-11</td>\n",
       "      <td>NaN</td>\n",
       "      <td>Краснодар</td>\n",
       "      <td>2.85</td>\n",
       "      <td>Рафаил</td>\n",
       "      <td>1000_2</td>\n",
       "      <td>Верещагин</td>\n",
       "      <td>30720</td>\n",
       "      <td>NaN</td>\n",
       "      <td>NaN</td>\n",
       "      <td>1000</td>\n",
       "      <td>3000</td>\n",
       "      <td>2018-05-25</td>\n",
       "      <td>1950</td>\n",
       "      <td>150</td>\n",
       "      <td>1</td>\n",
       "      <td>1</td>\n",
       "      <td>NaN</td>\n",
       "      <td>ultra</td>\n",
       "      <td>ultra</td>\n",
       "      <td>1000</td>\n",
       "    </tr>\n",
       "    <tr>\n",
       "      <th>3</th>\n",
       "      <td>NaN</td>\n",
       "      <td>52</td>\n",
       "      <td>2018-09-21</td>\n",
       "      <td>NaN</td>\n",
       "      <td>Краснодар</td>\n",
       "      <td>13.80</td>\n",
       "      <td>Рафаил</td>\n",
       "      <td>1000_3</td>\n",
       "      <td>Верещагин</td>\n",
       "      <td>30720</td>\n",
       "      <td>NaN</td>\n",
       "      <td>NaN</td>\n",
       "      <td>1000</td>\n",
       "      <td>3000</td>\n",
       "      <td>2018-05-25</td>\n",
       "      <td>1950</td>\n",
       "      <td>150</td>\n",
       "      <td>1</td>\n",
       "      <td>1</td>\n",
       "      <td>NaN</td>\n",
       "      <td>ultra</td>\n",
       "      <td>ultra</td>\n",
       "      <td>1000</td>\n",
       "    </tr>\n",
       "    <tr>\n",
       "      <th>4</th>\n",
       "      <td>NaN</td>\n",
       "      <td>52</td>\n",
       "      <td>2018-12-15</td>\n",
       "      <td>NaN</td>\n",
       "      <td>Краснодар</td>\n",
       "      <td>5.18</td>\n",
       "      <td>Рафаил</td>\n",
       "      <td>1000_4</td>\n",
       "      <td>Верещагин</td>\n",
       "      <td>30720</td>\n",
       "      <td>NaN</td>\n",
       "      <td>NaN</td>\n",
       "      <td>1000</td>\n",
       "      <td>3000</td>\n",
       "      <td>2018-05-25</td>\n",
       "      <td>1950</td>\n",
       "      <td>150</td>\n",
       "      <td>1</td>\n",
       "      <td>1</td>\n",
       "      <td>NaN</td>\n",
       "      <td>ultra</td>\n",
       "      <td>ultra</td>\n",
       "      <td>1000</td>\n",
       "    </tr>\n",
       "    <tr>\n",
       "      <th>5</th>\n",
       "      <td>NaN</td>\n",
       "      <td>52</td>\n",
       "      <td>2018-11-02</td>\n",
       "      <td>NaN</td>\n",
       "      <td>Краснодар</td>\n",
       "      <td>0.00</td>\n",
       "      <td>Рафаил</td>\n",
       "      <td>1000_5</td>\n",
       "      <td>Верещагин</td>\n",
       "      <td>30720</td>\n",
       "      <td>NaN</td>\n",
       "      <td>NaN</td>\n",
       "      <td>1000</td>\n",
       "      <td>3000</td>\n",
       "      <td>2018-05-25</td>\n",
       "      <td>1950</td>\n",
       "      <td>150</td>\n",
       "      <td>1</td>\n",
       "      <td>1</td>\n",
       "      <td>NaN</td>\n",
       "      <td>ultra</td>\n",
       "      <td>ultra</td>\n",
       "      <td>1000</td>\n",
       "    </tr>\n",
       "    <tr>\n",
       "      <th>6</th>\n",
       "      <td>NaN</td>\n",
       "      <td>52</td>\n",
       "      <td>2018-10-18</td>\n",
       "      <td>NaN</td>\n",
       "      <td>Краснодар</td>\n",
       "      <td>0.00</td>\n",
       "      <td>Рафаил</td>\n",
       "      <td>1000_6</td>\n",
       "      <td>Верещагин</td>\n",
       "      <td>30720</td>\n",
       "      <td>NaN</td>\n",
       "      <td>NaN</td>\n",
       "      <td>1000</td>\n",
       "      <td>3000</td>\n",
       "      <td>2018-05-25</td>\n",
       "      <td>1950</td>\n",
       "      <td>150</td>\n",
       "      <td>1</td>\n",
       "      <td>1</td>\n",
       "      <td>NaN</td>\n",
       "      <td>ultra</td>\n",
       "      <td>ultra</td>\n",
       "      <td>1000</td>\n",
       "    </tr>\n",
       "    <tr>\n",
       "      <th>7</th>\n",
       "      <td>NaN</td>\n",
       "      <td>52</td>\n",
       "      <td>2018-08-22</td>\n",
       "      <td>NaN</td>\n",
       "      <td>Краснодар</td>\n",
       "      <td>18.31</td>\n",
       "      <td>Рафаил</td>\n",
       "      <td>1000_7</td>\n",
       "      <td>Верещагин</td>\n",
       "      <td>30720</td>\n",
       "      <td>NaN</td>\n",
       "      <td>NaN</td>\n",
       "      <td>1000</td>\n",
       "      <td>3000</td>\n",
       "      <td>2018-05-25</td>\n",
       "      <td>1950</td>\n",
       "      <td>150</td>\n",
       "      <td>1</td>\n",
       "      <td>1</td>\n",
       "      <td>NaN</td>\n",
       "      <td>ultra</td>\n",
       "      <td>ultra</td>\n",
       "      <td>1000</td>\n",
       "    </tr>\n",
       "    <tr>\n",
       "      <th>8</th>\n",
       "      <td>NaN</td>\n",
       "      <td>52</td>\n",
       "      <td>2018-09-15</td>\n",
       "      <td>NaN</td>\n",
       "      <td>Краснодар</td>\n",
       "      <td>18.44</td>\n",
       "      <td>Рафаил</td>\n",
       "      <td>1000_8</td>\n",
       "      <td>Верещагин</td>\n",
       "      <td>30720</td>\n",
       "      <td>NaN</td>\n",
       "      <td>NaN</td>\n",
       "      <td>1000</td>\n",
       "      <td>3000</td>\n",
       "      <td>2018-05-25</td>\n",
       "      <td>1950</td>\n",
       "      <td>150</td>\n",
       "      <td>1</td>\n",
       "      <td>1</td>\n",
       "      <td>NaN</td>\n",
       "      <td>ultra</td>\n",
       "      <td>ultra</td>\n",
       "      <td>1000</td>\n",
       "    </tr>\n",
       "    <tr>\n",
       "      <th>9</th>\n",
       "      <td>NaN</td>\n",
       "      <td>52</td>\n",
       "      <td>2018-08-15</td>\n",
       "      <td>NaN</td>\n",
       "      <td>Краснодар</td>\n",
       "      <td>0.00</td>\n",
       "      <td>Рафаил</td>\n",
       "      <td>1000_9</td>\n",
       "      <td>Верещагин</td>\n",
       "      <td>30720</td>\n",
       "      <td>NaN</td>\n",
       "      <td>NaN</td>\n",
       "      <td>1000</td>\n",
       "      <td>3000</td>\n",
       "      <td>2018-05-25</td>\n",
       "      <td>1950</td>\n",
       "      <td>150</td>\n",
       "      <td>1</td>\n",
       "      <td>1</td>\n",
       "      <td>NaN</td>\n",
       "      <td>ultra</td>\n",
       "      <td>ultra</td>\n",
       "      <td>1000</td>\n",
       "    </tr>\n",
       "    <tr>\n",
       "      <th>10</th>\n",
       "      <td>NaN</td>\n",
       "      <td>52</td>\n",
       "      <td>2018-08-22</td>\n",
       "      <td>NaN</td>\n",
       "      <td>Краснодар</td>\n",
       "      <td>5.03</td>\n",
       "      <td>Рафаил</td>\n",
       "      <td>1000_10</td>\n",
       "      <td>Верещагин</td>\n",
       "      <td>30720</td>\n",
       "      <td>NaN</td>\n",
       "      <td>NaN</td>\n",
       "      <td>1000</td>\n",
       "      <td>3000</td>\n",
       "      <td>2018-05-25</td>\n",
       "      <td>1950</td>\n",
       "      <td>150</td>\n",
       "      <td>1</td>\n",
       "      <td>1</td>\n",
       "      <td>NaN</td>\n",
       "      <td>ultra</td>\n",
       "      <td>ultra</td>\n",
       "      <td>1000</td>\n",
       "    </tr>\n",
       "    <tr>\n",
       "      <th>11</th>\n",
       "      <td>NaN</td>\n",
       "      <td>52</td>\n",
       "      <td>2018-05-28</td>\n",
       "      <td>NaN</td>\n",
       "      <td>Краснодар</td>\n",
       "      <td>18.82</td>\n",
       "      <td>Рафаил</td>\n",
       "      <td>1000_11</td>\n",
       "      <td>Верещагин</td>\n",
       "      <td>30720</td>\n",
       "      <td>NaN</td>\n",
       "      <td>NaN</td>\n",
       "      <td>1000</td>\n",
       "      <td>3000</td>\n",
       "      <td>2018-05-25</td>\n",
       "      <td>1950</td>\n",
       "      <td>150</td>\n",
       "      <td>1</td>\n",
       "      <td>1</td>\n",
       "      <td>NaN</td>\n",
       "      <td>ultra</td>\n",
       "      <td>ultra</td>\n",
       "      <td>1000</td>\n",
       "    </tr>\n",
       "    <tr>\n",
       "      <th>12</th>\n",
       "      <td>NaN</td>\n",
       "      <td>52</td>\n",
       "      <td>2018-07-05</td>\n",
       "      <td>NaN</td>\n",
       "      <td>Краснодар</td>\n",
       "      <td>2.02</td>\n",
       "      <td>Рафаил</td>\n",
       "      <td>1000_12</td>\n",
       "      <td>Верещагин</td>\n",
       "      <td>30720</td>\n",
       "      <td>NaN</td>\n",
       "      <td>NaN</td>\n",
       "      <td>1000</td>\n",
       "      <td>3000</td>\n",
       "      <td>2018-05-25</td>\n",
       "      <td>1950</td>\n",
       "      <td>150</td>\n",
       "      <td>1</td>\n",
       "      <td>1</td>\n",
       "      <td>NaN</td>\n",
       "      <td>ultra</td>\n",
       "      <td>ultra</td>\n",
       "      <td>1000</td>\n",
       "    </tr>\n",
       "    <tr>\n",
       "      <th>13</th>\n",
       "      <td>NaN</td>\n",
       "      <td>52</td>\n",
       "      <td>2018-09-29</td>\n",
       "      <td>NaN</td>\n",
       "      <td>Краснодар</td>\n",
       "      <td>7.15</td>\n",
       "      <td>Рафаил</td>\n",
       "      <td>1000_13</td>\n",
       "      <td>Верещагин</td>\n",
       "      <td>30720</td>\n",
       "      <td>NaN</td>\n",
       "      <td>NaN</td>\n",
       "      <td>1000</td>\n",
       "      <td>3000</td>\n",
       "      <td>2018-05-25</td>\n",
       "      <td>1950</td>\n",
       "      <td>150</td>\n",
       "      <td>1</td>\n",
       "      <td>1</td>\n",
       "      <td>NaN</td>\n",
       "      <td>ultra</td>\n",
       "      <td>ultra</td>\n",
       "      <td>1000</td>\n",
       "    </tr>\n",
       "    <tr>\n",
       "      <th>14</th>\n",
       "      <td>NaN</td>\n",
       "      <td>52</td>\n",
       "      <td>2018-12-11</td>\n",
       "      <td>NaN</td>\n",
       "      <td>Краснодар</td>\n",
       "      <td>9.13</td>\n",
       "      <td>Рафаил</td>\n",
       "      <td>1000_14</td>\n",
       "      <td>Верещагин</td>\n",
       "      <td>30720</td>\n",
       "      <td>NaN</td>\n",
       "      <td>NaN</td>\n",
       "      <td>1000</td>\n",
       "      <td>3000</td>\n",
       "      <td>2018-05-25</td>\n",
       "      <td>1950</td>\n",
       "      <td>150</td>\n",
       "      <td>1</td>\n",
       "      <td>1</td>\n",
       "      <td>NaN</td>\n",
       "      <td>ultra</td>\n",
       "      <td>ultra</td>\n",
       "      <td>1000</td>\n",
       "    </tr>\n",
       "  </tbody>\n",
       "</table>\n",
       "</div>"
      ],
      "text/plain": [
       "    Unnamed: 0  age   call_date churn_date       city  duration first_name  \\\n",
       "0          NaN   52  2018-07-25        NaN  Краснодар      0.00     Рафаил   \n",
       "1          NaN   52  2018-08-17        NaN  Краснодар      0.00     Рафаил   \n",
       "2          NaN   52  2018-06-11        NaN  Краснодар      2.85     Рафаил   \n",
       "3          NaN   52  2018-09-21        NaN  Краснодар     13.80     Рафаил   \n",
       "4          NaN   52  2018-12-15        NaN  Краснодар      5.18     Рафаил   \n",
       "5          NaN   52  2018-11-02        NaN  Краснодар      0.00     Рафаил   \n",
       "6          NaN   52  2018-10-18        NaN  Краснодар      0.00     Рафаил   \n",
       "7          NaN   52  2018-08-22        NaN  Краснодар     18.31     Рафаил   \n",
       "8          NaN   52  2018-09-15        NaN  Краснодар     18.44     Рафаил   \n",
       "9          NaN   52  2018-08-15        NaN  Краснодар      0.00     Рафаил   \n",
       "10         NaN   52  2018-08-22        NaN  Краснодар      5.03     Рафаил   \n",
       "11         NaN   52  2018-05-28        NaN  Краснодар     18.82     Рафаил   \n",
       "12         NaN   52  2018-07-05        NaN  Краснодар      2.02     Рафаил   \n",
       "13         NaN   52  2018-09-29        NaN  Краснодар      7.15     Рафаил   \n",
       "14         NaN   52  2018-12-11        NaN  Краснодар      9.13     Рафаил   \n",
       "\n",
       "         id  last_name  mb_per_month_included  mb_used message_date  \\\n",
       "0    1000_0  Верещагин                  30720      NaN          NaN   \n",
       "1    1000_1  Верещагин                  30720      NaN          NaN   \n",
       "2    1000_2  Верещагин                  30720      NaN          NaN   \n",
       "3    1000_3  Верещагин                  30720      NaN          NaN   \n",
       "4    1000_4  Верещагин                  30720      NaN          NaN   \n",
       "5    1000_5  Верещагин                  30720      NaN          NaN   \n",
       "6    1000_6  Верещагин                  30720      NaN          NaN   \n",
       "7    1000_7  Верещагин                  30720      NaN          NaN   \n",
       "8    1000_8  Верещагин                  30720      NaN          NaN   \n",
       "9    1000_9  Верещагин                  30720      NaN          NaN   \n",
       "10  1000_10  Верещагин                  30720      NaN          NaN   \n",
       "11  1000_11  Верещагин                  30720      NaN          NaN   \n",
       "12  1000_12  Верещагин                  30720      NaN          NaN   \n",
       "13  1000_13  Верещагин                  30720      NaN          NaN   \n",
       "14  1000_14  Верещагин                  30720      NaN          NaN   \n",
       "\n",
       "    messages_included  minutes_included    reg_date  rub_monthly_fee  \\\n",
       "0                1000              3000  2018-05-25             1950   \n",
       "1                1000              3000  2018-05-25             1950   \n",
       "2                1000              3000  2018-05-25             1950   \n",
       "3                1000              3000  2018-05-25             1950   \n",
       "4                1000              3000  2018-05-25             1950   \n",
       "5                1000              3000  2018-05-25             1950   \n",
       "6                1000              3000  2018-05-25             1950   \n",
       "7                1000              3000  2018-05-25             1950   \n",
       "8                1000              3000  2018-05-25             1950   \n",
       "9                1000              3000  2018-05-25             1950   \n",
       "10               1000              3000  2018-05-25             1950   \n",
       "11               1000              3000  2018-05-25             1950   \n",
       "12               1000              3000  2018-05-25             1950   \n",
       "13               1000              3000  2018-05-25             1950   \n",
       "14               1000              3000  2018-05-25             1950   \n",
       "\n",
       "    rub_per_gb  rub_per_message  rub_per_minute session_date tariff  \\\n",
       "0          150                1               1          NaN  ultra   \n",
       "1          150                1               1          NaN  ultra   \n",
       "2          150                1               1          NaN  ultra   \n",
       "3          150                1               1          NaN  ultra   \n",
       "4          150                1               1          NaN  ultra   \n",
       "5          150                1               1          NaN  ultra   \n",
       "6          150                1               1          NaN  ultra   \n",
       "7          150                1               1          NaN  ultra   \n",
       "8          150                1               1          NaN  ultra   \n",
       "9          150                1               1          NaN  ultra   \n",
       "10         150                1               1          NaN  ultra   \n",
       "11         150                1               1          NaN  ultra   \n",
       "12         150                1               1          NaN  ultra   \n",
       "13         150                1               1          NaN  ultra   \n",
       "14         150                1               1          NaN  ultra   \n",
       "\n",
       "   tariff_name  user_id  \n",
       "0        ultra     1000  \n",
       "1        ultra     1000  \n",
       "2        ultra     1000  \n",
       "3        ultra     1000  \n",
       "4        ultra     1000  \n",
       "5        ultra     1000  \n",
       "6        ultra     1000  \n",
       "7        ultra     1000  \n",
       "8        ultra     1000  \n",
       "9        ultra     1000  \n",
       "10       ultra     1000  \n",
       "11       ultra     1000  \n",
       "12       ultra     1000  \n",
       "13       ultra     1000  \n",
       "14       ultra     1000  "
      ]
     },
     "execution_count": 19,
     "metadata": {},
     "output_type": "execute_result"
    }
   ],
   "source": [
    "megaline_sampl = data_calls.append([data_internet,data_messages],sort=True)\n",
    "megaline_sampl.head(15)\n",
    "\n",
    "# Объединим все полученные данные в одну таблицу megaline_sampl "
   ]
  },
  {
   "cell_type": "code",
   "execution_count": 20,
   "metadata": {
    "ExecuteTime": {
     "end_time": "2022-05-22T15:32:28.514955Z",
     "start_time": "2022-05-22T15:32:20.245991Z"
    }
   },
   "outputs": [
    {
     "data": {
      "image/png": "[encoded data removed]",
      "text/plain": [
       "<Figure size 1440x1440 with 2 Axes>"
      ]
     },
     "metadata": {
      "needs_background": "light"
     },
     "output_type": "display_data"
    }
   ],
   "source": [
    "columns = megaline_sampl.columns[:]\n",
    "colours = ['#ADD8E6', '#FFFACD'] \n",
    "\n",
    "plt.figure(figsize=(20, 20))\n",
    "sns.heatmap(megaline_sampl[columns].isnull(), cmap=sns.color_palette(colours))\n",
    "plt.show()\n",
    "\n",
    "# Посмотрим на общее количество пропусков с помощью heatmap"
   ]
  },
  {
   "cell_type": "markdown",
   "metadata": {},
   "source": [
    "*Таблица получилась достаточно длинной с большим количеством пропусков за счёт последовательного  присоединения данных методом merge(),способом 'outer'(без потери данных) однако такую таблицу легко группировать для дальнейших исследований.*"
   ]
  },
  {
   "cell_type": "markdown",
   "metadata": {},
   "source": [
    "### Обработка общей выборки"
   ]
  },
  {
   "cell_type": "code",
   "execution_count": 21,
   "metadata": {
    "ExecuteTime": {
     "end_time": "2022-05-22T15:33:10.711545Z",
     "start_time": "2022-05-22T15:33:10.628922Z"
    }
   },
   "outputs": [],
   "source": [
    "megaline_sampl.drop(['Unnamed: 0','tariff_name'],axis='columns',inplace=True)\n",
    "\n",
    "# Удаляем ошибочный столбец Unnamed: 0 и  столбец tariff_name,\n",
    "# который дублирует имеющийся tariff"
   ]
  },
  {
   "cell_type": "code",
   "execution_count": 22,
   "metadata": {
    "ExecuteTime": {
     "end_time": "2022-05-22T15:36:10.724958Z",
     "start_time": "2022-05-22T15:36:10.355612Z"
    }
   },
   "outputs": [],
   "source": [
    "columns_list = ['call_date','churn_date','reg_date','session_date','message_date']\n",
    "\n",
    "def date_time(columns_list):\n",
    "    '''\n",
    "        Input: columns_list - список (list).\n",
    "        Output: None.\n",
    "        Description: Функция для всех значений, принимаемого в аргумент списка, меняет тип \n",
    "                     одноименного столбца megaline_sampl на тип datetime.\n",
    "\n",
    "    '''    \n",
    "    for column in columns_list:\n",
    "        megaline_sampl[column] = pd.to_datetime(megaline_sampl[column],format='%Y-%m-%d')\n",
    "        \n",
    "date_time(columns_list)"
   ]
  },
  {
   "cell_type": "code",
   "execution_count": 23,
   "metadata": {
    "ExecuteTime": {
     "end_time": "2022-05-22T15:36:19.518185Z",
     "start_time": "2022-05-22T15:36:19.422386Z"
    }
   },
   "outputs": [
    {
     "name": "stdout",
     "output_type": "stream",
     "text": [
      "<class 'pandas.core.frame.DataFrame'>\n",
      "Int64Index: 475124 entries, 0 to 123109\n",
      "Data columns (total 21 columns):\n",
      " #   Column                 Non-Null Count   Dtype         \n",
      "---  ------                 --------------   -----         \n",
      " 0   age                    475124 non-null  int64         \n",
      " 1   call_date              202607 non-null  datetime64[ns]\n",
      " 2   churn_date             23019 non-null   datetime64[ns]\n",
      " 3   city                   475124 non-null  object        \n",
      " 4   duration               202607 non-null  float64       \n",
      " 5   first_name             475124 non-null  object        \n",
      " 6   id                     475039 non-null  object        \n",
      " 7   last_name              475124 non-null  object        \n",
      " 8   mb_per_month_included  475124 non-null  int64         \n",
      " 9   mb_used                149396 non-null  float64       \n",
      " 10  message_date           123036 non-null  datetime64[ns]\n",
      " 11  messages_included      475124 non-null  int64         \n",
      " 12  minutes_included       475124 non-null  int64         \n",
      " 13  reg_date               475124 non-null  datetime64[ns]\n",
      " 14  rub_monthly_fee        475124 non-null  int64         \n",
      " 15  rub_per_gb             475124 non-null  int64         \n",
      " 16  rub_per_message        475124 non-null  int64         \n",
      " 17  rub_per_minute         475124 non-null  int64         \n",
      " 18  session_date           149396 non-null  datetime64[ns]\n",
      " 19  tariff                 475124 non-null  object        \n",
      " 20  user_id                475124 non-null  int64         \n",
      "dtypes: datetime64[ns](5), float64(2), int64(9), object(5)\n",
      "memory usage: 79.7+ MB\n"
     ]
    }
   ],
   "source": [
    "megaline_sampl.info()"
   ]
  },
  {
   "cell_type": "markdown",
   "metadata": {},
   "source": [
    "*Для удобства расчетов, в дальшейшем, необходимо создать столбцы месяцев для calls message internet*"
   ]
  },
  {
   "cell_type": "code",
   "execution_count": 24,
   "metadata": {
    "ExecuteTime": {
     "end_time": "2022-05-22T15:36:55.322842Z",
     "start_time": "2022-05-22T15:36:55.253917Z"
    }
   },
   "outputs": [],
   "source": [
    "megaline_sampl['month_calls'] = megaline_sampl['call_date'].dt.month\n",
    "megaline_sampl['month_int'] = megaline_sampl['session_date'].dt.month\n",
    "megaline_sampl['month_mess'] = megaline_sampl['message_date'].dt.month\n",
    "\n",
    "# Создаем отдельные столбцы месяцев\n",
    "# для каждой из вычисляемых позиций"
   ]
  },
  {
   "cell_type": "code",
   "execution_count": 25,
   "metadata": {
    "ExecuteTime": {
     "end_time": "2022-05-22T15:37:16.957856Z",
     "start_time": "2022-05-22T15:37:16.934895Z"
    }
   },
   "outputs": [],
   "source": [
    "megaline_sampl['duration'] = megaline_sampl['duration'].apply(np.ceil)\n",
    "megaline_sampl['mb_used'] = megaline_sampl['mb_used'].apply(np.ceil)\n",
    "\n",
    "# Округляем в большую сторону значения длительности звонков и потраченных мегабайт\n",
    "# в соответствии с тарифными условиями компании"
   ]
  },
  {
   "cell_type": "markdown",
   "metadata": {},
   "source": [
    "### Группировка данных по calls, internet и messages"
   ]
  },
  {
   "cell_type": "markdown",
   "metadata": {},
   "source": [
    "#### calls"
   ]
  },
  {
   "cell_type": "code",
   "execution_count": 27,
   "metadata": {
    "ExecuteTime": {
     "end_time": "2022-05-22T15:37:49.079810Z",
     "start_time": "2022-05-22T15:37:48.944192Z"
    }
   },
   "outputs": [
    {
     "data": {
      "text/html": [
       "<div>\n",
       "<style scoped>\n",
       "    .dataframe tbody tr th:only-of-type {\n",
       "        vertical-align: middle;\n",
       "    }\n",
       "\n",
       "    .dataframe tbody tr th {\n",
       "        vertical-align: top;\n",
       "    }\n",
       "\n",
       "    .dataframe thead th {\n",
       "        text-align: right;\n",
       "    }\n",
       "</style>\n",
       "<table border=\"1\" class=\"dataframe\">\n",
       "  <thead>\n",
       "    <tr style=\"text-align: right;\">\n",
       "      <th></th>\n",
       "      <th>tariff</th>\n",
       "      <th>user_id</th>\n",
       "      <th>minutes_included</th>\n",
       "      <th>rub_per_minute</th>\n",
       "      <th>rub_monthly_fee</th>\n",
       "      <th>city</th>\n",
       "      <th>month_calls</th>\n",
       "      <th>count</th>\n",
       "      <th>sum</th>\n",
       "    </tr>\n",
       "  </thead>\n",
       "  <tbody>\n",
       "    <tr>\n",
       "      <th>0</th>\n",
       "      <td>smart</td>\n",
       "      <td>1001</td>\n",
       "      <td>500</td>\n",
       "      <td>3</td>\n",
       "      <td>550</td>\n",
       "      <td>Москва</td>\n",
       "      <td>11.0</td>\n",
       "      <td>59</td>\n",
       "      <td>430.0</td>\n",
       "    </tr>\n",
       "    <tr>\n",
       "      <th>1</th>\n",
       "      <td>smart</td>\n",
       "      <td>1001</td>\n",
       "      <td>500</td>\n",
       "      <td>3</td>\n",
       "      <td>550</td>\n",
       "      <td>Москва</td>\n",
       "      <td>12.0</td>\n",
       "      <td>63</td>\n",
       "      <td>414.0</td>\n",
       "    </tr>\n",
       "    <tr>\n",
       "      <th>2</th>\n",
       "      <td>smart</td>\n",
       "      <td>1002</td>\n",
       "      <td>500</td>\n",
       "      <td>3</td>\n",
       "      <td>550</td>\n",
       "      <td>Стерлитамак</td>\n",
       "      <td>6.0</td>\n",
       "      <td>15</td>\n",
       "      <td>117.0</td>\n",
       "    </tr>\n",
       "    <tr>\n",
       "      <th>3</th>\n",
       "      <td>smart</td>\n",
       "      <td>1002</td>\n",
       "      <td>500</td>\n",
       "      <td>3</td>\n",
       "      <td>550</td>\n",
       "      <td>Стерлитамак</td>\n",
       "      <td>7.0</td>\n",
       "      <td>26</td>\n",
       "      <td>214.0</td>\n",
       "    </tr>\n",
       "    <tr>\n",
       "      <th>4</th>\n",
       "      <td>smart</td>\n",
       "      <td>1002</td>\n",
       "      <td>500</td>\n",
       "      <td>3</td>\n",
       "      <td>550</td>\n",
       "      <td>Стерлитамак</td>\n",
       "      <td>8.0</td>\n",
       "      <td>42</td>\n",
       "      <td>289.0</td>\n",
       "    </tr>\n",
       "    <tr>\n",
       "      <th>5</th>\n",
       "      <td>smart</td>\n",
       "      <td>1002</td>\n",
       "      <td>500</td>\n",
       "      <td>3</td>\n",
       "      <td>550</td>\n",
       "      <td>Стерлитамак</td>\n",
       "      <td>9.0</td>\n",
       "      <td>36</td>\n",
       "      <td>206.0</td>\n",
       "    </tr>\n",
       "    <tr>\n",
       "      <th>6</th>\n",
       "      <td>smart</td>\n",
       "      <td>1002</td>\n",
       "      <td>500</td>\n",
       "      <td>3</td>\n",
       "      <td>550</td>\n",
       "      <td>Стерлитамак</td>\n",
       "      <td>10.0</td>\n",
       "      <td>33</td>\n",
       "      <td>212.0</td>\n",
       "    </tr>\n",
       "    <tr>\n",
       "      <th>7</th>\n",
       "      <td>smart</td>\n",
       "      <td>1002</td>\n",
       "      <td>500</td>\n",
       "      <td>3</td>\n",
       "      <td>550</td>\n",
       "      <td>Стерлитамак</td>\n",
       "      <td>11.0</td>\n",
       "      <td>32</td>\n",
       "      <td>243.0</td>\n",
       "    </tr>\n",
       "    <tr>\n",
       "      <th>8</th>\n",
       "      <td>smart</td>\n",
       "      <td>1002</td>\n",
       "      <td>500</td>\n",
       "      <td>3</td>\n",
       "      <td>550</td>\n",
       "      <td>Стерлитамак</td>\n",
       "      <td>12.0</td>\n",
       "      <td>33</td>\n",
       "      <td>236.0</td>\n",
       "    </tr>\n",
       "    <tr>\n",
       "      <th>9</th>\n",
       "      <td>smart</td>\n",
       "      <td>1005</td>\n",
       "      <td>500</td>\n",
       "      <td>3</td>\n",
       "      <td>550</td>\n",
       "      <td>Набережные Челны</td>\n",
       "      <td>1.0</td>\n",
       "      <td>15</td>\n",
       "      <td>95.0</td>\n",
       "    </tr>\n",
       "    <tr>\n",
       "      <th>10</th>\n",
       "      <td>smart</td>\n",
       "      <td>1005</td>\n",
       "      <td>500</td>\n",
       "      <td>3</td>\n",
       "      <td>550</td>\n",
       "      <td>Набережные Челны</td>\n",
       "      <td>2.0</td>\n",
       "      <td>69</td>\n",
       "      <td>456.0</td>\n",
       "    </tr>\n",
       "    <tr>\n",
       "      <th>11</th>\n",
       "      <td>smart</td>\n",
       "      <td>1005</td>\n",
       "      <td>500</td>\n",
       "      <td>3</td>\n",
       "      <td>550</td>\n",
       "      <td>Набережные Челны</td>\n",
       "      <td>3.0</td>\n",
       "      <td>77</td>\n",
       "      <td>606.0</td>\n",
       "    </tr>\n",
       "    <tr>\n",
       "      <th>12</th>\n",
       "      <td>smart</td>\n",
       "      <td>1005</td>\n",
       "      <td>500</td>\n",
       "      <td>3</td>\n",
       "      <td>550</td>\n",
       "      <td>Набережные Челны</td>\n",
       "      <td>4.0</td>\n",
       "      <td>101</td>\n",
       "      <td>712.0</td>\n",
       "    </tr>\n",
       "    <tr>\n",
       "      <th>13</th>\n",
       "      <td>smart</td>\n",
       "      <td>1005</td>\n",
       "      <td>500</td>\n",
       "      <td>3</td>\n",
       "      <td>550</td>\n",
       "      <td>Набережные Челны</td>\n",
       "      <td>5.0</td>\n",
       "      <td>73</td>\n",
       "      <td>595.0</td>\n",
       "    </tr>\n",
       "    <tr>\n",
       "      <th>14</th>\n",
       "      <td>smart</td>\n",
       "      <td>1005</td>\n",
       "      <td>500</td>\n",
       "      <td>3</td>\n",
       "      <td>550</td>\n",
       "      <td>Набережные Челны</td>\n",
       "      <td>6.0</td>\n",
       "      <td>80</td>\n",
       "      <td>612.0</td>\n",
       "    </tr>\n",
       "  </tbody>\n",
       "</table>\n",
       "</div>"
      ],
      "text/plain": [
       "   tariff  user_id  minutes_included  rub_per_minute  rub_monthly_fee  \\\n",
       "0   smart     1001               500               3              550   \n",
       "1   smart     1001               500               3              550   \n",
       "2   smart     1002               500               3              550   \n",
       "3   smart     1002               500               3              550   \n",
       "4   smart     1002               500               3              550   \n",
       "5   smart     1002               500               3              550   \n",
       "6   smart     1002               500               3              550   \n",
       "7   smart     1002               500               3              550   \n",
       "8   smart     1002               500               3              550   \n",
       "9   smart     1005               500               3              550   \n",
       "10  smart     1005               500               3              550   \n",
       "11  smart     1005               500               3              550   \n",
       "12  smart     1005               500               3              550   \n",
       "13  smart     1005               500               3              550   \n",
       "14  smart     1005               500               3              550   \n",
       "\n",
       "                city  month_calls  count    sum  \n",
       "0             Москва         11.0     59  430.0  \n",
       "1             Москва         12.0     63  414.0  \n",
       "2        Стерлитамак          6.0     15  117.0  \n",
       "3        Стерлитамак          7.0     26  214.0  \n",
       "4        Стерлитамак          8.0     42  289.0  \n",
       "5        Стерлитамак          9.0     36  206.0  \n",
       "6        Стерлитамак         10.0     33  212.0  \n",
       "7        Стерлитамак         11.0     32  243.0  \n",
       "8        Стерлитамак         12.0     33  236.0  \n",
       "9   Набережные Челны          1.0     15   95.0  \n",
       "10  Набережные Челны          2.0     69  456.0  \n",
       "11  Набережные Челны          3.0     77  606.0  \n",
       "12  Набережные Челны          4.0    101  712.0  \n",
       "13  Набережные Челны          5.0     73  595.0  \n",
       "14  Набережные Челны          6.0     80  612.0  "
      ]
     },
     "execution_count": 27,
     "metadata": {},
     "output_type": "execute_result"
    }
   ],
   "source": [
    "calls_stat = (megaline_sampl.groupby([\n",
    "    'tariff', 'user_id', 'minutes_included','rub_per_minute',\n",
    "    'rub_monthly_fee', 'city', 'month_calls'\n",
    "])['duration'].agg(['count', 'sum']).reset_index())\n",
    "calls_stat.head(15)\n",
    "\n",
    "# Сгруппируем данные по calls и посчитаем для каждого пользователя количество сделанных звонков \n",
    "# и израсходованных минут разговора по месяцам"
   ]
  },
  {
   "cell_type": "markdown",
   "metadata": {},
   "source": [
    "*Создаем столбец с выручкой по звонкам:вычитаем бесплатный лимит из суммарного количества звонков, остаток умножаем на значение из тарифного плана. Учитываем, что оператор всегда округляет вверх значения минут и мегабайтов. Если пользователь проговорил всего 1 секунду, в тарифе засчитывается целая минута.*"
   ]
  },
  {
   "cell_type": "code",
   "execution_count": 28,
   "metadata": {
    "ExecuteTime": {
     "end_time": "2022-05-22T15:38:50.109979Z",
     "start_time": "2022-05-22T15:38:50.078038Z"
    }
   },
   "outputs": [
    {
     "data": {
      "text/html": [
       "<div>\n",
       "<style scoped>\n",
       "    .dataframe tbody tr th:only-of-type {\n",
       "        vertical-align: middle;\n",
       "    }\n",
       "\n",
       "    .dataframe tbody tr th {\n",
       "        vertical-align: top;\n",
       "    }\n",
       "\n",
       "    .dataframe thead th {\n",
       "        text-align: right;\n",
       "    }\n",
       "</style>\n",
       "<table border=\"1\" class=\"dataframe\">\n",
       "  <thead>\n",
       "    <tr style=\"text-align: right;\">\n",
       "      <th></th>\n",
       "      <th>index</th>\n",
       "      <th>tariff</th>\n",
       "      <th>user_id</th>\n",
       "      <th>minutes_included</th>\n",
       "      <th>rub_per_minute</th>\n",
       "      <th>rub_monthly_fee</th>\n",
       "      <th>city</th>\n",
       "      <th>month_calls</th>\n",
       "      <th>count</th>\n",
       "      <th>sum</th>\n",
       "      <th>extra_calls</th>\n",
       "      <th>extra_calls_rub</th>\n",
       "    </tr>\n",
       "  </thead>\n",
       "  <tbody>\n",
       "    <tr>\n",
       "      <th>0</th>\n",
       "      <td>11</td>\n",
       "      <td>smart</td>\n",
       "      <td>1005</td>\n",
       "      <td>500</td>\n",
       "      <td>3</td>\n",
       "      <td>550</td>\n",
       "      <td>Набережные Челны</td>\n",
       "      <td>3.0</td>\n",
       "      <td>77</td>\n",
       "      <td>606.0</td>\n",
       "      <td>106</td>\n",
       "      <td>318</td>\n",
       "    </tr>\n",
       "    <tr>\n",
       "      <th>1</th>\n",
       "      <td>12</td>\n",
       "      <td>smart</td>\n",
       "      <td>1005</td>\n",
       "      <td>500</td>\n",
       "      <td>3</td>\n",
       "      <td>550</td>\n",
       "      <td>Набережные Челны</td>\n",
       "      <td>4.0</td>\n",
       "      <td>101</td>\n",
       "      <td>712.0</td>\n",
       "      <td>212</td>\n",
       "      <td>636</td>\n",
       "    </tr>\n",
       "    <tr>\n",
       "      <th>2</th>\n",
       "      <td>13</td>\n",
       "      <td>smart</td>\n",
       "      <td>1005</td>\n",
       "      <td>500</td>\n",
       "      <td>3</td>\n",
       "      <td>550</td>\n",
       "      <td>Набережные Челны</td>\n",
       "      <td>5.0</td>\n",
       "      <td>73</td>\n",
       "      <td>595.0</td>\n",
       "      <td>95</td>\n",
       "      <td>285</td>\n",
       "    </tr>\n",
       "    <tr>\n",
       "      <th>3</th>\n",
       "      <td>14</td>\n",
       "      <td>smart</td>\n",
       "      <td>1005</td>\n",
       "      <td>500</td>\n",
       "      <td>3</td>\n",
       "      <td>550</td>\n",
       "      <td>Набережные Челны</td>\n",
       "      <td>6.0</td>\n",
       "      <td>80</td>\n",
       "      <td>612.0</td>\n",
       "      <td>112</td>\n",
       "      <td>336</td>\n",
       "    </tr>\n",
       "    <tr>\n",
       "      <th>4</th>\n",
       "      <td>15</td>\n",
       "      <td>smart</td>\n",
       "      <td>1005</td>\n",
       "      <td>500</td>\n",
       "      <td>3</td>\n",
       "      <td>550</td>\n",
       "      <td>Набережные Челны</td>\n",
       "      <td>7.0</td>\n",
       "      <td>77</td>\n",
       "      <td>569.0</td>\n",
       "      <td>69</td>\n",
       "      <td>207</td>\n",
       "    </tr>\n",
       "  </tbody>\n",
       "</table>\n",
       "</div>"
      ],
      "text/plain": [
       "   index tariff  user_id  minutes_included  rub_per_minute  rub_monthly_fee  \\\n",
       "0     11  smart     1005               500               3              550   \n",
       "1     12  smart     1005               500               3              550   \n",
       "2     13  smart     1005               500               3              550   \n",
       "3     14  smart     1005               500               3              550   \n",
       "4     15  smart     1005               500               3              550   \n",
       "\n",
       "               city  month_calls  count    sum  extra_calls  extra_calls_rub  \n",
       "0  Набережные Челны          3.0     77  606.0          106              318  \n",
       "1  Набережные Челны          4.0    101  712.0          212              636  \n",
       "2  Набережные Челны          5.0     73  595.0           95              285  \n",
       "3  Набережные Челны          6.0     80  612.0          112              336  \n",
       "4  Набережные Челны          7.0     77  569.0           69              207  "
      ]
     },
     "execution_count": 28,
     "metadata": {},
     "output_type": "execute_result"
    }
   ],
   "source": [
    "calls_stat['extra_calls'] = calls_stat['sum']-calls_stat['minutes_included']\n",
    "calls_stat_good = calls_stat.query('extra_calls > 0').reset_index()\n",
    "calls_stat_good['extra_calls'] = np.ceil(calls_stat_good['extra_calls']).astype(int)\n",
    "calls_stat_good['extra_calls_rub'] = calls_stat_good['extra_calls']*calls_stat_good['rub_per_minute']\n",
    "calls_stat_good.head()\n",
    "\n",
    "# Вычтем бесплатный лимит из суммарного количества звонков и сохраним в новом столбце extra_calls.\n",
    "# Оставим лишь те, что превысили лимит, выберем их изметодом query и сохраним в calls_stat_good.\n",
    "# В соответствии с политикой компании округлим в большую сторону и приведем к типу int.\n",
    "# Остаток умножим на значение из тарифного плана."
   ]
  },
  {
   "cell_type": "markdown",
   "metadata": {},
   "source": [
    "#### Вывод по calls"
   ]
  },
  {
   "cell_type": "markdown",
   "metadata": {},
   "source": [
    "*Данные по звонкам преобразованы. Таблица содержит 'id' пользователя, месяцы, общее количество минут сверх лимита, а так же выручку без учета абонентской платы за месяц.* "
   ]
  },
  {
   "cell_type": "markdown",
   "metadata": {},
   "source": [
    "#### internet"
   ]
  },
  {
   "cell_type": "code",
   "execution_count": 29,
   "metadata": {
    "ExecuteTime": {
     "end_time": "2022-05-22T15:39:20.729954Z",
     "start_time": "2022-05-22T15:39:20.640169Z"
    }
   },
   "outputs": [
    {
     "data": {
      "text/html": [
       "<div>\n",
       "<style scoped>\n",
       "    .dataframe tbody tr th:only-of-type {\n",
       "        vertical-align: middle;\n",
       "    }\n",
       "\n",
       "    .dataframe tbody tr th {\n",
       "        vertical-align: top;\n",
       "    }\n",
       "\n",
       "    .dataframe thead th {\n",
       "        text-align: right;\n",
       "    }\n",
       "</style>\n",
       "<table border=\"1\" class=\"dataframe\">\n",
       "  <thead>\n",
       "    <tr style=\"text-align: right;\">\n",
       "      <th></th>\n",
       "      <th>tariff</th>\n",
       "      <th>user_id</th>\n",
       "      <th>mb_per_month_included</th>\n",
       "      <th>rub_per_gb</th>\n",
       "      <th>month_int</th>\n",
       "      <th>count</th>\n",
       "      <th>sum</th>\n",
       "    </tr>\n",
       "  </thead>\n",
       "  <tbody>\n",
       "    <tr>\n",
       "      <th>0</th>\n",
       "      <td>smart</td>\n",
       "      <td>1001</td>\n",
       "      <td>15360</td>\n",
       "      <td>200</td>\n",
       "      <td>11.0</td>\n",
       "      <td>55</td>\n",
       "      <td>18452.0</td>\n",
       "    </tr>\n",
       "    <tr>\n",
       "      <th>1</th>\n",
       "      <td>smart</td>\n",
       "      <td>1001</td>\n",
       "      <td>15360</td>\n",
       "      <td>200</td>\n",
       "      <td>12.0</td>\n",
       "      <td>41</td>\n",
       "      <td>14053.0</td>\n",
       "    </tr>\n",
       "    <tr>\n",
       "      <th>2</th>\n",
       "      <td>smart</td>\n",
       "      <td>1002</td>\n",
       "      <td>15360</td>\n",
       "      <td>200</td>\n",
       "      <td>6.0</td>\n",
       "      <td>34</td>\n",
       "      <td>10871.0</td>\n",
       "    </tr>\n",
       "    <tr>\n",
       "      <th>3</th>\n",
       "      <td>smart</td>\n",
       "      <td>1002</td>\n",
       "      <td>15360</td>\n",
       "      <td>200</td>\n",
       "      <td>7.0</td>\n",
       "      <td>58</td>\n",
       "      <td>17601.0</td>\n",
       "    </tr>\n",
       "    <tr>\n",
       "      <th>4</th>\n",
       "      <td>smart</td>\n",
       "      <td>1002</td>\n",
       "      <td>15360</td>\n",
       "      <td>200</td>\n",
       "      <td>8.0</td>\n",
       "      <td>60</td>\n",
       "      <td>20347.0</td>\n",
       "    </tr>\n",
       "    <tr>\n",
       "      <th>5</th>\n",
       "      <td>smart</td>\n",
       "      <td>1002</td>\n",
       "      <td>15360</td>\n",
       "      <td>200</td>\n",
       "      <td>9.0</td>\n",
       "      <td>56</td>\n",
       "      <td>16712.0</td>\n",
       "    </tr>\n",
       "    <tr>\n",
       "      <th>6</th>\n",
       "      <td>smart</td>\n",
       "      <td>1002</td>\n",
       "      <td>15360</td>\n",
       "      <td>200</td>\n",
       "      <td>10.0</td>\n",
       "      <td>44</td>\n",
       "      <td>13905.0</td>\n",
       "    </tr>\n",
       "    <tr>\n",
       "      <th>7</th>\n",
       "      <td>smart</td>\n",
       "      <td>1002</td>\n",
       "      <td>15360</td>\n",
       "      <td>200</td>\n",
       "      <td>11.0</td>\n",
       "      <td>55</td>\n",
       "      <td>18610.0</td>\n",
       "    </tr>\n",
       "    <tr>\n",
       "      <th>8</th>\n",
       "      <td>smart</td>\n",
       "      <td>1002</td>\n",
       "      <td>15360</td>\n",
       "      <td>200</td>\n",
       "      <td>12.0</td>\n",
       "      <td>62</td>\n",
       "      <td>18137.0</td>\n",
       "    </tr>\n",
       "    <tr>\n",
       "      <th>9</th>\n",
       "      <td>smart</td>\n",
       "      <td>1005</td>\n",
       "      <td>15360</td>\n",
       "      <td>200</td>\n",
       "      <td>1.0</td>\n",
       "      <td>6</td>\n",
       "      <td>2730.0</td>\n",
       "    </tr>\n",
       "    <tr>\n",
       "      <th>10</th>\n",
       "      <td>smart</td>\n",
       "      <td>1005</td>\n",
       "      <td>15360</td>\n",
       "      <td>200</td>\n",
       "      <td>2.0</td>\n",
       "      <td>24</td>\n",
       "      <td>7394.0</td>\n",
       "    </tr>\n",
       "    <tr>\n",
       "      <th>11</th>\n",
       "      <td>smart</td>\n",
       "      <td>1005</td>\n",
       "      <td>15360</td>\n",
       "      <td>200</td>\n",
       "      <td>3.0</td>\n",
       "      <td>28</td>\n",
       "      <td>11117.0</td>\n",
       "    </tr>\n",
       "    <tr>\n",
       "      <th>12</th>\n",
       "      <td>smart</td>\n",
       "      <td>1005</td>\n",
       "      <td>15360</td>\n",
       "      <td>200</td>\n",
       "      <td>4.0</td>\n",
       "      <td>30</td>\n",
       "      <td>9365.0</td>\n",
       "    </tr>\n",
       "    <tr>\n",
       "      <th>13</th>\n",
       "      <td>smart</td>\n",
       "      <td>1005</td>\n",
       "      <td>15360</td>\n",
       "      <td>200</td>\n",
       "      <td>5.0</td>\n",
       "      <td>25</td>\n",
       "      <td>7877.0</td>\n",
       "    </tr>\n",
       "    <tr>\n",
       "      <th>14</th>\n",
       "      <td>smart</td>\n",
       "      <td>1005</td>\n",
       "      <td>15360</td>\n",
       "      <td>200</td>\n",
       "      <td>6.0</td>\n",
       "      <td>28</td>\n",
       "      <td>9875.0</td>\n",
       "    </tr>\n",
       "  </tbody>\n",
       "</table>\n",
       "</div>"
      ],
      "text/plain": [
       "   tariff  user_id  mb_per_month_included  rub_per_gb  month_int  count  \\\n",
       "0   smart     1001                  15360         200       11.0     55   \n",
       "1   smart     1001                  15360         200       12.0     41   \n",
       "2   smart     1002                  15360         200        6.0     34   \n",
       "3   smart     1002                  15360         200        7.0     58   \n",
       "4   smart     1002                  15360         200        8.0     60   \n",
       "5   smart     1002                  15360         200        9.0     56   \n",
       "6   smart     1002                  15360         200       10.0     44   \n",
       "7   smart     1002                  15360         200       11.0     55   \n",
       "8   smart     1002                  15360         200       12.0     62   \n",
       "9   smart     1005                  15360         200        1.0      6   \n",
       "10  smart     1005                  15360         200        2.0     24   \n",
       "11  smart     1005                  15360         200        3.0     28   \n",
       "12  smart     1005                  15360         200        4.0     30   \n",
       "13  smart     1005                  15360         200        5.0     25   \n",
       "14  smart     1005                  15360         200        6.0     28   \n",
       "\n",
       "        sum  \n",
       "0   18452.0  \n",
       "1   14053.0  \n",
       "2   10871.0  \n",
       "3   17601.0  \n",
       "4   20347.0  \n",
       "5   16712.0  \n",
       "6   13905.0  \n",
       "7   18610.0  \n",
       "8   18137.0  \n",
       "9    2730.0  \n",
       "10   7394.0  \n",
       "11  11117.0  \n",
       "12   9365.0  \n",
       "13   7877.0  \n",
       "14   9875.0  "
      ]
     },
     "execution_count": 29,
     "metadata": {},
     "output_type": "execute_result"
    }
   ],
   "source": [
    "internet_stat = (megaline_sampl.groupby(['tariff','user_id', 'mb_per_month_included', 'rub_per_gb','month_int'])['mb_used']\n",
    "             .agg(['count', 'sum']).reset_index())\n",
    "            \n",
    "internet_stat.head(15)\n",
    "\n",
    "# Сгруппируем данные по internet и посчитаем для каждого пользователя суммарное колличество \n",
    "# израсходованного интернет трафика по месяцам."
   ]
  },
  {
   "cell_type": "code",
   "execution_count": 30,
   "metadata": {
    "ExecuteTime": {
     "end_time": "2022-05-22T15:39:34.878025Z",
     "start_time": "2022-05-22T15:39:34.862375Z"
    }
   },
   "outputs": [],
   "source": [
    "internet_stat['gb_used'] = np.ceil(internet_stat['sum']/1024).astype(int)\n",
    "internet_stat['gb_per_month_included'] = (internet_stat['mb_per_month_included']/1024).astype(int)\n",
    "\n",
    "# Gереведем в гигабайты количество израсходованных мегабайт трафика."
   ]
  },
  {
   "cell_type": "code",
   "execution_count": 31,
   "metadata": {
    "ExecuteTime": {
     "end_time": "2022-05-22T15:40:15.485117Z",
     "start_time": "2022-05-22T15:40:15.455177Z"
    }
   },
   "outputs": [
    {
     "data": {
      "text/html": [
       "<div>\n",
       "<style scoped>\n",
       "    .dataframe tbody tr th:only-of-type {\n",
       "        vertical-align: middle;\n",
       "    }\n",
       "\n",
       "    .dataframe tbody tr th {\n",
       "        vertical-align: top;\n",
       "    }\n",
       "\n",
       "    .dataframe thead th {\n",
       "        text-align: right;\n",
       "    }\n",
       "</style>\n",
       "<table border=\"1\" class=\"dataframe\">\n",
       "  <thead>\n",
       "    <tr style=\"text-align: right;\">\n",
       "      <th></th>\n",
       "      <th>index</th>\n",
       "      <th>tariff</th>\n",
       "      <th>user_id</th>\n",
       "      <th>mb_per_month_included</th>\n",
       "      <th>rub_per_gb</th>\n",
       "      <th>month_int</th>\n",
       "      <th>count</th>\n",
       "      <th>sum</th>\n",
       "      <th>gb_used</th>\n",
       "      <th>gb_per_month_included</th>\n",
       "      <th>extra_gb</th>\n",
       "      <th>extra_gb_rub</th>\n",
       "    </tr>\n",
       "  </thead>\n",
       "  <tbody>\n",
       "    <tr>\n",
       "      <th>0</th>\n",
       "      <td>0</td>\n",
       "      <td>smart</td>\n",
       "      <td>1001</td>\n",
       "      <td>15360</td>\n",
       "      <td>200</td>\n",
       "      <td>11.0</td>\n",
       "      <td>55</td>\n",
       "      <td>18452.0</td>\n",
       "      <td>19</td>\n",
       "      <td>15</td>\n",
       "      <td>4</td>\n",
       "      <td>800.0</td>\n",
       "    </tr>\n",
       "    <tr>\n",
       "      <th>1</th>\n",
       "      <td>3</td>\n",
       "      <td>smart</td>\n",
       "      <td>1002</td>\n",
       "      <td>15360</td>\n",
       "      <td>200</td>\n",
       "      <td>7.0</td>\n",
       "      <td>58</td>\n",
       "      <td>17601.0</td>\n",
       "      <td>18</td>\n",
       "      <td>15</td>\n",
       "      <td>3</td>\n",
       "      <td>600.0</td>\n",
       "    </tr>\n",
       "    <tr>\n",
       "      <th>2</th>\n",
       "      <td>4</td>\n",
       "      <td>smart</td>\n",
       "      <td>1002</td>\n",
       "      <td>15360</td>\n",
       "      <td>200</td>\n",
       "      <td>8.0</td>\n",
       "      <td>60</td>\n",
       "      <td>20347.0</td>\n",
       "      <td>20</td>\n",
       "      <td>15</td>\n",
       "      <td>5</td>\n",
       "      <td>1000.0</td>\n",
       "    </tr>\n",
       "    <tr>\n",
       "      <th>3</th>\n",
       "      <td>5</td>\n",
       "      <td>smart</td>\n",
       "      <td>1002</td>\n",
       "      <td>15360</td>\n",
       "      <td>200</td>\n",
       "      <td>9.0</td>\n",
       "      <td>56</td>\n",
       "      <td>16712.0</td>\n",
       "      <td>17</td>\n",
       "      <td>15</td>\n",
       "      <td>2</td>\n",
       "      <td>400.0</td>\n",
       "    </tr>\n",
       "    <tr>\n",
       "      <th>4</th>\n",
       "      <td>7</td>\n",
       "      <td>smart</td>\n",
       "      <td>1002</td>\n",
       "      <td>15360</td>\n",
       "      <td>200</td>\n",
       "      <td>11.0</td>\n",
       "      <td>55</td>\n",
       "      <td>18610.0</td>\n",
       "      <td>19</td>\n",
       "      <td>15</td>\n",
       "      <td>4</td>\n",
       "      <td>800.0</td>\n",
       "    </tr>\n",
       "  </tbody>\n",
       "</table>\n",
       "</div>"
      ],
      "text/plain": [
       "   index tariff  user_id  mb_per_month_included  rub_per_gb  month_int  count  \\\n",
       "0      0  smart     1001                  15360         200       11.0     55   \n",
       "1      3  smart     1002                  15360         200        7.0     58   \n",
       "2      4  smart     1002                  15360         200        8.0     60   \n",
       "3      5  smart     1002                  15360         200        9.0     56   \n",
       "4      7  smart     1002                  15360         200       11.0     55   \n",
       "\n",
       "       sum  gb_used  gb_per_month_included  extra_gb  extra_gb_rub  \n",
       "0  18452.0       19                     15         4         800.0  \n",
       "1  17601.0       18                     15         3         600.0  \n",
       "2  20347.0       20                     15         5        1000.0  \n",
       "3  16712.0       17                     15         2         400.0  \n",
       "4  18610.0       19                     15         4         800.0  "
      ]
     },
     "execution_count": 31,
     "metadata": {},
     "output_type": "execute_result"
    }
   ],
   "source": [
    "internet_stat['extra_gb'] = internet_stat['gb_used']-internet_stat['gb_per_month_included']\n",
    "internet_stat_good = internet_stat.query('extra_gb > 0').reset_index()\n",
    "internet_stat_good['extra_gb_rub'] = internet_stat_good['extra_gb']*internet_stat['rub_per_gb']\n",
    "internet_stat_good.head()\n",
    "\n",
    "# Вычтем бесплатный лимит из суммарного количества израсходованных гигабайт и сохраним в новом столбце extra_gb.\n",
    "# Оставим лишь те, что превысили лимит, выберем их изметодом query и сохраним в internet_stat_good.\n",
    "# В соответствии с политикой компании округлим в большую сторону и приведем к типу int.\n",
    "# Остаток умножим на значение из тарифного плана."
   ]
  },
  {
   "cell_type": "markdown",
   "metadata": {},
   "source": [
    "#### Вывод по internet"
   ]
  },
  {
   "cell_type": "markdown",
   "metadata": {},
   "source": [
    "*Ввиду того, что стоимость израсходованного трафика считается в гигабайтах,  израсходованные мб были переведены в гигабайты и полученные данные округлены в большую сторону, создан столбец, потраченного трафика сверх лимита и посчитана выручка без учета абонентской платы.*"
   ]
  },
  {
   "cell_type": "markdown",
   "metadata": {},
   "source": [
    "#### messages"
   ]
  },
  {
   "cell_type": "code",
   "execution_count": 32,
   "metadata": {
    "ExecuteTime": {
     "end_time": "2022-05-22T15:40:47.567757Z",
     "start_time": "2022-05-22T15:40:47.455058Z"
    }
   },
   "outputs": [
    {
     "data": {
      "text/html": [
       "<div>\n",
       "<style scoped>\n",
       "    .dataframe tbody tr th:only-of-type {\n",
       "        vertical-align: middle;\n",
       "    }\n",
       "\n",
       "    .dataframe tbody tr th {\n",
       "        vertical-align: top;\n",
       "    }\n",
       "\n",
       "    .dataframe thead th {\n",
       "        text-align: right;\n",
       "    }\n",
       "</style>\n",
       "<table border=\"1\" class=\"dataframe\">\n",
       "  <thead>\n",
       "    <tr style=\"text-align: right;\">\n",
       "      <th></th>\n",
       "      <th>tariff</th>\n",
       "      <th>user_id</th>\n",
       "      <th>messages_included</th>\n",
       "      <th>rub_per_message</th>\n",
       "      <th>month_mess</th>\n",
       "      <th>message_count</th>\n",
       "    </tr>\n",
       "  </thead>\n",
       "  <tbody>\n",
       "    <tr>\n",
       "      <th>0</th>\n",
       "      <td>smart</td>\n",
       "      <td>1002</td>\n",
       "      <td>50</td>\n",
       "      <td>3</td>\n",
       "      <td>6.0</td>\n",
       "      <td>4</td>\n",
       "    </tr>\n",
       "    <tr>\n",
       "      <th>1</th>\n",
       "      <td>smart</td>\n",
       "      <td>1002</td>\n",
       "      <td>50</td>\n",
       "      <td>3</td>\n",
       "      <td>7.0</td>\n",
       "      <td>11</td>\n",
       "    </tr>\n",
       "    <tr>\n",
       "      <th>2</th>\n",
       "      <td>smart</td>\n",
       "      <td>1002</td>\n",
       "      <td>50</td>\n",
       "      <td>3</td>\n",
       "      <td>8.0</td>\n",
       "      <td>13</td>\n",
       "    </tr>\n",
       "    <tr>\n",
       "      <th>3</th>\n",
       "      <td>smart</td>\n",
       "      <td>1002</td>\n",
       "      <td>50</td>\n",
       "      <td>3</td>\n",
       "      <td>9.0</td>\n",
       "      <td>4</td>\n",
       "    </tr>\n",
       "    <tr>\n",
       "      <th>4</th>\n",
       "      <td>smart</td>\n",
       "      <td>1002</td>\n",
       "      <td>50</td>\n",
       "      <td>3</td>\n",
       "      <td>10.0</td>\n",
       "      <td>10</td>\n",
       "    </tr>\n",
       "  </tbody>\n",
       "</table>\n",
       "</div>"
      ],
      "text/plain": [
       "  tariff  user_id  messages_included  rub_per_message  month_mess  \\\n",
       "0  smart     1002                 50                3         6.0   \n",
       "1  smart     1002                 50                3         7.0   \n",
       "2  smart     1002                 50                3         8.0   \n",
       "3  smart     1002                 50                3         9.0   \n",
       "4  smart     1002                 50                3        10.0   \n",
       "\n",
       "   message_count  \n",
       "0              4  \n",
       "1             11  \n",
       "2             13  \n",
       "3              4  \n",
       "4             10  "
      ]
     },
     "execution_count": 32,
     "metadata": {},
     "output_type": "execute_result"
    }
   ],
   "source": [
    "messages_stat = (megaline_sampl.groupby(['tariff','user_id', 'messages_included', 'rub_per_message','month_mess'])['id']\n",
    "             .agg('count')\n",
    "             .reset_index()\n",
    "            )\n",
    "messages_stat.columns = ['tariff','user_id','messages_included','rub_per_message','month_mess','message_count']\n",
    "messages_stat.head()\n",
    "\n",
    "# Сгруппируем данные по messages и посчитаем для каждого пользователя суммарное колличество \n",
    "# сообщений по месяцам."
   ]
  },
  {
   "cell_type": "code",
   "execution_count": 33,
   "metadata": {
    "ExecuteTime": {
     "end_time": "2022-05-22T15:41:12.980006Z",
     "start_time": "2022-05-22T15:41:12.951065Z"
    }
   },
   "outputs": [
    {
     "data": {
      "text/html": [
       "<div>\n",
       "<style scoped>\n",
       "    .dataframe tbody tr th:only-of-type {\n",
       "        vertical-align: middle;\n",
       "    }\n",
       "\n",
       "    .dataframe tbody tr th {\n",
       "        vertical-align: top;\n",
       "    }\n",
       "\n",
       "    .dataframe thead th {\n",
       "        text-align: right;\n",
       "    }\n",
       "</style>\n",
       "<table border=\"1\" class=\"dataframe\">\n",
       "  <thead>\n",
       "    <tr style=\"text-align: right;\">\n",
       "      <th></th>\n",
       "      <th>index</th>\n",
       "      <th>tariff</th>\n",
       "      <th>user_id</th>\n",
       "      <th>messages_included</th>\n",
       "      <th>rub_per_message</th>\n",
       "      <th>month_mess</th>\n",
       "      <th>message_count</th>\n",
       "      <th>extra_mess</th>\n",
       "      <th>extra_mess_rub</th>\n",
       "    </tr>\n",
       "  </thead>\n",
       "  <tbody>\n",
       "    <tr>\n",
       "      <th>0</th>\n",
       "      <td>9</td>\n",
       "      <td>smart</td>\n",
       "      <td>1005</td>\n",
       "      <td>50</td>\n",
       "      <td>3</td>\n",
       "      <td>3.0</td>\n",
       "      <td>56</td>\n",
       "      <td>6</td>\n",
       "      <td>18</td>\n",
       "    </tr>\n",
       "    <tr>\n",
       "      <th>1</th>\n",
       "      <td>13</td>\n",
       "      <td>smart</td>\n",
       "      <td>1005</td>\n",
       "      <td>50</td>\n",
       "      <td>3</td>\n",
       "      <td>7.0</td>\n",
       "      <td>56</td>\n",
       "      <td>6</td>\n",
       "      <td>18</td>\n",
       "    </tr>\n",
       "    <tr>\n",
       "      <th>2</th>\n",
       "      <td>14</td>\n",
       "      <td>smart</td>\n",
       "      <td>1005</td>\n",
       "      <td>50</td>\n",
       "      <td>3</td>\n",
       "      <td>8.0</td>\n",
       "      <td>64</td>\n",
       "      <td>14</td>\n",
       "      <td>42</td>\n",
       "    </tr>\n",
       "    <tr>\n",
       "      <th>3</th>\n",
       "      <td>15</td>\n",
       "      <td>smart</td>\n",
       "      <td>1005</td>\n",
       "      <td>50</td>\n",
       "      <td>3</td>\n",
       "      <td>9.0</td>\n",
       "      <td>52</td>\n",
       "      <td>2</td>\n",
       "      <td>6</td>\n",
       "    </tr>\n",
       "    <tr>\n",
       "      <th>4</th>\n",
       "      <td>17</td>\n",
       "      <td>smart</td>\n",
       "      <td>1005</td>\n",
       "      <td>50</td>\n",
       "      <td>3</td>\n",
       "      <td>11.0</td>\n",
       "      <td>51</td>\n",
       "      <td>1</td>\n",
       "      <td>3</td>\n",
       "    </tr>\n",
       "  </tbody>\n",
       "</table>\n",
       "</div>"
      ],
      "text/plain": [
       "   index tariff  user_id  messages_included  rub_per_message  month_mess  \\\n",
       "0      9  smart     1005                 50                3         3.0   \n",
       "1     13  smart     1005                 50                3         7.0   \n",
       "2     14  smart     1005                 50                3         8.0   \n",
       "3     15  smart     1005                 50                3         9.0   \n",
       "4     17  smart     1005                 50                3        11.0   \n",
       "\n",
       "   message_count  extra_mess  extra_mess_rub  \n",
       "0             56           6              18  \n",
       "1             56           6              18  \n",
       "2             64          14              42  \n",
       "3             52           2               6  \n",
       "4             51           1               3  "
      ]
     },
     "execution_count": 33,
     "metadata": {},
     "output_type": "execute_result"
    }
   ],
   "source": [
    "messages_stat['extra_mess'] = messages_stat['message_count']-messages_stat['messages_included']\n",
    "messages_stat_good = messages_stat.query('extra_mess > 0').reset_index()\n",
    "messages_stat_good['extra_mess'] = np.ceil(messages_stat_good['extra_mess']).astype(int)\n",
    "messages_stat_good['extra_mess_rub'] = messages_stat_good['extra_mess']*messages_stat_good['rub_per_message']\n",
    "messages_stat_good.head()\n",
    "\n",
    "# Вычтем бесплатный лимит из суммарного количества смс и сохраним в новом столбце extra_mess.\n",
    "# Оставим лишь те, что превысили лимит, выберем их изметодом query и сохраним в messages_stat_good.\n",
    "# В соответствии с политикой компании округлим в большую сторону и приведем к типу int.\n",
    "# Остаток умножим на значение из тарифного плана."
   ]
  },
  {
   "cell_type": "markdown",
   "metadata": {},
   "source": [
    "#### Вывод по messages"
   ]
  },
  {
   "cell_type": "markdown",
   "metadata": {},
   "source": [
    "*Данные по звонкам преобразованы аналогично предыдущим. Таблица содержит 'id' пользователя, месяцы, общее количество смс сверх лимита, а так же выручку без учета абонентской платы за месяц.* "
   ]
  },
  {
   "cell_type": "markdown",
   "metadata": {},
   "source": [
    "### Объединяем данные для необходимых вычислений"
   ]
  },
  {
   "cell_type": "code",
   "execution_count": 34,
   "metadata": {
    "ExecuteTime": {
     "end_time": "2022-05-22T15:41:38.600425Z",
     "start_time": "2022-05-22T15:41:38.562400Z"
    }
   },
   "outputs": [
    {
     "data": {
      "text/html": [
       "<div>\n",
       "<style scoped>\n",
       "    .dataframe tbody tr th:only-of-type {\n",
       "        vertical-align: middle;\n",
       "    }\n",
       "\n",
       "    .dataframe tbody tr th {\n",
       "        vertical-align: top;\n",
       "    }\n",
       "\n",
       "    .dataframe thead th {\n",
       "        text-align: right;\n",
       "    }\n",
       "</style>\n",
       "<table border=\"1\" class=\"dataframe\">\n",
       "  <thead>\n",
       "    <tr style=\"text-align: right;\">\n",
       "      <th></th>\n",
       "      <th>user_id</th>\n",
       "      <th>minutes_included</th>\n",
       "      <th>rub_per_minute</th>\n",
       "      <th>rub_monthly_fee</th>\n",
       "      <th>city</th>\n",
       "      <th>month_calls</th>\n",
       "      <th>extra_calls</th>\n",
       "      <th>extra_calls_rub</th>\n",
       "      <th>mb_per_month_included</th>\n",
       "      <th>rub_per_gb</th>\n",
       "      <th>month_int</th>\n",
       "      <th>gb_used</th>\n",
       "      <th>gb_per_month_included</th>\n",
       "      <th>extra_gb</th>\n",
       "      <th>extra_gb_rub</th>\n",
       "      <th>index</th>\n",
       "      <th>tariff</th>\n",
       "      <th>messages_included</th>\n",
       "      <th>rub_per_message</th>\n",
       "      <th>month_mess</th>\n",
       "      <th>message_count</th>\n",
       "      <th>extra_mess</th>\n",
       "      <th>extra_mess_rub</th>\n",
       "    </tr>\n",
       "  </thead>\n",
       "  <tbody>\n",
       "    <tr>\n",
       "      <th>0</th>\n",
       "      <td>1005</td>\n",
       "      <td>500.0</td>\n",
       "      <td>3.0</td>\n",
       "      <td>550.0</td>\n",
       "      <td>Набережные Челны</td>\n",
       "      <td>3.0</td>\n",
       "      <td>106.0</td>\n",
       "      <td>318.0</td>\n",
       "      <td>NaN</td>\n",
       "      <td>NaN</td>\n",
       "      <td>NaN</td>\n",
       "      <td>NaN</td>\n",
       "      <td>NaN</td>\n",
       "      <td>NaN</td>\n",
       "      <td>NaN</td>\n",
       "      <td>9.0</td>\n",
       "      <td>smart</td>\n",
       "      <td>50.0</td>\n",
       "      <td>3.0</td>\n",
       "      <td>3.0</td>\n",
       "      <td>56.0</td>\n",
       "      <td>6.0</td>\n",
       "      <td>18.0</td>\n",
       "    </tr>\n",
       "    <tr>\n",
       "      <th>1</th>\n",
       "      <td>1005</td>\n",
       "      <td>500.0</td>\n",
       "      <td>3.0</td>\n",
       "      <td>550.0</td>\n",
       "      <td>Набережные Челны</td>\n",
       "      <td>3.0</td>\n",
       "      <td>106.0</td>\n",
       "      <td>318.0</td>\n",
       "      <td>NaN</td>\n",
       "      <td>NaN</td>\n",
       "      <td>NaN</td>\n",
       "      <td>NaN</td>\n",
       "      <td>NaN</td>\n",
       "      <td>NaN</td>\n",
       "      <td>NaN</td>\n",
       "      <td>13.0</td>\n",
       "      <td>smart</td>\n",
       "      <td>50.0</td>\n",
       "      <td>3.0</td>\n",
       "      <td>7.0</td>\n",
       "      <td>56.0</td>\n",
       "      <td>6.0</td>\n",
       "      <td>18.0</td>\n",
       "    </tr>\n",
       "    <tr>\n",
       "      <th>2</th>\n",
       "      <td>1005</td>\n",
       "      <td>500.0</td>\n",
       "      <td>3.0</td>\n",
       "      <td>550.0</td>\n",
       "      <td>Набережные Челны</td>\n",
       "      <td>3.0</td>\n",
       "      <td>106.0</td>\n",
       "      <td>318.0</td>\n",
       "      <td>NaN</td>\n",
       "      <td>NaN</td>\n",
       "      <td>NaN</td>\n",
       "      <td>NaN</td>\n",
       "      <td>NaN</td>\n",
       "      <td>NaN</td>\n",
       "      <td>NaN</td>\n",
       "      <td>14.0</td>\n",
       "      <td>smart</td>\n",
       "      <td>50.0</td>\n",
       "      <td>3.0</td>\n",
       "      <td>8.0</td>\n",
       "      <td>64.0</td>\n",
       "      <td>14.0</td>\n",
       "      <td>42.0</td>\n",
       "    </tr>\n",
       "    <tr>\n",
       "      <th>3</th>\n",
       "      <td>1005</td>\n",
       "      <td>500.0</td>\n",
       "      <td>3.0</td>\n",
       "      <td>550.0</td>\n",
       "      <td>Набережные Челны</td>\n",
       "      <td>3.0</td>\n",
       "      <td>106.0</td>\n",
       "      <td>318.0</td>\n",
       "      <td>NaN</td>\n",
       "      <td>NaN</td>\n",
       "      <td>NaN</td>\n",
       "      <td>NaN</td>\n",
       "      <td>NaN</td>\n",
       "      <td>NaN</td>\n",
       "      <td>NaN</td>\n",
       "      <td>15.0</td>\n",
       "      <td>smart</td>\n",
       "      <td>50.0</td>\n",
       "      <td>3.0</td>\n",
       "      <td>9.0</td>\n",
       "      <td>52.0</td>\n",
       "      <td>2.0</td>\n",
       "      <td>6.0</td>\n",
       "    </tr>\n",
       "    <tr>\n",
       "      <th>4</th>\n",
       "      <td>1005</td>\n",
       "      <td>500.0</td>\n",
       "      <td>3.0</td>\n",
       "      <td>550.0</td>\n",
       "      <td>Набережные Челны</td>\n",
       "      <td>3.0</td>\n",
       "      <td>106.0</td>\n",
       "      <td>318.0</td>\n",
       "      <td>NaN</td>\n",
       "      <td>NaN</td>\n",
       "      <td>NaN</td>\n",
       "      <td>NaN</td>\n",
       "      <td>NaN</td>\n",
       "      <td>NaN</td>\n",
       "      <td>NaN</td>\n",
       "      <td>17.0</td>\n",
       "      <td>smart</td>\n",
       "      <td>50.0</td>\n",
       "      <td>3.0</td>\n",
       "      <td>11.0</td>\n",
       "      <td>51.0</td>\n",
       "      <td>1.0</td>\n",
       "      <td>3.0</td>\n",
       "    </tr>\n",
       "  </tbody>\n",
       "</table>\n",
       "</div>"
      ],
      "text/plain": [
       "   user_id  minutes_included  rub_per_minute  rub_monthly_fee  \\\n",
       "0     1005             500.0             3.0            550.0   \n",
       "1     1005             500.0             3.0            550.0   \n",
       "2     1005             500.0             3.0            550.0   \n",
       "3     1005             500.0             3.0            550.0   \n",
       "4     1005             500.0             3.0            550.0   \n",
       "\n",
       "               city  month_calls  extra_calls  extra_calls_rub  \\\n",
       "0  Набережные Челны          3.0        106.0            318.0   \n",
       "1  Набережные Челны          3.0        106.0            318.0   \n",
       "2  Набережные Челны          3.0        106.0            318.0   \n",
       "3  Набережные Челны          3.0        106.0            318.0   \n",
       "4  Набережные Челны          3.0        106.0            318.0   \n",
       "\n",
       "   mb_per_month_included  rub_per_gb  month_int  gb_used  \\\n",
       "0                    NaN         NaN        NaN      NaN   \n",
       "1                    NaN         NaN        NaN      NaN   \n",
       "2                    NaN         NaN        NaN      NaN   \n",
       "3                    NaN         NaN        NaN      NaN   \n",
       "4                    NaN         NaN        NaN      NaN   \n",
       "\n",
       "   gb_per_month_included  extra_gb  extra_gb_rub  index tariff  \\\n",
       "0                    NaN       NaN           NaN    9.0  smart   \n",
       "1                    NaN       NaN           NaN   13.0  smart   \n",
       "2                    NaN       NaN           NaN   14.0  smart   \n",
       "3                    NaN       NaN           NaN   15.0  smart   \n",
       "4                    NaN       NaN           NaN   17.0  smart   \n",
       "\n",
       "   messages_included  rub_per_message  month_mess  message_count  extra_mess  \\\n",
       "0               50.0              3.0         3.0           56.0         6.0   \n",
       "1               50.0              3.0         7.0           56.0         6.0   \n",
       "2               50.0              3.0         8.0           64.0        14.0   \n",
       "3               50.0              3.0         9.0           52.0         2.0   \n",
       "4               50.0              3.0        11.0           51.0         1.0   \n",
       "\n",
       "   extra_mess_rub  \n",
       "0            18.0  \n",
       "1            18.0  \n",
       "2            42.0  \n",
       "3             6.0  \n",
       "4             3.0  "
      ]
     },
     "execution_count": 34,
     "metadata": {},
     "output_type": "execute_result"
    }
   ],
   "source": [
    "revenue_stat = calls_stat_good.merge(internet_stat_good, on='user_id',how='outer')\n",
    "revenue_stat = revenue_stat.merge(messages_stat_good, on='user_id',how='outer')\n",
    "revenue_stat.drop(['tariff_x','tariff_y','index_x','count_x','sum_x','index_y','count_y','sum_y'],axis='columns',inplace=True)\n",
    "revenue_stat.head()\n",
    "\n",
    "# Соединим все выборки по calls, internet и message в одну revenue_stat.\n",
    "# Удалим ненужные столбцы."
   ]
  },
  {
   "cell_type": "code",
   "execution_count": 37,
   "metadata": {
    "ExecuteTime": {
     "end_time": "2022-05-22T15:42:53.381317Z",
     "start_time": "2022-05-22T15:42:53.367352Z"
    }
   },
   "outputs": [
    {
     "data": {
      "text/plain": [
       "user_id\n",
       "1001     800.000000\n",
       "1002     680.000000\n",
       "1005     358.333333\n",
       "1006     700.000000\n",
       "1007     867.750000\n",
       "1008       0.000000\n",
       "1009    1085.714286\n",
       "1010     600.000000\n",
       "1011    1155.444444\n",
       "1012    1625.000000\n",
       "1014    2085.714286\n",
       "1015    1374.500000\n",
       "1017     685.714286\n",
       "1020    1122.000000\n",
       "1022     200.000000\n",
       "Name: revenue, dtype: float64"
      ]
     },
     "execution_count": 37,
     "metadata": {},
     "output_type": "execute_result"
    }
   ],
   "source": [
    "revenue_stat = revenue_stat.fillna(0)\n",
    "revenue_stat['revenue'] = revenue_stat['extra_calls_rub']+revenue_stat['extra_gb_rub']\n",
    "+revenue_stat['extra_mess_rub']\n",
    "\n",
    "revenue_stat_sum = revenue_stat.groupby('user_id')['revenue'].agg('mean')\n",
    "revenue_stat_sum.head(15)\n",
    "\n",
    "# Заменим все пропущенные значения на 0.\n",
    "# Создадим столбец revenue и занесем в него выручки по звонкам, трафику и смс.\n",
    "# Сгруппипуем полученные значения по user_id."
   ]
  },
  {
   "cell_type": "code",
   "execution_count": 38,
   "metadata": {
    "ExecuteTime": {
     "end_time": "2022-05-22T16:12:29.116780Z",
     "start_time": "2022-05-22T16:12:28.983165Z"
    }
   },
   "outputs": [],
   "source": [
    "tariff_info = (megaline_sampl.groupby(['user_id', 'tariff', \n",
    "                                       'city', 'rub_monthly_fee'])['last_name'].agg('count').reset_index())\n",
    "\n",
    "# Cгруппируем данные по тарифным планам и городам по фамилии клиентов. \n",
    "# Чтобы сохранить user_id для последующего объединения с revenue_stat_sum."
   ]
  },
  {
   "cell_type": "code",
   "execution_count": 39,
   "metadata": {
    "ExecuteTime": {
     "end_time": "2022-05-22T16:13:13.828165Z",
     "start_time": "2022-05-22T16:13:13.799239Z"
    }
   },
   "outputs": [
    {
     "data": {
      "text/html": [
       "<div>\n",
       "<style scoped>\n",
       "    .dataframe tbody tr th:only-of-type {\n",
       "        vertical-align: middle;\n",
       "    }\n",
       "\n",
       "    .dataframe tbody tr th {\n",
       "        vertical-align: top;\n",
       "    }\n",
       "\n",
       "    .dataframe thead th {\n",
       "        text-align: right;\n",
       "    }\n",
       "</style>\n",
       "<table border=\"1\" class=\"dataframe\">\n",
       "  <thead>\n",
       "    <tr style=\"text-align: right;\">\n",
       "      <th></th>\n",
       "      <th>user_id</th>\n",
       "      <th>tariff</th>\n",
       "      <th>city</th>\n",
       "      <th>rub_monthly_fee</th>\n",
       "      <th>revenue</th>\n",
       "      <th>total_revenue</th>\n",
       "    </tr>\n",
       "  </thead>\n",
       "  <tbody>\n",
       "    <tr>\n",
       "      <th>0</th>\n",
       "      <td>1000</td>\n",
       "      <td>ultra</td>\n",
       "      <td>Краснодар</td>\n",
       "      <td>1950</td>\n",
       "      <td>0.0</td>\n",
       "      <td>1950</td>\n",
       "    </tr>\n",
       "    <tr>\n",
       "      <th>1</th>\n",
       "      <td>1001</td>\n",
       "      <td>smart</td>\n",
       "      <td>Москва</td>\n",
       "      <td>550</td>\n",
       "      <td>800.0</td>\n",
       "      <td>1350</td>\n",
       "    </tr>\n",
       "    <tr>\n",
       "      <th>2</th>\n",
       "      <td>1002</td>\n",
       "      <td>smart</td>\n",
       "      <td>Стерлитамак</td>\n",
       "      <td>550</td>\n",
       "      <td>680.0</td>\n",
       "      <td>1230</td>\n",
       "    </tr>\n",
       "    <tr>\n",
       "      <th>3</th>\n",
       "      <td>1003</td>\n",
       "      <td>ultra</td>\n",
       "      <td>Москва</td>\n",
       "      <td>1950</td>\n",
       "      <td>0.0</td>\n",
       "      <td>1950</td>\n",
       "    </tr>\n",
       "    <tr>\n",
       "      <th>4</th>\n",
       "      <td>1004</td>\n",
       "      <td>ultra</td>\n",
       "      <td>Новокузнецк</td>\n",
       "      <td>1950</td>\n",
       "      <td>0.0</td>\n",
       "      <td>1950</td>\n",
       "    </tr>\n",
       "  </tbody>\n",
       "</table>\n",
       "</div>"
      ],
      "text/plain": [
       "   user_id tariff         city  rub_monthly_fee  revenue  total_revenue\n",
       "0     1000  ultra    Краснодар             1950      0.0           1950\n",
       "1     1001  smart       Москва              550    800.0           1350\n",
       "2     1002  smart  Стерлитамак              550    680.0           1230\n",
       "3     1003  ultra       Москва             1950      0.0           1950\n",
       "4     1004  ultra  Новокузнецк             1950      0.0           1950"
      ]
     },
     "execution_count": 39,
     "metadata": {},
     "output_type": "execute_result"
    }
   ],
   "source": [
    "final_revenue_stat = tariff_info.merge(revenue_stat_sum, on='user_id',how='outer')\n",
    "final_revenue_stat = final_revenue_stat.fillna(0)\n",
    "final_revenue_stat['total_revenue'] = final_revenue_stat['revenue'].astype(int) + final_revenue_stat['rub_monthly_fee'].astype(int)\n",
    "final_revenue_stat.drop('last_name', axis='columns', inplace=True)\n",
    "final_revenue_stat.head()\n",
    "\n",
    "# Соединим все выборки по тарифным планам и суммарную выручку в final_revenue_stat. \n",
    "# Заменим все полученные объединением outer пропуски на 0.\n",
    "# Прибавим к выручке сумму абонентской платы, соответственно тарифному плану.\n",
    "# Удалим столбец last_name, которым пользовались для группировки данных."
   ]
  },
  {
   "cell_type": "markdown",
   "metadata": {},
   "source": [
    "#### Вывод по объединению"
   ]
  },
  {
   "cell_type": "markdown",
   "metadata": {},
   "source": [
    "*Все данные были объединены и очищены, добавлена колонка с общей выручкой `total_revenue`, куда были внесены все данные выручек по звонкам,смс и интернет трафику, а так же учтена абонентская плата.*"
   ]
  },
  {
   "cell_type": "markdown",
   "metadata": {},
   "source": [
    "### Выборки по каждому тарифному плану"
   ]
  },
  {
   "cell_type": "code",
   "execution_count": 40,
   "metadata": {
    "ExecuteTime": {
     "end_time": "2022-05-22T16:14:09.423367Z",
     "start_time": "2022-05-22T16:14:09.414369Z"
    }
   },
   "outputs": [],
   "source": [
    "tarif_smart = final_revenue_stat.query('tariff == \"smart\"').copy() \n",
    "tarif_ultra = final_revenue_stat.query('tariff == \"ultra\"').copy() \n",
    "\n",
    "# Cоздадим срезы по каждому тарифному плану."
   ]
  },
  {
   "cell_type": "code",
   "execution_count": 41,
   "metadata": {
    "ExecuteTime": {
     "end_time": "2022-05-22T16:14:12.698082Z",
     "start_time": "2022-05-22T16:14:12.679110Z"
    }
   },
   "outputs": [],
   "source": [
    "tarif_smart['revenue'] = tarif_smart['revenue'].astype(int)\n",
    "tarif_ultra['revenue'] = tarif_ultra['revenue'].astype(int)"
   ]
  },
  {
   "cell_type": "code",
   "execution_count": 42,
   "metadata": {
    "ExecuteTime": {
     "end_time": "2022-05-22T16:14:14.024211Z",
     "start_time": "2022-05-22T16:14:14.013581Z"
    }
   },
   "outputs": [
    {
     "name": "stdout",
     "output_type": "stream",
     "text": [
      "<class 'pandas.core.frame.DataFrame'>\n",
      "Int64Index: 351 entries, 1 to 499\n",
      "Data columns (total 6 columns):\n",
      " #   Column           Non-Null Count  Dtype \n",
      "---  ------           --------------  ----- \n",
      " 0   user_id          351 non-null    int64 \n",
      " 1   tariff           351 non-null    object\n",
      " 2   city             351 non-null    object\n",
      " 3   rub_monthly_fee  351 non-null    int64 \n",
      " 4   revenue          351 non-null    int32 \n",
      " 5   total_revenue    351 non-null    int32 \n",
      "dtypes: int32(2), int64(2), object(2)\n",
      "memory usage: 16.5+ KB\n"
     ]
    }
   ],
   "source": [
    "tarif_smart.info()"
   ]
  },
  {
   "cell_type": "code",
   "execution_count": 43,
   "metadata": {
    "ExecuteTime": {
     "end_time": "2022-05-22T16:14:18.863971Z",
     "start_time": "2022-05-22T16:14:18.846029Z"
    }
   },
   "outputs": [
    {
     "name": "stdout",
     "output_type": "stream",
     "text": [
      "<class 'pandas.core.frame.DataFrame'>\n",
      "Int64Index: 149 entries, 0 to 495\n",
      "Data columns (total 6 columns):\n",
      " #   Column           Non-Null Count  Dtype \n",
      "---  ------           --------------  ----- \n",
      " 0   user_id          149 non-null    int64 \n",
      " 1   tariff           149 non-null    object\n",
      " 2   city             149 non-null    object\n",
      " 3   rub_monthly_fee  149 non-null    int64 \n",
      " 4   revenue          149 non-null    int32 \n",
      " 5   total_revenue    149 non-null    int32 \n",
      "dtypes: int32(2), int64(2), object(2)\n",
      "memory usage: 7.0+ KB\n"
     ]
    }
   ],
   "source": [
    "tarif_ultra.info()"
   ]
  },
  {
   "cell_type": "markdown",
   "metadata": {},
   "source": [
    "### Вывод"
   ]
  },
  {
   "cell_type": "markdown",
   "metadata": {},
   "source": [
    "*Все данные были приведены к нужным типам, найдены и исправлены ошибки. Данные были сгруппированы в 3 таблицы: `call_stat`, `message_stat`, `internet_stat`, посчитаны помесячная выручка с каждого пользователя. Созданы выборки со средней выручкой в месяц по каждому тарифному плану `tarif_smart` и `tarif_ultra`, для подтверждения или опровержения гипотез.*"
   ]
  },
  {
   "cell_type": "markdown",
   "metadata": {},
   "source": [
    "## Шаг 3. Проанализировать данные"
   ]
  },
  {
   "cell_type": "markdown",
   "metadata": {},
   "source": [
    "*Описать поведение клиентов оператора, исходя из выборки. Сколько минут разговора, сколько сообщений и какой объём интернет-трафика требуется пользователям каждого тарифа в месяц? Посчитать среднее количество, дисперсию и стандартное отклонение. Построить гистограммы. Описать распределения.*"
   ]
  },
  {
   "cell_type": "markdown",
   "metadata": {},
   "source": [
    "### Анализируем  звонки с тарифов \"smart\" и \"ultra\""
   ]
  },
  {
   "cell_type": "code",
   "execution_count": 44,
   "metadata": {
    "ExecuteTime": {
     "end_time": "2022-05-22T16:14:47.492519Z",
     "start_time": "2022-05-22T16:14:47.480570Z"
    }
   },
   "outputs": [
    {
     "data": {
      "text/html": [
       "<div>\n",
       "<style scoped>\n",
       "    .dataframe tbody tr th:only-of-type {\n",
       "        vertical-align: middle;\n",
       "    }\n",
       "\n",
       "    .dataframe tbody tr th {\n",
       "        vertical-align: top;\n",
       "    }\n",
       "\n",
       "    .dataframe thead th {\n",
       "        text-align: right;\n",
       "    }\n",
       "</style>\n",
       "<table border=\"1\" class=\"dataframe\">\n",
       "  <thead>\n",
       "    <tr style=\"text-align: right;\">\n",
       "      <th></th>\n",
       "      <th>tariff</th>\n",
       "      <th>user_id</th>\n",
       "      <th>minutes_included</th>\n",
       "      <th>rub_per_minute</th>\n",
       "      <th>rub_monthly_fee</th>\n",
       "      <th>city</th>\n",
       "      <th>month_calls</th>\n",
       "      <th>count</th>\n",
       "      <th>sum</th>\n",
       "      <th>extra_calls</th>\n",
       "    </tr>\n",
       "  </thead>\n",
       "  <tbody>\n",
       "    <tr>\n",
       "      <th>0</th>\n",
       "      <td>smart</td>\n",
       "      <td>1001</td>\n",
       "      <td>500</td>\n",
       "      <td>3</td>\n",
       "      <td>550</td>\n",
       "      <td>Москва</td>\n",
       "      <td>11.0</td>\n",
       "      <td>59</td>\n",
       "      <td>430.0</td>\n",
       "      <td>-70.0</td>\n",
       "    </tr>\n",
       "    <tr>\n",
       "      <th>1</th>\n",
       "      <td>smart</td>\n",
       "      <td>1001</td>\n",
       "      <td>500</td>\n",
       "      <td>3</td>\n",
       "      <td>550</td>\n",
       "      <td>Москва</td>\n",
       "      <td>12.0</td>\n",
       "      <td>63</td>\n",
       "      <td>414.0</td>\n",
       "      <td>-86.0</td>\n",
       "    </tr>\n",
       "    <tr>\n",
       "      <th>2</th>\n",
       "      <td>smart</td>\n",
       "      <td>1002</td>\n",
       "      <td>500</td>\n",
       "      <td>3</td>\n",
       "      <td>550</td>\n",
       "      <td>Стерлитамак</td>\n",
       "      <td>6.0</td>\n",
       "      <td>15</td>\n",
       "      <td>117.0</td>\n",
       "      <td>-383.0</td>\n",
       "    </tr>\n",
       "    <tr>\n",
       "      <th>3</th>\n",
       "      <td>smart</td>\n",
       "      <td>1002</td>\n",
       "      <td>500</td>\n",
       "      <td>3</td>\n",
       "      <td>550</td>\n",
       "      <td>Стерлитамак</td>\n",
       "      <td>7.0</td>\n",
       "      <td>26</td>\n",
       "      <td>214.0</td>\n",
       "      <td>-286.0</td>\n",
       "    </tr>\n",
       "    <tr>\n",
       "      <th>4</th>\n",
       "      <td>smart</td>\n",
       "      <td>1002</td>\n",
       "      <td>500</td>\n",
       "      <td>3</td>\n",
       "      <td>550</td>\n",
       "      <td>Стерлитамак</td>\n",
       "      <td>8.0</td>\n",
       "      <td>42</td>\n",
       "      <td>289.0</td>\n",
       "      <td>-211.0</td>\n",
       "    </tr>\n",
       "  </tbody>\n",
       "</table>\n",
       "</div>"
      ],
      "text/plain": [
       "  tariff  user_id  minutes_included  rub_per_minute  rub_monthly_fee  \\\n",
       "0  smart     1001               500               3              550   \n",
       "1  smart     1001               500               3              550   \n",
       "2  smart     1002               500               3              550   \n",
       "3  smart     1002               500               3              550   \n",
       "4  smart     1002               500               3              550   \n",
       "\n",
       "          city  month_calls  count    sum  extra_calls  \n",
       "0       Москва         11.0     59  430.0        -70.0  \n",
       "1       Москва         12.0     63  414.0        -86.0  \n",
       "2  Стерлитамак          6.0     15  117.0       -383.0  \n",
       "3  Стерлитамак          7.0     26  214.0       -286.0  \n",
       "4  Стерлитамак          8.0     42  289.0       -211.0  "
      ]
     },
     "execution_count": 44,
     "metadata": {},
     "output_type": "execute_result"
    }
   ],
   "source": [
    "calls_stat.head()"
   ]
  },
  {
   "cell_type": "code",
   "execution_count": 45,
   "metadata": {
    "ExecuteTime": {
     "end_time": "2022-05-22T16:14:52.269613Z",
     "start_time": "2022-05-22T16:14:52.231692Z"
    }
   },
   "outputs": [
    {
     "data": {
      "text/html": [
       "<div>\n",
       "<style scoped>\n",
       "    .dataframe tbody tr th:only-of-type {\n",
       "        vertical-align: middle;\n",
       "    }\n",
       "\n",
       "    .dataframe tbody tr th {\n",
       "        vertical-align: top;\n",
       "    }\n",
       "\n",
       "    .dataframe thead th {\n",
       "        text-align: right;\n",
       "    }\n",
       "</style>\n",
       "<table border=\"1\" class=\"dataframe\">\n",
       "  <thead>\n",
       "    <tr style=\"text-align: right;\">\n",
       "      <th></th>\n",
       "      <th>user_id</th>\n",
       "      <th>minutes_included</th>\n",
       "      <th>rub_per_minute</th>\n",
       "      <th>rub_monthly_fee</th>\n",
       "      <th>month_calls</th>\n",
       "      <th>count</th>\n",
       "      <th>sum</th>\n",
       "      <th>extra_calls</th>\n",
       "    </tr>\n",
       "  </thead>\n",
       "  <tbody>\n",
       "    <tr>\n",
       "      <th>count</th>\n",
       "      <td>3174.000000</td>\n",
       "      <td>3174.00000</td>\n",
       "      <td>3174.000000</td>\n",
       "      <td>3174.000000</td>\n",
       "      <td>3174.000000</td>\n",
       "      <td>3174.000000</td>\n",
       "      <td>3174.000000</td>\n",
       "      <td>3174.000000</td>\n",
       "    </tr>\n",
       "    <tr>\n",
       "      <th>mean</th>\n",
       "      <td>1251.555766</td>\n",
       "      <td>1249.05482</td>\n",
       "      <td>2.400756</td>\n",
       "      <td>969.470699</td>\n",
       "      <td>8.311594</td>\n",
       "      <td>63.833333</td>\n",
       "      <td>456.931632</td>\n",
       "      <td>-792.123188</td>\n",
       "    </tr>\n",
       "    <tr>\n",
       "      <th>std</th>\n",
       "      <td>144.470630</td>\n",
       "      <td>1145.41140</td>\n",
       "      <td>0.916329</td>\n",
       "      <td>641.430384</td>\n",
       "      <td>2.910625</td>\n",
       "      <td>32.678036</td>\n",
       "      <td>238.031270</td>\n",
       "      <td>1111.742998</td>\n",
       "    </tr>\n",
       "    <tr>\n",
       "      <th>min</th>\n",
       "      <td>1000.000000</td>\n",
       "      <td>500.00000</td>\n",
       "      <td>1.000000</td>\n",
       "      <td>550.000000</td>\n",
       "      <td>1.000000</td>\n",
       "      <td>1.000000</td>\n",
       "      <td>0.000000</td>\n",
       "      <td>-3000.000000</td>\n",
       "    </tr>\n",
       "    <tr>\n",
       "      <th>25%</th>\n",
       "      <td>1126.000000</td>\n",
       "      <td>500.00000</td>\n",
       "      <td>1.000000</td>\n",
       "      <td>550.000000</td>\n",
       "      <td>6.000000</td>\n",
       "      <td>41.000000</td>\n",
       "      <td>290.000000</td>\n",
       "      <td>-2159.000000</td>\n",
       "    </tr>\n",
       "    <tr>\n",
       "      <th>50%</th>\n",
       "      <td>1254.000000</td>\n",
       "      <td>500.00000</td>\n",
       "      <td>3.000000</td>\n",
       "      <td>550.000000</td>\n",
       "      <td>9.000000</td>\n",
       "      <td>63.000000</td>\n",
       "      <td>447.000000</td>\n",
       "      <td>-192.500000</td>\n",
       "    </tr>\n",
       "    <tr>\n",
       "      <th>75%</th>\n",
       "      <td>1378.000000</td>\n",
       "      <td>3000.00000</td>\n",
       "      <td>3.000000</td>\n",
       "      <td>1950.000000</td>\n",
       "      <td>11.000000</td>\n",
       "      <td>83.000000</td>\n",
       "      <td>592.000000</td>\n",
       "      <td>-9.000000</td>\n",
       "    </tr>\n",
       "    <tr>\n",
       "      <th>max</th>\n",
       "      <td>1499.000000</td>\n",
       "      <td>3000.00000</td>\n",
       "      <td>3.000000</td>\n",
       "      <td>1950.000000</td>\n",
       "      <td>12.000000</td>\n",
       "      <td>244.000000</td>\n",
       "      <td>1673.000000</td>\n",
       "      <td>935.000000</td>\n",
       "    </tr>\n",
       "  </tbody>\n",
       "</table>\n",
       "</div>"
      ],
      "text/plain": [
       "           user_id  minutes_included  rub_per_minute  rub_monthly_fee  \\\n",
       "count  3174.000000        3174.00000     3174.000000      3174.000000   \n",
       "mean   1251.555766        1249.05482        2.400756       969.470699   \n",
       "std     144.470630        1145.41140        0.916329       641.430384   \n",
       "min    1000.000000         500.00000        1.000000       550.000000   \n",
       "25%    1126.000000         500.00000        1.000000       550.000000   \n",
       "50%    1254.000000         500.00000        3.000000       550.000000   \n",
       "75%    1378.000000        3000.00000        3.000000      1950.000000   \n",
       "max    1499.000000        3000.00000        3.000000      1950.000000   \n",
       "\n",
       "       month_calls        count          sum  extra_calls  \n",
       "count  3174.000000  3174.000000  3174.000000  3174.000000  \n",
       "mean      8.311594    63.833333   456.931632  -792.123188  \n",
       "std       2.910625    32.678036   238.031270  1111.742998  \n",
       "min       1.000000     1.000000     0.000000 -3000.000000  \n",
       "25%       6.000000    41.000000   290.000000 -2159.000000  \n",
       "50%       9.000000    63.000000   447.000000  -192.500000  \n",
       "75%      11.000000    83.000000   592.000000    -9.000000  \n",
       "max      12.000000   244.000000  1673.000000   935.000000  "
      ]
     },
     "execution_count": 45,
     "metadata": {},
     "output_type": "execute_result"
    }
   ],
   "source": [
    "calls_stat.describe()"
   ]
  },
  {
   "cell_type": "code",
   "execution_count": 46,
   "metadata": {
    "ExecuteTime": {
     "end_time": "2022-05-22T16:14:57.721259Z",
     "start_time": "2022-05-22T16:14:57.687326Z"
    }
   },
   "outputs": [
    {
     "data": {
      "text/html": [
       "<div>\n",
       "<style scoped>\n",
       "    .dataframe tbody tr th:only-of-type {\n",
       "        vertical-align: middle;\n",
       "    }\n",
       "\n",
       "    .dataframe tbody tr th {\n",
       "        vertical-align: top;\n",
       "    }\n",
       "\n",
       "    .dataframe thead th {\n",
       "        text-align: right;\n",
       "    }\n",
       "</style>\n",
       "<table border=\"1\" class=\"dataframe\">\n",
       "  <thead>\n",
       "    <tr style=\"text-align: right;\">\n",
       "      <th></th>\n",
       "      <th>user_id</th>\n",
       "      <th>minutes_included</th>\n",
       "      <th>rub_per_minute</th>\n",
       "      <th>rub_monthly_fee</th>\n",
       "      <th>month_calls</th>\n",
       "      <th>count</th>\n",
       "      <th>sum</th>\n",
       "      <th>extra_calls</th>\n",
       "    </tr>\n",
       "  </thead>\n",
       "  <tbody>\n",
       "    <tr>\n",
       "      <th>count</th>\n",
       "      <td>2223.000000</td>\n",
       "      <td>2223.0</td>\n",
       "      <td>2223.0</td>\n",
       "      <td>2223.0</td>\n",
       "      <td>2223.000000</td>\n",
       "      <td>2223.000000</td>\n",
       "      <td>2223.000000</td>\n",
       "      <td>2223.000000</td>\n",
       "    </tr>\n",
       "    <tr>\n",
       "      <th>mean</th>\n",
       "      <td>1245.904184</td>\n",
       "      <td>500.0</td>\n",
       "      <td>3.0</td>\n",
       "      <td>550.0</td>\n",
       "      <td>8.344130</td>\n",
       "      <td>58.621233</td>\n",
       "      <td>419.062978</td>\n",
       "      <td>-80.937022</td>\n",
       "    </tr>\n",
       "    <tr>\n",
       "      <th>std</th>\n",
       "      <td>145.837842</td>\n",
       "      <td>0.0</td>\n",
       "      <td>0.0</td>\n",
       "      <td>0.0</td>\n",
       "      <td>2.922009</td>\n",
       "      <td>25.796101</td>\n",
       "      <td>189.325618</td>\n",
       "      <td>189.325618</td>\n",
       "    </tr>\n",
       "    <tr>\n",
       "      <th>min</th>\n",
       "      <td>1001.000000</td>\n",
       "      <td>500.0</td>\n",
       "      <td>3.0</td>\n",
       "      <td>550.0</td>\n",
       "      <td>1.000000</td>\n",
       "      <td>1.000000</td>\n",
       "      <td>0.000000</td>\n",
       "      <td>-500.000000</td>\n",
       "    </tr>\n",
       "    <tr>\n",
       "      <th>25%</th>\n",
       "      <td>1121.000000</td>\n",
       "      <td>500.0</td>\n",
       "      <td>3.0</td>\n",
       "      <td>550.0</td>\n",
       "      <td>6.000000</td>\n",
       "      <td>40.000000</td>\n",
       "      <td>285.000000</td>\n",
       "      <td>-215.000000</td>\n",
       "    </tr>\n",
       "    <tr>\n",
       "      <th>50%</th>\n",
       "      <td>1239.000000</td>\n",
       "      <td>500.0</td>\n",
       "      <td>3.0</td>\n",
       "      <td>550.0</td>\n",
       "      <td>9.000000</td>\n",
       "      <td>60.000000</td>\n",
       "      <td>423.000000</td>\n",
       "      <td>-77.000000</td>\n",
       "    </tr>\n",
       "    <tr>\n",
       "      <th>75%</th>\n",
       "      <td>1376.000000</td>\n",
       "      <td>500.0</td>\n",
       "      <td>3.0</td>\n",
       "      <td>550.0</td>\n",
       "      <td>11.000000</td>\n",
       "      <td>76.000000</td>\n",
       "      <td>545.500000</td>\n",
       "      <td>45.500000</td>\n",
       "    </tr>\n",
       "    <tr>\n",
       "      <th>max</th>\n",
       "      <td>1499.000000</td>\n",
       "      <td>500.0</td>\n",
       "      <td>3.0</td>\n",
       "      <td>550.0</td>\n",
       "      <td>12.000000</td>\n",
       "      <td>198.000000</td>\n",
       "      <td>1435.000000</td>\n",
       "      <td>935.000000</td>\n",
       "    </tr>\n",
       "  </tbody>\n",
       "</table>\n",
       "</div>"
      ],
      "text/plain": [
       "           user_id  minutes_included  rub_per_minute  rub_monthly_fee  \\\n",
       "count  2223.000000            2223.0          2223.0           2223.0   \n",
       "mean   1245.904184             500.0             3.0            550.0   \n",
       "std     145.837842               0.0             0.0              0.0   \n",
       "min    1001.000000             500.0             3.0            550.0   \n",
       "25%    1121.000000             500.0             3.0            550.0   \n",
       "50%    1239.000000             500.0             3.0            550.0   \n",
       "75%    1376.000000             500.0             3.0            550.0   \n",
       "max    1499.000000             500.0             3.0            550.0   \n",
       "\n",
       "       month_calls        count          sum  extra_calls  \n",
       "count  2223.000000  2223.000000  2223.000000  2223.000000  \n",
       "mean      8.344130    58.621233   419.062978   -80.937022  \n",
       "std       2.922009    25.796101   189.325618   189.325618  \n",
       "min       1.000000     1.000000     0.000000  -500.000000  \n",
       "25%       6.000000    40.000000   285.000000  -215.000000  \n",
       "50%       9.000000    60.000000   423.000000   -77.000000  \n",
       "75%      11.000000    76.000000   545.500000    45.500000  \n",
       "max      12.000000   198.000000  1435.000000   935.000000  "
      ]
     },
     "execution_count": 46,
     "metadata": {},
     "output_type": "execute_result"
    }
   ],
   "source": [
    "calls_stat.query('tariff == \"smart\"').describe()"
   ]
  },
  {
   "cell_type": "code",
   "execution_count": 47,
   "metadata": {
    "ExecuteTime": {
     "end_time": "2022-05-22T16:15:01.099670Z",
     "start_time": "2022-05-22T16:15:01.070747Z"
    }
   },
   "outputs": [
    {
     "data": {
      "text/html": [
       "<div>\n",
       "<style scoped>\n",
       "    .dataframe tbody tr th:only-of-type {\n",
       "        vertical-align: middle;\n",
       "    }\n",
       "\n",
       "    .dataframe tbody tr th {\n",
       "        vertical-align: top;\n",
       "    }\n",
       "\n",
       "    .dataframe thead th {\n",
       "        text-align: right;\n",
       "    }\n",
       "</style>\n",
       "<table border=\"1\" class=\"dataframe\">\n",
       "  <thead>\n",
       "    <tr style=\"text-align: right;\">\n",
       "      <th></th>\n",
       "      <th>user_id</th>\n",
       "      <th>minutes_included</th>\n",
       "      <th>rub_per_minute</th>\n",
       "      <th>rub_monthly_fee</th>\n",
       "      <th>month_calls</th>\n",
       "      <th>count</th>\n",
       "      <th>sum</th>\n",
       "      <th>extra_calls</th>\n",
       "    </tr>\n",
       "  </thead>\n",
       "  <tbody>\n",
       "    <tr>\n",
       "      <th>count</th>\n",
       "      <td>951.000000</td>\n",
       "      <td>951.0</td>\n",
       "      <td>951.0</td>\n",
       "      <td>951.0</td>\n",
       "      <td>951.000000</td>\n",
       "      <td>951.000000</td>\n",
       "      <td>951.000000</td>\n",
       "      <td>951.000000</td>\n",
       "    </tr>\n",
       "    <tr>\n",
       "      <th>mean</th>\n",
       "      <td>1264.766562</td>\n",
       "      <td>3000.0</td>\n",
       "      <td>1.0</td>\n",
       "      <td>1950.0</td>\n",
       "      <td>8.235542</td>\n",
       "      <td>76.016824</td>\n",
       "      <td>545.451104</td>\n",
       "      <td>-2454.548896</td>\n",
       "    </tr>\n",
       "    <tr>\n",
       "      <th>std</th>\n",
       "      <td>140.413405</td>\n",
       "      <td>0.0</td>\n",
       "      <td>0.0</td>\n",
       "      <td>0.0</td>\n",
       "      <td>2.883937</td>\n",
       "      <td>42.403348</td>\n",
       "      <td>306.925754</td>\n",
       "      <td>306.925754</td>\n",
       "    </tr>\n",
       "    <tr>\n",
       "      <th>min</th>\n",
       "      <td>1000.000000</td>\n",
       "      <td>3000.0</td>\n",
       "      <td>1.0</td>\n",
       "      <td>1950.0</td>\n",
       "      <td>1.000000</td>\n",
       "      <td>1.000000</td>\n",
       "      <td>0.000000</td>\n",
       "      <td>-3000.000000</td>\n",
       "    </tr>\n",
       "    <tr>\n",
       "      <th>25%</th>\n",
       "      <td>1148.000000</td>\n",
       "      <td>3000.0</td>\n",
       "      <td>1.0</td>\n",
       "      <td>1950.0</td>\n",
       "      <td>6.000000</td>\n",
       "      <td>43.000000</td>\n",
       "      <td>310.000000</td>\n",
       "      <td>-2690.000000</td>\n",
       "    </tr>\n",
       "    <tr>\n",
       "      <th>50%</th>\n",
       "      <td>1281.000000</td>\n",
       "      <td>3000.0</td>\n",
       "      <td>1.0</td>\n",
       "      <td>1950.0</td>\n",
       "      <td>9.000000</td>\n",
       "      <td>75.000000</td>\n",
       "      <td>528.000000</td>\n",
       "      <td>-2472.000000</td>\n",
       "    </tr>\n",
       "    <tr>\n",
       "      <th>75%</th>\n",
       "      <td>1381.000000</td>\n",
       "      <td>3000.0</td>\n",
       "      <td>1.0</td>\n",
       "      <td>1950.0</td>\n",
       "      <td>11.000000</td>\n",
       "      <td>105.000000</td>\n",
       "      <td>756.500000</td>\n",
       "      <td>-2243.500000</td>\n",
       "    </tr>\n",
       "    <tr>\n",
       "      <th>max</th>\n",
       "      <td>1495.000000</td>\n",
       "      <td>3000.0</td>\n",
       "      <td>1.0</td>\n",
       "      <td>1950.0</td>\n",
       "      <td>12.000000</td>\n",
       "      <td>244.000000</td>\n",
       "      <td>1673.000000</td>\n",
       "      <td>-1327.000000</td>\n",
       "    </tr>\n",
       "  </tbody>\n",
       "</table>\n",
       "</div>"
      ],
      "text/plain": [
       "           user_id  minutes_included  rub_per_minute  rub_monthly_fee  \\\n",
       "count   951.000000             951.0           951.0            951.0   \n",
       "mean   1264.766562            3000.0             1.0           1950.0   \n",
       "std     140.413405               0.0             0.0              0.0   \n",
       "min    1000.000000            3000.0             1.0           1950.0   \n",
       "25%    1148.000000            3000.0             1.0           1950.0   \n",
       "50%    1281.000000            3000.0             1.0           1950.0   \n",
       "75%    1381.000000            3000.0             1.0           1950.0   \n",
       "max    1495.000000            3000.0             1.0           1950.0   \n",
       "\n",
       "       month_calls       count          sum  extra_calls  \n",
       "count   951.000000  951.000000   951.000000   951.000000  \n",
       "mean      8.235542   76.016824   545.451104 -2454.548896  \n",
       "std       2.883937   42.403348   306.925754   306.925754  \n",
       "min       1.000000    1.000000     0.000000 -3000.000000  \n",
       "25%       6.000000   43.000000   310.000000 -2690.000000  \n",
       "50%       9.000000   75.000000   528.000000 -2472.000000  \n",
       "75%      11.000000  105.000000   756.500000 -2243.500000  \n",
       "max      12.000000  244.000000  1673.000000 -1327.000000  "
      ]
     },
     "execution_count": 47,
     "metadata": {},
     "output_type": "execute_result"
    }
   ],
   "source": [
    "calls_stat.query('tariff == \"ultra\"').describe()"
   ]
  },
  {
   "cell_type": "code",
   "execution_count": 48,
   "metadata": {
    "ExecuteTime": {
     "end_time": "2022-05-22T16:26:09.320858Z",
     "start_time": "2022-05-22T16:26:09.293080Z"
    }
   },
   "outputs": [],
   "source": [
    "def display_side_by_side(*args):\n",
    "    '''\n",
    "        Input: *args - переменное количество аргументов(DataFrame таблицы).\n",
    "        Output: None.\n",
    "        Description: Функция визуализирует подаваемые в аргумент DataFrame, \n",
    "                     как HTML-таблицу и выводит их в ряд.\n",
    "\n",
    "    '''\n",
    "    html_str=' '\n",
    "    for df in args:\n",
    "        html_str+=df.to_html()\n",
    "    display_html(html_str.replace('table','table style=\"display:inline\"'),raw=True)"
   ]
  },
  {
   "cell_type": "code",
   "execution_count": 49,
   "metadata": {
    "ExecuteTime": {
     "end_time": "2022-05-22T16:26:46.106335Z",
     "start_time": "2022-05-22T16:26:46.078410Z"
    }
   },
   "outputs": [],
   "source": [
    "calls_stat_smart = calls_stat.query('tariff == \"smart\"')\n",
    "calls_stat_smart_pivot = calls_stat_smart.pivot_table(index='month_calls',values='sum',aggfunc='mean')\n",
    "calls_stat_smart_pivot.columns = ['calls_used_month_smart']\n",
    "\n",
    "calls_stat_ultra = calls_stat.query('tariff == \"ultra\"')\n",
    "calls_stat_ultra_pivot = calls_stat_ultra.pivot_table(index='month_calls',values='sum',aggfunc='mean')\n",
    "calls_stat_ultra_pivot.columns = ['calls_used_month_ultra']\n",
    "\n",
    "# Выделяем клиентов тарифа smart.\n",
    "# Создаем сводную таблицу и суммируем минуты разговоров по месяцам.\n",
    "# Выделяем клиентов тарифа ultra.\n",
    "# Создаем сводную таблицу и суммируем минуты разговоров по месяцам."
   ]
  },
  {
   "cell_type": "code",
   "execution_count": 50,
   "metadata": {
    "ExecuteTime": {
     "end_time": "2022-05-22T16:27:05.113103Z",
     "start_time": "2022-05-22T16:27:05.094184Z"
    }
   },
   "outputs": [
    {
     "data": {
      "text/html": [
       " <table style=\"display:inline\" border=\"1\" class=\"dataframe\">\n",
       "  <thead>\n",
       "    <tr style=\"text-align: right;\">\n",
       "      <th></th>\n",
       "      <th>calls_used_month_smart</th>\n",
       "    </tr>\n",
       "    <tr>\n",
       "      <th>month_calls</th>\n",
       "      <th></th>\n",
       "    </tr>\n",
       "  </thead>\n",
       "  <tbody>\n",
       "    <tr>\n",
       "      <th>1.0</th>\n",
       "      <td>203.852941</td>\n",
       "    </tr>\n",
       "    <tr>\n",
       "      <th>2.0</th>\n",
       "      <td>298.689655</td>\n",
       "    </tr>\n",
       "    <tr>\n",
       "      <th>3.0</th>\n",
       "      <td>390.051948</td>\n",
       "    </tr>\n",
       "    <tr>\n",
       "      <th>4.0</th>\n",
       "      <td>367.133929</td>\n",
       "    </tr>\n",
       "    <tr>\n",
       "      <th>5.0</th>\n",
       "      <td>387.361702</td>\n",
       "    </tr>\n",
       "    <tr>\n",
       "      <th>6.0</th>\n",
       "      <td>398.067485</td>\n",
       "    </tr>\n",
       "    <tr>\n",
       "      <th>7.0</th>\n",
       "      <td>408.353234</td>\n",
       "    </tr>\n",
       "    <tr>\n",
       "      <th>8.0</th>\n",
       "      <td>423.269231</td>\n",
       "    </tr>\n",
       "    <tr>\n",
       "      <th>9.0</th>\n",
       "      <td>430.266409</td>\n",
       "    </tr>\n",
       "    <tr>\n",
       "      <th>10.0</th>\n",
       "      <td>427.590444</td>\n",
       "    </tr>\n",
       "    <tr>\n",
       "      <th>11.0</th>\n",
       "      <td>436.647619</td>\n",
       "    </tr>\n",
       "    <tr>\n",
       "      <th>12.0</th>\n",
       "      <td>479.985119</td>\n",
       "    </tr>\n",
       "  </tbody>\n",
       "</table style=\"display:inline\"><table style=\"display:inline\" border=\"1\" class=\"dataframe\">\n",
       "  <thead>\n",
       "    <tr style=\"text-align: right;\">\n",
       "      <th></th>\n",
       "      <th>calls_used_month_ultra</th>\n",
       "    </tr>\n",
       "    <tr>\n",
       "      <th>month_calls</th>\n",
       "      <th></th>\n",
       "    </tr>\n",
       "  </thead>\n",
       "  <tbody>\n",
       "    <tr>\n",
       "      <th>1.0</th>\n",
       "      <td>428.111111</td>\n",
       "    </tr>\n",
       "    <tr>\n",
       "      <th>2.0</th>\n",
       "      <td>297.125000</td>\n",
       "    </tr>\n",
       "    <tr>\n",
       "      <th>3.0</th>\n",
       "      <td>489.648649</td>\n",
       "    </tr>\n",
       "    <tr>\n",
       "      <th>4.0</th>\n",
       "      <td>475.301887</td>\n",
       "    </tr>\n",
       "    <tr>\n",
       "      <th>5.0</th>\n",
       "      <td>534.250000</td>\n",
       "    </tr>\n",
       "    <tr>\n",
       "      <th>6.0</th>\n",
       "      <td>497.469136</td>\n",
       "    </tr>\n",
       "    <tr>\n",
       "      <th>7.0</th>\n",
       "      <td>564.397727</td>\n",
       "    </tr>\n",
       "    <tr>\n",
       "      <th>8.0</th>\n",
       "      <td>530.611650</td>\n",
       "    </tr>\n",
       "    <tr>\n",
       "      <th>9.0</th>\n",
       "      <td>558.882883</td>\n",
       "    </tr>\n",
       "    <tr>\n",
       "      <th>10.0</th>\n",
       "      <td>581.728814</td>\n",
       "    </tr>\n",
       "    <tr>\n",
       "      <th>11.0</th>\n",
       "      <td>562.364341</td>\n",
       "    </tr>\n",
       "    <tr>\n",
       "      <th>12.0</th>\n",
       "      <td>614.925373</td>\n",
       "    </tr>\n",
       "  </tbody>\n",
       "</table style=\"display:inline\">"
      ]
     },
     "metadata": {},
     "output_type": "display_data"
    }
   ],
   "source": [
    "display_side_by_side(calls_stat_smart_pivot,calls_stat_ultra_pivot)\n",
    "\n",
    "# Выводим результат."
   ]
  },
  {
   "cell_type": "markdown",
   "metadata": {},
   "source": [
    "*У клиентов обоих тарифов наблюдается тенденция  увеличения времени разговоров от начала года к концу.*"
   ]
  },
  {
   "cell_type": "code",
   "execution_count": 51,
   "metadata": {
    "ExecuteTime": {
     "end_time": "2022-05-22T16:27:25.856009Z",
     "start_time": "2022-05-22T16:27:25.847013Z"
    }
   },
   "outputs": [
    {
     "data": {
      "text/html": [
       "<font color='orange'>Среднее количество минут у клиентов тарифа smart: 419.0629779577148</font>"
      ],
      "text/plain": [
       "<IPython.core.display.HTML object>"
      ]
     },
     "metadata": {},
     "output_type": "display_data"
    },
    {
     "data": {
      "text/html": [
       "<font color='blue'>Среднее количество минут у клиентов тарифа ultra: 545.4511041009464</font>"
      ],
      "text/plain": [
       "<IPython.core.display.HTML object>"
      ]
     },
     "metadata": {},
     "output_type": "display_data"
    }
   ],
   "source": [
    "mean_calls_smart = calls_stat_smart['sum'].mean()\n",
    "display(HTML(f\"<font color='orange'>Среднее количество минут у клиентов тарифа smart: {mean_calls_smart}</font>\"))\n",
    "\n",
    "mean_calls_ultra = calls_stat_ultra['sum'].mean()\n",
    "display(HTML(f\"<font color='blue'>Среднее количество минут у клиентов тарифа ultra: {mean_calls_ultra}</font>\"))\n",
    "\n",
    "# Вычислим сколько в среднем клиенты smart и ultra \n",
    "# тратят время на разговоры по телефону."
   ]
  },
  {
   "cell_type": "code",
   "execution_count": 52,
   "metadata": {
    "ExecuteTime": {
     "end_time": "2022-05-22T16:27:34.664285Z",
     "start_time": "2022-05-22T16:27:34.645336Z"
    }
   },
   "outputs": [
    {
     "data": {
      "text/html": [
       "<font color='orange'>Дисперсия звонков  клиентов тарифа smart: 35844.18955134385</font>"
      ],
      "text/plain": [
       "<IPython.core.display.HTML object>"
      ]
     },
     "metadata": {},
     "output_type": "display_data"
    },
    {
     "data": {
      "text/html": [
       "<font color='blue'>Дисперсия звонков  клиентов тарифа ultra: 94203.41839614809</font>"
      ],
      "text/plain": [
       "<IPython.core.display.HTML object>"
      ]
     },
     "metadata": {},
     "output_type": "display_data"
    }
   ],
   "source": [
    "var_calls_smart = np.var(calls_stat_smart['sum'], ddof=1)\n",
    "display(HTML(f\"<font color='orange'>Дисперсия звонков  клиентов тарифа smart: {var_calls_smart}</font>\"))\n",
    "\n",
    "var_calls_ultra = np.var(calls_stat_ultra['sum'], ddof=1,dtype=None)\n",
    "display(HTML(f\"<font color='blue'>Дисперсия звонков  клиентов тарифа ultra: {var_calls_ultra}</font>\"))\n",
    "\n",
    "# Посчитаем дисперсию по звонкам smart и ultra."
   ]
  },
  {
   "cell_type": "code",
   "execution_count": 53,
   "metadata": {
    "ExecuteTime": {
     "end_time": "2022-05-22T16:27:48.555973Z",
     "start_time": "2022-05-22T16:27:48.535003Z"
    }
   },
   "outputs": [
    {
     "data": {
      "text/html": [
       "<font color='orange'>Стандартное отклонение звонков  клиентов тарифа smart: 189.32561778941553</font>"
      ],
      "text/plain": [
       "<IPython.core.display.HTML object>"
      ]
     },
     "metadata": {},
     "output_type": "display_data"
    },
    {
     "data": {
      "text/html": [
       "<font color='blue'>Стандартное отклонение звонков  клиентов тарифа ultra: 306.9257538821858</font>"
      ],
      "text/plain": [
       "<IPython.core.display.HTML object>"
      ]
     },
     "metadata": {},
     "output_type": "display_data"
    }
   ],
   "source": [
    "std_smart_deviation_calls = np.sqrt(var_calls_smart)\n",
    "display(HTML(f\"<font color='orange'>Стандартное отклонение звонков  клиентов тарифа smart: {std_smart_deviation_calls}</font>\"))\n",
    "\n",
    "std_ultra_deviation_calls = np.sqrt(var_calls_ultra)\n",
    "display(HTML(f\"<font color='blue'>Стандартное отклонение звонков  клиентов тарифа ultra: {std_ultra_deviation_calls}</font>\"))\n",
    "\n",
    "# Посчитаем стандартное отклонение smart и ultra."
   ]
  },
  {
   "cell_type": "code",
   "execution_count": 54,
   "metadata": {
    "ExecuteTime": {
     "end_time": "2022-05-22T16:32:10.717648Z",
     "start_time": "2022-05-22T16:32:10.695707Z"
    }
   },
   "outputs": [
    {
     "data": {
      "text/html": [
       "<font color='orange'>Звонки клиентов тарифа smart в интервале:              -148.91387541053177 до 987.0398313259614</font>"
      ],
      "text/plain": [
       "<IPython.core.display.HTML object>"
      ]
     },
     "metadata": {},
     "output_type": "display_data"
    },
    {
     "data": {
      "text/html": [
       "<font color='blue'>Звонки клиентов тарифа ultra в интервале:              -375.32615754561107 до 1466.2283657475039</font>"
      ],
      "text/plain": [
       "<IPython.core.display.HTML object>"
      ]
     },
     "metadata": {},
     "output_type": "display_data"
    }
   ],
   "source": [
    "adv_calls_smart_min = mean_calls_smart - 3*std_smart_deviation_calls\n",
    "adv_calls_smart_max = 3*std_smart_deviation_calls + mean_calls_smart\n",
    "display(HTML(f\"<font color='orange'>Звонки клиентов тарифа smart в интервале: \\\n",
    "             {adv_calls_smart_min} до {adv_calls_smart_max}</font>\"))\n",
    "\n",
    "adv_calls_ultra_min = mean_calls_ultra - 3*std_ultra_deviation_calls\n",
    "adv_calls_ultra_max = 3*std_ultra_deviation_calls + mean_calls_ultra\n",
    "display(HTML(f\"<font color='blue'>Звонки клиентов тарифа ultra в интервале: \\\n",
    "             {adv_calls_ultra_min} до {adv_calls_ultra_max}</font>\"))\n",
    "\n",
    "# Теперь найдем в каком промежутке лежит большая часть значений\n",
    "# по правилу трех сигм для smart и ultra."
   ]
  },
  {
   "cell_type": "code",
   "execution_count": 56,
   "metadata": {
    "ExecuteTime": {
     "end_time": "2022-05-22T16:34:13.313512Z",
     "start_time": "2022-05-22T16:34:12.952582Z"
    }
   },
   "outputs": [
    {
     "data": {
      "image/png": "[encoded data removed]",
      "text/plain": [
       "<Figure size 1080x432 with 2 Axes>"
      ]
     },
     "metadata": {
      "needs_background": "light"
     },
     "output_type": "display_data"
    }
   ],
   "source": [
    "fig = plt.figure(figsize=(15, 6))\n",
    "\n",
    "ax1 = plt.subplot(1, 2, 1)\n",
    "ax1 = sns.histplot(calls_stat_smart['sum'],  kde=True, stat=\"density\", linewidth=0.5, \n",
    "             bins=50, color = 'orange')            \n",
    "ax1.set(xlabel ='минуты', ylabel = 'Клиенты', title ='Звонки тарифа Smart')\n",
    "\n",
    "\n",
    "ax2 = plt.subplot(1, 2, 2)\n",
    "ax2 = sns.histplot(calls_stat_ultra['sum'],kde=True, stat=\"density\", linewidth=0.5,  bins=50,\n",
    "                   color = 'blue')\n",
    "ax2.set(xlabel ='минуты', ylabel = 'Клиенты', title ='Звонки тарифа Ultra')\n",
    "plt.show()\n",
    "\n",
    "# Построим гистограммы по звонкам клиентов smart и ultra. "
   ]
  },
  {
   "cell_type": "markdown",
   "metadata": {},
   "source": [
    "*Судя по гистограммам, на первый взгляд, распределение у клиентов тарифа смарт близко к нормальному, видно, что большая часть значений действительно лежит в промежутке, который мы выявили ранее,но имеет отклонение, так как среднем клиенты тарифа смарт используют 419 минут звонков в месяц, а медиана их звонков - 423 минуты, значит распределение звонков у клиентов \"Смарт\" склонно быть нормальным.  \n",
    "Гисторамма звонков клиентов \"Ультра\" свиду тоже имеет нормальное распределение. В среднем клиенты данного тарифа тратят 545 минут на разговоры, а их медиана - 528 минут, они практически совпадают, а это значит, что данное распределение тоже стремится к нормальному.*"
   ]
  },
  {
   "cell_type": "markdown",
   "metadata": {},
   "source": [
    "### Анализируем трафик тарифов \"smart\" и \"ultra\""
   ]
  },
  {
   "cell_type": "code",
   "execution_count": 57,
   "metadata": {
    "ExecuteTime": {
     "end_time": "2022-05-22T16:34:40.323739Z",
     "start_time": "2022-05-22T16:34:40.309754Z"
    }
   },
   "outputs": [
    {
     "data": {
      "text/html": [
       "<div>\n",
       "<style scoped>\n",
       "    .dataframe tbody tr th:only-of-type {\n",
       "        vertical-align: middle;\n",
       "    }\n",
       "\n",
       "    .dataframe tbody tr th {\n",
       "        vertical-align: top;\n",
       "    }\n",
       "\n",
       "    .dataframe thead th {\n",
       "        text-align: right;\n",
       "    }\n",
       "</style>\n",
       "<table border=\"1\" class=\"dataframe\">\n",
       "  <thead>\n",
       "    <tr style=\"text-align: right;\">\n",
       "      <th></th>\n",
       "      <th>tariff</th>\n",
       "      <th>user_id</th>\n",
       "      <th>mb_per_month_included</th>\n",
       "      <th>rub_per_gb</th>\n",
       "      <th>month_int</th>\n",
       "      <th>count</th>\n",
       "      <th>sum</th>\n",
       "      <th>gb_used</th>\n",
       "      <th>gb_per_month_included</th>\n",
       "      <th>extra_gb</th>\n",
       "    </tr>\n",
       "  </thead>\n",
       "  <tbody>\n",
       "    <tr>\n",
       "      <th>0</th>\n",
       "      <td>smart</td>\n",
       "      <td>1001</td>\n",
       "      <td>15360</td>\n",
       "      <td>200</td>\n",
       "      <td>11.0</td>\n",
       "      <td>55</td>\n",
       "      <td>18452.0</td>\n",
       "      <td>19</td>\n",
       "      <td>15</td>\n",
       "      <td>4</td>\n",
       "    </tr>\n",
       "    <tr>\n",
       "      <th>1</th>\n",
       "      <td>smart</td>\n",
       "      <td>1001</td>\n",
       "      <td>15360</td>\n",
       "      <td>200</td>\n",
       "      <td>12.0</td>\n",
       "      <td>41</td>\n",
       "      <td>14053.0</td>\n",
       "      <td>14</td>\n",
       "      <td>15</td>\n",
       "      <td>-1</td>\n",
       "    </tr>\n",
       "    <tr>\n",
       "      <th>2</th>\n",
       "      <td>smart</td>\n",
       "      <td>1002</td>\n",
       "      <td>15360</td>\n",
       "      <td>200</td>\n",
       "      <td>6.0</td>\n",
       "      <td>34</td>\n",
       "      <td>10871.0</td>\n",
       "      <td>11</td>\n",
       "      <td>15</td>\n",
       "      <td>-4</td>\n",
       "    </tr>\n",
       "    <tr>\n",
       "      <th>3</th>\n",
       "      <td>smart</td>\n",
       "      <td>1002</td>\n",
       "      <td>15360</td>\n",
       "      <td>200</td>\n",
       "      <td>7.0</td>\n",
       "      <td>58</td>\n",
       "      <td>17601.0</td>\n",
       "      <td>18</td>\n",
       "      <td>15</td>\n",
       "      <td>3</td>\n",
       "    </tr>\n",
       "    <tr>\n",
       "      <th>4</th>\n",
       "      <td>smart</td>\n",
       "      <td>1002</td>\n",
       "      <td>15360</td>\n",
       "      <td>200</td>\n",
       "      <td>8.0</td>\n",
       "      <td>60</td>\n",
       "      <td>20347.0</td>\n",
       "      <td>20</td>\n",
       "      <td>15</td>\n",
       "      <td>5</td>\n",
       "    </tr>\n",
       "  </tbody>\n",
       "</table>\n",
       "</div>"
      ],
      "text/plain": [
       "  tariff  user_id  mb_per_month_included  rub_per_gb  month_int  count  \\\n",
       "0  smart     1001                  15360         200       11.0     55   \n",
       "1  smart     1001                  15360         200       12.0     41   \n",
       "2  smart     1002                  15360         200        6.0     34   \n",
       "3  smart     1002                  15360         200        7.0     58   \n",
       "4  smart     1002                  15360         200        8.0     60   \n",
       "\n",
       "       sum  gb_used  gb_per_month_included  extra_gb  \n",
       "0  18452.0       19                     15         4  \n",
       "1  14053.0       14                     15        -1  \n",
       "2  10871.0       11                     15        -4  \n",
       "3  17601.0       18                     15         3  \n",
       "4  20347.0       20                     15         5  "
      ]
     },
     "execution_count": 57,
     "metadata": {},
     "output_type": "execute_result"
    }
   ],
   "source": [
    "internet_stat.head()"
   ]
  },
  {
   "cell_type": "code",
   "execution_count": 58,
   "metadata": {
    "ExecuteTime": {
     "end_time": "2022-05-22T16:34:47.574599Z",
     "start_time": "2022-05-22T16:34:47.535702Z"
    }
   },
   "outputs": [
    {
     "data": {
      "text/html": [
       "<div>\n",
       "<style scoped>\n",
       "    .dataframe tbody tr th:only-of-type {\n",
       "        vertical-align: middle;\n",
       "    }\n",
       "\n",
       "    .dataframe tbody tr th {\n",
       "        vertical-align: top;\n",
       "    }\n",
       "\n",
       "    .dataframe thead th {\n",
       "        text-align: right;\n",
       "    }\n",
       "</style>\n",
       "<table border=\"1\" class=\"dataframe\">\n",
       "  <thead>\n",
       "    <tr style=\"text-align: right;\">\n",
       "      <th></th>\n",
       "      <th>user_id</th>\n",
       "      <th>mb_per_month_included</th>\n",
       "      <th>rub_per_gb</th>\n",
       "      <th>month_int</th>\n",
       "      <th>count</th>\n",
       "      <th>sum</th>\n",
       "      <th>gb_used</th>\n",
       "      <th>gb_per_month_included</th>\n",
       "      <th>extra_gb</th>\n",
       "    </tr>\n",
       "  </thead>\n",
       "  <tbody>\n",
       "    <tr>\n",
       "      <th>count</th>\n",
       "      <td>2228.000000</td>\n",
       "      <td>2228.0</td>\n",
       "      <td>2228.0</td>\n",
       "      <td>2228.000000</td>\n",
       "      <td>2228.000000</td>\n",
       "      <td>2228.000000</td>\n",
       "      <td>2228.000000</td>\n",
       "      <td>2228.0</td>\n",
       "      <td>2228.000000</td>\n",
       "    </tr>\n",
       "    <tr>\n",
       "      <th>mean</th>\n",
       "      <td>1246.416966</td>\n",
       "      <td>15360.0</td>\n",
       "      <td>200.0</td>\n",
       "      <td>8.346948</td>\n",
       "      <td>50.062388</td>\n",
       "      <td>16236.472621</td>\n",
       "      <td>16.366697</td>\n",
       "      <td>15.0</td>\n",
       "      <td>1.366697</td>\n",
       "    </tr>\n",
       "    <tr>\n",
       "      <th>std</th>\n",
       "      <td>146.091122</td>\n",
       "      <td>0.0</td>\n",
       "      <td>0.0</td>\n",
       "      <td>2.920962</td>\n",
       "      <td>17.340593</td>\n",
       "      <td>5868.824472</td>\n",
       "      <td>5.749345</td>\n",
       "      <td>0.0</td>\n",
       "      <td>5.749345</td>\n",
       "    </tr>\n",
       "    <tr>\n",
       "      <th>min</th>\n",
       "      <td>1001.000000</td>\n",
       "      <td>15360.0</td>\n",
       "      <td>200.0</td>\n",
       "      <td>1.000000</td>\n",
       "      <td>1.000000</td>\n",
       "      <td>0.000000</td>\n",
       "      <td>0.000000</td>\n",
       "      <td>15.0</td>\n",
       "      <td>-15.000000</td>\n",
       "    </tr>\n",
       "    <tr>\n",
       "      <th>25%</th>\n",
       "      <td>1121.000000</td>\n",
       "      <td>15360.0</td>\n",
       "      <td>200.0</td>\n",
       "      <td>6.000000</td>\n",
       "      <td>40.000000</td>\n",
       "      <td>12668.500000</td>\n",
       "      <td>13.000000</td>\n",
       "      <td>15.0</td>\n",
       "      <td>-2.000000</td>\n",
       "    </tr>\n",
       "    <tr>\n",
       "      <th>50%</th>\n",
       "      <td>1239.000000</td>\n",
       "      <td>15360.0</td>\n",
       "      <td>200.0</td>\n",
       "      <td>9.000000</td>\n",
       "      <td>51.000000</td>\n",
       "      <td>16532.000000</td>\n",
       "      <td>17.000000</td>\n",
       "      <td>15.0</td>\n",
       "      <td>2.000000</td>\n",
       "    </tr>\n",
       "    <tr>\n",
       "      <th>75%</th>\n",
       "      <td>1376.000000</td>\n",
       "      <td>15360.0</td>\n",
       "      <td>200.0</td>\n",
       "      <td>11.000000</td>\n",
       "      <td>61.000000</td>\n",
       "      <td>20068.000000</td>\n",
       "      <td>20.000000</td>\n",
       "      <td>15.0</td>\n",
       "      <td>5.000000</td>\n",
       "    </tr>\n",
       "    <tr>\n",
       "      <th>max</th>\n",
       "      <td>1499.000000</td>\n",
       "      <td>15360.0</td>\n",
       "      <td>200.0</td>\n",
       "      <td>12.000000</td>\n",
       "      <td>118.000000</td>\n",
       "      <td>38610.000000</td>\n",
       "      <td>38.000000</td>\n",
       "      <td>15.0</td>\n",
       "      <td>23.000000</td>\n",
       "    </tr>\n",
       "  </tbody>\n",
       "</table>\n",
       "</div>"
      ],
      "text/plain": [
       "           user_id  mb_per_month_included  rub_per_gb    month_int  \\\n",
       "count  2228.000000                 2228.0      2228.0  2228.000000   \n",
       "mean   1246.416966                15360.0       200.0     8.346948   \n",
       "std     146.091122                    0.0         0.0     2.920962   \n",
       "min    1001.000000                15360.0       200.0     1.000000   \n",
       "25%    1121.000000                15360.0       200.0     6.000000   \n",
       "50%    1239.000000                15360.0       200.0     9.000000   \n",
       "75%    1376.000000                15360.0       200.0    11.000000   \n",
       "max    1499.000000                15360.0       200.0    12.000000   \n",
       "\n",
       "             count           sum      gb_used  gb_per_month_included  \\\n",
       "count  2228.000000   2228.000000  2228.000000                 2228.0   \n",
       "mean     50.062388  16236.472621    16.366697                   15.0   \n",
       "std      17.340593   5868.824472     5.749345                    0.0   \n",
       "min       1.000000      0.000000     0.000000                   15.0   \n",
       "25%      40.000000  12668.500000    13.000000                   15.0   \n",
       "50%      51.000000  16532.000000    17.000000                   15.0   \n",
       "75%      61.000000  20068.000000    20.000000                   15.0   \n",
       "max     118.000000  38610.000000    38.000000                   15.0   \n",
       "\n",
       "          extra_gb  \n",
       "count  2228.000000  \n",
       "mean      1.366697  \n",
       "std       5.749345  \n",
       "min     -15.000000  \n",
       "25%      -2.000000  \n",
       "50%       2.000000  \n",
       "75%       5.000000  \n",
       "max      23.000000  "
      ]
     },
     "execution_count": 58,
     "metadata": {},
     "output_type": "execute_result"
    }
   ],
   "source": [
    "internet_stat.query('tariff == \"smart\"').describe()"
   ]
  },
  {
   "cell_type": "code",
   "execution_count": 59,
   "metadata": {
    "ExecuteTime": {
     "end_time": "2022-05-22T16:34:52.502819Z",
     "start_time": "2022-05-22T16:34:52.463896Z"
    }
   },
   "outputs": [
    {
     "data": {
      "text/html": [
       "<div>\n",
       "<style scoped>\n",
       "    .dataframe tbody tr th:only-of-type {\n",
       "        vertical-align: middle;\n",
       "    }\n",
       "\n",
       "    .dataframe tbody tr th {\n",
       "        vertical-align: top;\n",
       "    }\n",
       "\n",
       "    .dataframe thead th {\n",
       "        text-align: right;\n",
       "    }\n",
       "</style>\n",
       "<table border=\"1\" class=\"dataframe\">\n",
       "  <thead>\n",
       "    <tr style=\"text-align: right;\">\n",
       "      <th></th>\n",
       "      <th>user_id</th>\n",
       "      <th>mb_per_month_included</th>\n",
       "      <th>rub_per_gb</th>\n",
       "      <th>month_int</th>\n",
       "      <th>count</th>\n",
       "      <th>sum</th>\n",
       "      <th>gb_used</th>\n",
       "      <th>gb_per_month_included</th>\n",
       "      <th>extra_gb</th>\n",
       "    </tr>\n",
       "  </thead>\n",
       "  <tbody>\n",
       "    <tr>\n",
       "      <th>count</th>\n",
       "      <td>975.000000</td>\n",
       "      <td>975.0</td>\n",
       "      <td>975.0</td>\n",
       "      <td>975.000000</td>\n",
       "      <td>975.000000</td>\n",
       "      <td>975.000000</td>\n",
       "      <td>975.000000</td>\n",
       "      <td>975.0</td>\n",
       "      <td>975.000000</td>\n",
       "    </tr>\n",
       "    <tr>\n",
       "      <th>mean</th>\n",
       "      <td>1262.764103</td>\n",
       "      <td>30720.0</td>\n",
       "      <td>150.0</td>\n",
       "      <td>8.261538</td>\n",
       "      <td>38.827692</td>\n",
       "      <td>19686.767179</td>\n",
       "      <td>19.726154</td>\n",
       "      <td>30.0</td>\n",
       "      <td>-10.273846</td>\n",
       "    </tr>\n",
       "    <tr>\n",
       "      <th>std</th>\n",
       "      <td>141.304620</td>\n",
       "      <td>0.0</td>\n",
       "      <td>0.0</td>\n",
       "      <td>2.864910</td>\n",
       "      <td>19.331408</td>\n",
       "      <td>9952.057054</td>\n",
       "      <td>9.714924</td>\n",
       "      <td>0.0</td>\n",
       "      <td>9.714924</td>\n",
       "    </tr>\n",
       "    <tr>\n",
       "      <th>min</th>\n",
       "      <td>1000.000000</td>\n",
       "      <td>30720.0</td>\n",
       "      <td>150.0</td>\n",
       "      <td>1.000000</td>\n",
       "      <td>1.000000</td>\n",
       "      <td>0.000000</td>\n",
       "      <td>0.000000</td>\n",
       "      <td>30.0</td>\n",
       "      <td>-30.000000</td>\n",
       "    </tr>\n",
       "    <tr>\n",
       "      <th>25%</th>\n",
       "      <td>1143.000000</td>\n",
       "      <td>30720.0</td>\n",
       "      <td>150.0</td>\n",
       "      <td>6.000000</td>\n",
       "      <td>24.000000</td>\n",
       "      <td>12020.500000</td>\n",
       "      <td>12.000000</td>\n",
       "      <td>30.0</td>\n",
       "      <td>-18.000000</td>\n",
       "    </tr>\n",
       "    <tr>\n",
       "      <th>50%</th>\n",
       "      <td>1277.000000</td>\n",
       "      <td>30720.0</td>\n",
       "      <td>150.0</td>\n",
       "      <td>9.000000</td>\n",
       "      <td>38.000000</td>\n",
       "      <td>19411.000000</td>\n",
       "      <td>19.000000</td>\n",
       "      <td>30.0</td>\n",
       "      <td>-11.000000</td>\n",
       "    </tr>\n",
       "    <tr>\n",
       "      <th>75%</th>\n",
       "      <td>1381.000000</td>\n",
       "      <td>30720.0</td>\n",
       "      <td>150.0</td>\n",
       "      <td>11.000000</td>\n",
       "      <td>52.000000</td>\n",
       "      <td>26920.500000</td>\n",
       "      <td>27.000000</td>\n",
       "      <td>30.0</td>\n",
       "      <td>-3.000000</td>\n",
       "    </tr>\n",
       "    <tr>\n",
       "      <th>max</th>\n",
       "      <td>1495.000000</td>\n",
       "      <td>30720.0</td>\n",
       "      <td>150.0</td>\n",
       "      <td>12.000000</td>\n",
       "      <td>97.000000</td>\n",
       "      <td>49789.000000</td>\n",
       "      <td>49.000000</td>\n",
       "      <td>30.0</td>\n",
       "      <td>19.000000</td>\n",
       "    </tr>\n",
       "  </tbody>\n",
       "</table>\n",
       "</div>"
      ],
      "text/plain": [
       "           user_id  mb_per_month_included  rub_per_gb   month_int       count  \\\n",
       "count   975.000000                  975.0       975.0  975.000000  975.000000   \n",
       "mean   1262.764103                30720.0       150.0    8.261538   38.827692   \n",
       "std     141.304620                    0.0         0.0    2.864910   19.331408   \n",
       "min    1000.000000                30720.0       150.0    1.000000    1.000000   \n",
       "25%    1143.000000                30720.0       150.0    6.000000   24.000000   \n",
       "50%    1277.000000                30720.0       150.0    9.000000   38.000000   \n",
       "75%    1381.000000                30720.0       150.0   11.000000   52.000000   \n",
       "max    1495.000000                30720.0       150.0   12.000000   97.000000   \n",
       "\n",
       "                sum     gb_used  gb_per_month_included    extra_gb  \n",
       "count    975.000000  975.000000                  975.0  975.000000  \n",
       "mean   19686.767179   19.726154                   30.0  -10.273846  \n",
       "std     9952.057054    9.714924                    0.0    9.714924  \n",
       "min        0.000000    0.000000                   30.0  -30.000000  \n",
       "25%    12020.500000   12.000000                   30.0  -18.000000  \n",
       "50%    19411.000000   19.000000                   30.0  -11.000000  \n",
       "75%    26920.500000   27.000000                   30.0   -3.000000  \n",
       "max    49789.000000   49.000000                   30.0   19.000000  "
      ]
     },
     "execution_count": 59,
     "metadata": {},
     "output_type": "execute_result"
    }
   ],
   "source": [
    "internet_stat.query('tariff == \"ultra\"').describe()"
   ]
  },
  {
   "cell_type": "code",
   "execution_count": 60,
   "metadata": {
    "ExecuteTime": {
     "end_time": "2022-05-22T16:35:15.161858Z",
     "start_time": "2022-05-22T16:35:15.142878Z"
    }
   },
   "outputs": [],
   "source": [
    "internet_stat_smart = internet_stat.query('tariff == \"smart\"')\n",
    "internet_stat_smart_pivot = internet_stat_smart.pivot_table(index='month_int',values='sum',aggfunc='mean')\n",
    "internet_stat_smart_pivot.columns = ['mb_used_month_smart']\n",
    "\n",
    "internet_stat_ultra = internet_stat.query('tariff == \"ultra\"')\n",
    "internet_stat_ultra_pivot = internet_stat_ultra.pivot_table(index='month_int',values='sum',aggfunc='mean')\n",
    "internet_stat_ultra_pivot.columns = ['mb_used_month_ultra']\n",
    "\n",
    "# Выделяем клиентов тарифов smart и ultra.\n",
    "# Создаем сводную таблицу и суммируем трафик по месяцам."
   ]
  },
  {
   "cell_type": "code",
   "execution_count": 61,
   "metadata": {
    "ExecuteTime": {
     "end_time": "2022-05-22T16:35:25.761039Z",
     "start_time": "2022-05-22T16:35:25.750069Z"
    }
   },
   "outputs": [
    {
     "data": {
      "text/html": [
       " <table style=\"display:inline\" border=\"1\" class=\"dataframe\">\n",
       "  <thead>\n",
       "    <tr style=\"text-align: right;\">\n",
       "      <th></th>\n",
       "      <th>mb_used_month_smart</th>\n",
       "    </tr>\n",
       "    <tr>\n",
       "      <th>month_int</th>\n",
       "      <th></th>\n",
       "    </tr>\n",
       "  </thead>\n",
       "  <tbody>\n",
       "    <tr>\n",
       "      <th>1.0</th>\n",
       "      <td>8524.441176</td>\n",
       "    </tr>\n",
       "    <tr>\n",
       "      <th>2.0</th>\n",
       "      <td>11611.396552</td>\n",
       "    </tr>\n",
       "    <tr>\n",
       "      <th>3.0</th>\n",
       "      <td>15123.857143</td>\n",
       "    </tr>\n",
       "    <tr>\n",
       "      <th>4.0</th>\n",
       "      <td>13479.482143</td>\n",
       "    </tr>\n",
       "    <tr>\n",
       "      <th>5.0</th>\n",
       "      <td>15825.198582</td>\n",
       "    </tr>\n",
       "    <tr>\n",
       "      <th>6.0</th>\n",
       "      <td>15814.768293</td>\n",
       "    </tr>\n",
       "    <tr>\n",
       "      <th>7.0</th>\n",
       "      <td>15763.512438</td>\n",
       "    </tr>\n",
       "    <tr>\n",
       "      <th>8.0</th>\n",
       "      <td>16703.252137</td>\n",
       "    </tr>\n",
       "    <tr>\n",
       "      <th>9.0</th>\n",
       "      <td>16324.526923</td>\n",
       "    </tr>\n",
       "    <tr>\n",
       "      <th>10.0</th>\n",
       "      <td>16778.564626</td>\n",
       "    </tr>\n",
       "    <tr>\n",
       "      <th>11.0</th>\n",
       "      <td>16917.531646</td>\n",
       "    </tr>\n",
       "    <tr>\n",
       "      <th>12.0</th>\n",
       "      <td>18136.833828</td>\n",
       "    </tr>\n",
       "  </tbody>\n",
       "</table style=\"display:inline\"><table style=\"display:inline\" border=\"1\" class=\"dataframe\">\n",
       "  <thead>\n",
       "    <tr style=\"text-align: right;\">\n",
       "      <th></th>\n",
       "      <th>mb_used_month_ultra</th>\n",
       "    </tr>\n",
       "    <tr>\n",
       "      <th>month_int</th>\n",
       "      <th></th>\n",
       "    </tr>\n",
       "  </thead>\n",
       "  <tbody>\n",
       "    <tr>\n",
       "      <th>1.0</th>\n",
       "      <td>13153.555556</td>\n",
       "    </tr>\n",
       "    <tr>\n",
       "      <th>2.0</th>\n",
       "      <td>12858.500000</td>\n",
       "    </tr>\n",
       "    <tr>\n",
       "      <th>3.0</th>\n",
       "      <td>17551.972973</td>\n",
       "    </tr>\n",
       "    <tr>\n",
       "      <th>4.0</th>\n",
       "      <td>16843.800000</td>\n",
       "    </tr>\n",
       "    <tr>\n",
       "      <th>5.0</th>\n",
       "      <td>19674.848485</td>\n",
       "    </tr>\n",
       "    <tr>\n",
       "      <th>6.0</th>\n",
       "      <td>19170.457831</td>\n",
       "    </tr>\n",
       "    <tr>\n",
       "      <th>7.0</th>\n",
       "      <td>20742.588889</td>\n",
       "    </tr>\n",
       "    <tr>\n",
       "      <th>8.0</th>\n",
       "      <td>19778.915094</td>\n",
       "    </tr>\n",
       "    <tr>\n",
       "      <th>9.0</th>\n",
       "      <td>19390.824561</td>\n",
       "    </tr>\n",
       "    <tr>\n",
       "      <th>10.0</th>\n",
       "      <td>20228.327869</td>\n",
       "    </tr>\n",
       "    <tr>\n",
       "      <th>11.0</th>\n",
       "      <td>19954.225564</td>\n",
       "    </tr>\n",
       "    <tr>\n",
       "      <th>12.0</th>\n",
       "      <td>21971.659420</td>\n",
       "    </tr>\n",
       "  </tbody>\n",
       "</table style=\"display:inline\">"
      ]
     },
     "metadata": {},
     "output_type": "display_data"
    }
   ],
   "source": [
    "display_side_by_side(internet_stat_smart_pivot,internet_stat_ultra_pivot)\n",
    "\n",
    "# Выводим результат."
   ]
  },
  {
   "cell_type": "code",
   "execution_count": 62,
   "metadata": {
    "ExecuteTime": {
     "end_time": "2022-05-22T16:36:02.619223Z",
     "start_time": "2022-05-22T16:36:02.598307Z"
    }
   },
   "outputs": [
    {
     "data": {
      "text/html": [
       "<font color='orange'>Среднее количество израсходованных мегабайт траффика у клиентов тарифа smart:              16.36669658886894</font>"
      ],
      "text/plain": [
       "<IPython.core.display.HTML object>"
      ]
     },
     "metadata": {},
     "output_type": "display_data"
    },
    {
     "data": {
      "text/html": [
       "<font color='blue'>Среднее количество израсходованных мегабайт траффика у клиентов тарифа ultra:              19.726153846153846</font>"
      ],
      "text/plain": [
       "<IPython.core.display.HTML object>"
      ]
     },
     "metadata": {},
     "output_type": "display_data"
    }
   ],
   "source": [
    "mean_internet_smart = internet_stat_smart['gb_used'].mean()\n",
    "display(HTML(f\"<font color='orange'>Среднее количество израсходованных мегабайт траффика у клиентов тарифа smart: \\\n",
    "             {mean_internet_smart}</font>\"))\n",
    "\n",
    "mean_internet_ultra = internet_stat_ultra['gb_used'].mean()\n",
    "display(HTML(f\"<font color='blue'>Среднее количество израсходованных мегабайт траффика у клиентов тарифа ultra: \\\n",
    "             {mean_internet_ultra}</font>\"))\n",
    "\n",
    "# Вычислим сколько в среднем клиенты smart и ultra\n",
    "# расходуют траффик."
   ]
  },
  {
   "cell_type": "code",
   "execution_count": 63,
   "metadata": {
    "ExecuteTime": {
     "end_time": "2022-05-22T16:36:24.965368Z",
     "start_time": "2022-05-22T16:36:24.951434Z"
    }
   },
   "outputs": [
    {
     "data": {
      "text/html": [
       "<font color='orange'>Дисперсия траффика  клиентов тарифа smart: 33.05496582258359</font>"
      ],
      "text/plain": [
       "<IPython.core.display.HTML object>"
      ]
     },
     "metadata": {},
     "output_type": "display_data"
    },
    {
     "data": {
      "text/html": [
       "<font color='blue'>Дисперсия траффика  клиентов тарифа ultra: 94.37975675248764</font>"
      ],
      "text/plain": [
       "<IPython.core.display.HTML object>"
      ]
     },
     "metadata": {},
     "output_type": "display_data"
    }
   ],
   "source": [
    "var_smart_internet = np.var(internet_stat_smart['gb_used'], ddof=1)\n",
    "display(HTML(f\"<font color='orange'>Дисперсия траффика  клиентов тарифа smart: {var_smart_internet}</font>\"))\n",
    "\n",
    "var_ultra_internet = np.var(internet_stat_ultra['gb_used'], ddof=1)\n",
    "display(HTML(f\"<font color='blue'>Дисперсия траффика  клиентов тарифа ultra: {var_ultra_internet}</font>\"))\n",
    "\n",
    "# Посчитаем дисперсию по звонкам из выборки."
   ]
  },
  {
   "cell_type": "code",
   "execution_count": 64,
   "metadata": {
    "ExecuteTime": {
     "end_time": "2022-05-22T16:37:10.049732Z",
     "start_time": "2022-05-22T16:37:10.029540Z"
    }
   },
   "outputs": [
    {
     "data": {
      "text/html": [
       "<font color='orange'>Стандартное отклонение траффика  клиентов тарифа smart:              5.749344816810311</font>"
      ],
      "text/plain": [
       "<IPython.core.display.HTML object>"
      ]
     },
     "metadata": {},
     "output_type": "display_data"
    },
    {
     "data": {
      "text/html": [
       "<font color='blue'>Стандартное отклонение траффика  клиентов тарифа ultra:              9.714924433699299</font>"
      ],
      "text/plain": [
       "<IPython.core.display.HTML object>"
      ]
     },
     "metadata": {},
     "output_type": "display_data"
    }
   ],
   "source": [
    "std_smart_deviation_internet = np.sqrt(var_smart_internet)\n",
    "display(HTML(f\"<font color='orange'>Стандартное отклонение траффика  клиентов тарифа smart: \\\n",
    "             {std_smart_deviation_internet}</font>\"))\n",
    "\n",
    "std_ultra_deviation_internet = np.sqrt(var_ultra_internet)\n",
    "display(HTML(f\"<font color='blue'>Стандартное отклонение траффика  клиентов тарифа ultra: \\\n",
    "             {std_ultra_deviation_internet}</font>\"))\n",
    "\n",
    "# Посчитаем стандартное отклонение."
   ]
  },
  {
   "cell_type": "code",
   "execution_count": 65,
   "metadata": {
    "ExecuteTime": {
     "end_time": "2022-05-22T16:38:16.083557Z",
     "start_time": "2022-05-22T16:38:16.062592Z"
    }
   },
   "outputs": [
    {
     "data": {
      "text/html": [
       "<font color='orange'>Трафик  клиентов тарифа smart находится в промежутке от:             -0.8813378615619918 до 33.61473103929987</font>"
      ],
      "text/plain": [
       "<IPython.core.display.HTML object>"
      ]
     },
     "metadata": {},
     "output_type": "display_data"
    },
    {
     "data": {
      "text/html": [
       "<font color='blue'>Трафик  клиентов тарифа ultra находится в промежутке от:             -9.41861945494405 до 48.87092714725174</font>"
      ],
      "text/plain": [
       "<IPython.core.display.HTML object>"
      ]
     },
     "metadata": {},
     "output_type": "display_data"
    }
   ],
   "source": [
    "adv_internet_smart_min = mean_internet_smart - 3*std_smart_deviation_internet\n",
    "adv_internet_smart_max = 3*std_smart_deviation_internet + mean_internet_smart\n",
    "display(HTML(f\"<font color='orange'>Трафик  клиентов тарифа smart находится в промежутке от:\\\n",
    "             {adv_internet_smart_min} до {adv_internet_smart_max}</font>\"))\n",
    "\n",
    "adv_internet_ultra_min = mean_internet_ultra - 3*std_ultra_deviation_internet\n",
    "adv_internet_ultra_max = 3*std_ultra_deviation_internet + mean_internet_ultra\n",
    "display(HTML(f\"<font color='blue'>Трафик  клиентов тарифа ultra находится в промежутке от:\\\n",
    "             {adv_internet_ultra_min} до {adv_internet_ultra_max}</font>\"))\n",
    "\n",
    "# Теперь найдем в каком промежутке лежит большая часть значений\n",
    "# по правилу трех сигм."
   ]
  },
  {
   "cell_type": "code",
   "execution_count": 66,
   "metadata": {
    "ExecuteTime": {
     "end_time": "2022-05-22T16:38:42.226553Z",
     "start_time": "2022-05-22T16:38:41.887728Z"
    }
   },
   "outputs": [
    {
     "data": {
      "image/png": "[encoded data removed]",
      "text/plain": [
       "<Figure size 1080x432 with 2 Axes>"
      ]
     },
     "metadata": {
      "needs_background": "light"
     },
     "output_type": "display_data"
    }
   ],
   "source": [
    "fig = plt.figure(figsize=(15, 6))\n",
    "\n",
    "ax1 = plt.subplot(1, 2, 1)\n",
    "ax1 = sns.histplot(internet_stat_smart['sum'],  kde=True, stat=\"density\", linewidth=0.5, \n",
    "             bins=50, color = 'orange')            \n",
    "ax1.set(xlabel ='мегабайты', ylabel = 'Клиенты', title ='Траффик клиентов Smart')\n",
    "\n",
    "\n",
    "ax2 = plt.subplot(1, 2, 2)\n",
    "ax2 = sns.histplot(internet_stat_ultra['sum'],kde=True, stat=\"density\", linewidth=0.5,  bins=50,\n",
    "                   color = 'blue')\n",
    "ax2.set(xlabel ='мегабайты', ylabel = 'Клиенты', title ='Траффик клиентов Ultra')\n",
    "plt.show()\n",
    "\n",
    "# Построим гистограммы по трафику клиентов smart и ultra."
   ]
  },
  {
   "cell_type": "markdown",
   "metadata": {},
   "source": [
    "*В среднем клиенты тарифа смарт используют 15,86 гб трафика в месяц, а медиана  - 16,15 мб, значит распределение звонков у клиентов \"Смарт\" нормальное, среднее стремится к медиане.  \n",
    "Гисторамма использования трафика клиентов \"Ультра\"  так же имеет нормальное распределение. В среднем клиенты данного тарифа используют 19,23 гб трафика, а их медиана - 18,96 мб.*"
   ]
  },
  {
   "cell_type": "markdown",
   "metadata": {},
   "source": [
    "### Анализируем сообщения клиентов тарифов Smart и Ultra"
   ]
  },
  {
   "cell_type": "code",
   "execution_count": 67,
   "metadata": {
    "ExecuteTime": {
     "end_time": "2022-05-22T16:39:18.696827Z",
     "start_time": "2022-05-22T16:39:18.660961Z"
    }
   },
   "outputs": [
    {
     "data": {
      "text/html": [
       "<div>\n",
       "<style scoped>\n",
       "    .dataframe tbody tr th:only-of-type {\n",
       "        vertical-align: middle;\n",
       "    }\n",
       "\n",
       "    .dataframe tbody tr th {\n",
       "        vertical-align: top;\n",
       "    }\n",
       "\n",
       "    .dataframe thead th {\n",
       "        text-align: right;\n",
       "    }\n",
       "</style>\n",
       "<table border=\"1\" class=\"dataframe\">\n",
       "  <thead>\n",
       "    <tr style=\"text-align: right;\">\n",
       "      <th></th>\n",
       "      <th>user_id</th>\n",
       "      <th>messages_included</th>\n",
       "      <th>rub_per_message</th>\n",
       "      <th>month_mess</th>\n",
       "      <th>message_count</th>\n",
       "      <th>extra_mess</th>\n",
       "    </tr>\n",
       "  </thead>\n",
       "  <tbody>\n",
       "    <tr>\n",
       "      <th>count</th>\n",
       "      <td>1922.000000</td>\n",
       "      <td>1922.0</td>\n",
       "      <td>1922.0</td>\n",
       "      <td>1922.000000</td>\n",
       "      <td>1922.000000</td>\n",
       "      <td>1922.000000</td>\n",
       "    </tr>\n",
       "    <tr>\n",
       "      <th>mean</th>\n",
       "      <td>1248.711759</td>\n",
       "      <td>50.0</td>\n",
       "      <td>3.0</td>\n",
       "      <td>8.322060</td>\n",
       "      <td>38.716441</td>\n",
       "      <td>-11.283559</td>\n",
       "    </tr>\n",
       "    <tr>\n",
       "      <th>std</th>\n",
       "      <td>147.491929</td>\n",
       "      <td>0.0</td>\n",
       "      <td>0.0</td>\n",
       "      <td>2.929116</td>\n",
       "      <td>26.787949</td>\n",
       "      <td>26.787949</td>\n",
       "    </tr>\n",
       "    <tr>\n",
       "      <th>min</th>\n",
       "      <td>1002.000000</td>\n",
       "      <td>50.0</td>\n",
       "      <td>3.0</td>\n",
       "      <td>1.000000</td>\n",
       "      <td>1.000000</td>\n",
       "      <td>-49.000000</td>\n",
       "    </tr>\n",
       "    <tr>\n",
       "      <th>25%</th>\n",
       "      <td>1123.000000</td>\n",
       "      <td>50.0</td>\n",
       "      <td>3.0</td>\n",
       "      <td>6.000000</td>\n",
       "      <td>17.000000</td>\n",
       "      <td>-33.000000</td>\n",
       "    </tr>\n",
       "    <tr>\n",
       "      <th>50%</th>\n",
       "      <td>1246.000000</td>\n",
       "      <td>50.0</td>\n",
       "      <td>3.0</td>\n",
       "      <td>9.000000</td>\n",
       "      <td>34.000000</td>\n",
       "      <td>-16.000000</td>\n",
       "    </tr>\n",
       "    <tr>\n",
       "      <th>75%</th>\n",
       "      <td>1384.000000</td>\n",
       "      <td>50.0</td>\n",
       "      <td>3.0</td>\n",
       "      <td>11.000000</td>\n",
       "      <td>55.000000</td>\n",
       "      <td>5.000000</td>\n",
       "    </tr>\n",
       "    <tr>\n",
       "      <th>max</th>\n",
       "      <td>1499.000000</td>\n",
       "      <td>50.0</td>\n",
       "      <td>3.0</td>\n",
       "      <td>12.000000</td>\n",
       "      <td>143.000000</td>\n",
       "      <td>93.000000</td>\n",
       "    </tr>\n",
       "  </tbody>\n",
       "</table>\n",
       "</div>"
      ],
      "text/plain": [
       "           user_id  messages_included  rub_per_message   month_mess  \\\n",
       "count  1922.000000             1922.0           1922.0  1922.000000   \n",
       "mean   1248.711759               50.0              3.0     8.322060   \n",
       "std     147.491929                0.0              0.0     2.929116   \n",
       "min    1002.000000               50.0              3.0     1.000000   \n",
       "25%    1123.000000               50.0              3.0     6.000000   \n",
       "50%    1246.000000               50.0              3.0     9.000000   \n",
       "75%    1384.000000               50.0              3.0    11.000000   \n",
       "max    1499.000000               50.0              3.0    12.000000   \n",
       "\n",
       "       message_count   extra_mess  \n",
       "count    1922.000000  1922.000000  \n",
       "mean       38.716441   -11.283559  \n",
       "std        26.787949    26.787949  \n",
       "min         1.000000   -49.000000  \n",
       "25%        17.000000   -33.000000  \n",
       "50%        34.000000   -16.000000  \n",
       "75%        55.000000     5.000000  \n",
       "max       143.000000    93.000000  "
      ]
     },
     "execution_count": 67,
     "metadata": {},
     "output_type": "execute_result"
    }
   ],
   "source": [
    "messages_stat.query('tariff == \"smart\"').describe()"
   ]
  },
  {
   "cell_type": "code",
   "execution_count": 68,
   "metadata": {
    "ExecuteTime": {
     "end_time": "2022-05-22T16:39:20.085423Z",
     "start_time": "2022-05-22T16:39:20.054604Z"
    }
   },
   "outputs": [
    {
     "data": {
      "text/html": [
       "<div>\n",
       "<style scoped>\n",
       "    .dataframe tbody tr th:only-of-type {\n",
       "        vertical-align: middle;\n",
       "    }\n",
       "\n",
       "    .dataframe tbody tr th {\n",
       "        vertical-align: top;\n",
       "    }\n",
       "\n",
       "    .dataframe thead th {\n",
       "        text-align: right;\n",
       "    }\n",
       "</style>\n",
       "<table border=\"1\" class=\"dataframe\">\n",
       "  <thead>\n",
       "    <tr style=\"text-align: right;\">\n",
       "      <th></th>\n",
       "      <th>user_id</th>\n",
       "      <th>messages_included</th>\n",
       "      <th>rub_per_message</th>\n",
       "      <th>month_mess</th>\n",
       "      <th>message_count</th>\n",
       "      <th>extra_mess</th>\n",
       "    </tr>\n",
       "  </thead>\n",
       "  <tbody>\n",
       "    <tr>\n",
       "      <th>count</th>\n",
       "      <td>795.000000</td>\n",
       "      <td>795.0</td>\n",
       "      <td>795.0</td>\n",
       "      <td>795.000000</td>\n",
       "      <td>795.000000</td>\n",
       "      <td>795.000000</td>\n",
       "    </tr>\n",
       "    <tr>\n",
       "      <th>mean</th>\n",
       "      <td>1272.373585</td>\n",
       "      <td>1000.0</td>\n",
       "      <td>1.0</td>\n",
       "      <td>8.401258</td>\n",
       "      <td>61.161006</td>\n",
       "      <td>-938.838994</td>\n",
       "    </tr>\n",
       "    <tr>\n",
       "      <th>std</th>\n",
       "      <td>141.824909</td>\n",
       "      <td>0.0</td>\n",
       "      <td>0.0</td>\n",
       "      <td>2.804503</td>\n",
       "      <td>45.931026</td>\n",
       "      <td>45.931026</td>\n",
       "    </tr>\n",
       "    <tr>\n",
       "      <th>min</th>\n",
       "      <td>1000.000000</td>\n",
       "      <td>1000.0</td>\n",
       "      <td>1.0</td>\n",
       "      <td>1.000000</td>\n",
       "      <td>1.000000</td>\n",
       "      <td>-999.000000</td>\n",
       "    </tr>\n",
       "    <tr>\n",
       "      <th>25%</th>\n",
       "      <td>1149.000000</td>\n",
       "      <td>1000.0</td>\n",
       "      <td>1.0</td>\n",
       "      <td>6.000000</td>\n",
       "      <td>24.000000</td>\n",
       "      <td>-976.000000</td>\n",
       "    </tr>\n",
       "    <tr>\n",
       "      <th>50%</th>\n",
       "      <td>1303.000000</td>\n",
       "      <td>1000.0</td>\n",
       "      <td>1.0</td>\n",
       "      <td>9.000000</td>\n",
       "      <td>51.000000</td>\n",
       "      <td>-949.000000</td>\n",
       "    </tr>\n",
       "    <tr>\n",
       "      <th>75%</th>\n",
       "      <td>1385.000000</td>\n",
       "      <td>1000.0</td>\n",
       "      <td>1.0</td>\n",
       "      <td>11.000000</td>\n",
       "      <td>87.500000</td>\n",
       "      <td>-912.500000</td>\n",
       "    </tr>\n",
       "    <tr>\n",
       "      <th>max</th>\n",
       "      <td>1495.000000</td>\n",
       "      <td>1000.0</td>\n",
       "      <td>1.0</td>\n",
       "      <td>12.000000</td>\n",
       "      <td>224.000000</td>\n",
       "      <td>-776.000000</td>\n",
       "    </tr>\n",
       "  </tbody>\n",
       "</table>\n",
       "</div>"
      ],
      "text/plain": [
       "           user_id  messages_included  rub_per_message  month_mess  \\\n",
       "count   795.000000              795.0            795.0  795.000000   \n",
       "mean   1272.373585             1000.0              1.0    8.401258   \n",
       "std     141.824909                0.0              0.0    2.804503   \n",
       "min    1000.000000             1000.0              1.0    1.000000   \n",
       "25%    1149.000000             1000.0              1.0    6.000000   \n",
       "50%    1303.000000             1000.0              1.0    9.000000   \n",
       "75%    1385.000000             1000.0              1.0   11.000000   \n",
       "max    1495.000000             1000.0              1.0   12.000000   \n",
       "\n",
       "       message_count  extra_mess  \n",
       "count     795.000000  795.000000  \n",
       "mean       61.161006 -938.838994  \n",
       "std        45.931026   45.931026  \n",
       "min         1.000000 -999.000000  \n",
       "25%        24.000000 -976.000000  \n",
       "50%        51.000000 -949.000000  \n",
       "75%        87.500000 -912.500000  \n",
       "max       224.000000 -776.000000  "
      ]
     },
     "execution_count": 68,
     "metadata": {},
     "output_type": "execute_result"
    }
   ],
   "source": [
    "messages_stat.query('tariff == \"ultra\"').describe()"
   ]
  },
  {
   "cell_type": "code",
   "execution_count": 69,
   "metadata": {
    "ExecuteTime": {
     "end_time": "2022-05-22T16:39:49.754882Z",
     "start_time": "2022-05-22T16:39:49.724936Z"
    }
   },
   "outputs": [],
   "source": [
    "messages_stat_smart = messages_stat.query('tariff == \"smart\"')\n",
    "messages_stat_smart_pivot = messages_stat_smart.pivot_table(index = 'month_mess', values='message_count',aggfunc='mean')\n",
    "messages_stat_smart_pivot.columns = ['mess_used_month_smart']\n",
    "\n",
    "messages_stat_ultra = messages_stat.query('tariff == \"ultra\"')\n",
    "messages_stat_ultra_pivot = messages_stat_ultra.pivot_table(index = 'month_mess', values='message_count',aggfunc='mean')\n",
    "messages_stat_ultra_pivot.columns = ['mess_used_month_ultra']\n",
    "\n",
    "# Выделяем клиентов тарифа smart и ultra.\n",
    "# Создаем сводную таблицу и суммируем смс по месяцам."
   ]
  },
  {
   "cell_type": "code",
   "execution_count": 70,
   "metadata": {
    "ExecuteTime": {
     "end_time": "2022-05-22T16:40:01.651241Z",
     "start_time": "2022-05-22T16:40:01.630271Z"
    }
   },
   "outputs": [
    {
     "data": {
      "text/html": [
       " <table style=\"display:inline\" border=\"1\" class=\"dataframe\">\n",
       "  <thead>\n",
       "    <tr style=\"text-align: right;\">\n",
       "      <th></th>\n",
       "      <th>mess_used_month_smart</th>\n",
       "    </tr>\n",
       "    <tr>\n",
       "      <th>month_mess</th>\n",
       "      <th></th>\n",
       "    </tr>\n",
       "  </thead>\n",
       "  <tbody>\n",
       "    <tr>\n",
       "      <th>1.0</th>\n",
       "      <td>20.000000</td>\n",
       "    </tr>\n",
       "    <tr>\n",
       "      <th>2.0</th>\n",
       "      <td>27.940000</td>\n",
       "    </tr>\n",
       "    <tr>\n",
       "      <th>3.0</th>\n",
       "      <td>35.550725</td>\n",
       "    </tr>\n",
       "    <tr>\n",
       "      <th>4.0</th>\n",
       "      <td>35.864583</td>\n",
       "    </tr>\n",
       "    <tr>\n",
       "      <th>5.0</th>\n",
       "      <td>39.032787</td>\n",
       "    </tr>\n",
       "    <tr>\n",
       "      <th>6.0</th>\n",
       "      <td>38.577465</td>\n",
       "    </tr>\n",
       "    <tr>\n",
       "      <th>7.0</th>\n",
       "      <td>38.988506</td>\n",
       "    </tr>\n",
       "    <tr>\n",
       "      <th>8.0</th>\n",
       "      <td>38.750000</td>\n",
       "    </tr>\n",
       "    <tr>\n",
       "      <th>9.0</th>\n",
       "      <td>39.219731</td>\n",
       "    </tr>\n",
       "    <tr>\n",
       "      <th>10.0</th>\n",
       "      <td>39.082677</td>\n",
       "    </tr>\n",
       "    <tr>\n",
       "      <th>11.0</th>\n",
       "      <td>39.881481</td>\n",
       "    </tr>\n",
       "    <tr>\n",
       "      <th>12.0</th>\n",
       "      <td>42.264808</td>\n",
       "    </tr>\n",
       "  </tbody>\n",
       "</table style=\"display:inline\"><table style=\"display:inline\" border=\"1\" class=\"dataframe\">\n",
       "  <thead>\n",
       "    <tr style=\"text-align: right;\">\n",
       "      <th></th>\n",
       "      <th>mess_used_month_ultra</th>\n",
       "    </tr>\n",
       "    <tr>\n",
       "      <th>month_mess</th>\n",
       "      <th></th>\n",
       "    </tr>\n",
       "  </thead>\n",
       "  <tbody>\n",
       "    <tr>\n",
       "      <th>1.0</th>\n",
       "      <td>43.428571</td>\n",
       "    </tr>\n",
       "    <tr>\n",
       "      <th>2.0</th>\n",
       "      <td>32.937500</td>\n",
       "    </tr>\n",
       "    <tr>\n",
       "      <th>3.0</th>\n",
       "      <td>47.800000</td>\n",
       "    </tr>\n",
       "    <tr>\n",
       "      <th>4.0</th>\n",
       "      <td>44.512821</td>\n",
       "    </tr>\n",
       "    <tr>\n",
       "      <th>5.0</th>\n",
       "      <td>48.769231</td>\n",
       "    </tr>\n",
       "    <tr>\n",
       "      <th>6.0</th>\n",
       "      <td>52.313433</td>\n",
       "    </tr>\n",
       "    <tr>\n",
       "      <th>7.0</th>\n",
       "      <td>62.136986</td>\n",
       "    </tr>\n",
       "    <tr>\n",
       "      <th>8.0</th>\n",
       "      <td>58.897727</td>\n",
       "    </tr>\n",
       "    <tr>\n",
       "      <th>9.0</th>\n",
       "      <td>63.294737</td>\n",
       "    </tr>\n",
       "    <tr>\n",
       "      <th>10.0</th>\n",
       "      <td>69.776699</td>\n",
       "    </tr>\n",
       "    <tr>\n",
       "      <th>11.0</th>\n",
       "      <td>66.159292</td>\n",
       "    </tr>\n",
       "    <tr>\n",
       "      <th>12.0</th>\n",
       "      <td>72.008547</td>\n",
       "    </tr>\n",
       "  </tbody>\n",
       "</table style=\"display:inline\">"
      ]
     },
     "metadata": {},
     "output_type": "display_data"
    }
   ],
   "source": [
    "display_side_by_side(messages_stat_smart_pivot,messages_stat_ultra_pivot)\n",
    "\n",
    "# Выводим результат."
   ]
  },
  {
   "cell_type": "code",
   "execution_count": 71,
   "metadata": {
    "ExecuteTime": {
     "end_time": "2022-05-22T16:40:11.606701Z",
     "start_time": "2022-05-22T16:40:11.590776Z"
    }
   },
   "outputs": [
    {
     "data": {
      "text/html": [
       "<font color='orange'>Среднее количество смс у клиентов тарифа smart: 38.71644120707596</font>"
      ],
      "text/plain": [
       "<IPython.core.display.HTML object>"
      ]
     },
     "metadata": {},
     "output_type": "display_data"
    },
    {
     "data": {
      "text/html": [
       "<font color='blue'>Среднее количество смс у клиентов тарифа ultra: 61.161006289308176</font>"
      ],
      "text/plain": [
       "<IPython.core.display.HTML object>"
      ]
     },
     "metadata": {},
     "output_type": "display_data"
    }
   ],
   "source": [
    "mean_mes_smart = messages_stat_smart['message_count'].mean()\n",
    "display(HTML(f\"<font color='orange'>Среднее количество смс у клиентов тарифа smart: {mean_mes_smart}</font>\"))\n",
    "\n",
    "mean_mes_ultra = messages_stat_ultra['message_count'].mean()\n",
    "display(HTML(f\"<font color='blue'>Среднее количество смс у клиентов тарифа ultra: {mean_mes_ultra}</font>\"))\n",
    "\n",
    "# Вычислим сколько в среднем клиенты smart и ultra \n",
    "# отправляют смс."
   ]
  },
  {
   "cell_type": "code",
   "execution_count": 72,
   "metadata": {
    "ExecuteTime": {
     "end_time": "2022-05-22T16:40:21.966589Z",
     "start_time": "2022-05-22T16:40:21.950967Z"
    }
   },
   "outputs": [
    {
     "data": {
      "text/html": [
       "<font color='orange'>Дисперсия смс  клиентов тарифа smart: 717.5942011753527</font>"
      ],
      "text/plain": [
       "<IPython.core.display.HTML object>"
      ]
     },
     "metadata": {},
     "output_type": "display_data"
    },
    {
     "data": {
      "text/html": [
       "<font color='blue'>Дисперсия смс  клиентов тарифа ultra: 2109.659182865204</font>"
      ],
      "text/plain": [
       "<IPython.core.display.HTML object>"
      ]
     },
     "metadata": {},
     "output_type": "display_data"
    }
   ],
   "source": [
    "var_smart_messages = np.var(messages_stat_smart['message_count'], ddof=1)\n",
    "display(HTML(f\"<font color='orange'>Дисперсия смс  клиентов тарифа smart: {var_smart_messages}</font>\"))\n",
    "\n",
    "var_ultra_messages = np.var(messages_stat_ultra['message_count'], ddof=1)\n",
    "display(HTML(f\"<font color='blue'>Дисперсия смс  клиентов тарифа ultra: {var_ultra_messages}</font>\"))\n",
    "\n",
    "# Посчитаем дисперсию по смс из выборки."
   ]
  },
  {
   "cell_type": "code",
   "execution_count": 73,
   "metadata": {
    "ExecuteTime": {
     "end_time": "2022-05-22T16:40:33.185542Z",
     "start_time": "2022-05-22T16:40:33.175545Z"
    }
   },
   "outputs": [
    {
     "data": {
      "text/html": [
       "<font color='orange'>Стандартное отклонение по смс  клиентов тарифа smart: 26.787948804926305</font>"
      ],
      "text/plain": [
       "<IPython.core.display.HTML object>"
      ]
     },
     "metadata": {},
     "output_type": "display_data"
    },
    {
     "data": {
      "text/html": [
       "<font color='blue'>Стандартное отклонение по смс  клиентов тарифа ultra: 45.931026364160466</font>"
      ],
      "text/plain": [
       "<IPython.core.display.HTML object>"
      ]
     },
     "metadata": {},
     "output_type": "display_data"
    }
   ],
   "source": [
    "std_smart_deviation_messages = np.sqrt(var_smart_messages)\n",
    "display(HTML(f\"<font color='orange'>Стандартное отклонение по смс  клиентов тарифа smart: \\\n",
    "{std_smart_deviation_messages}</font>\"))\n",
    "\n",
    "std_ultra_deviation_messages = np.sqrt(var_ultra_messages)\n",
    "display(HTML(f\"<font color='blue'>Стандартное отклонение по смс  клиентов тарифа ultra: \\\n",
    "{std_ultra_deviation_messages}</font>\"))\n",
    "\n",
    "# Посчитаем стандартное отклонение."
   ]
  },
  {
   "cell_type": "code",
   "execution_count": 74,
   "metadata": {
    "ExecuteTime": {
     "end_time": "2022-05-22T16:40:55.540794Z",
     "start_time": "2022-05-22T16:40:55.519828Z"
    }
   },
   "outputs": [
    {
     "data": {
      "text/html": [
       "<font color='orange'>Количество смс у клиентов тарифа smart в интервале от:              -41.64740520770296 до 119.08028762185488</font>"
      ],
      "text/plain": [
       "<IPython.core.display.HTML object>"
      ]
     },
     "metadata": {},
     "output_type": "display_data"
    },
    {
     "data": {
      "text/html": [
       "<font color='blue'>Количество смс у клиентов тарифа ultra в интервале от:              -76.63207280317323 до 198.95408538178958</font>"
      ],
      "text/plain": [
       "<IPython.core.display.HTML object>"
      ]
     },
     "metadata": {},
     "output_type": "display_data"
    }
   ],
   "source": [
    "adv_messages_smart_min = mean_mes_smart - 3*std_smart_deviation_messages\n",
    "adv_messages_smart_max = 3*std_smart_deviation_messages + mean_mes_smart\n",
    "display(HTML(f\"<font color='orange'>Количество смс у клиентов тарифа smart в интервале от: \\\n",
    "             {adv_messages_smart_min} до {adv_messages_smart_max}</font>\"))\n",
    "\n",
    "\n",
    "adv_messages_ultra_min = mean_mes_ultra - 3*std_ultra_deviation_messages\n",
    "adv_messages_ultra_max = 3*std_ultra_deviation_messages + mean_mes_ultra\n",
    "display(HTML(f\"<font color='blue'>Количество смс у клиентов тарифа ultra в интервале от: \\\n",
    "             {adv_messages_ultra_min} до {adv_messages_ultra_max}</font>\"))\n",
    "\n",
    "# Теперь найдем в каком промежутке лежит большая часть значений\n",
    "# по правилу трех сигм."
   ]
  },
  {
   "cell_type": "code",
   "execution_count": 75,
   "metadata": {
    "ExecuteTime": {
     "end_time": "2022-05-22T16:41:06.693106Z",
     "start_time": "2022-05-22T16:41:06.679140Z"
    }
   },
   "outputs": [
    {
     "data": {
      "text/plain": [
       "0     6\n",
       "1    20\n",
       "2    40\n",
       "dtype: int64"
      ]
     },
     "execution_count": 75,
     "metadata": {},
     "output_type": "execute_result"
    }
   ],
   "source": [
    "messages_stat_smart['message_count'].mode()\n",
    "messages_stat_ultra['message_count'].mode()\n",
    "\n",
    "# Вычислим моды для каждого тарифа."
   ]
  },
  {
   "cell_type": "code",
   "execution_count": 76,
   "metadata": {
    "ExecuteTime": {
     "end_time": "2022-05-22T16:41:29.342919Z",
     "start_time": "2022-05-22T16:41:29.007101Z"
    }
   },
   "outputs": [
    {
     "data": {
      "image/png": "[encoded data removed]",
      "text/plain": [
       "<Figure size 1080x432 with 2 Axes>"
      ]
     },
     "metadata": {
      "needs_background": "light"
     },
     "output_type": "display_data"
    }
   ],
   "source": [
    "fig = plt.figure(figsize=(15, 6))\n",
    "\n",
    "ax1 = plt.subplot(1, 2, 1)\n",
    "ax1 = sns.histplot(messages_stat_smart['message_count'],  kde=True, stat=\"density\", linewidth=0.5, \n",
    "             bins=50, color = 'orange')            \n",
    "ax1.set(xlabel ='смс', ylabel = 'Клиенты', title ='Количество смс клиентов Smart')\n",
    "\n",
    "\n",
    "ax2 = plt.subplot(1, 2, 2)\n",
    "ax2 = sns.histplot(messages_stat_ultra['message_count'],kde=True, stat=\"density\", linewidth=0.5,  bins=50,\n",
    "                   color = 'blue')\n",
    "ax2.set(xlabel ='смс', ylabel = 'Клиенты', title ='Количество смс клиентов Ultra')\n",
    "plt.show()\n",
    "\n",
    "# Построим гистограмму по смс клиентов smart и ultra. "
   ]
  },
  {
   "cell_type": "markdown",
   "metadata": {},
   "source": [
    "*Гистограммы смс клиентов обоих тарифов имеют четкое правостороннее распределение, это сразу бросается в глаза, глядя на графики. Вычисленные нами данные это подтверждают.\n",
    "В среднем клиенты тарифа \"Смарт\" отправляют 38 смс, а их медиана 34 смс.  \n",
    "Кленты же тарифа \"Ультра\" отправляют в среднем 61 смс, с медианой равной 51 смс.  \n",
    "Судя по этим данным, распределение должно быть нормальным, но графики показывают обратное.  \n",
    "В данном случае необходимо обратиться к другим велечинам:  \n",
    "По правилу трех сигм большая часть количества смс у клиентов тарифа \"Смарт\" находится в интервале от: -41 до 119, а судя по общему распределению данных, здесь мы отчетливо видим смещение моды в сторону нуля.\n",
    "Большая часть количества смс у клиентов тарифа \"Ультра\" находится в интервале от: -76 до 198, что так же указывает смещение данных.*"
   ]
  },
  {
   "cell_type": "code",
   "execution_count": 77,
   "metadata": {
    "ExecuteTime": {
     "end_time": "2022-05-22T16:41:58.529522Z",
     "start_time": "2022-05-22T16:41:58.501598Z"
    }
   },
   "outputs": [
    {
     "data": {
      "text/html": [
       "<div>\n",
       "<style scoped>\n",
       "    .dataframe tbody tr th:only-of-type {\n",
       "        vertical-align: middle;\n",
       "    }\n",
       "\n",
       "    .dataframe tbody tr th {\n",
       "        vertical-align: top;\n",
       "    }\n",
       "\n",
       "    .dataframe thead th {\n",
       "        text-align: right;\n",
       "    }\n",
       "</style>\n",
       "<table border=\"1\" class=\"dataframe\">\n",
       "  <thead>\n",
       "    <tr style=\"text-align: right;\">\n",
       "      <th></th>\n",
       "      <th>user_id</th>\n",
       "      <th>rub_monthly_fee</th>\n",
       "      <th>revenue</th>\n",
       "      <th>total_revenue</th>\n",
       "    </tr>\n",
       "  </thead>\n",
       "  <tbody>\n",
       "    <tr>\n",
       "      <th>count</th>\n",
       "      <td>351.000000</td>\n",
       "      <td>351.0</td>\n",
       "      <td>351.000000</td>\n",
       "      <td>351.000000</td>\n",
       "    </tr>\n",
       "    <tr>\n",
       "      <th>mean</th>\n",
       "      <td>1244.133903</td>\n",
       "      <td>550.0</td>\n",
       "      <td>1105.638177</td>\n",
       "      <td>1655.638177</td>\n",
       "    </tr>\n",
       "    <tr>\n",
       "      <th>std</th>\n",
       "      <td>144.985228</td>\n",
       "      <td>0.0</td>\n",
       "      <td>824.183400</td>\n",
       "      <td>824.183400</td>\n",
       "    </tr>\n",
       "    <tr>\n",
       "      <th>min</th>\n",
       "      <td>1001.000000</td>\n",
       "      <td>550.0</td>\n",
       "      <td>0.000000</td>\n",
       "      <td>550.000000</td>\n",
       "    </tr>\n",
       "    <tr>\n",
       "      <th>25%</th>\n",
       "      <td>1120.000000</td>\n",
       "      <td>550.0</td>\n",
       "      <td>600.000000</td>\n",
       "      <td>1150.000000</td>\n",
       "    </tr>\n",
       "    <tr>\n",
       "      <th>50%</th>\n",
       "      <td>1236.000000</td>\n",
       "      <td>550.0</td>\n",
       "      <td>920.000000</td>\n",
       "      <td>1470.000000</td>\n",
       "    </tr>\n",
       "    <tr>\n",
       "      <th>75%</th>\n",
       "      <td>1371.500000</td>\n",
       "      <td>550.0</td>\n",
       "      <td>1469.000000</td>\n",
       "      <td>2019.000000</td>\n",
       "    </tr>\n",
       "    <tr>\n",
       "      <th>max</th>\n",
       "      <td>1499.000000</td>\n",
       "      <td>550.0</td>\n",
       "      <td>5556.000000</td>\n",
       "      <td>6106.000000</td>\n",
       "    </tr>\n",
       "  </tbody>\n",
       "</table>\n",
       "</div>"
      ],
      "text/plain": [
       "           user_id  rub_monthly_fee      revenue  total_revenue\n",
       "count   351.000000            351.0   351.000000     351.000000\n",
       "mean   1244.133903            550.0  1105.638177    1655.638177\n",
       "std     144.985228              0.0   824.183400     824.183400\n",
       "min    1001.000000            550.0     0.000000     550.000000\n",
       "25%    1120.000000            550.0   600.000000    1150.000000\n",
       "50%    1236.000000            550.0   920.000000    1470.000000\n",
       "75%    1371.500000            550.0  1469.000000    2019.000000\n",
       "max    1499.000000            550.0  5556.000000    6106.000000"
      ]
     },
     "execution_count": 77,
     "metadata": {},
     "output_type": "execute_result"
    }
   ],
   "source": [
    "tarif_smart.describe()"
   ]
  },
  {
   "cell_type": "code",
   "execution_count": 78,
   "metadata": {
    "ExecuteTime": {
     "end_time": "2022-05-22T16:42:00.704293Z",
     "start_time": "2022-05-22T16:42:00.680377Z"
    }
   },
   "outputs": [
    {
     "data": {
      "text/html": [
       "<div>\n",
       "<style scoped>\n",
       "    .dataframe tbody tr th:only-of-type {\n",
       "        vertical-align: middle;\n",
       "    }\n",
       "\n",
       "    .dataframe tbody tr th {\n",
       "        vertical-align: top;\n",
       "    }\n",
       "\n",
       "    .dataframe thead th {\n",
       "        text-align: right;\n",
       "    }\n",
       "</style>\n",
       "<table border=\"1\" class=\"dataframe\">\n",
       "  <thead>\n",
       "    <tr style=\"text-align: right;\">\n",
       "      <th></th>\n",
       "      <th>user_id</th>\n",
       "      <th>rub_monthly_fee</th>\n",
       "      <th>revenue</th>\n",
       "      <th>total_revenue</th>\n",
       "    </tr>\n",
       "  </thead>\n",
       "  <tbody>\n",
       "    <tr>\n",
       "      <th>count</th>\n",
       "      <td>149.000000</td>\n",
       "      <td>149.0</td>\n",
       "      <td>149.000000</td>\n",
       "      <td>149.000000</td>\n",
       "    </tr>\n",
       "    <tr>\n",
       "      <th>mean</th>\n",
       "      <td>1262.140940</td>\n",
       "      <td>1950.0</td>\n",
       "      <td>328.785235</td>\n",
       "      <td>2278.785235</td>\n",
       "    </tr>\n",
       "    <tr>\n",
       "      <th>std</th>\n",
       "      <td>142.976516</td>\n",
       "      <td>0.0</td>\n",
       "      <td>630.327356</td>\n",
       "      <td>630.327356</td>\n",
       "    </tr>\n",
       "    <tr>\n",
       "      <th>min</th>\n",
       "      <td>1000.000000</td>\n",
       "      <td>1950.0</td>\n",
       "      <td>0.000000</td>\n",
       "      <td>1950.000000</td>\n",
       "    </tr>\n",
       "    <tr>\n",
       "      <th>25%</th>\n",
       "      <td>1143.000000</td>\n",
       "      <td>1950.0</td>\n",
       "      <td>0.000000</td>\n",
       "      <td>1950.000000</td>\n",
       "    </tr>\n",
       "    <tr>\n",
       "      <th>50%</th>\n",
       "      <td>1276.000000</td>\n",
       "      <td>1950.0</td>\n",
       "      <td>0.000000</td>\n",
       "      <td>1950.000000</td>\n",
       "    </tr>\n",
       "    <tr>\n",
       "      <th>75%</th>\n",
       "      <td>1379.000000</td>\n",
       "      <td>1950.0</td>\n",
       "      <td>400.000000</td>\n",
       "      <td>2350.000000</td>\n",
       "    </tr>\n",
       "    <tr>\n",
       "      <th>max</th>\n",
       "      <td>1495.000000</td>\n",
       "      <td>1950.0</td>\n",
       "      <td>2600.000000</td>\n",
       "      <td>4550.000000</td>\n",
       "    </tr>\n",
       "  </tbody>\n",
       "</table>\n",
       "</div>"
      ],
      "text/plain": [
       "           user_id  rub_monthly_fee      revenue  total_revenue\n",
       "count   149.000000            149.0   149.000000     149.000000\n",
       "mean   1262.140940           1950.0   328.785235    2278.785235\n",
       "std     142.976516              0.0   630.327356     630.327356\n",
       "min    1000.000000           1950.0     0.000000    1950.000000\n",
       "25%    1143.000000           1950.0     0.000000    1950.000000\n",
       "50%    1276.000000           1950.0     0.000000    1950.000000\n",
       "75%    1379.000000           1950.0   400.000000    2350.000000\n",
       "max    1495.000000           1950.0  2600.000000    4550.000000"
      ]
     },
     "execution_count": 78,
     "metadata": {},
     "output_type": "execute_result"
    }
   ],
   "source": [
    "tarif_ultra.describe()"
   ]
  },
  {
   "cell_type": "code",
   "execution_count": 79,
   "metadata": {
    "ExecuteTime": {
     "end_time": "2022-05-22T16:42:20.309686Z",
     "start_time": "2022-05-22T16:42:20.294756Z"
    }
   },
   "outputs": [
    {
     "data": {
      "text/plain": [
       "15.589743589743591"
      ]
     },
     "execution_count": 79,
     "metadata": {},
     "output_type": "execute_result"
    }
   ],
   "source": [
    "(internet_stat.query('gb_used > 30')['gb_used'].count()/975)*100\n",
    "\n",
    "# Посчитаем процент клиентов тарифа ультра, превышающих лимит по трафику."
   ]
  },
  {
   "cell_type": "code",
   "execution_count": 80,
   "metadata": {
    "ExecuteTime": {
     "end_time": "2022-05-22T16:42:22.432619Z",
     "start_time": "2022-05-22T16:42:22.415661Z"
    }
   },
   "outputs": [
    {
     "data": {
      "text/plain": [
       "28.859060402684566"
      ]
     },
     "execution_count": 80,
     "metadata": {},
     "output_type": "execute_result"
    }
   ],
   "source": [
    "(tarif_ultra.query('total_revenue > 1950')['total_revenue'].count()/149)*100\n",
    "\n",
    "# Посчитаем процент клиентов тарифа ультра, платящих сверх лимита."
   ]
  },
  {
   "cell_type": "code",
   "execution_count": 81,
   "metadata": {
    "ExecuteTime": {
     "end_time": "2022-05-22T16:42:31.291420Z",
     "start_time": "2022-05-22T16:42:31.270476Z"
    }
   },
   "outputs": [
    {
     "data": {
      "text/plain": [
       "93.16239316239316"
      ]
     },
     "execution_count": 81,
     "metadata": {},
     "output_type": "execute_result"
    }
   ],
   "source": [
    "tarif_smart.query('total_revenue > 550')['total_revenue'].count()/351*100\n",
    "\n",
    "# Посчитаем процент клиентов тарифа смарт, платящих сверх лимита."
   ]
  },
  {
   "cell_type": "markdown",
   "metadata": {},
   "source": [
    "### Вывод"
   ]
  },
  {
   "cell_type": "markdown",
   "metadata": {},
   "source": [
    "**В абонентскую плату тарифа СМАРТ включены:50 сообщений, 15 ГБ, 500 минут, абонент плата - 550 руб.**  \n",
    "- *Более 25% абонентов используют дополнительные минуты, более 50% абонентов превышают лимит трафика в 15гб и более 25% абонентов используют доп.сообщения сверх лимита. Средний чек клиентов тарифа \"Смарт\" практически в 3 раза превышает абонентскую плату, а максимальное значение выручки в 6106 рублей превышает абоненскую плату в 11 раз и она даже выше максимальной выручки у тарифа \"Ультра\", которая слегка превышает 4500 рублей.*  \n",
    "- *Поведение клиентов тарифа Смарт ничем другим, как расточительностью, не описать. Зачастую они, не проанализировав расходы, тратят гораздо больше.*\n",
    "   \n",
    "\n",
    "**В абонентскую плату тарифа УЛЬТРА включены: 1000 сообщений, 30 гб, 3000 минут, абонет.плата - 1950р.**   \n",
    "- *Максимальное количество использованных минут у абанентов тарифа Ультра - 1673, что практически вдвое меньше предоставленного месячного лимита, максимальное количество сообщений - 224, что является четвертью от предоставленного лимита, 75% клиентов тарифа, спокойно умещаются в предоставленный лимит в 30гб и лишь 16% превышают данный лимит и являются поставщиками дополнительного дохода по данному тарифу. Средним чеком тарифа является его абонентская плата, лишь около 29% клиентов переплачивают за дополнительные услуги. Невооруженным глазом видно, что чуть меньше половины клиентов Ультра, могли бы спокойно пользоваться тарифом Смарт.*  \n",
    "- *Поведение клиентов данного тарифа, в большинстве своем, можно описать фразой: \"Я не настолько богат, чтобы покупать дешевые вещи\". Они в большинстве своем перестраховываются и не проводят анализ своих трат, иначе бы у тарифа Ультра, убавилось бы количество абонентов.*  \n",
    "\n",
    "*В целом более целесообразно запускать рекламную компанию, для абонентов тарифа Смарт, дохода от нее будет гораздо больше, чем от, запущенной рекламы, для перестраховывающихся клиентов Ультры, хотя зная их поведение, можно предложить им аналогичные услуги в целях \"экономии\".*"
   ]
  },
  {
   "cell_type": "markdown",
   "metadata": {},
   "source": [
    "## Шаг 4. Проверьте гипотезы"
   ]
  },
  {
   "cell_type": "markdown",
   "metadata": {},
   "source": [
    "* *средняя выручка пользователей тарифов «Ультра» и «Смарт» различаются;*  \n",
    "* *средняя выручка пользователи из Москвы отличается от выручки пользователей из других регионов.*  \n",
    "\n",
    "*Пороговое значение alpha задать самостоятельно.*  \n",
    "\n",
    "Пояснить:  \n",
    "\n",
    "* *как формулировали нулевую и альтернативную гипотезы;*\n",
    "* *какой критерий использовали для проверки гипотез и почему.*"
   ]
  },
  {
   "cell_type": "markdown",
   "metadata": {},
   "source": [
    "### Cредняя выручка пользователей тарифов «Ультра» и «Смарт» различаются;"
   ]
  },
  {
   "cell_type": "markdown",
   "metadata": {},
   "source": [
    "*Судя по задаче, необходимо сформировать двустороннюю гипотезу, о равенстве среднего двух генеральных совокупностей по взятым из них выборкам.  \n",
    "Сформулируем Нулевую и Альтернативную гипотезы:  \n",
    "Нулевая гипотеза H₀ - средняя выручка пользователей тарифов «Ультра» и «Смарт» не различаются;  \n",
    "Альтернативная гипотеза H₁- средняя выручка пользователей тарифов «Ультра» и «Смарт» различаются;  \n",
    "Пороговое значение alpha зададим, как 1%.*"
   ]
  },
  {
   "cell_type": "code",
   "execution_count": 82,
   "metadata": {
    "ExecuteTime": {
     "end_time": "2022-05-22T16:43:03.860184Z",
     "start_time": "2022-05-22T16:43:03.854230Z"
    }
   },
   "outputs": [],
   "source": [
    "alpha = .01\n",
    "\n",
    "# Критический уровень статистической значимости.\n",
    "# Если p-value окажется меньше него - отвегнем гипотезу."
   ]
  },
  {
   "cell_type": "code",
   "execution_count": 83,
   "metadata": {
    "ExecuteTime": {
     "end_time": "2022-05-22T16:43:08.169642Z",
     "start_time": "2022-05-22T16:43:08.151666Z"
    }
   },
   "outputs": [
    {
     "name": "stdout",
     "output_type": "stream",
     "text": [
      "p-значение:  1.3353670426148615e-15\n",
      "Отвергаем нулевую гипотезу\n"
     ]
    }
   ],
   "source": [
    "results = st.ttest_ind(\n",
    "    tarif_smart['total_revenue'], \n",
    "    tarif_ultra['total_revenue'])\n",
    "\n",
    "print('p-значение: ', results.pvalue)\n",
    "\n",
    "if results.pvalue < alpha:\n",
    "    print(\"Отвергаем нулевую гипотезу\")\n",
    "else:\n",
    "    print(\"Не получилось отвергнуть нулевую гипотезу\") "
   ]
  },
  {
   "cell_type": "markdown",
   "metadata": {},
   "source": [
    "*Получилась слишком мизерная вероятнось подтверждения гипотезы, поэтому мы ее отвергаем*"
   ]
  },
  {
   "cell_type": "markdown",
   "metadata": {},
   "source": [
    "### Средняя выручка пользователи из Москвы отличается от выручки пользователей из других регионов."
   ]
  },
  {
   "cell_type": "code",
   "execution_count": 84,
   "metadata": {
    "ExecuteTime": {
     "end_time": "2022-05-22T16:43:19.942174Z",
     "start_time": "2022-05-22T16:43:19.934206Z"
    }
   },
   "outputs": [],
   "source": [
    "moscov_revenue = final_revenue_stat.query('city == \"Москва\"')['total_revenue']\n",
    "region_revenue = final_revenue_stat.query('city != \"Москва\"')['total_revenue']\n",
    "\n",
    "# Получаем срезы необходимых выборок по Москве и другим регионам."
   ]
  },
  {
   "cell_type": "markdown",
   "metadata": {},
   "source": [
    "*Здесь так же необходимо сформировать двустороннюю гипотезу, о равенстве среднего двух генеральных совокупностей по взятым из них выборкам.  \n",
    "Сформулируем Нулевую и Альтернативную гипотезы:  \n",
    "Нулевая гипотеза H₀ - средняя выручка пользователей из Москвы не отличается от выручки пользователей из других регионов;  \n",
    "Альтернативная гипотеза H₁- средняя выручка пользователи из Москвы отличается от выручки пользователей из других регионов;  \n",
    "Пороговое значение alpha оставим таким же - 1%.*"
   ]
  },
  {
   "cell_type": "code",
   "execution_count": 85,
   "metadata": {
    "ExecuteTime": {
     "end_time": "2022-05-22T16:43:25.581185Z",
     "start_time": "2022-05-22T16:43:25.559243Z"
    }
   },
   "outputs": [
    {
     "name": "stdout",
     "output_type": "stream",
     "text": [
      "p-значение:  0.4576061807845129\n",
      "Не получилось отвергнуть нулевую гипотезу\n"
     ]
    }
   ],
   "source": [
    "results = st.ttest_ind(\n",
    "    moscov_revenue, \n",
    "    region_revenue)\n",
    "\n",
    "print('p-значение: ', results.pvalue)\n",
    "\n",
    "if results.pvalue < alpha:\n",
    "    print(\"Отвергаем нулевую гипотезу\")\n",
    "else:\n",
    "    print(\"Не получилось отвергнуть нулевую гипотезу\") "
   ]
  },
  {
   "cell_type": "markdown",
   "metadata": {},
   "source": [
    "*Вероятность подтверждения гипотезы около сорока пяти процентов, гипотезу отвергнуть не удалось. Действительно - \"средняя выручка пользователей из Москвы не отличается от выручки пользователей из других регионов\".*"
   ]
  },
  {
   "cell_type": "markdown",
   "metadata": {},
   "source": [
    "## Общий Вывод"
   ]
  },
  {
   "cell_type": "markdown",
   "metadata": {},
   "source": [
    "**Краткий обзор проведённой работы**  \n",
    "1. Было проанализировано два тарифа Смарт и Ультра. - В СМАРТ входит 50 сообщений, 500 минут, 15 гб, абон.плата – 550 руб. - В УЛЬТРА входит 1000 сообщений, 3000 минут, 30 ГБ, абон.плата – 1950 руб.  \n",
    "**Анализ тарифов сотового оператора**   \n",
    "1. Абоненты в обоих тарифах превышают лимит трафика. - В Ультра в среднем – 19,23 гб, а максимально – 48,62 ГБ.  \n",
    "- 16% абонентов УЛЬТРА превышают лимит трафика, т.е. было более 30 ГБ   \n",
    "- В Смарте в среднем используют – 15,86 ГБ трафика, а максимально – 37,71 ГБ.  \n",
    "- Более 50% всех  абонентов СМАРТ вышли за лимит в 15гб.  \n",
    "2. Более 25% клиентов Смарт превышают лимит по звонкам в месяц, когда максимальное количество использованных минут у клиентов тарифа Ультра, едва превышает половину лимита.  \n",
    "3. Более 25% абонентов тарифа Смарт используют доп.сообщения сверх лимита, когда как максимальное количество смс клиентов тарифа Ультра не достигает и четверти предоставленного лимита.  \n",
    "*Фактически абоненты обоих тарифов тратят похожее кол-во минут, соизмеримы и траты по трафику и смс, хотя  абоненты Ультра тратят в среднем немного больше, но при этом, абоненты тарифа Смарт платят гораздо больше средств, ввиду того, что они чаще превышают лимит и платят, в соответствии с условиями тарифа, в разы больше(звонки и смс обходятся в три раза дороже). Средний чек клиентов тарифа \"Смарт\" практически в 3 раза превышает абонентскую плату, а максимальное значение выручки в 6106 рублей превышает абоненскую плату в 11 раз и она даже выше максимальной выручки у тарифа \"Ультра\", которая слегка превышает 4500 рублей.  Учитывая то, что абонентов тарифа Смарт превысивших лимит в 550 рублей 93%, а абонентов тарифа Ультра, превысивших лимит лишь 29% и то что количество абонентов тарифа Смарт значительно больше, чем клиентов тарифа Ультра, то для сотового оператора абоненты Смарта становятся еще более выгодными клиентами, в их пользу необходимо корректировать рекламный бюджет.*   \n",
    "**Проверка гипотез**  \n",
    "*Не удалось подтвердить гипотезу о том, что Cредняя выручка пользователей тарифов «Ультра» и «Смарт» не различаются.\n",
    "Учитывая минимальную разницу в расходовании звонков, смс и трафика у клиентов обоих тарифов и огромное различие условий оплаты и количества клиентов, видно, что данное различие это не случайное, а закономерное. Поведение пользователей двух тарифов мало отличается , а расценки разные, отсюда и разность в выручке.  \n",
    "Средняя выручка по Москве и другим регионам практически не отличается, по тем же причинам*.  "
   ]
  }
 ],
 "metadata": {
  "ExecuteTimeLog": [
   {
    "duration": 1501,
    "start_time": "2022-02-13T15:06:09.451Z"
   },
   {
    "duration": 2865,
    "start_time": "2022-02-13T15:06:21.247Z"
   },
   {
    "duration": 499,
    "start_time": "2022-02-13T15:08:20.098Z"
   },
   {
    "duration": 16,
    "start_time": "2022-02-13T15:08:32.767Z"
   },
   {
    "duration": 29,
    "start_time": "2022-02-13T15:08:43.338Z"
   },
   {
    "duration": 11,
    "start_time": "2022-02-13T15:08:55.018Z"
   },
   {
    "duration": 39,
    "start_time": "2022-02-13T15:09:09.698Z"
   },
   {
    "duration": 115,
    "start_time": "2022-02-13T15:09:18.126Z"
   },
   {
    "duration": 19,
    "start_time": "2022-02-13T15:10:10.810Z"
   },
   {
    "duration": 23,
    "start_time": "2022-02-13T15:10:21.338Z"
   },
   {
    "duration": 39,
    "start_time": "2022-02-13T15:10:30.938Z"
   },
   {
    "duration": 88,
    "start_time": "2022-02-13T15:10:38.903Z"
   },
   {
    "duration": 11,
    "start_time": "2022-02-13T15:10:47.843Z"
   },
   {
    "duration": 17,
    "start_time": "2022-02-13T15:11:15.797Z"
   },
   {
    "duration": 19,
    "start_time": "2022-02-13T15:11:26.447Z"
   },
   {
    "duration": 64,
    "start_time": "2022-02-13T15:11:34.573Z"
   },
   {
    "duration": 14,
    "start_time": "2022-02-13T15:11:55.160Z"
   },
   {
    "duration": 9,
    "start_time": "2022-02-13T15:12:03.070Z"
   },
   {
    "duration": 18,
    "start_time": "2022-02-13T15:12:21.918Z"
   },
   {
    "duration": 10,
    "start_time": "2022-02-13T15:12:30.799Z"
   },
   {
    "duration": 11,
    "start_time": "2022-02-13T15:12:40.260Z"
   },
   {
    "duration": 221,
    "start_time": "2022-02-13T15:13:20.454Z"
   },
   {
    "duration": 7,
    "start_time": "2022-02-13T15:14:25.696Z"
   },
   {
    "duration": 76,
    "start_time": "2022-02-13T15:14:35.869Z"
   },
   {
    "duration": 71,
    "start_time": "2022-02-13T15:14:42.590Z"
   },
   {
    "duration": 44,
    "start_time": "2022-02-13T15:14:50.475Z"
   },
   {
    "duration": 383,
    "start_time": "2022-02-13T15:14:58.708Z"
   },
   {
    "duration": 22076,
    "start_time": "2022-02-13T15:15:29.791Z"
   },
   {
    "duration": 99,
    "start_time": "2022-02-13T15:16:11.648Z"
   },
   {
    "duration": 679,
    "start_time": "2022-02-13T15:16:25.917Z"
   },
   {
    "duration": 140,
    "start_time": "2022-02-13T15:16:43.330Z"
   },
   {
    "duration": 79,
    "start_time": "2022-02-13T15:18:19.160Z"
   },
   {
    "duration": 10,
    "start_time": "2022-02-13T15:18:27.704Z"
   },
   {
    "duration": 178,
    "start_time": "2022-02-13T15:19:51.637Z"
   },
   {
    "duration": 28,
    "start_time": "2022-02-13T15:20:18.033Z"
   },
   {
    "duration": 92,
    "start_time": "2022-02-13T15:21:20.373Z"
   },
   {
    "duration": 8,
    "start_time": "2022-02-13T15:21:30.485Z"
   },
   {
    "duration": 33,
    "start_time": "2022-02-13T15:21:38.915Z"
   },
   {
    "duration": 109,
    "start_time": "2022-02-13T15:22:30.040Z"
   },
   {
    "duration": 26,
    "start_time": "2022-02-13T15:22:40.724Z"
   },
   {
    "duration": 67,
    "start_time": "2022-02-13T15:24:13.549Z"
   },
   {
    "duration": 19,
    "start_time": "2022-02-13T15:24:26.065Z"
   },
   {
    "duration": 106,
    "start_time": "2022-02-13T15:24:36.423Z"
   },
   {
    "duration": 32,
    "start_time": "2022-02-13T15:24:49.846Z"
   },
   {
    "duration": 10,
    "start_time": "2022-02-13T15:26:21.325Z"
   },
   {
    "duration": 6,
    "start_time": "2022-02-13T15:26:29.485Z"
   },
   {
    "duration": 10,
    "start_time": "2022-02-13T15:26:37.116Z"
   },
   {
    "duration": 9,
    "start_time": "2022-02-13T15:26:47.128Z"
   },
   {
    "duration": 20,
    "start_time": "2022-02-13T15:28:10.396Z"
   },
   {
    "duration": 47,
    "start_time": "2022-02-13T15:28:21.896Z"
   },
   {
    "duration": 66,
    "start_time": "2022-02-13T15:28:32.535Z"
   },
   {
    "duration": 50,
    "start_time": "2022-02-13T15:28:40.782Z"
   },
   {
    "duration": 5,
    "start_time": "2022-02-13T15:28:49.777Z"
   },
   {
    "duration": 29,
    "start_time": "2022-02-13T15:28:58.084Z"
   },
   {
    "duration": 9,
    "start_time": "2022-02-13T15:29:05.214Z"
   },
   {
    "duration": 240,
    "start_time": "2022-02-13T15:29:27.070Z"
   },
   {
    "duration": 262,
    "start_time": "2022-02-13T15:29:41.264Z"
   },
   {
    "duration": 242,
    "start_time": "2022-02-13T15:30:00.768Z"
   },
   {
    "duration": 284,
    "start_time": "2022-02-13T15:30:17.746Z"
   },
   {
    "duration": 968,
    "start_time": "2022-02-13T15:30:37.094Z"
   },
   {
    "duration": 770,
    "start_time": "2022-02-13T15:31:41.663Z"
   },
   {
    "duration": 18,
    "start_time": "2022-02-13T15:35:58.719Z"
   },
   {
    "duration": 53,
    "start_time": "2022-02-13T15:36:07.918Z"
   },
   {
    "duration": 55,
    "start_time": "2022-02-13T15:36:17.418Z"
   },
   {
    "duration": 30,
    "start_time": "2022-02-13T15:36:26.493Z"
   },
   {
    "duration": 11,
    "start_time": "2022-02-13T15:36:36.191Z"
   },
   {
    "duration": 286,
    "start_time": "2022-02-13T15:36:49.650Z"
   },
   {
    "duration": 252,
    "start_time": "2022-02-13T15:36:57.758Z"
   },
   {
    "duration": 258,
    "start_time": "2022-02-13T15:37:05.772Z"
   },
   {
    "duration": 232,
    "start_time": "2022-02-13T15:37:15.440Z"
   },
   {
    "duration": 671,
    "start_time": "2022-02-13T15:37:25.306Z"
   },
   {
    "duration": 42,
    "start_time": "2022-02-13T15:38:06.625Z"
   },
   {
    "duration": 41,
    "start_time": "2022-02-13T15:38:15.278Z"
   },
   {
    "duration": 32,
    "start_time": "2022-02-13T15:38:23.181Z"
   },
   {
    "duration": 9,
    "start_time": "2022-02-13T15:38:31.904Z"
   },
   {
    "duration": 283,
    "start_time": "2022-02-13T15:38:40.327Z"
   },
   {
    "duration": 294,
    "start_time": "2022-02-13T15:38:47.556Z"
   },
   {
    "duration": 237,
    "start_time": "2022-02-13T15:38:54.776Z"
   },
   {
    "duration": 315,
    "start_time": "2022-02-13T15:39:02.861Z"
   },
   {
    "duration": 666,
    "start_time": "2022-02-13T15:39:13.104Z"
   },
   {
    "duration": 31,
    "start_time": "2022-02-13T15:39:34.168Z"
   },
   {
    "duration": 31,
    "start_time": "2022-02-13T15:39:41.825Z"
   },
   {
    "duration": 9,
    "start_time": "2022-02-13T15:39:50.294Z"
   },
   {
    "duration": 10,
    "start_time": "2022-02-13T15:39:57.813Z"
   },
   {
    "duration": 8,
    "start_time": "2022-02-13T15:40:04.597Z"
   },
   {
    "duration": 3,
    "start_time": "2022-02-13T15:41:40.518Z"
   },
   {
    "duration": 7,
    "start_time": "2022-02-13T15:41:47.824Z"
   },
   {
    "duration": 9,
    "start_time": "2022-02-13T15:42:17.859Z"
   },
   {
    "duration": 6,
    "start_time": "2022-02-13T15:42:36.690Z"
   },
   {
    "duration": 674,
    "start_time": "2022-02-13T15:46:15.694Z"
   },
   {
    "duration": 897,
    "start_time": "2022-02-13T15:46:26.280Z"
   },
   {
    "duration": 981,
    "start_time": "2022-02-13T15:47:07.844Z"
   },
   {
    "duration": 936,
    "start_time": "2022-02-13T15:47:15.836Z"
   },
   {
    "duration": 681,
    "start_time": "2022-02-13T15:47:59.978Z"
   },
   {
    "duration": 1004,
    "start_time": "2022-02-13T15:48:12.969Z"
   },
   {
    "duration": 1097,
    "start_time": "2022-02-13T15:48:36.006Z"
   },
   {
    "duration": 367,
    "start_time": "2022-02-13T18:51:49.261Z"
   },
   {
    "duration": 454,
    "start_time": "2022-02-13T18:52:01.635Z"
   },
   {
    "duration": 234,
    "start_time": "2022-02-13T18:52:40.093Z"
   },
   {
    "duration": 278,
    "start_time": "2022-02-13T18:52:55.880Z"
   },
   {
    "duration": 918,
    "start_time": "2022-02-13T18:52:59.902Z"
   },
   {
    "duration": 287,
    "start_time": "2022-02-13T18:53:41.047Z"
   },
   {
    "duration": 250,
    "start_time": "2022-02-13T18:53:55.041Z"
   },
   {
    "duration": 262,
    "start_time": "2022-02-13T18:54:20.372Z"
   },
   {
    "duration": 244,
    "start_time": "2022-02-13T18:54:27.152Z"
   },
   {
    "duration": 939,
    "start_time": "2022-02-13T18:54:38.033Z"
   },
   {
    "duration": 250,
    "start_time": "2022-02-13T18:55:10.312Z"
   },
   {
    "duration": 227,
    "start_time": "2022-02-13T18:55:19.528Z"
   },
   {
    "duration": 341,
    "start_time": "2022-02-13T18:55:38.524Z"
   },
   {
    "duration": 234,
    "start_time": "2022-02-13T18:55:54.191Z"
   },
   {
    "duration": 928,
    "start_time": "2022-02-13T18:55:57.914Z"
   },
   {
    "duration": 9,
    "start_time": "2022-02-13T18:56:20.960Z"
   },
   {
    "duration": 242,
    "start_time": "2022-02-13T18:58:04.593Z"
   },
   {
    "duration": 9877,
    "start_time": "2022-02-13T18:58:22.269Z"
   },
   {
    "duration": 8,
    "start_time": "2022-02-13T18:58:34.601Z"
   },
   {
    "duration": 261,
    "start_time": "2022-02-13T19:00:02.386Z"
   },
   {
    "duration": 249,
    "start_time": "2022-02-13T19:00:04.656Z"
   },
   {
    "duration": 1723,
    "start_time": "2022-02-13T19:14:49.725Z"
   },
   {
    "duration": 725,
    "start_time": "2022-02-13T19:14:51.452Z"
   },
   {
    "duration": 17,
    "start_time": "2022-02-13T19:14:52.180Z"
   },
   {
    "duration": 97,
    "start_time": "2022-02-13T19:14:52.199Z"
   },
   {
    "duration": 21,
    "start_time": "2022-02-13T19:14:52.298Z"
   },
   {
    "duration": 146,
    "start_time": "2022-02-13T19:14:52.321Z"
   },
   {
    "duration": 252,
    "start_time": "2022-02-13T19:14:52.469Z"
   },
   {
    "duration": 57,
    "start_time": "2022-02-13T19:14:52.724Z"
   },
   {
    "duration": 60,
    "start_time": "2022-02-13T19:14:52.871Z"
   },
   {
    "duration": 42,
    "start_time": "2022-02-13T19:14:53.099Z"
   },
   {
    "duration": 115,
    "start_time": "2022-02-13T19:14:53.299Z"
   },
   {
    "duration": 12,
    "start_time": "2022-02-13T19:14:53.505Z"
   },
   {
    "duration": 14,
    "start_time": "2022-02-13T19:14:53.957Z"
   },
   {
    "duration": 20,
    "start_time": "2022-02-13T19:14:54.162Z"
   },
   {
    "duration": 92,
    "start_time": "2022-02-13T19:14:54.357Z"
   },
   {
    "duration": 18,
    "start_time": "2022-02-13T19:14:54.772Z"
   },
   {
    "duration": 83,
    "start_time": "2022-02-13T19:14:54.990Z"
   },
   {
    "duration": 17,
    "start_time": "2022-02-13T19:14:55.406Z"
   },
   {
    "duration": 9,
    "start_time": "2022-02-13T19:14:55.609Z"
   },
   {
    "duration": 9,
    "start_time": "2022-02-13T19:14:55.835Z"
   },
   {
    "duration": 8,
    "start_time": "2022-02-13T19:14:57.126Z"
   },
   {
    "duration": 82,
    "start_time": "2022-02-13T19:14:57.331Z"
   },
   {
    "duration": 73,
    "start_time": "2022-02-13T19:14:57.557Z"
   },
   {
    "duration": 43,
    "start_time": "2022-02-13T19:14:57.779Z"
   },
   {
    "duration": 424,
    "start_time": "2022-02-13T19:14:57.972Z"
   },
   {
    "duration": 23306,
    "start_time": "2022-02-13T19:14:58.398Z"
   },
   {
    "duration": 126,
    "start_time": "2022-02-13T19:15:21.707Z"
   },
   {
    "duration": 742,
    "start_time": "2022-02-13T19:15:21.836Z"
   },
   {
    "duration": 167,
    "start_time": "2022-02-13T19:15:22.580Z"
   },
   {
    "duration": 85,
    "start_time": "2022-02-13T19:15:22.749Z"
   },
   {
    "duration": 21,
    "start_time": "2022-02-13T19:15:22.838Z"
   },
   {
    "duration": 177,
    "start_time": "2022-02-13T19:15:22.862Z"
   },
   {
    "duration": 35,
    "start_time": "2022-02-13T19:15:23.042Z"
   },
   {
    "duration": 106,
    "start_time": "2022-02-13T19:15:23.079Z"
   },
   {
    "duration": 7,
    "start_time": "2022-02-13T19:15:23.188Z"
   },
   {
    "duration": 34,
    "start_time": "2022-02-13T19:15:23.198Z"
   },
   {
    "duration": 137,
    "start_time": "2022-02-13T19:15:23.235Z"
   },
   {
    "duration": 32,
    "start_time": "2022-02-13T19:15:23.375Z"
   },
   {
    "duration": 87,
    "start_time": "2022-02-13T19:15:23.409Z"
   },
   {
    "duration": 17,
    "start_time": "2022-02-13T19:15:23.499Z"
   },
   {
    "duration": 130,
    "start_time": "2022-02-13T19:15:23.518Z"
   },
   {
    "duration": 32,
    "start_time": "2022-02-13T19:15:23.651Z"
   },
   {
    "duration": 14,
    "start_time": "2022-02-13T19:15:23.688Z"
   },
   {
    "duration": 10,
    "start_time": "2022-02-13T19:15:23.706Z"
   },
   {
    "duration": 41,
    "start_time": "2022-02-13T19:15:23.719Z"
   },
   {
    "duration": 9,
    "start_time": "2022-02-13T19:15:23.764Z"
   },
   {
    "duration": 20,
    "start_time": "2022-02-13T19:15:23.777Z"
   },
   {
    "duration": 89,
    "start_time": "2022-02-13T19:15:23.800Z"
   },
   {
    "duration": 49,
    "start_time": "2022-02-13T19:15:23.892Z"
   },
   {
    "duration": 63,
    "start_time": "2022-02-13T19:15:23.943Z"
   },
   {
    "duration": 5,
    "start_time": "2022-02-13T19:15:24.008Z"
   },
   {
    "duration": 61,
    "start_time": "2022-02-13T19:15:24.015Z"
   },
   {
    "duration": 8,
    "start_time": "2022-02-13T19:15:24.078Z"
   },
   {
    "duration": 236,
    "start_time": "2022-02-13T19:15:24.089Z"
   },
   {
    "duration": 495,
    "start_time": "2022-02-13T19:15:24.328Z"
   },
   {
    "duration": -65,
    "start_time": "2022-02-13T19:15:24.891Z"
   },
   {
    "duration": -70,
    "start_time": "2022-02-13T19:15:24.897Z"
   },
   {
    "duration": -72,
    "start_time": "2022-02-13T19:15:24.900Z"
   },
   {
    "duration": -75,
    "start_time": "2022-02-13T19:15:24.904Z"
   },
   {
    "duration": -79,
    "start_time": "2022-02-13T19:15:24.909Z"
   },
   {
    "duration": -81,
    "start_time": "2022-02-13T19:15:24.913Z"
   },
   {
    "duration": -84,
    "start_time": "2022-02-13T19:15:24.917Z"
   },
   {
    "duration": -86,
    "start_time": "2022-02-13T19:15:24.920Z"
   },
   {
    "duration": -88,
    "start_time": "2022-02-13T19:15:24.924Z"
   },
   {
    "duration": -95,
    "start_time": "2022-02-13T19:15:24.932Z"
   },
   {
    "duration": -98,
    "start_time": "2022-02-13T19:15:24.936Z"
   },
   {
    "duration": -99,
    "start_time": "2022-02-13T19:15:24.939Z"
   },
   {
    "duration": -104,
    "start_time": "2022-02-13T19:15:24.945Z"
   },
   {
    "duration": 41,
    "start_time": "2022-02-13T19:15:25.379Z"
   },
   {
    "duration": 42,
    "start_time": "2022-02-13T19:15:25.892Z"
   },
   {
    "duration": 29,
    "start_time": "2022-02-13T19:15:26.281Z"
   },
   {
    "duration": 9,
    "start_time": "2022-02-13T19:15:26.775Z"
   },
   {
    "duration": 220,
    "start_time": "2022-02-13T19:15:27.237Z"
   },
   {
    "duration": 369,
    "start_time": "2022-02-13T19:15:27.751Z"
   },
   {
    "duration": 309,
    "start_time": "2022-02-13T19:15:28.221Z"
   },
   {
    "duration": 288,
    "start_time": "2022-02-13T19:15:28.744Z"
   },
   {
    "duration": 8,
    "start_time": "2022-02-13T19:15:29.225Z"
   },
   {
    "duration": 1003,
    "start_time": "2022-02-13T19:15:29.746Z"
   },
   {
    "duration": 32,
    "start_time": "2022-02-13T19:15:30.759Z"
   },
   {
    "duration": 30,
    "start_time": "2022-02-13T19:15:31.045Z"
   },
   {
    "duration": 9,
    "start_time": "2022-02-13T19:15:31.472Z"
   },
   {
    "duration": 10,
    "start_time": "2022-02-13T19:15:31.840Z"
   },
   {
    "duration": 9,
    "start_time": "2022-02-13T19:15:32.177Z"
   },
   {
    "duration": 3,
    "start_time": "2022-02-13T19:15:34.510Z"
   },
   {
    "duration": 8,
    "start_time": "2022-02-13T19:15:34.829Z"
   },
   {
    "duration": 11,
    "start_time": "2022-02-13T19:15:35.952Z"
   },
   {
    "duration": 6,
    "start_time": "2022-02-13T19:15:38.768Z"
   },
   {
    "duration": 246,
    "start_time": "2022-02-13T19:16:31.674Z"
   },
   {
    "duration": 238,
    "start_time": "2022-02-13T19:16:35.216Z"
   },
   {
    "duration": 232,
    "start_time": "2022-02-13T19:16:38.904Z"
   },
   {
    "duration": 1001,
    "start_time": "2022-02-13T19:16:42.995Z"
   },
   {
    "duration": 19,
    "start_time": "2022-02-13T19:16:52.942Z"
   },
   {
    "duration": 62,
    "start_time": "2022-02-13T19:16:53.549Z"
   },
   {
    "duration": 56,
    "start_time": "2022-02-13T19:16:54.073Z"
   },
   {
    "duration": 28,
    "start_time": "2022-02-13T19:16:54.720Z"
   },
   {
    "duration": 8,
    "start_time": "2022-02-13T19:16:55.217Z"
   },
   {
    "duration": 268,
    "start_time": "2022-02-13T19:16:55.733Z"
   },
   {
    "duration": 240,
    "start_time": "2022-02-13T19:16:56.157Z"
   },
   {
    "duration": 250,
    "start_time": "2022-02-13T19:16:57.176Z"
   },
   {
    "duration": 256,
    "start_time": "2022-02-13T19:16:58.487Z"
   },
   {
    "duration": 1560,
    "start_time": "2022-02-13T19:16:59.482Z"
   },
   {
    "duration": 66,
    "start_time": "2022-02-13T19:17:02.631Z"
   },
   {
    "duration": 43,
    "start_time": "2022-02-13T19:17:03.304Z"
   },
   {
    "duration": 32,
    "start_time": "2022-02-13T19:17:03.718Z"
   },
   {
    "duration": 8,
    "start_time": "2022-02-13T19:17:04.305Z"
   },
   {
    "duration": 254,
    "start_time": "2022-02-13T19:17:04.787Z"
   },
   {
    "duration": 265,
    "start_time": "2022-02-13T19:17:05.357Z"
   },
   {
    "duration": 251,
    "start_time": "2022-02-13T19:17:05.895Z"
   },
   {
    "duration": 257,
    "start_time": "2022-02-13T19:17:06.453Z"
   },
   {
    "duration": 11,
    "start_time": "2022-02-13T19:17:07.173Z"
   },
   {
    "duration": 1051,
    "start_time": "2022-02-13T19:17:08.074Z"
   },
   {
    "duration": 32,
    "start_time": "2022-02-13T19:17:09.203Z"
   },
   {
    "duration": 33,
    "start_time": "2022-02-13T19:17:09.876Z"
   },
   {
    "duration": 10,
    "start_time": "2022-02-13T19:17:10.499Z"
   },
   {
    "duration": 9,
    "start_time": "2022-02-13T19:17:11.019Z"
   },
   {
    "duration": 16,
    "start_time": "2022-02-13T19:17:11.269Z"
   },
   {
    "duration": 1172,
    "start_time": "2022-02-20T10:05:26.180Z"
   },
   {
    "duration": 394,
    "start_time": "2022-02-20T10:05:27.354Z"
   },
   {
    "duration": 11,
    "start_time": "2022-02-20T10:05:27.750Z"
   },
   {
    "duration": 30,
    "start_time": "2022-02-20T10:05:27.762Z"
   },
   {
    "duration": 7,
    "start_time": "2022-02-20T10:05:27.793Z"
   },
   {
    "duration": 52,
    "start_time": "2022-02-20T10:05:27.801Z"
   },
   {
    "duration": 92,
    "start_time": "2022-02-20T10:05:27.855Z"
   },
   {
    "duration": 8,
    "start_time": "2022-02-20T10:05:27.950Z"
   },
   {
    "duration": 23,
    "start_time": "2022-02-20T10:05:27.961Z"
   },
   {
    "duration": 31,
    "start_time": "2022-02-20T10:05:27.986Z"
   },
   {
    "duration": 81,
    "start_time": "2022-02-20T10:05:28.019Z"
   },
   {
    "duration": 57,
    "start_time": "2022-02-20T10:05:28.101Z"
   },
   {
    "duration": 7,
    "start_time": "2022-02-20T10:05:28.160Z"
   },
   {
    "duration": 20,
    "start_time": "2022-02-20T10:05:28.168Z"
   },
   {
    "duration": 61,
    "start_time": "2022-02-20T10:05:28.190Z"
   },
   {
    "duration": 10,
    "start_time": "2022-02-20T10:05:28.253Z"
   },
   {
    "duration": 19,
    "start_time": "2022-02-20T10:05:28.265Z"
   },
   {
    "duration": 23,
    "start_time": "2022-02-20T10:05:28.286Z"
   },
   {
    "duration": 7,
    "start_time": "2022-02-20T10:05:28.311Z"
   },
   {
    "duration": 17,
    "start_time": "2022-02-20T10:05:28.320Z"
   },
   {
    "duration": 11,
    "start_time": "2022-02-20T10:05:28.338Z"
   },
   {
    "duration": 58,
    "start_time": "2022-02-20T10:05:28.350Z"
   },
   {
    "duration": 41,
    "start_time": "2022-02-20T10:05:28.411Z"
   },
   {
    "duration": 27,
    "start_time": "2022-02-20T10:05:28.454Z"
   },
   {
    "duration": 254,
    "start_time": "2022-02-20T10:05:28.482Z"
   },
   {
    "duration": 13826,
    "start_time": "2022-02-20T10:05:28.737Z"
   },
   {
    "duration": 62,
    "start_time": "2022-02-20T10:05:42.565Z"
   },
   {
    "duration": 472,
    "start_time": "2022-02-20T10:05:42.628Z"
   },
   {
    "duration": 115,
    "start_time": "2022-02-20T10:05:43.102Z"
   },
   {
    "duration": 55,
    "start_time": "2022-02-20T10:05:43.218Z"
   },
   {
    "duration": 6,
    "start_time": "2022-02-20T10:05:43.275Z"
   },
   {
    "duration": 121,
    "start_time": "2022-02-20T10:05:43.283Z"
   },
   {
    "duration": 17,
    "start_time": "2022-02-20T10:05:43.405Z"
   },
   {
    "duration": 70,
    "start_time": "2022-02-20T10:05:43.423Z"
   },
   {
    "duration": 4,
    "start_time": "2022-02-20T10:05:43.495Z"
   },
   {
    "duration": 20,
    "start_time": "2022-02-20T10:05:43.500Z"
   },
   {
    "duration": 86,
    "start_time": "2022-02-20T10:05:43.521Z"
   },
   {
    "duration": 15,
    "start_time": "2022-02-20T10:05:43.608Z"
   },
   {
    "duration": 51,
    "start_time": "2022-02-20T10:05:43.624Z"
   },
   {
    "duration": 10,
    "start_time": "2022-02-20T10:05:43.677Z"
   },
   {
    "duration": 80,
    "start_time": "2022-02-20T10:05:43.688Z"
   },
   {
    "duration": 17,
    "start_time": "2022-02-20T10:05:43.770Z"
   },
   {
    "duration": 6,
    "start_time": "2022-02-20T10:05:43.789Z"
   },
   {
    "duration": 6,
    "start_time": "2022-02-20T10:05:43.796Z"
   },
   {
    "duration": 9,
    "start_time": "2022-02-20T10:05:43.803Z"
   },
   {
    "duration": 7,
    "start_time": "2022-02-20T10:05:43.813Z"
   },
   {
    "duration": 26,
    "start_time": "2022-02-20T10:05:43.822Z"
   },
   {
    "duration": 25,
    "start_time": "2022-02-20T10:05:43.850Z"
   },
   {
    "duration": 28,
    "start_time": "2022-02-20T10:05:43.876Z"
   },
   {
    "duration": 52,
    "start_time": "2022-02-20T10:05:43.905Z"
   },
   {
    "duration": 2,
    "start_time": "2022-02-20T10:05:43.959Z"
   },
   {
    "duration": 17,
    "start_time": "2022-02-20T10:05:43.963Z"
   },
   {
    "duration": 5,
    "start_time": "2022-02-20T10:05:43.981Z"
   },
   {
    "duration": 215,
    "start_time": "2022-02-20T10:05:43.987Z"
   },
   {
    "duration": 244,
    "start_time": "2022-02-20T10:05:44.204Z"
   },
   {
    "duration": 212,
    "start_time": "2022-02-20T10:05:44.449Z"
   },
   {
    "duration": 211,
    "start_time": "2022-02-20T10:05:44.663Z"
   },
   {
    "duration": 491,
    "start_time": "2022-02-20T10:05:44.876Z"
   },
   {
    "duration": 10,
    "start_time": "2022-02-20T10:05:45.369Z"
   },
   {
    "duration": 34,
    "start_time": "2022-02-20T10:05:45.380Z"
   },
   {
    "duration": 103,
    "start_time": "2022-02-20T10:05:45.415Z"
   },
   {
    "duration": 15,
    "start_time": "2022-02-20T10:05:45.520Z"
   },
   {
    "duration": 13,
    "start_time": "2022-02-20T10:05:45.537Z"
   },
   {
    "duration": 426,
    "start_time": "2022-02-20T10:05:45.551Z"
   },
   {
    "duration": 216,
    "start_time": "2022-02-20T10:05:45.979Z"
   },
   {
    "duration": 246,
    "start_time": "2022-02-20T10:05:46.196Z"
   },
   {
    "duration": 213,
    "start_time": "2022-02-20T10:05:46.444Z"
   },
   {
    "duration": 561,
    "start_time": "2022-02-20T10:05:46.663Z"
   },
   {
    "duration": 39,
    "start_time": "2022-02-20T10:05:47.226Z"
   },
   {
    "duration": 23,
    "start_time": "2022-02-20T10:05:47.267Z"
   },
   {
    "duration": 23,
    "start_time": "2022-02-20T10:05:47.292Z"
   },
   {
    "duration": 29,
    "start_time": "2022-02-20T10:05:47.317Z"
   },
   {
    "duration": 275,
    "start_time": "2022-02-20T10:05:47.348Z"
   },
   {
    "duration": 248,
    "start_time": "2022-02-20T10:05:47.625Z"
   },
   {
    "duration": 236,
    "start_time": "2022-02-20T10:05:47.875Z"
   },
   {
    "duration": 239,
    "start_time": "2022-02-20T10:05:48.113Z"
   },
   {
    "duration": 5,
    "start_time": "2022-02-20T10:05:48.354Z"
   },
   {
    "duration": 613,
    "start_time": "2022-02-20T10:05:48.360Z"
   },
   {
    "duration": 19,
    "start_time": "2022-02-20T10:05:48.975Z"
   },
   {
    "duration": 21,
    "start_time": "2022-02-20T10:05:48.996Z"
   },
   {
    "duration": 5,
    "start_time": "2022-02-20T10:05:49.019Z"
   },
   {
    "duration": 24,
    "start_time": "2022-02-20T10:05:49.026Z"
   },
   {
    "duration": 9,
    "start_time": "2022-02-20T10:05:49.052Z"
   },
   {
    "duration": 6,
    "start_time": "2022-02-20T10:05:49.062Z"
   },
   {
    "duration": 7,
    "start_time": "2022-02-20T10:05:49.070Z"
   },
   {
    "duration": 8,
    "start_time": "2022-02-20T10:05:49.079Z"
   },
   {
    "duration": 9,
    "start_time": "2022-02-20T10:05:49.088Z"
   },
   {
    "duration": 1544,
    "start_time": "2022-02-20T12:27:44.755Z"
   },
   {
    "duration": 492,
    "start_time": "2022-02-20T12:27:46.301Z"
   },
   {
    "duration": 20,
    "start_time": "2022-02-20T12:27:47.759Z"
   },
   {
    "duration": 27,
    "start_time": "2022-02-20T12:27:48.200Z"
   },
   {
    "duration": 13,
    "start_time": "2022-02-20T12:27:48.608Z"
   },
   {
    "duration": 43,
    "start_time": "2022-02-20T12:27:49.071Z"
   },
   {
    "duration": 125,
    "start_time": "2022-02-20T12:27:49.455Z"
   },
   {
    "duration": 14,
    "start_time": "2022-02-20T12:27:50.432Z"
   },
   {
    "duration": 22,
    "start_time": "2022-02-20T12:27:50.903Z"
   },
   {
    "duration": 41,
    "start_time": "2022-02-20T12:27:51.392Z"
   },
   {
    "duration": 109,
    "start_time": "2022-02-20T12:27:51.831Z"
   },
   {
    "duration": 12,
    "start_time": "2022-02-20T12:27:52.288Z"
   },
   {
    "duration": 11,
    "start_time": "2022-02-20T12:27:53.415Z"
   },
   {
    "duration": 21,
    "start_time": "2022-02-20T12:27:53.919Z"
   },
   {
    "duration": 64,
    "start_time": "2022-02-20T12:27:54.423Z"
   },
   {
    "duration": 12,
    "start_time": "2022-02-20T12:27:55.359Z"
   },
   {
    "duration": 9,
    "start_time": "2022-02-20T12:27:55.795Z"
   },
   {
    "duration": 18,
    "start_time": "2022-02-20T12:27:56.711Z"
   },
   {
    "duration": 9,
    "start_time": "2022-02-20T12:27:57.143Z"
   },
   {
    "duration": 12,
    "start_time": "2022-02-20T12:27:57.600Z"
   },
   {
    "duration": 7,
    "start_time": "2022-02-20T12:28:00.936Z"
   },
   {
    "duration": 78,
    "start_time": "2022-02-20T12:28:01.337Z"
   },
   {
    "duration": 68,
    "start_time": "2022-02-20T12:28:01.791Z"
   },
   {
    "duration": 45,
    "start_time": "2022-02-20T12:28:02.199Z"
   },
   {
    "duration": 371,
    "start_time": "2022-02-20T12:28:02.713Z"
   },
   {
    "duration": 22613,
    "start_time": "2022-02-20T12:28:03.359Z"
   },
   {
    "duration": 100,
    "start_time": "2022-02-20T12:28:28.304Z"
   },
   {
    "duration": 937,
    "start_time": "2022-02-20T12:28:28.945Z"
   },
   {
    "duration": 151,
    "start_time": "2022-02-20T12:28:30.890Z"
   },
   {
    "duration": 80,
    "start_time": "2022-02-20T12:28:31.122Z"
   },
   {
    "duration": 11,
    "start_time": "2022-02-20T12:28:31.800Z"
   },
   {
    "duration": 174,
    "start_time": "2022-02-20T12:28:33.336Z"
   },
   {
    "duration": 31,
    "start_time": "2022-02-20T12:28:34.545Z"
   },
   {
    "duration": 97,
    "start_time": "2022-02-20T12:28:36.824Z"
   },
   {
    "duration": 8,
    "start_time": "2022-02-20T12:28:38.511Z"
   },
   {
    "duration": 1468,
    "start_time": "2022-02-20T12:30:46.700Z"
   },
   {
    "duration": 520,
    "start_time": "2022-02-20T12:30:48.630Z"
   },
   {
    "duration": 22,
    "start_time": "2022-02-20T12:30:49.304Z"
   },
   {
    "duration": 31,
    "start_time": "2022-02-20T12:30:49.487Z"
   },
   {
    "duration": 11,
    "start_time": "2022-02-20T12:30:49.695Z"
   },
   {
    "duration": 40,
    "start_time": "2022-02-20T12:30:49.885Z"
   },
   {
    "duration": 129,
    "start_time": "2022-02-20T12:30:50.069Z"
   },
   {
    "duration": 15,
    "start_time": "2022-02-20T12:30:50.485Z"
   },
   {
    "duration": 23,
    "start_time": "2022-02-20T12:30:50.695Z"
   },
   {
    "duration": 40,
    "start_time": "2022-02-20T12:30:50.877Z"
   },
   {
    "duration": 103,
    "start_time": "2022-02-20T12:30:51.069Z"
   },
   {
    "duration": 11,
    "start_time": "2022-02-20T12:30:51.285Z"
   },
   {
    "duration": 12,
    "start_time": "2022-02-20T12:30:51.671Z"
   },
   {
    "duration": 20,
    "start_time": "2022-02-20T12:30:51.868Z"
   },
   {
    "duration": 56,
    "start_time": "2022-02-20T12:30:52.064Z"
   },
   {
    "duration": 12,
    "start_time": "2022-02-20T12:30:52.445Z"
   },
   {
    "duration": 10,
    "start_time": "2022-02-20T12:30:52.637Z"
   },
   {
    "duration": 16,
    "start_time": "2022-02-20T12:30:53.045Z"
   },
   {
    "duration": 8,
    "start_time": "2022-02-20T12:30:53.237Z"
   },
   {
    "duration": 10,
    "start_time": "2022-02-20T12:30:53.446Z"
   },
   {
    "duration": 7,
    "start_time": "2022-02-20T12:30:54.925Z"
   },
   {
    "duration": 79,
    "start_time": "2022-02-20T12:30:55.157Z"
   },
   {
    "duration": 67,
    "start_time": "2022-02-20T12:30:55.349Z"
   },
   {
    "duration": 57,
    "start_time": "2022-02-20T12:30:55.565Z"
   },
   {
    "duration": 361,
    "start_time": "2022-02-20T12:30:55.766Z"
   },
   {
    "duration": 21653,
    "start_time": "2022-02-20T12:30:56.129Z"
   },
   {
    "duration": 116,
    "start_time": "2022-02-20T12:31:17.785Z"
   },
   {
    "duration": 709,
    "start_time": "2022-02-20T12:31:17.904Z"
   },
   {
    "duration": 148,
    "start_time": "2022-02-20T12:31:18.615Z"
   },
   {
    "duration": 92,
    "start_time": "2022-02-20T12:31:18.765Z"
   },
   {
    "duration": 9,
    "start_time": "2022-02-20T12:31:18.860Z"
   },
   {
    "duration": 194,
    "start_time": "2022-02-20T12:31:18.872Z"
   },
   {
    "duration": 35,
    "start_time": "2022-02-20T12:31:19.068Z"
   },
   {
    "duration": 112,
    "start_time": "2022-02-20T12:31:19.106Z"
   },
   {
    "duration": 9,
    "start_time": "2022-02-20T12:31:19.221Z"
   },
   {
    "duration": 26,
    "start_time": "2022-02-20T12:31:55.325Z"
   },
   {
    "duration": 114,
    "start_time": "2022-02-20T12:32:20.935Z"
   },
   {
    "duration": 25,
    "start_time": "2022-02-20T12:32:21.736Z"
   },
   {
    "duration": 62,
    "start_time": "2022-02-20T12:32:24.622Z"
   },
   {
    "duration": 18,
    "start_time": "2022-02-20T12:32:25.237Z"
   },
   {
    "duration": 115,
    "start_time": "2022-02-20T12:32:25.916Z"
   },
   {
    "duration": 35,
    "start_time": "2022-02-20T12:32:26.590Z"
   },
   {
    "duration": 10,
    "start_time": "2022-02-20T12:33:18.813Z"
   },
   {
    "duration": 5,
    "start_time": "2022-02-20T12:33:20.100Z"
   },
   {
    "duration": 10,
    "start_time": "2022-02-20T12:33:20.812Z"
   },
   {
    "duration": 10,
    "start_time": "2022-02-20T12:33:21.476Z"
   },
   {
    "duration": 17,
    "start_time": "2022-02-20T12:33:24.189Z"
   },
   {
    "duration": 49,
    "start_time": "2022-02-20T12:33:24.604Z"
   },
   {
    "duration": 54,
    "start_time": "2022-02-20T12:33:24.957Z"
   },
   {
    "duration": 48,
    "start_time": "2022-02-20T12:33:25.429Z"
   },
   {
    "duration": 4,
    "start_time": "2022-02-20T12:33:25.904Z"
   },
   {
    "duration": 30,
    "start_time": "2022-02-20T12:33:44.805Z"
   },
   {
    "duration": 9,
    "start_time": "2022-02-20T12:34:21.601Z"
   },
   {
    "duration": 220,
    "start_time": "2022-02-20T12:34:22.852Z"
   },
   {
    "duration": 166,
    "start_time": "2022-02-20T12:34:23.636Z"
   },
   {
    "duration": 174,
    "start_time": "2022-02-20T12:34:24.108Z"
   },
   {
    "duration": 208,
    "start_time": "2022-02-20T12:34:24.597Z"
   },
   {
    "duration": 997,
    "start_time": "2022-02-20T12:34:25.496Z"
   },
   {
    "duration": 16,
    "start_time": "2022-02-20T12:34:31.739Z"
   },
   {
    "duration": 55,
    "start_time": "2022-02-20T12:34:32.291Z"
   },
   {
    "duration": 61,
    "start_time": "2022-02-20T12:34:33.003Z"
   },
   {
    "duration": 29,
    "start_time": "2022-02-20T12:34:33.732Z"
   },
   {
    "duration": 12,
    "start_time": "2022-02-20T12:34:34.396Z"
   },
   {
    "duration": 177,
    "start_time": "2022-02-20T12:34:35.046Z"
   },
   {
    "duration": 170,
    "start_time": "2022-02-20T12:34:35.780Z"
   },
   {
    "duration": 170,
    "start_time": "2022-02-20T12:34:36.404Z"
   },
   {
    "duration": 171,
    "start_time": "2022-02-20T12:34:36.983Z"
   },
   {
    "duration": 1047,
    "start_time": "2022-02-20T12:34:38.188Z"
   },
   {
    "duration": 47,
    "start_time": "2022-02-20T12:34:43.659Z"
   },
   {
    "duration": 41,
    "start_time": "2022-02-20T12:34:44.180Z"
   },
   {
    "duration": 32,
    "start_time": "2022-02-20T12:34:44.701Z"
   },
   {
    "duration": 9,
    "start_time": "2022-02-20T12:34:45.227Z"
   },
   {
    "duration": 171,
    "start_time": "2022-02-20T12:34:45.820Z"
   },
   {
    "duration": 170,
    "start_time": "2022-02-20T12:34:46.515Z"
   },
   {
    "duration": 153,
    "start_time": "2022-02-20T12:34:47.003Z"
   },
   {
    "duration": 178,
    "start_time": "2022-02-20T12:34:47.509Z"
   },
   {
    "duration": 7,
    "start_time": "2022-02-20T12:34:48.098Z"
   },
   {
    "duration": 976,
    "start_time": "2022-02-20T12:34:48.804Z"
   },
   {
    "duration": 31,
    "start_time": "2022-02-20T12:34:51.299Z"
   },
   {
    "duration": 29,
    "start_time": "2022-02-20T12:34:51.912Z"
   },
   {
    "duration": 9,
    "start_time": "2022-02-20T12:34:52.547Z"
   },
   {
    "duration": 8,
    "start_time": "2022-02-20T12:34:53.476Z"
   },
   {
    "duration": 8,
    "start_time": "2022-02-20T12:34:54.107Z"
   },
   {
    "duration": 4,
    "start_time": "2022-02-20T12:35:06.566Z"
   },
   {
    "duration": 8,
    "start_time": "2022-02-20T12:35:11.844Z"
   },
   {
    "duration": 10,
    "start_time": "2022-02-20T12:35:17.813Z"
   },
   {
    "duration": 6,
    "start_time": "2022-02-20T12:35:21.980Z"
   },
   {
    "duration": 3,
    "start_time": "2022-02-20T13:32:03.769Z"
   },
   {
    "duration": 84,
    "start_time": "2022-02-20T13:37:24.592Z"
   }
  ],
  "kernelspec": {
   "display_name": "Python 3 (ipykernel)",
   "language": "python",
   "name": "python3"
  },
  "language_info": {
   "codemirror_mode": {
    "name": "ipython",
    "version": 3
   },
   "file_extension": ".py",
   "mimetype": "text/x-python",
   "name": "python",
   "nbconvert_exporter": "python",
   "pygments_lexer": "ipython3",
   "version": "3.9.7"
  },
  "toc": {
   "base_numbering": 1,
   "nav_menu": {},
   "number_sections": true,
   "sideBar": true,
   "skip_h1_title": true,
   "title_cell": "Содержание",
   "title_sidebar": "Contents",
   "toc_cell": true,
   "toc_position": {
    "height": "calc(100% - 180px)",
    "left": "10px",
    "top": "150px",
    "width": "289.6px"
   },
   "toc_section_display": true,
   "toc_window_display": true
  }
 },
 "nbformat": 4,
 "nbformat_minor": 2
}
