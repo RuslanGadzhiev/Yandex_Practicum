{
 "cells": [
  {
   "cell_type": "markdown",
   "metadata": {
    "id": "E0vqbgi9ay0H"
   },
   "source": [
    "# Яндекс.Музыка"
   ]
  },
  {
   "cell_type": "markdown",
   "metadata": {
    "id": "VUC88oWjTJw2"
   },
   "source": [
    "Сравнение Москвы и Петербурга окружено мифами. Например:\n",
    " * Москва — мегаполис, подчинённый жёсткому ритму рабочей недели;\n",
    " * Петербург — культурная столица, со своими вкусами.\n",
    "\n",
    "На данных Яндекс.Музыки вы сравните поведение пользователей двух столиц.\n",
    "\n",
    "**Цель исследования** — проверьте три гипотезы:\n",
    "1. Активность пользователей зависит от дня недели. Причём в Москве и Петербурге это проявляется по-разному.\n",
    "2. В понедельник утром в Москве преобладают одни жанры, а в Петербурге — другие. Так же и вечером пятницы преобладают разные жанры — в зависимости от города. \n",
    "3. Москва и Петербург предпочитают разные жанры музыки. В Москве чаще слушают поп-музыку, в Петербурге — русский рэп.\n",
    "\n",
    "**Ход исследования**\n",
    "\n",
    "Данные о поведении пользователей вы получите из файла `yandex_music_project.csv`. О качестве данных ничего не известно. Поэтому перед проверкой гипотез понадобится обзор данных. \n",
    "\n",
    "Вы проверите данные на ошибки и оцените их влияние на исследование. Затем, на этапе предобработки вы поищете возможность исправить самые критичные ошибки данных.\n",
    " \n",
    "Таким образом, исследование пройдёт в три этапа:\n",
    " 1. Обзор данных.\n",
    " 2. Предобработка данных.\n",
    " 3. Проверка гипотез.\n",
    "\n"
   ]
  },
  {
   "cell_type": "markdown",
   "metadata": {
    "id": "Ml1hmfXC_Zcs"
   },
   "source": [
    "## Обзор данных\n",
    "\n",
    "Составьте первое представление о данных Яндекс.Музыки.\n",
    "\n",
    "\n"
   ]
  },
  {
   "cell_type": "markdown",
   "metadata": {
    "id": "57eAOGIz_Zcs"
   },
   "source": [
    "Основной инструмент аналитика — `pandas`. Импортируйте эту библиотеку."
   ]
  },
  {
   "cell_type": "code",
   "execution_count": 1,
   "metadata": {
    "id": "AXN7PHPN_Zcs"
   },
   "outputs": [],
   "source": [
    "import pandas as pd "
   ]
  },
  {
   "cell_type": "markdown",
   "metadata": {
    "id": "SG23P8tt_Zcs"
   },
   "source": [
    "Прочитайте файл `yandex_music_project.csv` из папки `/datasets` и сохраните его в переменной `df`:"
   ]
  },
  {
   "cell_type": "code",
   "execution_count": 2,
   "metadata": {
    "id": "fFVu7vqh_Zct"
   },
   "outputs": [],
   "source": [
    "df = pd.read_csv('/datasets/yandex_music_project.csv') "
   ]
  },
  {
   "cell_type": "markdown",
   "metadata": {
    "id": "rDoOMd3uTqnZ"
   },
   "source": [
    "Выведите на экран первые десять строк таблицы:"
   ]
  },
  {
   "cell_type": "code",
   "execution_count": 3,
   "metadata": {
    "id": "oWTVX3gW_Zct"
   },
   "outputs": [
    {
     "data": {
      "text/html": [
       "<div>\n",
       "<style scoped>\n",
       "    .dataframe tbody tr th:only-of-type {\n",
       "        vertical-align: middle;\n",
       "    }\n",
       "\n",
       "    .dataframe tbody tr th {\n",
       "        vertical-align: top;\n",
       "    }\n",
       "\n",
       "    .dataframe thead th {\n",
       "        text-align: right;\n",
       "    }\n",
       "</style>\n",
       "<table border=\"1\" class=\"dataframe\">\n",
       "  <thead>\n",
       "    <tr style=\"text-align: right;\">\n",
       "      <th></th>\n",
       "      <th>userID</th>\n",
       "      <th>Track</th>\n",
       "      <th>artist</th>\n",
       "      <th>genre</th>\n",
       "      <th>City</th>\n",
       "      <th>time</th>\n",
       "      <th>Day</th>\n",
       "    </tr>\n",
       "  </thead>\n",
       "  <tbody>\n",
       "    <tr>\n",
       "      <td>0</td>\n",
       "      <td>FFB692EC</td>\n",
       "      <td>Kamigata To Boots</td>\n",
       "      <td>The Mass Missile</td>\n",
       "      <td>rock</td>\n",
       "      <td>Saint-Petersburg</td>\n",
       "      <td>20:28:33</td>\n",
       "      <td>Wednesday</td>\n",
       "    </tr>\n",
       "    <tr>\n",
       "      <td>1</td>\n",
       "      <td>55204538</td>\n",
       "      <td>Delayed Because of Accident</td>\n",
       "      <td>Andreas Rönnberg</td>\n",
       "      <td>rock</td>\n",
       "      <td>Moscow</td>\n",
       "      <td>14:07:09</td>\n",
       "      <td>Friday</td>\n",
       "    </tr>\n",
       "    <tr>\n",
       "      <td>2</td>\n",
       "      <td>20EC38</td>\n",
       "      <td>Funiculì funiculà</td>\n",
       "      <td>Mario Lanza</td>\n",
       "      <td>pop</td>\n",
       "      <td>Saint-Petersburg</td>\n",
       "      <td>20:58:07</td>\n",
       "      <td>Wednesday</td>\n",
       "    </tr>\n",
       "    <tr>\n",
       "      <td>3</td>\n",
       "      <td>A3DD03C9</td>\n",
       "      <td>Dragons in the Sunset</td>\n",
       "      <td>Fire + Ice</td>\n",
       "      <td>folk</td>\n",
       "      <td>Saint-Petersburg</td>\n",
       "      <td>08:37:09</td>\n",
       "      <td>Monday</td>\n",
       "    </tr>\n",
       "    <tr>\n",
       "      <td>4</td>\n",
       "      <td>E2DC1FAE</td>\n",
       "      <td>Soul People</td>\n",
       "      <td>Space Echo</td>\n",
       "      <td>dance</td>\n",
       "      <td>Moscow</td>\n",
       "      <td>08:34:34</td>\n",
       "      <td>Monday</td>\n",
       "    </tr>\n",
       "    <tr>\n",
       "      <td>5</td>\n",
       "      <td>842029A1</td>\n",
       "      <td>Преданная</td>\n",
       "      <td>IMPERVTOR</td>\n",
       "      <td>rusrap</td>\n",
       "      <td>Saint-Petersburg</td>\n",
       "      <td>13:09:41</td>\n",
       "      <td>Friday</td>\n",
       "    </tr>\n",
       "    <tr>\n",
       "      <td>6</td>\n",
       "      <td>4CB90AA5</td>\n",
       "      <td>True</td>\n",
       "      <td>Roman Messer</td>\n",
       "      <td>dance</td>\n",
       "      <td>Moscow</td>\n",
       "      <td>13:00:07</td>\n",
       "      <td>Wednesday</td>\n",
       "    </tr>\n",
       "    <tr>\n",
       "      <td>7</td>\n",
       "      <td>F03E1C1F</td>\n",
       "      <td>Feeling This Way</td>\n",
       "      <td>Polina Griffith</td>\n",
       "      <td>dance</td>\n",
       "      <td>Moscow</td>\n",
       "      <td>20:47:49</td>\n",
       "      <td>Wednesday</td>\n",
       "    </tr>\n",
       "    <tr>\n",
       "      <td>8</td>\n",
       "      <td>8FA1D3BE</td>\n",
       "      <td>И вновь продолжается бой</td>\n",
       "      <td>NaN</td>\n",
       "      <td>ruspop</td>\n",
       "      <td>Moscow</td>\n",
       "      <td>09:17:40</td>\n",
       "      <td>Friday</td>\n",
       "    </tr>\n",
       "    <tr>\n",
       "      <td>9</td>\n",
       "      <td>E772D5C0</td>\n",
       "      <td>Pessimist</td>\n",
       "      <td>NaN</td>\n",
       "      <td>dance</td>\n",
       "      <td>Saint-Petersburg</td>\n",
       "      <td>21:20:49</td>\n",
       "      <td>Wednesday</td>\n",
       "    </tr>\n",
       "  </tbody>\n",
       "</table>\n",
       "</div>"
      ],
      "text/plain": [
       "     userID                        Track            artist   genre  \\\n",
       "0  FFB692EC            Kamigata To Boots  The Mass Missile    rock   \n",
       "1  55204538  Delayed Because of Accident  Andreas Rönnberg    rock   \n",
       "2    20EC38            Funiculì funiculà       Mario Lanza     pop   \n",
       "3  A3DD03C9        Dragons in the Sunset        Fire + Ice    folk   \n",
       "4  E2DC1FAE                  Soul People        Space Echo   dance   \n",
       "5  842029A1                    Преданная         IMPERVTOR  rusrap   \n",
       "6  4CB90AA5                         True      Roman Messer   dance   \n",
       "7  F03E1C1F             Feeling This Way   Polina Griffith   dance   \n",
       "8  8FA1D3BE     И вновь продолжается бой               NaN  ruspop   \n",
       "9  E772D5C0                    Pessimist               NaN   dance   \n",
       "\n",
       "             City        time        Day  \n",
       "0  Saint-Petersburg  20:28:33  Wednesday  \n",
       "1            Moscow  14:07:09     Friday  \n",
       "2  Saint-Petersburg  20:58:07  Wednesday  \n",
       "3  Saint-Petersburg  08:37:09     Monday  \n",
       "4            Moscow  08:34:34     Monday  \n",
       "5  Saint-Petersburg  13:09:41     Friday  \n",
       "6            Moscow  13:00:07  Wednesday  \n",
       "7            Moscow  20:47:49  Wednesday  \n",
       "8            Moscow  09:17:40     Friday  \n",
       "9  Saint-Petersburg  21:20:49  Wednesday  "
      ]
     },
     "execution_count": 3,
     "metadata": {},
     "output_type": "execute_result"
    }
   ],
   "source": [
    "df.head(10)"
   ]
  },
  {
   "cell_type": "markdown",
   "metadata": {
    "id": "EO73Kwic_Zct"
   },
   "source": [
    "Одной командой получить общую информацию о таблице:"
   ]
  },
  {
   "cell_type": "code",
   "execution_count": 4,
   "metadata": {
    "id": "DSf2kIb-_Zct"
   },
   "outputs": [
    {
     "name": "stdout",
     "output_type": "stream",
     "text": [
      "<class 'pandas.core.frame.DataFrame'>\n",
      "RangeIndex: 65079 entries, 0 to 65078\n",
      "Data columns (total 7 columns):\n",
      "  userID    65079 non-null object\n",
      "Track       63848 non-null object\n",
      "artist      57876 non-null object\n",
      "genre       63881 non-null object\n",
      "  City      65079 non-null object\n",
      "time        65079 non-null object\n",
      "Day         65079 non-null object\n",
      "dtypes: object(7)\n",
      "memory usage: 3.5+ MB\n"
     ]
    }
   ],
   "source": [
    "df.info() "
   ]
  },
  {
   "cell_type": "markdown",
   "metadata": {
    "id": "TaQ2Iwbr_Zct"
   },
   "source": [
    "Итак, в таблице семь столбцов. Тип данных во всех столбцах — `object`.\n",
    "\n",
    "Согласно документации к данным:\n",
    "* `userID` — идентификатор пользователя;\n",
    "* `Track` — название трека;  \n",
    "* `artist` — имя исполнителя;\n",
    "* `genre` — название жанра;\n",
    "* `City` — город пользователя;\n",
    "* `time` — время начала прослушивания;\n",
    "* `Day` — день недели.\n",
    "\n",
    "В названиях колонок видны три нарушения стиля:\n",
    "1. Строчные буквы сочетаются с прописными.\n",
    "2. Встречаются пробелы.\n",
    "3. **В названиях колонок (userID и City) имеются пробелы в начале имени и строчны буквы соединяются с прописными**      (Найдите ещё одну проблему в названии колонок и опишите её в этом пункте.)\n",
    "\n",
    "\n",
    "\n",
    "Количество значений в столбцах различается. Значит, в данных есть пропущенные значения.\n"
   ]
  },
  {
   "cell_type": "markdown",
   "metadata": {
    "id": "MCB6-dXG_Zct"
   },
   "source": [
    "**Выводы**\n",
    "\n",
    "В каждой строке таблицы — данные о прослушанном треке. Часть колонок описывает саму композицию: название, исполнителя и жанр. Остальные данные рассказывают о пользователе: из какого он города, когда он слушал музыку. \n",
    "\n",
    "Предварительно можно утверждать, что, данных достаточно для проверки гипотез. Но встречаются пропуски в данных, а в названиях колонок — расхождения с хорошим стилем.\n",
    "\n",
    "Чтобы двигаться дальше, нужно устранить проблемы в данных."
   ]
  },
  {
   "cell_type": "markdown",
   "metadata": {
    "id": "SjYF6Ub9_Zct"
   },
   "source": [
    "## Предобработка данных\n",
    "Исправьте стиль в заголовках столбцов, исключите пропуски. Затем проверьте данные на дубликаты."
   ]
  },
  {
   "cell_type": "markdown",
   "metadata": {
    "id": "dIaKXr29_Zct"
   },
   "source": [
    "### Стиль заголовков\n",
    "Выведите на экран названия столбцов:"
   ]
  },
  {
   "cell_type": "code",
   "execution_count": 5,
   "metadata": {
    "id": "oKOTdF_Q_Zct"
   },
   "outputs": [
    {
     "data": {
      "text/plain": [
       "Index(['  userID', 'Track', 'artist', 'genre', '  City  ', 'time', 'Day'], dtype='object')"
      ]
     },
     "execution_count": 5,
     "metadata": {},
     "output_type": "execute_result"
    }
   ],
   "source": [
    "df.columns"
   ]
  },
  {
   "cell_type": "markdown",
   "metadata": {
    "id": "zj5534cv_Zct"
   },
   "source": [
    "Приведите названия в соответствие с хорошим стилем:\n",
    "* несколько слов в названии запишите в «змеином_регистре»,\n",
    "* все символы сделайте строчными,\n",
    "* устраните пробелы.\n",
    "\n",
    "Для этого переименуйте колонки так:\n",
    "* `'  userID'` → `'user_id'`;\n",
    "* `'Track'` → `'track'`;\n",
    "* `'  City  '` → `'city'`;\n",
    "* `'Day'` → `'day'`."
   ]
  },
  {
   "cell_type": "code",
   "execution_count": 6,
   "metadata": {
    "id": "ISlFqs5y_Zct"
   },
   "outputs": [],
   "source": [
    "df=df.rename(columns={'  userID':'user_id','Track':'track','  City  ':'city','Day':'day'})"
   ]
  },
  {
   "cell_type": "markdown",
   "metadata": {
    "id": "1dqbh00J_Zct"
   },
   "source": [
    "Проверьте результат. Для этого ещё раз выведите на экран названия столбцов:"
   ]
  },
  {
   "cell_type": "code",
   "execution_count": 7,
   "metadata": {
    "id": "d4NOAmTW_Zct"
   },
   "outputs": [
    {
     "data": {
      "text/plain": [
       "Index(['user_id', 'track', 'artist', 'genre', 'city', 'time', 'day'], dtype='object')"
      ]
     },
     "execution_count": 7,
     "metadata": {},
     "output_type": "execute_result"
    }
   ],
   "source": [
    "df.columns"
   ]
  },
  {
   "cell_type": "markdown",
   "metadata": {
    "id": "5ISfbcfY_Zct"
   },
   "source": [
    "### Пропуски значений\n",
    "Сначала посчитайте, сколько в таблице пропущенных значений. Для этого достаточно двух методов `pandas`:"
   ]
  },
  {
   "cell_type": "code",
   "execution_count": 8,
   "metadata": {
    "id": "RskX29qr_Zct"
   },
   "outputs": [
    {
     "data": {
      "text/plain": [
       "user_id       0\n",
       "track      1231\n",
       "artist     7203\n",
       "genre      1198\n",
       "city          0\n",
       "time          0\n",
       "day           0\n",
       "dtype: int64"
      ]
     },
     "execution_count": 8,
     "metadata": {},
     "output_type": "execute_result"
    }
   ],
   "source": [
    "df.isna().sum()"
   ]
  },
  {
   "cell_type": "markdown",
   "metadata": {
    "id": "qubhgnlO_Zct"
   },
   "source": [
    "Не все пропущенные значения влияют на исследование. Так в `track` и `artist` пропуски не важны для вашей работы. Достаточно заменить их явными обозначениями.\n",
    "\n",
    "Но пропуски в `genre` могут помешать сравнению музыкальных вкусов в Москве и Санкт-Петербурге. На практике было бы правильно установить причину пропусков и восстановить данные. Такой возможности нет в учебном проекте. Придётся:\n",
    "* заполнить и эти пропуски явными обозначениями,\n",
    "* оценить, насколько они повредят расчётам. "
   ]
  },
  {
   "cell_type": "markdown",
   "metadata": {
    "id": "fSv2laPA_Zct"
   },
   "source": [
    "Замените пропущенные значения в столбцах `track`, `artist` и `genre` на строку `'unknown'`. Для этого создайте список `columns_to_replace`, переберите его элементы циклом `for` и для каждого столбца выполните замену пропущенных значений:"
   ]
  },
  {
   "cell_type": "code",
   "execution_count": 9,
   "metadata": {
    "id": "KplB5qWs_Zct"
   },
   "outputs": [],
   "source": [
    "# перебор названий столбцов в цикле и замена пропущенных значений на 'unknown'\n",
    "\n",
    "columns_to_replace = ['track','artist','genre']\n",
    "for column in columns_to_replace:\n",
    "    df[column] = df[column].fillna('unknown')"
   ]
  },
  {
   "cell_type": "markdown",
   "metadata": {
    "id": "Ilsm-MZo_Zct"
   },
   "source": [
    "Убедитесь, что в таблице не осталось пропусков. Для этого ещё раз посчитайте пропущенные значения."
   ]
  },
  {
   "cell_type": "code",
   "execution_count": 10,
   "metadata": {
    "id": "Tq4nYRX4_Zct"
   },
   "outputs": [
    {
     "data": {
      "text/plain": [
       "user_id    0\n",
       "track      0\n",
       "artist     0\n",
       "genre      0\n",
       "city       0\n",
       "time       0\n",
       "day        0\n",
       "dtype: int64"
      ]
     },
     "execution_count": 10,
     "metadata": {},
     "output_type": "execute_result"
    }
   ],
   "source": [
    "df.isna().sum()"
   ]
  },
  {
   "cell_type": "markdown",
   "metadata": {
    "id": "BWKRtBJ3_Zct"
   },
   "source": [
    "### Дубликаты\n",
    "Посчитайте явные дубликаты в таблице одной командой:"
   ]
  },
  {
   "cell_type": "code",
   "execution_count": 11,
   "metadata": {
    "id": "36eES_S0_Zct"
   },
   "outputs": [
    {
     "data": {
      "text/plain": [
       "3826"
      ]
     },
     "execution_count": 11,
     "metadata": {},
     "output_type": "execute_result"
    }
   ],
   "source": [
    "df.duplicated().sum()"
   ]
  },
  {
   "cell_type": "markdown",
   "metadata": {
    "id": "Ot25h6XR_Zct"
   },
   "source": [
    "Вызовите специальный метод `pandas`, чтобы удалить явные дубликаты:"
   ]
  },
  {
   "cell_type": "code",
   "execution_count": 12,
   "metadata": {
    "id": "exFHq6tt_Zct"
   },
   "outputs": [],
   "source": [
    "df = df.drop_duplicates() "
   ]
  },
  {
   "cell_type": "markdown",
   "metadata": {
    "id": "Im2YwBEG_Zct"
   },
   "source": [
    "Ещё раз посчитайте явные дубликаты в таблице — убедитесь, что полностью от них избавились:"
   ]
  },
  {
   "cell_type": "code",
   "execution_count": 13,
   "metadata": {
    "id": "-8PuNWQ0_Zct"
   },
   "outputs": [
    {
     "data": {
      "text/plain": [
       "0"
      ]
     },
     "execution_count": 13,
     "metadata": {},
     "output_type": "execute_result"
    }
   ],
   "source": [
    "df.duplicated().sum()"
   ]
  },
  {
   "cell_type": "markdown",
   "metadata": {
    "id": "QlFBsxAr_Zct"
   },
   "source": [
    "Теперь избавьтесь от неявных дубликатов в колонке `genre`. Например, название одного и того же жанра может быть записано немного по-разному. Такие ошибки тоже повлияют на результат исследования."
   ]
  },
  {
   "cell_type": "markdown",
   "metadata": {
    "id": "eSjWwsOh_Zct"
   },
   "source": [
    "Выведите на экран список уникальных названий жанров, отсортированный в алфавитном порядке. Для этого:\n",
    "* извлеките нужный столбец датафрейма, \n",
    "* примените к нему метод сортировки,\n",
    "* для отсортированного столбца вызовите метод, который вернёт уникальные значения из столбца."
   ]
  },
  {
   "cell_type": "code",
   "execution_count": 14,
   "metadata": {
    "id": "JIUcqzZN_Zct"
   },
   "outputs": [
    {
     "data": {
      "text/plain": [
       "array(['acid', 'acoustic', 'action', 'adult', 'africa', 'afrikaans',\n",
       "       'alternative', 'alternativepunk', 'ambient', 'americana',\n",
       "       'animated', 'anime', 'arabesk', 'arabic', 'arena',\n",
       "       'argentinetango', 'art', 'audiobook', 'author', 'avantgarde',\n",
       "       'axé', 'baile', 'balkan', 'beats', 'bigroom', 'black', 'bluegrass',\n",
       "       'blues', 'bollywood', 'bossa', 'brazilian', 'breakbeat', 'breaks',\n",
       "       'broadway', 'cantautori', 'cantopop', 'canzone', 'caribbean',\n",
       "       'caucasian', 'celtic', 'chamber', 'chanson', 'children', 'chill',\n",
       "       'chinese', 'choral', 'christian', 'christmas', 'classical',\n",
       "       'classicmetal', 'club', 'colombian', 'comedy', 'conjazz',\n",
       "       'contemporary', 'country', 'cuban', 'dance', 'dancehall',\n",
       "       'dancepop', 'dark', 'death', 'deep', 'deutschrock', 'deutschspr',\n",
       "       'dirty', 'disco', 'dnb', 'documentary', 'downbeat', 'downtempo',\n",
       "       'drum', 'dub', 'dubstep', 'eastern', 'easy', 'electronic',\n",
       "       'electropop', 'emo', 'entehno', 'epicmetal', 'estrada', 'ethnic',\n",
       "       'eurofolk', 'european', 'experimental', 'extrememetal', 'fado',\n",
       "       'fairytail', 'film', 'fitness', 'flamenco', 'folk', 'folklore',\n",
       "       'folkmetal', 'folkrock', 'folktronica', 'forró', 'frankreich',\n",
       "       'französisch', 'french', 'funk', 'future', 'gangsta', 'garage',\n",
       "       'german', 'ghazal', 'gitarre', 'glitch', 'gospel', 'gothic',\n",
       "       'grime', 'grunge', 'gypsy', 'handsup', \"hard'n'heavy\", 'hardcore',\n",
       "       'hardstyle', 'hardtechno', 'hip', 'hip-hop', 'hiphop',\n",
       "       'historisch', 'holiday', 'hop', 'horror', 'house', 'hymn', 'idm',\n",
       "       'independent', 'indian', 'indie', 'indipop', 'industrial',\n",
       "       'inspirational', 'instrumental', 'international', 'irish', 'jam',\n",
       "       'japanese', 'jazz', 'jewish', 'jpop', 'jungle', 'k-pop',\n",
       "       'karadeniz', 'karaoke', 'kayokyoku', 'korean', 'laiko', 'latin',\n",
       "       'latino', 'leftfield', 'local', 'lounge', 'loungeelectronic',\n",
       "       'lovers', 'malaysian', 'mandopop', 'marschmusik', 'meditative',\n",
       "       'mediterranean', 'melodic', 'metal', 'metalcore', 'mexican',\n",
       "       'middle', 'minimal', 'miscellaneous', 'modern', 'mood', 'mpb',\n",
       "       'muslim', 'native', 'neoklassik', 'neue', 'new', 'newage',\n",
       "       'newwave', 'nu', 'nujazz', 'numetal', 'oceania', 'old', 'opera',\n",
       "       'orchestral', 'other', 'piano', 'podcasts', 'pop', 'popdance',\n",
       "       'popelectronic', 'popeurodance', 'poprussian', 'post',\n",
       "       'posthardcore', 'postrock', 'power', 'progmetal', 'progressive',\n",
       "       'psychedelic', 'punjabi', 'punk', 'quebecois', 'ragga', 'ram',\n",
       "       'rancheras', 'rap', 'rave', 'reggae', 'reggaeton', 'regional',\n",
       "       'relax', 'religious', 'retro', 'rhythm', 'rnb', 'rnr', 'rock',\n",
       "       'rockabilly', 'rockalternative', 'rockindie', 'rockother',\n",
       "       'romance', 'roots', 'ruspop', 'rusrap', 'rusrock', 'russian',\n",
       "       'salsa', 'samba', 'scenic', 'schlager', 'self', 'sertanejo',\n",
       "       'shanson', 'shoegazing', 'showtunes', 'singer', 'ska', 'skarock',\n",
       "       'slow', 'smooth', 'soft', 'soul', 'soulful', 'sound', 'soundtrack',\n",
       "       'southern', 'specialty', 'speech', 'spiritual', 'sport',\n",
       "       'stonerrock', 'surf', 'swing', 'synthpop', 'synthrock',\n",
       "       'sängerportrait', 'tango', 'tanzorchester', 'taraftar', 'tatar',\n",
       "       'tech', 'techno', 'teen', 'thrash', 'top', 'traditional',\n",
       "       'tradjazz', 'trance', 'tribal', 'trip', 'triphop', 'tropical',\n",
       "       'türk', 'türkçe', 'ukrrock', 'unknown', 'urban', 'uzbek',\n",
       "       'variété', 'vi', 'videogame', 'vocal', 'western', 'world',\n",
       "       'worldbeat', 'ïîï', 'электроника'], dtype=object)"
      ]
     },
     "execution_count": 14,
     "metadata": {},
     "output_type": "execute_result"
    }
   ],
   "source": [
    "df['genre'].sort_values().unique()"
   ]
  },
  {
   "cell_type": "markdown",
   "metadata": {
    "id": "qej-Qmuo_Zct"
   },
   "source": [
    "Просмотрите список и найдите неявные дубликаты названия `hiphop`. Это могут быть названия с ошибками или альтернативные названия того же жанра.\n",
    "\n",
    "Вы увидите следующие неявные дубликаты:\n",
    "* *hip*,\n",
    "* *hop*,\n",
    "* *hip-hop*.\n",
    "\n",
    "Чтобы очистить от них таблицу, напишите функцию `replace_wrong_genres()` с двумя параметрами: \n",
    "* `wrong_genres` — список дубликатов,\n",
    "* `correct_genre` — строка с правильным значением.\n",
    "\n",
    "Функция должна исправить колонку `genre` в таблице `df`: заменить каждое значение из списка `wrong_genres` на значение из `correct_genre`."
   ]
  },
  {
   "cell_type": "code",
   "execution_count": 15,
   "metadata": {
    "id": "ErNDkmns_Zct"
   },
   "outputs": [],
   "source": [
    "# Функция для замены неявных дубликатов\n",
    "\n",
    "def replace_wrong_genres(wrong_genres, correct_genre):\n",
    "    for wrong_genre in wrong_genres:\n",
    "        df['genre'] = df['genre'].replace(wrong_genre, correct_genre)"
   ]
  },
  {
   "cell_type": "markdown",
   "metadata": {
    "id": "aDoBJxbA_Zct"
   },
   "source": [
    "Вызовите `replace_wrong_genres()` и передайте ей такие аргументы, чтобы она устранила неявные дубликаты: вместо `hip`, `hop` и `hip-hop` в таблице должно быть значение `hiphop`:"
   ]
  },
  {
   "cell_type": "code",
   "execution_count": 16,
   "metadata": {
    "id": "YN5i2hpmSo09",
    "scrolled": true
   },
   "outputs": [],
   "source": [
    "# Устранение неявных дубликатов\n",
    "\n",
    "hiphop_wrong_genres = ['hip', 'hop', 'hip-hop']\n",
    "hiphop_correct_genre = 'hiphop'\n",
    "replace_wrong_genres(hiphop_wrong_genres, hiphop_correct_genre)"
   ]
  },
  {
   "cell_type": "markdown",
   "metadata": {
    "id": "zQKF16_RG15m"
   },
   "source": [
    "Проверьте, что заменили неправильные названия:\n",
    "\n",
    "*   hip\n",
    "*   hop\n",
    "*   hip-hop\n",
    "\n",
    "Выведите отсортированный список уникальных значений столбца `genre`:"
   ]
  },
  {
   "cell_type": "code",
   "execution_count": 17,
   "metadata": {
    "id": "wvixALnFG15m"
   },
   "outputs": [
    {
     "data": {
      "text/plain": [
       "array(['acid', 'acoustic', 'action', 'adult', 'africa', 'afrikaans',\n",
       "       'alternative', 'alternativepunk', 'ambient', 'americana',\n",
       "       'animated', 'anime', 'arabesk', 'arabic', 'arena',\n",
       "       'argentinetango', 'art', 'audiobook', 'author', 'avantgarde',\n",
       "       'axé', 'baile', 'balkan', 'beats', 'bigroom', 'black', 'bluegrass',\n",
       "       'blues', 'bollywood', 'bossa', 'brazilian', 'breakbeat', 'breaks',\n",
       "       'broadway', 'cantautori', 'cantopop', 'canzone', 'caribbean',\n",
       "       'caucasian', 'celtic', 'chamber', 'chanson', 'children', 'chill',\n",
       "       'chinese', 'choral', 'christian', 'christmas', 'classical',\n",
       "       'classicmetal', 'club', 'colombian', 'comedy', 'conjazz',\n",
       "       'contemporary', 'country', 'cuban', 'dance', 'dancehall',\n",
       "       'dancepop', 'dark', 'death', 'deep', 'deutschrock', 'deutschspr',\n",
       "       'dirty', 'disco', 'dnb', 'documentary', 'downbeat', 'downtempo',\n",
       "       'drum', 'dub', 'dubstep', 'eastern', 'easy', 'electronic',\n",
       "       'electropop', 'emo', 'entehno', 'epicmetal', 'estrada', 'ethnic',\n",
       "       'eurofolk', 'european', 'experimental', 'extrememetal', 'fado',\n",
       "       'fairytail', 'film', 'fitness', 'flamenco', 'folk', 'folklore',\n",
       "       'folkmetal', 'folkrock', 'folktronica', 'forró', 'frankreich',\n",
       "       'französisch', 'french', 'funk', 'future', 'gangsta', 'garage',\n",
       "       'german', 'ghazal', 'gitarre', 'glitch', 'gospel', 'gothic',\n",
       "       'grime', 'grunge', 'gypsy', 'handsup', \"hard'n'heavy\", 'hardcore',\n",
       "       'hardstyle', 'hardtechno', 'hiphop', 'historisch', 'holiday',\n",
       "       'horror', 'house', 'hymn', 'idm', 'independent', 'indian', 'indie',\n",
       "       'indipop', 'industrial', 'inspirational', 'instrumental',\n",
       "       'international', 'irish', 'jam', 'japanese', 'jazz', 'jewish',\n",
       "       'jpop', 'jungle', 'k-pop', 'karadeniz', 'karaoke', 'kayokyoku',\n",
       "       'korean', 'laiko', 'latin', 'latino', 'leftfield', 'local',\n",
       "       'lounge', 'loungeelectronic', 'lovers', 'malaysian', 'mandopop',\n",
       "       'marschmusik', 'meditative', 'mediterranean', 'melodic', 'metal',\n",
       "       'metalcore', 'mexican', 'middle', 'minimal', 'miscellaneous',\n",
       "       'modern', 'mood', 'mpb', 'muslim', 'native', 'neoklassik', 'neue',\n",
       "       'new', 'newage', 'newwave', 'nu', 'nujazz', 'numetal', 'oceania',\n",
       "       'old', 'opera', 'orchestral', 'other', 'piano', 'podcasts', 'pop',\n",
       "       'popdance', 'popelectronic', 'popeurodance', 'poprussian', 'post',\n",
       "       'posthardcore', 'postrock', 'power', 'progmetal', 'progressive',\n",
       "       'psychedelic', 'punjabi', 'punk', 'quebecois', 'ragga', 'ram',\n",
       "       'rancheras', 'rap', 'rave', 'reggae', 'reggaeton', 'regional',\n",
       "       'relax', 'religious', 'retro', 'rhythm', 'rnb', 'rnr', 'rock',\n",
       "       'rockabilly', 'rockalternative', 'rockindie', 'rockother',\n",
       "       'romance', 'roots', 'ruspop', 'rusrap', 'rusrock', 'russian',\n",
       "       'salsa', 'samba', 'scenic', 'schlager', 'self', 'sertanejo',\n",
       "       'shanson', 'shoegazing', 'showtunes', 'singer', 'ska', 'skarock',\n",
       "       'slow', 'smooth', 'soft', 'soul', 'soulful', 'sound', 'soundtrack',\n",
       "       'southern', 'specialty', 'speech', 'spiritual', 'sport',\n",
       "       'stonerrock', 'surf', 'swing', 'synthpop', 'synthrock',\n",
       "       'sängerportrait', 'tango', 'tanzorchester', 'taraftar', 'tatar',\n",
       "       'tech', 'techno', 'teen', 'thrash', 'top', 'traditional',\n",
       "       'tradjazz', 'trance', 'tribal', 'trip', 'triphop', 'tropical',\n",
       "       'türk', 'türkçe', 'ukrrock', 'unknown', 'urban', 'uzbek',\n",
       "       'variété', 'vi', 'videogame', 'vocal', 'western', 'world',\n",
       "       'worldbeat', 'ïîï', 'электроника'], dtype=object)"
      ]
     },
     "execution_count": 17,
     "metadata": {},
     "output_type": "execute_result"
    }
   ],
   "source": [
    "# Проверка на неявные дубликаты\n",
    "\n",
    "df['genre'].sort_values().unique()  "
   ]
  },
  {
   "cell_type": "markdown",
   "metadata": {
    "id": "jz6a9-7HQUDd"
   },
   "source": [
    "**Выводы**\n",
    "\n",
    "Предобработка обнаружила три проблемы в данных:\n",
    "\n",
    "- нарушения в стиле заголовков,\n",
    "- пропущенные значения,\n",
    "- дубликаты — явные и неявные.\n",
    "\n",
    "Вы исправили заголовки, чтобы упростить работу с таблицей. Без дубликатов исследование станет более точным.\n",
    "\n",
    "Пропущенные значения вы заменили на `'unknown'`. Ещё предстоит увидеть, не повредят ли исследованию пропуски в колонке `genre`.\n",
    "\n",
    "Теперь можно перейти к проверке гипотез. "
   ]
  },
  {
   "cell_type": "markdown",
   "metadata": {
    "id": "WttZHXH0SqKk"
   },
   "source": [
    "## Проверка гипотез"
   ]
  },
  {
   "cell_type": "markdown",
   "metadata": {
    "id": "Im936VVi_Zcu"
   },
   "source": [
    "### Сравнение поведения пользователей двух столиц"
   ]
  },
  {
   "cell_type": "markdown",
   "metadata": {
    "id": "nwt_MuaL_Zcu"
   },
   "source": [
    "Первая гипотеза утверждает, что пользователи по-разному слушают музыку в Москве и Санкт-Петербурге. Проверьте это предположение по данным о трёх днях недели — понедельнике, среде и пятнице. Для этого:\n",
    "\n",
    "* Разделите пользователей Москвы и Санкт-Петербурга\n",
    "* Сравните, сколько треков послушала каждая группа пользователей в понедельник, среду и пятницу.\n"
   ]
  },
  {
   "cell_type": "markdown",
   "metadata": {
    "id": "8Dw_YMmT_Zcu"
   },
   "source": [
    "Для тренировки сначала выполните каждый из расчётов по отдельности. \n",
    "\n",
    "Оцените активность пользователей в каждом городе. Сгруппируйте данные по городу и посчитайте прослушивания в каждой группе.\n",
    "\n"
   ]
  },
  {
   "cell_type": "code",
   "execution_count": 18,
   "metadata": {
    "id": "0_Qs96oh_Zcu"
   },
   "outputs": [
    {
     "data": {
      "text/plain": [
       "city\n",
       "Moscow              42741\n",
       "Saint-Petersburg    18512\n",
       "Name: time, dtype: int64"
      ]
     },
     "execution_count": 18,
     "metadata": {},
     "output_type": "execute_result"
    }
   ],
   "source": [
    "# Подсчёт прослушиваний в каждом городе\n",
    "\n",
    "df.groupby('city')['time'].count()    "
   ]
  },
  {
   "cell_type": "markdown",
   "metadata": {
    "id": "dzli3w8o_Zcu"
   },
   "source": [
    "В Москве прослушиваний больше, чем в Петербурге. Из этого не следует, что московские пользователи чаще слушают музыку. Просто самих пользователей в Москве больше.\n",
    "\n",
    "Теперь сгруппируйте данные по дню недели и подсчитайте прослушивания в понедельник, среду и пятницу. Учтите, что в данных есть информация только о прослушиваниях только за эти дни.\n"
   ]
  },
  {
   "cell_type": "code",
   "execution_count": 19,
   "metadata": {
    "id": "uZMKjiJz_Zcu"
   },
   "outputs": [
    {
     "data": {
      "text/plain": [
       "day\n",
       "Friday       21840\n",
       "Monday       21354\n",
       "Wednesday    18059\n",
       "Name: time, dtype: int64"
      ]
     },
     "execution_count": 19,
     "metadata": {},
     "output_type": "execute_result"
    }
   ],
   "source": [
    "# Подсчёт прослушиваний в каждый из трёх дней\n",
    "\n",
    "df.groupby('day')['time'].count()    "
   ]
  },
  {
   "cell_type": "markdown",
   "metadata": {
    "id": "cC2tNrlL_Zcu"
   },
   "source": [
    "В среднем пользователи из двух городов менее активны по средам. Но картина может измениться, если рассмотреть каждый город в отдельности."
   ]
  },
  {
   "cell_type": "markdown",
   "metadata": {
    "id": "POzs8bGa_Zcu"
   },
   "source": [
    "Вы видели, как работает группировка по городу и по дням недели. Теперь напишите функцию, которая объединит два эти расчёта.\n",
    "\n",
    "Создайте функцию `number_tracks()`, которая посчитает прослушивания для заданного дня и города. Ей понадобятся два параметра:\n",
    "* день недели,\n",
    "* название города.\n",
    "\n",
    "В функции сохраните в переменную строки исходной таблицы, у которых значение:\n",
    "  * в колонке `day` равно параметру `day`,\n",
    "  * в колонке `city` равно параметру `city`.\n",
    "\n",
    "Для этого примените последовательную фильтрацию с логической индексацией.\n",
    "\n",
    "Затем посчитайте значения в столбце `user_id` получившейся таблицы. Результат сохраните в новую переменную. Верните эту переменную из функции."
   ]
  },
  {
   "cell_type": "code",
   "execution_count": 20,
   "metadata": {
    "id": "Nz3GdQB1_Zcu"
   },
   "outputs": [],
   "source": [
    "# <создание функции number_tracks()>\n",
    "# Объявляется функция с двумя параметрами: day, city.\n",
    "# В переменной track_list сохраняются те строки таблицы df, для которых\n",
    "# значение в столбце 'day' равно параметру day и одновременно значение\n",
    "# в столбце 'city' равно параметру city (используйте последовательную фильтрацию\n",
    "# с помощью логической индексации).\n",
    "# В переменной track_list_count сохраняется число значений столбца 'user_id',\n",
    "# рассчитанное методом count() для таблицы track_list.\n",
    "# Функция возвращает число - значение track_list_count.\n",
    "\n",
    "# Функция для подсчёта прослушиваний для конкретного города и дня.\n",
    "# С помощью последовательной фильтрации с логической индексацией она \n",
    "# сначала получит из исходной таблицы строки с нужным днём,\n",
    "# затем из результата отфильтрует строки с нужным городом,\n",
    "# методом count() посчитает количество значений в колонке user_id. \n",
    "# Это количество функция вернёт в качестве результата\n",
    "\n",
    "def number_tracks(day, city):  \n",
    "    track_list = df[df['day'] == day]                                      \n",
    "    track_list = track_list[track_list['city'] == city]\n",
    "    track_list_count = track_list['user_id'].count()   \n",
    "    return track_list_count                                                  "
   ]
  },
  {
   "cell_type": "markdown",
   "metadata": {
    "id": "ytf7xFrFJQ2r"
   },
   "source": [
    "Вызовите `number_tracks()` шесть раз, меняя значение параметров — так, чтобы получить данные для каждого города в каждый из трёх дней."
   ]
  },
  {
   "cell_type": "code",
   "execution_count": 21,
   "metadata": {
    "id": "rJcRATNQ_Zcu"
   },
   "outputs": [
    {
     "data": {
      "text/plain": [
       "15740"
      ]
     },
     "execution_count": 21,
     "metadata": {},
     "output_type": "execute_result"
    }
   ],
   "source": [
    "# количество прослушиваний в Москве по понедельникам\n",
    "\n",
    "number_tracks('Monday','Moscow')   "
   ]
  },
  {
   "cell_type": "code",
   "execution_count": 22,
   "metadata": {
    "id": "hq_ncZ5T_Zcu"
   },
   "outputs": [
    {
     "data": {
      "text/plain": [
       "5614"
      ]
     },
     "execution_count": 22,
     "metadata": {},
     "output_type": "execute_result"
    }
   ],
   "source": [
    "# количество прослушиваний в Санкт-Петербурге по понедельникам\n",
    "\n",
    "number_tracks('Monday','Saint-Petersburg')   "
   ]
  },
  {
   "cell_type": "code",
   "execution_count": 23,
   "metadata": {
    "id": "_NTy2VPU_Zcu"
   },
   "outputs": [
    {
     "data": {
      "text/plain": [
       "11056"
      ]
     },
     "execution_count": 23,
     "metadata": {},
     "output_type": "execute_result"
    }
   ],
   "source": [
    "# количество прослушиваний в Москве по средам\n",
    "\n",
    "number_tracks('Wednesday','Moscow')   "
   ]
  },
  {
   "cell_type": "code",
   "execution_count": 24,
   "metadata": {
    "id": "j2y3TAwo_Zcu"
   },
   "outputs": [
    {
     "data": {
      "text/plain": [
       "7003"
      ]
     },
     "execution_count": 24,
     "metadata": {},
     "output_type": "execute_result"
    }
   ],
   "source": [
    "# количество прослушиваний в Санкт-Петербурге по средам\n",
    "\n",
    "number_tracks('Wednesday','Saint-Petersburg')   "
   ]
  },
  {
   "cell_type": "code",
   "execution_count": 25,
   "metadata": {
    "id": "vYDw5u_K_Zcu"
   },
   "outputs": [
    {
     "data": {
      "text/plain": [
       "15945"
      ]
     },
     "execution_count": 25,
     "metadata": {},
     "output_type": "execute_result"
    }
   ],
   "source": [
    "# количество прослушиваний в Москве по пятницам\n",
    "\n",
    "number_tracks('Friday','Moscow')   "
   ]
  },
  {
   "cell_type": "code",
   "execution_count": 26,
   "metadata": {
    "id": "8_yzFtW3_Zcu"
   },
   "outputs": [
    {
     "data": {
      "text/plain": [
       "5895"
      ]
     },
     "execution_count": 26,
     "metadata": {},
     "output_type": "execute_result"
    }
   ],
   "source": [
    "# количество прослушиваний в Санкт-Петербурге по пятницам\n",
    "\n",
    "number_tracks('Friday','Saint-Petersburg')   "
   ]
  },
  {
   "cell_type": "markdown",
   "metadata": {
    "id": "7QXffbO-_Zcu"
   },
   "source": [
    "Создайте c помощью конструктора `pd.DataFrame` таблицу, где\n",
    "* названия колонок — `['city', 'monday', 'wednesday', 'friday']`;\n",
    "* данные — результаты, которые вы получили с помощью `number_tracks`."
   ]
  },
  {
   "cell_type": "code",
   "execution_count": 27,
   "metadata": {
    "id": "APAcLpOr_Zcu"
   },
   "outputs": [
    {
     "data": {
      "text/html": [
       "<div>\n",
       "<style scoped>\n",
       "    .dataframe tbody tr th:only-of-type {\n",
       "        vertical-align: middle;\n",
       "    }\n",
       "\n",
       "    .dataframe tbody tr th {\n",
       "        vertical-align: top;\n",
       "    }\n",
       "\n",
       "    .dataframe thead th {\n",
       "        text-align: right;\n",
       "    }\n",
       "</style>\n",
       "<table border=\"1\" class=\"dataframe\">\n",
       "  <thead>\n",
       "    <tr style=\"text-align: right;\">\n",
       "      <th></th>\n",
       "      <th>city</th>\n",
       "      <th>monday</th>\n",
       "      <th>wednesday</th>\n",
       "      <th>friday</th>\n",
       "    </tr>\n",
       "  </thead>\n",
       "  <tbody>\n",
       "    <tr>\n",
       "      <td>0</td>\n",
       "      <td>Moscow</td>\n",
       "      <td>15740</td>\n",
       "      <td>11056</td>\n",
       "      <td>15945</td>\n",
       "    </tr>\n",
       "    <tr>\n",
       "      <td>1</td>\n",
       "      <td>Saint-Petersburg</td>\n",
       "      <td>5614</td>\n",
       "      <td>7003</td>\n",
       "      <td>5895</td>\n",
       "    </tr>\n",
       "  </tbody>\n",
       "</table>\n",
       "</div>"
      ],
      "text/plain": [
       "               city  monday  wednesday  friday\n",
       "0            Moscow   15740      11056   15945\n",
       "1  Saint-Petersburg    5614       7003    5895"
      ]
     },
     "execution_count": 27,
     "metadata": {},
     "output_type": "execute_result"
    }
   ],
   "source": [
    "# Таблица с результатами\n",
    "\n",
    "number_tracks_results = [['Moscow', 15740, 11056, 15945], ['Saint-Petersburg', 5614, 7003, 5895]]\n",
    "number_tracks_columns = ['city', 'monday', 'wednesday', 'friday']\n",
    "number_tracks_results_df = pd.DataFrame(data=number_tracks_results, columns=number_tracks_columns) \n",
    "number_tracks_results_df"
   ]
  },
  {
   "cell_type": "markdown",
   "metadata": {
    "id": "-EgPIHYu_Zcu"
   },
   "source": [
    "**Выводы**\n",
    "\n",
    "Данные показывают разницу поведения пользователей:\n",
    "\n",
    "- В Москве пик прослушиваний приходится на понедельник и пятницу, а в среду заметен спад.\n",
    "- В Петербурге, наоборот, больше слушают музыку по средам. Активность в понедельник и пятницу здесь почти в равной мере уступает среде.\n",
    "\n",
    "Значит, данные говорят в пользу первой гипотезы."
   ]
  },
  {
   "cell_type": "markdown",
   "metadata": {
    "id": "atZAxtq4_Zcu"
   },
   "source": [
    "### Музыка в начале и в конце недели"
   ]
  },
  {
   "cell_type": "markdown",
   "metadata": {
    "id": "eXrQqXFH_Zcu"
   },
   "source": [
    "Согласно второй гипотезе, утром в понедельник в Москве преобладают одни жанры, а в Петербурге — другие. Так же и вечером пятницы преобладают разные жанры — в зависимости от города."
   ]
  },
  {
   "cell_type": "markdown",
   "metadata": {
    "id": "S8UcW6Hw_Zcu"
   },
   "source": [
    "Сохраните таблицы с данными в две переменные:\n",
    "* по Москве — в `moscow_general`;\n",
    "* по Санкт-Петербургу — в `spb_general`."
   ]
  },
  {
   "cell_type": "code",
   "execution_count": 28,
   "metadata": {
    "id": "qeaFfM_P_Zcu"
   },
   "outputs": [],
   "source": [
    "# получение таблицы moscow_general из тех строк таблицы df,\n",
    "# для которых значение в столбце 'city' равно 'Moscow'\n",
    "\n",
    "moscow_general = df[df['city'] == 'Moscow']    \n",
    "                                              "
   ]
  },
  {
   "cell_type": "code",
   "execution_count": 29,
   "metadata": {
    "id": "ORaVRKto_Zcu"
   },
   "outputs": [],
   "source": [
    "# получение таблицы spb_general из тех строк таблицы df,\n",
    "# для которых значение в столбце 'city' равно 'Saint-Petersburg'\n",
    "\n",
    "spb_general = df[df['city'] == 'Saint-Petersburg']  \n",
    "                                                    "
   ]
  },
  {
   "cell_type": "markdown",
   "metadata": {
    "id": "MEJV-CX2_Zcu"
   },
   "source": [
    "Создайте функцию `genre_weekday()` с четырьмя параметрами:\n",
    "* таблица (датафрейм) с данными,\n",
    "* день недели,\n",
    "* начальная временная метка в формате 'hh:mm', \n",
    "* последняя временная метка в формате 'hh:mm'.\n",
    "\n",
    "Функция должна вернуть информацию о топ-10 жанров тех треков, которые прослушивали в указанный день, в промежутке между двумя отметками времени."
   ]
  },
  {
   "cell_type": "code",
   "execution_count": 30,
   "metadata": {
    "id": "laJT9BYl_Zcu"
   },
   "outputs": [],
   "source": [
    "# Объявление функции genre_weekday() с параметрами table, day, time1, time2,\n",
    "# которая возвращает информацию о самых популярных жанрах в указанный день в\n",
    "# заданное время:\n",
    "# 1) в переменную genre_df сохраняются те строки переданного датафрейма table, для\n",
    "#    которых одновременно:\n",
    "#    - значение в столбце day равно значению аргумента day\n",
    "#    - значение в столбце time больше значения аргумента time1\n",
    "#    - значение в столбце time меньше значения аргумента time2\n",
    "#    Используйте последовательную фильтрацию с помощью логической индексации.\n",
    "# 2) сгруппировать датафрейм genre_df по столбцу genre, взять один из его\n",
    "#    столбцов и посчитать методом count() количество записей для каждого из\n",
    "#    присутствующих жанров, получившийся Series записать в переменную\n",
    "#    genre_df_count\n",
    "# 3) отсортировать genre_df_count по убыванию встречаемости и сохранить\n",
    "#    в переменную genre_df_sorted\n",
    "# 4) вернуть Series из 10 первых значений genre_df_sorted, это будут топ-10\n",
    "#    популярных жанров (в указанный день, в заданное время)\n",
    "\n",
    "def genre_weekday(table, day, time1, time2,): \n",
    "    genre_df = table[(table['day'] == day) & (table['time'] > time1) & (table['time'] < time2)]        \n",
    "    genre_df_count = genre_df.groupby('genre')['city'].count()\n",
    "    genre_df_sorted = genre_df_count.sort_values(ascending=False)\n",
    "    return genre_df_sorted[:10]    \n",
    "        \n",
    "    \n"
   ]
  },
  {
   "cell_type": "markdown",
   "metadata": {
    "id": "la2s2_PF_Zcu"
   },
   "source": [
    "Cравните результаты функции `genre_weekday()` для Москвы и Санкт-Петербурга в понедельник утром (с 7:00 до 11:00) и в пятницу вечером (с 17:00 до 23:00):"
   ]
  },
  {
   "cell_type": "code",
   "execution_count": 31,
   "metadata": {
    "id": "yz7itPUQ_Zcu"
   },
   "outputs": [
    {
     "data": {
      "text/plain": [
       "genre\n",
       "pop            781\n",
       "dance          549\n",
       "electronic     480\n",
       "rock           474\n",
       "hiphop         286\n",
       "ruspop         186\n",
       "world          181\n",
       "rusrap         175\n",
       "alternative    164\n",
       "unknown        161\n",
       "Name: city, dtype: int64"
      ]
     },
     "execution_count": 31,
     "metadata": {},
     "output_type": "execute_result"
    }
   ],
   "source": [
    "# вызов функции для утра понедельника в Москве (вместо df — таблица moscow_general)\n",
    "# объекты, хранящие время, являются строками и сравниваются как строки                        \n",
    "# пример вызова: genre_weekday(moscow_general, 'Monday', '07:00', '11:00')  \n",
    "\n",
    "genre_weekday(moscow_general,'Monday','07:00','11:00')   "
   ]
  },
  {
   "cell_type": "code",
   "execution_count": 32,
   "metadata": {
    "id": "kwUcHPdy_Zcu"
   },
   "outputs": [
    {
     "data": {
      "text/plain": [
       "genre\n",
       "pop            218\n",
       "dance          182\n",
       "rock           162\n",
       "electronic     147\n",
       "hiphop          80\n",
       "ruspop          64\n",
       "alternative     58\n",
       "rusrap          55\n",
       "jazz            44\n",
       "classical       40\n",
       "Name: city, dtype: int64"
      ]
     },
     "execution_count": 32,
     "metadata": {},
     "output_type": "execute_result"
    }
   ],
   "source": [
    "# вызов функции для утра понедельника в Петербурге (вместо df — таблица spb_general)\n",
    "\n",
    "genre_weekday(spb_general,'Monday','07:00','11:00')  "
   ]
  },
  {
   "cell_type": "code",
   "execution_count": 33,
   "metadata": {
    "id": "EzXVRE1o_Zcu"
   },
   "outputs": [
    {
     "data": {
      "text/plain": [
       "genre\n",
       "pop            713\n",
       "rock           517\n",
       "dance          495\n",
       "electronic     482\n",
       "hiphop         273\n",
       "world          208\n",
       "ruspop         170\n",
       "alternative    163\n",
       "classical      163\n",
       "rusrap         142\n",
       "Name: city, dtype: int64"
      ]
     },
     "execution_count": 33,
     "metadata": {},
     "output_type": "execute_result"
    }
   ],
   "source": [
    "# вызов функции для вечера пятницы в Москве\n",
    "\n",
    "genre_weekday(moscow_general, 'Friday', '17:00', '23:00')   "
   ]
  },
  {
   "cell_type": "code",
   "execution_count": 34,
   "metadata": {
    "id": "JZaEKu5v_Zcu"
   },
   "outputs": [
    {
     "data": {
      "text/plain": [
       "genre\n",
       "pop            256\n",
       "rock           216\n",
       "electronic     216\n",
       "dance          210\n",
       "hiphop          97\n",
       "alternative     63\n",
       "jazz            61\n",
       "classical       60\n",
       "rusrap          59\n",
       "world           54\n",
       "Name: city, dtype: int64"
      ]
     },
     "execution_count": 34,
     "metadata": {},
     "output_type": "execute_result"
    }
   ],
   "source": [
    "# вызов функции для вечера пятницы в Петербурге\n",
    "\n",
    "genre_weekday(spb_general, 'Friday', '17:00', '23:00')   "
   ]
  },
  {
   "cell_type": "markdown",
   "metadata": {
    "id": "wrCe4MNX_Zcu"
   },
   "source": [
    "**Выводы**\n",
    "\n",
    "Если сравнить топ-10 жанров в понедельник утром, можно сделать такие выводы:\n",
    "\n",
    "1. В Москве и Петербурге слушают похожую музыку. Единственное отличие — в московский рейтинг вошёл жанр “world”, а в петербургский — джаз и классика.\n",
    "\n",
    "2. В Москве пропущенных значений оказалось так много, что значение `'unknown'` заняло десятое место среди самых популярных жанров. Значит, пропущенные значения занимают существенную долю в данных и угрожают достоверности исследования.\n",
    "\n",
    "Вечер пятницы не меняет эту картину. Некоторые жанры поднимаются немного выше, другие спускаются, но в целом топ-10 остаётся тем же самым.\n",
    "\n",
    "Таким образом, вторая гипотеза подтвердилась лишь частично:\n",
    "* Пользователи слушают похожую музыку в начале недели и в конце.\n",
    "* Разница между Москвой и Петербургом не слишком выражена. В Москве чаще слушают русскую популярную музыку, в Петербурге — джаз.\n",
    "\n",
    "Однако пропуски в данных ставят под сомнение этот результат. В Москве их так много, что рейтинг топ-10 мог бы выглядеть иначе, если бы не утерянные  данные о жанрах."
   ]
  },
  {
   "cell_type": "markdown",
   "metadata": {
    "id": "JolODAqr_Zcu"
   },
   "source": [
    "### Жанровые предпочтения в Москве и Петербурге\n",
    "\n",
    "Гипотеза: Петербург — столица рэпа, музыку этого жанра там слушают чаще, чем в Москве.  А Москва — город контрастов, в котором, тем не менее, преобладает поп-музыка."
   ]
  },
  {
   "cell_type": "markdown",
   "metadata": {
    "id": "DlegSvaT_Zcu"
   },
   "source": [
    "Сгруппируйте таблицу `moscow_general` по жанру и посчитайте прослушивания треков каждого жанра методом `count()`. Затем отсортируйте результат в порядке убывания и сохраните его в таблице `moscow_genres`."
   ]
  },
  {
   "cell_type": "code",
   "execution_count": 35,
   "metadata": {
    "id": "r19lIPke_Zcu"
   },
   "outputs": [],
   "source": [
    "# одной строкой: группировка таблицы moscow_general по столбцу 'genre',   \n",
    "# подсчёт числа значений 'genre' в этой группировке методом count(), \n",
    "# сортировка получившегося Series в порядке убывания и сохранение в moscow_genres\n",
    "\n",
    "moscow_genres = moscow_general.groupby('genre')['track'].count().sort_values(ascending=False) "
   ]
  },
  {
   "cell_type": "markdown",
   "metadata": {
    "id": "6kMuomxTiIr8"
   },
   "source": [
    "Выведите на экран первые десять строк `moscow_genres`:"
   ]
  },
  {
   "cell_type": "code",
   "execution_count": 36,
   "metadata": {
    "id": "WhCSooF8_Zcv"
   },
   "outputs": [
    {
     "data": {
      "text/plain": [
       "genre\n",
       "pop            5892\n",
       "dance          4435\n",
       "rock           3965\n",
       "electronic     3786\n",
       "hiphop         2096\n",
       "classical      1616\n",
       "world          1432\n",
       "alternative    1379\n",
       "ruspop         1372\n",
       "rusrap         1161\n",
       "Name: track, dtype: int64"
      ]
     },
     "execution_count": 36,
     "metadata": {},
     "output_type": "execute_result"
    }
   ],
   "source": [
    "moscow_genres.head(10)   "
   ]
  },
  {
   "cell_type": "markdown",
   "metadata": {
    "id": "cnPG2vnN_Zcv"
   },
   "source": [
    "Теперь повторите то же и для Петербурга.\n",
    "\n",
    "Сгруппируйте таблицу `spb_general` по жанру. Посчитайте прослушивания треков каждого жанра. Результат отсортируйте в порядке убывания и сохраните в таблице `spb_genres`:\n"
   ]
  },
  {
   "cell_type": "code",
   "execution_count": 37,
   "metadata": {
    "id": "gluLIpE7_Zcv"
   },
   "outputs": [],
   "source": [
    "# одной строкой: группировка таблицы spb_general по столбцу 'genre', \n",
    "# подсчёт числа значений 'genre' в этой группировке методом count(), \n",
    "# сортировка получившегося Series в порядке убывания и сохранение в spb_genres\n",
    "\n",
    "spb_genres = spb_general.groupby('genre')['track'].count().sort_values(ascending=False)"
   ]
  },
  {
   "cell_type": "markdown",
   "metadata": {
    "id": "5Doha_ODgyQ8"
   },
   "source": [
    "Выведите на экран первые десять строк `spb_genres`:"
   ]
  },
  {
   "cell_type": "code",
   "execution_count": 38,
   "metadata": {
    "id": "uaGJHjVU_Zcv"
   },
   "outputs": [
    {
     "data": {
      "text/plain": [
       "genre\n",
       "pop            2431\n",
       "dance          1932\n",
       "rock           1879\n",
       "electronic     1736\n",
       "hiphop          960\n",
       "alternative     649\n",
       "classical       646\n",
       "rusrap          564\n",
       "ruspop          538\n",
       "world           515\n",
       "Name: track, dtype: int64"
      ]
     },
     "execution_count": 38,
     "metadata": {},
     "output_type": "execute_result"
    }
   ],
   "source": [
    "spb_genres.head(10)   "
   ]
  },
  {
   "cell_type": "markdown",
   "metadata": {
    "id": "RY51YJYu_Zcv"
   },
   "source": [
    "**Выводы**"
   ]
  },
  {
   "cell_type": "markdown",
   "metadata": {
    "id": "nVhnJEm__Zcv"
   },
   "source": [
    "Гипотеза частично подтвердилась:\n",
    "* Поп-музыка — самый популярный жанр в Москве, как и предполагала гипотеза. Более того, в топ-10 жанров встречается близкий жанр — русская популярная музыка.\n",
    "* Вопреки ожиданиям, рэп одинаково популярен в Москве и Петербурге. \n"
   ]
  },
  {
   "cell_type": "markdown",
   "metadata": {
    "id": "ykKQ0N65_Zcv"
   },
   "source": [
    "## Итоги исследования"
   ]
  },
  {
   "cell_type": "markdown",
   "metadata": {
    "id": "tjUwbHb3_Zcv"
   },
   "source": [
    "Вы проверили три гипотезы и установили:\n",
    "\n",
    "1. День недели по-разному влияет на активность пользователей в Москве и Петербурге. \n",
    "\n",
    "Первая гипотеза полностью подтвердилась.\n",
    "\n",
    "2. Музыкальные предпочтения не сильно меняются в течение недели — будь то Москва или Петербург. Небольшие различия заметны в начале недели, по понедельникам:\n",
    "* в Москве слушают музыку жанра “world”,\n",
    "* в Петербурге — джаз и классику.\n",
    "\n",
    "Таким образом, вторая гипотеза подтвердилась лишь отчасти. Этот результат мог оказаться иным, если бы не пропуски в данных.\n",
    "\n",
    "3. Во вкусах пользователей Москвы и Петербурга больше общего чем различий. Вопреки ожиданиям, предпочтения жанров в Петербурге напоминают московские.\n",
    "\n",
    "Третья гипотеза не подтвердилась. Если различия в предпочтениях и существуют, на основной массе пользователей они незаметны.\n",
    "\n",
    "**На практике исследования содержат проверки статистических гипотез.**\n",
    "Из данных одного сервиса не всегда можно сделать вывод о всех жителях города.\n",
    "Проверки статистических гипотез покажут, насколько они достоверны, исходя из имеющихся данных. \n",
    "С методами проверок гипотез вы ещё познакомитесь в следующих темах."
   ]
  },
  {
   "cell_type": "code",
   "execution_count": null,
   "metadata": {},
   "outputs": [],
   "source": []
  }
 ],
 "metadata": {
  "ExecuteTimeLog": [
   {
    "duration": 317,
    "start_time": "2021-12-26T10:54:35.869Z"
   },
   {
    "duration": 769,
    "start_time": "2021-12-26T10:54:50.491Z"
   },
   {
    "duration": 193,
    "start_time": "2021-12-26T10:54:52.716Z"
   },
   {
    "duration": 25,
    "start_time": "2021-12-26T10:54:55.959Z"
   },
   {
    "duration": 33,
    "start_time": "2021-12-26T10:55:54.910Z"
   },
   {
    "duration": 6,
    "start_time": "2021-12-26T11:12:37.174Z"
   },
   {
    "duration": 27,
    "start_time": "2021-12-26T11:14:48.036Z"
   },
   {
    "duration": 29,
    "start_time": "2021-12-26T11:14:52.082Z"
   },
   {
    "duration": 9,
    "start_time": "2021-12-26T11:15:22.153Z"
   },
   {
    "duration": 30,
    "start_time": "2021-12-26T11:19:24.742Z"
   },
   {
    "duration": 10,
    "start_time": "2021-12-26T11:23:43.397Z"
   },
   {
    "duration": 289,
    "start_time": "2021-12-26T11:23:45.514Z"
   },
   {
    "duration": 31,
    "start_time": "2021-12-26T11:23:56.458Z"
   },
   {
    "duration": 277,
    "start_time": "2021-12-26T11:24:22.746Z"
   },
   {
    "duration": 339,
    "start_time": "2021-12-26T11:25:24.314Z"
   },
   {
    "duration": 92,
    "start_time": "2021-12-26T11:25:44.460Z"
   },
   {
    "duration": 96,
    "start_time": "2021-12-26T11:28:03.324Z"
   },
   {
    "duration": 78,
    "start_time": "2021-12-26T11:28:12.744Z"
   },
   {
    "duration": 10,
    "start_time": "2021-12-26T11:29:56.651Z"
   },
   {
    "duration": 15,
    "start_time": "2021-12-26T11:35:11.044Z"
   },
   {
    "duration": 5,
    "start_time": "2021-12-26T11:43:01.930Z"
   },
   {
    "duration": 608,
    "start_time": "2021-12-26T11:43:05.469Z"
   },
   {
    "duration": 4,
    "start_time": "2021-12-26T11:44:06.428Z"
   },
   {
    "duration": 588,
    "start_time": "2021-12-26T11:44:12.422Z"
   },
   {
    "duration": 4,
    "start_time": "2021-12-26T11:45:28.571Z"
   },
   {
    "duration": 16,
    "start_time": "2021-12-26T11:45:30.890Z"
   },
   {
    "duration": 15,
    "start_time": "2021-12-26T11:46:44.076Z"
   },
   {
    "duration": 15,
    "start_time": "2021-12-26T11:47:04.926Z"
   },
   {
    "duration": 15,
    "start_time": "2021-12-26T11:47:28.555Z"
   },
   {
    "duration": 15,
    "start_time": "2021-12-26T11:53:56.454Z"
   },
   {
    "duration": 5,
    "start_time": "2021-12-26T11:53:58.648Z"
   },
   {
    "duration": 5,
    "start_time": "2021-12-26T11:54:44.046Z"
   },
   {
    "duration": 14,
    "start_time": "2021-12-26T11:54:47.281Z"
   },
   {
    "duration": 15,
    "start_time": "2021-12-26T11:55:21.619Z"
   },
   {
    "duration": 5,
    "start_time": "2021-12-26T11:55:45.848Z"
   },
   {
    "duration": 5913,
    "start_time": "2021-12-26T11:55:48.467Z"
   },
   {
    "duration": 5,
    "start_time": "2021-12-26T11:57:01.172Z"
   },
   {
    "duration": 16,
    "start_time": "2021-12-26T11:57:04.856Z"
   },
   {
    "duration": 15,
    "start_time": "2021-12-26T11:59:51.926Z"
   },
   {
    "duration": 275,
    "start_time": "2021-12-26T12:07:53.632Z"
   },
   {
    "duration": 15,
    "start_time": "2021-12-26T12:08:14.819Z"
   },
   {
    "duration": 21,
    "start_time": "2021-12-26T12:08:50.570Z"
   },
   {
    "duration": 17,
    "start_time": "2021-12-26T13:49:21.785Z"
   },
   {
    "duration": 53,
    "start_time": "2021-12-26T16:28:06.907Z"
   },
   {
    "duration": 45,
    "start_time": "2021-12-26T16:50:33.882Z"
   },
   {
    "duration": 815,
    "start_time": "2021-12-28T13:43:54.957Z"
   },
   {
    "duration": 214,
    "start_time": "2021-12-28T13:43:55.775Z"
   },
   {
    "duration": 25,
    "start_time": "2021-12-28T13:43:55.992Z"
   },
   {
    "duration": 32,
    "start_time": "2021-12-28T13:43:56.087Z"
   },
   {
    "duration": 5,
    "start_time": "2021-12-28T13:43:57.074Z"
   },
   {
    "duration": 26,
    "start_time": "2021-12-28T13:43:57.489Z"
   },
   {
    "duration": 5,
    "start_time": "2021-12-28T13:43:57.887Z"
   },
   {
    "duration": 30,
    "start_time": "2021-12-28T13:43:58.282Z"
   },
   {
    "duration": 9,
    "start_time": "2021-12-28T13:43:58.890Z"
   },
   {
    "duration": 30,
    "start_time": "2021-12-28T13:43:59.280Z"
   },
   {
    "duration": 88,
    "start_time": "2021-12-28T13:43:59.706Z"
   },
   {
    "duration": 88,
    "start_time": "2021-12-28T13:44:00.109Z"
   },
   {
    "duration": 89,
    "start_time": "2021-12-28T13:44:00.521Z"
   },
   {
    "duration": 16,
    "start_time": "2021-12-28T13:44:01.129Z"
   },
   {
    "duration": 5,
    "start_time": "2021-12-28T13:44:01.550Z"
   },
   {
    "duration": 15,
    "start_time": "2021-12-28T13:44:01.963Z"
   },
   {
    "duration": 14,
    "start_time": "2021-12-28T13:44:02.374Z"
   },
   {
    "duration": 45,
    "start_time": "2021-12-28T13:44:03.586Z"
   },
   {
    "duration": 42,
    "start_time": "2021-12-28T13:44:03.996Z"
   },
   {
    "duration": 5,
    "start_time": "2021-12-28T13:44:04.592Z"
   },
   {
    "duration": 20,
    "start_time": "2021-12-28T13:44:05.021Z"
   },
   {
    "duration": 19,
    "start_time": "2021-12-28T13:44:05.219Z"
   },
   {
    "duration": 19,
    "start_time": "2021-12-28T13:44:05.427Z"
   },
   {
    "duration": 20,
    "start_time": "2021-12-28T13:44:05.640Z"
   },
   {
    "duration": 28,
    "start_time": "2021-12-28T13:44:05.847Z"
   },
   {
    "duration": 22,
    "start_time": "2021-12-28T13:44:06.053Z"
   },
   {
    "duration": 6,
    "start_time": "2021-12-28T13:44:06.464Z"
   },
   {
    "duration": 16,
    "start_time": "2021-12-28T13:44:07.516Z"
   },
   {
    "duration": 14,
    "start_time": "2021-12-28T13:44:07.716Z"
   },
   {
    "duration": 5,
    "start_time": "2021-12-28T13:44:08.127Z"
   },
   {
    "duration": 34,
    "start_time": "2021-12-28T13:44:08.536Z"
   },
   {
    "duration": 31,
    "start_time": "2021-12-28T13:44:08.735Z"
   },
   {
    "duration": 32,
    "start_time": "2021-12-28T13:44:08.944Z"
   },
   {
    "duration": 30,
    "start_time": "2021-12-28T13:44:09.166Z"
   },
   {
    "duration": 32,
    "start_time": "2021-12-28T13:44:09.969Z"
   },
   {
    "duration": 14,
    "start_time": "2021-12-28T13:44:10.389Z"
   },
   {
    "duration": 18,
    "start_time": "2021-12-28T13:44:10.817Z"
   },
   {
    "duration": 12,
    "start_time": "2021-12-28T13:44:11.245Z"
   },
   {
    "duration": 12,
    "start_time": "2021-12-28T13:46:21.673Z"
   },
   {
    "duration": 23,
    "start_time": "2021-12-28T13:46:29.840Z"
   },
   {
    "duration": 6,
    "start_time": "2021-12-28T13:46:47.390Z"
   },
   {
    "duration": 25,
    "start_time": "2021-12-28T13:46:50.227Z"
   },
   {
    "duration": 21,
    "start_time": "2021-12-28T13:46:52.352Z"
   },
   {
    "duration": 7,
    "start_time": "2021-12-28T13:46:55.168Z"
   },
   {
    "duration": 45,
    "start_time": "2021-12-28T13:46:56.962Z"
   },
   {
    "duration": 27,
    "start_time": "2021-12-28T13:47:04.182Z"
   },
   {
    "duration": 30,
    "start_time": "2021-12-28T13:47:12.237Z"
   },
   {
    "duration": 5,
    "start_time": "2021-12-28T20:37:05.926Z"
   },
   {
    "duration": 25,
    "start_time": "2021-12-28T20:37:08.597Z"
   },
   {
    "duration": 19,
    "start_time": "2021-12-28T20:37:11.993Z"
   },
   {
    "duration": 28,
    "start_time": "2021-12-28T20:37:14.480Z"
   },
   {
    "duration": 19,
    "start_time": "2021-12-28T20:37:16.921Z"
   },
   {
    "duration": 847,
    "start_time": "2021-12-28T20:37:33.741Z"
   },
   {
    "duration": 214,
    "start_time": "2021-12-28T20:37:35.711Z"
   },
   {
    "duration": 27,
    "start_time": "2021-12-28T20:37:36.079Z"
   },
   {
    "duration": 36,
    "start_time": "2021-12-28T20:37:36.427Z"
   },
   {
    "duration": 7,
    "start_time": "2021-12-28T20:37:37.312Z"
   },
   {
    "duration": 26,
    "start_time": "2021-12-28T20:37:37.684Z"
   },
   {
    "duration": 9,
    "start_time": "2021-12-28T20:37:38.059Z"
   },
   {
    "duration": 38,
    "start_time": "2021-12-28T20:37:38.444Z"
   },
   {
    "duration": 9,
    "start_time": "2021-12-28T20:37:39.002Z"
   },
   {
    "duration": 31,
    "start_time": "2021-12-28T20:37:39.385Z"
   },
   {
    "duration": 102,
    "start_time": "2021-12-28T20:37:39.782Z"
   },
   {
    "duration": 92,
    "start_time": "2021-12-28T20:37:40.183Z"
   },
   {
    "duration": 78,
    "start_time": "2021-12-28T20:37:40.586Z"
   },
   {
    "duration": 14,
    "start_time": "2021-12-28T20:37:41.178Z"
   },
   {
    "duration": 4,
    "start_time": "2021-12-28T20:37:41.559Z"
   },
   {
    "duration": 20,
    "start_time": "2021-12-28T20:37:41.959Z"
   },
   {
    "duration": 14,
    "start_time": "2021-12-28T20:37:42.342Z"
   },
   {
    "duration": 48,
    "start_time": "2021-12-28T20:37:43.519Z"
   },
   {
    "duration": 48,
    "start_time": "2021-12-28T20:37:43.918Z"
   },
   {
    "duration": 5,
    "start_time": "2021-12-28T20:37:45.096Z"
   },
   {
    "duration": 30,
    "start_time": "2021-12-28T20:37:45.609Z"
   },
   {
    "duration": 20,
    "start_time": "2021-12-28T20:37:45.823Z"
   },
   {
    "duration": 21,
    "start_time": "2021-12-28T20:37:46.090Z"
   },
   {
    "duration": 20,
    "start_time": "2021-12-28T20:37:46.324Z"
   },
   {
    "duration": 30,
    "start_time": "2021-12-28T20:37:46.553Z"
   },
   {
    "duration": 20,
    "start_time": "2021-12-28T20:37:46.804Z"
   },
   {
    "duration": 6,
    "start_time": "2021-12-28T20:37:47.293Z"
   },
   {
    "duration": 16,
    "start_time": "2021-12-28T20:37:48.420Z"
   },
   {
    "duration": 12,
    "start_time": "2021-12-28T20:37:48.633Z"
   },
   {
    "duration": 6,
    "start_time": "2021-12-28T20:37:49.181Z"
   },
   {
    "duration": 24,
    "start_time": "2021-12-28T20:37:50.113Z"
   },
   {
    "duration": 21,
    "start_time": "2021-12-28T20:37:50.334Z"
   },
   {
    "duration": 32,
    "start_time": "2021-12-28T20:37:50.629Z"
   },
   {
    "duration": 20,
    "start_time": "2021-12-28T20:37:50.992Z"
   },
   {
    "duration": 30,
    "start_time": "2021-12-28T20:37:53.203Z"
   },
   {
    "duration": 13,
    "start_time": "2021-12-28T20:37:54.432Z"
   },
   {
    "duration": 17,
    "start_time": "2021-12-28T20:37:55.537Z"
   },
   {
    "duration": 13,
    "start_time": "2021-12-28T20:37:56.742Z"
   },
   {
    "duration": 99,
    "start_time": "2021-12-29T18:50:49.808Z"
   },
   {
    "duration": 767,
    "start_time": "2021-12-29T19:05:28.230Z"
   },
   {
    "duration": 186,
    "start_time": "2021-12-29T19:05:28.999Z"
   },
   {
    "duration": 24,
    "start_time": "2021-12-29T19:05:29.188Z"
   },
   {
    "duration": 48,
    "start_time": "2021-12-29T19:05:29.215Z"
   },
   {
    "duration": 6,
    "start_time": "2021-12-29T19:05:29.266Z"
   },
   {
    "duration": 25,
    "start_time": "2021-12-29T19:05:29.274Z"
   },
   {
    "duration": 8,
    "start_time": "2021-12-29T19:05:29.301Z"
   },
   {
    "duration": 64,
    "start_time": "2021-12-29T19:05:29.311Z"
   },
   {
    "duration": 9,
    "start_time": "2021-12-29T19:05:29.380Z"
   },
   {
    "duration": 33,
    "start_time": "2021-12-29T19:05:29.392Z"
   },
   {
    "duration": 111,
    "start_time": "2021-12-29T19:05:29.427Z"
   },
   {
    "duration": 99,
    "start_time": "2021-12-29T19:05:29.540Z"
   },
   {
    "duration": 84,
    "start_time": "2021-12-29T19:05:29.641Z"
   },
   {
    "duration": 15,
    "start_time": "2021-12-29T19:05:29.727Z"
   },
   {
    "duration": 4,
    "start_time": "2021-12-29T19:05:29.760Z"
   },
   {
    "duration": 18,
    "start_time": "2021-12-29T19:05:29.767Z"
   },
   {
    "duration": 17,
    "start_time": "2021-12-29T19:05:29.788Z"
   },
   {
    "duration": 75,
    "start_time": "2021-12-29T19:05:29.808Z"
   },
   {
    "duration": 44,
    "start_time": "2021-12-29T19:05:29.885Z"
   },
   {
    "duration": 5,
    "start_time": "2021-12-29T19:05:29.931Z"
   },
   {
    "duration": 23,
    "start_time": "2021-12-29T19:05:29.961Z"
   },
   {
    "duration": 20,
    "start_time": "2021-12-29T19:05:29.987Z"
   },
   {
    "duration": 50,
    "start_time": "2021-12-29T19:05:30.010Z"
   },
   {
    "duration": 21,
    "start_time": "2021-12-29T19:05:30.062Z"
   },
   {
    "duration": 22,
    "start_time": "2021-12-29T19:05:30.087Z"
   },
   {
    "duration": 56,
    "start_time": "2021-12-29T19:05:30.112Z"
   },
   {
    "duration": 5,
    "start_time": "2021-12-29T19:05:30.173Z"
   },
   {
    "duration": 25,
    "start_time": "2021-12-29T19:05:30.181Z"
   },
   {
    "duration": 12,
    "start_time": "2021-12-29T19:05:30.208Z"
   },
   {
    "duration": 7,
    "start_time": "2021-12-29T19:05:30.223Z"
   },
   {
    "duration": 51,
    "start_time": "2021-12-29T19:05:30.232Z"
   },
   {
    "duration": 23,
    "start_time": "2021-12-29T19:05:30.285Z"
   },
   {
    "duration": 50,
    "start_time": "2021-12-29T19:05:30.311Z"
   },
   {
    "duration": 19,
    "start_time": "2021-12-29T19:05:30.363Z"
   },
   {
    "duration": 35,
    "start_time": "2021-12-29T19:05:30.384Z"
   },
   {
    "duration": 41,
    "start_time": "2021-12-29T19:05:30.421Z"
   },
   {
    "duration": 23,
    "start_time": "2021-12-29T19:05:30.465Z"
   },
   {
    "duration": 14,
    "start_time": "2021-12-29T19:05:30.490Z"
   },
   {
    "duration": 666,
    "start_time": "2021-12-29T19:29:25.914Z"
   },
   {
    "duration": 832,
    "start_time": "2021-12-29T19:34:55.990Z"
   },
   {
    "duration": 184,
    "start_time": "2021-12-29T19:34:59.648Z"
   },
   {
    "duration": 27,
    "start_time": "2021-12-29T19:35:02.779Z"
   },
   {
    "duration": 32,
    "start_time": "2021-12-29T19:35:08.118Z"
   },
   {
    "duration": 7,
    "start_time": "2021-12-29T19:35:14.253Z"
   },
   {
    "duration": 25,
    "start_time": "2021-12-29T19:35:17.299Z"
   },
   {
    "duration": 5,
    "start_time": "2021-12-29T19:35:18.784Z"
   },
   {
    "duration": 32,
    "start_time": "2021-12-29T19:35:21.372Z"
   },
   {
    "duration": 20,
    "start_time": "2021-12-29T19:35:35.440Z"
   },
   {
    "duration": 31,
    "start_time": "2021-12-29T19:35:38.906Z"
   },
   {
    "duration": 28,
    "start_time": "2021-12-29T19:45:24.489Z"
   },
   {
    "duration": 30,
    "start_time": "2021-12-29T19:45:26.872Z"
   },
   {
    "duration": 136,
    "start_time": "2021-12-29T19:47:31.143Z"
   },
   {
    "duration": 32,
    "start_time": "2021-12-29T19:47:32.859Z"
   },
   {
    "duration": 66,
    "start_time": "2021-12-29T19:48:54.602Z"
   },
   {
    "duration": 61,
    "start_time": "2021-12-29T19:49:18.599Z"
   },
   {
    "duration": 61,
    "start_time": "2021-12-29T19:49:33.005Z"
   },
   {
    "duration": 4,
    "start_time": "2021-12-29T19:49:46.795Z"
   },
   {
    "duration": 15,
    "start_time": "2021-12-29T19:49:51.082Z"
   },
   {
    "duration": 89,
    "start_time": "2021-12-29T19:49:52.642Z"
   },
   {
    "duration": 145,
    "start_time": "2021-12-29T19:50:22.156Z"
   },
   {
    "duration": 47,
    "start_time": "2021-12-29T19:50:31.582Z"
   },
   {
    "duration": 208,
    "start_time": "2021-12-29T19:51:18.849Z"
   },
   {
    "duration": 17,
    "start_time": "2021-12-29T19:51:25.715Z"
   },
   {
    "duration": 17,
    "start_time": "2021-12-29T19:51:39.905Z"
   },
   {
    "duration": 5,
    "start_time": "2021-12-29T19:52:35.640Z"
   },
   {
    "duration": 31,
    "start_time": "2021-12-29T19:52:38.084Z"
   },
   {
    "duration": 19,
    "start_time": "2021-12-29T19:52:40.726Z"
   },
   {
    "duration": 19,
    "start_time": "2021-12-29T19:52:41.391Z"
   },
   {
    "duration": 19,
    "start_time": "2021-12-29T19:52:41.994Z"
   },
   {
    "duration": 22,
    "start_time": "2021-12-29T19:52:42.503Z"
   },
   {
    "duration": 20,
    "start_time": "2021-12-29T19:52:43.048Z"
   },
   {
    "duration": 6,
    "start_time": "2021-12-29T19:52:46.872Z"
   },
   {
    "duration": 12,
    "start_time": "2021-12-29T19:53:20.505Z"
   },
   {
    "duration": 13,
    "start_time": "2021-12-29T19:54:22.561Z"
   },
   {
    "duration": 17,
    "start_time": "2021-12-29T19:54:30.937Z"
   },
   {
    "duration": 13,
    "start_time": "2021-12-29T19:54:33.245Z"
   },
   {
    "duration": 6,
    "start_time": "2021-12-29T19:54:35.373Z"
   },
   {
    "duration": 5,
    "start_time": "2021-12-29T19:54:59.138Z"
   },
   {
    "duration": 26,
    "start_time": "2021-12-29T19:55:08.079Z"
   },
   {
    "duration": 19,
    "start_time": "2021-12-29T19:55:10.968Z"
   },
   {
    "duration": 25,
    "start_time": "2021-12-29T19:55:12.003Z"
   },
   {
    "duration": 19,
    "start_time": "2021-12-29T19:55:13.239Z"
   },
   {
    "duration": 700,
    "start_time": "2021-12-29T19:55:41.826Z"
   },
   {
    "duration": 404,
    "start_time": "2021-12-29T19:56:08.962Z"
   },
   {
    "duration": 504,
    "start_time": "2021-12-29T19:56:31.443Z"
   },
   {
    "duration": 14,
    "start_time": "2021-12-29T19:57:01.692Z"
   },
   {
    "duration": 6,
    "start_time": "2021-12-29T19:57:07.127Z"
   },
   {
    "duration": 10,
    "start_time": "2021-12-29T19:57:30.258Z"
   },
   {
    "duration": 7,
    "start_time": "2021-12-29T19:57:32.610Z"
   },
   {
    "duration": 826,
    "start_time": "2021-12-29T19:59:14.727Z"
   },
   {
    "duration": 228,
    "start_time": "2021-12-29T19:59:15.557Z"
   },
   {
    "duration": 25,
    "start_time": "2021-12-29T19:59:15.888Z"
   },
   {
    "duration": 31,
    "start_time": "2021-12-29T19:59:16.665Z"
   },
   {
    "duration": 5,
    "start_time": "2021-12-29T19:59:18.010Z"
   },
   {
    "duration": 24,
    "start_time": "2021-12-29T19:59:18.589Z"
   },
   {
    "duration": 6,
    "start_time": "2021-12-29T19:59:19.166Z"
   },
   {
    "duration": 30,
    "start_time": "2021-12-29T19:59:19.801Z"
   },
   {
    "duration": 55,
    "start_time": "2021-12-29T19:59:20.572Z"
   },
   {
    "duration": 29,
    "start_time": "2021-12-29T19:59:21.233Z"
   },
   {
    "duration": 81,
    "start_time": "2021-12-29T19:59:21.559Z"
   },
   {
    "duration": 88,
    "start_time": "2021-12-29T19:59:22.167Z"
   },
   {
    "duration": 78,
    "start_time": "2021-12-29T19:59:22.769Z"
   },
   {
    "duration": 67,
    "start_time": "2021-12-29T19:59:23.375Z"
   },
   {
    "duration": 5,
    "start_time": "2021-12-29T19:59:24.013Z"
   },
   {
    "duration": 14,
    "start_time": "2021-12-29T19:59:24.604Z"
   },
   {
    "duration": 57,
    "start_time": "2021-12-29T19:59:25.013Z"
   },
   {
    "duration": 15,
    "start_time": "2021-12-29T19:59:26.433Z"
   },
   {
    "duration": 15,
    "start_time": "2021-12-29T19:59:27.042Z"
   },
   {
    "duration": 5,
    "start_time": "2021-12-29T19:59:27.875Z"
   },
   {
    "duration": 25,
    "start_time": "2021-12-29T19:59:28.487Z"
   },
   {
    "duration": 18,
    "start_time": "2021-12-29T19:59:28.699Z"
   },
   {
    "duration": 20,
    "start_time": "2021-12-29T19:59:28.898Z"
   },
   {
    "duration": 19,
    "start_time": "2021-12-29T19:59:29.099Z"
   },
   {
    "duration": 22,
    "start_time": "2021-12-29T19:59:29.295Z"
   },
   {
    "duration": 19,
    "start_time": "2021-12-29T19:59:29.522Z"
   },
   {
    "duration": 11,
    "start_time": "2021-12-29T19:59:29.935Z"
   },
   {
    "duration": 16,
    "start_time": "2021-12-29T19:59:31.425Z"
   },
   {
    "duration": 13,
    "start_time": "2021-12-29T19:59:31.643Z"
   },
   {
    "duration": 6,
    "start_time": "2021-12-29T19:59:32.245Z"
   },
   {
    "duration": 24,
    "start_time": "2021-12-29T19:59:32.858Z"
   },
   {
    "duration": 19,
    "start_time": "2021-12-29T19:59:33.066Z"
   },
   {
    "duration": 24,
    "start_time": "2021-12-29T19:59:33.268Z"
   },
   {
    "duration": 19,
    "start_time": "2021-12-29T19:59:33.479Z"
   },
   {
    "duration": 37,
    "start_time": "2021-12-29T19:59:34.551Z"
   },
   {
    "duration": 6,
    "start_time": "2021-12-29T19:59:35.199Z"
   },
   {
    "duration": 10,
    "start_time": "2021-12-29T19:59:35.880Z"
   },
   {
    "duration": 7,
    "start_time": "2021-12-29T19:59:36.441Z"
   },
   {
    "duration": 4,
    "start_time": "2021-12-29T20:12:17.380Z"
   },
   {
    "duration": 191,
    "start_time": "2021-12-29T20:12:18.149Z"
   },
   {
    "duration": 17,
    "start_time": "2021-12-29T20:12:18.473Z"
   },
   {
    "duration": 33,
    "start_time": "2021-12-29T20:12:19.242Z"
   },
   {
    "duration": 6,
    "start_time": "2021-12-29T20:12:20.556Z"
   },
   {
    "duration": 21,
    "start_time": "2021-12-29T20:12:21.116Z"
   },
   {
    "duration": 7,
    "start_time": "2021-12-29T20:12:21.682Z"
   },
   {
    "duration": 31,
    "start_time": "2021-12-29T20:12:22.256Z"
   },
   {
    "duration": 57,
    "start_time": "2021-12-29T20:12:23.606Z"
   },
   {
    "duration": 31,
    "start_time": "2021-12-29T20:12:29.171Z"
   },
   {
    "duration": 97,
    "start_time": "2021-12-29T20:12:30.365Z"
   },
   {
    "duration": 110,
    "start_time": "2021-12-29T20:12:31.349Z"
   },
   {
    "duration": 74,
    "start_time": "2021-12-29T20:12:32.150Z"
   },
   {
    "duration": 57,
    "start_time": "2021-12-29T20:12:33.130Z"
   },
   {
    "duration": 4,
    "start_time": "2021-12-29T20:12:33.762Z"
   },
   {
    "duration": 20,
    "start_time": "2021-12-29T20:12:34.409Z"
   },
   {
    "duration": 92,
    "start_time": "2021-12-29T20:12:34.816Z"
   },
   {
    "duration": 15,
    "start_time": "2021-12-29T20:12:36.269Z"
   },
   {
    "duration": 15,
    "start_time": "2021-12-29T20:12:36.918Z"
   },
   {
    "duration": 5,
    "start_time": "2021-12-29T20:12:37.837Z"
   },
   {
    "duration": 21,
    "start_time": "2021-12-29T20:12:38.734Z"
   },
   {
    "duration": 19,
    "start_time": "2021-12-29T20:12:39.125Z"
   },
   {
    "duration": 19,
    "start_time": "2021-12-29T20:12:39.498Z"
   },
   {
    "duration": 19,
    "start_time": "2021-12-29T20:12:39.918Z"
   },
   {
    "duration": 21,
    "start_time": "2021-12-29T20:12:40.270Z"
   },
   {
    "duration": 21,
    "start_time": "2021-12-29T20:12:40.771Z"
   },
   {
    "duration": 13,
    "start_time": "2021-12-29T20:12:46.591Z"
   },
   {
    "duration": 23,
    "start_time": "2021-12-29T20:12:48.771Z"
   },
   {
    "duration": 16,
    "start_time": "2021-12-29T20:12:49.018Z"
   },
   {
    "duration": 6,
    "start_time": "2021-12-29T20:12:50.236Z"
   },
   {
    "duration": 26,
    "start_time": "2021-12-29T20:12:51.408Z"
   },
   {
    "duration": 18,
    "start_time": "2021-12-29T20:12:51.789Z"
   },
   {
    "duration": 24,
    "start_time": "2021-12-29T20:12:52.270Z"
   },
   {
    "duration": 21,
    "start_time": "2021-12-29T20:12:54.464Z"
   },
   {
    "duration": 13,
    "start_time": "2021-12-29T20:12:57.247Z"
   },
   {
    "duration": 8,
    "start_time": "2021-12-29T20:12:58.638Z"
   },
   {
    "duration": 10,
    "start_time": "2021-12-29T20:12:59.995Z"
   },
   {
    "duration": 7,
    "start_time": "2021-12-29T20:13:01.077Z"
   },
   {
    "duration": 287,
    "start_time": "2021-12-30T02:56:15.892Z"
   },
   {
    "duration": 564,
    "start_time": "2021-12-30T02:56:38.560Z"
   },
   {
    "duration": 126,
    "start_time": "2021-12-30T02:56:39.125Z"
   },
   {
    "duration": 15,
    "start_time": "2021-12-30T02:56:39.253Z"
   },
   {
    "duration": 27,
    "start_time": "2021-12-30T02:56:39.269Z"
   },
   {
    "duration": 5,
    "start_time": "2021-12-30T02:56:39.297Z"
   },
   {
    "duration": 23,
    "start_time": "2021-12-30T02:56:39.303Z"
   },
   {
    "duration": 13,
    "start_time": "2021-12-30T02:56:39.328Z"
   },
   {
    "duration": 19,
    "start_time": "2021-12-30T02:56:39.344Z"
   },
   {
    "duration": 37,
    "start_time": "2021-12-30T02:56:39.365Z"
   },
   {
    "duration": 19,
    "start_time": "2021-12-30T02:56:39.404Z"
   },
   {
    "duration": 51,
    "start_time": "2021-12-30T02:56:39.441Z"
   },
   {
    "duration": 69,
    "start_time": "2021-12-30T02:56:39.494Z"
   },
   {
    "duration": 48,
    "start_time": "2021-12-30T02:56:39.564Z"
   },
   {
    "duration": 45,
    "start_time": "2021-12-30T02:56:39.613Z"
   },
   {
    "duration": 35,
    "start_time": "2021-12-30T02:56:39.660Z"
   },
   {
    "duration": 3,
    "start_time": "2021-12-30T02:56:39.696Z"
   },
   {
    "duration": 14,
    "start_time": "2021-12-30T02:56:39.701Z"
   },
   {
    "duration": 53,
    "start_time": "2021-12-30T02:56:39.716Z"
   },
   {
    "duration": 10,
    "start_time": "2021-12-30T02:56:39.771Z"
   },
   {
    "duration": 10,
    "start_time": "2021-12-30T02:56:39.782Z"
   },
   {
    "duration": 3,
    "start_time": "2021-12-30T02:56:39.794Z"
   },
   {
    "duration": 43,
    "start_time": "2021-12-30T02:56:39.798Z"
   },
   {
    "duration": 14,
    "start_time": "2021-12-30T02:56:39.844Z"
   },
   {
    "duration": 14,
    "start_time": "2021-12-30T02:56:39.860Z"
   },
   {
    "duration": 12,
    "start_time": "2021-12-30T02:56:39.875Z"
   },
   {
    "duration": 19,
    "start_time": "2021-12-30T02:56:39.889Z"
   },
   {
    "duration": 45,
    "start_time": "2021-12-30T02:56:39.910Z"
   },
   {
    "duration": 9,
    "start_time": "2021-12-30T02:56:39.957Z"
   },
   {
    "duration": 18,
    "start_time": "2021-12-30T02:56:39.968Z"
   },
   {
    "duration": 13,
    "start_time": "2021-12-30T02:56:39.988Z"
   },
   {
    "duration": 5,
    "start_time": "2021-12-30T02:56:40.003Z"
   },
   {
    "duration": 43,
    "start_time": "2021-12-30T02:56:40.009Z"
   },
   {
    "duration": 13,
    "start_time": "2021-12-30T02:56:40.054Z"
   },
   {
    "duration": 17,
    "start_time": "2021-12-30T02:56:40.069Z"
   },
   {
    "duration": 19,
    "start_time": "2021-12-30T02:56:40.087Z"
   },
   {
    "duration": 11,
    "start_time": "2021-12-30T02:56:40.107Z"
   },
   {
    "duration": 22,
    "start_time": "2021-12-30T02:56:40.119Z"
   },
   {
    "duration": 6,
    "start_time": "2021-12-30T02:56:40.143Z"
   },
   {
    "duration": 7,
    "start_time": "2021-12-30T02:56:40.150Z"
   },
   {
    "duration": 77,
    "start_time": "2021-12-30T03:01:05.862Z"
   },
   {
    "duration": 545,
    "start_time": "2021-12-30T03:05:54.256Z"
   },
   {
    "duration": 126,
    "start_time": "2021-12-30T03:05:54.803Z"
   },
   {
    "duration": 15,
    "start_time": "2021-12-30T03:05:54.931Z"
   },
   {
    "duration": 22,
    "start_time": "2021-12-30T03:05:54.947Z"
   },
   {
    "duration": 4,
    "start_time": "2021-12-30T03:05:54.970Z"
   },
   {
    "duration": 19,
    "start_time": "2021-12-30T03:05:54.976Z"
   },
   {
    "duration": 3,
    "start_time": "2021-12-30T03:05:54.997Z"
   },
   {
    "duration": 43,
    "start_time": "2021-12-30T03:05:55.002Z"
   },
   {
    "duration": 35,
    "start_time": "2021-12-30T03:05:55.047Z"
   },
   {
    "duration": 18,
    "start_time": "2021-12-30T03:05:55.084Z"
   },
   {
    "duration": 71,
    "start_time": "2021-12-30T03:05:55.103Z"
   },
   {
    "duration": 57,
    "start_time": "2021-12-30T03:05:55.176Z"
   },
   {
    "duration": 51,
    "start_time": "2021-12-30T03:05:55.240Z"
   },
   {
    "duration": 49,
    "start_time": "2021-12-30T03:05:55.293Z"
   },
   {
    "duration": 3,
    "start_time": "2021-12-30T03:05:55.343Z"
   },
   {
    "duration": 12,
    "start_time": "2021-12-30T03:05:55.347Z"
   },
   {
    "duration": 38,
    "start_time": "2021-12-30T03:05:55.361Z"
   },
   {
    "duration": 10,
    "start_time": "2021-12-30T03:05:55.400Z"
   },
   {
    "duration": 31,
    "start_time": "2021-12-30T03:05:55.411Z"
   },
   {
    "duration": 3,
    "start_time": "2021-12-30T03:05:55.443Z"
   },
   {
    "duration": 23,
    "start_time": "2021-12-30T03:05:55.448Z"
   },
   {
    "duration": 15,
    "start_time": "2021-12-30T03:05:55.472Z"
   },
   {
    "duration": 15,
    "start_time": "2021-12-30T03:05:55.490Z"
   },
   {
    "duration": 38,
    "start_time": "2021-12-30T03:05:55.507Z"
   },
   {
    "duration": 16,
    "start_time": "2021-12-30T03:05:55.547Z"
   },
   {
    "duration": 13,
    "start_time": "2021-12-30T03:05:55.565Z"
   },
   {
    "duration": 7,
    "start_time": "2021-12-30T03:05:55.580Z"
   },
   {
    "duration": 11,
    "start_time": "2021-12-30T03:05:55.588Z"
   },
   {
    "duration": 9,
    "start_time": "2021-12-30T03:05:55.600Z"
   },
   {
    "duration": 33,
    "start_time": "2021-12-30T03:05:55.610Z"
   },
   {
    "duration": 20,
    "start_time": "2021-12-30T03:05:55.644Z"
   },
   {
    "duration": 17,
    "start_time": "2021-12-30T03:05:55.666Z"
   },
   {
    "duration": 16,
    "start_time": "2021-12-30T03:05:55.685Z"
   },
   {
    "duration": 13,
    "start_time": "2021-12-30T03:05:55.703Z"
   },
   {
    "duration": 28,
    "start_time": "2021-12-30T03:05:55.717Z"
   },
   {
    "duration": 5,
    "start_time": "2021-12-30T03:05:55.746Z"
   },
   {
    "duration": 10,
    "start_time": "2021-12-30T03:05:55.753Z"
   },
   {
    "duration": 9,
    "start_time": "2021-12-30T03:05:55.764Z"
   },
   {
    "duration": 738,
    "start_time": "2021-12-30T05:12:12.522Z"
   },
   {
    "duration": 161,
    "start_time": "2021-12-30T05:12:13.262Z"
   },
   {
    "duration": 15,
    "start_time": "2021-12-30T05:12:13.659Z"
   },
   {
    "duration": 22,
    "start_time": "2021-12-30T05:12:14.656Z"
   },
   {
    "duration": 3,
    "start_time": "2021-12-30T05:12:16.070Z"
   },
   {
    "duration": 19,
    "start_time": "2021-12-30T05:12:16.848Z"
   },
   {
    "duration": 3,
    "start_time": "2021-12-30T05:12:17.424Z"
   },
   {
    "duration": 21,
    "start_time": "2021-12-30T05:12:18.208Z"
   },
   {
    "duration": 16,
    "start_time": "2021-12-30T05:12:19.049Z"
   },
   {
    "duration": 21,
    "start_time": "2021-12-30T05:12:19.846Z"
   },
   {
    "duration": 76,
    "start_time": "2021-12-30T05:12:20.261Z"
   },
   {
    "duration": 61,
    "start_time": "2021-12-30T05:12:20.886Z"
   },
   {
    "duration": 51,
    "start_time": "2021-12-30T05:12:21.506Z"
   },
   {
    "duration": 38,
    "start_time": "2021-12-30T05:12:22.213Z"
   },
   {
    "duration": 3,
    "start_time": "2021-12-30T05:12:23.034Z"
   },
   {
    "duration": 11,
    "start_time": "2021-12-30T05:12:23.716Z"
   },
   {
    "duration": 48,
    "start_time": "2021-12-30T05:12:24.127Z"
   },
   {
    "duration": 10,
    "start_time": "2021-12-30T05:12:25.870Z"
   },
   {
    "duration": 11,
    "start_time": "2021-12-30T05:12:26.746Z"
   },
   {
    "duration": 3,
    "start_time": "2021-12-30T05:12:27.850Z"
   },
   {
    "duration": 17,
    "start_time": "2021-12-30T05:12:28.726Z"
   },
   {
    "duration": 14,
    "start_time": "2021-12-30T05:12:28.941Z"
   },
   {
    "duration": 17,
    "start_time": "2021-12-30T05:12:29.169Z"
   },
   {
    "duration": 14,
    "start_time": "2021-12-30T05:12:29.393Z"
   },
   {
    "duration": 19,
    "start_time": "2021-12-30T05:12:29.697Z"
   },
   {
    "duration": 15,
    "start_time": "2021-12-30T05:12:33.149Z"
   },
   {
    "duration": 8,
    "start_time": "2021-12-30T05:12:33.166Z"
   },
   {
    "duration": 11,
    "start_time": "2021-12-30T05:12:33.176Z"
   },
   {
    "duration": 8,
    "start_time": "2021-12-30T05:12:33.191Z"
   },
   {
    "duration": 4,
    "start_time": "2021-12-30T05:12:33.201Z"
   },
   {
    "duration": 20,
    "start_time": "2021-12-30T05:12:34.102Z"
   },
   {
    "duration": 13,
    "start_time": "2021-12-30T05:12:34.336Z"
   },
   {
    "duration": 18,
    "start_time": "2021-12-30T05:12:34.735Z"
   },
   {
    "duration": 19,
    "start_time": "2021-12-30T05:12:35.005Z"
   },
   {
    "duration": 11,
    "start_time": "2021-12-30T05:12:36.221Z"
   },
   {
    "duration": 5,
    "start_time": "2021-12-30T05:12:37.200Z"
   },
   {
    "duration": 7,
    "start_time": "2021-12-30T05:12:37.743Z"
   },
   {
    "duration": 5,
    "start_time": "2021-12-30T05:12:38.250Z"
   },
   {
    "duration": 9,
    "start_time": "2021-12-30T05:16:01.886Z"
   },
   {
    "duration": 137,
    "start_time": "2021-12-30T05:17:30.776Z"
   },
   {
    "duration": 86,
    "start_time": "2021-12-30T05:17:45.373Z"
   },
   {
    "duration": 81,
    "start_time": "2021-12-30T05:18:18.608Z"
   },
   {
    "duration": 61,
    "start_time": "2021-12-30T07:51:51.635Z"
   },
   {
    "duration": 58,
    "start_time": "2021-12-30T07:54:27.922Z"
   },
   {
    "duration": 99,
    "start_time": "2021-12-30T07:55:17.894Z"
   },
   {
    "duration": 62,
    "start_time": "2021-12-30T08:02:39.898Z"
   },
   {
    "duration": 583,
    "start_time": "2021-12-30T08:04:58.861Z"
   },
   {
    "duration": 132,
    "start_time": "2021-12-30T08:04:59.492Z"
   },
   {
    "duration": 17,
    "start_time": "2021-12-30T08:05:00.141Z"
   },
   {
    "duration": 25,
    "start_time": "2021-12-30T08:05:01.204Z"
   },
   {
    "duration": 4,
    "start_time": "2021-12-30T08:05:02.525Z"
   },
   {
    "duration": 21,
    "start_time": "2021-12-30T08:05:03.284Z"
   },
   {
    "duration": 4,
    "start_time": "2021-12-30T08:05:03.845Z"
   },
   {
    "duration": 24,
    "start_time": "2021-12-30T08:05:04.589Z"
   },
   {
    "duration": 18,
    "start_time": "2021-12-30T08:05:05.356Z"
   },
   {
    "duration": 23,
    "start_time": "2021-12-30T08:05:06.121Z"
   },
   {
    "duration": 57,
    "start_time": "2021-12-30T08:05:06.513Z"
   },
   {
    "duration": 64,
    "start_time": "2021-12-30T08:05:07.101Z"
   },
   {
    "duration": 57,
    "start_time": "2021-12-30T08:05:07.700Z"
   },
   {
    "duration": 39,
    "start_time": "2021-12-30T08:05:08.291Z"
   },
   {
    "duration": 4,
    "start_time": "2021-12-30T08:05:09.364Z"
   },
   {
    "duration": 11,
    "start_time": "2021-12-30T08:05:10.005Z"
   },
   {
    "duration": 40,
    "start_time": "2021-12-30T08:05:10.388Z"
   },
   {
    "duration": 12,
    "start_time": "2021-12-30T08:05:12.132Z"
   },
   {
    "duration": 11,
    "start_time": "2021-12-30T08:05:13.037Z"
   },
   {
    "duration": 4,
    "start_time": "2021-12-30T08:05:14.108Z"
   },
   {
    "duration": 17,
    "start_time": "2021-12-30T08:05:15.068Z"
   },
   {
    "duration": 15,
    "start_time": "2021-12-30T08:05:15.348Z"
   },
   {
    "duration": 14,
    "start_time": "2021-12-30T08:05:15.637Z"
   },
   {
    "duration": 15,
    "start_time": "2021-12-30T08:05:15.898Z"
   },
   {
    "duration": 17,
    "start_time": "2021-12-30T08:05:16.148Z"
   },
   {
    "duration": 14,
    "start_time": "2021-12-30T08:05:16.581Z"
   },
   {
    "duration": 9,
    "start_time": "2021-12-30T08:05:17.324Z"
   },
   {
    "duration": 15,
    "start_time": "2021-12-30T08:05:22.228Z"
   },
   {
    "duration": 10,
    "start_time": "2021-12-30T08:05:22.657Z"
   },
   {
    "duration": 4,
    "start_time": "2021-12-30T08:05:23.660Z"
   },
   {
    "duration": 19,
    "start_time": "2021-12-30T08:05:25.107Z"
   },
   {
    "duration": 14,
    "start_time": "2021-12-30T08:05:25.404Z"
   },
   {
    "duration": 20,
    "start_time": "2021-12-30T08:05:25.700Z"
   },
   {
    "duration": 13,
    "start_time": "2021-12-30T08:05:26.037Z"
   },
   {
    "duration": 10,
    "start_time": "2021-12-30T08:05:28.108Z"
   },
   {
    "duration": 5,
    "start_time": "2021-12-30T08:05:29.587Z"
   },
   {
    "duration": 7,
    "start_time": "2021-12-30T08:05:30.356Z"
   },
   {
    "duration": 5,
    "start_time": "2021-12-30T08:05:30.933Z"
   },
   {
    "duration": 108,
    "start_time": "2021-12-31T05:46:41.692Z"
   },
   {
    "duration": 105,
    "start_time": "2021-12-31T05:49:31.208Z"
   },
   {
    "duration": 705,
    "start_time": "2021-12-31T05:50:12.702Z"
   },
   {
    "duration": 185,
    "start_time": "2021-12-31T05:50:13.409Z"
   },
   {
    "duration": 27,
    "start_time": "2021-12-31T05:50:13.597Z"
   },
   {
    "duration": 48,
    "start_time": "2021-12-31T05:50:13.626Z"
   },
   {
    "duration": 6,
    "start_time": "2021-12-31T05:50:13.676Z"
   },
   {
    "duration": 27,
    "start_time": "2021-12-31T05:50:13.685Z"
   },
   {
    "duration": 8,
    "start_time": "2021-12-31T05:50:13.715Z"
   },
   {
    "duration": 32,
    "start_time": "2021-12-31T05:50:13.763Z"
   },
   {
    "duration": 24,
    "start_time": "2021-12-31T05:50:13.799Z"
   },
   {
    "duration": 63,
    "start_time": "2021-12-31T05:50:13.826Z"
   },
   {
    "duration": 99,
    "start_time": "2021-12-31T05:50:13.892Z"
   },
   {
    "duration": 102,
    "start_time": "2021-12-31T05:50:13.993Z"
   },
   {
    "duration": 84,
    "start_time": "2021-12-31T05:50:14.097Z"
   },
   {
    "duration": 56,
    "start_time": "2021-12-31T05:50:14.183Z"
   },
   {
    "duration": 18,
    "start_time": "2021-12-31T05:50:14.241Z"
   },
   {
    "duration": 14,
    "start_time": "2021-12-31T05:50:14.261Z"
   },
   {
    "duration": 57,
    "start_time": "2021-12-31T05:50:14.277Z"
   },
   {
    "duration": 36,
    "start_time": "2021-12-31T05:50:14.336Z"
   },
   {
    "duration": 15,
    "start_time": "2021-12-31T05:50:14.374Z"
   },
   {
    "duration": 4,
    "start_time": "2021-12-31T05:50:14.392Z"
   },
   {
    "duration": 25,
    "start_time": "2021-12-31T05:50:14.399Z"
   },
   {
    "duration": 53,
    "start_time": "2021-12-31T05:50:14.426Z"
   },
   {
    "duration": 18,
    "start_time": "2021-12-31T05:50:14.484Z"
   },
   {
    "duration": 17,
    "start_time": "2021-12-31T05:50:14.505Z"
   },
   {
    "duration": 56,
    "start_time": "2021-12-31T05:50:14.524Z"
   },
   {
    "duration": 21,
    "start_time": "2021-12-31T05:50:14.582Z"
   },
   {
    "duration": 12,
    "start_time": "2021-12-31T05:50:14.606Z"
   },
   {
    "duration": 15,
    "start_time": "2021-12-31T05:50:14.659Z"
   },
   {
    "duration": 12,
    "start_time": "2021-12-31T05:50:14.677Z"
   },
   {
    "duration": 5,
    "start_time": "2021-12-31T05:50:14.692Z"
   },
   {
    "duration": 29,
    "start_time": "2021-12-31T05:50:14.700Z"
   },
   {
    "duration": 43,
    "start_time": "2021-12-31T05:50:14.731Z"
   },
   {
    "duration": 23,
    "start_time": "2021-12-31T05:50:14.776Z"
   },
   {
    "duration": 17,
    "start_time": "2021-12-31T05:50:14.801Z"
   },
   {
    "duration": 49,
    "start_time": "2021-12-31T05:50:14.820Z"
   },
   {
    "duration": 6,
    "start_time": "2021-12-31T05:50:14.872Z"
   },
   {
    "duration": 13,
    "start_time": "2021-12-31T05:50:14.880Z"
   },
   {
    "duration": 6,
    "start_time": "2021-12-31T05:50:14.896Z"
   }
  ],
  "colab": {
   "collapsed_sections": [
    "E0vqbgi9ay0H",
    "VUC88oWjTJw2"
   ],
   "name": "yandex_music_project_2021.2.ipynb",
   "provenance": []
  },
  "kernelspec": {
   "display_name": "Python 3 (ipykernel)",
   "language": "python",
   "name": "python3"
  },
  "language_info": {
   "codemirror_mode": {
    "name": "ipython",
    "version": 3
   },
   "file_extension": ".py",
   "mimetype": "text/x-python",
   "name": "python",
   "nbconvert_exporter": "python",
   "pygments_lexer": "ipython3",
   "version": "3.9.7"
  },
  "toc": {
   "base_numbering": 1,
   "nav_menu": {},
   "number_sections": true,
   "sideBar": true,
   "skip_h1_title": true,
   "title_cell": "Table of Contents",
   "title_sidebar": "Contents",
   "toc_cell": false,
   "toc_position": {},
   "toc_section_display": true,
   "toc_window_display": true
  }
 },
 "nbformat": 4,
 "nbformat_minor": 1
}
