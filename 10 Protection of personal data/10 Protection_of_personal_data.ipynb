{
 "cells": [
  {
   "cell_type": "markdown",
   "metadata": {
    "toc": true
   },
   "source": [
    "<h1>Содержание<span class=\"tocSkip\"></span></h1>\n",
    "<div class=\"toc\"><ul class=\"toc-item\"><li><span><a href=\"#Загрузка-данных\" data-toc-modified-id=\"Загрузка-данных-1\"><span class=\"toc-item-num\">1&nbsp;&nbsp;</span>Загрузка данных</a></span><ul class=\"toc-item\"><li><span><a href=\"#Вывод\" data-toc-modified-id=\"Вывод-1.1\"><span class=\"toc-item-num\">1.1&nbsp;&nbsp;</span>Вывод</a></span></li></ul></li><li><span><a href=\"#Умножение-матриц\" data-toc-modified-id=\"Умножение-матриц-2\"><span class=\"toc-item-num\">2&nbsp;&nbsp;</span>Умножение матриц</a></span><ul class=\"toc-item\"><li><span><a href=\"#Эксперимент--проверки-оценки-качества-моделей\" data-toc-modified-id=\"Эксперимент--проверки-оценки-качества-моделей-2.1\"><span class=\"toc-item-num\">2.1&nbsp;&nbsp;</span>Эксперимент  проверки оценки качества моделей</a></span></li><li><span><a href=\"#Вывод-по-результатам-эксперимента\" data-toc-modified-id=\"Вывод-по-результатам-эксперимента-2.2\"><span class=\"toc-item-num\">2.2&nbsp;&nbsp;</span>Вывод по результатам эксперимента</a></span></li></ul></li><li><span><a href=\"#Алгоритм-преобразования\" data-toc-modified-id=\"Алгоритм-преобразования-3\"><span class=\"toc-item-num\">3&nbsp;&nbsp;</span>Алгоритм преобразования</a></span></li><li><span><a href=\"#Проверка-алгоритма\" data-toc-modified-id=\"Проверка-алгоритма-4\"><span class=\"toc-item-num\">4&nbsp;&nbsp;</span>Проверка алгоритма</a></span><ul class=\"toc-item\"><li><span><a href=\"#Вывод\" data-toc-modified-id=\"Вывод-4.1\"><span class=\"toc-item-num\">4.1&nbsp;&nbsp;</span>Вывод</a></span></li></ul></li><li><span><a href=\"#Чек-лист-проверки\" data-toc-modified-id=\"Чек-лист-проверки-5\"><span class=\"toc-item-num\">5&nbsp;&nbsp;</span>Чек-лист проверки</a></span></li></ul></div>"
   ]
  },
  {
   "cell_type": "markdown",
   "metadata": {},
   "source": [
    "# Защита персональных данных клиентов"
   ]
  },
  {
   "cell_type": "markdown",
   "metadata": {},
   "source": [
    "Вам нужно защитить данные клиентов страховой компании «Хоть потоп». Разработайте такой метод преобразования данных, чтобы по ним было сложно восстановить персональную информацию. Обоснуйте корректность его работы.\n",
    "\n",
    "Нужно защитить данные, чтобы при преобразовании качество моделей машинного обучения не ухудшилось. Подбирать наилучшую модель не требуется.  \n",
    "\n",
    "**Описание данных**  \n",
    "\n",
    "Признаки: пол, возраст и зарплата застрахованного, количество членов его семьи.  \n",
    "Целевой признак: количество страховых выплат клиенту за последние 5 лет."
   ]
  },
  {
   "cell_type": "markdown",
   "metadata": {},
   "source": [
    "## Загрузка данных"
   ]
  },
  {
   "cell_type": "code",
   "execution_count": 1,
   "metadata": {
    "ExecuteTime": {
     "end_time": "2022-05-25T10:11:33.771326Z",
     "start_time": "2022-05-25T10:11:32.464743Z"
    }
   },
   "outputs": [],
   "source": [
    "# Импорт библиотек.\n",
    "import matplotlib.pyplot as plt\n",
    "import numpy as np\n",
    "import pandas as pd\n",
    "import seaborn as sns\n",
    "import warnings\n",
    "\n",
    "# Импорт модулей numpy.\n",
    "from numpy.linalg import inv,det\n",
    "from numpy.random import RandomState\n",
    "\n",
    "# Импорт модулей IPython.\n",
    "from IPython.core.display import display, HTML\n",
    "from IPython.display import display_html\n",
    "from IPython.display import display, Math, Latex\n",
    "\n",
    "# Импорт моделей, модулей и метрик sklearn.\n",
    "from sklearn.linear_model import LinearRegression\n",
    "from sklearn.model_selection import train_test_split\n",
    "from sklearn.metrics import r2_score"
   ]
  },
  {
   "cell_type": "code",
   "execution_count": 2,
   "metadata": {
    "ExecuteTime": {
     "end_time": "2022-05-25T10:11:38.870758Z",
     "start_time": "2022-05-25T10:11:38.841811Z"
    }
   },
   "outputs": [],
   "source": [
    "try:\n",
    "    insurance = pd.read_csv('/datasets/insurance.csv',sep=',')\n",
    "    pd.set_option('display.max_columns', None)\n",
    "    pd.options.mode.chained_assignment = None\n",
    "except:\n",
    "    insurance = pd.read_csv('insurance.csv',sep=',')\n",
    "    pd.set_option('display.max_columns', None)\n",
    "    pd.options.mode.chained_assignment = None"
   ]
  },
  {
   "cell_type": "code",
   "execution_count": 3,
   "metadata": {
    "ExecuteTime": {
     "end_time": "2022-05-25T10:11:40.448543Z",
     "start_time": "2022-05-25T10:11:40.441560Z"
    }
   },
   "outputs": [],
   "source": [
    "def info_row(df):\n",
    "    '''\n",
    "        Input: df - таблица pd.DataFrame.\n",
    "        Output: None.\n",
    "        Description: Функция первичного знакомства с данными.\n",
    "\n",
    "    '''\n",
    "    display(df.head(10))\n",
    "    print('Общая информация:')\n",
    "    display(df.info())\n",
    "    print('Общая статистика:')\n",
    "    display(df.describe())\n",
    "    print('Дубликаты:')\n",
    "    display(df.duplicated().sum())\n",
    "    print(f'{df.duplicated().sum()/len(df):.1%}')\n",
    "    print('Пропуски:')\n",
    "    for col in df.columns:\n",
    "        pct_missing = np.mean(df[col].isna())\n",
    "        print('{} - {}%'.format(col, round(pct_missing*100,2)))\n",
    "    print('Уникальные значения столбцов:')\n",
    "    for row in df.columns:\n",
    "        print('Уникальные значения столбца', row)\n",
    "        print(df[row].unique())\n",
    "    print('Матрица диаграмм:')\n",
    "    pd.plotting.scatter_matrix(df,figsize=(10,10))\n",
    "    plt.suptitle(\"Матрица диаграмм зависимостей\", size=20)\n",
    "    plt.show()\n",
    "    print('Heatmap корреляций:')\n",
    "    plt.figure(figsize=(10, 10))\n",
    "    heatmap = sns.heatmap(df.corr(), vmin=-1, vmax=1, annot=True,cmap='BrBG') \n",
    "    heatmap.set_title('Correlation Heatmap', fontdict={'fontsize':10}, pad=12);\n",
    "    plt.show()"
   ]
  },
  {
   "cell_type": "code",
   "execution_count": 4,
   "metadata": {
    "ExecuteTime": {
     "end_time": "2022-05-25T10:11:43.378507Z",
     "start_time": "2022-05-25T10:11:41.721943Z"
    }
   },
   "outputs": [
    {
     "data": {
      "text/html": [
       "<div>\n",
       "<style scoped>\n",
       "    .dataframe tbody tr th:only-of-type {\n",
       "        vertical-align: middle;\n",
       "    }\n",
       "\n",
       "    .dataframe tbody tr th {\n",
       "        vertical-align: top;\n",
       "    }\n",
       "\n",
       "    .dataframe thead th {\n",
       "        text-align: right;\n",
       "    }\n",
       "</style>\n",
       "<table border=\"1\" class=\"dataframe\">\n",
       "  <thead>\n",
       "    <tr style=\"text-align: right;\">\n",
       "      <th></th>\n",
       "      <th>Пол</th>\n",
       "      <th>Возраст</th>\n",
       "      <th>Зарплата</th>\n",
       "      <th>Члены семьи</th>\n",
       "      <th>Страховые выплаты</th>\n",
       "    </tr>\n",
       "  </thead>\n",
       "  <tbody>\n",
       "    <tr>\n",
       "      <th>0</th>\n",
       "      <td>1</td>\n",
       "      <td>41.0</td>\n",
       "      <td>49600.0</td>\n",
       "      <td>1</td>\n",
       "      <td>0</td>\n",
       "    </tr>\n",
       "    <tr>\n",
       "      <th>1</th>\n",
       "      <td>0</td>\n",
       "      <td>46.0</td>\n",
       "      <td>38000.0</td>\n",
       "      <td>1</td>\n",
       "      <td>1</td>\n",
       "    </tr>\n",
       "    <tr>\n",
       "      <th>2</th>\n",
       "      <td>0</td>\n",
       "      <td>29.0</td>\n",
       "      <td>21000.0</td>\n",
       "      <td>0</td>\n",
       "      <td>0</td>\n",
       "    </tr>\n",
       "    <tr>\n",
       "      <th>3</th>\n",
       "      <td>0</td>\n",
       "      <td>21.0</td>\n",
       "      <td>41700.0</td>\n",
       "      <td>2</td>\n",
       "      <td>0</td>\n",
       "    </tr>\n",
       "    <tr>\n",
       "      <th>4</th>\n",
       "      <td>1</td>\n",
       "      <td>28.0</td>\n",
       "      <td>26100.0</td>\n",
       "      <td>0</td>\n",
       "      <td>0</td>\n",
       "    </tr>\n",
       "    <tr>\n",
       "      <th>5</th>\n",
       "      <td>1</td>\n",
       "      <td>43.0</td>\n",
       "      <td>41000.0</td>\n",
       "      <td>2</td>\n",
       "      <td>1</td>\n",
       "    </tr>\n",
       "    <tr>\n",
       "      <th>6</th>\n",
       "      <td>1</td>\n",
       "      <td>39.0</td>\n",
       "      <td>39700.0</td>\n",
       "      <td>2</td>\n",
       "      <td>0</td>\n",
       "    </tr>\n",
       "    <tr>\n",
       "      <th>7</th>\n",
       "      <td>1</td>\n",
       "      <td>25.0</td>\n",
       "      <td>38600.0</td>\n",
       "      <td>4</td>\n",
       "      <td>0</td>\n",
       "    </tr>\n",
       "    <tr>\n",
       "      <th>8</th>\n",
       "      <td>1</td>\n",
       "      <td>36.0</td>\n",
       "      <td>49700.0</td>\n",
       "      <td>1</td>\n",
       "      <td>0</td>\n",
       "    </tr>\n",
       "    <tr>\n",
       "      <th>9</th>\n",
       "      <td>1</td>\n",
       "      <td>32.0</td>\n",
       "      <td>51700.0</td>\n",
       "      <td>1</td>\n",
       "      <td>0</td>\n",
       "    </tr>\n",
       "  </tbody>\n",
       "</table>\n",
       "</div>"
      ],
      "text/plain": [
       "   Пол  Возраст  Зарплата  Члены семьи  Страховые выплаты\n",
       "0    1     41.0   49600.0            1                  0\n",
       "1    0     46.0   38000.0            1                  1\n",
       "2    0     29.0   21000.0            0                  0\n",
       "3    0     21.0   41700.0            2                  0\n",
       "4    1     28.0   26100.0            0                  0\n",
       "5    1     43.0   41000.0            2                  1\n",
       "6    1     39.0   39700.0            2                  0\n",
       "7    1     25.0   38600.0            4                  0\n",
       "8    1     36.0   49700.0            1                  0\n",
       "9    1     32.0   51700.0            1                  0"
      ]
     },
     "metadata": {},
     "output_type": "display_data"
    },
    {
     "name": "stdout",
     "output_type": "stream",
     "text": [
      "Общая информация:\n",
      "<class 'pandas.core.frame.DataFrame'>\n",
      "RangeIndex: 5000 entries, 0 to 4999\n",
      "Data columns (total 5 columns):\n",
      " #   Column             Non-Null Count  Dtype  \n",
      "---  ------             --------------  -----  \n",
      " 0   Пол                5000 non-null   int64  \n",
      " 1   Возраст            5000 non-null   float64\n",
      " 2   Зарплата           5000 non-null   float64\n",
      " 3   Члены семьи        5000 non-null   int64  \n",
      " 4   Страховые выплаты  5000 non-null   int64  \n",
      "dtypes: float64(2), int64(3)\n",
      "memory usage: 195.4 KB\n"
     ]
    },
    {
     "data": {
      "text/plain": [
       "None"
      ]
     },
     "metadata": {},
     "output_type": "display_data"
    },
    {
     "name": "stdout",
     "output_type": "stream",
     "text": [
      "Общая статистика:\n"
     ]
    },
    {
     "data": {
      "text/html": [
       "<div>\n",
       "<style scoped>\n",
       "    .dataframe tbody tr th:only-of-type {\n",
       "        vertical-align: middle;\n",
       "    }\n",
       "\n",
       "    .dataframe tbody tr th {\n",
       "        vertical-align: top;\n",
       "    }\n",
       "\n",
       "    .dataframe thead th {\n",
       "        text-align: right;\n",
       "    }\n",
       "</style>\n",
       "<table border=\"1\" class=\"dataframe\">\n",
       "  <thead>\n",
       "    <tr style=\"text-align: right;\">\n",
       "      <th></th>\n",
       "      <th>Пол</th>\n",
       "      <th>Возраст</th>\n",
       "      <th>Зарплата</th>\n",
       "      <th>Члены семьи</th>\n",
       "      <th>Страховые выплаты</th>\n",
       "    </tr>\n",
       "  </thead>\n",
       "  <tbody>\n",
       "    <tr>\n",
       "      <th>count</th>\n",
       "      <td>5000.000000</td>\n",
       "      <td>5000.000000</td>\n",
       "      <td>5000.000000</td>\n",
       "      <td>5000.000000</td>\n",
       "      <td>5000.000000</td>\n",
       "    </tr>\n",
       "    <tr>\n",
       "      <th>mean</th>\n",
       "      <td>0.499000</td>\n",
       "      <td>30.952800</td>\n",
       "      <td>39916.360000</td>\n",
       "      <td>1.194200</td>\n",
       "      <td>0.148000</td>\n",
       "    </tr>\n",
       "    <tr>\n",
       "      <th>std</th>\n",
       "      <td>0.500049</td>\n",
       "      <td>8.440807</td>\n",
       "      <td>9900.083569</td>\n",
       "      <td>1.091387</td>\n",
       "      <td>0.463183</td>\n",
       "    </tr>\n",
       "    <tr>\n",
       "      <th>min</th>\n",
       "      <td>0.000000</td>\n",
       "      <td>18.000000</td>\n",
       "      <td>5300.000000</td>\n",
       "      <td>0.000000</td>\n",
       "      <td>0.000000</td>\n",
       "    </tr>\n",
       "    <tr>\n",
       "      <th>25%</th>\n",
       "      <td>0.000000</td>\n",
       "      <td>24.000000</td>\n",
       "      <td>33300.000000</td>\n",
       "      <td>0.000000</td>\n",
       "      <td>0.000000</td>\n",
       "    </tr>\n",
       "    <tr>\n",
       "      <th>50%</th>\n",
       "      <td>0.000000</td>\n",
       "      <td>30.000000</td>\n",
       "      <td>40200.000000</td>\n",
       "      <td>1.000000</td>\n",
       "      <td>0.000000</td>\n",
       "    </tr>\n",
       "    <tr>\n",
       "      <th>75%</th>\n",
       "      <td>1.000000</td>\n",
       "      <td>37.000000</td>\n",
       "      <td>46600.000000</td>\n",
       "      <td>2.000000</td>\n",
       "      <td>0.000000</td>\n",
       "    </tr>\n",
       "    <tr>\n",
       "      <th>max</th>\n",
       "      <td>1.000000</td>\n",
       "      <td>65.000000</td>\n",
       "      <td>79000.000000</td>\n",
       "      <td>6.000000</td>\n",
       "      <td>5.000000</td>\n",
       "    </tr>\n",
       "  </tbody>\n",
       "</table>\n",
       "</div>"
      ],
      "text/plain": [
       "               Пол      Возраст      Зарплата  Члены семьи  Страховые выплаты\n",
       "count  5000.000000  5000.000000   5000.000000  5000.000000        5000.000000\n",
       "mean      0.499000    30.952800  39916.360000     1.194200           0.148000\n",
       "std       0.500049     8.440807   9900.083569     1.091387           0.463183\n",
       "min       0.000000    18.000000   5300.000000     0.000000           0.000000\n",
       "25%       0.000000    24.000000  33300.000000     0.000000           0.000000\n",
       "50%       0.000000    30.000000  40200.000000     1.000000           0.000000\n",
       "75%       1.000000    37.000000  46600.000000     2.000000           0.000000\n",
       "max       1.000000    65.000000  79000.000000     6.000000           5.000000"
      ]
     },
     "metadata": {},
     "output_type": "display_data"
    },
    {
     "name": "stdout",
     "output_type": "stream",
     "text": [
      "Дубликаты:\n"
     ]
    },
    {
     "data": {
      "text/plain": [
       "153"
      ]
     },
     "metadata": {},
     "output_type": "display_data"
    },
    {
     "name": "stdout",
     "output_type": "stream",
     "text": [
      "3.1%\n",
      "Пропуски:\n",
      "Пол - 0.0%\n",
      "Возраст - 0.0%\n",
      "Зарплата - 0.0%\n",
      "Члены семьи - 0.0%\n",
      "Страховые выплаты - 0.0%\n",
      "Уникальные значения столбцов:\n",
      "Уникальные значения столбца Пол\n",
      "[1 0]\n",
      "Уникальные значения столбца Возраст\n",
      "[41. 46. 29. 21. 28. 43. 39. 25. 36. 32. 38. 23. 40. 34. 26. 42. 27. 33.\n",
      " 47. 30. 19. 31. 22. 20. 24. 18. 37. 48. 45. 44. 52. 49. 35. 56. 65. 55.\n",
      " 57. 54. 50. 53. 51. 58. 59. 60. 61. 62.]\n",
      "Уникальные значения столбца Зарплата\n",
      "[49600. 38000. 21000. 41700. 26100. 41000. 39700. 38600. 49700. 51700.\n",
      " 36600. 29300. 39500. 55000. 43700. 23300. 48900. 33200. 36900. 43500.\n",
      " 36100. 26600. 48700. 40400. 38400. 34600. 34800. 36800. 42200. 46300.\n",
      " 30300. 51000. 28100. 64800. 30400. 45300. 38300. 49500. 19400. 40200.\n",
      " 31700. 69200. 33100. 31600. 34500. 38700. 39600. 42400. 34900. 30500.\n",
      " 24200. 49900. 14300. 47000. 44800. 43800. 42700. 35400. 57200. 29600.\n",
      " 37400. 48100. 33700. 61800. 39400. 15600. 52600. 37600. 52500. 32700.\n",
      " 51600. 60900. 41800. 47400. 26500. 45900. 35700. 34300. 26700. 25700.\n",
      " 33300. 31100. 31500. 42100. 37300. 42500. 27300. 46800. 33500. 44300.\n",
      " 41600. 53900. 40100. 44600. 45000. 32000. 38200. 33000. 38500. 51800.\n",
      " 33800. 46400. 43200. 31800. 50200. 35100. 30700. 45800. 49300. 42800.\n",
      " 33600. 50300. 34000. 36400. 44900. 43600. 54600. 52800. 29700. 39000.\n",
      " 44100. 31900. 37700. 35200. 43100. 51300. 47500. 40800. 26800. 64900.\n",
      " 35900. 31200. 39900. 43300. 33900. 40700. 44700. 53400. 30600. 56000.\n",
      " 35600. 55200. 40600. 48300. 50800. 41200. 44200. 44400. 40500. 39800.\n",
      " 16600. 48400. 25100. 23100. 32100. 31000. 42900. 46700. 26000. 55900.\n",
      " 52000. 41500. 49400. 60300. 45600. 49000. 37500. 21900. 45100. 47900.\n",
      " 54300. 32400. 41300. 44500. 23200. 37900. 48000. 52100. 45700. 29900.\n",
      " 42600. 45200. 36000. 46500. 23800. 30200. 24400. 32800. 29000. 43400.\n",
      " 51500. 61700. 45400. 50700. 36200. 41900. 27900. 47200. 48800. 55100.\n",
      " 48200. 35500. 35000. 43900. 40000. 22000. 40300. 36300. 49800. 25600.\n",
      " 42300. 54900. 25500. 32900. 36700. 38900. 24700. 28800. 22900. 47300.\n",
      " 14500. 28700. 44000. 34100. 53000. 59300. 28500. 47100. 41400. 58900.\n",
      " 17500. 54200. 43000. 29800. 20000. 13800. 27500. 67700. 28000. 37100.\n",
      "  8900. 14600. 56200. 38800. 27700. 50500. 58400. 34700. 34400. 49100.\n",
      " 50900. 28200. 61500. 32500. 25900.  9800. 28300. 41100. 62000. 32600.\n",
      " 37200. 53800. 24000. 53600. 54800. 59600. 20200. 21700. 29200. 38100.\n",
      " 20700. 32300. 21200. 62100. 54000. 24500. 51900. 47800. 56100. 55300.\n",
      " 58100. 28900. 39100. 58000. 27200. 24600. 30100. 57100. 60100. 22200.\n",
      " 47700. 24900. 37800. 52700. 34200. 18700. 42000. 26300. 22600. 30900.\n",
      " 35800. 30800. 51100. 53300. 46200. 24100. 54700. 51200. 62300. 51400.\n",
      " 40900. 23400. 35300. 55800. 33400. 21300. 30000. 56700. 46900.  5300.\n",
      " 39200. 57500. 31300. 53700. 21600. 50000. 36500. 16400. 15900. 65100.\n",
      " 59900. 63200. 26200. 61200. 48500. 32200. 29100. 50100. 22700. 28600.\n",
      " 23500. 23700. 19600. 17800. 50600. 57900. 22500. 22100. 58300. 64100.\n",
      " 25000. 60400. 59100. 37000. 62400. 29500. 25800. 25400. 26900. 21500.\n",
      " 52200. 46600. 57300. 46100. 19300. 18900. 31400. 28400. 29400. 17600.\n",
      " 13900. 52400. 11300. 46000. 60500. 58700. 58200. 24800. 63700. 60600.\n",
      " 20400. 26400. 55600. 57000. 45500. 48600. 57600. 52900. 62800. 17000.\n",
      " 56500. 52300. 18400. 63300. 12900. 27000. 55700. 39300. 27800. 18300.\n",
      " 56300. 59800. 24300. 14400. 13400. 17900. 47600. 54500. 54400. 23900.\n",
      " 13000. 19900. 55400. 22800. 61000. 57400. 23000. 20500. 53200. 18100.\n",
      " 25300. 59500. 18200. 50400. 21100. 20900. 27400. 17300. 60700. 70600.\n",
      " 17700. 19700. 49200. 63100. 59200. 14700. 53100. 21800. 68000. 16500.\n",
      " 71400. 10000. 55500. 54100. 56400. 20600. 66300. 18800. 11000. 66100.\n",
      " 27100. 57800. 53500. 19200. 58500. 64000. 63600. 23600. 25200. 19100.\n",
      " 18600. 57700. 62700. 56600. 21400. 58800. 68400. 17100. 13300. 68500.\n",
      " 56900. 64400. 27600. 67200. 16200. 58600. 62200. 16000. 79000. 22300.\n",
      " 11200. 71600. 61300. 70500. 67100. 59000. 13500. 16700. 15700. 60000.\n",
      " 17400. 63400. 61900. 65200. 62600. 14100. 20100. 63800. 15100. 70000.\n",
      " 60200. 20300. 65900. 15200. 63500. 13200. 68900. 12200.  6000. 74800.\n",
      " 59700. 10800. 19000. 10600. 69400. 15000. 75200. 62500. 16300. 20800.\n",
      "  7400. 65300. 61400. 56800.]\n",
      "Уникальные значения столбца Члены семьи\n",
      "[1 0 2 4 3 5 6]\n",
      "Уникальные значения столбца Страховые выплаты\n",
      "[0 1 2 3 5 4]\n",
      "Матрица диаграмм:\n"
     ]
    },
    {
     "data": {
      "image/png": "[encoded data removed]",
      "text/plain": [
       "<Figure size 720x720 with 25 Axes>"
      ]
     },
     "metadata": {
      "needs_background": "light"
     },
     "output_type": "display_data"
    },
    {
     "name": "stdout",
     "output_type": "stream",
     "text": [
      "Heatmap корреляций:\n"
     ]
    },
    {
     "data": {
      "image/png": "[encoded data removed]",
      "text/plain": [
       "<Figure size 720x720 with 2 Axes>"
      ]
     },
     "metadata": {
      "needs_background": "light"
     },
     "output_type": "display_data"
    }
   ],
   "source": [
    "info_row(insurance)"
   ]
  },
  {
   "cell_type": "code",
   "execution_count": 5,
   "metadata": {
    "ExecuteTime": {
     "end_time": "2022-05-25T10:11:50.664645Z",
     "start_time": "2022-05-25T10:11:50.657637Z"
    }
   },
   "outputs": [],
   "source": [
    "def drop_dup(df):\n",
    "    '''\n",
    "        Input: df - таблица pd.DataFrame\n",
    "        Output: None\n",
    "        Description: Функция удаляет дубликаты, оставляя первое вхождение.\n",
    "\n",
    "        '''\n",
    "    df.drop_duplicates(inplace=True, ignore_index=False)\n",
    "    df.reset_index(drop=True)\n",
    "drop_dup(insurance)"
   ]
  },
  {
   "cell_type": "markdown",
   "metadata": {},
   "source": [
    "### Вывод\n",
    "- Предоставленный датасет имеет 4 столбца признаков (Пол, Возраст и Зарплата , Члены семьи)  \n",
    "- Один целевой признак Страховые выплаты  \n",
    "- Размер данных - 5000 строк\n",
    "- В данных имеются дубликаты в количестве 153 строки(были удалены)\n",
    "- Так же целочисленные данные в столбцах Возраст и Зарплата имеют тип float (для нашей задачи данный недочет не критичен)\n",
    "- Сильной корреляции меджу признаками и целевым признаком не прослеживается"
   ]
  },
  {
   "cell_type": "markdown",
   "metadata": {},
   "source": [
    "## Умножение матриц"
   ]
  },
  {
   "cell_type": "markdown",
   "metadata": {},
   "source": [
    "В этом задании вы можете записывать формулы в *Jupyter Notebook.*\n",
    "\n",
    "Чтобы записать формулу внутри текста, окружите её символами доллара \\\\$; если снаружи —  двойными символами \\\\$\\\\$. Эти формулы записываются на языке вёрстки *LaTeX.* \n",
    "\n",
    "Для примера мы записали формулы линейной регрессии. Можете их скопировать и отредактировать, чтобы решить задачу.\n",
    "\n",
    "Работать в *LaTeX* необязательно."
   ]
  },
  {
   "cell_type": "markdown",
   "metadata": {},
   "source": [
    "Признаки умножают на обратимую матрицу. Изменится ли качество линейной регрессии? (Её можно обучить заново.)  \n",
    "a. Изменится. Приведите примеры матриц.  \n",
    "b. Не изменится. Укажите, как связаны параметры линейной регрессии в исходной задаче и в преобразованной"
   ]
  },
  {
   "cell_type": "markdown",
   "metadata": {},
   "source": [
    "Обозначения:\n",
    "\n",
    "- $X$ — матрица признаков (нулевой столбец состоит из единиц)\n",
    "\n",
    "- $y$ — вектор целевого признака\n",
    "\n",
    "- $P$ — матрица, на которую умножаются признаки\n",
    "\n",
    "- $w$ — вектор весов линейной регрессии (нулевой элемент равен сдвигу)"
   ]
  },
  {
   "cell_type": "markdown",
   "metadata": {},
   "source": [
    "Предсказания:\n",
    "\n",
    "$$\n",
    "a = Xw\n",
    "$$\n",
    "\n",
    "Задача обучения:\n",
    "\n",
    "$$\n",
    "w = \\arg\\min_w MSE(Xw, y)\n",
    "$$\n",
    "\n",
    "Формула обучения:\n",
    "\n",
    "$$\n",
    "w = (X^T X)^{-1} X^T y\n",
    "$$  \n",
    "  \n",
    "**Постараемся посмотреть процесс на примере.**  \n",
    "- Разобьем наши данные на признаки и целевой признак;  \n",
    "- Создадим обратимую матрицу и просчитаем оба варианта(без умножения на обратимую матрицу и с учетом умножения);  \n",
    "- В заключении, сравнив значения `R2`, полученного для каждого из случаев."
   ]
  },
  {
   "cell_type": "markdown",
   "metadata": {},
   "source": [
    "### Эксперимент  проверки оценки качества моделей"
   ]
  },
  {
   "cell_type": "code",
   "execution_count": 6,
   "metadata": {
    "ExecuteTime": {
     "end_time": "2022-05-25T10:12:06.968577Z",
     "start_time": "2022-05-25T10:12:06.953596Z"
    }
   },
   "outputs": [],
   "source": [
    "feathers = insurance.drop('Страховые выплаты', axis=1)\n",
    "target = insurance['Страховые выплаты']\n",
    "\n",
    "# Разбили выборку на признаки и целевой признак 'Страховые выплаты'."
   ]
  },
  {
   "cell_type": "code",
   "execution_count": 7,
   "metadata": {
    "ExecuteTime": {
     "end_time": "2022-05-25T10:12:08.038462Z",
     "start_time": "2022-05-25T10:12:08.018515Z"
    }
   },
   "outputs": [],
   "source": [
    "def quality_control(feathers,target,color):\n",
    "    '''\n",
    "    Input: feathers - таблица признаков (pd.DataFrame), целевой признак (pd.Series), color - цвет вывода (str).\n",
    "    Output: None\n",
    "    Description: 1) Функция добавляет единичный столбец в матрицу признаков Х для применения \n",
    "                 сокращённой запись формулы линейной регрессии.  \n",
    "                 2) Обучает две модели:\n",
    "                     - по полученным признакам\n",
    "                     - по признакам, домноженным на обратимую матрицу\n",
    "                 3) Выводит качество получившихся предсказаний для наглядного сравнения.\n",
    "\n",
    "    '''\n",
    "    X = np.concatenate((np.ones((feathers.shape[0], 1)), feathers), axis=1)\n",
    "    y = target\n",
    "    r2_list = []\n",
    "    index_list = ['До преобразования', 'После преобразования']\n",
    "    \n",
    "    for i in range(2):\n",
    "        if i == 0:\n",
    "            w = np.linalg.inv(X.T.dot(X)).dot(X.T).dot(y)\n",
    "            a = X.dot(w)\n",
    "            r2 = r2_score(y, a)\n",
    "            r2_list.append(r2)\n",
    "        elif i == 1:\n",
    "            P = np.random.normal(size=(X.shape[1] ,X.shape[1]))\n",
    "            if np.linalg.det(P) != 0:\n",
    "                XP = X.dot(P)\n",
    "                w_XP = np.linalg.inv(XP.T.dot(XP)).dot(XP.T).dot(y)\n",
    "                a_XP = XP.dot(w_XP)\n",
    "                r2_XP = r2_score(y, a_XP)\n",
    "                r2_list.append(r2_XP)\n",
    "            else:\n",
    "                print('Созданная матрица - не обратимая.')\n",
    "\n",
    "    r2_df = pd.DataFrame(np.array(r2_list), index=[index_list], columns=['Коэффициент детерминации r2'])\n",
    "    display(r2_df)   "
   ]
  },
  {
   "cell_type": "code",
   "execution_count": 8,
   "metadata": {
    "ExecuteTime": {
     "end_time": "2022-05-25T10:12:10.323867Z",
     "start_time": "2022-05-25T10:12:10.305939Z"
    },
    "scrolled": true
   },
   "outputs": [
    {
     "data": {
      "text/html": [
       "<div>\n",
       "<style scoped>\n",
       "    .dataframe tbody tr th:only-of-type {\n",
       "        vertical-align: middle;\n",
       "    }\n",
       "\n",
       "    .dataframe tbody tr th {\n",
       "        vertical-align: top;\n",
       "    }\n",
       "\n",
       "    .dataframe thead th {\n",
       "        text-align: right;\n",
       "    }\n",
       "</style>\n",
       "<table border=\"1\" class=\"dataframe\">\n",
       "  <thead>\n",
       "    <tr style=\"text-align: right;\">\n",
       "      <th></th>\n",
       "      <th>Коэффициент детерминации r2</th>\n",
       "    </tr>\n",
       "  </thead>\n",
       "  <tbody>\n",
       "    <tr>\n",
       "      <th>До преобразования</th>\n",
       "      <td>0.430201</td>\n",
       "    </tr>\n",
       "    <tr>\n",
       "      <th>После преобразования</th>\n",
       "      <td>0.430201</td>\n",
       "    </tr>\n",
       "  </tbody>\n",
       "</table>\n",
       "</div>"
      ],
      "text/plain": [
       "                      Коэффициент детерминации r2\n",
       "До преобразования                        0.430201\n",
       "После преобразования                     0.430201"
      ]
     },
     "metadata": {},
     "output_type": "display_data"
    }
   ],
   "source": [
    "quality_control(feathers,target,'blue')"
   ]
  },
  {
   "cell_type": "markdown",
   "metadata": {},
   "source": [
    "### Вывод по результатам эксперимента\n",
    "Что же, коэффициенты оценок качества модели и модели, умноженной на обратимую матрицу - **идентичны**.  \n",
    "Теперь осталось это доказать."
   ]
  },
  {
   "cell_type": "markdown",
   "metadata": {},
   "source": [
    "**Ответ:**    **<span style=\"text-decoration: underline\">Не изменится.</span>**\n",
    "\n",
    "**Обоснование:**   \n",
    "  \n",
    "Умножим признаки Х на обратимую матрицу Р и подставим эти данные в формулу обучения линейной регрессии.\n",
    "\n",
    "Таким образом, измененная формула обучения, будет выглядеть так:\n",
    "\n",
    "$$\n",
    "w_{XP} = ((XP)^T (XP))^{-1} (XP)^T y\n",
    "$$\n",
    "\n",
    "Где $XP$ - произведение признаков Х на обратимую матрицу Р.  \n",
    "  \n",
    "  Тогда формула предсказания будет выглядеть так:  \n",
    "$$\n",
    "a_{XP} = XPw_{XP}\n",
    "$$\n",
    "\n",
    "  \n",
    "Матричные выражения имеют те же алгебраические приоритеты, что и числовые, плюс некоторые специфические матричные операции, такие, как **транспонирование** и **нахождение обратной матрицы**. В преобразовании получившейся формулы предсказания, нам понадобятся следующие свойства (каждое из них выделим соответствующим цветом, для наглядности):  \n",
    "  \n",
    "Одно из свойств **обратных матриц**:  \n",
    "- Обратное значение произведения обратимых матриц A и B с одинаковым числом строк и столбцов будет равно значению, полученному при умножении матриц, обратных исходным, то есть: \n",
    "$$(\\color{red}{\\text{A}}B)^{-1}=B^{-1}\\color{red}{\\text{A}}^{-1} \\; (\\color{blue}{\\text{свойство 1}}) $$      \n",
    "  \n",
    "Одно из свойств **транспонированных матриц**:  \n",
    "\n",
    "- Транспонированное произведение матриц равно произведению транспонированных матриц, взятых в обратном порядке: \n",
    "$$(\\color{red}{\\text{A}}  B)^{T}= B^{T}  \\color{red}{\\text{A}}^{T} \\; (\\color{red}{\\text{свойство 2}})$$  \n",
    "\n",
    "Свойство **обратимых матриц**:  \n",
    "\n",
    "- Произведение квадратной матрицы $A$ (в нашем случае  $P$) на ее обратимую матрицу $B$ ($P^{-1}$), равно единичной матрице $I_n$.  \n",
    "$$\\color{red}{\\text{A}}B = B\\color{red}{\\text{A}} = I_n \\; (\\color{green}{\\text{свойство 3}}) $$\n",
    "\n",
    "Учитывая данные свойства, можно поэтапно переписать формулу предсказания:  \n",
    "- Выводя транспонированные матрицы за скобки, применяем <font color='red'><b>(свойство 2)</b></font>:  \n",
    "$$\n",
    "a_{XP} = XP(\\color{red}{\\text{$(XP)^T$}} (XP))^{-1} \\color{red}{\\text{$(XP)^T$}} y\\; \\; \\; \\;\\;     (1)\n",
    "$$  \n",
    "  \n",
    "  \n",
    "- Далее выводим за скобки обратимые матрицы Р согласно свойству (<font color='blue'><b>свойство 1</b></font>):\n",
    "\n",
    "$$\n",
    "a_{XP} = XP(\\color{blue}{\\text{$P^T$}} X^T X\\color{blue}{\\text{$P$}})^{-1} P^T X^T y\\; \\; \\; \\;\\;\\;      \\;\\;(2)  \n",
    "$$  \n",
    "  \n",
    "- На выходе получаем произведение обратимых матриц <font color='green'><b>(свойство 3)</b></font> и избавляемся от единичной матрицы:  \n",
    "\n",
    "\n",
    "\n",
    "$$\n",
    "a_{XP} = X\\color{green}{\\text{$PP^{-1}$}}(X^TX)^{-1}\\color{green}{\\text{$(P^T)^{-1} P^T$}}X^T y\\; \\; \\; \\;\\;\\;\\;     (3)\n",
    "$$  \n",
    "\n",
    "- В итоге, получаем формулу вывода предсказаний идентичную не перемноженной модели, подставив в конечное выражение $w$:\n",
    "\n",
    "$$\n",
    "a_{XP} = X \\color{brown}{\\text{$(X^TX)^{-1}X^T y$}}\\; \\Rightarrow \\; a_{XP} = Xw\\;\\;\\;\\;\\;\\;      (6)\n",
    "$$  \n",
    "**Вывод:**  \n",
    "<table style = \"width:30%\">\n",
    "<tr>\n",
    "<th>Предсказание</th>\n",
    "<th>Формула</th>\n",
    "</tr>\n",
    "<tr>    \n",
    "<td>До умножения</td>\n",
    "<td>$a = Xw$</td>\n",
    "</tr>\n",
    "<tr>    \n",
    "<td>После умножения</td>\n",
    "<td>$a_{XP} = Xw$</td>\n",
    "</tr>"
   ]
  },
  {
   "cell_type": "markdown",
   "metadata": {},
   "source": [
    "## Алгоритм преобразования"
   ]
  },
  {
   "cell_type": "markdown",
   "metadata": {},
   "source": [
    "**Алгоритм**\n",
    "\n",
    "\n",
    "    \n",
    "- Создайте квадратную, обратимую матрицу, размер которой соответствует количеству признаков обучающей выборки;<br>   \n",
    "- Получаем новую обучающую выборку, путем умножения признаков на созданную обратимую матрицу  \n",
    "    \n",
    "    \n",
    "   **Важные условия!**  \n",
    "   - Определитель создаваемой обратимой матрицы не должен быть равен нулю (основное условие обратимости матрицы).\n",
    "   - Размер содаваемой матрицы должен соответствовать количеству признаков обучаемой выборки, иначе умножение не возможно."
   ]
  },
  {
   "cell_type": "markdown",
   "metadata": {},
   "source": [
    "**Обоснование**  \n",
    "\n",
    "Обоснование отсутствия потери в качестве линейной регрессии, при использовании данного метода шифрования данных клиентов, представлено выше и подтверждено экспериментом."
   ]
  },
  {
   "cell_type": "markdown",
   "metadata": {},
   "source": [
    "## Проверка алгоритма"
   ]
  },
  {
   "cell_type": "code",
   "execution_count": 9,
   "metadata": {
    "ExecuteTime": {
     "end_time": "2022-05-25T10:12:32.752515Z",
     "start_time": "2022-05-25T10:12:32.737555Z"
    }
   },
   "outputs": [],
   "source": [
    "def check_algorithm(feathers_tr,target_tr):\n",
    "    '''\n",
    "    Input: feathers - таблица признаков (pd.DataFrame), целевой признак (pd.Series).\n",
    "    Output: r2_df - таблица коэффициентов детерминации r2 (pd.DataFrame)\n",
    "    Description: 1) Функция осуществляет проверку изменения качества линейной регрессии до преобразования и после.  \n",
    "                 2) Обучает две модели:\n",
    "                     - по полученным признакам\n",
    "                     - по признакам, домноженным на обратимую матрицу\n",
    "                 3) Выводит качество получившихся предсказаний для наглядного сравнения.\n",
    "\n",
    "    '''\n",
    "    X = feathers_tr\n",
    "    y = target_tr\n",
    "    r2_list = []\n",
    "    index_list = ['До преобразования', 'После преобразования']\n",
    "    \n",
    "    for i in range(2): \n",
    "        # Расчет модели и коэфициента r2 на непреобразованных данных.\n",
    "        if i == 0:\n",
    "            X_train, X_test, y_train, y_test = train_test_split(X, y, train_size=0.75,random_state=12345)\n",
    "            model = LinearRegression()\n",
    "            model.fit(X_train,y_train)\n",
    "            predict = model.predict(X_test)\n",
    "            \n",
    "            r2 = r2_score(y_test,predict)\n",
    "            r2_list.append(r2)\n",
    "            \n",
    "        elif i == 1:\n",
    "            # Расчет модели и коэфициента r2 на преобразованных данных.\n",
    "            P = np.random.normal(size=(X.shape[1] ,X.shape[1]))\n",
    "            if np.linalg.det(P) != 0:\n",
    "                # Проверка матрицы на обратимость сравнением ее определителя с нулем.    \n",
    "                XP = X.dot(P)\n",
    "                X_train_conv, X_test_conv, y_train_conv, y_test_conv = train_test_split(XP, y, \n",
    "                                                                                        train_size=0.75,random_state=12345)\n",
    "                model_converted = LinearRegression()\n",
    "                model_converted.fit(X_train_conv,y_train_conv)\n",
    "                predict_converted = model_converted.predict(X_test_conv)\n",
    "                \n",
    "                r2_converted = r2_score(y_test_conv,predict_converted)\n",
    "                r2_list.append(r2_converted)\n",
    "            else:\n",
    "                print('Созданная матрица - не обратимая.')\n",
    "    \n",
    "    r2_df = pd.DataFrame(np.array(r2_list), index=[index_list], columns=['Коэффициент детерминации r2'])\n",
    "    return r2_df\n",
    "\n",
    "    \n",
    "    \n",
    "    \n",
    "    display(r2_df) "
   ]
  },
  {
   "cell_type": "code",
   "execution_count": 10,
   "metadata": {
    "ExecuteTime": {
     "end_time": "2022-05-25T10:12:33.564576Z",
     "start_time": "2022-05-25T10:12:33.537674Z"
    }
   },
   "outputs": [
    {
     "data": {
      "text/html": [
       "<div>\n",
       "<style scoped>\n",
       "    .dataframe tbody tr th:only-of-type {\n",
       "        vertical-align: middle;\n",
       "    }\n",
       "\n",
       "    .dataframe tbody tr th {\n",
       "        vertical-align: top;\n",
       "    }\n",
       "\n",
       "    .dataframe thead th {\n",
       "        text-align: right;\n",
       "    }\n",
       "</style>\n",
       "<table border=\"1\" class=\"dataframe\">\n",
       "  <thead>\n",
       "    <tr style=\"text-align: right;\">\n",
       "      <th></th>\n",
       "      <th>Коэффициент детерминации r2</th>\n",
       "    </tr>\n",
       "  </thead>\n",
       "  <tbody>\n",
       "    <tr>\n",
       "      <th>До преобразования</th>\n",
       "      <td>0.423077</td>\n",
       "    </tr>\n",
       "    <tr>\n",
       "      <th>После преобразования</th>\n",
       "      <td>0.423077</td>\n",
       "    </tr>\n",
       "  </tbody>\n",
       "</table>\n",
       "</div>"
      ],
      "text/plain": [
       "                      Коэффициент детерминации r2\n",
       "До преобразования                        0.423077\n",
       "После преобразования                     0.423077"
      ]
     },
     "execution_count": 10,
     "metadata": {},
     "output_type": "execute_result"
    }
   ],
   "source": [
    "check_algorithm(feathers,target)"
   ]
  },
  {
   "cell_type": "markdown",
   "metadata": {},
   "source": [
    "### Вывод\n",
    ">Разработанный метод преобразования данных, работает корректно, качество линейной регрессии идентично непреобразованным данным. Восстановить персональную информацию данных клиентов, не имея информации о методе преобразования и о ключ-матрице достаточно сложно.  \n",
    ">Данные клиентов страховой компании «Хоть потоп» надежно защищены."
   ]
  }
 ],
 "metadata": {
  "kernelspec": {
   "display_name": "Python 3 (ipykernel)",
   "language": "python",
   "name": "python3"
  },
  "language_info": {
   "codemirror_mode": {
    "name": "ipython",
    "version": 3
   },
   "file_extension": ".py",
   "mimetype": "text/x-python",
   "name": "python",
   "nbconvert_exporter": "python",
   "pygments_lexer": "ipython3",
   "version": "3.9.7"
  },
  "toc": {
   "base_numbering": 1,
   "nav_menu": {},
   "number_sections": true,
   "sideBar": true,
   "skip_h1_title": true,
   "title_cell": "Содержание",
   "title_sidebar": "Contents",
   "toc_cell": true,
   "toc_position": {},
   "toc_section_display": true,
   "toc_window_display": true
  }
 },
 "nbformat": 4,
 "nbformat_minor": 2
}
