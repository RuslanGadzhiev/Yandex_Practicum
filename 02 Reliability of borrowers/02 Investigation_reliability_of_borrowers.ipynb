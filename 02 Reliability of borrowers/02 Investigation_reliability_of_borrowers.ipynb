{
 "cells": [
  {
   "cell_type": "markdown",
   "metadata": {},
   "source": [
    "# Исследование надёжности заёмщиков\n",
    "\n",
    "Заказчик — кредитный отдел банка. Нужно разобраться, влияет ли семейное положение и количество детей клиента на факт погашения кредита в срок. Входные данные от банка — статистика о платёжеспособности клиентов.\n",
    "\n",
    "Результаты исследования будут учтены при построении модели **кредитного скоринга** — специальной системы, которая оценивает способность потенциального заёмщика вернуть кредит банку."
   ]
  },
  {
   "cell_type": "markdown",
   "metadata": {},
   "source": [
    "## Шаг 1. Откройте файл с данными и изучите общую информацию"
   ]
  },
  {
   "cell_type": "code",
   "execution_count": 11,
   "metadata": {
    "ExecuteTime": {
     "end_time": "2022-05-14T15:14:32.178977Z",
     "start_time": "2022-05-14T15:14:31.303467Z"
    }
   },
   "outputs": [],
   "source": [
    "import pandas as pd\n",
    "import numpy as np\n",
    "import matplotlib.pyplot as plt\n",
    "import seaborn as sns\n",
    "\n",
    "from collections import Counter\n",
    "from pymystem3 import Mystem\n",
    "m = Mystem()"
   ]
  },
  {
   "cell_type": "code",
   "execution_count": 5,
   "metadata": {
    "ExecuteTime": {
     "end_time": "2022-05-14T15:12:47.310999Z",
     "start_time": "2022-05-14T15:12:47.248195Z"
    }
   },
   "outputs": [],
   "source": [
    "try:\n",
    "    data = pd.read_csv('/datasets/data.csv')\n",
    "    pd.set_option('display.max_columns', None)\n",
    "    pd.options.mode.chained_assignment = None\n",
    "except:\n",
    "    data = pd.read_csv('data.csv')\n",
    "    pd.set_option('display.max_columns', None)\n",
    "    pd.options.mode.chained_assignment = None"
   ]
  },
  {
   "cell_type": "code",
   "execution_count": 9,
   "metadata": {
    "ExecuteTime": {
     "end_time": "2022-05-14T15:13:55.939987Z",
     "start_time": "2022-05-14T15:13:55.919043Z"
    }
   },
   "outputs": [],
   "source": [
    "def info_row(df):\n",
    "    '''\n",
    "        Input: df - таблица pd.DataFrame.\n",
    "        Output: None.\n",
    "        Description: Функция первичного знакомства с данными.\n",
    "\n",
    "        '''\n",
    "    \n",
    "    display(df.head(10))\n",
    "    print('Общая информация:')\n",
    "    display(df.info())\n",
    "    print('Общая статистика:')\n",
    "    display(df.describe())\n",
    "    print('Дубликаты:')\n",
    "    display(df.duplicated().sum())\n",
    "    print(f'{df.duplicated().sum()/len(df):.1%}')\n",
    "    print('Пропуски:')\n",
    "    for col in df.columns:\n",
    "        pct_missing = np.mean(df[col].isna())\n",
    "        print('{} - {}%'.format(col, round(pct_missing*100,2)))\n",
    "    print('Уникальные значения столбцов:')\n",
    "    for row in df.columns:\n",
    "        print('Уникальные значения столбца', row)\n",
    "        print(df[row].unique())\n",
    "    print('Матрица диаграмм:')\n",
    "    pd.plotting.scatter_matrix(df,figsize=(10,10))\n",
    "    plt.suptitle(\"Матрица диаграмм зависимостей\", size=20)\n",
    "    plt.show()\n",
    "    print('Heatmap корреляций:')\n",
    "    plt.figure(figsize=(10, 10))\n",
    "    heatmap = sns.heatmap(df.corr(), vmin=-1, vmax=1, annot=True,cmap='BrBG') \n",
    "    heatmap.set_title('Correlation Heatmap', fontdict={'fontsize':10}, pad=12);\n",
    "    plt.show()"
   ]
  },
  {
   "cell_type": "code",
   "execution_count": 12,
   "metadata": {
    "ExecuteTime": {
     "end_time": "2022-05-14T15:14:40.971960Z",
     "start_time": "2022-05-14T15:14:36.183067Z"
    }
   },
   "outputs": [
    {
     "data": {
      "text/html": [
       "<div>\n",
       "<style scoped>\n",
       "    .dataframe tbody tr th:only-of-type {\n",
       "        vertical-align: middle;\n",
       "    }\n",
       "\n",
       "    .dataframe tbody tr th {\n",
       "        vertical-align: top;\n",
       "    }\n",
       "\n",
       "    .dataframe thead th {\n",
       "        text-align: right;\n",
       "    }\n",
       "</style>\n",
       "<table border=\"1\" class=\"dataframe\">\n",
       "  <thead>\n",
       "    <tr style=\"text-align: right;\">\n",
       "      <th></th>\n",
       "      <th>children</th>\n",
       "      <th>days_employed</th>\n",
       "      <th>dob_years</th>\n",
       "      <th>education</th>\n",
       "      <th>education_id</th>\n",
       "      <th>family_status</th>\n",
       "      <th>family_status_id</th>\n",
       "      <th>gender</th>\n",
       "      <th>income_type</th>\n",
       "      <th>debt</th>\n",
       "      <th>total_income</th>\n",
       "      <th>purpose</th>\n",
       "    </tr>\n",
       "  </thead>\n",
       "  <tbody>\n",
       "    <tr>\n",
       "      <th>0</th>\n",
       "      <td>1</td>\n",
       "      <td>-8437.673028</td>\n",
       "      <td>42</td>\n",
       "      <td>высшее</td>\n",
       "      <td>0</td>\n",
       "      <td>женат / замужем</td>\n",
       "      <td>0</td>\n",
       "      <td>F</td>\n",
       "      <td>сотрудник</td>\n",
       "      <td>0</td>\n",
       "      <td>253875.639453</td>\n",
       "      <td>покупка жилья</td>\n",
       "    </tr>\n",
       "    <tr>\n",
       "      <th>1</th>\n",
       "      <td>1</td>\n",
       "      <td>-4024.803754</td>\n",
       "      <td>36</td>\n",
       "      <td>среднее</td>\n",
       "      <td>1</td>\n",
       "      <td>женат / замужем</td>\n",
       "      <td>0</td>\n",
       "      <td>F</td>\n",
       "      <td>сотрудник</td>\n",
       "      <td>0</td>\n",
       "      <td>112080.014102</td>\n",
       "      <td>приобретение автомобиля</td>\n",
       "    </tr>\n",
       "    <tr>\n",
       "      <th>2</th>\n",
       "      <td>0</td>\n",
       "      <td>-5623.422610</td>\n",
       "      <td>33</td>\n",
       "      <td>Среднее</td>\n",
       "      <td>1</td>\n",
       "      <td>женат / замужем</td>\n",
       "      <td>0</td>\n",
       "      <td>M</td>\n",
       "      <td>сотрудник</td>\n",
       "      <td>0</td>\n",
       "      <td>145885.952297</td>\n",
       "      <td>покупка жилья</td>\n",
       "    </tr>\n",
       "    <tr>\n",
       "      <th>3</th>\n",
       "      <td>3</td>\n",
       "      <td>-4124.747207</td>\n",
       "      <td>32</td>\n",
       "      <td>среднее</td>\n",
       "      <td>1</td>\n",
       "      <td>женат / замужем</td>\n",
       "      <td>0</td>\n",
       "      <td>M</td>\n",
       "      <td>сотрудник</td>\n",
       "      <td>0</td>\n",
       "      <td>267628.550329</td>\n",
       "      <td>дополнительное образование</td>\n",
       "    </tr>\n",
       "    <tr>\n",
       "      <th>4</th>\n",
       "      <td>0</td>\n",
       "      <td>340266.072047</td>\n",
       "      <td>53</td>\n",
       "      <td>среднее</td>\n",
       "      <td>1</td>\n",
       "      <td>гражданский брак</td>\n",
       "      <td>1</td>\n",
       "      <td>F</td>\n",
       "      <td>пенсионер</td>\n",
       "      <td>0</td>\n",
       "      <td>158616.077870</td>\n",
       "      <td>сыграть свадьбу</td>\n",
       "    </tr>\n",
       "    <tr>\n",
       "      <th>5</th>\n",
       "      <td>0</td>\n",
       "      <td>-926.185831</td>\n",
       "      <td>27</td>\n",
       "      <td>высшее</td>\n",
       "      <td>0</td>\n",
       "      <td>гражданский брак</td>\n",
       "      <td>1</td>\n",
       "      <td>M</td>\n",
       "      <td>компаньон</td>\n",
       "      <td>0</td>\n",
       "      <td>255763.565419</td>\n",
       "      <td>покупка жилья</td>\n",
       "    </tr>\n",
       "    <tr>\n",
       "      <th>6</th>\n",
       "      <td>0</td>\n",
       "      <td>-2879.202052</td>\n",
       "      <td>43</td>\n",
       "      <td>высшее</td>\n",
       "      <td>0</td>\n",
       "      <td>женат / замужем</td>\n",
       "      <td>0</td>\n",
       "      <td>F</td>\n",
       "      <td>компаньон</td>\n",
       "      <td>0</td>\n",
       "      <td>240525.971920</td>\n",
       "      <td>операции с жильем</td>\n",
       "    </tr>\n",
       "    <tr>\n",
       "      <th>7</th>\n",
       "      <td>0</td>\n",
       "      <td>-152.779569</td>\n",
       "      <td>50</td>\n",
       "      <td>СРЕДНЕЕ</td>\n",
       "      <td>1</td>\n",
       "      <td>женат / замужем</td>\n",
       "      <td>0</td>\n",
       "      <td>M</td>\n",
       "      <td>сотрудник</td>\n",
       "      <td>0</td>\n",
       "      <td>135823.934197</td>\n",
       "      <td>образование</td>\n",
       "    </tr>\n",
       "    <tr>\n",
       "      <th>8</th>\n",
       "      <td>2</td>\n",
       "      <td>-6929.865299</td>\n",
       "      <td>35</td>\n",
       "      <td>ВЫСШЕЕ</td>\n",
       "      <td>0</td>\n",
       "      <td>гражданский брак</td>\n",
       "      <td>1</td>\n",
       "      <td>F</td>\n",
       "      <td>сотрудник</td>\n",
       "      <td>0</td>\n",
       "      <td>95856.832424</td>\n",
       "      <td>на проведение свадьбы</td>\n",
       "    </tr>\n",
       "    <tr>\n",
       "      <th>9</th>\n",
       "      <td>0</td>\n",
       "      <td>-2188.756445</td>\n",
       "      <td>41</td>\n",
       "      <td>среднее</td>\n",
       "      <td>1</td>\n",
       "      <td>женат / замужем</td>\n",
       "      <td>0</td>\n",
       "      <td>M</td>\n",
       "      <td>сотрудник</td>\n",
       "      <td>0</td>\n",
       "      <td>144425.938277</td>\n",
       "      <td>покупка жилья для семьи</td>\n",
       "    </tr>\n",
       "  </tbody>\n",
       "</table>\n",
       "</div>"
      ],
      "text/plain": [
       "   children  days_employed  dob_years education  education_id  \\\n",
       "0         1   -8437.673028         42    высшее             0   \n",
       "1         1   -4024.803754         36   среднее             1   \n",
       "2         0   -5623.422610         33   Среднее             1   \n",
       "3         3   -4124.747207         32   среднее             1   \n",
       "4         0  340266.072047         53   среднее             1   \n",
       "5         0    -926.185831         27    высшее             0   \n",
       "6         0   -2879.202052         43    высшее             0   \n",
       "7         0    -152.779569         50   СРЕДНЕЕ             1   \n",
       "8         2   -6929.865299         35    ВЫСШЕЕ             0   \n",
       "9         0   -2188.756445         41   среднее             1   \n",
       "\n",
       "      family_status  family_status_id gender income_type  debt   total_income  \\\n",
       "0   женат / замужем                 0      F   сотрудник     0  253875.639453   \n",
       "1   женат / замужем                 0      F   сотрудник     0  112080.014102   \n",
       "2   женат / замужем                 0      M   сотрудник     0  145885.952297   \n",
       "3   женат / замужем                 0      M   сотрудник     0  267628.550329   \n",
       "4  гражданский брак                 1      F   пенсионер     0  158616.077870   \n",
       "5  гражданский брак                 1      M   компаньон     0  255763.565419   \n",
       "6   женат / замужем                 0      F   компаньон     0  240525.971920   \n",
       "7   женат / замужем                 0      M   сотрудник     0  135823.934197   \n",
       "8  гражданский брак                 1      F   сотрудник     0   95856.832424   \n",
       "9   женат / замужем                 0      M   сотрудник     0  144425.938277   \n",
       "\n",
       "                      purpose  \n",
       "0               покупка жилья  \n",
       "1     приобретение автомобиля  \n",
       "2               покупка жилья  \n",
       "3  дополнительное образование  \n",
       "4             сыграть свадьбу  \n",
       "5               покупка жилья  \n",
       "6           операции с жильем  \n",
       "7                 образование  \n",
       "8       на проведение свадьбы  \n",
       "9     покупка жилья для семьи  "
      ]
     },
     "metadata": {},
     "output_type": "display_data"
    },
    {
     "name": "stdout",
     "output_type": "stream",
     "text": [
      "Общая информация:\n",
      "<class 'pandas.core.frame.DataFrame'>\n",
      "RangeIndex: 21525 entries, 0 to 21524\n",
      "Data columns (total 12 columns):\n",
      " #   Column            Non-Null Count  Dtype  \n",
      "---  ------            --------------  -----  \n",
      " 0   children          21525 non-null  int64  \n",
      " 1   days_employed     19351 non-null  float64\n",
      " 2   dob_years         21525 non-null  int64  \n",
      " 3   education         21525 non-null  object \n",
      " 4   education_id      21525 non-null  int64  \n",
      " 5   family_status     21525 non-null  object \n",
      " 6   family_status_id  21525 non-null  int64  \n",
      " 7   gender            21525 non-null  object \n",
      " 8   income_type       21525 non-null  object \n",
      " 9   debt              21525 non-null  int64  \n",
      " 10  total_income      19351 non-null  float64\n",
      " 11  purpose           21525 non-null  object \n",
      "dtypes: float64(2), int64(5), object(5)\n",
      "memory usage: 2.0+ MB\n"
     ]
    },
    {
     "data": {
      "text/plain": [
       "None"
      ]
     },
     "metadata": {},
     "output_type": "display_data"
    },
    {
     "name": "stdout",
     "output_type": "stream",
     "text": [
      "Общая статистика:\n"
     ]
    },
    {
     "data": {
      "text/html": [
       "<div>\n",
       "<style scoped>\n",
       "    .dataframe tbody tr th:only-of-type {\n",
       "        vertical-align: middle;\n",
       "    }\n",
       "\n",
       "    .dataframe tbody tr th {\n",
       "        vertical-align: top;\n",
       "    }\n",
       "\n",
       "    .dataframe thead th {\n",
       "        text-align: right;\n",
       "    }\n",
       "</style>\n",
       "<table border=\"1\" class=\"dataframe\">\n",
       "  <thead>\n",
       "    <tr style=\"text-align: right;\">\n",
       "      <th></th>\n",
       "      <th>children</th>\n",
       "      <th>days_employed</th>\n",
       "      <th>dob_years</th>\n",
       "      <th>education_id</th>\n",
       "      <th>family_status_id</th>\n",
       "      <th>debt</th>\n",
       "      <th>total_income</th>\n",
       "    </tr>\n",
       "  </thead>\n",
       "  <tbody>\n",
       "    <tr>\n",
       "      <th>count</th>\n",
       "      <td>21525.000000</td>\n",
       "      <td>19351.000000</td>\n",
       "      <td>21525.000000</td>\n",
       "      <td>21525.000000</td>\n",
       "      <td>21525.000000</td>\n",
       "      <td>21525.000000</td>\n",
       "      <td>1.935100e+04</td>\n",
       "    </tr>\n",
       "    <tr>\n",
       "      <th>mean</th>\n",
       "      <td>0.538908</td>\n",
       "      <td>63046.497661</td>\n",
       "      <td>43.293380</td>\n",
       "      <td>0.817236</td>\n",
       "      <td>0.972544</td>\n",
       "      <td>0.080883</td>\n",
       "      <td>1.674223e+05</td>\n",
       "    </tr>\n",
       "    <tr>\n",
       "      <th>std</th>\n",
       "      <td>1.381587</td>\n",
       "      <td>140827.311974</td>\n",
       "      <td>12.574584</td>\n",
       "      <td>0.548138</td>\n",
       "      <td>1.420324</td>\n",
       "      <td>0.272661</td>\n",
       "      <td>1.029716e+05</td>\n",
       "    </tr>\n",
       "    <tr>\n",
       "      <th>min</th>\n",
       "      <td>-1.000000</td>\n",
       "      <td>-18388.949901</td>\n",
       "      <td>0.000000</td>\n",
       "      <td>0.000000</td>\n",
       "      <td>0.000000</td>\n",
       "      <td>0.000000</td>\n",
       "      <td>2.066726e+04</td>\n",
       "    </tr>\n",
       "    <tr>\n",
       "      <th>25%</th>\n",
       "      <td>0.000000</td>\n",
       "      <td>-2747.423625</td>\n",
       "      <td>33.000000</td>\n",
       "      <td>1.000000</td>\n",
       "      <td>0.000000</td>\n",
       "      <td>0.000000</td>\n",
       "      <td>1.030532e+05</td>\n",
       "    </tr>\n",
       "    <tr>\n",
       "      <th>50%</th>\n",
       "      <td>0.000000</td>\n",
       "      <td>-1203.369529</td>\n",
       "      <td>42.000000</td>\n",
       "      <td>1.000000</td>\n",
       "      <td>0.000000</td>\n",
       "      <td>0.000000</td>\n",
       "      <td>1.450179e+05</td>\n",
       "    </tr>\n",
       "    <tr>\n",
       "      <th>75%</th>\n",
       "      <td>1.000000</td>\n",
       "      <td>-291.095954</td>\n",
       "      <td>53.000000</td>\n",
       "      <td>1.000000</td>\n",
       "      <td>1.000000</td>\n",
       "      <td>0.000000</td>\n",
       "      <td>2.034351e+05</td>\n",
       "    </tr>\n",
       "    <tr>\n",
       "      <th>max</th>\n",
       "      <td>20.000000</td>\n",
       "      <td>401755.400475</td>\n",
       "      <td>75.000000</td>\n",
       "      <td>4.000000</td>\n",
       "      <td>4.000000</td>\n",
       "      <td>1.000000</td>\n",
       "      <td>2.265604e+06</td>\n",
       "    </tr>\n",
       "  </tbody>\n",
       "</table>\n",
       "</div>"
      ],
      "text/plain": [
       "           children  days_employed     dob_years  education_id  \\\n",
       "count  21525.000000   19351.000000  21525.000000  21525.000000   \n",
       "mean       0.538908   63046.497661     43.293380      0.817236   \n",
       "std        1.381587  140827.311974     12.574584      0.548138   \n",
       "min       -1.000000  -18388.949901      0.000000      0.000000   \n",
       "25%        0.000000   -2747.423625     33.000000      1.000000   \n",
       "50%        0.000000   -1203.369529     42.000000      1.000000   \n",
       "75%        1.000000    -291.095954     53.000000      1.000000   \n",
       "max       20.000000  401755.400475     75.000000      4.000000   \n",
       "\n",
       "       family_status_id          debt  total_income  \n",
       "count      21525.000000  21525.000000  1.935100e+04  \n",
       "mean           0.972544      0.080883  1.674223e+05  \n",
       "std            1.420324      0.272661  1.029716e+05  \n",
       "min            0.000000      0.000000  2.066726e+04  \n",
       "25%            0.000000      0.000000  1.030532e+05  \n",
       "50%            0.000000      0.000000  1.450179e+05  \n",
       "75%            1.000000      0.000000  2.034351e+05  \n",
       "max            4.000000      1.000000  2.265604e+06  "
      ]
     },
     "metadata": {},
     "output_type": "display_data"
    },
    {
     "name": "stdout",
     "output_type": "stream",
     "text": [
      "Дубликаты:\n"
     ]
    },
    {
     "data": {
      "text/plain": [
       "54"
      ]
     },
     "metadata": {},
     "output_type": "display_data"
    },
    {
     "name": "stdout",
     "output_type": "stream",
     "text": [
      "0.3%\n",
      "Пропуски:\n",
      "children - 0.0%\n",
      "days_employed - 10.1%\n",
      "dob_years - 0.0%\n",
      "education - 0.0%\n",
      "education_id - 0.0%\n",
      "family_status - 0.0%\n",
      "family_status_id - 0.0%\n",
      "gender - 0.0%\n",
      "income_type - 0.0%\n",
      "debt - 0.0%\n",
      "total_income - 10.1%\n",
      "purpose - 0.0%\n",
      "Уникальные значения столбцов:\n",
      "Уникальные значения столбца children\n",
      "[ 1  0  3  2 -1  4 20  5]\n",
      "Уникальные значения столбца days_employed\n",
      "[-8437.67302776 -4024.80375385 -5623.42261023 ... -2113.3468877\n",
      " -3112.4817052  -1984.50758853]\n",
      "Уникальные значения столбца dob_years\n",
      "[42 36 33 32 53 27 43 50 35 41 40 65 54 56 26 48 24 21 57 67 28 63 62 47\n",
      " 34 68 25 31 30 20 49 37 45 61 64 44 52 46 23 38 39 51  0 59 29 60 55 58\n",
      " 71 22 73 66 69 19 72 70 74 75]\n",
      "Уникальные значения столбца education\n",
      "['высшее' 'среднее' 'Среднее' 'СРЕДНЕЕ' 'ВЫСШЕЕ' 'неоконченное высшее'\n",
      " 'начальное' 'Высшее' 'НЕОКОНЧЕННОЕ ВЫСШЕЕ' 'Неоконченное высшее'\n",
      " 'НАЧАЛЬНОЕ' 'Начальное' 'Ученая степень' 'УЧЕНАЯ СТЕПЕНЬ'\n",
      " 'ученая степень']\n",
      "Уникальные значения столбца education_id\n",
      "[0 1 2 3 4]\n",
      "Уникальные значения столбца family_status\n",
      "['женат / замужем' 'гражданский брак' 'вдовец / вдова' 'в разводе'\n",
      " 'Не женат / не замужем']\n",
      "Уникальные значения столбца family_status_id\n",
      "[0 1 2 3 4]\n",
      "Уникальные значения столбца gender\n",
      "['F' 'M' 'XNA']\n",
      "Уникальные значения столбца income_type\n",
      "['сотрудник' 'пенсионер' 'компаньон' 'госслужащий' 'безработный'\n",
      " 'предприниматель' 'студент' 'в декрете']\n",
      "Уникальные значения столбца debt\n",
      "[0 1]\n",
      "Уникальные значения столбца total_income\n",
      "[253875.6394526  112080.01410244 145885.95229686 ...  89672.56115303\n",
      " 244093.05050043  82047.41889948]\n",
      "Уникальные значения столбца purpose\n",
      "['покупка жилья' 'приобретение автомобиля' 'дополнительное образование'\n",
      " 'сыграть свадьбу' 'операции с жильем' 'образование'\n",
      " 'на проведение свадьбы' 'покупка жилья для семьи' 'покупка недвижимости'\n",
      " 'покупка коммерческой недвижимости' 'покупка жилой недвижимости'\n",
      " 'строительство собственной недвижимости' 'недвижимость'\n",
      " 'строительство недвижимости' 'на покупку подержанного автомобиля'\n",
      " 'на покупку своего автомобиля' 'операции с коммерческой недвижимостью'\n",
      " 'строительство жилой недвижимости' 'жилье'\n",
      " 'операции со своей недвижимостью' 'автомобили' 'заняться образованием'\n",
      " 'сделка с подержанным автомобилем' 'получение образования' 'автомобиль'\n",
      " 'свадьба' 'получение дополнительного образования' 'покупка своего жилья'\n",
      " 'операции с недвижимостью' 'получение высшего образования'\n",
      " 'свой автомобиль' 'сделка с автомобилем' 'профильное образование'\n",
      " 'высшее образование' 'покупка жилья для сдачи' 'на покупку автомобиля'\n",
      " 'ремонт жилью' 'заняться высшим образованием']\n",
      "Матрица диаграмм:\n"
     ]
    },
    {
     "data": {
      "image/png": "[encoded data removed]",
      "text/plain": [
       "<Figure size 720x720 with 49 Axes>"
      ]
     },
     "metadata": {
      "needs_background": "light"
     },
     "output_type": "display_data"
    },
    {
     "name": "stdout",
     "output_type": "stream",
     "text": [
      "Heatmap корреляций:\n"
     ]
    },
    {
     "data": {
      "image/png": "[encoded data removed]",
      "text/plain": [
       "<Figure size 720x720 with 2 Axes>"
      ]
     },
     "metadata": {
      "needs_background": "light"
     },
     "output_type": "display_data"
    }
   ],
   "source": [
    "info_row(data)"
   ]
  },
  {
   "cell_type": "markdown",
   "metadata": {},
   "source": [
    "**Выводы на основании изучения общей информации**                                                                                \n",
    "*В таблице двенадцать столбцов.  \n",
    "Согласно документации к данным:*\n",
    "* `children` — *количество детей в семье <font color='red'>(в столбце имеются ошибки записи, а именно  '20' и '-1' по 76 и 47 значений соответственно);</font>*\n",
    "* `days_employed` — *общий трудовой стаж в днях <font color='red'>(в столбце пропуски значений в количестве '2174', а так же отрицательные значения);</font>*  \n",
    "* `dob_years` — *возраст клиента в годах <font color='red'>(имеются нулевые значения в колличестве '101');</font>*\n",
    "* `education` — *уровень образования клиента <font color='red'>(имеются явные дубликаты ввиду того, что использованы строчные и прописные символы);</font>*\n",
    "* `education_id` — *идентификатор уровня образования;*\n",
    "* `family_status` — *семейное положение;*\n",
    "* `family_status_id` — *идентификатор семейного положения;* \n",
    "* `gender` — *пол клиента <font color='red'>(имеет одно пропущенное значение, данную строку следует удалить);</font>*\n",
    "* `income_type` — *тип занятости;*\n",
    "* `debt` — *имел ли задолженность по возврату кредитов;*\n",
    "* `total_income` — *ежемесячный доход <font color='red'>(в столбце имеются пропуски значений в колличестве '2174');</font>*\n",
    "* `purpose` — *цель получения кредита <font color='red'>(имеются неявные дубликаты)</font>*   "
   ]
  },
  {
   "cell_type": "markdown",
   "metadata": {},
   "source": [
    "## Шаг 2. Предобработка данных"
   ]
  },
  {
   "cell_type": "markdown",
   "metadata": {},
   "source": [
    "### Обработка пропусков"
   ]
  },
  {
   "cell_type": "markdown",
   "metadata": {},
   "source": [
    "*Начинаем обработку с первого столбца `children`. Согласно информации, полученной на первом этапе двадцать детей у 76 клиентов, а минус один у сорока семи. Двадцать детей само по себе большая редкость, но у 76 клиентов одного банка - это за гранью реальности, ну а про минус один можно не уточнять,так что в данном случае к ошибочным значениям привел человеческий фактор,меняем на значения ближе подходящие по смыслу '20' - на '2' и '-1' на '1' соответственно*"
   ]
  },
  {
   "cell_type": "code",
   "execution_count": 13,
   "metadata": {
    "ExecuteTime": {
     "end_time": "2022-05-14T15:36:54.742138Z",
     "start_time": "2022-05-14T15:36:54.726496Z"
    }
   },
   "outputs": [
    {
     "data": {
      "text/plain": [
       "array([1, 0, 3, 2, 4, 5], dtype=int64)"
      ]
     },
     "execution_count": 13,
     "metadata": {},
     "output_type": "execute_result"
    }
   ],
   "source": [
    "data['children'] = data['children'].replace(20, 2)\n",
    "data['children'] = data['children'].replace(-1, 1)\n",
    "data['children'].unique()"
   ]
  },
  {
   "cell_type": "markdown",
   "metadata": {},
   "source": [
    "*Так как в столбце `gender`вместо пола клиента указана аббревиатура `XNA`, что с высокой вероятностью соответсвует пропущенному по случайным обстоятельствам значению. Всего одно значение, которое не повлияет на решение поставленных задач. Необходимо удалить данную строку, для того, чтобы избежать лишних манипуляций с ней.*"
   ]
  },
  {
   "cell_type": "code",
   "execution_count": 14,
   "metadata": {
    "ExecuteTime": {
     "end_time": "2022-05-14T15:36:55.791686Z",
     "start_time": "2022-05-14T15:36:55.766726Z"
    }
   },
   "outputs": [
    {
     "name": "stdout",
     "output_type": "stream",
     "text": [
      "<class 'pandas.core.frame.DataFrame'>\n",
      "Int64Index: 21524 entries, 0 to 21524\n",
      "Data columns (total 12 columns):\n",
      " #   Column            Non-Null Count  Dtype  \n",
      "---  ------            --------------  -----  \n",
      " 0   children          21524 non-null  int64  \n",
      " 1   days_employed     19350 non-null  float64\n",
      " 2   dob_years         21524 non-null  int64  \n",
      " 3   education         21524 non-null  object \n",
      " 4   education_id      21524 non-null  int64  \n",
      " 5   family_status     21524 non-null  object \n",
      " 6   family_status_id  21524 non-null  int64  \n",
      " 7   gender            21524 non-null  object \n",
      " 8   income_type       21524 non-null  object \n",
      " 9   debt              21524 non-null  int64  \n",
      " 10  total_income      19350 non-null  float64\n",
      " 11  purpose           21524 non-null  object \n",
      "dtypes: float64(2), int64(5), object(5)\n",
      "memory usage: 2.1+ MB\n"
     ]
    }
   ],
   "source": [
    "data = data[data['gender'] != 'XNA']\n",
    "data.info()"
   ]
  },
  {
   "cell_type": "markdown",
   "metadata": {},
   "source": [
    "*Чтобы учесть все дубликаты, образованные ошибкой в записиси данных благодаря использованию прописных и строчных символов, в столбце `education` приводим их к нижнему регистру методом str.lower()*"
   ]
  },
  {
   "cell_type": "code",
   "execution_count": 15,
   "metadata": {
    "ExecuteTime": {
     "end_time": "2022-05-14T15:36:56.736741Z",
     "start_time": "2022-05-14T15:36:56.718763Z"
    }
   },
   "outputs": [
    {
     "data": {
      "text/plain": [
       "array(['высшее', 'среднее', 'неоконченное высшее', 'начальное',\n",
       "       'ученая степень'], dtype=object)"
      ]
     },
     "execution_count": 15,
     "metadata": {},
     "output_type": "execute_result"
    }
   ],
   "source": [
    "data['education'] = data['education'].str.lower()\n",
    "data['education'].unique()"
   ]
  },
  {
   "cell_type": "markdown",
   "metadata": {},
   "source": [
    "*В столбце `dob_years`, на основании которого впоследствии  будут сгруппированы данные и получены медианы значений по возрасту, благодаря которым станет возможным более точное заполнение пропущенных данных в `days_employed` и `total_income`, есть нулевые значения*"
   ]
  },
  {
   "cell_type": "code",
   "execution_count": 16,
   "metadata": {
    "ExecuteTime": {
     "end_time": "2022-05-14T15:36:57.430237Z",
     "start_time": "2022-05-14T15:36:57.405562Z"
    }
   },
   "outputs": [
    {
     "data": {
      "text/plain": [
       "array([42, 36, 33, 32, 53, 27, 43, 50, 35, 41, 40, 65, 54, 56, 26, 48, 24,\n",
       "       21, 57, 67, 28, 63, 62, 47, 34, 68, 25, 31, 30, 20, 49, 37, 45, 61,\n",
       "       64, 44, 52, 46, 23, 38, 39, 51, 59, 29, 60, 55, 58, 71, 22, 73, 66,\n",
       "       69, 19, 72, 70, 74, 75], dtype=int64)"
      ]
     },
     "execution_count": 16,
     "metadata": {},
     "output_type": "execute_result"
    }
   ],
   "source": [
    "data['dob_years'] = data['dob_years'].replace(0).fillna(data.groupby('income_type')['dob_years'].transform('median'))\n",
    "data['dob_years'].unique()"
   ]
  },
  {
   "cell_type": "markdown",
   "metadata": {},
   "source": [
    "*Таким образом, исправив все значения в сопутствующих колонках, можно заняться обработкой пропусков в столбцах `days_employed` и `total_income`.*  \n",
    "*Выведем общее количество пропусков данных:*"
   ]
  },
  {
   "cell_type": "code",
   "execution_count": 17,
   "metadata": {
    "ExecuteTime": {
     "end_time": "2022-05-14T15:36:58.132850Z",
     "start_time": "2022-05-14T15:36:58.108890Z"
    }
   },
   "outputs": [
    {
     "data": {
      "text/plain": [
       "children               0\n",
       "days_employed       2174\n",
       "dob_years              0\n",
       "education              0\n",
       "education_id           0\n",
       "family_status          0\n",
       "family_status_id       0\n",
       "gender                 0\n",
       "income_type            0\n",
       "debt                   0\n",
       "total_income        2174\n",
       "purpose                0\n",
       "dtype: int64"
      ]
     },
     "execution_count": 17,
     "metadata": {},
     "output_type": "execute_result"
    }
   ],
   "source": [
    "data.isna().sum()"
   ]
  },
  {
   "cell_type": "markdown",
   "metadata": {},
   "source": [
    "*Для ознакомления со строками, в которых есть пропуски, отфильтруем таблицу по данному принципу и выведем на экран первые пятнадцать строчек отфильтрованных данных:*"
   ]
  },
  {
   "cell_type": "code",
   "execution_count": 18,
   "metadata": {
    "ExecuteTime": {
     "end_time": "2022-05-14T15:36:59.640524Z",
     "start_time": "2022-05-14T15:36:59.621577Z"
    }
   },
   "outputs": [
    {
     "data": {
      "text/html": [
       "<div>\n",
       "<style scoped>\n",
       "    .dataframe tbody tr th:only-of-type {\n",
       "        vertical-align: middle;\n",
       "    }\n",
       "\n",
       "    .dataframe tbody tr th {\n",
       "        vertical-align: top;\n",
       "    }\n",
       "\n",
       "    .dataframe thead th {\n",
       "        text-align: right;\n",
       "    }\n",
       "</style>\n",
       "<table border=\"1\" class=\"dataframe\">\n",
       "  <thead>\n",
       "    <tr style=\"text-align: right;\">\n",
       "      <th></th>\n",
       "      <th>children</th>\n",
       "      <th>days_employed</th>\n",
       "      <th>dob_years</th>\n",
       "      <th>education</th>\n",
       "      <th>education_id</th>\n",
       "      <th>family_status</th>\n",
       "      <th>family_status_id</th>\n",
       "      <th>gender</th>\n",
       "      <th>income_type</th>\n",
       "      <th>debt</th>\n",
       "      <th>total_income</th>\n",
       "      <th>purpose</th>\n",
       "    </tr>\n",
       "  </thead>\n",
       "  <tbody>\n",
       "    <tr>\n",
       "      <th>12</th>\n",
       "      <td>0</td>\n",
       "      <td>NaN</td>\n",
       "      <td>65</td>\n",
       "      <td>среднее</td>\n",
       "      <td>1</td>\n",
       "      <td>гражданский брак</td>\n",
       "      <td>1</td>\n",
       "      <td>M</td>\n",
       "      <td>пенсионер</td>\n",
       "      <td>0</td>\n",
       "      <td>NaN</td>\n",
       "      <td>сыграть свадьбу</td>\n",
       "    </tr>\n",
       "    <tr>\n",
       "      <th>26</th>\n",
       "      <td>0</td>\n",
       "      <td>NaN</td>\n",
       "      <td>41</td>\n",
       "      <td>среднее</td>\n",
       "      <td>1</td>\n",
       "      <td>женат / замужем</td>\n",
       "      <td>0</td>\n",
       "      <td>M</td>\n",
       "      <td>госслужащий</td>\n",
       "      <td>0</td>\n",
       "      <td>NaN</td>\n",
       "      <td>образование</td>\n",
       "    </tr>\n",
       "    <tr>\n",
       "      <th>29</th>\n",
       "      <td>0</td>\n",
       "      <td>NaN</td>\n",
       "      <td>63</td>\n",
       "      <td>среднее</td>\n",
       "      <td>1</td>\n",
       "      <td>Не женат / не замужем</td>\n",
       "      <td>4</td>\n",
       "      <td>F</td>\n",
       "      <td>пенсионер</td>\n",
       "      <td>0</td>\n",
       "      <td>NaN</td>\n",
       "      <td>строительство жилой недвижимости</td>\n",
       "    </tr>\n",
       "    <tr>\n",
       "      <th>41</th>\n",
       "      <td>0</td>\n",
       "      <td>NaN</td>\n",
       "      <td>50</td>\n",
       "      <td>среднее</td>\n",
       "      <td>1</td>\n",
       "      <td>женат / замужем</td>\n",
       "      <td>0</td>\n",
       "      <td>F</td>\n",
       "      <td>госслужащий</td>\n",
       "      <td>0</td>\n",
       "      <td>NaN</td>\n",
       "      <td>сделка с подержанным автомобилем</td>\n",
       "    </tr>\n",
       "    <tr>\n",
       "      <th>55</th>\n",
       "      <td>0</td>\n",
       "      <td>NaN</td>\n",
       "      <td>54</td>\n",
       "      <td>среднее</td>\n",
       "      <td>1</td>\n",
       "      <td>гражданский брак</td>\n",
       "      <td>1</td>\n",
       "      <td>F</td>\n",
       "      <td>пенсионер</td>\n",
       "      <td>1</td>\n",
       "      <td>NaN</td>\n",
       "      <td>сыграть свадьбу</td>\n",
       "    </tr>\n",
       "    <tr>\n",
       "      <th>65</th>\n",
       "      <td>0</td>\n",
       "      <td>NaN</td>\n",
       "      <td>21</td>\n",
       "      <td>среднее</td>\n",
       "      <td>1</td>\n",
       "      <td>Не женат / не замужем</td>\n",
       "      <td>4</td>\n",
       "      <td>M</td>\n",
       "      <td>компаньон</td>\n",
       "      <td>0</td>\n",
       "      <td>NaN</td>\n",
       "      <td>операции с коммерческой недвижимостью</td>\n",
       "    </tr>\n",
       "    <tr>\n",
       "      <th>67</th>\n",
       "      <td>0</td>\n",
       "      <td>NaN</td>\n",
       "      <td>52</td>\n",
       "      <td>высшее</td>\n",
       "      <td>0</td>\n",
       "      <td>женат / замужем</td>\n",
       "      <td>0</td>\n",
       "      <td>F</td>\n",
       "      <td>пенсионер</td>\n",
       "      <td>0</td>\n",
       "      <td>NaN</td>\n",
       "      <td>покупка жилья для семьи</td>\n",
       "    </tr>\n",
       "    <tr>\n",
       "      <th>72</th>\n",
       "      <td>1</td>\n",
       "      <td>NaN</td>\n",
       "      <td>32</td>\n",
       "      <td>высшее</td>\n",
       "      <td>0</td>\n",
       "      <td>женат / замужем</td>\n",
       "      <td>0</td>\n",
       "      <td>M</td>\n",
       "      <td>госслужащий</td>\n",
       "      <td>0</td>\n",
       "      <td>NaN</td>\n",
       "      <td>операции с коммерческой недвижимостью</td>\n",
       "    </tr>\n",
       "    <tr>\n",
       "      <th>82</th>\n",
       "      <td>2</td>\n",
       "      <td>NaN</td>\n",
       "      <td>50</td>\n",
       "      <td>высшее</td>\n",
       "      <td>0</td>\n",
       "      <td>женат / замужем</td>\n",
       "      <td>0</td>\n",
       "      <td>F</td>\n",
       "      <td>сотрудник</td>\n",
       "      <td>0</td>\n",
       "      <td>NaN</td>\n",
       "      <td>жилье</td>\n",
       "    </tr>\n",
       "    <tr>\n",
       "      <th>83</th>\n",
       "      <td>0</td>\n",
       "      <td>NaN</td>\n",
       "      <td>52</td>\n",
       "      <td>среднее</td>\n",
       "      <td>1</td>\n",
       "      <td>женат / замужем</td>\n",
       "      <td>0</td>\n",
       "      <td>M</td>\n",
       "      <td>сотрудник</td>\n",
       "      <td>0</td>\n",
       "      <td>NaN</td>\n",
       "      <td>жилье</td>\n",
       "    </tr>\n",
       "    <tr>\n",
       "      <th>90</th>\n",
       "      <td>2</td>\n",
       "      <td>NaN</td>\n",
       "      <td>35</td>\n",
       "      <td>высшее</td>\n",
       "      <td>0</td>\n",
       "      <td>женат / замужем</td>\n",
       "      <td>0</td>\n",
       "      <td>F</td>\n",
       "      <td>сотрудник</td>\n",
       "      <td>0</td>\n",
       "      <td>NaN</td>\n",
       "      <td>операции с жильем</td>\n",
       "    </tr>\n",
       "    <tr>\n",
       "      <th>94</th>\n",
       "      <td>1</td>\n",
       "      <td>NaN</td>\n",
       "      <td>34</td>\n",
       "      <td>высшее</td>\n",
       "      <td>0</td>\n",
       "      <td>гражданский брак</td>\n",
       "      <td>1</td>\n",
       "      <td>F</td>\n",
       "      <td>компаньон</td>\n",
       "      <td>0</td>\n",
       "      <td>NaN</td>\n",
       "      <td>на проведение свадьбы</td>\n",
       "    </tr>\n",
       "    <tr>\n",
       "      <th>96</th>\n",
       "      <td>0</td>\n",
       "      <td>NaN</td>\n",
       "      <td>44</td>\n",
       "      <td>среднее</td>\n",
       "      <td>1</td>\n",
       "      <td>женат / замужем</td>\n",
       "      <td>0</td>\n",
       "      <td>F</td>\n",
       "      <td>сотрудник</td>\n",
       "      <td>0</td>\n",
       "      <td>NaN</td>\n",
       "      <td>покупка жилой недвижимости</td>\n",
       "    </tr>\n",
       "    <tr>\n",
       "      <th>97</th>\n",
       "      <td>0</td>\n",
       "      <td>NaN</td>\n",
       "      <td>47</td>\n",
       "      <td>высшее</td>\n",
       "      <td>0</td>\n",
       "      <td>женат / замужем</td>\n",
       "      <td>0</td>\n",
       "      <td>F</td>\n",
       "      <td>сотрудник</td>\n",
       "      <td>0</td>\n",
       "      <td>NaN</td>\n",
       "      <td>профильное образование</td>\n",
       "    </tr>\n",
       "    <tr>\n",
       "      <th>120</th>\n",
       "      <td>0</td>\n",
       "      <td>NaN</td>\n",
       "      <td>46</td>\n",
       "      <td>среднее</td>\n",
       "      <td>1</td>\n",
       "      <td>женат / замужем</td>\n",
       "      <td>0</td>\n",
       "      <td>F</td>\n",
       "      <td>сотрудник</td>\n",
       "      <td>0</td>\n",
       "      <td>NaN</td>\n",
       "      <td>высшее образование</td>\n",
       "    </tr>\n",
       "  </tbody>\n",
       "</table>\n",
       "</div>"
      ],
      "text/plain": [
       "     children  days_employed  dob_years education  education_id  \\\n",
       "12          0            NaN         65   среднее             1   \n",
       "26          0            NaN         41   среднее             1   \n",
       "29          0            NaN         63   среднее             1   \n",
       "41          0            NaN         50   среднее             1   \n",
       "55          0            NaN         54   среднее             1   \n",
       "65          0            NaN         21   среднее             1   \n",
       "67          0            NaN         52    высшее             0   \n",
       "72          1            NaN         32    высшее             0   \n",
       "82          2            NaN         50    высшее             0   \n",
       "83          0            NaN         52   среднее             1   \n",
       "90          2            NaN         35    высшее             0   \n",
       "94          1            NaN         34    высшее             0   \n",
       "96          0            NaN         44   среднее             1   \n",
       "97          0            NaN         47    высшее             0   \n",
       "120         0            NaN         46   среднее             1   \n",
       "\n",
       "             family_status  family_status_id gender  income_type  debt  \\\n",
       "12        гражданский брак                 1      M    пенсионер     0   \n",
       "26         женат / замужем                 0      M  госслужащий     0   \n",
       "29   Не женат / не замужем                 4      F    пенсионер     0   \n",
       "41         женат / замужем                 0      F  госслужащий     0   \n",
       "55        гражданский брак                 1      F    пенсионер     1   \n",
       "65   Не женат / не замужем                 4      M    компаньон     0   \n",
       "67         женат / замужем                 0      F    пенсионер     0   \n",
       "72         женат / замужем                 0      M  госслужащий     0   \n",
       "82         женат / замужем                 0      F    сотрудник     0   \n",
       "83         женат / замужем                 0      M    сотрудник     0   \n",
       "90         женат / замужем                 0      F    сотрудник     0   \n",
       "94        гражданский брак                 1      F    компаньон     0   \n",
       "96         женат / замужем                 0      F    сотрудник     0   \n",
       "97         женат / замужем                 0      F    сотрудник     0   \n",
       "120        женат / замужем                 0      F    сотрудник     0   \n",
       "\n",
       "     total_income                                purpose  \n",
       "12            NaN                        сыграть свадьбу  \n",
       "26            NaN                            образование  \n",
       "29            NaN       строительство жилой недвижимости  \n",
       "41            NaN       сделка с подержанным автомобилем  \n",
       "55            NaN                        сыграть свадьбу  \n",
       "65            NaN  операции с коммерческой недвижимостью  \n",
       "67            NaN                покупка жилья для семьи  \n",
       "72            NaN  операции с коммерческой недвижимостью  \n",
       "82            NaN                                  жилье  \n",
       "83            NaN                                  жилье  \n",
       "90            NaN                      операции с жильем  \n",
       "94            NaN                  на проведение свадьбы  \n",
       "96            NaN             покупка жилой недвижимости  \n",
       "97            NaN                 профильное образование  \n",
       "120           NaN                     высшее образование  "
      ]
     },
     "execution_count": 18,
     "metadata": {},
     "output_type": "execute_result"
    }
   ],
   "source": [
    "data[data['total_income'].isna()].head(15)"
   ]
  },
  {
   "cell_type": "code",
   "execution_count": 19,
   "metadata": {
    "ExecuteTime": {
     "end_time": "2022-05-14T15:37:00.302489Z",
     "start_time": "2022-05-14T15:37:00.285514Z"
    }
   },
   "outputs": [
    {
     "name": "stdout",
     "output_type": "stream",
     "text": [
      "<class 'pandas.core.frame.DataFrame'>\n",
      "Int64Index: 2174 entries, 12 to 21510\n",
      "Data columns (total 12 columns):\n",
      " #   Column            Non-Null Count  Dtype  \n",
      "---  ------            --------------  -----  \n",
      " 0   children          2174 non-null   int64  \n",
      " 1   days_employed     0 non-null      float64\n",
      " 2   dob_years         2174 non-null   int64  \n",
      " 3   education         2174 non-null   object \n",
      " 4   education_id      2174 non-null   int64  \n",
      " 5   family_status     2174 non-null   object \n",
      " 6   family_status_id  2174 non-null   int64  \n",
      " 7   gender            2174 non-null   object \n",
      " 8   income_type       2174 non-null   object \n",
      " 9   debt              2174 non-null   int64  \n",
      " 10  total_income      0 non-null      float64\n",
      " 11  purpose           2174 non-null   object \n",
      "dtypes: float64(2), int64(5), object(5)\n",
      "memory usage: 220.8+ KB\n"
     ]
    }
   ],
   "source": [
    "data[data['total_income'].isna()].info()"
   ]
  },
  {
   "cell_type": "markdown",
   "metadata": {},
   "source": [
    "  *Исходя из результата, можно утверждать,что все пропущенные значения в столбцах `days_employed` и `total_income` \n",
    "в одних и тех же строках.  \n",
    "  Сгруппируем данные по `income_type` и заменим все пропущенные значения медианами по каждому типу занятости:*  "
   ]
  },
  {
   "cell_type": "code",
   "execution_count": 20,
   "metadata": {
    "ExecuteTime": {
     "end_time": "2022-05-14T15:37:01.295853Z",
     "start_time": "2022-05-14T15:37:01.285885Z"
    }
   },
   "outputs": [
    {
     "data": {
      "text/plain": [
       "0"
      ]
     },
     "execution_count": 20,
     "metadata": {},
     "output_type": "execute_result"
    }
   ],
   "source": [
    "data['days_employed'] = data['days_employed'].fillna(data.groupby('income_type')['days_employed'].transform('median'))\n",
    "data['days_employed'].isna().sum()"
   ]
  },
  {
   "cell_type": "markdown",
   "metadata": {},
   "source": [
    "*То же самое проделываем со столбцом `total_income`.*"
   ]
  },
  {
   "cell_type": "code",
   "execution_count": 21,
   "metadata": {
    "ExecuteTime": {
     "end_time": "2022-05-14T15:37:02.256741Z",
     "start_time": "2022-05-14T15:37:02.245751Z"
    }
   },
   "outputs": [
    {
     "data": {
      "text/plain": [
       "0"
      ]
     },
     "execution_count": 21,
     "metadata": {},
     "output_type": "execute_result"
    }
   ],
   "source": [
    "data['total_income'] = data['total_income'].fillna(data.groupby('income_type')['total_income'].transform('median'))\n",
    "data['total_income'].isna().sum()"
   ]
  },
  {
   "cell_type": "markdown",
   "metadata": {},
   "source": [
    "**Выводы:**  \n",
    "1.  *На этапе  обработки пропусков устранены некорректные значения в столбце `children`, что в дальнейшем поможет более точно ответить на первый вопрос Заказчика - \"Есть ли зависимость между наличием детей и возвратом кредита в срок?\".*  \n",
    "2.  *Удалена не влияющая на выборку строка с неопределенным значением `XNA` в столбце `gender`.*  \n",
    "3.  *Устранены все нулевые значения в колонке `dob_years`, которые скорее всего попросту были не занесены в базу, по недосмотру сотрудников.*  \n",
    "4.  *Были устранены все дубликаты, образованные ошибкой в записиси данных благодаря использованию прописных и строчных символов, в столбце `education`.*\n",
    "5.  *После получения общей информации, в отфильтрованной по наличию пропусков выборки, были обнаружены по 2174 пропущенных значений в колонках `days_employed` и `total_income`. А так же определено полное совпадение в пропусках значений, то есть в строке, где пропущены значения в колонке `days_employed` также пропущено значение и в `total_income`. Какой-либо корреляции с типом занятости или другими предоставленными данными, обнаружено не было, считаю, что пропуски полностью случайные. Пропуски в данных колонках заполнялись по медианным значениям в соответствии с типом занятости `income_type`, так как данные имеют большой разброс в возрастных группах клиентов и различный доход соответственно роду занятий.*"
   ]
  },
  {
   "cell_type": "markdown",
   "metadata": {},
   "source": [
    "### Замена типа данных"
   ]
  },
  {
   "cell_type": "markdown",
   "metadata": {},
   "source": [
    "*В предоставленной выборке колонки `days_employed` и `total_income` имеют вещественные значения. Маловероятна возможность внесения таких значений сознательно, скорее всего речь идет об ошибке переноса/копирования данных.  \n",
    "Так же в колонке `days_employed` данные указаны с отрицательным значением, скорее всего данные были внесены, в виде подсчета дней, начиная с даты первого рабочего дня стажа клиента, но при переносе/копировании структура данных нарушилась.  \n",
    "Ввиду того, что Заказчик не установил жёсткие сроки, а так же невозможности связи с сотрудниками Заказчика, передавшими данную информацию, необходимо попробовать установить их закономерность. Значения в колонке `days_employed` не повлияют на решение, поставленных задач, поэтому, в случае, если установить логику в записи данных не удастся, придется оставить все как есть.*"
   ]
  },
  {
   "cell_type": "markdown",
   "metadata": {},
   "source": [
    "*Попробуем посмотреть различные выборки колонки `days_employed`*"
   ]
  },
  {
   "cell_type": "code",
   "execution_count": 22,
   "metadata": {
    "ExecuteTime": {
     "end_time": "2022-05-14T15:37:04.397638Z",
     "start_time": "2022-05-14T15:37:04.381676Z"
    }
   },
   "outputs": [
    {
     "data": {
      "text/html": [
       "<div>\n",
       "<style scoped>\n",
       "    .dataframe tbody tr th:only-of-type {\n",
       "        vertical-align: middle;\n",
       "    }\n",
       "\n",
       "    .dataframe tbody tr th {\n",
       "        vertical-align: top;\n",
       "    }\n",
       "\n",
       "    .dataframe thead th {\n",
       "        text-align: right;\n",
       "    }\n",
       "</style>\n",
       "<table border=\"1\" class=\"dataframe\">\n",
       "  <thead>\n",
       "    <tr style=\"text-align: right;\">\n",
       "      <th></th>\n",
       "      <th>children</th>\n",
       "      <th>days_employed</th>\n",
       "      <th>dob_years</th>\n",
       "      <th>education</th>\n",
       "      <th>education_id</th>\n",
       "      <th>family_status</th>\n",
       "      <th>family_status_id</th>\n",
       "      <th>gender</th>\n",
       "      <th>income_type</th>\n",
       "      <th>debt</th>\n",
       "      <th>total_income</th>\n",
       "      <th>purpose</th>\n",
       "    </tr>\n",
       "  </thead>\n",
       "  <tbody>\n",
       "    <tr>\n",
       "      <th>6954</th>\n",
       "      <td>0</td>\n",
       "      <td>401755.400475</td>\n",
       "      <td>56</td>\n",
       "      <td>среднее</td>\n",
       "      <td>1</td>\n",
       "      <td>вдовец / вдова</td>\n",
       "      <td>2</td>\n",
       "      <td>F</td>\n",
       "      <td>пенсионер</td>\n",
       "      <td>0</td>\n",
       "      <td>176278.441171</td>\n",
       "      <td>ремонт жилью</td>\n",
       "    </tr>\n",
       "  </tbody>\n",
       "</table>\n",
       "</div>"
      ],
      "text/plain": [
       "      children  days_employed  dob_years education  education_id  \\\n",
       "6954         0  401755.400475         56   среднее             1   \n",
       "\n",
       "       family_status  family_status_id gender income_type  debt  \\\n",
       "6954  вдовец / вдова                 2      F   пенсионер     0   \n",
       "\n",
       "       total_income       purpose  \n",
       "6954  176278.441171  ремонт жилью  "
      ]
     },
     "execution_count": 22,
     "metadata": {},
     "output_type": "execute_result"
    }
   ],
   "source": [
    "data.loc[data['days_employed'] == data['days_employed'].max()]"
   ]
  },
  {
   "cell_type": "code",
   "execution_count": 23,
   "metadata": {
    "ExecuteTime": {
     "end_time": "2022-05-14T15:37:04.950786Z",
     "start_time": "2022-05-14T15:37:04.934038Z"
    }
   },
   "outputs": [
    {
     "data": {
      "text/html": [
       "<div>\n",
       "<style scoped>\n",
       "    .dataframe tbody tr th:only-of-type {\n",
       "        vertical-align: middle;\n",
       "    }\n",
       "\n",
       "    .dataframe tbody tr th {\n",
       "        vertical-align: top;\n",
       "    }\n",
       "\n",
       "    .dataframe thead th {\n",
       "        text-align: right;\n",
       "    }\n",
       "</style>\n",
       "<table border=\"1\" class=\"dataframe\">\n",
       "  <thead>\n",
       "    <tr style=\"text-align: right;\">\n",
       "      <th></th>\n",
       "      <th>children</th>\n",
       "      <th>days_employed</th>\n",
       "      <th>dob_years</th>\n",
       "      <th>education</th>\n",
       "      <th>education_id</th>\n",
       "      <th>family_status</th>\n",
       "      <th>family_status_id</th>\n",
       "      <th>gender</th>\n",
       "      <th>income_type</th>\n",
       "      <th>debt</th>\n",
       "      <th>total_income</th>\n",
       "      <th>purpose</th>\n",
       "    </tr>\n",
       "  </thead>\n",
       "  <tbody>\n",
       "    <tr>\n",
       "      <th>16335</th>\n",
       "      <td>1</td>\n",
       "      <td>-18388.949901</td>\n",
       "      <td>61</td>\n",
       "      <td>среднее</td>\n",
       "      <td>1</td>\n",
       "      <td>женат / замужем</td>\n",
       "      <td>0</td>\n",
       "      <td>F</td>\n",
       "      <td>сотрудник</td>\n",
       "      <td>0</td>\n",
       "      <td>186178.934089</td>\n",
       "      <td>операции с недвижимостью</td>\n",
       "    </tr>\n",
       "  </tbody>\n",
       "</table>\n",
       "</div>"
      ],
      "text/plain": [
       "       children  days_employed  dob_years education  education_id  \\\n",
       "16335         1  -18388.949901         61   среднее             1   \n",
       "\n",
       "         family_status  family_status_id gender income_type  debt  \\\n",
       "16335  женат / замужем                 0      F   сотрудник     0   \n",
       "\n",
       "        total_income                   purpose  \n",
       "16335  186178.934089  операции с недвижимостью  "
      ]
     },
     "execution_count": 23,
     "metadata": {},
     "output_type": "execute_result"
    }
   ],
   "source": [
    "data.loc[data['days_employed'] == data['days_employed'].min()]"
   ]
  },
  {
   "cell_type": "code",
   "execution_count": 24,
   "metadata": {
    "ExecuteTime": {
     "end_time": "2022-05-14T15:37:05.544348Z",
     "start_time": "2022-05-14T15:37:05.533356Z"
    }
   },
   "outputs": [
    {
     "data": {
      "text/plain": [
       "income_type\n",
       "безработный        31\n",
       "в декрете          39\n",
       "госслужащий        19\n",
       "компаньон          19\n",
       "пенсионер          21\n",
       "предприниматель    27\n",
       "сотрудник          19\n",
       "студент            22\n",
       "Name: dob_years, dtype: int64"
      ]
     },
     "execution_count": 24,
     "metadata": {},
     "output_type": "execute_result"
    }
   ],
   "source": [
    "income_type_group_min = data.groupby('income_type')['dob_years'].min()\n",
    "income_type_group_min"
   ]
  },
  {
   "cell_type": "code",
   "execution_count": 25,
   "metadata": {
    "ExecuteTime": {
     "end_time": "2022-05-14T15:37:06.415902Z",
     "start_time": "2022-05-14T15:37:06.397946Z"
    }
   },
   "outputs": [
    {
     "data": {
      "text/plain": [
       "52.55357142857143"
      ]
     },
     "execution_count": 25,
     "metadata": {},
     "output_type": "execute_result"
    }
   ],
   "source": [
    "var_smart_calls = np.var(income_type_group_min, ddof=1)\n",
    "var_smart_calls"
   ]
  },
  {
   "cell_type": "code",
   "execution_count": 26,
   "metadata": {
    "ExecuteTime": {
     "end_time": "2022-05-14T15:37:07.982142Z",
     "start_time": "2022-05-14T15:37:07.966184Z"
    }
   },
   "outputs": [
    {
     "data": {
      "text/html": [
       "<div>\n",
       "<style scoped>\n",
       "    .dataframe tbody tr th:only-of-type {\n",
       "        vertical-align: middle;\n",
       "    }\n",
       "\n",
       "    .dataframe tbody tr th {\n",
       "        vertical-align: top;\n",
       "    }\n",
       "\n",
       "    .dataframe thead th {\n",
       "        text-align: right;\n",
       "    }\n",
       "</style>\n",
       "<table border=\"1\" class=\"dataframe\">\n",
       "  <thead>\n",
       "    <tr style=\"text-align: right;\">\n",
       "      <th></th>\n",
       "      <th>children</th>\n",
       "      <th>days_employed</th>\n",
       "      <th>dob_years</th>\n",
       "      <th>education</th>\n",
       "      <th>education_id</th>\n",
       "      <th>family_status</th>\n",
       "      <th>family_status_id</th>\n",
       "      <th>gender</th>\n",
       "      <th>income_type</th>\n",
       "      <th>debt</th>\n",
       "      <th>total_income</th>\n",
       "      <th>purpose</th>\n",
       "    </tr>\n",
       "  </thead>\n",
       "  <tbody>\n",
       "    <tr>\n",
       "      <th>766</th>\n",
       "      <td>0</td>\n",
       "      <td>-796.983636</td>\n",
       "      <td>19</td>\n",
       "      <td>неоконченное высшее</td>\n",
       "      <td>2</td>\n",
       "      <td>женат / замужем</td>\n",
       "      <td>0</td>\n",
       "      <td>F</td>\n",
       "      <td>сотрудник</td>\n",
       "      <td>0</td>\n",
       "      <td>80812.147802</td>\n",
       "      <td>покупка жилья для сдачи</td>\n",
       "    </tr>\n",
       "    <tr>\n",
       "      <th>4052</th>\n",
       "      <td>0</td>\n",
       "      <td>-1574.202821</td>\n",
       "      <td>19</td>\n",
       "      <td>среднее</td>\n",
       "      <td>1</td>\n",
       "      <td>гражданский брак</td>\n",
       "      <td>1</td>\n",
       "      <td>M</td>\n",
       "      <td>сотрудник</td>\n",
       "      <td>0</td>\n",
       "      <td>142594.396847</td>\n",
       "      <td>на проведение свадьбы</td>\n",
       "    </tr>\n",
       "    <tr>\n",
       "      <th>5563</th>\n",
       "      <td>0</td>\n",
       "      <td>-885.268574</td>\n",
       "      <td>19</td>\n",
       "      <td>неоконченное высшее</td>\n",
       "      <td>2</td>\n",
       "      <td>Не женат / не замужем</td>\n",
       "      <td>4</td>\n",
       "      <td>M</td>\n",
       "      <td>сотрудник</td>\n",
       "      <td>0</td>\n",
       "      <td>91098.233149</td>\n",
       "      <td>покупка жилья для сдачи</td>\n",
       "    </tr>\n",
       "    <tr>\n",
       "      <th>8316</th>\n",
       "      <td>0</td>\n",
       "      <td>-556.088508</td>\n",
       "      <td>19</td>\n",
       "      <td>среднее</td>\n",
       "      <td>1</td>\n",
       "      <td>Не женат / не замужем</td>\n",
       "      <td>4</td>\n",
       "      <td>F</td>\n",
       "      <td>сотрудник</td>\n",
       "      <td>0</td>\n",
       "      <td>68524.106035</td>\n",
       "      <td>высшее образование</td>\n",
       "    </tr>\n",
       "    <tr>\n",
       "      <th>10235</th>\n",
       "      <td>0</td>\n",
       "      <td>-793.358581</td>\n",
       "      <td>19</td>\n",
       "      <td>среднее</td>\n",
       "      <td>1</td>\n",
       "      <td>женат / замужем</td>\n",
       "      <td>0</td>\n",
       "      <td>F</td>\n",
       "      <td>сотрудник</td>\n",
       "      <td>0</td>\n",
       "      <td>131308.777259</td>\n",
       "      <td>ремонт жилью</td>\n",
       "    </tr>\n",
       "    <tr>\n",
       "      <th>12047</th>\n",
       "      <td>0</td>\n",
       "      <td>-1020.183130</td>\n",
       "      <td>19</td>\n",
       "      <td>среднее</td>\n",
       "      <td>1</td>\n",
       "      <td>Не женат / не замужем</td>\n",
       "      <td>4</td>\n",
       "      <td>M</td>\n",
       "      <td>сотрудник</td>\n",
       "      <td>1</td>\n",
       "      <td>93343.132708</td>\n",
       "      <td>операции со своей недвижимостью</td>\n",
       "    </tr>\n",
       "  </tbody>\n",
       "</table>\n",
       "</div>"
      ],
      "text/plain": [
       "       children  days_employed  dob_years            education  education_id  \\\n",
       "766           0    -796.983636         19  неоконченное высшее             2   \n",
       "4052          0   -1574.202821         19              среднее             1   \n",
       "5563          0    -885.268574         19  неоконченное высшее             2   \n",
       "8316          0    -556.088508         19              среднее             1   \n",
       "10235         0    -793.358581         19              среднее             1   \n",
       "12047         0   -1020.183130         19              среднее             1   \n",
       "\n",
       "               family_status  family_status_id gender income_type  debt  \\\n",
       "766          женат / замужем                 0      F   сотрудник     0   \n",
       "4052        гражданский брак                 1      M   сотрудник     0   \n",
       "5563   Не женат / не замужем                 4      M   сотрудник     0   \n",
       "8316   Не женат / не замужем                 4      F   сотрудник     0   \n",
       "10235        женат / замужем                 0      F   сотрудник     0   \n",
       "12047  Не женат / не замужем                 4      M   сотрудник     1   \n",
       "\n",
       "        total_income                          purpose  \n",
       "766     80812.147802          покупка жилья для сдачи  \n",
       "4052   142594.396847            на проведение свадьбы  \n",
       "5563    91098.233149          покупка жилья для сдачи  \n",
       "8316    68524.106035               высшее образование  \n",
       "10235  131308.777259                     ремонт жилью  \n",
       "12047   93343.132708  операции со своей недвижимостью  "
      ]
     },
     "execution_count": 26,
     "metadata": {},
     "output_type": "execute_result"
    }
   ],
   "source": [
    "employee_group_19 = data.loc[(data['income_type'] == 'сотрудник') & (data['dob_years'] == 19)]\n",
    "employee_group_19"
   ]
  },
  {
   "cell_type": "code",
   "execution_count": 27,
   "metadata": {
    "ExecuteTime": {
     "end_time": "2022-05-14T15:37:08.689260Z",
     "start_time": "2022-05-14T15:37:08.670285Z"
    }
   },
   "outputs": [
    {
     "data": {
      "text/html": [
       "<div>\n",
       "<style scoped>\n",
       "    .dataframe tbody tr th:only-of-type {\n",
       "        vertical-align: middle;\n",
       "    }\n",
       "\n",
       "    .dataframe tbody tr th {\n",
       "        vertical-align: top;\n",
       "    }\n",
       "\n",
       "    .dataframe thead th {\n",
       "        text-align: right;\n",
       "    }\n",
       "</style>\n",
       "<table border=\"1\" class=\"dataframe\">\n",
       "  <thead>\n",
       "    <tr style=\"text-align: right;\">\n",
       "      <th></th>\n",
       "      <th>children</th>\n",
       "      <th>days_employed</th>\n",
       "      <th>dob_years</th>\n",
       "      <th>education</th>\n",
       "      <th>education_id</th>\n",
       "      <th>family_status</th>\n",
       "      <th>family_status_id</th>\n",
       "      <th>gender</th>\n",
       "      <th>income_type</th>\n",
       "      <th>debt</th>\n",
       "      <th>total_income</th>\n",
       "      <th>purpose</th>\n",
       "    </tr>\n",
       "  </thead>\n",
       "  <tbody>\n",
       "    <tr>\n",
       "      <th>20230</th>\n",
       "      <td>0</td>\n",
       "      <td>-509.969922</td>\n",
       "      <td>19</td>\n",
       "      <td>неоконченное высшее</td>\n",
       "      <td>2</td>\n",
       "      <td>Не женат / не замужем</td>\n",
       "      <td>4</td>\n",
       "      <td>F</td>\n",
       "      <td>госслужащий</td>\n",
       "      <td>0</td>\n",
       "      <td>75787.415536</td>\n",
       "      <td>покупка коммерческой недвижимости</td>\n",
       "    </tr>\n",
       "  </tbody>\n",
       "</table>\n",
       "</div>"
      ],
      "text/plain": [
       "       children  days_employed  dob_years            education  education_id  \\\n",
       "20230         0    -509.969922         19  неоконченное высшее             2   \n",
       "\n",
       "               family_status  family_status_id gender  income_type  debt  \\\n",
       "20230  Не женат / не замужем                 4      F  госслужащий     0   \n",
       "\n",
       "       total_income                            purpose  \n",
       "20230  75787.415536  покупка коммерческой недвижимости  "
      ]
     },
     "execution_count": 27,
     "metadata": {},
     "output_type": "execute_result"
    }
   ],
   "source": [
    "civil_servant_group_19 = data.loc[(data['income_type'] == 'госслужащий') & (data['dob_years'] == 19)]\n",
    "civil_servant_group_19"
   ]
  },
  {
   "cell_type": "code",
   "execution_count": 28,
   "metadata": {
    "ExecuteTime": {
     "end_time": "2022-05-14T15:37:10.108115Z",
     "start_time": "2022-05-14T15:37:10.094145Z"
    }
   },
   "outputs": [
    {
     "data": {
      "text/plain": [
       "array(['пенсионер', 'безработный'], dtype=object)"
      ]
     },
     "execution_count": 28,
     "metadata": {},
     "output_type": "execute_result"
    }
   ],
   "source": [
    "values_greater_than_zero = data.loc[(data['days_employed'] >= 0) & (data['dob_years'] >= 19)]\n",
    "values_greater_than_zero['income_type'].unique()"
   ]
  },
  {
   "cell_type": "code",
   "execution_count": 29,
   "metadata": {
    "ExecuteTime": {
     "end_time": "2022-05-14T15:37:11.011038Z",
     "start_time": "2022-05-14T15:37:10.999070Z"
    }
   },
   "outputs": [
    {
     "data": {
      "text/plain": [
       "children                                0\n",
       "days_employed               328728.720605\n",
       "dob_years                              21\n",
       "education                          высшее\n",
       "education_id                            0\n",
       "family_status       Не женат / не замужем\n",
       "family_status_id                        0\n",
       "gender                                  F\n",
       "income_type                   безработный\n",
       "debt                                    0\n",
       "total_income                 20667.263793\n",
       "purpose                        автомобили\n",
       "dtype: object"
      ]
     },
     "execution_count": 29,
     "metadata": {},
     "output_type": "execute_result"
    }
   ],
   "source": [
    "values_greater_than_zero.min()\n",
    "\n",
    "# Выведем данные по минимальному положительному значению."
   ]
  },
  {
   "cell_type": "code",
   "execution_count": 30,
   "metadata": {
    "ExecuteTime": {
     "end_time": "2022-05-14T15:37:11.568993Z",
     "start_time": "2022-05-14T15:37:11.558023Z"
    }
   },
   "outputs": [
    {
     "data": {
      "text/plain": [
       "array(['сотрудник', 'компаньон', 'госслужащий', 'предприниматель',\n",
       "       'студент', 'в декрете'], dtype=object)"
      ]
     },
     "execution_count": 30,
     "metadata": {},
     "output_type": "execute_result"
    }
   ],
   "source": [
    "values_less_than_zero = data.loc[(data['days_employed'] <= 0) & (data['dob_years'] >= 19)]\n",
    "values_less_than_zero['income_type'].unique()"
   ]
  },
  {
   "cell_type": "code",
   "execution_count": 31,
   "metadata": {
    "ExecuteTime": {
     "end_time": "2022-05-14T15:37:12.102262Z",
     "start_time": "2022-05-14T15:37:12.078353Z"
    }
   },
   "outputs": [
    {
     "data": {
      "text/plain": [
       "children                          5\n",
       "days_employed            -24.141633\n",
       "dob_years                        75\n",
       "education            ученая степень\n",
       "education_id                      4\n",
       "family_status       женат / замужем\n",
       "family_status_id                  4\n",
       "gender                            M\n",
       "income_type                 студент\n",
       "debt                              1\n",
       "total_income         2265604.028723\n",
       "purpose             сыграть свадьбу\n",
       "dtype: object"
      ]
     },
     "execution_count": 31,
     "metadata": {},
     "output_type": "execute_result"
    }
   ],
   "source": [
    "values_less_than_zero.max()\n",
    "\n",
    "# Выведем данные по максимальному отрицательному значению."
   ]
  },
  {
   "cell_type": "markdown",
   "metadata": {},
   "source": [
    "Судя по всему, при занесении данных в колонку `days_employed`, произошел програмный сбой и теперь они занесены следующимм образом:\n",
    "* *данные по типам занятости `пенсионер` и `безработный` положительные, но занесены не в днях, а часах*\n",
    "* *данные для всех остальных типов занятости занесены правильно в днях, но отрицательными значениями*  \n",
    "*Решим проблему таким путем - все положительные числа, которые больше условного значения в 21900 (60 лет) делим на 24 часа,  \n",
    "а все отрицательные значения приводим к абсолюту.*"
   ]
  },
  {
   "cell_type": "code",
   "execution_count": 44,
   "metadata": {
    "ExecuteTime": {
     "end_time": "2022-05-14T15:39:51.021985Z",
     "start_time": "2022-05-14T15:39:51.015004Z"
    }
   },
   "outputs": [],
   "source": [
    "def days_employed_really(row):\n",
    "    '''\n",
    "        Input: row - таблица pd.Series.\n",
    "        Output: подаваемая измененная таблица pd.Series.\n",
    "        Description: Функция делит все значения row больше чем 18250 на 24,\n",
    "                     а все остальные - отрицательные, приводятся в абсолют.\n",
    "\n",
    "    '''\n",
    "    if row > 21900:\n",
    "        row = row / 24\n",
    "        \n",
    "        return row\n",
    "    else:\n",
    "        row = abs(row)\n",
    "        return row"
   ]
  },
  {
   "cell_type": "code",
   "execution_count": 45,
   "metadata": {
    "ExecuteTime": {
     "end_time": "2022-05-14T15:39:57.741467Z",
     "start_time": "2022-05-14T15:39:57.726501Z"
    }
   },
   "outputs": [],
   "source": [
    "data['days_employed'] = data['days_employed'].apply(days_employed_really)"
   ]
  },
  {
   "cell_type": "code",
   "execution_count": 46,
   "metadata": {
    "ExecuteTime": {
     "end_time": "2022-05-14T15:39:58.842184Z",
     "start_time": "2022-05-14T15:39:58.822238Z"
    }
   },
   "outputs": [
    {
     "data": {
      "text/plain": [
       "count    21524.000000\n",
       "mean      4600.615197\n",
       "std       5354.470865\n",
       "min         24.141633\n",
       "25%       1025.522620\n",
       "50%       1993.171525\n",
       "75%       5347.525014\n",
       "max      18388.949901\n",
       "Name: days_employed, dtype: float64"
      ]
     },
     "execution_count": 46,
     "metadata": {},
     "output_type": "execute_result"
    }
   ],
   "source": [
    "data['days_employed'].describe()"
   ]
  },
  {
   "cell_type": "markdown",
   "metadata": {},
   "source": [
    "**Учитывая полученную информацию, можно подытожить:**\n",
    "1.  *Данные в столбце `days_employed` разделены на положительные и отрицательные значения. Положительные значения колеблются в диапазоне от `328729`до `401755.400475`, отрицательные - от `-18388.949901` до `-24.1416`;*\n",
    "2.  *Все положительные значения соответствуют типам занятости `пенсионер`и `безработный` и они были записаны в часах;*\n",
    "3.  *Все отрицательные значения принадлежат остальным типам занятости;*\n",
    "*Все ошибки в данном столбце были исправлены*"
   ]
  },
  {
   "cell_type": "code",
   "execution_count": 47,
   "metadata": {
    "ExecuteTime": {
     "end_time": "2022-05-14T15:40:00.455860Z",
     "start_time": "2022-05-14T15:40:00.437888Z"
    }
   },
   "outputs": [],
   "source": [
    "data['days_employed'] = data['days_employed']/365\n",
    "data['total_income'] = data['total_income'].astype('int')"
   ]
  },
  {
   "cell_type": "code",
   "execution_count": 48,
   "metadata": {
    "ExecuteTime": {
     "end_time": "2022-05-14T15:40:01.199942Z",
     "start_time": "2022-05-14T15:40:01.181969Z"
    }
   },
   "outputs": [],
   "source": [
    "data['total_income'] = data['total_income']/1000\n",
    "data['days_employed'] = data['days_employed'].astype('int')\n",
    "data['days_employed'] = abs(data['days_employed'])"
   ]
  },
  {
   "cell_type": "code",
   "execution_count": 49,
   "metadata": {
    "ExecuteTime": {
     "end_time": "2022-05-14T15:40:01.794008Z",
     "start_time": "2022-05-14T15:40:01.775029Z"
    }
   },
   "outputs": [
    {
     "name": "stdout",
     "output_type": "stream",
     "text": [
      "<class 'pandas.core.frame.DataFrame'>\n",
      "Int64Index: 21524 entries, 0 to 21524\n",
      "Data columns (total 12 columns):\n",
      " #   Column            Non-Null Count  Dtype  \n",
      "---  ------            --------------  -----  \n",
      " 0   children          21524 non-null  int64  \n",
      " 1   days_employed     21524 non-null  int32  \n",
      " 2   dob_years         21524 non-null  int64  \n",
      " 3   education         21524 non-null  object \n",
      " 4   education_id      21524 non-null  int64  \n",
      " 5   family_status     21524 non-null  object \n",
      " 6   family_status_id  21524 non-null  int64  \n",
      " 7   gender            21524 non-null  object \n",
      " 8   income_type       21524 non-null  object \n",
      " 9   debt              21524 non-null  int64  \n",
      " 10  total_income      21524 non-null  float64\n",
      " 11  purpose           21524 non-null  object \n",
      "dtypes: float64(1), int32(1), int64(5), object(5)\n",
      "memory usage: 2.1+ MB\n"
     ]
    }
   ],
   "source": [
    "data.info()"
   ]
  },
  {
   "cell_type": "markdown",
   "metadata": {},
   "source": [
    "**Вывод** "
   ]
  },
  {
   "cell_type": "markdown",
   "metadata": {},
   "source": [
    " *По имеющимся данным удалось установить закономерность заполнения столбца `days_employed` и исправить некорректные данные в нем.  \n",
    " Для изменения типа данных  в столбцах `total_income` и `days_employed`был использован метод `astype()` так как нам необходимо было изменить значения типа `float` на `int64`, если бы была необходимость перевести тип данных со строкового `str` в вещественный  `float`, то можно было бы воспользоваться методом `to_numeric()`*"
   ]
  },
  {
   "cell_type": "markdown",
   "metadata": {},
   "source": [
    "### Обработка дубликатов"
   ]
  },
  {
   "cell_type": "markdown",
   "metadata": {},
   "source": [
    "*Дубликаты в столбце `education` были исключены на этапе обработки пропусков данных.*"
   ]
  },
  {
   "cell_type": "code",
   "execution_count": 50,
   "metadata": {
    "ExecuteTime": {
     "end_time": "2022-05-14T15:40:04.285663Z",
     "start_time": "2022-05-14T15:40:04.253720Z"
    }
   },
   "outputs": [
    {
     "data": {
      "text/plain": [
       "72"
      ]
     },
     "execution_count": 50,
     "metadata": {},
     "output_type": "execute_result"
    }
   ],
   "source": [
    "data.duplicated().sum()"
   ]
  },
  {
   "cell_type": "code",
   "execution_count": 51,
   "metadata": {
    "ExecuteTime": {
     "end_time": "2022-05-14T15:40:05.362340Z",
     "start_time": "2022-05-14T15:40:05.335413Z"
    }
   },
   "outputs": [
    {
     "data": {
      "text/html": [
       "<div>\n",
       "<style scoped>\n",
       "    .dataframe tbody tr th:only-of-type {\n",
       "        vertical-align: middle;\n",
       "    }\n",
       "\n",
       "    .dataframe tbody tr th {\n",
       "        vertical-align: top;\n",
       "    }\n",
       "\n",
       "    .dataframe thead th {\n",
       "        text-align: right;\n",
       "    }\n",
       "</style>\n",
       "<table border=\"1\" class=\"dataframe\">\n",
       "  <thead>\n",
       "    <tr style=\"text-align: right;\">\n",
       "      <th></th>\n",
       "      <th>children</th>\n",
       "      <th>days_employed</th>\n",
       "      <th>dob_years</th>\n",
       "      <th>education</th>\n",
       "      <th>education_id</th>\n",
       "      <th>family_status</th>\n",
       "      <th>family_status_id</th>\n",
       "      <th>gender</th>\n",
       "      <th>income_type</th>\n",
       "      <th>debt</th>\n",
       "      <th>total_income</th>\n",
       "      <th>purpose</th>\n",
       "    </tr>\n",
       "  </thead>\n",
       "  <tbody>\n",
       "    <tr>\n",
       "      <th>2849</th>\n",
       "      <td>0</td>\n",
       "      <td>4</td>\n",
       "      <td>41</td>\n",
       "      <td>среднее</td>\n",
       "      <td>1</td>\n",
       "      <td>женат / замужем</td>\n",
       "      <td>0</td>\n",
       "      <td>F</td>\n",
       "      <td>сотрудник</td>\n",
       "      <td>0</td>\n",
       "      <td>142.594</td>\n",
       "      <td>покупка жилья для семьи</td>\n",
       "    </tr>\n",
       "    <tr>\n",
       "      <th>3290</th>\n",
       "      <td>0</td>\n",
       "      <td>41</td>\n",
       "      <td>58</td>\n",
       "      <td>среднее</td>\n",
       "      <td>1</td>\n",
       "      <td>гражданский брак</td>\n",
       "      <td>1</td>\n",
       "      <td>F</td>\n",
       "      <td>пенсионер</td>\n",
       "      <td>0</td>\n",
       "      <td>118.514</td>\n",
       "      <td>сыграть свадьбу</td>\n",
       "    </tr>\n",
       "    <tr>\n",
       "      <th>4182</th>\n",
       "      <td>1</td>\n",
       "      <td>4</td>\n",
       "      <td>34</td>\n",
       "      <td>высшее</td>\n",
       "      <td>0</td>\n",
       "      <td>гражданский брак</td>\n",
       "      <td>1</td>\n",
       "      <td>F</td>\n",
       "      <td>сотрудник</td>\n",
       "      <td>0</td>\n",
       "      <td>142.594</td>\n",
       "      <td>свадьба</td>\n",
       "    </tr>\n",
       "    <tr>\n",
       "      <th>4851</th>\n",
       "      <td>0</td>\n",
       "      <td>41</td>\n",
       "      <td>60</td>\n",
       "      <td>среднее</td>\n",
       "      <td>1</td>\n",
       "      <td>гражданский брак</td>\n",
       "      <td>1</td>\n",
       "      <td>F</td>\n",
       "      <td>пенсионер</td>\n",
       "      <td>0</td>\n",
       "      <td>118.514</td>\n",
       "      <td>свадьба</td>\n",
       "    </tr>\n",
       "    <tr>\n",
       "      <th>5557</th>\n",
       "      <td>0</td>\n",
       "      <td>41</td>\n",
       "      <td>58</td>\n",
       "      <td>среднее</td>\n",
       "      <td>1</td>\n",
       "      <td>гражданский брак</td>\n",
       "      <td>1</td>\n",
       "      <td>F</td>\n",
       "      <td>пенсионер</td>\n",
       "      <td>0</td>\n",
       "      <td>118.514</td>\n",
       "      <td>сыграть свадьбу</td>\n",
       "    </tr>\n",
       "    <tr>\n",
       "      <th>6312</th>\n",
       "      <td>0</td>\n",
       "      <td>4</td>\n",
       "      <td>30</td>\n",
       "      <td>среднее</td>\n",
       "      <td>1</td>\n",
       "      <td>женат / замужем</td>\n",
       "      <td>0</td>\n",
       "      <td>M</td>\n",
       "      <td>сотрудник</td>\n",
       "      <td>0</td>\n",
       "      <td>142.594</td>\n",
       "      <td>строительство жилой недвижимости</td>\n",
       "    </tr>\n",
       "    <tr>\n",
       "      <th>7808</th>\n",
       "      <td>0</td>\n",
       "      <td>41</td>\n",
       "      <td>57</td>\n",
       "      <td>среднее</td>\n",
       "      <td>1</td>\n",
       "      <td>гражданский брак</td>\n",
       "      <td>1</td>\n",
       "      <td>F</td>\n",
       "      <td>пенсионер</td>\n",
       "      <td>0</td>\n",
       "      <td>118.514</td>\n",
       "      <td>на проведение свадьбы</td>\n",
       "    </tr>\n",
       "    <tr>\n",
       "      <th>7921</th>\n",
       "      <td>0</td>\n",
       "      <td>41</td>\n",
       "      <td>64</td>\n",
       "      <td>высшее</td>\n",
       "      <td>0</td>\n",
       "      <td>гражданский брак</td>\n",
       "      <td>1</td>\n",
       "      <td>F</td>\n",
       "      <td>пенсионер</td>\n",
       "      <td>0</td>\n",
       "      <td>118.514</td>\n",
       "      <td>на проведение свадьбы</td>\n",
       "    </tr>\n",
       "    <tr>\n",
       "      <th>7938</th>\n",
       "      <td>0</td>\n",
       "      <td>41</td>\n",
       "      <td>71</td>\n",
       "      <td>среднее</td>\n",
       "      <td>1</td>\n",
       "      <td>гражданский брак</td>\n",
       "      <td>1</td>\n",
       "      <td>F</td>\n",
       "      <td>пенсионер</td>\n",
       "      <td>0</td>\n",
       "      <td>118.514</td>\n",
       "      <td>на проведение свадьбы</td>\n",
       "    </tr>\n",
       "    <tr>\n",
       "      <th>8583</th>\n",
       "      <td>0</td>\n",
       "      <td>41</td>\n",
       "      <td>58</td>\n",
       "      <td>высшее</td>\n",
       "      <td>0</td>\n",
       "      <td>Не женат / не замужем</td>\n",
       "      <td>4</td>\n",
       "      <td>F</td>\n",
       "      <td>пенсионер</td>\n",
       "      <td>0</td>\n",
       "      <td>118.514</td>\n",
       "      <td>дополнительное образование</td>\n",
       "    </tr>\n",
       "    <tr>\n",
       "      <th>9238</th>\n",
       "      <td>2</td>\n",
       "      <td>4</td>\n",
       "      <td>34</td>\n",
       "      <td>среднее</td>\n",
       "      <td>1</td>\n",
       "      <td>женат / замужем</td>\n",
       "      <td>0</td>\n",
       "      <td>F</td>\n",
       "      <td>сотрудник</td>\n",
       "      <td>0</td>\n",
       "      <td>142.594</td>\n",
       "      <td>покупка жилья для сдачи</td>\n",
       "    </tr>\n",
       "    <tr>\n",
       "      <th>9528</th>\n",
       "      <td>0</td>\n",
       "      <td>41</td>\n",
       "      <td>66</td>\n",
       "      <td>среднее</td>\n",
       "      <td>1</td>\n",
       "      <td>вдовец / вдова</td>\n",
       "      <td>2</td>\n",
       "      <td>F</td>\n",
       "      <td>пенсионер</td>\n",
       "      <td>0</td>\n",
       "      <td>118.514</td>\n",
       "      <td>операции со своей недвижимостью</td>\n",
       "    </tr>\n",
       "    <tr>\n",
       "      <th>9604</th>\n",
       "      <td>0</td>\n",
       "      <td>41</td>\n",
       "      <td>71</td>\n",
       "      <td>среднее</td>\n",
       "      <td>1</td>\n",
       "      <td>гражданский брак</td>\n",
       "      <td>1</td>\n",
       "      <td>F</td>\n",
       "      <td>пенсионер</td>\n",
       "      <td>0</td>\n",
       "      <td>118.514</td>\n",
       "      <td>на проведение свадьбы</td>\n",
       "    </tr>\n",
       "    <tr>\n",
       "      <th>9627</th>\n",
       "      <td>0</td>\n",
       "      <td>41</td>\n",
       "      <td>56</td>\n",
       "      <td>среднее</td>\n",
       "      <td>1</td>\n",
       "      <td>женат / замужем</td>\n",
       "      <td>0</td>\n",
       "      <td>F</td>\n",
       "      <td>пенсионер</td>\n",
       "      <td>0</td>\n",
       "      <td>118.514</td>\n",
       "      <td>операции со своей недвижимостью</td>\n",
       "    </tr>\n",
       "    <tr>\n",
       "      <th>9855</th>\n",
       "      <td>0</td>\n",
       "      <td>41</td>\n",
       "      <td>62</td>\n",
       "      <td>среднее</td>\n",
       "      <td>1</td>\n",
       "      <td>женат / замужем</td>\n",
       "      <td>0</td>\n",
       "      <td>F</td>\n",
       "      <td>пенсионер</td>\n",
       "      <td>0</td>\n",
       "      <td>118.514</td>\n",
       "      <td>получение дополнительного образования</td>\n",
       "    </tr>\n",
       "  </tbody>\n",
       "</table>\n",
       "</div>"
      ],
      "text/plain": [
       "      children  days_employed  dob_years education  education_id  \\\n",
       "2849         0              4         41   среднее             1   \n",
       "3290         0             41         58   среднее             1   \n",
       "4182         1              4         34    высшее             0   \n",
       "4851         0             41         60   среднее             1   \n",
       "5557         0             41         58   среднее             1   \n",
       "6312         0              4         30   среднее             1   \n",
       "7808         0             41         57   среднее             1   \n",
       "7921         0             41         64    высшее             0   \n",
       "7938         0             41         71   среднее             1   \n",
       "8583         0             41         58    высшее             0   \n",
       "9238         2              4         34   среднее             1   \n",
       "9528         0             41         66   среднее             1   \n",
       "9604         0             41         71   среднее             1   \n",
       "9627         0             41         56   среднее             1   \n",
       "9855         0             41         62   среднее             1   \n",
       "\n",
       "              family_status  family_status_id gender income_type  debt  \\\n",
       "2849        женат / замужем                 0      F   сотрудник     0   \n",
       "3290       гражданский брак                 1      F   пенсионер     0   \n",
       "4182       гражданский брак                 1      F   сотрудник     0   \n",
       "4851       гражданский брак                 1      F   пенсионер     0   \n",
       "5557       гражданский брак                 1      F   пенсионер     0   \n",
       "6312        женат / замужем                 0      M   сотрудник     0   \n",
       "7808       гражданский брак                 1      F   пенсионер     0   \n",
       "7921       гражданский брак                 1      F   пенсионер     0   \n",
       "7938       гражданский брак                 1      F   пенсионер     0   \n",
       "8583  Не женат / не замужем                 4      F   пенсионер     0   \n",
       "9238        женат / замужем                 0      F   сотрудник     0   \n",
       "9528         вдовец / вдова                 2      F   пенсионер     0   \n",
       "9604       гражданский брак                 1      F   пенсионер     0   \n",
       "9627        женат / замужем                 0      F   пенсионер     0   \n",
       "9855        женат / замужем                 0      F   пенсионер     0   \n",
       "\n",
       "      total_income                                purpose  \n",
       "2849       142.594                покупка жилья для семьи  \n",
       "3290       118.514                        сыграть свадьбу  \n",
       "4182       142.594                                свадьба  \n",
       "4851       118.514                                свадьба  \n",
       "5557       118.514                        сыграть свадьбу  \n",
       "6312       142.594       строительство жилой недвижимости  \n",
       "7808       118.514                  на проведение свадьбы  \n",
       "7921       118.514                  на проведение свадьбы  \n",
       "7938       118.514                  на проведение свадьбы  \n",
       "8583       118.514             дополнительное образование  \n",
       "9238       142.594                покупка жилья для сдачи  \n",
       "9528       118.514        операции со своей недвижимостью  \n",
       "9604       118.514                  на проведение свадьбы  \n",
       "9627       118.514        операции со своей недвижимостью  \n",
       "9855       118.514  получение дополнительного образования  "
      ]
     },
     "execution_count": 51,
     "metadata": {},
     "output_type": "execute_result"
    }
   ],
   "source": [
    "data[data.duplicated()].head(15)"
   ]
  },
  {
   "cell_type": "code",
   "execution_count": 52,
   "metadata": {
    "ExecuteTime": {
     "end_time": "2022-05-14T15:40:06.042145Z",
     "start_time": "2022-05-14T15:40:06.007218Z"
    }
   },
   "outputs": [
    {
     "data": {
      "text/plain": [
       "0"
      ]
     },
     "execution_count": 52,
     "metadata": {},
     "output_type": "execute_result"
    }
   ],
   "source": [
    "data = data.drop_duplicates().reset_index(drop=True)\n",
    "data.duplicated().sum()"
   ]
  },
  {
   "cell_type": "markdown",
   "metadata": {},
   "source": [
    "**Вывод**  "
   ]
  },
  {
   "cell_type": "markdown",
   "metadata": {},
   "source": [
    "*На данном этапе было выявлено 72 строки с дублирующимися данными. Все дубликаты были удалены методом drop_duplicates().*"
   ]
  },
  {
   "cell_type": "markdown",
   "metadata": {},
   "source": [
    "### Лемматизация"
   ]
  },
  {
   "cell_type": "markdown",
   "metadata": {},
   "source": [
    "*Для решения одной из задач, поставленной Заказчиком,а именно - `Как разные цели кредита влияют на его возврат в срок?`.  \n",
    "Необходимо обратить внимание на колонку - `purpose` — цель получения кредита.  \n",
    "В данной колонке слишком много неявных дубликатов, возникших в связи с бессистемным заполнением сотрудниками Заказчика данных.  Скорее всего, заполненных 'со слов клиентов'. Необходимо донести эти сведения до сотрудников, отвечающих за заполнение, для того, чтобы внесение было систематизировано.  \n",
    "Ввиду того, что в данных условиях, провести качественный анализ не удастся. Необходимо устранить дубликаты путем лемматизации.  Для этого требуется выявить действительно уникальные цели получения кредита и по их леммам сократить колличество дублирующихся данных.*"
   ]
  },
  {
   "cell_type": "code",
   "execution_count": 117,
   "metadata": {},
   "outputs": [
    {
     "data": {
      "text/plain": [
       "array(['покупка жилья', 'приобретение автомобиля',\n",
       "       'дополнительное образование', 'сыграть свадьбу',\n",
       "       'операции с жильем', 'образование', 'на проведение свадьбы',\n",
       "       'покупка жилья для семьи', 'покупка недвижимости',\n",
       "       'покупка коммерческой недвижимости', 'покупка жилой недвижимости',\n",
       "       'строительство собственной недвижимости', 'недвижимость',\n",
       "       'строительство недвижимости', 'на покупку подержанного автомобиля',\n",
       "       'на покупку своего автомобиля',\n",
       "       'операции с коммерческой недвижимостью',\n",
       "       'строительство жилой недвижимости', 'жилье',\n",
       "       'операции со своей недвижимостью', 'автомобили',\n",
       "       'заняться образованием', 'сделка с подержанным автомобилем',\n",
       "       'получение образования', 'автомобиль', 'свадьба',\n",
       "       'получение дополнительного образования', 'покупка своего жилья',\n",
       "       'операции с недвижимостью', 'получение высшего образования',\n",
       "       'свой автомобиль', 'сделка с автомобилем',\n",
       "       'профильное образование', 'высшее образование',\n",
       "       'покупка жилья для сдачи', 'на покупку автомобиля', 'ремонт жилью',\n",
       "       'заняться высшим образованием'], dtype=object)"
      ]
     },
     "execution_count": 117,
     "metadata": {},
     "output_type": "execute_result"
    }
   ],
   "source": [
    "data['purpose'].unique()"
   ]
  },
  {
   "cell_type": "code",
   "execution_count": 118,
   "metadata": {},
   "outputs": [],
   "source": [
    "purpose_cat = ['сдача','коммерческий', 'жилье', 'образование', 'свадьба', 'недвижимость', 'автомобиль']\n",
    "\n",
    "# Создадим список с уникальными значениями колконки purpose,\n",
    "# по которым будем проводить лемматизацию.\n",
    "\n",
    "def lemma_purpose(row):\n",
    "    '''\n",
    "        Input: row - таблица pd.Series.\n",
    "        Output: lemma.\n",
    "        Description: Функция берет значения из списка purpose_cat и\n",
    "                     возвращает их лемму.\n",
    "\n",
    "        '''\n",
    "    lemma = m.lemmatize(row)\n",
    "    for word in purpose_cat:\n",
    "        if word in lemma:\n",
    "            lemma = word\n",
    "    return lemma"
   ]
  },
  {
   "cell_type": "code",
   "execution_count": 119,
   "metadata": {},
   "outputs": [],
   "source": [
    "data['purpose_cat'] = data['purpose'].apply(lemma_purpose)    "
   ]
  },
  {
   "cell_type": "code",
   "execution_count": 120,
   "metadata": {},
   "outputs": [
    {
     "data": {
      "text/plain": [
       "недвижимость    5039\n",
       "автомобиль      4306\n",
       "образование     4013\n",
       "жилье           3808\n",
       "свадьба         2324\n",
       "коммерческий    1311\n",
       "сдача            651\n",
       "Name: purpose_cat, dtype: int64"
      ]
     },
     "execution_count": 120,
     "metadata": {},
     "output_type": "execute_result"
    }
   ],
   "source": [
    "data['purpose_cat'].value_counts()  "
   ]
  },
  {
   "cell_type": "code",
   "execution_count": 121,
   "metadata": {},
   "outputs": [
    {
     "data": {
      "text/plain": [
       "недвижимость                 8847\n",
       "автомобиль                   4306\n",
       "образование                  4013\n",
       "свадьба                      2324\n",
       "коммерческая деятельность    1962\n",
       "Name: purpose_cat, dtype: int64"
      ]
     },
     "execution_count": 121,
     "metadata": {},
     "output_type": "execute_result"
    }
   ],
   "source": [
    "data.loc[data['purpose_cat'] == 'жилье', 'purpose_cat'] = 'недвижимость'\n",
    "data.loc[(data['purpose_cat'] == 'коммерческий') | (data['purpose_cat'] == 'сдача'),\n",
    "         'purpose_cat'] = 'коммерческая деятельность'\n",
    "data['purpose_cat'].value_counts()"
   ]
  },
  {
   "cell_type": "markdown",
   "metadata": {},
   "source": [
    "**Вывод**"
   ]
  },
  {
   "cell_type": "markdown",
   "metadata": {},
   "source": [
    "*На данном этапе были выявлены пять категорий целей кредита:* \n",
    "* *Недвижимость - на данную категорию приходится большая часть взятых кредитов*\n",
    "* *Автомобиль - сюда относятся все сделки, связанные с авто.*  \n",
    "* *Образование - все кредиты на любой тип образования или повышения квалификации.*  \n",
    "* *Свадьба - все, что относится к проведению или организацию свадьбы.*  \n",
    "* *Коммерческая деятельность - все, что связано с манипуляциями под коммерческую деятельность с недвижимостью.*  \n",
    "  *По данным категориям, в дальнейшем, удастся подготовить более качественную и наглядную выборку.*"
   ]
  },
  {
   "cell_type": "markdown",
   "metadata": {},
   "source": [
    "### Категоризация данных"
   ]
  },
  {
   "cell_type": "markdown",
   "metadata": {},
   "source": [
    "*На предыдущем этапе была осуществлена первая категоризация данным в столбце `purpose` и создан столбец `purpose_cat`, на основании которого будет производится решение одной из поставленных задач.  \n",
    "На данном этапе неодходимо выделить категории у двух столбцов:  \n",
    "`children` - в данном столбце шесть категорий, но колличество клиентов в некоторых из них сильно превалирует над остальными, поэтому необходимо максимально уровнять значения.  \n",
    "`total_income` - в данном столбце явных категорий нет и быть не может, поэтому необходимо их свести к минимуму, путем группировки.*"
   ]
  },
  {
   "cell_type": "code",
   "execution_count": 122,
   "metadata": {},
   "outputs": [
    {
     "data": {
      "text/html": [
       "<div>\n",
       "<style scoped>\n",
       "    .dataframe tbody tr th:only-of-type {\n",
       "        vertical-align: middle;\n",
       "    }\n",
       "\n",
       "    .dataframe tbody tr th {\n",
       "        vertical-align: top;\n",
       "    }\n",
       "\n",
       "    .dataframe thead th {\n",
       "        text-align: right;\n",
       "    }\n",
       "</style>\n",
       "<table border=\"1\" class=\"dataframe\">\n",
       "  <thead>\n",
       "    <tr style=\"text-align: right;\">\n",
       "      <th></th>\n",
       "      <th>children</th>\n",
       "      <th>days_employed</th>\n",
       "      <th>dob_years</th>\n",
       "      <th>education</th>\n",
       "      <th>education_id</th>\n",
       "      <th>family_status</th>\n",
       "      <th>family_status_id</th>\n",
       "      <th>gender</th>\n",
       "      <th>income_type</th>\n",
       "      <th>debt</th>\n",
       "      <th>total_income</th>\n",
       "      <th>purpose</th>\n",
       "      <th>purpose_cat</th>\n",
       "    </tr>\n",
       "  </thead>\n",
       "  <tbody>\n",
       "    <tr>\n",
       "      <td>0</td>\n",
       "      <td>1</td>\n",
       "      <td>23</td>\n",
       "      <td>42</td>\n",
       "      <td>высшее</td>\n",
       "      <td>0</td>\n",
       "      <td>женат / замужем</td>\n",
       "      <td>0</td>\n",
       "      <td>F</td>\n",
       "      <td>сотрудник</td>\n",
       "      <td>0</td>\n",
       "      <td>253.875</td>\n",
       "      <td>покупка жилья</td>\n",
       "      <td>недвижимость</td>\n",
       "    </tr>\n",
       "    <tr>\n",
       "      <td>1</td>\n",
       "      <td>1</td>\n",
       "      <td>11</td>\n",
       "      <td>36</td>\n",
       "      <td>среднее</td>\n",
       "      <td>1</td>\n",
       "      <td>женат / замужем</td>\n",
       "      <td>0</td>\n",
       "      <td>F</td>\n",
       "      <td>сотрудник</td>\n",
       "      <td>0</td>\n",
       "      <td>112.080</td>\n",
       "      <td>приобретение автомобиля</td>\n",
       "      <td>автомобиль</td>\n",
       "    </tr>\n",
       "    <tr>\n",
       "      <td>2</td>\n",
       "      <td>0</td>\n",
       "      <td>15</td>\n",
       "      <td>33</td>\n",
       "      <td>среднее</td>\n",
       "      <td>1</td>\n",
       "      <td>женат / замужем</td>\n",
       "      <td>0</td>\n",
       "      <td>M</td>\n",
       "      <td>сотрудник</td>\n",
       "      <td>0</td>\n",
       "      <td>145.885</td>\n",
       "      <td>покупка жилья</td>\n",
       "      <td>недвижимость</td>\n",
       "    </tr>\n",
       "    <tr>\n",
       "      <td>3</td>\n",
       "      <td>3</td>\n",
       "      <td>11</td>\n",
       "      <td>32</td>\n",
       "      <td>среднее</td>\n",
       "      <td>1</td>\n",
       "      <td>женат / замужем</td>\n",
       "      <td>0</td>\n",
       "      <td>M</td>\n",
       "      <td>сотрудник</td>\n",
       "      <td>0</td>\n",
       "      <td>267.628</td>\n",
       "      <td>дополнительное образование</td>\n",
       "      <td>образование</td>\n",
       "    </tr>\n",
       "    <tr>\n",
       "      <td>4</td>\n",
       "      <td>0</td>\n",
       "      <td>38</td>\n",
       "      <td>53</td>\n",
       "      <td>среднее</td>\n",
       "      <td>1</td>\n",
       "      <td>гражданский брак</td>\n",
       "      <td>1</td>\n",
       "      <td>F</td>\n",
       "      <td>пенсионер</td>\n",
       "      <td>0</td>\n",
       "      <td>158.616</td>\n",
       "      <td>сыграть свадьбу</td>\n",
       "      <td>свадьба</td>\n",
       "    </tr>\n",
       "    <tr>\n",
       "      <td>5</td>\n",
       "      <td>0</td>\n",
       "      <td>2</td>\n",
       "      <td>27</td>\n",
       "      <td>высшее</td>\n",
       "      <td>0</td>\n",
       "      <td>гражданский брак</td>\n",
       "      <td>1</td>\n",
       "      <td>M</td>\n",
       "      <td>компаньон</td>\n",
       "      <td>0</td>\n",
       "      <td>255.763</td>\n",
       "      <td>покупка жилья</td>\n",
       "      <td>недвижимость</td>\n",
       "    </tr>\n",
       "    <tr>\n",
       "      <td>6</td>\n",
       "      <td>0</td>\n",
       "      <td>7</td>\n",
       "      <td>43</td>\n",
       "      <td>высшее</td>\n",
       "      <td>0</td>\n",
       "      <td>женат / замужем</td>\n",
       "      <td>0</td>\n",
       "      <td>F</td>\n",
       "      <td>компаньон</td>\n",
       "      <td>0</td>\n",
       "      <td>240.525</td>\n",
       "      <td>операции с жильем</td>\n",
       "      <td>недвижимость</td>\n",
       "    </tr>\n",
       "    <tr>\n",
       "      <td>7</td>\n",
       "      <td>0</td>\n",
       "      <td>0</td>\n",
       "      <td>50</td>\n",
       "      <td>среднее</td>\n",
       "      <td>1</td>\n",
       "      <td>женат / замужем</td>\n",
       "      <td>0</td>\n",
       "      <td>M</td>\n",
       "      <td>сотрудник</td>\n",
       "      <td>0</td>\n",
       "      <td>135.823</td>\n",
       "      <td>образование</td>\n",
       "      <td>образование</td>\n",
       "    </tr>\n",
       "    <tr>\n",
       "      <td>8</td>\n",
       "      <td>2</td>\n",
       "      <td>18</td>\n",
       "      <td>35</td>\n",
       "      <td>высшее</td>\n",
       "      <td>0</td>\n",
       "      <td>гражданский брак</td>\n",
       "      <td>1</td>\n",
       "      <td>F</td>\n",
       "      <td>сотрудник</td>\n",
       "      <td>0</td>\n",
       "      <td>95.856</td>\n",
       "      <td>на проведение свадьбы</td>\n",
       "      <td>свадьба</td>\n",
       "    </tr>\n",
       "    <tr>\n",
       "      <td>9</td>\n",
       "      <td>0</td>\n",
       "      <td>5</td>\n",
       "      <td>41</td>\n",
       "      <td>среднее</td>\n",
       "      <td>1</td>\n",
       "      <td>женат / замужем</td>\n",
       "      <td>0</td>\n",
       "      <td>M</td>\n",
       "      <td>сотрудник</td>\n",
       "      <td>0</td>\n",
       "      <td>144.425</td>\n",
       "      <td>покупка жилья для семьи</td>\n",
       "      <td>недвижимость</td>\n",
       "    </tr>\n",
       "    <tr>\n",
       "      <td>10</td>\n",
       "      <td>2</td>\n",
       "      <td>11</td>\n",
       "      <td>36</td>\n",
       "      <td>высшее</td>\n",
       "      <td>0</td>\n",
       "      <td>женат / замужем</td>\n",
       "      <td>0</td>\n",
       "      <td>M</td>\n",
       "      <td>компаньон</td>\n",
       "      <td>0</td>\n",
       "      <td>113.943</td>\n",
       "      <td>покупка недвижимости</td>\n",
       "      <td>недвижимость</td>\n",
       "    </tr>\n",
       "    <tr>\n",
       "      <td>11</td>\n",
       "      <td>0</td>\n",
       "      <td>2</td>\n",
       "      <td>40</td>\n",
       "      <td>среднее</td>\n",
       "      <td>1</td>\n",
       "      <td>женат / замужем</td>\n",
       "      <td>0</td>\n",
       "      <td>F</td>\n",
       "      <td>сотрудник</td>\n",
       "      <td>0</td>\n",
       "      <td>77.069</td>\n",
       "      <td>покупка коммерческой недвижимости</td>\n",
       "      <td>коммерческая деятельность</td>\n",
       "    </tr>\n",
       "    <tr>\n",
       "      <td>12</td>\n",
       "      <td>0</td>\n",
       "      <td>41</td>\n",
       "      <td>65</td>\n",
       "      <td>среднее</td>\n",
       "      <td>1</td>\n",
       "      <td>гражданский брак</td>\n",
       "      <td>1</td>\n",
       "      <td>M</td>\n",
       "      <td>пенсионер</td>\n",
       "      <td>0</td>\n",
       "      <td>118.514</td>\n",
       "      <td>сыграть свадьбу</td>\n",
       "      <td>свадьба</td>\n",
       "    </tr>\n",
       "    <tr>\n",
       "      <td>13</td>\n",
       "      <td>0</td>\n",
       "      <td>5</td>\n",
       "      <td>54</td>\n",
       "      <td>неоконченное высшее</td>\n",
       "      <td>2</td>\n",
       "      <td>женат / замужем</td>\n",
       "      <td>0</td>\n",
       "      <td>F</td>\n",
       "      <td>сотрудник</td>\n",
       "      <td>0</td>\n",
       "      <td>130.458</td>\n",
       "      <td>приобретение автомобиля</td>\n",
       "      <td>автомобиль</td>\n",
       "    </tr>\n",
       "    <tr>\n",
       "      <td>14</td>\n",
       "      <td>0</td>\n",
       "      <td>5</td>\n",
       "      <td>56</td>\n",
       "      <td>высшее</td>\n",
       "      <td>0</td>\n",
       "      <td>гражданский брак</td>\n",
       "      <td>1</td>\n",
       "      <td>F</td>\n",
       "      <td>компаньон</td>\n",
       "      <td>1</td>\n",
       "      <td>165.127</td>\n",
       "      <td>покупка жилой недвижимости</td>\n",
       "      <td>недвижимость</td>\n",
       "    </tr>\n",
       "  </tbody>\n",
       "</table>\n",
       "</div>"
      ],
      "text/plain": [
       "    children  days_employed  dob_years            education  education_id  \\\n",
       "0          1             23         42               высшее             0   \n",
       "1          1             11         36              среднее             1   \n",
       "2          0             15         33              среднее             1   \n",
       "3          3             11         32              среднее             1   \n",
       "4          0             38         53              среднее             1   \n",
       "5          0              2         27               высшее             0   \n",
       "6          0              7         43               высшее             0   \n",
       "7          0              0         50              среднее             1   \n",
       "8          2             18         35               высшее             0   \n",
       "9          0              5         41              среднее             1   \n",
       "10         2             11         36               высшее             0   \n",
       "11         0              2         40              среднее             1   \n",
       "12         0             41         65              среднее             1   \n",
       "13         0              5         54  неоконченное высшее             2   \n",
       "14         0              5         56               высшее             0   \n",
       "\n",
       "       family_status  family_status_id gender income_type  debt  total_income  \\\n",
       "0    женат / замужем                 0      F   сотрудник     0       253.875   \n",
       "1    женат / замужем                 0      F   сотрудник     0       112.080   \n",
       "2    женат / замужем                 0      M   сотрудник     0       145.885   \n",
       "3    женат / замужем                 0      M   сотрудник     0       267.628   \n",
       "4   гражданский брак                 1      F   пенсионер     0       158.616   \n",
       "5   гражданский брак                 1      M   компаньон     0       255.763   \n",
       "6    женат / замужем                 0      F   компаньон     0       240.525   \n",
       "7    женат / замужем                 0      M   сотрудник     0       135.823   \n",
       "8   гражданский брак                 1      F   сотрудник     0        95.856   \n",
       "9    женат / замужем                 0      M   сотрудник     0       144.425   \n",
       "10   женат / замужем                 0      M   компаньон     0       113.943   \n",
       "11   женат / замужем                 0      F   сотрудник     0        77.069   \n",
       "12  гражданский брак                 1      M   пенсионер     0       118.514   \n",
       "13   женат / замужем                 0      F   сотрудник     0       130.458   \n",
       "14  гражданский брак                 1      F   компаньон     1       165.127   \n",
       "\n",
       "                              purpose                purpose_cat  \n",
       "0                       покупка жилья               недвижимость  \n",
       "1             приобретение автомобиля                 автомобиль  \n",
       "2                       покупка жилья               недвижимость  \n",
       "3          дополнительное образование                образование  \n",
       "4                     сыграть свадьбу                    свадьба  \n",
       "5                       покупка жилья               недвижимость  \n",
       "6                   операции с жильем               недвижимость  \n",
       "7                         образование                образование  \n",
       "8               на проведение свадьбы                    свадьба  \n",
       "9             покупка жилья для семьи               недвижимость  \n",
       "10               покупка недвижимости               недвижимость  \n",
       "11  покупка коммерческой недвижимости  коммерческая деятельность  \n",
       "12                    сыграть свадьбу                    свадьба  \n",
       "13            приобретение автомобиля                 автомобиль  \n",
       "14         покупка жилой недвижимости               недвижимость  "
      ]
     },
     "execution_count": 122,
     "metadata": {},
     "output_type": "execute_result"
    }
   ],
   "source": [
    "data.head(15)"
   ]
  },
  {
   "cell_type": "code",
   "execution_count": 123,
   "metadata": {},
   "outputs": [
    {
     "data": {
      "text/plain": [
       "0    14089\n",
       "1     4855\n",
       "2     2128\n",
       "3      330\n",
       "4       41\n",
       "5        9\n",
       "Name: children, dtype: int64"
      ]
     },
     "execution_count": 123,
     "metadata": {},
     "output_type": "execute_result"
    }
   ],
   "source": [
    "data['children'].value_counts()"
   ]
  },
  {
   "cell_type": "markdown",
   "metadata": {},
   "source": [
    "*Колличество клиентов без детей, более чем в два раза превосходит все остальные категории вместе взятые. Поэтому, чтобы максимально выровнять данную ассиметрию в значениях, разделим эту колонку на три категории:  \n",
    "`нет детей`  \n",
    "`1-2 ребенка`  \n",
    "`многодетные`*"
   ]
  },
  {
   "cell_type": "code",
   "execution_count": 53,
   "metadata": {
    "ExecuteTime": {
     "end_time": "2022-05-14T15:40:21.595216Z",
     "start_time": "2022-05-14T15:40:21.422233Z"
    }
   },
   "outputs": [],
   "source": [
    "def children_cat(row):\n",
    "    '''\n",
    "        Input: row - таблица pd.DataFrame.\n",
    "        Output: колонку 'children_cat'.\n",
    "        Description: Функция ранжирует клиентов по трем категориям.\n",
    "\n",
    "    '''\n",
    "    \n",
    "    if row['children'] == 0:\n",
    "        return 'нет детей'\n",
    "    elif 1 <= row['children'] <= 2:\n",
    "        return '1-2 ребенка'\n",
    "    else:\n",
    "        return 'многодетные'\n",
    "    \n",
    "data['children_cat'] = data.apply(children_cat, axis=1)"
   ]
  },
  {
   "cell_type": "code",
   "execution_count": 125,
   "metadata": {},
   "outputs": [
    {
     "data": {
      "text/plain": [
       "142.594"
      ]
     },
     "execution_count": 125,
     "metadata": {},
     "output_type": "execute_result"
    }
   ],
   "source": [
    "data['total_income'].median()"
   ]
  },
  {
   "cell_type": "code",
   "execution_count": 126,
   "metadata": {},
   "outputs": [
    {
     "data": {
      "text/plain": [
       "income_type\n",
       "безработный        131.339\n",
       "в декрете           53.829\n",
       "госслужащий        150.447\n",
       "компаньон          172.319\n",
       "пенсионер          118.514\n",
       "предприниматель    499.163\n",
       "сотрудник          142.594\n",
       "студент             98.201\n",
       "Name: total_income, dtype: float64"
      ]
     },
     "execution_count": 126,
     "metadata": {},
     "output_type": "execute_result"
    }
   ],
   "source": [
    "civil_servant_gr_median =  data.groupby('income_type')['total_income']\n",
    "civil_servant_gr_median.median()"
   ]
  },
  {
   "cell_type": "markdown",
   "metadata": {},
   "source": [
    "*Получив медиану по столбцу `total_income` равную - `142594`, а так же, при учете медиан по типу занятости, можно условно разделить колонку ежемесячного дохода клиентов на три категории:  \n",
    "`низкий доход`  - доход до 100000 \n",
    "`средний доход` - доход от 100000 до 200000  \n",
    "`высокий доход` - доход от 200000 до 300000  \n",
    "`свехвысокий доход` - доход от 300000*\n"
   ]
  },
  {
   "cell_type": "code",
   "execution_count": 54,
   "metadata": {
    "ExecuteTime": {
     "end_time": "2022-05-14T15:40:27.632174Z",
     "start_time": "2022-05-14T15:40:27.463466Z"
    }
   },
   "outputs": [],
   "source": [
    "def salary_cat(row):\n",
    "    '''\n",
    "        Input: row - таблица pd.DataFrame.\n",
    "        Output: колонку 'salary_cat'.\n",
    "        Description: Функция ранжирует клиентов по четырем категориям.\n",
    "\n",
    "    '''\n",
    "    if row['total_income'] <= 100000:\n",
    "        return 'низкий доход'\n",
    "    elif 100001 <= row['total_income'] <= 200000:\n",
    "        return 'средний доход'\n",
    "    elif 200001 <= row['total_income'] <= 300000:\n",
    "        return 'высокий доход'\n",
    "    else:\n",
    "        return 'свехвысокий доход'\n",
    "    \n",
    "data['salary_cat'] = data.apply(salary_cat,axis=1)"
   ]
  },
  {
   "cell_type": "code",
   "execution_count": 128,
   "metadata": {},
   "outputs": [
    {
     "data": {
      "text/html": [
       "<div>\n",
       "<style scoped>\n",
       "    .dataframe tbody tr th:only-of-type {\n",
       "        vertical-align: middle;\n",
       "    }\n",
       "\n",
       "    .dataframe tbody tr th {\n",
       "        vertical-align: top;\n",
       "    }\n",
       "\n",
       "    .dataframe thead th {\n",
       "        text-align: right;\n",
       "    }\n",
       "</style>\n",
       "<table border=\"1\" class=\"dataframe\">\n",
       "  <thead>\n",
       "    <tr style=\"text-align: right;\">\n",
       "      <th></th>\n",
       "      <th>children</th>\n",
       "      <th>days_employed</th>\n",
       "      <th>dob_years</th>\n",
       "      <th>education</th>\n",
       "      <th>education_id</th>\n",
       "      <th>family_status</th>\n",
       "      <th>family_status_id</th>\n",
       "      <th>gender</th>\n",
       "      <th>income_type</th>\n",
       "      <th>debt</th>\n",
       "      <th>total_income</th>\n",
       "      <th>purpose</th>\n",
       "      <th>purpose_cat</th>\n",
       "      <th>children_cat</th>\n",
       "      <th>salary_cat</th>\n",
       "    </tr>\n",
       "  </thead>\n",
       "  <tbody>\n",
       "    <tr>\n",
       "      <td>0</td>\n",
       "      <td>1</td>\n",
       "      <td>23</td>\n",
       "      <td>42</td>\n",
       "      <td>высшее</td>\n",
       "      <td>0</td>\n",
       "      <td>женат / замужем</td>\n",
       "      <td>0</td>\n",
       "      <td>F</td>\n",
       "      <td>сотрудник</td>\n",
       "      <td>0</td>\n",
       "      <td>253.875</td>\n",
       "      <td>покупка жилья</td>\n",
       "      <td>недвижимость</td>\n",
       "      <td>1-2 ребенка</td>\n",
       "      <td>низкий доход</td>\n",
       "    </tr>\n",
       "    <tr>\n",
       "      <td>1</td>\n",
       "      <td>1</td>\n",
       "      <td>11</td>\n",
       "      <td>36</td>\n",
       "      <td>среднее</td>\n",
       "      <td>1</td>\n",
       "      <td>женат / замужем</td>\n",
       "      <td>0</td>\n",
       "      <td>F</td>\n",
       "      <td>сотрудник</td>\n",
       "      <td>0</td>\n",
       "      <td>112.080</td>\n",
       "      <td>приобретение автомобиля</td>\n",
       "      <td>автомобиль</td>\n",
       "      <td>1-2 ребенка</td>\n",
       "      <td>низкий доход</td>\n",
       "    </tr>\n",
       "    <tr>\n",
       "      <td>2</td>\n",
       "      <td>0</td>\n",
       "      <td>15</td>\n",
       "      <td>33</td>\n",
       "      <td>среднее</td>\n",
       "      <td>1</td>\n",
       "      <td>женат / замужем</td>\n",
       "      <td>0</td>\n",
       "      <td>M</td>\n",
       "      <td>сотрудник</td>\n",
       "      <td>0</td>\n",
       "      <td>145.885</td>\n",
       "      <td>покупка жилья</td>\n",
       "      <td>недвижимость</td>\n",
       "      <td>нет детей</td>\n",
       "      <td>низкий доход</td>\n",
       "    </tr>\n",
       "    <tr>\n",
       "      <td>3</td>\n",
       "      <td>3</td>\n",
       "      <td>11</td>\n",
       "      <td>32</td>\n",
       "      <td>среднее</td>\n",
       "      <td>1</td>\n",
       "      <td>женат / замужем</td>\n",
       "      <td>0</td>\n",
       "      <td>M</td>\n",
       "      <td>сотрудник</td>\n",
       "      <td>0</td>\n",
       "      <td>267.628</td>\n",
       "      <td>дополнительное образование</td>\n",
       "      <td>образование</td>\n",
       "      <td>многодетные</td>\n",
       "      <td>низкий доход</td>\n",
       "    </tr>\n",
       "    <tr>\n",
       "      <td>4</td>\n",
       "      <td>0</td>\n",
       "      <td>38</td>\n",
       "      <td>53</td>\n",
       "      <td>среднее</td>\n",
       "      <td>1</td>\n",
       "      <td>гражданский брак</td>\n",
       "      <td>1</td>\n",
       "      <td>F</td>\n",
       "      <td>пенсионер</td>\n",
       "      <td>0</td>\n",
       "      <td>158.616</td>\n",
       "      <td>сыграть свадьбу</td>\n",
       "      <td>свадьба</td>\n",
       "      <td>нет детей</td>\n",
       "      <td>низкий доход</td>\n",
       "    </tr>\n",
       "    <tr>\n",
       "      <td>5</td>\n",
       "      <td>0</td>\n",
       "      <td>2</td>\n",
       "      <td>27</td>\n",
       "      <td>высшее</td>\n",
       "      <td>0</td>\n",
       "      <td>гражданский брак</td>\n",
       "      <td>1</td>\n",
       "      <td>M</td>\n",
       "      <td>компаньон</td>\n",
       "      <td>0</td>\n",
       "      <td>255.763</td>\n",
       "      <td>покупка жилья</td>\n",
       "      <td>недвижимость</td>\n",
       "      <td>нет детей</td>\n",
       "      <td>низкий доход</td>\n",
       "    </tr>\n",
       "    <tr>\n",
       "      <td>6</td>\n",
       "      <td>0</td>\n",
       "      <td>7</td>\n",
       "      <td>43</td>\n",
       "      <td>высшее</td>\n",
       "      <td>0</td>\n",
       "      <td>женат / замужем</td>\n",
       "      <td>0</td>\n",
       "      <td>F</td>\n",
       "      <td>компаньон</td>\n",
       "      <td>0</td>\n",
       "      <td>240.525</td>\n",
       "      <td>операции с жильем</td>\n",
       "      <td>недвижимость</td>\n",
       "      <td>нет детей</td>\n",
       "      <td>низкий доход</td>\n",
       "    </tr>\n",
       "    <tr>\n",
       "      <td>7</td>\n",
       "      <td>0</td>\n",
       "      <td>0</td>\n",
       "      <td>50</td>\n",
       "      <td>среднее</td>\n",
       "      <td>1</td>\n",
       "      <td>женат / замужем</td>\n",
       "      <td>0</td>\n",
       "      <td>M</td>\n",
       "      <td>сотрудник</td>\n",
       "      <td>0</td>\n",
       "      <td>135.823</td>\n",
       "      <td>образование</td>\n",
       "      <td>образование</td>\n",
       "      <td>нет детей</td>\n",
       "      <td>низкий доход</td>\n",
       "    </tr>\n",
       "    <tr>\n",
       "      <td>8</td>\n",
       "      <td>2</td>\n",
       "      <td>18</td>\n",
       "      <td>35</td>\n",
       "      <td>высшее</td>\n",
       "      <td>0</td>\n",
       "      <td>гражданский брак</td>\n",
       "      <td>1</td>\n",
       "      <td>F</td>\n",
       "      <td>сотрудник</td>\n",
       "      <td>0</td>\n",
       "      <td>95.856</td>\n",
       "      <td>на проведение свадьбы</td>\n",
       "      <td>свадьба</td>\n",
       "      <td>1-2 ребенка</td>\n",
       "      <td>низкий доход</td>\n",
       "    </tr>\n",
       "    <tr>\n",
       "      <td>9</td>\n",
       "      <td>0</td>\n",
       "      <td>5</td>\n",
       "      <td>41</td>\n",
       "      <td>среднее</td>\n",
       "      <td>1</td>\n",
       "      <td>женат / замужем</td>\n",
       "      <td>0</td>\n",
       "      <td>M</td>\n",
       "      <td>сотрудник</td>\n",
       "      <td>0</td>\n",
       "      <td>144.425</td>\n",
       "      <td>покупка жилья для семьи</td>\n",
       "      <td>недвижимость</td>\n",
       "      <td>нет детей</td>\n",
       "      <td>низкий доход</td>\n",
       "    </tr>\n",
       "    <tr>\n",
       "      <td>10</td>\n",
       "      <td>2</td>\n",
       "      <td>11</td>\n",
       "      <td>36</td>\n",
       "      <td>высшее</td>\n",
       "      <td>0</td>\n",
       "      <td>женат / замужем</td>\n",
       "      <td>0</td>\n",
       "      <td>M</td>\n",
       "      <td>компаньон</td>\n",
       "      <td>0</td>\n",
       "      <td>113.943</td>\n",
       "      <td>покупка недвижимости</td>\n",
       "      <td>недвижимость</td>\n",
       "      <td>1-2 ребенка</td>\n",
       "      <td>низкий доход</td>\n",
       "    </tr>\n",
       "    <tr>\n",
       "      <td>11</td>\n",
       "      <td>0</td>\n",
       "      <td>2</td>\n",
       "      <td>40</td>\n",
       "      <td>среднее</td>\n",
       "      <td>1</td>\n",
       "      <td>женат / замужем</td>\n",
       "      <td>0</td>\n",
       "      <td>F</td>\n",
       "      <td>сотрудник</td>\n",
       "      <td>0</td>\n",
       "      <td>77.069</td>\n",
       "      <td>покупка коммерческой недвижимости</td>\n",
       "      <td>коммерческая деятельность</td>\n",
       "      <td>нет детей</td>\n",
       "      <td>низкий доход</td>\n",
       "    </tr>\n",
       "    <tr>\n",
       "      <td>12</td>\n",
       "      <td>0</td>\n",
       "      <td>41</td>\n",
       "      <td>65</td>\n",
       "      <td>среднее</td>\n",
       "      <td>1</td>\n",
       "      <td>гражданский брак</td>\n",
       "      <td>1</td>\n",
       "      <td>M</td>\n",
       "      <td>пенсионер</td>\n",
       "      <td>0</td>\n",
       "      <td>118.514</td>\n",
       "      <td>сыграть свадьбу</td>\n",
       "      <td>свадьба</td>\n",
       "      <td>нет детей</td>\n",
       "      <td>низкий доход</td>\n",
       "    </tr>\n",
       "    <tr>\n",
       "      <td>13</td>\n",
       "      <td>0</td>\n",
       "      <td>5</td>\n",
       "      <td>54</td>\n",
       "      <td>неоконченное высшее</td>\n",
       "      <td>2</td>\n",
       "      <td>женат / замужем</td>\n",
       "      <td>0</td>\n",
       "      <td>F</td>\n",
       "      <td>сотрудник</td>\n",
       "      <td>0</td>\n",
       "      <td>130.458</td>\n",
       "      <td>приобретение автомобиля</td>\n",
       "      <td>автомобиль</td>\n",
       "      <td>нет детей</td>\n",
       "      <td>низкий доход</td>\n",
       "    </tr>\n",
       "    <tr>\n",
       "      <td>14</td>\n",
       "      <td>0</td>\n",
       "      <td>5</td>\n",
       "      <td>56</td>\n",
       "      <td>высшее</td>\n",
       "      <td>0</td>\n",
       "      <td>гражданский брак</td>\n",
       "      <td>1</td>\n",
       "      <td>F</td>\n",
       "      <td>компаньон</td>\n",
       "      <td>1</td>\n",
       "      <td>165.127</td>\n",
       "      <td>покупка жилой недвижимости</td>\n",
       "      <td>недвижимость</td>\n",
       "      <td>нет детей</td>\n",
       "      <td>низкий доход</td>\n",
       "    </tr>\n",
       "  </tbody>\n",
       "</table>\n",
       "</div>"
      ],
      "text/plain": [
       "    children  days_employed  dob_years            education  education_id  \\\n",
       "0          1             23         42               высшее             0   \n",
       "1          1             11         36              среднее             1   \n",
       "2          0             15         33              среднее             1   \n",
       "3          3             11         32              среднее             1   \n",
       "4          0             38         53              среднее             1   \n",
       "5          0              2         27               высшее             0   \n",
       "6          0              7         43               высшее             0   \n",
       "7          0              0         50              среднее             1   \n",
       "8          2             18         35               высшее             0   \n",
       "9          0              5         41              среднее             1   \n",
       "10         2             11         36               высшее             0   \n",
       "11         0              2         40              среднее             1   \n",
       "12         0             41         65              среднее             1   \n",
       "13         0              5         54  неоконченное высшее             2   \n",
       "14         0              5         56               высшее             0   \n",
       "\n",
       "       family_status  family_status_id gender income_type  debt  total_income  \\\n",
       "0    женат / замужем                 0      F   сотрудник     0       253.875   \n",
       "1    женат / замужем                 0      F   сотрудник     0       112.080   \n",
       "2    женат / замужем                 0      M   сотрудник     0       145.885   \n",
       "3    женат / замужем                 0      M   сотрудник     0       267.628   \n",
       "4   гражданский брак                 1      F   пенсионер     0       158.616   \n",
       "5   гражданский брак                 1      M   компаньон     0       255.763   \n",
       "6    женат / замужем                 0      F   компаньон     0       240.525   \n",
       "7    женат / замужем                 0      M   сотрудник     0       135.823   \n",
       "8   гражданский брак                 1      F   сотрудник     0        95.856   \n",
       "9    женат / замужем                 0      M   сотрудник     0       144.425   \n",
       "10   женат / замужем                 0      M   компаньон     0       113.943   \n",
       "11   женат / замужем                 0      F   сотрудник     0        77.069   \n",
       "12  гражданский брак                 1      M   пенсионер     0       118.514   \n",
       "13   женат / замужем                 0      F   сотрудник     0       130.458   \n",
       "14  гражданский брак                 1      F   компаньон     1       165.127   \n",
       "\n",
       "                              purpose                purpose_cat children_cat  \\\n",
       "0                       покупка жилья               недвижимость  1-2 ребенка   \n",
       "1             приобретение автомобиля                 автомобиль  1-2 ребенка   \n",
       "2                       покупка жилья               недвижимость    нет детей   \n",
       "3          дополнительное образование                образование  многодетные   \n",
       "4                     сыграть свадьбу                    свадьба    нет детей   \n",
       "5                       покупка жилья               недвижимость    нет детей   \n",
       "6                   операции с жильем               недвижимость    нет детей   \n",
       "7                         образование                образование    нет детей   \n",
       "8               на проведение свадьбы                    свадьба  1-2 ребенка   \n",
       "9             покупка жилья для семьи               недвижимость    нет детей   \n",
       "10               покупка недвижимости               недвижимость  1-2 ребенка   \n",
       "11  покупка коммерческой недвижимости  коммерческая деятельность    нет детей   \n",
       "12                    сыграть свадьбу                    свадьба    нет детей   \n",
       "13            приобретение автомобиля                 автомобиль    нет детей   \n",
       "14         покупка жилой недвижимости               недвижимость    нет детей   \n",
       "\n",
       "      salary_cat  \n",
       "0   низкий доход  \n",
       "1   низкий доход  \n",
       "2   низкий доход  \n",
       "3   низкий доход  \n",
       "4   низкий доход  \n",
       "5   низкий доход  \n",
       "6   низкий доход  \n",
       "7   низкий доход  \n",
       "8   низкий доход  \n",
       "9   низкий доход  \n",
       "10  низкий доход  \n",
       "11  низкий доход  \n",
       "12  низкий доход  \n",
       "13  низкий доход  \n",
       "14  низкий доход  "
      ]
     },
     "execution_count": 128,
     "metadata": {},
     "output_type": "execute_result"
    }
   ],
   "source": [
    "data.head(15)"
   ]
  },
  {
   "cell_type": "markdown",
   "metadata": {},
   "source": [
    "**Вывод**"
   ]
  },
  {
   "cell_type": "markdown",
   "metadata": {},
   "source": [
    "*Все необходимые категории, по которым надлежит подготовить заключение - выведены.*\n",
    "\n",
    "* *Категория по семейному положению имелась в начале.*\n",
    "* *Категория по цели кредита была создана на предыдущем этапе;*\n",
    "* *Категория по колличеству детей выведена на основании имеющейся категории с учетом колличества клиентов;*\n",
    "* *Категория по уровню дохода в месяц сознада на основании медианы по всем внесенным данным по доходам, а так же с учетом групп по типу занятости.*"
   ]
  },
  {
   "cell_type": "markdown",
   "metadata": {},
   "source": [
    "## Шаг 3. Ответьте на вопросы"
   ]
  },
  {
   "cell_type": "markdown",
   "metadata": {},
   "source": [
    "- Есть ли зависимость между наличием детей и возвратом кредита в срок?"
   ]
  },
  {
   "cell_type": "code",
   "execution_count": 129,
   "metadata": {},
   "outputs": [
    {
     "data": {
      "text/html": [
       "<div>\n",
       "<style scoped>\n",
       "    .dataframe tbody tr th:only-of-type {\n",
       "        vertical-align: middle;\n",
       "    }\n",
       "\n",
       "    .dataframe tbody tr th {\n",
       "        vertical-align: top;\n",
       "    }\n",
       "\n",
       "    .dataframe thead th {\n",
       "        text-align: right;\n",
       "    }\n",
       "</style>\n",
       "<table border=\"1\" class=\"dataframe\">\n",
       "  <thead>\n",
       "    <tr style=\"text-align: right;\">\n",
       "      <th></th>\n",
       "      <th>debt</th>\n",
       "    </tr>\n",
       "    <tr>\n",
       "      <th>children_cat</th>\n",
       "      <th></th>\n",
       "    </tr>\n",
       "  </thead>\n",
       "  <tbody>\n",
       "    <tr>\n",
       "      <td>1-2 ребенка</td>\n",
       "      <td>0.092654</td>\n",
       "    </tr>\n",
       "    <tr>\n",
       "      <td>многодетные</td>\n",
       "      <td>0.081579</td>\n",
       "    </tr>\n",
       "    <tr>\n",
       "      <td>нет детей</td>\n",
       "      <td>0.075449</td>\n",
       "    </tr>\n",
       "  </tbody>\n",
       "</table>\n",
       "</div>"
      ],
      "text/plain": [
       "                  debt\n",
       "children_cat          \n",
       "1-2 ребенка   0.092654\n",
       "многодетные   0.081579\n",
       "нет детей     0.075449"
      ]
     },
     "execution_count": 129,
     "metadata": {},
     "output_type": "execute_result"
    }
   ],
   "source": [
    "data_pivot_children_cat = data.pivot_table(index=['children_cat'], values = 'debt', aggfunc='mean')\n",
    "data_pivot_children_cat.sort_values(by='debt',ascending=False)"
   ]
  },
  {
   "cell_type": "code",
   "execution_count": 130,
   "metadata": {},
   "outputs": [
    {
     "data": {
      "text/html": [
       "<div>\n",
       "<style scoped>\n",
       "    .dataframe tbody tr th:only-of-type {\n",
       "        vertical-align: middle;\n",
       "    }\n",
       "\n",
       "    .dataframe tbody tr th {\n",
       "        vertical-align: top;\n",
       "    }\n",
       "\n",
       "    .dataframe thead th {\n",
       "        text-align: right;\n",
       "    }\n",
       "</style>\n",
       "<table border=\"1\" class=\"dataframe\">\n",
       "  <thead>\n",
       "    <tr style=\"text-align: right;\">\n",
       "      <th></th>\n",
       "      <th>count</th>\n",
       "      <th>sum</th>\n",
       "      <th>ratio</th>\n",
       "    </tr>\n",
       "    <tr>\n",
       "      <th>children_cat</th>\n",
       "      <th></th>\n",
       "      <th></th>\n",
       "      <th></th>\n",
       "    </tr>\n",
       "  </thead>\n",
       "  <tbody>\n",
       "    <tr>\n",
       "      <td>1-2 ребенка</td>\n",
       "      <td>6983</td>\n",
       "      <td>647</td>\n",
       "      <td>0.092654</td>\n",
       "    </tr>\n",
       "    <tr>\n",
       "      <td>многодетные</td>\n",
       "      <td>380</td>\n",
       "      <td>31</td>\n",
       "      <td>0.081579</td>\n",
       "    </tr>\n",
       "    <tr>\n",
       "      <td>нет детей</td>\n",
       "      <td>14089</td>\n",
       "      <td>1063</td>\n",
       "      <td>0.075449</td>\n",
       "    </tr>\n",
       "  </tbody>\n",
       "</table>\n",
       "</div>"
      ],
      "text/plain": [
       "              count   sum     ratio\n",
       "children_cat                       \n",
       "1-2 ребенка    6983   647  0.092654\n",
       "многодетные     380    31  0.081579\n",
       "нет детей     14089  1063  0.075449"
      ]
     },
     "execution_count": 130,
     "metadata": {},
     "output_type": "execute_result"
    }
   ],
   "source": [
    "grouped_by_children = data.groupby('children_cat')['debt'].agg(['count', 'sum'])\n",
    "grouped_by_children['ratio'] = grouped_by_children['sum'] / grouped_by_children['count']\n",
    "grouped_by_children.sort_values('ratio',ascending=False)"
   ]
  },
  {
   "cell_type": "markdown",
   "metadata": {},
   "source": [
    "**Вывод**"
   ]
  },
  {
   "cell_type": "markdown",
   "metadata": {},
   "source": [
    "*Основываясь на выборку по заданным нами категориями, можно с большой долей вероятности утверждать, что некая зависимость между наличием детей и возвратом кредита в срок прослеживается.  \n",
    "В итоговых данных можно убедиться в том, с наибольшей вероятностью не выплатить кредит в срок, могут семьи с одним или двумя детьми. Скорее всего это может быть связано с наличием постоянно возникающих непредвиденных затрат на детей.  \n",
    "И наоборот - чаще всего возвращают кредит в срок клиенты не имеющие на иждивении детей.  \n",
    "Утверждать о вероятности просрочки в многодетных семьях, основываясь на имеющиеся данные, проблематично, ввиду малочисленности данной группы по отношению к остальным. Но можно предположить, что многодетные семьи живут в условиях экономии и расчета и, всвязи с этим, каждая из их трат экономически обоснована, дабы не получить дополнительные расходы в виде процентов, за просрочку.*"
   ]
  },
  {
   "cell_type": "markdown",
   "metadata": {},
   "source": [
    "- Есть ли зависимость между семейным положением и возвратом кредита в срок?"
   ]
  },
  {
   "cell_type": "code",
   "execution_count": 131,
   "metadata": {},
   "outputs": [
    {
     "data": {
      "text/html": [
       "<div>\n",
       "<style scoped>\n",
       "    .dataframe tbody tr th:only-of-type {\n",
       "        vertical-align: middle;\n",
       "    }\n",
       "\n",
       "    .dataframe tbody tr th {\n",
       "        vertical-align: top;\n",
       "    }\n",
       "\n",
       "    .dataframe thead th {\n",
       "        text-align: right;\n",
       "    }\n",
       "</style>\n",
       "<table border=\"1\" class=\"dataframe\">\n",
       "  <thead>\n",
       "    <tr style=\"text-align: right;\">\n",
       "      <th></th>\n",
       "      <th>debt</th>\n",
       "    </tr>\n",
       "    <tr>\n",
       "      <th>family_status</th>\n",
       "      <th></th>\n",
       "    </tr>\n",
       "  </thead>\n",
       "  <tbody>\n",
       "    <tr>\n",
       "      <td>Не женат / не замужем</td>\n",
       "      <td>0.097509</td>\n",
       "    </tr>\n",
       "    <tr>\n",
       "      <td>гражданский брак</td>\n",
       "      <td>0.093494</td>\n",
       "    </tr>\n",
       "    <tr>\n",
       "      <td>женат / замужем</td>\n",
       "      <td>0.075458</td>\n",
       "    </tr>\n",
       "    <tr>\n",
       "      <td>в разводе</td>\n",
       "      <td>0.071130</td>\n",
       "    </tr>\n",
       "    <tr>\n",
       "      <td>вдовец / вдова</td>\n",
       "      <td>0.065693</td>\n",
       "    </tr>\n",
       "  </tbody>\n",
       "</table>\n",
       "</div>"
      ],
      "text/plain": [
       "                           debt\n",
       "family_status                  \n",
       "Не женат / не замужем  0.097509\n",
       "гражданский брак       0.093494\n",
       "женат / замужем        0.075458\n",
       "в разводе              0.071130\n",
       "вдовец / вдова         0.065693"
      ]
     },
     "execution_count": 131,
     "metadata": {},
     "output_type": "execute_result"
    }
   ],
   "source": [
    "data_pivot_family = data.pivot_table(index = ['family_status'], values = 'debt', aggfunc = 'mean')\n",
    "data_pivot_family.sort_values(by='debt',ascending=False)"
   ]
  },
  {
   "cell_type": "code",
   "execution_count": 132,
   "metadata": {},
   "outputs": [
    {
     "data": {
      "text/html": [
       "<div>\n",
       "<style scoped>\n",
       "    .dataframe tbody tr th:only-of-type {\n",
       "        vertical-align: middle;\n",
       "    }\n",
       "\n",
       "    .dataframe tbody tr th {\n",
       "        vertical-align: top;\n",
       "    }\n",
       "\n",
       "    .dataframe thead th {\n",
       "        text-align: right;\n",
       "    }\n",
       "</style>\n",
       "<table border=\"1\" class=\"dataframe\">\n",
       "  <thead>\n",
       "    <tr style=\"text-align: right;\">\n",
       "      <th></th>\n",
       "      <th>count</th>\n",
       "      <th>sum</th>\n",
       "      <th>ratio</th>\n",
       "    </tr>\n",
       "    <tr>\n",
       "      <th>family_status</th>\n",
       "      <th></th>\n",
       "      <th></th>\n",
       "      <th></th>\n",
       "    </tr>\n",
       "  </thead>\n",
       "  <tbody>\n",
       "    <tr>\n",
       "      <td>Не женат / не замужем</td>\n",
       "      <td>2810</td>\n",
       "      <td>274</td>\n",
       "      <td>0.097509</td>\n",
       "    </tr>\n",
       "    <tr>\n",
       "      <td>гражданский брак</td>\n",
       "      <td>4150</td>\n",
       "      <td>388</td>\n",
       "      <td>0.093494</td>\n",
       "    </tr>\n",
       "    <tr>\n",
       "      <td>женат / замужем</td>\n",
       "      <td>12338</td>\n",
       "      <td>931</td>\n",
       "      <td>0.075458</td>\n",
       "    </tr>\n",
       "    <tr>\n",
       "      <td>в разводе</td>\n",
       "      <td>1195</td>\n",
       "      <td>85</td>\n",
       "      <td>0.071130</td>\n",
       "    </tr>\n",
       "    <tr>\n",
       "      <td>вдовец / вдова</td>\n",
       "      <td>959</td>\n",
       "      <td>63</td>\n",
       "      <td>0.065693</td>\n",
       "    </tr>\n",
       "  </tbody>\n",
       "</table>\n",
       "</div>"
      ],
      "text/plain": [
       "                       count  sum     ratio\n",
       "family_status                              \n",
       "Не женат / не замужем   2810  274  0.097509\n",
       "гражданский брак        4150  388  0.093494\n",
       "женат / замужем        12338  931  0.075458\n",
       "в разводе               1195   85  0.071130\n",
       "вдовец / вдова           959   63  0.065693"
      ]
     },
     "execution_count": 132,
     "metadata": {},
     "output_type": "execute_result"
    }
   ],
   "source": [
    "grouped_by_family = data.groupby('family_status')['debt'].agg(['count', 'sum'])\n",
    "grouped_by_family['ratio'] = grouped_by_family['sum'] / grouped_by_family['count']\n",
    "grouped_by_family.sort_values('ratio',ascending=False)"
   ]
  },
  {
   "cell_type": "markdown",
   "metadata": {},
   "source": [
    "**Вывод**"
   ]
  },
  {
   "cell_type": "markdown",
   "metadata": {},
   "source": [
    "*В корреляции своевременного возврата кредита от семейного положения тоже прослеживается зависимость.\n",
    "С наибольшей вероятностью просрочить выплату по кредиту может категория не вступивших в брак клиентов. Скорее всего это связано с тем, что одинокие люди в основном не планируют семейный бюджет и свои расходы.  \n",
    "То же относится и к группе людей, живущих в гражданском браке.  \n",
    "А вот клиенты, живущие в браке, понимают уровень отвественности при взятии кредита, т.к. им необходимо готовиться к расширению семьи или уже имеют достаточно детей.  \n",
    "Разведенные и вдовствующие, люди оставшиеся одни, расчитывающие только на свои силы, отдают себе отчет за контролем над денежными средствами.*"
   ]
  },
  {
   "cell_type": "markdown",
   "metadata": {},
   "source": [
    "- Есть ли зависимость между уровнем дохода и возвратом кредита в срок?"
   ]
  },
  {
   "cell_type": "code",
   "execution_count": 133,
   "metadata": {},
   "outputs": [
    {
     "data": {
      "text/html": [
       "<div>\n",
       "<style scoped>\n",
       "    .dataframe tbody tr th:only-of-type {\n",
       "        vertical-align: middle;\n",
       "    }\n",
       "\n",
       "    .dataframe tbody tr th {\n",
       "        vertical-align: top;\n",
       "    }\n",
       "\n",
       "    .dataframe thead th {\n",
       "        text-align: right;\n",
       "    }\n",
       "</style>\n",
       "<table border=\"1\" class=\"dataframe\">\n",
       "  <thead>\n",
       "    <tr style=\"text-align: right;\">\n",
       "      <th></th>\n",
       "      <th>debt</th>\n",
       "    </tr>\n",
       "    <tr>\n",
       "      <th>salary_cat</th>\n",
       "      <th></th>\n",
       "    </tr>\n",
       "  </thead>\n",
       "  <tbody>\n",
       "    <tr>\n",
       "      <td>низкий доход</td>\n",
       "      <td>0.081158</td>\n",
       "    </tr>\n",
       "  </tbody>\n",
       "</table>\n",
       "</div>"
      ],
      "text/plain": [
       "                  debt\n",
       "salary_cat            \n",
       "низкий доход  0.081158"
      ]
     },
     "execution_count": 133,
     "metadata": {},
     "output_type": "execute_result"
    }
   ],
   "source": [
    "data_pivot_salary = data.pivot_table(index = ['salary_cat'], values = 'debt', aggfunc = 'mean')\n",
    "data_pivot_salary.sort_values(by='debt',ascending=False)"
   ]
  },
  {
   "cell_type": "code",
   "execution_count": 134,
   "metadata": {},
   "outputs": [
    {
     "data": {
      "text/html": [
       "<div>\n",
       "<style scoped>\n",
       "    .dataframe tbody tr th:only-of-type {\n",
       "        vertical-align: middle;\n",
       "    }\n",
       "\n",
       "    .dataframe tbody tr th {\n",
       "        vertical-align: top;\n",
       "    }\n",
       "\n",
       "    .dataframe thead th {\n",
       "        text-align: right;\n",
       "    }\n",
       "</style>\n",
       "<table border=\"1\" class=\"dataframe\">\n",
       "  <thead>\n",
       "    <tr style=\"text-align: right;\">\n",
       "      <th></th>\n",
       "      <th>count</th>\n",
       "      <th>sum</th>\n",
       "      <th>ratio</th>\n",
       "    </tr>\n",
       "    <tr>\n",
       "      <th>salary_cat</th>\n",
       "      <th></th>\n",
       "      <th></th>\n",
       "      <th></th>\n",
       "    </tr>\n",
       "  </thead>\n",
       "  <tbody>\n",
       "    <tr>\n",
       "      <td>низкий доход</td>\n",
       "      <td>21452</td>\n",
       "      <td>1741</td>\n",
       "      <td>0.081158</td>\n",
       "    </tr>\n",
       "  </tbody>\n",
       "</table>\n",
       "</div>"
      ],
      "text/plain": [
       "              count   sum     ratio\n",
       "salary_cat                         \n",
       "низкий доход  21452  1741  0.081158"
      ]
     },
     "execution_count": 134,
     "metadata": {},
     "output_type": "execute_result"
    }
   ],
   "source": [
    "grouped_by_salary = data.groupby('salary_cat')['debt'].agg(['count', 'sum'])\n",
    "grouped_by_salary['ratio'] = grouped_by_salary['sum'] / grouped_by_salary['count']\n",
    "grouped_by_salary.sort_values('ratio',ascending=False)"
   ]
  },
  {
   "cell_type": "markdown",
   "metadata": {},
   "source": [
    "**Вывод**"
   ]
  },
  {
   "cell_type": "markdown",
   "metadata": {},
   "source": [
    "*Как ни странно, но люди со средним уровнем достатка, от 100001 до 200000 согласно имеющимся данным, чеще всего задерживают выплаты по кредиту. Скорее всего это связно с тем, что на данном уровне жизни, у людей появляются излишки, которые они могли бы потратить на развлечения и прочее.  \n",
    "Второе место у клиентов с низким доходом, скорее всего не вовремя погашенные кредиты у данной категории клиентов, связаны с выплатой нескольких кредитов, ввиду низкого уровня дохода.  \n",
    "Клиенты же с высоким и сверх высоким доходом, стараются выплачивать кредиты в срок, так как это влияет на их репутацию, а так же, что в связи с высоким уровнем жизни, средств для погашения у них хватает.*"
   ]
  },
  {
   "cell_type": "markdown",
   "metadata": {},
   "source": [
    "- Как разные цели кредита влияют на его возврат в срок?"
   ]
  },
  {
   "cell_type": "code",
   "execution_count": 135,
   "metadata": {},
   "outputs": [
    {
     "data": {
      "text/html": [
       "<div>\n",
       "<style scoped>\n",
       "    .dataframe tbody tr th:only-of-type {\n",
       "        vertical-align: middle;\n",
       "    }\n",
       "\n",
       "    .dataframe tbody tr th {\n",
       "        vertical-align: top;\n",
       "    }\n",
       "\n",
       "    .dataframe thead th {\n",
       "        text-align: right;\n",
       "    }\n",
       "</style>\n",
       "<table border=\"1\" class=\"dataframe\">\n",
       "  <thead>\n",
       "    <tr style=\"text-align: right;\">\n",
       "      <th></th>\n",
       "      <th>debt</th>\n",
       "    </tr>\n",
       "    <tr>\n",
       "      <th>purpose_cat</th>\n",
       "      <th></th>\n",
       "    </tr>\n",
       "  </thead>\n",
       "  <tbody>\n",
       "    <tr>\n",
       "      <td>автомобиль</td>\n",
       "      <td>0.093590</td>\n",
       "    </tr>\n",
       "    <tr>\n",
       "      <td>образование</td>\n",
       "      <td>0.092200</td>\n",
       "    </tr>\n",
       "    <tr>\n",
       "      <td>свадьба</td>\n",
       "      <td>0.080034</td>\n",
       "    </tr>\n",
       "    <tr>\n",
       "      <td>коммерческая деятельность</td>\n",
       "      <td>0.076962</td>\n",
       "    </tr>\n",
       "    <tr>\n",
       "      <td>недвижимость</td>\n",
       "      <td>0.071324</td>\n",
       "    </tr>\n",
       "  </tbody>\n",
       "</table>\n",
       "</div>"
      ],
      "text/plain": [
       "                               debt\n",
       "purpose_cat                        \n",
       "автомобиль                 0.093590\n",
       "образование                0.092200\n",
       "свадьба                    0.080034\n",
       "коммерческая деятельность  0.076962\n",
       "недвижимость               0.071324"
      ]
     },
     "execution_count": 135,
     "metadata": {},
     "output_type": "execute_result"
    }
   ],
   "source": [
    "data_pivot_purpose = data.pivot_table(index = ['purpose_cat'], values = 'debt', aggfunc = 'mean')\n",
    "data_pivot_purpose.sort_values(by='debt',ascending=False)"
   ]
  },
  {
   "cell_type": "code",
   "execution_count": 136,
   "metadata": {},
   "outputs": [
    {
     "data": {
      "text/html": [
       "<div>\n",
       "<style scoped>\n",
       "    .dataframe tbody tr th:only-of-type {\n",
       "        vertical-align: middle;\n",
       "    }\n",
       "\n",
       "    .dataframe tbody tr th {\n",
       "        vertical-align: top;\n",
       "    }\n",
       "\n",
       "    .dataframe thead th {\n",
       "        text-align: right;\n",
       "    }\n",
       "</style>\n",
       "<table border=\"1\" class=\"dataframe\">\n",
       "  <thead>\n",
       "    <tr style=\"text-align: right;\">\n",
       "      <th></th>\n",
       "      <th>count</th>\n",
       "      <th>sum</th>\n",
       "      <th>ratio</th>\n",
       "    </tr>\n",
       "    <tr>\n",
       "      <th>purpose_cat</th>\n",
       "      <th></th>\n",
       "      <th></th>\n",
       "      <th></th>\n",
       "    </tr>\n",
       "  </thead>\n",
       "  <tbody>\n",
       "    <tr>\n",
       "      <td>автомобиль</td>\n",
       "      <td>4306</td>\n",
       "      <td>403</td>\n",
       "      <td>0.093590</td>\n",
       "    </tr>\n",
       "    <tr>\n",
       "      <td>образование</td>\n",
       "      <td>4013</td>\n",
       "      <td>370</td>\n",
       "      <td>0.092200</td>\n",
       "    </tr>\n",
       "    <tr>\n",
       "      <td>свадьба</td>\n",
       "      <td>2324</td>\n",
       "      <td>186</td>\n",
       "      <td>0.080034</td>\n",
       "    </tr>\n",
       "    <tr>\n",
       "      <td>коммерческая деятельность</td>\n",
       "      <td>1962</td>\n",
       "      <td>151</td>\n",
       "      <td>0.076962</td>\n",
       "    </tr>\n",
       "    <tr>\n",
       "      <td>недвижимость</td>\n",
       "      <td>8847</td>\n",
       "      <td>631</td>\n",
       "      <td>0.071324</td>\n",
       "    </tr>\n",
       "  </tbody>\n",
       "</table>\n",
       "</div>"
      ],
      "text/plain": [
       "                           count  sum     ratio\n",
       "purpose_cat                                    \n",
       "автомобиль                  4306  403  0.093590\n",
       "образование                 4013  370  0.092200\n",
       "свадьба                     2324  186  0.080034\n",
       "коммерческая деятельность   1962  151  0.076962\n",
       "недвижимость                8847  631  0.071324"
      ]
     },
     "execution_count": 136,
     "metadata": {},
     "output_type": "execute_result"
    }
   ],
   "source": [
    "grouped_by_purpose = data.groupby('purpose_cat')['debt'].agg(['count', 'sum'])\n",
    "grouped_by_purpose['ratio'] = grouped_by_purpose['sum'] / grouped_by_purpose['count']\n",
    "grouped_by_purpose.sort_values('ratio',ascending=False)"
   ]
  },
  {
   "cell_type": "markdown",
   "metadata": {},
   "source": [
    "**Вывод**"
   ]
  },
  {
   "cell_type": "markdown",
   "metadata": {},
   "source": [
    "*На представленных выборках можно убедиться в том, что и различные цели кредита так же влияют на его возврат.  \n",
    "На первом месте конечно же - автомобиль. Данная покупка, за исключением коммерческих авто, не несет никакой выгоды, кроме дополнительных расходов, а учитывая нынешнюю тенденцию, в которой автомобиль - это предмет роскоши, многие клиенты делают данную покупку не сознавая, что в последствии могут ее не потянуть.  \n",
    "Образование - грамотный источник вложения в себя, но быстрой окупаемости оно не приносит, скорее всего отсюда и задержки.  \n",
    "Комерческая недвижимость - имеет высокий процент возврата, но иногда случаются издержки, которые мешают вовремя сделать выплату по кредиту, несвоевременная выплата в данной категории -это скорее всего исключение из правил.\n",
    "К строительству или покупке жилья люди относятся более ответственно, ведь в случае просрочки они могут его потерять, и если потерять автомобиль не так страшно, но остаться без крыши над головой не каждый хотел бы, в связи с этим и самый высокий процент возврата.*"
   ]
  },
  {
   "cell_type": "markdown",
   "metadata": {},
   "source": [
    "## Шаг 4. Общий вывод"
   ]
  },
  {
   "cell_type": "code",
   "execution_count": 137,
   "metadata": {},
   "outputs": [
    {
     "data": {
      "text/plain": [
       "35    617\n",
       "41    609\n",
       "40    608\n",
       "34    602\n",
       "38    602\n",
       "42    601\n",
       "33    584\n",
       "39    573\n",
       "31    561\n",
       "36    557\n",
       "44    547\n",
       "29    546\n",
       "30    541\n",
       "37    541\n",
       "48    538\n",
       "50    518\n",
       "43    514\n",
       "32    512\n",
       "49    511\n",
       "28    505\n",
       "45    496\n",
       "27    494\n",
       "56    486\n",
       "52    485\n",
       "47    479\n",
       "54    479\n",
       "46    475\n",
       "53    463\n",
       "57    459\n",
       "58    455\n",
       "51    449\n",
       "59    447\n",
       "55    445\n",
       "26    411\n",
       "60    376\n",
       "25    357\n",
       "61    354\n",
       "62    348\n",
       "63    269\n",
       "24    263\n",
       "64    260\n",
       "23    253\n",
       "65    195\n",
       "22    183\n",
       "66    182\n",
       "67    170\n",
       "21    112\n",
       "68    100\n",
       "69     85\n",
       "70     65\n",
       "71     56\n",
       "20     51\n",
       "72     33\n",
       "19     14\n",
       "73      9\n",
       "74      6\n",
       "75      1\n",
       "Name: dob_years, dtype: int64"
      ]
     },
     "execution_count": 137,
     "metadata": {},
     "output_type": "execute_result"
    }
   ],
   "source": [
    "data['dob_years'].value_counts()\n",
    "\n",
    "# Найдем колличество  каждого уникального значения возраста."
   ]
  },
  {
   "cell_type": "code",
   "execution_count": 55,
   "metadata": {
    "ExecuteTime": {
     "end_time": "2022-05-14T15:42:02.551945Z",
     "start_time": "2022-05-14T15:42:02.326933Z"
    }
   },
   "outputs": [],
   "source": [
    "def years_cat(row):\n",
    "    '''\n",
    "        Input: row - таблица pd.DataFrame.\n",
    "        Output: колонку 'years_cat'.\n",
    "        Description: Функция ранжирует клиентов по четырем категориям.\n",
    "\n",
    "    '''\n",
    "    \n",
    "    if 19 <= row['dob_years'] <= 30:\n",
    "        return 'юные'\n",
    "    if 31 <= row['dob_years'] <= 40:\n",
    "        return 'молодые'\n",
    "    if 41 <= row['dob_years'] <= 50:\n",
    "        return 'зрелые'\n",
    "    return 'в возрасте'\n",
    "\n",
    "data['years_cat'] = data.apply(years_cat, axis=1)"
   ]
  },
  {
   "cell_type": "code",
   "execution_count": 139,
   "metadata": {},
   "outputs": [
    {
     "data": {
      "text/html": [
       "<div>\n",
       "<style scoped>\n",
       "    .dataframe tbody tr th:only-of-type {\n",
       "        vertical-align: middle;\n",
       "    }\n",
       "\n",
       "    .dataframe tbody tr th {\n",
       "        vertical-align: top;\n",
       "    }\n",
       "\n",
       "    .dataframe thead th {\n",
       "        text-align: right;\n",
       "    }\n",
       "</style>\n",
       "<table border=\"1\" class=\"dataframe\">\n",
       "  <thead>\n",
       "    <tr style=\"text-align: right;\">\n",
       "      <th></th>\n",
       "      <th>count</th>\n",
       "      <th>sum</th>\n",
       "      <th>ratio</th>\n",
       "    </tr>\n",
       "    <tr>\n",
       "      <th>years_cat</th>\n",
       "      <th></th>\n",
       "      <th></th>\n",
       "      <th></th>\n",
       "    </tr>\n",
       "  </thead>\n",
       "  <tbody>\n",
       "    <tr>\n",
       "      <td>юные</td>\n",
       "      <td>3730</td>\n",
       "      <td>405</td>\n",
       "      <td>0.108579</td>\n",
       "    </tr>\n",
       "    <tr>\n",
       "      <td>молодые</td>\n",
       "      <td>5757</td>\n",
       "      <td>549</td>\n",
       "      <td>0.095362</td>\n",
       "    </tr>\n",
       "    <tr>\n",
       "      <td>зрелые</td>\n",
       "      <td>5288</td>\n",
       "      <td>403</td>\n",
       "      <td>0.076210</td>\n",
       "    </tr>\n",
       "    <tr>\n",
       "      <td>в возрасте</td>\n",
       "      <td>6677</td>\n",
       "      <td>384</td>\n",
       "      <td>0.057511</td>\n",
       "    </tr>\n",
       "  </tbody>\n",
       "</table>\n",
       "</div>"
      ],
      "text/plain": [
       "            count  sum     ratio\n",
       "years_cat                       \n",
       "юные         3730  405  0.108579\n",
       "молодые      5757  549  0.095362\n",
       "зрелые       5288  403  0.076210\n",
       "в возрасте   6677  384  0.057511"
      ]
     },
     "execution_count": 139,
     "metadata": {},
     "output_type": "execute_result"
    }
   ],
   "source": [
    "grouped_by_dob_years = data.groupby('years_cat')['debt'].agg(['count','sum'])\n",
    "grouped_by_dob_years['ratio'] = grouped_by_dob_years['sum']/grouped_by_dob_years['count']\n",
    "grouped_by_dob_years.sort_values('ratio',ascending=False)"
   ]
  },
  {
   "cell_type": "code",
   "execution_count": 140,
   "metadata": {},
   "outputs": [
    {
     "data": {
      "text/html": [
       "<div>\n",
       "<style scoped>\n",
       "    .dataframe tbody tr th:only-of-type {\n",
       "        vertical-align: middle;\n",
       "    }\n",
       "\n",
       "    .dataframe tbody tr th {\n",
       "        vertical-align: top;\n",
       "    }\n",
       "\n",
       "    .dataframe thead th {\n",
       "        text-align: right;\n",
       "    }\n",
       "</style>\n",
       "<table border=\"1\" class=\"dataframe\">\n",
       "  <thead>\n",
       "    <tr style=\"text-align: right;\">\n",
       "      <th></th>\n",
       "      <th>count</th>\n",
       "      <th>sum</th>\n",
       "      <th>ratio</th>\n",
       "    </tr>\n",
       "    <tr>\n",
       "      <th>income_type</th>\n",
       "      <th></th>\n",
       "      <th></th>\n",
       "      <th></th>\n",
       "    </tr>\n",
       "  </thead>\n",
       "  <tbody>\n",
       "    <tr>\n",
       "      <td>в декрете</td>\n",
       "      <td>1</td>\n",
       "      <td>1</td>\n",
       "      <td>1.000000</td>\n",
       "    </tr>\n",
       "    <tr>\n",
       "      <td>безработный</td>\n",
       "      <td>2</td>\n",
       "      <td>1</td>\n",
       "      <td>0.500000</td>\n",
       "    </tr>\n",
       "    <tr>\n",
       "      <td>сотрудник</td>\n",
       "      <td>11083</td>\n",
       "      <td>1061</td>\n",
       "      <td>0.095732</td>\n",
       "    </tr>\n",
       "    <tr>\n",
       "      <td>компаньон</td>\n",
       "      <td>5077</td>\n",
       "      <td>376</td>\n",
       "      <td>0.074059</td>\n",
       "    </tr>\n",
       "    <tr>\n",
       "      <td>госслужащий</td>\n",
       "      <td>1457</td>\n",
       "      <td>86</td>\n",
       "      <td>0.059025</td>\n",
       "    </tr>\n",
       "    <tr>\n",
       "      <td>пенсионер</td>\n",
       "      <td>3829</td>\n",
       "      <td>216</td>\n",
       "      <td>0.056412</td>\n",
       "    </tr>\n",
       "    <tr>\n",
       "      <td>предприниматель</td>\n",
       "      <td>2</td>\n",
       "      <td>0</td>\n",
       "      <td>0.000000</td>\n",
       "    </tr>\n",
       "    <tr>\n",
       "      <td>студент</td>\n",
       "      <td>1</td>\n",
       "      <td>0</td>\n",
       "      <td>0.000000</td>\n",
       "    </tr>\n",
       "  </tbody>\n",
       "</table>\n",
       "</div>"
      ],
      "text/plain": [
       "                 count   sum     ratio\n",
       "income_type                           \n",
       "в декрете            1     1  1.000000\n",
       "безработный          2     1  0.500000\n",
       "сотрудник        11083  1061  0.095732\n",
       "компаньон         5077   376  0.074059\n",
       "госслужащий       1457    86  0.059025\n",
       "пенсионер         3829   216  0.056412\n",
       "предприниматель      2     0  0.000000\n",
       "студент              1     0  0.000000"
      ]
     },
     "execution_count": 140,
     "metadata": {},
     "output_type": "execute_result"
    }
   ],
   "source": [
    "grouped_by_income_type = data.groupby('income_type')['debt'].agg(['count','sum'])\n",
    "grouped_by_income_type['ratio'] = grouped_by_income_type['sum']/grouped_by_income_type['count']\n",
    "grouped_by_income_type.sort_values('ratio',ascending=False)"
   ]
  },
  {
   "cell_type": "code",
   "execution_count": 141,
   "metadata": {},
   "outputs": [
    {
     "data": {
      "text/html": [
       "<div>\n",
       "<style scoped>\n",
       "    .dataframe tbody tr th:only-of-type {\n",
       "        vertical-align: middle;\n",
       "    }\n",
       "\n",
       "    .dataframe tbody tr th {\n",
       "        vertical-align: top;\n",
       "    }\n",
       "\n",
       "    .dataframe thead th {\n",
       "        text-align: right;\n",
       "    }\n",
       "</style>\n",
       "<table border=\"1\" class=\"dataframe\">\n",
       "  <thead>\n",
       "    <tr style=\"text-align: right;\">\n",
       "      <th></th>\n",
       "      <th>count</th>\n",
       "      <th>sum</th>\n",
       "      <th>ratio</th>\n",
       "    </tr>\n",
       "    <tr>\n",
       "      <th>gender</th>\n",
       "      <th></th>\n",
       "      <th></th>\n",
       "      <th></th>\n",
       "    </tr>\n",
       "  </thead>\n",
       "  <tbody>\n",
       "    <tr>\n",
       "      <td>M</td>\n",
       "      <td>7279</td>\n",
       "      <td>747</td>\n",
       "      <td>0.102624</td>\n",
       "    </tr>\n",
       "    <tr>\n",
       "      <td>F</td>\n",
       "      <td>14173</td>\n",
       "      <td>994</td>\n",
       "      <td>0.070133</td>\n",
       "    </tr>\n",
       "  </tbody>\n",
       "</table>\n",
       "</div>"
      ],
      "text/plain": [
       "        count  sum     ratio\n",
       "gender                      \n",
       "M        7279  747  0.102624\n",
       "F       14173  994  0.070133"
      ]
     },
     "execution_count": 141,
     "metadata": {},
     "output_type": "execute_result"
    }
   ],
   "source": [
    "grouped_by_income_type = data.groupby('gender')['debt'].agg(['count','sum'])\n",
    "grouped_by_income_type['ratio'] = grouped_by_income_type['sum']/grouped_by_income_type['count']\n",
    "grouped_by_income_type.sort_values('ratio',ascending=False)"
   ]
  },
  {
   "cell_type": "code",
   "execution_count": 142,
   "metadata": {},
   "outputs": [
    {
     "data": {
      "text/html": [
       "<div>\n",
       "<style scoped>\n",
       "    .dataframe tbody tr th:only-of-type {\n",
       "        vertical-align: middle;\n",
       "    }\n",
       "\n",
       "    .dataframe tbody tr th {\n",
       "        vertical-align: top;\n",
       "    }\n",
       "\n",
       "    .dataframe thead th {\n",
       "        text-align: right;\n",
       "    }\n",
       "</style>\n",
       "<table border=\"1\" class=\"dataframe\">\n",
       "  <thead>\n",
       "    <tr style=\"text-align: right;\">\n",
       "      <th></th>\n",
       "      <th>count</th>\n",
       "      <th>sum</th>\n",
       "      <th>ratio</th>\n",
       "    </tr>\n",
       "    <tr>\n",
       "      <th>education</th>\n",
       "      <th></th>\n",
       "      <th></th>\n",
       "      <th></th>\n",
       "    </tr>\n",
       "  </thead>\n",
       "  <tbody>\n",
       "    <tr>\n",
       "      <td>начальное</td>\n",
       "      <td>282</td>\n",
       "      <td>31</td>\n",
       "      <td>0.109929</td>\n",
       "    </tr>\n",
       "    <tr>\n",
       "      <td>неоконченное высшее</td>\n",
       "      <td>743</td>\n",
       "      <td>68</td>\n",
       "      <td>0.091521</td>\n",
       "    </tr>\n",
       "    <tr>\n",
       "      <td>среднее</td>\n",
       "      <td>15171</td>\n",
       "      <td>1364</td>\n",
       "      <td>0.089908</td>\n",
       "    </tr>\n",
       "    <tr>\n",
       "      <td>высшее</td>\n",
       "      <td>5250</td>\n",
       "      <td>278</td>\n",
       "      <td>0.052952</td>\n",
       "    </tr>\n",
       "    <tr>\n",
       "      <td>ученая степень</td>\n",
       "      <td>6</td>\n",
       "      <td>0</td>\n",
       "      <td>0.000000</td>\n",
       "    </tr>\n",
       "  </tbody>\n",
       "</table>\n",
       "</div>"
      ],
      "text/plain": [
       "                     count   sum     ratio\n",
       "education                                 \n",
       "начальное              282    31  0.109929\n",
       "неоконченное высшее    743    68  0.091521\n",
       "среднее              15171  1364  0.089908\n",
       "высшее                5250   278  0.052952\n",
       "ученая степень           6     0  0.000000"
      ]
     },
     "execution_count": 142,
     "metadata": {},
     "output_type": "execute_result"
    }
   ],
   "source": [
    "grouped_by_income_type = data.groupby('education')['debt'].agg(['count','sum'])\n",
    "grouped_by_income_type['ratio'] = grouped_by_income_type['sum']/grouped_by_income_type['count']\n",
    "grouped_by_income_type.sort_values('ratio',ascending=False)"
   ]
  },
  {
   "cell_type": "markdown",
   "metadata": {},
   "source": [
    "*В данном исследовании получены ответы на поставленные вопросы Заказчика, а именно:*  \n",
    "* *Есть ли зависимость между наличием детей и возвратом кредита в срок?*  \n",
    "* *Есть ли зависимость между семейным положением и возвратом кредита в срок?*  \n",
    "* *Есть ли зависимость между уровнем дохода и возвратом кредита в срок?*  \n",
    "* *Как разные цели кредита влияют на его возврат в срок?*\n",
    "\n",
    "*Подводя итоги, проделанной работы над исследованием надежности заемщиков можно выделить несколько тезисов, основываясь на предоставленные данные:\n",
    "В итоговых данных можно убедиться в том, с наибольшей вероятностью не выплатить кредит в срок, могут семьи с одним или двумя детьми, не вступивших в брак или состоящих в гражданском браке клиентов, со средним уровнем достатка, от 100001 до 200000, покупающие автомобиль.\n",
    "Дополнительно, были подготовлены еще несколько выборок, судя по которым, можно дополнить имеющиеся критерии неплательщиков.\n",
    "Так же в группе риска - клиенты в возрасте от 19 до 40, имеющие начальное/незаконченное высшее/среднее образование, преимущественно мужчины.*  \n",
    "\n",
    "*Портрет же идеального дисциплинированного клиента таков:\n",
    "Женщина с высшим образованием, работающая на госслужбе или вышедшая на пенсию, старше пятидесяти лет, с доходом свыше 200000, неимеющая детей и вдовствующая, покупающая недвижимость или занимающаяся коммерческой деятельностью. Хотя и к данному типу клиента, могут появиться вопросы, но к данному исследованию это не относится.  \n",
    "Данные с комментариями и выводами готовы к передаче Заказчику.*"
   ]
  }
 ],
 "metadata": {
  "ExecuteTimeLog": [
   {
    "duration": 837,
    "start_time": "2022-01-13T13:33:09.764Z"
   },
   {
    "duration": 92,
    "start_time": "2022-01-13T13:34:20.596Z"
   },
   {
    "duration": 80,
    "start_time": "2022-01-13T13:41:55.656Z"
   },
   {
    "duration": 63,
    "start_time": "2022-01-13T13:43:05.041Z"
   },
   {
    "duration": 20,
    "start_time": "2022-01-13T13:43:16.606Z"
   },
   {
    "duration": 20,
    "start_time": "2022-01-13T13:45:26.160Z"
   },
   {
    "duration": 17,
    "start_time": "2022-01-13T13:46:17.688Z"
   },
   {
    "duration": 14,
    "start_time": "2022-01-13T13:53:45.082Z"
   },
   {
    "duration": 12,
    "start_time": "2022-01-13T13:58:27.883Z"
   },
   {
    "duration": 11,
    "start_time": "2022-01-13T13:59:16.513Z"
   },
   {
    "duration": 8,
    "start_time": "2022-01-13T14:00:36.593Z"
   },
   {
    "duration": 11,
    "start_time": "2022-01-13T14:00:47.673Z"
   },
   {
    "duration": 7,
    "start_time": "2022-01-13T14:03:58.519Z"
   },
   {
    "duration": 28,
    "start_time": "2022-01-13T14:06:50.110Z"
   },
   {
    "duration": 29,
    "start_time": "2022-01-13T14:07:19.220Z"
   },
   {
    "duration": 8,
    "start_time": "2022-01-13T14:20:05.862Z"
   },
   {
    "duration": 9,
    "start_time": "2022-01-13T14:22:21.423Z"
   },
   {
    "duration": 16,
    "start_time": "2022-01-13T14:32:40.519Z"
   },
   {
    "duration": 13,
    "start_time": "2022-01-13T14:57:13.428Z"
   },
   {
    "duration": 25,
    "start_time": "2022-01-13T14:57:44.587Z"
   },
   {
    "duration": 14,
    "start_time": "2022-01-13T15:01:43.562Z"
   },
   {
    "duration": 17,
    "start_time": "2022-01-13T15:04:57.369Z"
   },
   {
    "duration": 23,
    "start_time": "2022-01-13T15:05:49.152Z"
   },
   {
    "duration": 14,
    "start_time": "2022-01-13T15:05:59.439Z"
   },
   {
    "duration": 15,
    "start_time": "2022-01-13T15:08:40.399Z"
   },
   {
    "duration": 13,
    "start_time": "2022-01-13T15:09:17.591Z"
   },
   {
    "duration": 14,
    "start_time": "2022-01-13T15:09:56.354Z"
   },
   {
    "duration": 92,
    "start_time": "2022-01-13T15:10:56.025Z"
   },
   {
    "duration": 140,
    "start_time": "2022-01-13T15:12:06.165Z"
   },
   {
    "duration": 8,
    "start_time": "2022-01-13T15:12:12.612Z"
   },
   {
    "duration": 8,
    "start_time": "2022-01-13T15:13:39.996Z"
   },
   {
    "duration": 6,
    "start_time": "2022-01-13T16:18:34.421Z"
   },
   {
    "duration": 1139,
    "start_time": "2022-01-13T16:18:51.691Z"
   },
   {
    "duration": 15,
    "start_time": "2022-01-13T16:19:12.008Z"
   },
   {
    "duration": 20,
    "start_time": "2022-01-13T16:19:29.767Z"
   },
   {
    "duration": 923,
    "start_time": "2022-01-13T16:19:59.033Z"
   },
   {
    "duration": 31,
    "start_time": "2022-01-13T16:20:02.576Z"
   },
   {
    "duration": 17,
    "start_time": "2022-01-13T16:20:07.442Z"
   },
   {
    "duration": 15,
    "start_time": "2022-01-13T16:20:13.691Z"
   },
   {
    "duration": 8,
    "start_time": "2022-01-13T16:20:20.513Z"
   },
   {
    "duration": 16,
    "start_time": "2022-01-13T16:20:23.697Z"
   },
   {
    "duration": 19,
    "start_time": "2022-01-13T16:20:30.121Z"
   },
   {
    "duration": 23,
    "start_time": "2022-01-13T16:21:34.354Z"
   },
   {
    "duration": 60,
    "start_time": "2022-01-13T16:29:56.139Z"
   },
   {
    "duration": 52,
    "start_time": "2022-01-13T16:36:32.960Z"
   },
   {
    "duration": 8,
    "start_time": "2022-01-13T16:36:57.345Z"
   },
   {
    "duration": 15,
    "start_time": "2022-01-13T16:39:40.958Z"
   },
   {
    "duration": 97,
    "start_time": "2022-01-13T16:39:49.038Z"
   },
   {
    "duration": 8,
    "start_time": "2022-01-13T16:39:58.455Z"
   },
   {
    "duration": 7,
    "start_time": "2022-01-13T16:40:56.488Z"
   },
   {
    "duration": 9,
    "start_time": "2022-01-13T16:41:03.078Z"
   },
   {
    "duration": 10,
    "start_time": "2022-01-13T16:43:40.813Z"
   },
   {
    "duration": 11,
    "start_time": "2022-01-13T16:44:12.945Z"
   },
   {
    "duration": 10,
    "start_time": "2022-01-13T16:44:18.637Z"
   },
   {
    "duration": 11,
    "start_time": "2022-01-13T16:44:22.512Z"
   },
   {
    "duration": 437,
    "start_time": "2022-01-13T16:46:29.394Z"
   },
   {
    "duration": 279,
    "start_time": "2022-01-13T16:46:41.907Z"
   },
   {
    "duration": 13,
    "start_time": "2022-01-13T16:46:56.804Z"
   },
   {
    "duration": 6,
    "start_time": "2022-01-13T16:48:16.036Z"
   },
   {
    "duration": 95,
    "start_time": "2022-01-13T16:48:34.067Z"
   },
   {
    "duration": 39,
    "start_time": "2022-01-13T16:48:41.138Z"
   },
   {
    "duration": 20,
    "start_time": "2022-01-13T16:49:49.249Z"
   },
   {
    "duration": 453,
    "start_time": "2022-01-13T16:52:39.401Z"
   },
   {
    "duration": 621,
    "start_time": "2022-01-13T16:53:04.700Z"
   },
   {
    "duration": -469,
    "start_time": "2022-01-13T16:53:33.832Z"
   },
   {
    "duration": 12,
    "start_time": "2022-01-13T16:53:38.864Z"
   },
   {
    "duration": 14,
    "start_time": "2022-01-13T16:55:38.136Z"
   },
   {
    "duration": 39,
    "start_time": "2022-01-13T16:57:58.528Z"
   },
   {
    "duration": 946,
    "start_time": "2022-01-13T16:58:23.770Z"
   },
   {
    "duration": 30,
    "start_time": "2022-01-13T16:58:26.610Z"
   },
   {
    "duration": 18,
    "start_time": "2022-01-13T16:58:29.329Z"
   },
   {
    "duration": 14,
    "start_time": "2022-01-13T16:58:32.608Z"
   },
   {
    "duration": 17,
    "start_time": "2022-01-13T16:58:36.577Z"
   },
   {
    "duration": 38,
    "start_time": "2022-01-13T16:58:47.792Z"
   },
   {
    "duration": 37,
    "start_time": "2022-01-13T16:59:40.378Z"
   },
   {
    "duration": 432,
    "start_time": "2022-01-13T17:00:23.639Z"
   },
   {
    "duration": 17,
    "start_time": "2022-01-13T17:00:36.385Z"
   },
   {
    "duration": 22,
    "start_time": "2022-01-13T17:05:05.511Z"
   },
   {
    "duration": 23,
    "start_time": "2022-01-13T17:05:25.390Z"
   },
   {
    "duration": 13,
    "start_time": "2022-01-13T17:06:37.614Z"
   },
   {
    "duration": 15,
    "start_time": "2022-01-13T17:06:53.909Z"
   },
   {
    "duration": 103,
    "start_time": "2022-01-13T17:07:39.709Z"
   },
   {
    "duration": 7,
    "start_time": "2022-01-13T17:07:55.854Z"
   },
   {
    "duration": 18,
    "start_time": "2022-01-13T17:08:19.277Z"
   },
   {
    "duration": 14,
    "start_time": "2022-01-13T17:11:08.578Z"
   },
   {
    "duration": 8,
    "start_time": "2022-01-13T17:16:05.408Z"
   },
   {
    "duration": 290,
    "start_time": "2022-01-13T17:32:11.806Z"
   },
   {
    "duration": 98,
    "start_time": "2022-01-13T17:32:42.288Z"
   },
   {
    "duration": 101,
    "start_time": "2022-01-13T17:32:46.400Z"
   },
   {
    "duration": 289,
    "start_time": "2022-01-13T17:32:50.639Z"
   },
   {
    "duration": 27,
    "start_time": "2022-01-13T17:33:57.456Z"
   },
   {
    "duration": 26,
    "start_time": "2022-01-13T17:39:06.804Z"
   },
   {
    "duration": 875,
    "start_time": "2022-01-13T17:39:37.266Z"
   },
   {
    "duration": 30,
    "start_time": "2022-01-13T17:39:40.203Z"
   },
   {
    "duration": 16,
    "start_time": "2022-01-13T17:39:45.467Z"
   },
   {
    "duration": 17,
    "start_time": "2022-01-13T17:39:49.307Z"
   },
   {
    "duration": 37,
    "start_time": "2022-01-13T17:40:03.868Z"
   },
   {
    "duration": 29,
    "start_time": "2022-01-13T17:40:08.763Z"
   },
   {
    "duration": 7,
    "start_time": "2022-01-13T17:40:18.138Z"
   },
   {
    "duration": 28,
    "start_time": "2022-01-13T17:40:21.210Z"
   },
   {
    "duration": 15,
    "start_time": "2022-01-13T17:40:55.610Z"
   },
   {
    "duration": 26,
    "start_time": "2022-01-13T17:41:07.331Z"
   },
   {
    "duration": 25,
    "start_time": "2022-01-13T17:44:30.015Z"
   },
   {
    "duration": 13,
    "start_time": "2022-01-13T17:45:17.935Z"
   },
   {
    "duration": 8,
    "start_time": "2022-01-13T17:46:01.144Z"
   },
   {
    "duration": 10,
    "start_time": "2022-01-13T17:47:33.176Z"
   },
   {
    "duration": 15,
    "start_time": "2022-01-13T17:50:21.357Z"
   },
   {
    "duration": 5989,
    "start_time": "2022-01-13T17:50:29.525Z"
   },
   {
    "duration": 12,
    "start_time": "2022-01-13T17:50:54.270Z"
   },
   {
    "duration": 10,
    "start_time": "2022-01-13T17:53:26.276Z"
   },
   {
    "duration": 18,
    "start_time": "2022-01-13T17:53:29.068Z"
   },
   {
    "duration": 998,
    "start_time": "2022-01-13T17:54:08.202Z"
   },
   {
    "duration": 31,
    "start_time": "2022-01-13T17:54:11.435Z"
   },
   {
    "duration": 15,
    "start_time": "2022-01-13T17:54:14.146Z"
   },
   {
    "duration": 14,
    "start_time": "2022-01-13T17:54:17.402Z"
   },
   {
    "duration": 10,
    "start_time": "2022-01-13T17:55:02.058Z"
   },
   {
    "duration": 26,
    "start_time": "2022-01-13T17:55:32.811Z"
   },
   {
    "duration": 10,
    "start_time": "2022-01-13T17:56:02.786Z"
   },
   {
    "duration": 10,
    "start_time": "2022-01-13T17:56:24.848Z"
   },
   {
    "duration": 17,
    "start_time": "2022-01-13T17:58:41.152Z"
   },
   {
    "duration": 12,
    "start_time": "2022-01-13T17:59:28.727Z"
   },
   {
    "duration": 10,
    "start_time": "2022-01-13T18:00:53.215Z"
   },
   {
    "duration": 10,
    "start_time": "2022-01-13T18:01:29.791Z"
   },
   {
    "duration": 10,
    "start_time": "2022-01-13T18:02:17.302Z"
   },
   {
    "duration": 11,
    "start_time": "2022-01-13T18:03:32.862Z"
   },
   {
    "duration": 19,
    "start_time": "2022-01-13T18:10:53.569Z"
   },
   {
    "duration": 481,
    "start_time": "2022-01-13T18:18:11.550Z"
   },
   {
    "duration": 307,
    "start_time": "2022-01-13T18:25:52.362Z"
   },
   {
    "duration": 1266,
    "start_time": "2022-01-13T18:26:48.847Z"
   },
   {
    "duration": 2008,
    "start_time": "2022-01-13T18:27:12.835Z"
   },
   {
    "duration": 1140,
    "start_time": "2022-01-13T18:27:18.162Z"
   },
   {
    "duration": 333,
    "start_time": "2022-01-13T18:28:02.850Z"
   },
   {
    "duration": 351,
    "start_time": "2022-01-13T18:33:50.895Z"
   },
   {
    "duration": 2237,
    "start_time": "2022-01-13T18:58:21.330Z"
   },
   {
    "duration": 152,
    "start_time": "2022-01-13T19:00:10.682Z"
   },
   {
    "duration": 2152,
    "start_time": "2022-01-13T19:00:19.049Z"
   },
   {
    "duration": 442,
    "start_time": "2022-01-13T19:01:58.586Z"
   },
   {
    "duration": 436,
    "start_time": "2022-01-13T19:10:24.371Z"
   },
   {
    "duration": 8,
    "start_time": "2022-01-13T19:31:23.640Z"
   },
   {
    "duration": 9,
    "start_time": "2022-01-13T19:31:37.672Z"
   },
   {
    "duration": 8,
    "start_time": "2022-01-13T19:31:49.121Z"
   },
   {
    "duration": 7,
    "start_time": "2022-01-13T19:32:05.057Z"
   },
   {
    "duration": 7,
    "start_time": "2022-01-13T19:32:21.896Z"
   },
   {
    "duration": 67,
    "start_time": "2022-01-13T19:49:30.784Z"
   },
   {
    "duration": 18,
    "start_time": "2022-01-13T19:49:34.911Z"
   },
   {
    "duration": 16,
    "start_time": "2022-01-13T19:49:38.376Z"
   },
   {
    "duration": 13,
    "start_time": "2022-01-13T19:49:43.008Z"
   },
   {
    "duration": 15,
    "start_time": "2022-01-13T19:50:00.345Z"
   },
   {
    "duration": 15,
    "start_time": "2022-01-13T19:52:17.016Z"
   },
   {
    "duration": 14,
    "start_time": "2022-01-13T19:52:55.911Z"
   },
   {
    "duration": 38,
    "start_time": "2022-01-13T19:53:05.095Z"
   },
   {
    "duration": 36,
    "start_time": "2022-01-13T19:54:57.205Z"
   },
   {
    "duration": 34,
    "start_time": "2022-01-13T19:59:09.563Z"
   },
   {
    "duration": 9,
    "start_time": "2022-01-13T19:59:34.277Z"
   },
   {
    "duration": 35,
    "start_time": "2022-01-13T20:00:09.436Z"
   },
   {
    "duration": 1096,
    "start_time": "2022-01-13T20:00:28.633Z"
   },
   {
    "duration": 30,
    "start_time": "2022-01-13T20:00:32.601Z"
   },
   {
    "duration": 17,
    "start_time": "2022-01-13T20:00:41.161Z"
   },
   {
    "duration": 13,
    "start_time": "2022-01-13T20:00:44.753Z"
   },
   {
    "duration": 16,
    "start_time": "2022-01-13T20:00:48.369Z"
   },
   {
    "duration": 16,
    "start_time": "2022-01-13T20:00:51.617Z"
   },
   {
    "duration": 37,
    "start_time": "2022-01-13T20:00:56.993Z"
   },
   {
    "duration": 35,
    "start_time": "2022-01-13T20:01:56.201Z"
   },
   {
    "duration": 9,
    "start_time": "2022-01-13T20:02:57.522Z"
   },
   {
    "duration": 8,
    "start_time": "2022-01-13T20:04:21.088Z"
   },
   {
    "duration": 7,
    "start_time": "2022-01-13T20:04:48.839Z"
   },
   {
    "duration": 9,
    "start_time": "2022-01-13T20:05:16.423Z"
   },
   {
    "duration": 8,
    "start_time": "2022-01-13T20:05:51.247Z"
   },
   {
    "duration": 10,
    "start_time": "2022-01-13T20:08:05.133Z"
   },
   {
    "duration": 6,
    "start_time": "2022-01-13T20:10:23.011Z"
   },
   {
    "duration": 7,
    "start_time": "2022-01-13T20:14:48.523Z"
   },
   {
    "duration": 11,
    "start_time": "2022-01-13T20:17:28.689Z"
   },
   {
    "duration": 9,
    "start_time": "2022-01-13T20:18:00.114Z"
   },
   {
    "duration": 7,
    "start_time": "2022-01-13T20:19:09.904Z"
   },
   {
    "duration": 14,
    "start_time": "2022-01-13T20:22:22.407Z"
   },
   {
    "duration": 11,
    "start_time": "2022-01-13T21:20:42.931Z"
   },
   {
    "duration": 18,
    "start_time": "2022-01-13T21:21:14.565Z"
   },
   {
    "duration": 15,
    "start_time": "2022-01-13T21:21:27.896Z"
   },
   {
    "duration": 9,
    "start_time": "2022-01-13T21:21:56.235Z"
   },
   {
    "duration": 370,
    "start_time": "2022-01-14T07:52:44.963Z"
   },
   {
    "duration": 323,
    "start_time": "2022-01-14T07:53:10.104Z"
   },
   {
    "duration": 331,
    "start_time": "2022-01-14T07:53:29.849Z"
   },
   {
    "duration": 624,
    "start_time": "2022-01-14T07:54:05.349Z"
   },
   {
    "duration": 17,
    "start_time": "2022-01-14T07:54:08.725Z"
   },
   {
    "duration": 11,
    "start_time": "2022-01-14T07:54:11.609Z"
   },
   {
    "duration": 8,
    "start_time": "2022-01-14T07:54:14.773Z"
   },
   {
    "duration": 13,
    "start_time": "2022-01-14T07:54:19.284Z"
   },
   {
    "duration": 348,
    "start_time": "2022-01-14T07:55:29.639Z"
   },
   {
    "duration": 6,
    "start_time": "2022-01-14T07:55:39.024Z"
   },
   {
    "duration": 804,
    "start_time": "2022-01-15T22:17:29.835Z"
   },
   {
    "duration": 66,
    "start_time": "2022-01-15T22:17:31.092Z"
   },
   {
    "duration": 28,
    "start_time": "2022-01-15T22:17:31.755Z"
   },
   {
    "duration": 19,
    "start_time": "2022-01-15T22:17:33.649Z"
   },
   {
    "duration": 20,
    "start_time": "2022-01-15T22:17:35.302Z"
   },
   {
    "duration": 46,
    "start_time": "2022-01-15T22:17:36.398Z"
   },
   {
    "duration": 9,
    "start_time": "2022-01-15T22:18:28.919Z"
   },
   {
    "duration": 13,
    "start_time": "2022-01-15T22:19:00.664Z"
   },
   {
    "duration": 23,
    "start_time": "2022-01-15T22:19:15.904Z"
   },
   {
    "duration": 12,
    "start_time": "2022-01-15T22:20:42.574Z"
   },
   {
    "duration": 19,
    "start_time": "2022-01-15T22:27:26.358Z"
   },
   {
    "duration": 15,
    "start_time": "2022-01-15T22:28:12.822Z"
   },
   {
    "duration": 12,
    "start_time": "2022-01-15T22:33:42.606Z"
   },
   {
    "duration": 12,
    "start_time": "2022-01-15T22:34:24.483Z"
   },
   {
    "duration": 21,
    "start_time": "2022-01-15T22:36:45.386Z"
   },
   {
    "duration": 35,
    "start_time": "2022-01-15T22:39:36.188Z"
   },
   {
    "duration": 24,
    "start_time": "2022-01-15T22:40:20.938Z"
   },
   {
    "duration": 21,
    "start_time": "2022-01-15T22:41:00.246Z"
   },
   {
    "duration": 24,
    "start_time": "2022-01-15T22:41:40.800Z"
   },
   {
    "duration": 38,
    "start_time": "2022-01-15T22:42:45.865Z"
   },
   {
    "duration": 453,
    "start_time": "2022-01-15T22:43:20.179Z"
   },
   {
    "duration": 34,
    "start_time": "2022-01-15T22:43:30.938Z"
   },
   {
    "duration": 29,
    "start_time": "2022-01-15T22:50:35.516Z"
   },
   {
    "duration": 718,
    "start_time": "2022-01-16T08:41:34.889Z"
   },
   {
    "duration": 64,
    "start_time": "2022-01-16T08:41:37.159Z"
   },
   {
    "duration": 29,
    "start_time": "2022-01-16T08:41:37.813Z"
   },
   {
    "duration": 15,
    "start_time": "2022-01-16T08:41:38.511Z"
   },
   {
    "duration": 21,
    "start_time": "2022-01-16T08:41:39.151Z"
   },
   {
    "duration": 44,
    "start_time": "2022-01-16T08:41:39.772Z"
   },
   {
    "duration": 9,
    "start_time": "2022-01-16T08:41:42.995Z"
   },
   {
    "duration": 20,
    "start_time": "2022-01-16T08:41:44.572Z"
   },
   {
    "duration": 22,
    "start_time": "2022-01-16T08:41:45.887Z"
   },
   {
    "duration": 15,
    "start_time": "2022-01-16T08:41:47.138Z"
   },
   {
    "duration": 14,
    "start_time": "2022-01-16T08:41:48.275Z"
   },
   {
    "duration": 25,
    "start_time": "2022-01-16T08:41:49.979Z"
   },
   {
    "duration": 13,
    "start_time": "2022-01-16T08:41:51.445Z"
   },
   {
    "duration": 15,
    "start_time": "2022-01-16T08:41:52.285Z"
   },
   {
    "duration": 12,
    "start_time": "2022-01-16T08:41:54.310Z"
   },
   {
    "duration": 17,
    "start_time": "2022-01-16T09:39:36.424Z"
   },
   {
    "duration": 18,
    "start_time": "2022-01-16T10:01:47.185Z"
   },
   {
    "duration": 17,
    "start_time": "2022-01-16T10:02:06.545Z"
   },
   {
    "duration": 11,
    "start_time": "2022-01-16T10:03:45.984Z"
   },
   {
    "duration": 23,
    "start_time": "2022-01-16T10:06:31.190Z"
   },
   {
    "duration": 21,
    "start_time": "2022-01-16T10:08:26.231Z"
   },
   {
    "duration": 10,
    "start_time": "2022-01-16T10:09:10.927Z"
   },
   {
    "duration": 10,
    "start_time": "2022-01-16T10:09:55.791Z"
   },
   {
    "duration": 27,
    "start_time": "2022-01-16T10:10:30.445Z"
   },
   {
    "duration": 12,
    "start_time": "2022-01-16T10:10:38.805Z"
   },
   {
    "duration": 13,
    "start_time": "2022-01-16T10:10:43.638Z"
   },
   {
    "duration": 11,
    "start_time": "2022-01-16T10:11:39.583Z"
   },
   {
    "duration": 14,
    "start_time": "2022-01-16T10:11:44.367Z"
   },
   {
    "duration": 13,
    "start_time": "2022-01-16T10:12:15.608Z"
   },
   {
    "duration": 39,
    "start_time": "2022-01-16T10:12:51.864Z"
   },
   {
    "duration": 509,
    "start_time": "2022-01-16T10:14:10.862Z"
   },
   {
    "duration": 5,
    "start_time": "2022-01-16T10:14:18.287Z"
   },
   {
    "duration": 7,
    "start_time": "2022-01-16T10:16:14.818Z"
   },
   {
    "duration": 15,
    "start_time": "2022-01-16T10:19:56.501Z"
   },
   {
    "duration": 549,
    "start_time": "2022-01-16T19:05:21.694Z"
   },
   {
    "duration": 410,
    "start_time": "2022-01-16T19:05:22.720Z"
   },
   {
    "duration": 20,
    "start_time": "2022-01-16T19:05:23.258Z"
   },
   {
    "duration": 11,
    "start_time": "2022-01-16T19:05:23.632Z"
   },
   {
    "duration": 14,
    "start_time": "2022-01-16T19:05:24.011Z"
   },
   {
    "duration": 30,
    "start_time": "2022-01-16T19:05:24.395Z"
   },
   {
    "duration": 7,
    "start_time": "2022-01-16T19:05:26.134Z"
   },
   {
    "duration": 16,
    "start_time": "2022-01-16T19:05:26.802Z"
   },
   {
    "duration": 17,
    "start_time": "2022-01-16T19:05:27.455Z"
   },
   {
    "duration": 11,
    "start_time": "2022-01-16T19:05:28.236Z"
   },
   {
    "duration": 11,
    "start_time": "2022-01-16T19:05:29.095Z"
   },
   {
    "duration": 15,
    "start_time": "2022-01-16T19:05:30.091Z"
   },
   {
    "duration": 9,
    "start_time": "2022-01-16T19:05:30.567Z"
   },
   {
    "duration": 11,
    "start_time": "2022-01-16T19:05:32.549Z"
   },
   {
    "duration": 11,
    "start_time": "2022-01-16T19:05:33.839Z"
   },
   {
    "duration": 13,
    "start_time": "2022-01-16T19:05:38.361Z"
   },
   {
    "duration": 13,
    "start_time": "2022-01-16T19:05:39.679Z"
   },
   {
    "duration": 12,
    "start_time": "2022-01-16T19:05:40.410Z"
   },
   {
    "duration": 8,
    "start_time": "2022-01-16T19:05:41.070Z"
   },
   {
    "duration": 16,
    "start_time": "2022-01-16T19:05:42.297Z"
   },
   {
    "duration": 13,
    "start_time": "2022-01-16T19:05:43.458Z"
   },
   {
    "duration": 9,
    "start_time": "2022-01-16T19:05:44.222Z"
   },
   {
    "duration": 11,
    "start_time": "2022-01-16T19:05:45.176Z"
   },
   {
    "duration": 11,
    "start_time": "2022-01-16T19:05:46.513Z"
   },
   {
    "duration": 30,
    "start_time": "2022-01-16T19:05:47.413Z"
   },
   {
    "duration": 22,
    "start_time": "2022-01-16T19:05:49.304Z"
   },
   {
    "duration": 3,
    "start_time": "2022-01-16T19:15:47.315Z"
   },
   {
    "duration": 5,
    "start_time": "2022-01-16T19:15:50.978Z"
   },
   {
    "duration": 16,
    "start_time": "2022-01-16T19:16:12.139Z"
   },
   {
    "duration": 21,
    "start_time": "2022-01-16T19:22:53.013Z"
   },
   {
    "duration": 23,
    "start_time": "2022-01-16T19:22:58.776Z"
   },
   {
    "duration": 19,
    "start_time": "2022-01-16T19:23:08.007Z"
   },
   {
    "duration": 28,
    "start_time": "2022-01-16T19:26:19.269Z"
   },
   {
    "duration": 648,
    "start_time": "2022-01-16T19:39:15.724Z"
   },
   {
    "duration": 52,
    "start_time": "2022-01-16T19:39:16.374Z"
   },
   {
    "duration": 20,
    "start_time": "2022-01-16T19:39:16.946Z"
   },
   {
    "duration": 11,
    "start_time": "2022-01-16T19:39:17.303Z"
   },
   {
    "duration": 15,
    "start_time": "2022-01-16T19:39:17.613Z"
   },
   {
    "duration": 32,
    "start_time": "2022-01-16T19:39:17.926Z"
   },
   {
    "duration": 8,
    "start_time": "2022-01-16T19:39:19.365Z"
   },
   {
    "duration": 16,
    "start_time": "2022-01-16T19:39:19.847Z"
   },
   {
    "duration": 16,
    "start_time": "2022-01-16T19:39:20.297Z"
   },
   {
    "duration": 12,
    "start_time": "2022-01-16T19:39:20.733Z"
   },
   {
    "duration": 10,
    "start_time": "2022-01-16T19:39:21.168Z"
   },
   {
    "duration": 16,
    "start_time": "2022-01-16T19:39:21.597Z"
   },
   {
    "duration": 12,
    "start_time": "2022-01-16T19:39:21.833Z"
   },
   {
    "duration": 9,
    "start_time": "2022-01-16T19:39:22.286Z"
   },
   {
    "duration": 10,
    "start_time": "2022-01-16T19:39:22.722Z"
   },
   {
    "duration": 12,
    "start_time": "2022-01-16T19:39:23.694Z"
   },
   {
    "duration": 12,
    "start_time": "2022-01-16T19:39:24.191Z"
   },
   {
    "duration": 13,
    "start_time": "2022-01-16T19:39:24.442Z"
   },
   {
    "duration": 8,
    "start_time": "2022-01-16T19:39:24.683Z"
   },
   {
    "duration": 14,
    "start_time": "2022-01-16T19:39:24.961Z"
   },
   {
    "duration": 15,
    "start_time": "2022-01-16T19:39:25.219Z"
   },
   {
    "duration": 7,
    "start_time": "2022-01-16T19:39:25.487Z"
   },
   {
    "duration": 11,
    "start_time": "2022-01-16T19:39:25.764Z"
   },
   {
    "duration": 11,
    "start_time": "2022-01-16T19:39:26.082Z"
   },
   {
    "duration": 32,
    "start_time": "2022-01-16T19:39:26.505Z"
   },
   {
    "duration": 5,
    "start_time": "2022-01-16T19:39:27.485Z"
   },
   {
    "duration": 6,
    "start_time": "2022-01-16T19:39:27.906Z"
   },
   {
    "duration": 14,
    "start_time": "2022-01-16T19:39:28.238Z"
   },
   {
    "duration": 17,
    "start_time": "2022-01-16T19:39:30.015Z"
   },
   {
    "duration": 26,
    "start_time": "2022-01-16T19:39:30.461Z"
   },
   {
    "duration": 34,
    "start_time": "2022-01-16T19:39:30.892Z"
   },
   {
    "duration": 301,
    "start_time": "2022-01-16T19:39:32.967Z"
   },
   {
    "duration": 267,
    "start_time": "2022-01-16T19:42:29.770Z"
   },
   {
    "duration": 250,
    "start_time": "2022-01-16T19:43:03.838Z"
   },
   {
    "duration": 2,
    "start_time": "2022-01-16T19:44:16.223Z"
   },
   {
    "duration": 225,
    "start_time": "2022-01-16T19:44:19.252Z"
   },
   {
    "duration": 5,
    "start_time": "2022-01-16T19:45:59.611Z"
   },
   {
    "duration": 255,
    "start_time": "2022-01-16T19:46:01.660Z"
   },
   {
    "duration": 272,
    "start_time": "2022-01-16T19:57:20.415Z"
   },
   {
    "duration": 57,
    "start_time": "2022-01-16T19:59:53.212Z"
   },
   {
    "duration": 249,
    "start_time": "2022-01-16T20:00:03.177Z"
   },
   {
    "duration": 247,
    "start_time": "2022-01-16T20:03:15.752Z"
   },
   {
    "duration": 247,
    "start_time": "2022-01-16T20:05:26.692Z"
   },
   {
    "duration": 244,
    "start_time": "2022-01-16T20:20:28.556Z"
   },
   {
    "duration": 687,
    "start_time": "2022-01-16T20:28:31.827Z"
   },
   {
    "duration": 410,
    "start_time": "2022-01-16T20:28:32.516Z"
   },
   {
    "duration": 20,
    "start_time": "2022-01-16T20:28:33.025Z"
   },
   {
    "duration": 13,
    "start_time": "2022-01-16T20:28:33.485Z"
   },
   {
    "duration": 16,
    "start_time": "2022-01-16T20:28:33.889Z"
   },
   {
    "duration": 30,
    "start_time": "2022-01-16T20:28:34.262Z"
   },
   {
    "duration": 8,
    "start_time": "2022-01-16T20:28:35.903Z"
   },
   {
    "duration": 14,
    "start_time": "2022-01-16T20:28:36.396Z"
   },
   {
    "duration": 15,
    "start_time": "2022-01-16T20:28:36.848Z"
   },
   {
    "duration": 12,
    "start_time": "2022-01-16T20:28:37.265Z"
   },
   {
    "duration": 11,
    "start_time": "2022-01-16T20:28:37.691Z"
   },
   {
    "duration": 16,
    "start_time": "2022-01-16T20:28:38.127Z"
   },
   {
    "duration": 11,
    "start_time": "2022-01-16T20:28:38.347Z"
   },
   {
    "duration": 10,
    "start_time": "2022-01-16T20:28:38.773Z"
   },
   {
    "duration": 10,
    "start_time": "2022-01-16T20:28:39.199Z"
   },
   {
    "duration": 12,
    "start_time": "2022-01-16T20:28:40.081Z"
   },
   {
    "duration": 12,
    "start_time": "2022-01-16T20:28:40.546Z"
   },
   {
    "duration": 13,
    "start_time": "2022-01-16T20:28:40.798Z"
   },
   {
    "duration": 8,
    "start_time": "2022-01-16T20:28:41.031Z"
   },
   {
    "duration": 14,
    "start_time": "2022-01-16T20:28:41.298Z"
   },
   {
    "duration": 15,
    "start_time": "2022-01-16T20:28:41.583Z"
   },
   {
    "duration": 8,
    "start_time": "2022-01-16T20:28:41.864Z"
   },
   {
    "duration": 12,
    "start_time": "2022-01-16T20:28:42.292Z"
   },
   {
    "duration": 12,
    "start_time": "2022-01-16T20:28:42.581Z"
   },
   {
    "duration": 28,
    "start_time": "2022-01-16T20:28:42.905Z"
   },
   {
    "duration": 4,
    "start_time": "2022-01-16T20:28:43.609Z"
   },
   {
    "duration": 5,
    "start_time": "2022-01-16T20:28:44.170Z"
   },
   {
    "duration": 12,
    "start_time": "2022-01-16T20:28:44.722Z"
   },
   {
    "duration": 16,
    "start_time": "2022-01-16T20:28:46.888Z"
   },
   {
    "duration": 23,
    "start_time": "2022-01-16T20:28:47.355Z"
   },
   {
    "duration": 30,
    "start_time": "2022-01-16T20:28:47.848Z"
   },
   {
    "duration": 7,
    "start_time": "2022-01-16T20:28:50.426Z"
   },
   {
    "duration": 987,
    "start_time": "2022-01-16T20:29:08.218Z"
   },
   {
    "duration": 23,
    "start_time": "2022-01-16T20:29:49.793Z"
   },
   {
    "duration": 14,
    "start_time": "2022-01-16T20:30:34.952Z"
   },
   {
    "duration": 2810,
    "start_time": "2022-01-16T20:36:07.057Z"
   },
   {
    "duration": 10,
    "start_time": "2022-01-16T20:36:22.867Z"
   },
   {
    "duration": 4,
    "start_time": "2022-01-16T20:40:33.017Z"
   },
   {
    "duration": 6551,
    "start_time": "2022-01-16T20:41:46.727Z"
   },
   {
    "duration": 2743,
    "start_time": "2022-01-16T20:43:13.072Z"
   },
   {
    "duration": 4,
    "start_time": "2022-01-16T20:43:18.463Z"
   },
   {
    "duration": 11,
    "start_time": "2022-01-16T20:43:22.502Z"
   },
   {
    "duration": 14,
    "start_time": "2022-01-16T20:43:54.489Z"
   },
   {
    "duration": 12,
    "start_time": "2022-01-16T20:44:02.743Z"
   },
   {
    "duration": 236,
    "start_time": "2022-01-16T20:44:18.971Z"
   },
   {
    "duration": 17,
    "start_time": "2022-01-16T20:44:36.311Z"
   },
   {
    "duration": 28,
    "start_time": "2022-01-16T22:46:17.538Z"
   },
   {
    "duration": 50,
    "start_time": "2022-01-16T22:46:18.921Z"
   },
   {
    "duration": 11,
    "start_time": "2022-01-16T22:46:19.041Z"
   },
   {
    "duration": 11,
    "start_time": "2022-01-16T22:46:19.449Z"
   },
   {
    "duration": 13,
    "start_time": "2022-01-16T22:46:19.963Z"
   },
   {
    "duration": 28,
    "start_time": "2022-01-16T22:46:20.323Z"
   },
   {
    "duration": 7,
    "start_time": "2022-01-16T22:46:21.954Z"
   },
   {
    "duration": 15,
    "start_time": "2022-01-16T22:46:22.427Z"
   },
   {
    "duration": 15,
    "start_time": "2022-01-16T22:46:22.874Z"
   },
   {
    "duration": 11,
    "start_time": "2022-01-16T22:46:23.298Z"
   },
   {
    "duration": 11,
    "start_time": "2022-01-16T22:46:23.741Z"
   },
   {
    "duration": 16,
    "start_time": "2022-01-16T22:46:24.149Z"
   },
   {
    "duration": 8,
    "start_time": "2022-01-16T22:46:24.344Z"
   },
   {
    "duration": 8,
    "start_time": "2022-01-16T22:46:24.758Z"
   },
   {
    "duration": 9,
    "start_time": "2022-01-16T22:46:25.169Z"
   },
   {
    "duration": 10,
    "start_time": "2022-01-16T22:46:26.219Z"
   },
   {
    "duration": 12,
    "start_time": "2022-01-16T22:46:26.785Z"
   },
   {
    "duration": 12,
    "start_time": "2022-01-16T22:46:27.024Z"
   },
   {
    "duration": 7,
    "start_time": "2022-01-16T22:46:27.260Z"
   },
   {
    "duration": 15,
    "start_time": "2022-01-16T22:46:27.558Z"
   },
   {
    "duration": 13,
    "start_time": "2022-01-16T22:46:27.769Z"
   },
   {
    "duration": 8,
    "start_time": "2022-01-16T22:46:27.990Z"
   },
   {
    "duration": 10,
    "start_time": "2022-01-16T22:46:28.303Z"
   },
   {
    "duration": 10,
    "start_time": "2022-01-16T22:46:28.593Z"
   },
   {
    "duration": 24,
    "start_time": "2022-01-16T22:46:29.199Z"
   },
   {
    "duration": 3,
    "start_time": "2022-01-16T22:46:30.288Z"
   },
   {
    "duration": 5,
    "start_time": "2022-01-16T22:46:30.736Z"
   },
   {
    "duration": 11,
    "start_time": "2022-01-16T22:46:31.163Z"
   },
   {
    "duration": 21,
    "start_time": "2022-01-16T22:46:33.038Z"
   },
   {
    "duration": 22,
    "start_time": "2022-01-16T22:46:33.433Z"
   },
   {
    "duration": 35,
    "start_time": "2022-01-16T22:46:33.802Z"
   },
   {
    "duration": 6,
    "start_time": "2022-01-16T22:46:36.130Z"
   },
   {
    "duration": 228,
    "start_time": "2022-01-16T22:46:37.056Z"
   },
   {
    "duration": 275,
    "start_time": "2022-01-16T22:50:44.203Z"
   },
   {
    "duration": 238,
    "start_time": "2022-01-16T22:50:53.704Z"
   },
   {
    "duration": 664,
    "start_time": "2022-01-16T22:51:02.830Z"
   },
   {
    "duration": 241,
    "start_time": "2022-01-16T22:52:34.459Z"
   },
   {
    "duration": 231,
    "start_time": "2022-01-16T22:53:41.983Z"
   },
   {
    "duration": 13,
    "start_time": "2022-01-16T22:53:57.969Z"
   },
   {
    "duration": 244,
    "start_time": "2022-01-16T22:55:31.802Z"
   },
   {
    "duration": 226,
    "start_time": "2022-01-16T22:56:05.496Z"
   },
   {
    "duration": 28,
    "start_time": "2022-01-16T22:56:21.570Z"
   },
   {
    "duration": 13,
    "start_time": "2022-01-16T22:57:32.424Z"
   },
   {
    "duration": 12,
    "start_time": "2022-01-16T23:02:21.089Z"
   },
   {
    "duration": 562,
    "start_time": "2022-01-16T23:03:07.475Z"
   },
   {
    "duration": 52,
    "start_time": "2022-01-16T23:03:08.527Z"
   },
   {
    "duration": 18,
    "start_time": "2022-01-16T23:03:08.927Z"
   },
   {
    "duration": 17,
    "start_time": "2022-01-16T23:03:09.123Z"
   },
   {
    "duration": 20,
    "start_time": "2022-01-16T23:03:09.319Z"
   },
   {
    "duration": 45,
    "start_time": "2022-01-16T23:03:09.512Z"
   },
   {
    "duration": 8,
    "start_time": "2022-01-16T23:03:10.545Z"
   },
   {
    "duration": 21,
    "start_time": "2022-01-16T23:03:10.903Z"
   },
   {
    "duration": 23,
    "start_time": "2022-01-16T23:03:11.278Z"
   },
   {
    "duration": 16,
    "start_time": "2022-01-16T23:03:11.629Z"
   },
   {
    "duration": 15,
    "start_time": "2022-01-16T23:03:11.991Z"
   },
   {
    "duration": 22,
    "start_time": "2022-01-16T23:03:12.362Z"
   },
   {
    "duration": 12,
    "start_time": "2022-01-16T23:03:12.559Z"
   },
   {
    "duration": 12,
    "start_time": "2022-01-16T23:03:12.968Z"
   },
   {
    "duration": 11,
    "start_time": "2022-01-16T23:03:13.301Z"
   },
   {
    "duration": 17,
    "start_time": "2022-01-16T23:03:14.080Z"
   },
   {
    "duration": 18,
    "start_time": "2022-01-16T23:03:14.435Z"
   },
   {
    "duration": 19,
    "start_time": "2022-01-16T23:03:14.628Z"
   },
   {
    "duration": 10,
    "start_time": "2022-01-16T23:03:14.814Z"
   },
   {
    "duration": 21,
    "start_time": "2022-01-16T23:03:15.030Z"
   },
   {
    "duration": 21,
    "start_time": "2022-01-16T23:03:15.232Z"
   },
   {
    "duration": 11,
    "start_time": "2022-01-16T23:03:15.441Z"
   },
   {
    "duration": 15,
    "start_time": "2022-01-16T23:03:15.862Z"
   },
   {
    "duration": 14,
    "start_time": "2022-01-16T23:03:16.117Z"
   },
   {
    "duration": 63,
    "start_time": "2022-01-16T23:03:16.373Z"
   },
   {
    "duration": 5,
    "start_time": "2022-01-16T23:03:17.073Z"
   },
   {
    "duration": 5,
    "start_time": "2022-01-16T23:03:17.565Z"
   },
   {
    "duration": 13,
    "start_time": "2022-01-16T23:03:17.977Z"
   },
   {
    "duration": 15,
    "start_time": "2022-01-16T23:03:20.044Z"
   },
   {
    "duration": 39,
    "start_time": "2022-01-16T23:03:20.622Z"
   },
   {
    "duration": 45,
    "start_time": "2022-01-16T23:03:21.416Z"
   },
   {
    "duration": 7,
    "start_time": "2022-01-16T23:03:23.982Z"
   },
   {
    "duration": 676,
    "start_time": "2022-01-16T23:03:25.365Z"
   },
   {
    "duration": 22,
    "start_time": "2022-01-16T23:03:52.920Z"
   },
   {
    "duration": 16,
    "start_time": "2022-01-16T23:04:11.741Z"
   },
   {
    "duration": 321,
    "start_time": "2022-01-16T23:04:26.865Z"
   },
   {
    "duration": 11,
    "start_time": "2022-01-16T23:04:37.309Z"
   },
   {
    "duration": 75,
    "start_time": "2022-01-16T23:07:44.689Z"
   },
   {
    "duration": 13,
    "start_time": "2022-01-16T23:07:53.342Z"
   },
   {
    "duration": 875,
    "start_time": "2022-01-17T07:08:10.532Z"
   },
   {
    "duration": 65,
    "start_time": "2022-01-17T07:08:12.079Z"
   },
   {
    "duration": 29,
    "start_time": "2022-01-17T07:08:12.583Z"
   },
   {
    "duration": 15,
    "start_time": "2022-01-17T07:08:12.927Z"
   },
   {
    "duration": 20,
    "start_time": "2022-01-17T07:08:13.167Z"
   },
   {
    "duration": 44,
    "start_time": "2022-01-17T07:08:13.391Z"
   },
   {
    "duration": 9,
    "start_time": "2022-01-17T07:08:14.431Z"
   },
   {
    "duration": 21,
    "start_time": "2022-01-17T07:08:14.838Z"
   },
   {
    "duration": 21,
    "start_time": "2022-01-17T07:08:15.207Z"
   },
   {
    "duration": 15,
    "start_time": "2022-01-17T07:08:15.591Z"
   },
   {
    "duration": 12,
    "start_time": "2022-01-17T07:08:15.958Z"
   },
   {
    "duration": 24,
    "start_time": "2022-01-17T07:08:16.311Z"
   },
   {
    "duration": 13,
    "start_time": "2022-01-17T07:08:16.487Z"
   },
   {
    "duration": 14,
    "start_time": "2022-01-17T07:08:16.846Z"
   },
   {
    "duration": 13,
    "start_time": "2022-01-17T07:08:17.215Z"
   },
   {
    "duration": 17,
    "start_time": "2022-01-17T07:08:17.918Z"
   },
   {
    "duration": 20,
    "start_time": "2022-01-17T07:08:18.279Z"
   },
   {
    "duration": 19,
    "start_time": "2022-01-17T07:08:18.471Z"
   },
   {
    "duration": 11,
    "start_time": "2022-01-17T07:08:18.650Z"
   },
   {
    "duration": 22,
    "start_time": "2022-01-17T07:08:18.823Z"
   },
   {
    "duration": 20,
    "start_time": "2022-01-17T07:08:19.006Z"
   },
   {
    "duration": 11,
    "start_time": "2022-01-17T07:08:19.191Z"
   },
   {
    "duration": 14,
    "start_time": "2022-01-17T07:08:19.374Z"
   },
   {
    "duration": 14,
    "start_time": "2022-01-17T07:08:19.560Z"
   },
   {
    "duration": 38,
    "start_time": "2022-01-17T07:08:19.752Z"
   },
   {
    "duration": 5,
    "start_time": "2022-01-17T07:08:20.119Z"
   },
   {
    "duration": 6,
    "start_time": "2022-01-17T07:08:20.320Z"
   },
   {
    "duration": 16,
    "start_time": "2022-01-17T07:08:20.511Z"
   },
   {
    "duration": 21,
    "start_time": "2022-01-17T07:08:21.287Z"
   },
   {
    "duration": 35,
    "start_time": "2022-01-17T07:08:21.511Z"
   },
   {
    "duration": 43,
    "start_time": "2022-01-17T07:08:21.704Z"
   },
   {
    "duration": 8,
    "start_time": "2022-01-17T07:08:23.847Z"
   },
   {
    "duration": 463,
    "start_time": "2022-01-17T07:08:27.159Z"
   },
   {
    "duration": 924,
    "start_time": "2022-01-17T07:10:01.735Z"
   },
   {
    "duration": 16,
    "start_time": "2022-01-17T07:10:10.447Z"
   },
   {
    "duration": 363,
    "start_time": "2022-01-17T07:11:23.910Z"
   },
   {
    "duration": 17,
    "start_time": "2022-01-17T07:11:36.405Z"
   },
   {
    "duration": 15,
    "start_time": "2022-01-17T07:11:43.222Z"
   },
   {
    "duration": 114,
    "start_time": "2022-01-17T07:16:17.473Z"
   },
   {
    "duration": 147,
    "start_time": "2022-01-17T07:16:48.355Z"
   },
   {
    "duration": 17,
    "start_time": "2022-01-17T07:17:34.914Z"
   },
   {
    "duration": 18,
    "start_time": "2022-01-17T07:18:06.651Z"
   },
   {
    "duration": 368,
    "start_time": "2022-01-17T07:22:10.912Z"
   },
   {
    "duration": 13,
    "start_time": "2022-01-17T07:24:42.693Z"
   },
   {
    "duration": 11,
    "start_time": "2022-01-17T07:25:00.878Z"
   },
   {
    "duration": 4067,
    "start_time": "2022-01-17T07:34:28.713Z"
   },
   {
    "duration": 13,
    "start_time": "2022-01-17T07:34:36.098Z"
   },
   {
    "duration": 3933,
    "start_time": "2022-01-17T07:44:01.203Z"
   },
   {
    "duration": 13,
    "start_time": "2022-01-17T07:44:37.812Z"
   },
   {
    "duration": 785,
    "start_time": "2022-01-17T07:50:50.967Z"
   },
   {
    "duration": 65,
    "start_time": "2022-01-17T07:50:51.755Z"
   },
   {
    "duration": 28,
    "start_time": "2022-01-17T07:50:51.822Z"
   },
   {
    "duration": 13,
    "start_time": "2022-01-17T07:50:51.860Z"
   },
   {
    "duration": 20,
    "start_time": "2022-01-17T07:50:51.960Z"
   },
   {
    "duration": 47,
    "start_time": "2022-01-17T07:50:52.152Z"
   },
   {
    "duration": 9,
    "start_time": "2022-01-17T07:50:53.071Z"
   },
   {
    "duration": 20,
    "start_time": "2022-01-17T07:50:53.432Z"
   },
   {
    "duration": 23,
    "start_time": "2022-01-17T07:50:53.808Z"
   },
   {
    "duration": 16,
    "start_time": "2022-01-17T07:50:54.180Z"
   },
   {
    "duration": 13,
    "start_time": "2022-01-17T07:50:54.543Z"
   },
   {
    "duration": 24,
    "start_time": "2022-01-17T07:50:54.899Z"
   },
   {
    "duration": 13,
    "start_time": "2022-01-17T07:50:55.080Z"
   },
   {
    "duration": 13,
    "start_time": "2022-01-17T07:50:55.455Z"
   },
   {
    "duration": 14,
    "start_time": "2022-01-17T07:50:55.831Z"
   },
   {
    "duration": 15,
    "start_time": "2022-01-17T07:50:56.623Z"
   },
   {
    "duration": 19,
    "start_time": "2022-01-17T07:50:57.095Z"
   },
   {
    "duration": 18,
    "start_time": "2022-01-17T07:50:57.528Z"
   },
   {
    "duration": 10,
    "start_time": "2022-01-17T07:50:57.743Z"
   },
   {
    "duration": 23,
    "start_time": "2022-01-17T07:50:57.944Z"
   },
   {
    "duration": 20,
    "start_time": "2022-01-17T07:50:58.144Z"
   },
   {
    "duration": 10,
    "start_time": "2022-01-17T07:50:58.368Z"
   },
   {
    "duration": 13,
    "start_time": "2022-01-17T07:50:58.712Z"
   },
   {
    "duration": 14,
    "start_time": "2022-01-17T07:50:59.000Z"
   },
   {
    "duration": 37,
    "start_time": "2022-01-17T07:50:59.280Z"
   },
   {
    "duration": 5,
    "start_time": "2022-01-17T07:51:00.127Z"
   },
   {
    "duration": 6,
    "start_time": "2022-01-17T07:51:00.567Z"
   },
   {
    "duration": 17,
    "start_time": "2022-01-17T07:51:01.288Z"
   },
   {
    "duration": 23,
    "start_time": "2022-01-17T07:51:02.663Z"
   },
   {
    "duration": 37,
    "start_time": "2022-01-17T07:51:02.968Z"
   },
   {
    "duration": 46,
    "start_time": "2022-01-17T07:51:03.303Z"
   },
   {
    "duration": 8,
    "start_time": "2022-01-17T07:51:05.295Z"
   },
   {
    "duration": 459,
    "start_time": "2022-01-17T07:51:05.944Z"
   },
   {
    "duration": 625,
    "start_time": "2022-01-17T07:54:46.140Z"
   },
   {
    "duration": 609,
    "start_time": "2022-01-17T07:55:37.198Z"
   },
   {
    "duration": 696,
    "start_time": "2022-01-17T07:55:57.799Z"
   },
   {
    "duration": 681,
    "start_time": "2022-01-17T07:56:10.070Z"
   },
   {
    "duration": 5212,
    "start_time": "2022-01-17T07:57:05.461Z"
   },
   {
    "duration": 14,
    "start_time": "2022-01-17T07:57:48.900Z"
   },
   {
    "duration": 534,
    "start_time": "2022-01-17T07:58:38.556Z"
   },
   {
    "duration": 371,
    "start_time": "2022-01-17T07:59:14.460Z"
   },
   {
    "duration": 575,
    "start_time": "2022-01-17T08:00:17.523Z"
   },
   {
    "duration": 3976,
    "start_time": "2022-01-17T08:08:39.189Z"
   },
   {
    "duration": 3963,
    "start_time": "2022-01-17T08:13:19.173Z"
   },
   {
    "duration": 3990,
    "start_time": "2022-01-17T08:13:45.389Z"
   },
   {
    "duration": 4472,
    "start_time": "2022-01-17T08:15:40.580Z"
   },
   {
    "duration": 4264,
    "start_time": "2022-01-17T08:16:07.947Z"
   },
   {
    "duration": 4607,
    "start_time": "2022-01-17T08:16:17.366Z"
   },
   {
    "duration": 77,
    "start_time": "2022-01-17T08:24:34.582Z"
   },
   {
    "duration": 11,
    "start_time": "2022-01-17T08:25:53.175Z"
   },
   {
    "duration": 31,
    "start_time": "2022-01-17T08:25:58.695Z"
   },
   {
    "duration": 694,
    "start_time": "2022-01-17T08:27:15.406Z"
   },
   {
    "duration": 33,
    "start_time": "2022-01-17T08:27:23.614Z"
   },
   {
    "duration": 368,
    "start_time": "2022-01-17T08:32:01.228Z"
   },
   {
    "duration": 342,
    "start_time": "2022-01-17T08:37:17.289Z"
   },
   {
    "duration": 4,
    "start_time": "2022-01-17T08:39:41.648Z"
   },
   {
    "duration": 3925,
    "start_time": "2022-01-17T08:39:43.472Z"
   },
   {
    "duration": 365,
    "start_time": "2022-01-17T08:40:06.927Z"
   },
   {
    "duration": 349,
    "start_time": "2022-01-17T08:40:14.639Z"
   },
   {
    "duration": 23,
    "start_time": "2022-01-17T08:40:29.735Z"
   },
   {
    "duration": 19,
    "start_time": "2022-01-17T08:41:08.247Z"
   },
   {
    "duration": 506,
    "start_time": "2022-01-17T08:43:11.940Z"
   },
   {
    "duration": 12,
    "start_time": "2022-01-17T08:44:15.830Z"
   },
   {
    "duration": 6,
    "start_time": "2022-01-17T08:59:43.223Z"
   },
   {
    "duration": 4427,
    "start_time": "2022-01-17T08:59:47.646Z"
   },
   {
    "duration": 13,
    "start_time": "2022-01-17T08:59:52.076Z"
   },
   {
    "duration": 23,
    "start_time": "2022-01-17T09:01:50.109Z"
   },
   {
    "duration": 5,
    "start_time": "2022-01-17T09:04:32.684Z"
   },
   {
    "duration": 4030,
    "start_time": "2022-01-17T09:04:34.043Z"
   },
   {
    "duration": 11,
    "start_time": "2022-01-17T09:04:38.076Z"
   },
   {
    "duration": 41,
    "start_time": "2022-01-17T09:11:44.409Z"
   },
   {
    "duration": 25,
    "start_time": "2022-01-17T09:12:42.736Z"
   },
   {
    "duration": 25,
    "start_time": "2022-01-17T09:13:29.552Z"
   },
   {
    "duration": 25,
    "start_time": "2022-01-17T09:13:44.968Z"
   },
   {
    "duration": 8798,
    "start_time": "2022-01-17T09:14:08.752Z"
   },
   {
    "duration": 9282,
    "start_time": "2022-01-17T09:15:01.831Z"
   },
   {
    "duration": 22,
    "start_time": "2022-01-17T09:15:22.263Z"
   },
   {
    "duration": 4,
    "start_time": "2022-01-17T09:17:00.807Z"
   },
   {
    "duration": 67,
    "start_time": "2022-01-17T09:17:01.173Z"
   },
   {
    "duration": 35,
    "start_time": "2022-01-17T09:17:01.413Z"
   },
   {
    "duration": 23,
    "start_time": "2022-01-17T09:17:01.630Z"
   },
   {
    "duration": 23,
    "start_time": "2022-01-17T09:17:01.854Z"
   },
   {
    "duration": 49,
    "start_time": "2022-01-17T09:17:02.077Z"
   },
   {
    "duration": 9,
    "start_time": "2022-01-17T09:17:03.149Z"
   },
   {
    "duration": 20,
    "start_time": "2022-01-17T09:17:03.581Z"
   },
   {
    "duration": 22,
    "start_time": "2022-01-17T09:17:03.989Z"
   },
   {
    "duration": 15,
    "start_time": "2022-01-17T09:17:04.397Z"
   },
   {
    "duration": 14,
    "start_time": "2022-01-17T09:17:04.797Z"
   },
   {
    "duration": 23,
    "start_time": "2022-01-17T09:17:05.190Z"
   },
   {
    "duration": 13,
    "start_time": "2022-01-17T09:17:05.413Z"
   },
   {
    "duration": 13,
    "start_time": "2022-01-17T09:17:06.293Z"
   },
   {
    "duration": 13,
    "start_time": "2022-01-17T09:17:06.661Z"
   },
   {
    "duration": 16,
    "start_time": "2022-01-17T09:17:07.389Z"
   },
   {
    "duration": 18,
    "start_time": "2022-01-17T09:17:07.973Z"
   },
   {
    "duration": 19,
    "start_time": "2022-01-17T09:17:08.141Z"
   },
   {
    "duration": 11,
    "start_time": "2022-01-17T09:17:08.333Z"
   },
   {
    "duration": 24,
    "start_time": "2022-01-17T09:17:08.517Z"
   },
   {
    "duration": 21,
    "start_time": "2022-01-17T09:17:08.693Z"
   },
   {
    "duration": 12,
    "start_time": "2022-01-17T09:17:09.214Z"
   },
   {
    "duration": 14,
    "start_time": "2022-01-17T09:17:09.917Z"
   },
   {
    "duration": 15,
    "start_time": "2022-01-17T09:17:10.837Z"
   },
   {
    "duration": 38,
    "start_time": "2022-01-17T09:17:11.262Z"
   },
   {
    "duration": 6,
    "start_time": "2022-01-17T09:17:11.741Z"
   },
   {
    "duration": 6,
    "start_time": "2022-01-17T09:17:11.949Z"
   },
   {
    "duration": 17,
    "start_time": "2022-01-17T09:17:12.157Z"
   },
   {
    "duration": 23,
    "start_time": "2022-01-17T09:17:13.044Z"
   },
   {
    "duration": 46,
    "start_time": "2022-01-17T09:17:13.373Z"
   },
   {
    "duration": 46,
    "start_time": "2022-01-17T09:17:13.573Z"
   },
   {
    "duration": 7,
    "start_time": "2022-01-17T09:17:14.909Z"
   },
   {
    "duration": 5,
    "start_time": "2022-01-17T09:17:15.525Z"
   },
   {
    "duration": 5371,
    "start_time": "2022-01-17T09:17:16.429Z"
   },
   {
    "duration": 10,
    "start_time": "2022-01-17T09:17:21.803Z"
   },
   {
    "duration": 29,
    "start_time": "2022-01-17T09:17:23.982Z"
   },
   {
    "duration": 5,
    "start_time": "2022-01-17T09:24:06.743Z"
   },
   {
    "duration": 14,
    "start_time": "2022-01-17T09:25:43.409Z"
   },
   {
    "duration": 4988,
    "start_time": "2022-01-17T09:26:57.272Z"
   },
   {
    "duration": 16,
    "start_time": "2022-01-17T09:27:17.265Z"
   },
   {
    "duration": 21,
    "start_time": "2022-01-17T10:03:32.830Z"
   },
   {
    "duration": 8,
    "start_time": "2022-01-17T11:02:50.450Z"
   },
   {
    "duration": 133,
    "start_time": "2022-01-17T11:15:59.377Z"
   },
   {
    "duration": 123,
    "start_time": "2022-01-17T11:16:11.308Z"
   },
   {
    "duration": 115,
    "start_time": "2022-01-17T11:16:18.067Z"
   },
   {
    "duration": 122,
    "start_time": "2022-01-17T11:17:09.611Z"
   },
   {
    "duration": 126,
    "start_time": "2022-01-17T11:18:12.002Z"
   },
   {
    "duration": 142,
    "start_time": "2022-01-17T11:18:39.675Z"
   },
   {
    "duration": 5,
    "start_time": "2022-01-17T11:25:15.328Z"
   },
   {
    "duration": 454,
    "start_time": "2022-01-17T11:26:50.534Z"
   },
   {
    "duration": 31,
    "start_time": "2022-01-17T11:26:58.382Z"
   },
   {
    "duration": 9192,
    "start_time": "2022-01-17T11:38:22.152Z"
   },
   {
    "duration": 1285,
    "start_time": "2022-01-17T11:39:22.562Z"
   },
   {
    "duration": 24,
    "start_time": "2022-01-17T11:39:53.882Z"
   },
   {
    "duration": 31,
    "start_time": "2022-01-17T12:19:11.681Z"
   },
   {
    "duration": 38,
    "start_time": "2022-01-17T12:19:21.681Z"
   },
   {
    "duration": 92,
    "start_time": "2022-01-17T12:20:29.874Z"
   },
   {
    "duration": 55,
    "start_time": "2022-01-17T12:23:35.568Z"
   },
   {
    "duration": 42,
    "start_time": "2022-01-17T12:23:51.817Z"
   },
   {
    "duration": 433,
    "start_time": "2022-01-17T12:25:23.063Z"
   },
   {
    "duration": 55,
    "start_time": "2022-01-17T12:25:36.040Z"
   },
   {
    "duration": 371,
    "start_time": "2022-01-17T12:26:07.289Z"
   },
   {
    "duration": 28,
    "start_time": "2022-01-17T12:26:16.471Z"
   },
   {
    "duration": 40985,
    "start_time": "2022-01-17T12:35:29.484Z"
   },
   {
    "duration": 27,
    "start_time": "2022-01-17T12:43:22.218Z"
   },
   {
    "duration": 28,
    "start_time": "2022-01-17T12:52:52.541Z"
   },
   {
    "duration": 28,
    "start_time": "2022-01-17T12:53:28.613Z"
   },
   {
    "duration": 7430,
    "start_time": "2022-01-17T12:55:56.365Z"
   },
   {
    "duration": 28,
    "start_time": "2022-01-17T12:56:16.380Z"
   },
   {
    "duration": 26,
    "start_time": "2022-01-17T12:56:33.789Z"
   },
   {
    "duration": 413,
    "start_time": "2022-01-17T12:59:47.122Z"
   },
   {
    "duration": 10225,
    "start_time": "2022-01-17T13:00:20.274Z"
   },
   {
    "duration": 10474,
    "start_time": "2022-01-17T13:00:41.371Z"
   },
   {
    "duration": 48,
    "start_time": "2022-01-17T13:01:14.427Z"
   },
   {
    "duration": 19,
    "start_time": "2022-01-17T13:02:18.841Z"
   },
   {
    "duration": 19,
    "start_time": "2022-01-17T13:02:40.391Z"
   },
   {
    "duration": 260,
    "start_time": "2022-01-17T16:01:54.872Z"
   },
   {
    "duration": 596,
    "start_time": "2022-01-17T16:02:21.321Z"
   },
   {
    "duration": 48,
    "start_time": "2022-01-17T16:02:22.653Z"
   },
   {
    "duration": 19,
    "start_time": "2022-01-17T16:02:22.986Z"
   },
   {
    "duration": 10,
    "start_time": "2022-01-17T16:02:23.179Z"
   },
   {
    "duration": 15,
    "start_time": "2022-01-17T16:02:23.358Z"
   },
   {
    "duration": 46,
    "start_time": "2022-01-17T16:02:23.555Z"
   },
   {
    "duration": 7,
    "start_time": "2022-01-17T16:02:24.488Z"
   },
   {
    "duration": 15,
    "start_time": "2022-01-17T16:02:24.888Z"
   },
   {
    "duration": 14,
    "start_time": "2022-01-17T16:02:25.297Z"
   },
   {
    "duration": 10,
    "start_time": "2022-01-17T16:02:25.687Z"
   },
   {
    "duration": 12,
    "start_time": "2022-01-17T16:02:26.106Z"
   },
   {
    "duration": 15,
    "start_time": "2022-01-17T16:02:26.500Z"
   },
   {
    "duration": 9,
    "start_time": "2022-01-17T16:02:26.686Z"
   },
   {
    "duration": 9,
    "start_time": "2022-01-17T16:02:27.104Z"
   },
   {
    "duration": 9,
    "start_time": "2022-01-17T16:02:27.481Z"
   },
   {
    "duration": 11,
    "start_time": "2022-01-17T16:02:28.256Z"
   },
   {
    "duration": 13,
    "start_time": "2022-01-17T16:02:28.641Z"
   },
   {
    "duration": 12,
    "start_time": "2022-01-17T16:02:28.847Z"
   },
   {
    "duration": 7,
    "start_time": "2022-01-17T16:02:29.027Z"
   },
   {
    "duration": 15,
    "start_time": "2022-01-17T16:02:29.222Z"
   },
   {
    "duration": 13,
    "start_time": "2022-01-17T16:02:29.392Z"
   },
   {
    "duration": 8,
    "start_time": "2022-01-17T16:02:29.609Z"
   },
   {
    "duration": 9,
    "start_time": "2022-01-17T16:02:29.817Z"
   },
   {
    "duration": 10,
    "start_time": "2022-01-17T16:02:29.981Z"
   },
   {
    "duration": 26,
    "start_time": "2022-01-17T16:02:30.186Z"
   },
   {
    "duration": 3,
    "start_time": "2022-01-17T16:02:30.572Z"
   },
   {
    "duration": 5,
    "start_time": "2022-01-17T16:02:30.767Z"
   },
   {
    "duration": 11,
    "start_time": "2022-01-17T16:02:30.972Z"
   },
   {
    "duration": 15,
    "start_time": "2022-01-17T16:02:31.801Z"
   },
   {
    "duration": 23,
    "start_time": "2022-01-17T16:02:31.982Z"
   },
   {
    "duration": 29,
    "start_time": "2022-01-17T16:02:32.174Z"
   },
   {
    "duration": 6,
    "start_time": "2022-01-17T16:02:32.788Z"
   },
   {
    "duration": 3,
    "start_time": "2022-01-17T16:02:33.006Z"
   },
   {
    "duration": 3551,
    "start_time": "2022-01-17T16:02:33.228Z"
   },
   {
    "duration": 8,
    "start_time": "2022-01-17T16:02:36.781Z"
   },
   {
    "duration": 21,
    "start_time": "2022-01-17T16:02:36.791Z"
   },
   {
    "duration": 29,
    "start_time": "2022-01-17T16:02:36.813Z"
   },
   {
    "duration": 7,
    "start_time": "2022-01-17T16:02:38.025Z"
   },
   {
    "duration": 251,
    "start_time": "2022-01-17T16:02:39.178Z"
   },
   {
    "duration": 405,
    "start_time": "2022-01-17T16:02:39.819Z"
   },
   {
    "duration": 16,
    "start_time": "2022-01-17T16:02:40.383Z"
   },
   {
    "duration": 19,
    "start_time": "2022-01-17T16:02:50.231Z"
   },
   {
    "duration": 17,
    "start_time": "2022-01-17T16:03:09.270Z"
   },
   {
    "duration": 16,
    "start_time": "2022-01-17T16:04:29.794Z"
   },
   {
    "duration": 360,
    "start_time": "2022-01-17T16:04:41.910Z"
   },
   {
    "duration": 16,
    "start_time": "2022-01-17T16:05:07.291Z"
   },
   {
    "duration": 19,
    "start_time": "2022-01-17T16:06:40.435Z"
   },
   {
    "duration": 19,
    "start_time": "2022-01-17T16:07:41.157Z"
   },
   {
    "duration": 14,
    "start_time": "2022-01-17T16:11:19.086Z"
   },
   {
    "duration": 14,
    "start_time": "2022-01-17T16:11:42.369Z"
   },
   {
    "duration": 14,
    "start_time": "2022-01-17T16:12:38.903Z"
   },
   {
    "duration": 224,
    "start_time": "2022-01-17T16:20:07.339Z"
   },
   {
    "duration": 223,
    "start_time": "2022-01-17T16:20:24.073Z"
   },
   {
    "duration": 277,
    "start_time": "2022-01-17T16:20:37.926Z"
   },
   {
    "duration": 16,
    "start_time": "2022-01-17T16:20:47.369Z"
   },
   {
    "duration": 224,
    "start_time": "2022-01-17T16:23:16.070Z"
   },
   {
    "duration": 15,
    "start_time": "2022-01-17T16:23:36.623Z"
   },
   {
    "duration": 13,
    "start_time": "2022-01-17T16:27:29.264Z"
   },
   {
    "duration": 212,
    "start_time": "2022-01-17T16:38:54.756Z"
   },
   {
    "duration": 13,
    "start_time": "2022-01-17T16:39:45.028Z"
   },
   {
    "duration": 13,
    "start_time": "2022-01-17T16:39:58.356Z"
   },
   {
    "duration": 14,
    "start_time": "2022-01-17T16:40:02.678Z"
   },
   {
    "duration": 73,
    "start_time": "2022-01-17T16:40:06.550Z"
   },
   {
    "duration": 69,
    "start_time": "2022-01-17T16:40:21.869Z"
   },
   {
    "duration": 71,
    "start_time": "2022-01-17T16:40:27.905Z"
   },
   {
    "duration": 12,
    "start_time": "2022-01-17T16:40:44.547Z"
   },
   {
    "duration": 115,
    "start_time": "2022-01-17T16:41:03.445Z"
   },
   {
    "duration": 70,
    "start_time": "2022-01-17T16:41:23.040Z"
   },
   {
    "duration": 14,
    "start_time": "2022-01-17T16:41:38.845Z"
   },
   {
    "duration": 644,
    "start_time": "2022-01-17T19:13:21.482Z"
   },
   {
    "duration": 52,
    "start_time": "2022-01-17T19:13:22.805Z"
   },
   {
    "duration": 20,
    "start_time": "2022-01-17T19:13:23.215Z"
   },
   {
    "duration": 12,
    "start_time": "2022-01-17T19:13:23.554Z"
   },
   {
    "duration": 16,
    "start_time": "2022-01-17T19:13:23.926Z"
   },
   {
    "duration": 34,
    "start_time": "2022-01-17T19:13:24.192Z"
   },
   {
    "duration": 7,
    "start_time": "2022-01-17T19:13:25.402Z"
   },
   {
    "duration": 16,
    "start_time": "2022-01-17T19:13:25.858Z"
   },
   {
    "duration": 17,
    "start_time": "2022-01-17T19:13:26.309Z"
   },
   {
    "duration": 12,
    "start_time": "2022-01-17T19:13:26.769Z"
   },
   {
    "duration": 12,
    "start_time": "2022-01-17T19:13:27.235Z"
   },
   {
    "duration": 17,
    "start_time": "2022-01-17T19:13:27.667Z"
   },
   {
    "duration": 10,
    "start_time": "2022-01-17T19:13:27.902Z"
   },
   {
    "duration": 9,
    "start_time": "2022-01-17T19:13:28.344Z"
   },
   {
    "duration": 9,
    "start_time": "2022-01-17T19:13:28.791Z"
   },
   {
    "duration": 11,
    "start_time": "2022-01-17T19:13:29.681Z"
   },
   {
    "duration": 13,
    "start_time": "2022-01-17T19:13:30.165Z"
   },
   {
    "duration": 11,
    "start_time": "2022-01-17T19:13:30.410Z"
   },
   {
    "duration": 7,
    "start_time": "2022-01-17T19:13:30.626Z"
   },
   {
    "duration": 15,
    "start_time": "2022-01-17T19:13:30.853Z"
   },
   {
    "duration": 12,
    "start_time": "2022-01-17T19:13:31.097Z"
   },
   {
    "duration": 8,
    "start_time": "2022-01-17T19:13:31.305Z"
   },
   {
    "duration": 11,
    "start_time": "2022-01-17T19:13:31.527Z"
   },
   {
    "duration": 10,
    "start_time": "2022-01-17T19:13:31.730Z"
   },
   {
    "duration": 30,
    "start_time": "2022-01-17T19:13:31.952Z"
   },
   {
    "duration": 5,
    "start_time": "2022-01-17T19:13:32.431Z"
   },
   {
    "duration": 5,
    "start_time": "2022-01-17T19:13:32.633Z"
   },
   {
    "duration": 12,
    "start_time": "2022-01-17T19:13:32.836Z"
   },
   {
    "duration": 16,
    "start_time": "2022-01-17T19:13:33.662Z"
   },
   {
    "duration": 25,
    "start_time": "2022-01-17T19:13:33.879Z"
   },
   {
    "duration": 30,
    "start_time": "2022-01-17T19:13:34.097Z"
   },
   {
    "duration": 9,
    "start_time": "2022-01-17T19:13:34.782Z"
   },
   {
    "duration": 4,
    "start_time": "2022-01-17T19:13:35.030Z"
   },
   {
    "duration": 4056,
    "start_time": "2022-01-17T19:13:35.286Z"
   },
   {
    "duration": 17,
    "start_time": "2022-01-17T19:13:39.345Z"
   },
   {
    "duration": 6446,
    "start_time": "2022-01-17T19:13:39.364Z"
   },
   {
    "duration": -952,
    "start_time": "2022-01-17T19:13:46.764Z"
   },
   {
    "duration": -953,
    "start_time": "2022-01-17T19:13:46.766Z"
   },
   {
    "duration": -955,
    "start_time": "2022-01-17T19:13:46.769Z"
   },
   {
    "duration": -956,
    "start_time": "2022-01-17T19:13:46.771Z"
   },
   {
    "duration": -957,
    "start_time": "2022-01-17T19:13:46.773Z"
   },
   {
    "duration": 16,
    "start_time": "2022-01-17T19:13:47.970Z"
   },
   {
    "duration": 306,
    "start_time": "2022-01-17T19:13:48.874Z"
   },
   {
    "duration": 14,
    "start_time": "2022-01-17T19:13:49.480Z"
   },
   {
    "duration": 259,
    "start_time": "2022-01-17T19:13:50.260Z"
   },
   {
    "duration": 17,
    "start_time": "2022-01-17T19:13:50.682Z"
   },
   {
    "duration": 302,
    "start_time": "2022-01-17T19:13:51.252Z"
   },
   {
    "duration": 17,
    "start_time": "2022-01-17T19:15:56.035Z"
   },
   {
    "duration": 14,
    "start_time": "2022-01-17T19:16:02.366Z"
   },
   {
    "duration": 5,
    "start_time": "2022-01-17T19:16:06.392Z"
   },
   {
    "duration": 267,
    "start_time": "2022-01-17T19:16:09.950Z"
   },
   {
    "duration": 456,
    "start_time": "2022-01-17T19:16:14.269Z"
   },
   {
    "duration": 17,
    "start_time": "2022-01-17T19:16:16.660Z"
   },
   {
    "duration": 16,
    "start_time": "2022-01-17T19:16:26.937Z"
   },
   {
    "duration": 15,
    "start_time": "2022-01-17T19:16:30.518Z"
   },
   {
    "duration": 15,
    "start_time": "2022-01-17T19:16:31.938Z"
   },
   {
    "duration": 15,
    "start_time": "2022-01-17T19:16:33.592Z"
   },
   {
    "duration": 15,
    "start_time": "2022-01-17T19:16:34.763Z"
   },
   {
    "duration": 18,
    "start_time": "2022-01-17T19:16:35.358Z"
   },
   {
    "duration": 16,
    "start_time": "2022-01-17T19:16:38.255Z"
   },
   {
    "duration": 16,
    "start_time": "2022-01-17T19:16:42.479Z"
   },
   {
    "duration": 15,
    "start_time": "2022-01-17T19:16:46.664Z"
   },
   {
    "duration": 13,
    "start_time": "2022-01-17T19:18:42.873Z"
   },
   {
    "duration": 245,
    "start_time": "2022-01-17T20:14:28.970Z"
   },
   {
    "duration": 262,
    "start_time": "2022-01-17T20:14:46.904Z"
   },
   {
    "duration": 15,
    "start_time": "2022-01-17T20:14:54.809Z"
   },
   {
    "duration": 571,
    "start_time": "2022-01-18T06:47:16.600Z"
   },
   {
    "duration": 44,
    "start_time": "2022-01-18T06:47:17.674Z"
   },
   {
    "duration": 16,
    "start_time": "2022-01-18T06:47:18.233Z"
   },
   {
    "duration": 10,
    "start_time": "2022-01-18T06:47:18.946Z"
   },
   {
    "duration": 10,
    "start_time": "2022-01-18T06:47:20.857Z"
   },
   {
    "duration": 13,
    "start_time": "2022-01-18T06:47:42.849Z"
   },
   {
    "duration": 27,
    "start_time": "2022-01-18T06:47:45.770Z"
   },
   {
    "duration": 7,
    "start_time": "2022-01-18T06:47:53.433Z"
   },
   {
    "duration": 14,
    "start_time": "2022-01-18T06:47:54.824Z"
   },
   {
    "duration": 13,
    "start_time": "2022-01-18T06:47:57.528Z"
   },
   {
    "duration": 10,
    "start_time": "2022-01-18T06:47:57.920Z"
   },
   {
    "duration": 8,
    "start_time": "2022-01-18T06:47:58.304Z"
   },
   {
    "duration": 14,
    "start_time": "2022-01-18T06:47:58.697Z"
   },
   {
    "duration": 8,
    "start_time": "2022-01-18T06:47:58.896Z"
   },
   {
    "duration": 8,
    "start_time": "2022-01-18T06:47:59.306Z"
   },
   {
    "duration": 8,
    "start_time": "2022-01-18T06:47:59.712Z"
   },
   {
    "duration": 10,
    "start_time": "2022-01-18T06:48:00.512Z"
   },
   {
    "duration": 10,
    "start_time": "2022-01-18T06:48:00.904Z"
   },
   {
    "duration": 10,
    "start_time": "2022-01-18T06:48:01.112Z"
   },
   {
    "duration": 6,
    "start_time": "2022-01-18T06:48:01.296Z"
   },
   {
    "duration": 14,
    "start_time": "2022-01-18T06:48:01.512Z"
   },
   {
    "duration": 12,
    "start_time": "2022-01-18T06:48:01.720Z"
   },
   {
    "duration": 7,
    "start_time": "2022-01-18T06:48:01.920Z"
   },
   {
    "duration": 9,
    "start_time": "2022-01-18T06:48:02.113Z"
   },
   {
    "duration": 9,
    "start_time": "2022-01-18T06:48:02.312Z"
   },
   {
    "duration": 25,
    "start_time": "2022-01-18T06:48:02.503Z"
   },
   {
    "duration": 3,
    "start_time": "2022-01-18T06:48:02.896Z"
   },
   {
    "duration": 4,
    "start_time": "2022-01-18T06:48:03.080Z"
   },
   {
    "duration": 11,
    "start_time": "2022-01-18T06:48:03.287Z"
   },
   {
    "duration": 14,
    "start_time": "2022-01-18T06:48:04.103Z"
   },
   {
    "duration": 21,
    "start_time": "2022-01-18T06:48:04.301Z"
   },
   {
    "duration": 28,
    "start_time": "2022-01-18T06:48:04.496Z"
   },
   {
    "duration": 6,
    "start_time": "2022-01-18T06:48:05.087Z"
   },
   {
    "duration": 3,
    "start_time": "2022-01-18T06:48:05.304Z"
   },
   {
    "duration": 2804,
    "start_time": "2022-01-18T06:48:05.527Z"
   },
   {
    "duration": 7,
    "start_time": "2022-01-18T06:48:08.333Z"
   },
   {
    "duration": 18,
    "start_time": "2022-01-18T06:48:08.342Z"
   },
   {
    "duration": 11,
    "start_time": "2022-01-18T06:48:08.362Z"
   },
   {
    "duration": 7,
    "start_time": "2022-01-18T06:48:08.374Z"
   },
   {
    "duration": 235,
    "start_time": "2022-01-18T06:48:08.720Z"
   },
   {
    "duration": 388,
    "start_time": "2022-01-18T06:48:09.127Z"
   },
   {
    "duration": 13,
    "start_time": "2022-01-18T06:48:09.554Z"
   },
   {
    "duration": 17,
    "start_time": "2022-01-18T06:48:11.682Z"
   },
   {
    "duration": 12,
    "start_time": "2022-01-18T06:48:12.321Z"
   },
   {
    "duration": 12,
    "start_time": "2022-01-18T06:48:14.088Z"
   },
   {
    "duration": 13,
    "start_time": "2022-01-18T06:48:15.640Z"
   },
   {
    "duration": 13,
    "start_time": "2022-01-18T06:48:17.144Z"
   },
   {
    "duration": 11,
    "start_time": "2022-01-18T06:49:29.465Z"
   },
   {
    "duration": 11,
    "start_time": "2022-01-18T06:50:10.880Z"
   },
   {
    "duration": 18,
    "start_time": "2022-01-18T06:50:45.769Z"
   },
   {
    "duration": 76,
    "start_time": "2022-01-18T06:55:23.846Z"
   },
   {
    "duration": 5,
    "start_time": "2022-01-18T07:46:38.262Z"
   },
   {
    "duration": 4,
    "start_time": "2022-01-18T07:47:08.159Z"
   },
   {
    "duration": 7,
    "start_time": "2022-01-18T07:51:16.308Z"
   },
   {
    "duration": 759,
    "start_time": "2022-01-18T08:16:41.095Z"
   },
   {
    "duration": 60,
    "start_time": "2022-01-18T08:18:51.537Z"
   },
   {
    "duration": 77,
    "start_time": "2022-01-18T08:18:58.199Z"
   },
   {
    "duration": 98,
    "start_time": "2022-01-18T08:19:42.878Z"
   },
   {
    "duration": 196,
    "start_time": "2022-01-18T08:21:12.934Z"
   },
   {
    "duration": 7,
    "start_time": "2022-01-18T08:21:21.902Z"
   },
   {
    "duration": 314,
    "start_time": "2022-01-18T08:28:25.687Z"
   },
   {
    "duration": 14,
    "start_time": "2022-01-18T08:28:26.803Z"
   },
   {
    "duration": 13,
    "start_time": "2022-01-18T08:28:31.089Z"
   },
   {
    "duration": 12,
    "start_time": "2022-01-18T08:28:31.890Z"
   },
   {
    "duration": 13,
    "start_time": "2022-01-18T08:28:34.497Z"
   },
   {
    "duration": 13,
    "start_time": "2022-01-18T08:28:35.209Z"
   },
   {
    "duration": 13,
    "start_time": "2022-01-18T08:28:37.177Z"
   },
   {
    "duration": 12,
    "start_time": "2022-01-18T08:28:39.351Z"
   },
   {
    "duration": 13,
    "start_time": "2022-01-18T08:28:41.562Z"
   },
   {
    "duration": 319,
    "start_time": "2022-01-18T15:32:00.992Z"
   },
   {
    "duration": 611,
    "start_time": "2022-01-18T15:32:16.028Z"
   },
   {
    "duration": 50,
    "start_time": "2022-01-18T15:32:17.148Z"
   },
   {
    "duration": 21,
    "start_time": "2022-01-18T15:32:17.607Z"
   },
   {
    "duration": 12,
    "start_time": "2022-01-18T15:32:17.806Z"
   },
   {
    "duration": 16,
    "start_time": "2022-01-18T15:32:17.994Z"
   },
   {
    "duration": 36,
    "start_time": "2022-01-18T15:32:18.184Z"
   },
   {
    "duration": 6,
    "start_time": "2022-01-18T15:32:19.147Z"
   },
   {
    "duration": 16,
    "start_time": "2022-01-18T15:32:19.532Z"
   },
   {
    "duration": 17,
    "start_time": "2022-01-18T15:32:19.906Z"
   },
   {
    "duration": 12,
    "start_time": "2022-01-18T15:32:20.258Z"
   },
   {
    "duration": 10,
    "start_time": "2022-01-18T15:32:20.622Z"
   },
   {
    "duration": 17,
    "start_time": "2022-01-18T15:32:20.993Z"
   },
   {
    "duration": 10,
    "start_time": "2022-01-18T15:32:21.171Z"
   },
   {
    "duration": 10,
    "start_time": "2022-01-18T15:32:21.531Z"
   },
   {
    "duration": 10,
    "start_time": "2022-01-18T15:32:21.922Z"
   },
   {
    "duration": 12,
    "start_time": "2022-01-18T15:32:22.684Z"
   },
   {
    "duration": 13,
    "start_time": "2022-01-18T15:32:23.057Z"
   },
   {
    "duration": 13,
    "start_time": "2022-01-18T15:32:23.252Z"
   },
   {
    "duration": 8,
    "start_time": "2022-01-18T15:32:23.457Z"
   },
   {
    "duration": 17,
    "start_time": "2022-01-18T15:32:23.630Z"
   },
   {
    "duration": 14,
    "start_time": "2022-01-18T15:32:23.827Z"
   },
   {
    "duration": 9,
    "start_time": "2022-01-18T15:32:24.030Z"
   },
   {
    "duration": 12,
    "start_time": "2022-01-18T15:32:24.210Z"
   },
   {
    "duration": 11,
    "start_time": "2022-01-18T15:32:24.404Z"
   },
   {
    "duration": 31,
    "start_time": "2022-01-18T15:32:24.605Z"
   },
   {
    "duration": 4,
    "start_time": "2022-01-18T15:32:24.993Z"
   },
   {
    "duration": 6,
    "start_time": "2022-01-18T15:32:25.181Z"
   },
   {
    "duration": 12,
    "start_time": "2022-01-18T15:32:25.369Z"
   },
   {
    "duration": 16,
    "start_time": "2022-01-18T15:32:26.406Z"
   },
   {
    "duration": 27,
    "start_time": "2022-01-18T15:32:26.609Z"
   },
   {
    "duration": 33,
    "start_time": "2022-01-18T15:32:26.828Z"
   },
   {
    "duration": 8,
    "start_time": "2022-01-18T15:32:27.827Z"
   },
   {
    "duration": 5,
    "start_time": "2022-01-18T15:32:28.039Z"
   },
   {
    "duration": 3722,
    "start_time": "2022-01-18T15:32:28.264Z"
   },
   {
    "duration": 10,
    "start_time": "2022-01-18T15:32:31.998Z"
   },
   {
    "duration": 35,
    "start_time": "2022-01-18T15:32:32.010Z"
   },
   {
    "duration": 18,
    "start_time": "2022-01-18T15:32:32.047Z"
   },
   {
    "duration": 35,
    "start_time": "2022-01-18T15:32:32.067Z"
   },
   {
    "duration": 317,
    "start_time": "2022-01-18T15:32:32.104Z"
   },
   {
    "duration": 6,
    "start_time": "2022-01-18T15:32:32.423Z"
   },
   {
    "duration": 21,
    "start_time": "2022-01-18T15:32:32.431Z"
   },
   {
    "duration": 417,
    "start_time": "2022-01-18T15:32:32.453Z"
   },
   {
    "duration": 17,
    "start_time": "2022-01-18T15:32:32.871Z"
   },
   {
    "duration": 25,
    "start_time": "2022-01-18T15:32:32.899Z"
   },
   {
    "duration": 19,
    "start_time": "2022-01-18T15:32:32.927Z"
   },
   {
    "duration": 24,
    "start_time": "2022-01-18T15:32:33.791Z"
   },
   {
    "duration": 13,
    "start_time": "2022-01-18T15:32:34.021Z"
   },
   {
    "duration": 17,
    "start_time": "2022-01-18T15:32:37.487Z"
   },
   {
    "duration": 15,
    "start_time": "2022-01-18T15:32:37.971Z"
   },
   {
    "duration": 18,
    "start_time": "2022-01-18T15:32:39.278Z"
   },
   {
    "duration": 14,
    "start_time": "2022-01-18T15:32:39.616Z"
   },
   {
    "duration": 7,
    "start_time": "2022-01-18T15:32:41.213Z"
   },
   {
    "duration": 412,
    "start_time": "2022-01-18T15:41:40.976Z"
   },
   {
    "duration": 358,
    "start_time": "2022-01-18T15:42:35.898Z"
   },
   {
    "duration": 313,
    "start_time": "2022-01-18T15:42:58.262Z"
   },
   {
    "duration": 261,
    "start_time": "2022-01-18T15:43:30.429Z"
   },
   {
    "duration": 251,
    "start_time": "2022-01-18T15:44:00.865Z"
   },
   {
    "duration": 257,
    "start_time": "2022-01-18T15:44:22.352Z"
   },
   {
    "duration": 276,
    "start_time": "2022-01-18T15:44:43.701Z"
   },
   {
    "duration": 16,
    "start_time": "2022-01-18T15:44:53.082Z"
   },
   {
    "duration": 13,
    "start_time": "2022-01-18T15:45:18.181Z"
   },
   {
    "duration": 14,
    "start_time": "2022-01-18T15:46:53.628Z"
   },
   {
    "duration": 13,
    "start_time": "2022-01-18T15:56:30.025Z"
   },
   {
    "duration": 16,
    "start_time": "2022-01-18T16:14:43.864Z"
   },
   {
    "duration": 570,
    "start_time": "2022-01-18T16:28:11.260Z"
   },
   {
    "duration": 64,
    "start_time": "2022-01-18T16:28:12.269Z"
   },
   {
    "duration": 29,
    "start_time": "2022-01-18T16:28:12.486Z"
   },
   {
    "duration": 12,
    "start_time": "2022-01-18T16:28:12.664Z"
   },
   {
    "duration": 16,
    "start_time": "2022-01-18T16:28:12.864Z"
   },
   {
    "duration": 47,
    "start_time": "2022-01-18T16:28:13.034Z"
   },
   {
    "duration": 7,
    "start_time": "2022-01-18T16:28:13.891Z"
   },
   {
    "duration": 15,
    "start_time": "2022-01-18T16:28:14.248Z"
   },
   {
    "duration": 22,
    "start_time": "2022-01-18T16:28:14.604Z"
   },
   {
    "duration": 12,
    "start_time": "2022-01-18T16:28:14.969Z"
   },
   {
    "duration": 12,
    "start_time": "2022-01-18T16:28:15.331Z"
   },
   {
    "duration": 23,
    "start_time": "2022-01-18T16:28:15.699Z"
   },
   {
    "duration": 11,
    "start_time": "2022-01-18T16:28:15.883Z"
   },
   {
    "duration": 9,
    "start_time": "2022-01-18T16:28:16.249Z"
   },
   {
    "duration": 10,
    "start_time": "2022-01-18T16:28:16.619Z"
   },
   {
    "duration": 11,
    "start_time": "2022-01-18T16:28:17.370Z"
   },
   {
    "duration": 12,
    "start_time": "2022-01-18T16:28:17.765Z"
   },
   {
    "duration": 12,
    "start_time": "2022-01-18T16:28:17.991Z"
   },
   {
    "duration": 6,
    "start_time": "2022-01-18T16:28:18.137Z"
   },
   {
    "duration": 15,
    "start_time": "2022-01-18T16:28:18.328Z"
   },
   {
    "duration": 13,
    "start_time": "2022-01-18T16:28:18.515Z"
   },
   {
    "duration": 8,
    "start_time": "2022-01-18T16:28:18.711Z"
   },
   {
    "duration": 11,
    "start_time": "2022-01-18T16:28:18.915Z"
   },
   {
    "duration": 11,
    "start_time": "2022-01-18T16:28:19.110Z"
   },
   {
    "duration": 31,
    "start_time": "2022-01-18T16:28:19.310Z"
   },
   {
    "duration": 4,
    "start_time": "2022-01-18T16:28:19.690Z"
   },
   {
    "duration": 4,
    "start_time": "2022-01-18T16:28:19.880Z"
   },
   {
    "duration": 12,
    "start_time": "2022-01-18T16:28:20.072Z"
   },
   {
    "duration": 17,
    "start_time": "2022-01-18T16:28:21.020Z"
   },
   {
    "duration": 30,
    "start_time": "2022-01-18T16:28:21.204Z"
   },
   {
    "duration": 40,
    "start_time": "2022-01-18T16:28:21.381Z"
   },
   {
    "duration": 6,
    "start_time": "2022-01-18T16:28:22.322Z"
   },
   {
    "duration": 3,
    "start_time": "2022-01-18T16:28:22.510Z"
   },
   {
    "duration": 3556,
    "start_time": "2022-01-18T16:28:22.700Z"
   },
   {
    "duration": 7,
    "start_time": "2022-01-18T16:28:26.259Z"
   },
   {
    "duration": 39,
    "start_time": "2022-01-18T16:28:26.268Z"
   },
   {
    "duration": 14,
    "start_time": "2022-01-18T16:28:26.310Z"
   },
   {
    "duration": 6,
    "start_time": "2022-01-18T16:28:26.326Z"
   },
   {
    "duration": 308,
    "start_time": "2022-01-18T16:28:26.334Z"
   },
   {
    "duration": 6,
    "start_time": "2022-01-18T16:28:26.643Z"
   },
   {
    "duration": 11,
    "start_time": "2022-01-18T16:28:26.651Z"
   },
   {
    "duration": 394,
    "start_time": "2022-01-18T16:28:26.664Z"
   },
   {
    "duration": 15,
    "start_time": "2022-01-18T16:28:27.059Z"
   },
   {
    "duration": 32,
    "start_time": "2022-01-18T16:28:27.075Z"
   },
   {
    "duration": 15,
    "start_time": "2022-01-18T16:28:27.110Z"
   },
   {
    "duration": 15,
    "start_time": "2022-01-18T16:28:27.517Z"
   },
   {
    "duration": 14,
    "start_time": "2022-01-18T16:28:27.725Z"
   },
   {
    "duration": 15,
    "start_time": "2022-01-18T16:28:28.552Z"
   },
   {
    "duration": 14,
    "start_time": "2022-01-18T16:28:28.783Z"
   },
   {
    "duration": 15,
    "start_time": "2022-01-18T16:28:29.774Z"
   },
   {
    "duration": 13,
    "start_time": "2022-01-18T16:28:30.063Z"
   },
   {
    "duration": 9,
    "start_time": "2022-01-18T16:28:31.289Z"
   },
   {
    "duration": 420,
    "start_time": "2022-01-18T16:28:31.608Z"
   },
   {
    "duration": 20,
    "start_time": "2022-01-18T16:28:32.087Z"
   },
   {
    "duration": 14,
    "start_time": "2022-01-18T16:28:32.613Z"
   },
   {
    "duration": 14,
    "start_time": "2022-01-18T16:28:33.146Z"
   },
   {
    "duration": 14,
    "start_time": "2022-01-18T16:28:34.188Z"
   },
   {
    "duration": 1205,
    "start_time": "2022-01-21T19:32:10.539Z"
   },
   {
    "duration": 107,
    "start_time": "2022-01-21T19:32:11.747Z"
   },
   {
    "duration": 86,
    "start_time": "2022-01-21T19:32:11.858Z"
   },
   {
    "duration": 14,
    "start_time": "2022-01-21T19:32:11.947Z"
   },
   {
    "duration": 22,
    "start_time": "2022-01-21T19:32:12.025Z"
   },
   {
    "duration": 109,
    "start_time": "2022-01-21T19:32:12.050Z"
   },
   {
    "duration": 62,
    "start_time": "2022-01-21T19:32:12.163Z"
   },
   {
    "duration": 20,
    "start_time": "2022-01-21T19:32:12.227Z"
   },
   {
    "duration": 84,
    "start_time": "2022-01-21T19:32:12.250Z"
   },
   {
    "duration": 14,
    "start_time": "2022-01-21T19:32:12.339Z"
   },
   {
    "duration": 72,
    "start_time": "2022-01-21T19:32:12.356Z"
   },
   {
    "duration": 24,
    "start_time": "2022-01-21T19:32:12.431Z"
   },
   {
    "duration": 73,
    "start_time": "2022-01-21T19:32:12.457Z"
   },
   {
    "duration": 13,
    "start_time": "2022-01-21T19:32:12.532Z"
   },
   {
    "duration": 81,
    "start_time": "2022-01-21T19:32:12.548Z"
   },
   {
    "duration": 14,
    "start_time": "2022-01-21T19:32:12.631Z"
   },
   {
    "duration": 78,
    "start_time": "2022-01-21T19:32:12.647Z"
   },
   {
    "duration": 17,
    "start_time": "2022-01-21T19:32:12.727Z"
   },
   {
    "duration": 80,
    "start_time": "2022-01-21T19:32:12.747Z"
   },
   {
    "duration": 25,
    "start_time": "2022-01-21T19:32:12.830Z"
   },
   {
    "duration": 79,
    "start_time": "2022-01-21T19:32:12.857Z"
   },
   {
    "duration": 12,
    "start_time": "2022-01-21T19:32:12.939Z"
   },
   {
    "duration": 80,
    "start_time": "2022-01-21T19:32:12.954Z"
   },
   {
    "duration": 14,
    "start_time": "2022-01-21T19:32:13.037Z"
   },
   {
    "duration": 102,
    "start_time": "2022-01-21T19:32:13.053Z"
   },
   {
    "duration": 5,
    "start_time": "2022-01-21T19:32:13.158Z"
   },
   {
    "duration": 6,
    "start_time": "2022-01-21T19:32:13.228Z"
   },
   {
    "duration": 15,
    "start_time": "2022-01-21T19:32:13.237Z"
   },
   {
    "duration": 82,
    "start_time": "2022-01-21T19:32:13.255Z"
   },
   {
    "duration": 97,
    "start_time": "2022-01-21T19:32:13.339Z"
   },
   {
    "duration": 101,
    "start_time": "2022-01-21T19:32:13.438Z"
   },
   {
    "duration": 11,
    "start_time": "2022-01-21T19:32:13.542Z"
   },
   {
    "duration": 6,
    "start_time": "2022-01-21T19:32:13.556Z"
   },
   {
    "duration": 10698,
    "start_time": "2022-01-21T19:32:13.564Z"
   },
   {
    "duration": 60,
    "start_time": "2022-01-21T19:32:24.265Z"
   },
   {
    "duration": 29,
    "start_time": "2022-01-21T19:32:24.328Z"
   },
   {
    "duration": 23,
    "start_time": "2022-01-21T19:32:24.423Z"
   },
   {
    "duration": 8,
    "start_time": "2022-01-21T19:32:24.448Z"
   },
   {
    "duration": 1004,
    "start_time": "2022-01-21T19:32:24.459Z"
   },
   {
    "duration": 62,
    "start_time": "2022-01-21T19:32:25.465Z"
   },
   {
    "duration": 15,
    "start_time": "2022-01-21T19:32:25.530Z"
   },
   {
    "duration": 1277,
    "start_time": "2022-01-21T19:32:25.547Z"
   },
   {
    "duration": 24,
    "start_time": "2022-01-21T19:32:26.827Z"
   },
   {
    "duration": 88,
    "start_time": "2022-01-21T19:32:26.853Z"
   },
   {
    "duration": 23,
    "start_time": "2022-01-21T19:32:26.943Z"
   },
   {
    "duration": 21,
    "start_time": "2022-01-21T19:32:27.024Z"
   },
   {
    "duration": 78,
    "start_time": "2022-01-21T19:32:27.047Z"
   },
   {
    "duration": 21,
    "start_time": "2022-01-21T19:32:27.127Z"
   },
   {
    "duration": 80,
    "start_time": "2022-01-21T19:32:27.151Z"
   },
   {
    "duration": 92,
    "start_time": "2022-01-21T19:32:27.234Z"
   },
   {
    "duration": 27,
    "start_time": "2022-01-21T19:32:27.329Z"
   },
   {
    "duration": 71,
    "start_time": "2022-01-21T19:32:27.359Z"
   },
   {
    "duration": 2523,
    "start_time": "2022-01-21T19:32:27.433Z"
   },
   {
    "duration": 95,
    "start_time": "2022-01-21T19:32:29.959Z"
   },
   {
    "duration": 87,
    "start_time": "2022-01-21T19:32:30.057Z"
   },
   {
    "duration": 87,
    "start_time": "2022-01-21T19:32:30.147Z"
   },
   {
    "duration": 28,
    "start_time": "2022-01-21T19:32:30.237Z"
   },
   {
    "duration": 594,
    "start_time": "2022-01-21T20:19:05.571Z"
   },
   {
    "duration": 56,
    "start_time": "2022-01-21T20:19:06.743Z"
   },
   {
    "duration": 20,
    "start_time": "2022-01-21T20:19:07.283Z"
   },
   {
    "duration": 12,
    "start_time": "2022-01-21T20:19:07.515Z"
   },
   {
    "duration": 15,
    "start_time": "2022-01-21T20:19:07.808Z"
   },
   {
    "duration": 31,
    "start_time": "2022-01-21T20:19:07.910Z"
   },
   {
    "duration": 31,
    "start_time": "2022-01-21T20:19:08.104Z"
   },
   {
    "duration": 8,
    "start_time": "2022-01-21T20:19:09.824Z"
   },
   {
    "duration": 15,
    "start_time": "2022-01-21T20:19:11.082Z"
   },
   {
    "duration": 16,
    "start_time": "2022-01-21T20:19:11.716Z"
   },
   {
    "duration": 11,
    "start_time": "2022-01-21T20:19:12.310Z"
   },
   {
    "duration": 10,
    "start_time": "2022-01-21T20:19:12.890Z"
   },
   {
    "duration": 15,
    "start_time": "2022-01-21T20:19:13.328Z"
   },
   {
    "duration": 9,
    "start_time": "2022-01-21T20:19:13.482Z"
   },
   {
    "duration": 10,
    "start_time": "2022-01-21T20:19:13.872Z"
   },
   {
    "duration": 10,
    "start_time": "2022-01-21T20:19:14.441Z"
   },
   {
    "duration": 11,
    "start_time": "2022-01-21T20:19:15.404Z"
   },
   {
    "duration": 12,
    "start_time": "2022-01-21T20:19:15.792Z"
   },
   {
    "duration": 12,
    "start_time": "2022-01-21T20:19:15.972Z"
   },
   {
    "duration": 7,
    "start_time": "2022-01-21T20:19:16.166Z"
   },
   {
    "duration": 15,
    "start_time": "2022-01-21T20:19:16.342Z"
   },
   {
    "duration": 14,
    "start_time": "2022-01-21T20:19:16.548Z"
   },
   {
    "duration": 9,
    "start_time": "2022-01-21T20:19:16.728Z"
   },
   {
    "duration": 11,
    "start_time": "2022-01-21T20:19:16.903Z"
   },
   {
    "duration": 11,
    "start_time": "2022-01-21T20:19:17.114Z"
   },
   {
    "duration": 27,
    "start_time": "2022-01-21T20:19:17.288Z"
   },
   {
    "duration": 5,
    "start_time": "2022-01-21T20:19:17.654Z"
   },
   {
    "duration": 6,
    "start_time": "2022-01-21T20:19:17.839Z"
   },
   {
    "duration": 11,
    "start_time": "2022-01-21T20:19:18.207Z"
   },
   {
    "duration": 18,
    "start_time": "2022-01-21T20:19:19.356Z"
   },
   {
    "duration": 26,
    "start_time": "2022-01-21T20:19:19.544Z"
   },
   {
    "duration": 32,
    "start_time": "2022-01-21T20:19:19.739Z"
   },
   {
    "duration": 6,
    "start_time": "2022-01-21T20:19:20.842Z"
   },
   {
    "duration": 3,
    "start_time": "2022-01-21T20:19:21.042Z"
   },
   {
    "duration": 3640,
    "start_time": "2022-01-21T20:19:21.242Z"
   },
   {
    "duration": 7,
    "start_time": "2022-01-21T20:19:24.885Z"
   },
   {
    "duration": 23,
    "start_time": "2022-01-21T20:19:24.894Z"
   },
   {
    "duration": 12,
    "start_time": "2022-01-21T20:19:24.919Z"
   },
   {
    "duration": 27,
    "start_time": "2022-01-21T20:19:24.933Z"
   },
   {
    "duration": 275,
    "start_time": "2022-01-21T20:19:24.962Z"
   },
   {
    "duration": 6,
    "start_time": "2022-01-21T20:19:25.238Z"
   },
   {
    "duration": 21,
    "start_time": "2022-01-21T20:19:25.246Z"
   },
   {
    "duration": 353,
    "start_time": "2022-01-21T20:19:25.268Z"
   },
   {
    "duration": 16,
    "start_time": "2022-01-21T20:19:25.622Z"
   },
   {
    "duration": 21,
    "start_time": "2022-01-21T20:19:25.854Z"
   },
   {
    "duration": 18,
    "start_time": "2022-01-21T20:19:26.568Z"
   },
   {
    "duration": 18,
    "start_time": "2022-01-21T20:19:27.852Z"
   },
   {
    "duration": 13,
    "start_time": "2022-01-21T20:19:28.024Z"
   },
   {
    "duration": 14,
    "start_time": "2022-01-21T20:19:29.302Z"
   },
   {
    "duration": 13,
    "start_time": "2022-01-21T20:19:29.527Z"
   },
   {
    "duration": 15,
    "start_time": "2022-01-21T20:19:30.660Z"
   },
   {
    "duration": 13,
    "start_time": "2022-01-21T20:19:30.884Z"
   },
   {
    "duration": 6,
    "start_time": "2022-01-21T20:19:32.546Z"
   },
   {
    "duration": 388,
    "start_time": "2022-01-21T20:19:32.885Z"
   },
   {
    "duration": 18,
    "start_time": "2022-01-21T20:19:33.356Z"
   },
   {
    "duration": 13,
    "start_time": "2022-01-21T20:19:33.770Z"
   },
   {
    "duration": 13,
    "start_time": "2022-01-21T20:19:34.180Z"
   },
   {
    "duration": 14,
    "start_time": "2022-01-21T20:19:34.672Z"
   },
   {
    "duration": 45,
    "start_time": "2022-01-21T20:29:35.542Z"
   },
   {
    "duration": 8,
    "start_time": "2022-01-21T20:41:40.943Z"
   },
   {
    "duration": 45,
    "start_time": "2022-01-21T20:46:34.928Z"
   },
   {
    "duration": 313,
    "start_time": "2022-01-22T13:07:44.489Z"
   },
   {
    "duration": 936,
    "start_time": "2022-01-22T13:07:43.868Z"
   },
   {
    "duration": 277,
    "start_time": "2022-01-22T13:07:44.890Z"
   },
   {
    "duration": 251,
    "start_time": "2022-01-22T13:07:45.930Z"
   },
   {
    "duration": 940,
    "start_time": "2022-01-22T13:07:45.243Z"
   },
   {
    "duration": 242,
    "start_time": "2022-01-22T13:07:46.281Z"
   },
   {
    "duration": 937,
    "start_time": "2022-01-22T13:07:45.588Z"
   },
   {
    "duration": 233,
    "start_time": "2022-01-22T13:07:46.633Z"
   },
   {
    "duration": 296,
    "start_time": "2022-01-22T13:07:48.058Z"
   },
   {
    "duration": 920,
    "start_time": "2022-01-22T13:07:47.436Z"
   },
   {
    "duration": 236,
    "start_time": "2022-01-22T13:07:48.641Z"
   },
   {
    "duration": 939,
    "start_time": "2022-01-22T13:07:47.940Z"
   },
   {
    "duration": 236,
    "start_time": "2022-01-22T13:07:49.017Z"
   },
   {
    "duration": 522,
    "start_time": "2022-01-22T13:07:49.434Z"
   },
   {
    "duration": 437,
    "start_time": "2022-01-22T13:08:27.873Z"
   },
   {
    "duration": 552,
    "start_time": "2022-01-22T13:09:03.859Z"
   },
   {
    "duration": 48,
    "start_time": "2022-01-22T13:09:04.931Z"
   },
   {
    "duration": 18,
    "start_time": "2022-01-22T13:09:05.818Z"
   },
   {
    "duration": 11,
    "start_time": "2022-01-22T13:09:06.634Z"
   },
   {
    "duration": 15,
    "start_time": "2022-01-22T13:09:07.226Z"
   },
   {
    "duration": 28,
    "start_time": "2022-01-22T13:09:07.753Z"
   },
   {
    "duration": 29,
    "start_time": "2022-01-22T13:09:08.362Z"
   },
   {
    "duration": 7,
    "start_time": "2022-01-22T13:09:11.818Z"
   },
   {
    "duration": 14,
    "start_time": "2022-01-22T13:09:13.300Z"
   },
   {
    "duration": 26,
    "start_time": "2022-01-22T13:09:15.090Z"
   },
   {
    "duration": 10,
    "start_time": "2022-01-22T13:09:16.569Z"
   },
   {
    "duration": 9,
    "start_time": "2022-01-22T13:09:18.001Z"
   },
   {
    "duration": 14,
    "start_time": "2022-01-22T13:09:19.274Z"
   },
   {
    "duration": 9,
    "start_time": "2022-01-22T13:09:19.898Z"
   },
   {
    "duration": 8,
    "start_time": "2022-01-22T13:09:21.017Z"
   },
   {
    "duration": 8,
    "start_time": "2022-01-22T13:09:22.679Z"
   },
   {
    "duration": 10,
    "start_time": "2022-01-22T13:09:25.428Z"
   },
   {
    "duration": 12,
    "start_time": "2022-01-22T13:09:26.570Z"
   },
   {
    "duration": 11,
    "start_time": "2022-01-22T13:09:27.202Z"
   },
   {
    "duration": 8,
    "start_time": "2022-01-22T13:09:27.761Z"
   },
   {
    "duration": 17,
    "start_time": "2022-01-22T13:09:28.331Z"
   },
   {
    "duration": 14,
    "start_time": "2022-01-22T13:09:28.827Z"
   },
   {
    "duration": 8,
    "start_time": "2022-01-22T13:09:29.442Z"
   },
   {
    "duration": 10,
    "start_time": "2022-01-22T13:09:30.026Z"
   },
   {
    "duration": 9,
    "start_time": "2022-01-22T13:09:30.795Z"
   },
   {
    "duration": 27,
    "start_time": "2022-01-22T13:09:31.519Z"
   },
   {
    "duration": 3,
    "start_time": "2022-01-22T13:09:32.881Z"
   },
   {
    "duration": 8,
    "start_time": "2022-01-22T13:09:34.210Z"
   },
   {
    "duration": 10,
    "start_time": "2022-01-22T13:09:35.418Z"
   },
   {
    "duration": 3,
    "start_time": "2022-01-22T13:09:37.994Z"
   },
   {
    "duration": 5,
    "start_time": "2022-01-22T13:09:38.642Z"
   },
   {
    "duration": 11,
    "start_time": "2022-01-22T13:09:39.921Z"
   },
   {
    "duration": 14,
    "start_time": "2022-01-22T13:09:43.194Z"
   },
   {
    "duration": 23,
    "start_time": "2022-01-22T13:09:43.857Z"
   },
   {
    "duration": 29,
    "start_time": "2022-01-22T13:09:44.554Z"
   },
   {
    "duration": 6,
    "start_time": "2022-01-22T13:09:47.618Z"
   },
   {
    "duration": 3,
    "start_time": "2022-01-22T13:09:48.290Z"
   },
   {
    "duration": 3488,
    "start_time": "2022-01-22T13:09:48.898Z"
   },
   {
    "duration": 7,
    "start_time": "2022-01-22T13:09:52.389Z"
   },
   {
    "duration": 20,
    "start_time": "2022-01-22T13:09:54.666Z"
   },
   {
    "duration": 13,
    "start_time": "2022-01-22T13:09:58.712Z"
   },
   {
    "duration": 6,
    "start_time": "2022-01-22T13:09:59.537Z"
   },
   {
    "duration": 268,
    "start_time": "2022-01-22T13:10:01.034Z"
   },
   {
    "duration": 6,
    "start_time": "2022-01-22T13:10:02.002Z"
   },
   {
    "duration": 10,
    "start_time": "2022-01-22T13:10:02.946Z"
   },
   {
    "duration": 342,
    "start_time": "2022-01-22T13:10:04.487Z"
   },
   {
    "duration": 15,
    "start_time": "2022-01-22T13:10:06.785Z"
   },
   {
    "duration": 17,
    "start_time": "2022-01-22T13:10:09.722Z"
   },
   {
    "duration": 17,
    "start_time": "2022-01-22T13:10:10.594Z"
   },
   {
    "duration": 13,
    "start_time": "2022-01-22T13:10:13.577Z"
   },
   {
    "duration": 13,
    "start_time": "2022-01-22T13:10:14.225Z"
   },
   {
    "duration": 13,
    "start_time": "2022-01-22T13:10:16.826Z"
   },
   {
    "duration": 13,
    "start_time": "2022-01-22T13:10:17.290Z"
   },
   {
    "duration": 15,
    "start_time": "2022-01-22T13:10:19.833Z"
   },
   {
    "duration": 17,
    "start_time": "2022-01-22T13:10:20.306Z"
   },
   {
    "duration": 6,
    "start_time": "2022-01-22T13:10:22.777Z"
   },
   {
    "duration": 401,
    "start_time": "2022-01-22T13:10:23.206Z"
   },
   {
    "duration": 18,
    "start_time": "2022-01-22T13:10:23.858Z"
   },
   {
    "duration": 12,
    "start_time": "2022-01-22T13:10:24.259Z"
   },
   {
    "duration": 13,
    "start_time": "2022-01-22T13:10:24.642Z"
   },
   {
    "duration": 13,
    "start_time": "2022-01-22T13:10:25.090Z"
   },
   {
    "duration": 78,
    "start_time": "2022-01-22T13:16:14.655Z"
   },
   {
    "duration": 130,
    "start_time": "2022-01-22T13:16:36.167Z"
   },
   {
    "duration": 5,
    "start_time": "2022-01-22T13:30:29.028Z"
   },
   {
    "duration": 20,
    "start_time": "2022-01-22T13:30:36.792Z"
   },
   {
    "duration": 25,
    "start_time": "2022-01-22T13:30:37.472Z"
   },
   {
    "duration": 42,
    "start_time": "2022-01-22T13:30:38.280Z"
   },
   {
    "duration": 6,
    "start_time": "2022-01-22T13:30:40.535Z"
   },
   {
    "duration": 3,
    "start_time": "2022-01-22T13:30:40.903Z"
   },
   {
    "duration": 2788,
    "start_time": "2022-01-22T13:30:41.271Z"
   },
   {
    "duration": 8,
    "start_time": "2022-01-22T13:30:44.061Z"
   },
   {
    "duration": 20,
    "start_time": "2022-01-22T13:30:44.071Z"
   },
   {
    "duration": 15,
    "start_time": "2022-01-22T13:30:46.712Z"
   },
   {
    "duration": 5,
    "start_time": "2022-01-22T13:30:53.080Z"
   },
   {
    "duration": 250,
    "start_time": "2022-01-22T13:30:54.383Z"
   },
   {
    "duration": 6,
    "start_time": "2022-01-22T13:30:54.879Z"
   },
   {
    "duration": 8,
    "start_time": "2022-01-22T13:30:55.488Z"
   },
   {
    "duration": 220,
    "start_time": "2022-01-22T13:30:59.414Z"
   },
   {
    "duration": 17,
    "start_time": "2022-01-22T13:31:00.680Z"
   },
   {
    "duration": 14,
    "start_time": "2022-01-22T13:31:03.984Z"
   },
   {
    "duration": 13,
    "start_time": "2022-01-22T13:31:04.567Z"
   },
   {
    "duration": 20,
    "start_time": "2022-01-22T13:32:42.479Z"
   },
   {
    "duration": 50,
    "start_time": "2022-01-22T13:32:43.144Z"
   },
   {
    "duration": 12,
    "start_time": "2022-01-22T13:32:43.807Z"
   },
   {
    "duration": 11,
    "start_time": "2022-01-22T13:32:44.654Z"
   },
   {
    "duration": 14,
    "start_time": "2022-01-22T13:32:45.327Z"
   },
   {
    "duration": 30,
    "start_time": "2022-01-22T13:32:46.150Z"
   },
   {
    "duration": 32,
    "start_time": "2022-01-22T13:32:46.903Z"
   },
   {
    "duration": 6,
    "start_time": "2022-01-22T13:32:50.799Z"
   },
   {
    "duration": 14,
    "start_time": "2022-01-22T13:32:52.454Z"
   },
   {
    "duration": 15,
    "start_time": "2022-01-22T13:32:53.926Z"
   },
   {
    "duration": 10,
    "start_time": "2022-01-22T13:32:55.335Z"
   },
   {
    "duration": 9,
    "start_time": "2022-01-22T13:32:56.766Z"
   },
   {
    "duration": 14,
    "start_time": "2022-01-22T13:32:57.847Z"
   },
   {
    "duration": 9,
    "start_time": "2022-01-22T13:32:58.391Z"
   },
   {
    "duration": 9,
    "start_time": "2022-01-22T13:32:59.446Z"
   },
   {
    "duration": 9,
    "start_time": "2022-01-22T13:33:00.983Z"
   },
   {
    "duration": 12,
    "start_time": "2022-01-22T13:33:03.286Z"
   },
   {
    "duration": 15,
    "start_time": "2022-01-22T13:33:04.327Z"
   },
   {
    "duration": 11,
    "start_time": "2022-01-22T13:33:04.806Z"
   },
   {
    "duration": 7,
    "start_time": "2022-01-22T13:33:05.286Z"
   },
   {
    "duration": 15,
    "start_time": "2022-01-22T13:33:05.800Z"
   },
   {
    "duration": 13,
    "start_time": "2022-01-22T13:33:06.407Z"
   },
   {
    "duration": 9,
    "start_time": "2022-01-22T13:33:07.014Z"
   },
   {
    "duration": 11,
    "start_time": "2022-01-22T13:33:07.621Z"
   },
   {
    "duration": 11,
    "start_time": "2022-01-22T13:33:08.167Z"
   },
   {
    "duration": 25,
    "start_time": "2022-01-22T13:33:08.750Z"
   },
   {
    "duration": 4,
    "start_time": "2022-01-22T13:33:10.662Z"
   },
   {
    "duration": 9,
    "start_time": "2022-01-22T13:33:11.272Z"
   },
   {
    "duration": 8,
    "start_time": "2022-01-22T13:33:11.863Z"
   },
   {
    "duration": 5,
    "start_time": "2022-01-22T13:33:14.397Z"
   },
   {
    "duration": 6,
    "start_time": "2022-01-22T13:33:15.525Z"
   },
   {
    "duration": 11,
    "start_time": "2022-01-22T13:33:16.917Z"
   },
   {
    "duration": 15,
    "start_time": "2022-01-22T13:33:20.188Z"
   },
   {
    "duration": 25,
    "start_time": "2022-01-22T13:33:20.853Z"
   },
   {
    "duration": 30,
    "start_time": "2022-01-22T13:33:21.414Z"
   },
   {
    "duration": 7,
    "start_time": "2022-01-22T13:33:39.212Z"
   },
   {
    "duration": 3,
    "start_time": "2022-01-22T13:33:39.662Z"
   },
   {
    "duration": 3551,
    "start_time": "2022-01-22T13:33:40.125Z"
   },
   {
    "duration": 8,
    "start_time": "2022-01-22T13:33:43.679Z"
   },
   {
    "duration": 21,
    "start_time": "2022-01-22T13:33:43.690Z"
   },
   {
    "duration": 14,
    "start_time": "2022-01-22T13:33:44.318Z"
   },
   {
    "duration": 7,
    "start_time": "2022-01-22T13:33:45.125Z"
   },
   {
    "duration": 265,
    "start_time": "2022-01-22T13:33:46.398Z"
   },
   {
    "duration": 6,
    "start_time": "2022-01-22T13:33:46.981Z"
   },
   {
    "duration": 10,
    "start_time": "2022-01-22T13:33:47.670Z"
   },
   {
    "duration": 213,
    "start_time": "2022-01-22T13:33:49.310Z"
   },
   {
    "duration": 17,
    "start_time": "2022-01-22T13:33:50.510Z"
   },
   {
    "duration": 18,
    "start_time": "2022-01-22T13:33:53.541Z"
   },
   {
    "duration": 13,
    "start_time": "2022-01-22T13:33:54.110Z"
   },
   {
    "duration": 15,
    "start_time": "2022-01-22T13:33:57.133Z"
   },
   {
    "duration": 14,
    "start_time": "2022-01-22T13:33:57.695Z"
   },
   {
    "duration": 15,
    "start_time": "2022-01-22T13:34:00.141Z"
   },
   {
    "duration": 14,
    "start_time": "2022-01-22T13:34:00.623Z"
   },
   {
    "duration": 18,
    "start_time": "2022-01-22T13:34:02.758Z"
   },
   {
    "duration": 13,
    "start_time": "2022-01-22T13:34:03.455Z"
   },
   {
    "duration": 7,
    "start_time": "2022-01-22T13:34:06.389Z"
   },
   {
    "duration": 367,
    "start_time": "2022-01-22T13:34:06.718Z"
   },
   {
    "duration": 17,
    "start_time": "2022-01-22T13:34:07.497Z"
   },
   {
    "duration": 14,
    "start_time": "2022-01-22T13:34:08.086Z"
   },
   {
    "duration": 14,
    "start_time": "2022-01-22T13:34:08.622Z"
   },
   {
    "duration": 15,
    "start_time": "2022-01-22T13:34:09.125Z"
   },
   {
    "duration": 568,
    "start_time": "2022-02-12T22:16:50.666Z"
   },
   {
    "duration": 48,
    "start_time": "2022-02-12T22:16:52.014Z"
   },
   {
    "duration": 20,
    "start_time": "2022-02-12T22:16:52.920Z"
   },
   {
    "duration": 12,
    "start_time": "2022-02-12T22:16:55.809Z"
   },
   {
    "duration": 14,
    "start_time": "2022-02-12T22:16:58.881Z"
   },
   {
    "duration": 32,
    "start_time": "2022-02-12T22:16:59.249Z"
   },
   {
    "duration": 37,
    "start_time": "2022-02-12T22:16:59.982Z"
   },
   {
    "duration": 6,
    "start_time": "2022-02-12T22:17:03.018Z"
   },
   {
    "duration": 15,
    "start_time": "2022-02-12T22:17:04.346Z"
   },
   {
    "duration": 16,
    "start_time": "2022-02-12T22:17:07.021Z"
   },
   {
    "duration": 11,
    "start_time": "2022-02-12T22:17:08.807Z"
   },
   {
    "duration": 10,
    "start_time": "2022-02-12T22:17:09.573Z"
   },
   {
    "duration": 15,
    "start_time": "2022-02-12T22:17:10.139Z"
   },
   {
    "duration": 10,
    "start_time": "2022-02-12T22:17:10.310Z"
   },
   {
    "duration": 9,
    "start_time": "2022-02-12T22:17:11.808Z"
   },
   {
    "duration": 10,
    "start_time": "2022-02-12T22:17:12.757Z"
   },
   {
    "duration": 12,
    "start_time": "2022-02-12T22:17:16.569Z"
   },
   {
    "duration": 12,
    "start_time": "2022-02-12T22:17:17.587Z"
   },
   {
    "duration": 13,
    "start_time": "2022-02-12T22:17:18.253Z"
   },
   {
    "duration": 8,
    "start_time": "2022-02-12T22:17:19.801Z"
   },
   {
    "duration": 513,
    "start_time": "2022-02-12T22:17:49.570Z"
   },
   {
    "duration": 3,
    "start_time": "2022-02-12T22:18:09.256Z"
   },
   {
    "duration": 5,
    "start_time": "2022-02-12T22:18:14.745Z"
   }
  ],
  "kernelspec": {
   "display_name": "Python 3 (ipykernel)",
   "language": "python",
   "name": "python3"
  },
  "language_info": {
   "codemirror_mode": {
    "name": "ipython",
    "version": 3
   },
   "file_extension": ".py",
   "mimetype": "text/x-python",
   "name": "python",
   "nbconvert_exporter": "python",
   "pygments_lexer": "ipython3",
   "version": "3.9.7"
  },
  "toc": {
   "base_numbering": 1,
   "nav_menu": {},
   "number_sections": true,
   "sideBar": true,
   "skip_h1_title": true,
   "title_cell": "Table of Contents",
   "title_sidebar": "Contents",
   "toc_cell": false,
   "toc_position": {},
   "toc_section_display": true,
   "toc_window_display": true
  }
 },
 "nbformat": 4,
 "nbformat_minor": 2
}
