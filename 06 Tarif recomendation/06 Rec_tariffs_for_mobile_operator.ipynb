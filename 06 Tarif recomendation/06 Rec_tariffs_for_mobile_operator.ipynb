{
 "cells": [
  {
   "cell_type": "markdown",
   "metadata": {
    "toc": true
   },
   "source": [
    "<h1>Содержание<span class=\"tocSkip\"></span></h1>\n",
    "<div class=\"toc\"><ul class=\"toc-item\"><li><span><a href=\"#Откройте-и-изучите-файл\" data-toc-modified-id=\"Откройте-и-изучите-файл-1\"><span class=\"toc-item-num\">1&nbsp;&nbsp;</span>Откройте и изучите файл</a></span><ul class=\"toc-item\"><li><span><a href=\"#Вывод\" data-toc-modified-id=\"Вывод-1.1\"><span class=\"toc-item-num\">1.1&nbsp;&nbsp;</span>Вывод</a></span></li></ul></li><li><span><a href=\"#Разбейте-данные-на-выборки\" data-toc-modified-id=\"Разбейте-данные-на-выборки-2\"><span class=\"toc-item-num\">2&nbsp;&nbsp;</span>Разбейте данные на выборки</a></span><ul class=\"toc-item\"><li><span><a href=\"#Вывод\" data-toc-modified-id=\"Вывод-2.1\"><span class=\"toc-item-num\">2.1&nbsp;&nbsp;</span>Вывод</a></span></li></ul></li><li><span><a href=\"#Исследуйте-модели\" data-toc-modified-id=\"Исследуйте-модели-3\"><span class=\"toc-item-num\">3&nbsp;&nbsp;</span>Исследуйте модели</a></span><ul class=\"toc-item\"><li><span><a href=\"#Вывод\" data-toc-modified-id=\"Вывод-3.1\"><span class=\"toc-item-num\">3.1&nbsp;&nbsp;</span>Вывод</a></span></li></ul></li><li><span><a href=\"#Проверьте-модель-на-тестовой-выборке\" data-toc-modified-id=\"Проверьте-модель-на-тестовой-выборке-4\"><span class=\"toc-item-num\">4&nbsp;&nbsp;</span>Проверьте модель на тестовой выборке</a></span><ul class=\"toc-item\"><li><span><a href=\"#Вывод\" data-toc-modified-id=\"Вывод-4.1\"><span class=\"toc-item-num\">4.1&nbsp;&nbsp;</span>Вывод</a></span></li></ul></li><li><span><a href=\"#(бонус)-Проверьте-модели-на-адекватность\" data-toc-modified-id=\"(бонус)-Проверьте-модели-на-адекватность-5\"><span class=\"toc-item-num\">5&nbsp;&nbsp;</span>(бонус) Проверьте модели на адекватность</a></span></li><li><span><a href=\"#Общий-вывод\" data-toc-modified-id=\"Общий-вывод-6\"><span class=\"toc-item-num\">6&nbsp;&nbsp;</span>Общий вывод</a></span></li><li><span><a href=\"#Чек-лист-готовности-проекта\" data-toc-modified-id=\"Чек-лист-готовности-проекта-7\"><span class=\"toc-item-num\">7&nbsp;&nbsp;</span>Чек-лист готовности проекта</a></span></li></ul></div>"
   ]
  },
  {
   "cell_type": "markdown",
   "metadata": {},
   "source": [
    "# Рекомендации тарифов для оператора мобильной связи «Мегалайн» "
   ]
  },
  {
   "cell_type": "markdown",
   "metadata": {},
   "source": [
    "*Оператор мобильной связи выяснил: многие клиенты пользуются архивными тарифами. Оператор хочет построить систему, способную проанализировать поведение клиентов и предложить пользователям новый тариф: «Смарт» или «Ультра».*  \n",
    "\n",
    "*В нашем распоряжении данные о поведении клиентов, которые уже перешли на эти тарифы. Цель - построить модель для задачи классификации, которая выберет подходящий тариф.*  \n",
    "\n",
    "**Описание данных**  \n",
    "*Каждый объект в наборе данных — это информация о поведении одного пользователя за месяц. Известно:*\n",
    "\n",
    "*`сalls` — количество звонков,  \n",
    "`minutes` — суммарная длительность звонков в минутах,  \n",
    "`messages` — количество sms-сообщений,  \n",
    "`mb_used` — израсходованный интернет-трафик в Мб,  \n",
    "`is_ultra` — каким тарифом пользовался в течение месяца («Ультра» — 1, «Смарт» — 0).*"
   ]
  },
  {
   "cell_type": "markdown",
   "metadata": {},
   "source": [
    "## Откройте и изучите файл"
   ]
  },
  {
   "cell_type": "code",
   "execution_count": 1,
   "metadata": {
    "ExecuteTime": {
     "end_time": "2022-05-24T07:55:50.643242Z",
     "start_time": "2022-05-24T07:55:49.361142Z"
    }
   },
   "outputs": [],
   "source": [
    "# импорт библиотек\n",
    "import pandas as pd\n",
    "import numpy as np\n",
    "import joblib \n",
    "import matplotlib.pyplot as plt\n",
    "import seaborn as sns\n",
    "import warnings\n",
    "\n",
    "# импорт статистики\n",
    "from scipy import stats as st\n",
    "\n",
    "# импорт моделей\n",
    "from sklearn.tree import DecisionTreeClassifier\n",
    "from sklearn.ensemble import RandomForestClassifier\n",
    "from sklearn.linear_model import LogisticRegression\n",
    "from sklearn.dummy import DummyClassifier\n",
    "from joblib import dump\n",
    "\n",
    "# импорт меткрик\n",
    "from sklearn.model_selection import train_test_split \n",
    "from sklearn.metrics import accuracy_score \n",
    "from sklearn.metrics import mean_squared_error\n",
    "\n",
    "# импорт разное\n",
    "from IPython.display import display_html\n",
    "from IPython.core.display import display, HTML"
   ]
  },
  {
   "cell_type": "code",
   "execution_count": 2,
   "metadata": {
    "ExecuteTime": {
     "end_time": "2022-05-24T07:55:50.675368Z",
     "start_time": "2022-05-24T07:55:50.648327Z"
    }
   },
   "outputs": [],
   "source": [
    "try:\n",
    "    users_behavior = pd.read_csv('/datasets/users_behavior.csv',sep=',')\n",
    "    pd.set_option('display.max_columns', None)\n",
    "    pd.options.mode.chained_assignment = None\n",
    "    warnings.filterwarnings('ignore')\n",
    "except:\n",
    "    users_behavior = pd.read_csv('users_behavior.csv',sep=',')\n",
    "    pd.set_option('display.max_columns', None)\n",
    "    pd.options.mode.chained_assignment = None\n",
    "    warnings.filterwarnings('ignore')"
   ]
  },
  {
   "cell_type": "code",
   "execution_count": 3,
   "metadata": {
    "ExecuteTime": {
     "end_time": "2022-05-24T07:55:50.691330Z",
     "start_time": "2022-05-24T07:55:50.679362Z"
    }
   },
   "outputs": [],
   "source": [
    "def info_row(df):\n",
    "    '''\n",
    "        Input: df - таблица pd.DataFrame.\n",
    "        Output: None.\n",
    "        Description: Функция первичного знакомства с данными.\n",
    "\n",
    "    '''\n",
    "    \n",
    "    display(df.head(10))\n",
    "    print('Общая информация:')\n",
    "    display(df.info())\n",
    "    print('Общая статистика:')\n",
    "    display(df.describe())\n",
    "    print('Дубликаты:')\n",
    "    display(df.duplicated().sum())\n",
    "    print(f'{df.duplicated().sum()/len(df):.1%}')\n",
    "    print()\n",
    "    print('Пропуски:')\n",
    "    for col in df.columns:\n",
    "        pct_missing = np.mean(df[col].isna())\n",
    "        print('{} - {}%'.format(col, round(pct_missing*100,2)))\n",
    "    print()\n",
    "    print('Уникальные значения столбцов:')\n",
    "    for row in df.columns:\n",
    "        print('Уникальные значения столбца', row)\n",
    "        print(df[row].unique())\n",
    "    print()\n",
    "    print('Матрица диаграмм:')\n",
    "    pd.plotting.scatter_matrix(df,figsize=(10,10))\n",
    "    plt.suptitle(\"Матрица диаграмм зависимостей\", size=20)\n",
    "    plt.show()\n",
    "    print('Heatmap корреляций:')\n",
    "    plt.figure(figsize=(10, 10))\n",
    "    heatmap = sns.heatmap(df.corr(), vmin=-1, vmax=1, annot=True,cmap='BrBG') \n",
    "    heatmap.set_title('Correlation Heatmap', fontdict={'fontsize':10}, pad=12);\n",
    "    plt.show()"
   ]
  },
  {
   "cell_type": "code",
   "execution_count": 4,
   "metadata": {
    "ExecuteTime": {
     "end_time": "2022-05-24T07:55:52.224058Z",
     "start_time": "2022-05-24T07:55:50.693324Z"
    }
   },
   "outputs": [
    {
     "data": {
      "text/html": [
       "<div>\n",
       "<style scoped>\n",
       "    .dataframe tbody tr th:only-of-type {\n",
       "        vertical-align: middle;\n",
       "    }\n",
       "\n",
       "    .dataframe tbody tr th {\n",
       "        vertical-align: top;\n",
       "    }\n",
       "\n",
       "    .dataframe thead th {\n",
       "        text-align: right;\n",
       "    }\n",
       "</style>\n",
       "<table border=\"1\" class=\"dataframe\">\n",
       "  <thead>\n",
       "    <tr style=\"text-align: right;\">\n",
       "      <th></th>\n",
       "      <th>calls</th>\n",
       "      <th>minutes</th>\n",
       "      <th>messages</th>\n",
       "      <th>mb_used</th>\n",
       "      <th>is_ultra</th>\n",
       "    </tr>\n",
       "  </thead>\n",
       "  <tbody>\n",
       "    <tr>\n",
       "      <th>0</th>\n",
       "      <td>40.0</td>\n",
       "      <td>311.90</td>\n",
       "      <td>83.0</td>\n",
       "      <td>19915.42</td>\n",
       "      <td>0</td>\n",
       "    </tr>\n",
       "    <tr>\n",
       "      <th>1</th>\n",
       "      <td>85.0</td>\n",
       "      <td>516.75</td>\n",
       "      <td>56.0</td>\n",
       "      <td>22696.96</td>\n",
       "      <td>0</td>\n",
       "    </tr>\n",
       "    <tr>\n",
       "      <th>2</th>\n",
       "      <td>77.0</td>\n",
       "      <td>467.66</td>\n",
       "      <td>86.0</td>\n",
       "      <td>21060.45</td>\n",
       "      <td>0</td>\n",
       "    </tr>\n",
       "    <tr>\n",
       "      <th>3</th>\n",
       "      <td>106.0</td>\n",
       "      <td>745.53</td>\n",
       "      <td>81.0</td>\n",
       "      <td>8437.39</td>\n",
       "      <td>1</td>\n",
       "    </tr>\n",
       "    <tr>\n",
       "      <th>4</th>\n",
       "      <td>66.0</td>\n",
       "      <td>418.74</td>\n",
       "      <td>1.0</td>\n",
       "      <td>14502.75</td>\n",
       "      <td>0</td>\n",
       "    </tr>\n",
       "    <tr>\n",
       "      <th>5</th>\n",
       "      <td>58.0</td>\n",
       "      <td>344.56</td>\n",
       "      <td>21.0</td>\n",
       "      <td>15823.37</td>\n",
       "      <td>0</td>\n",
       "    </tr>\n",
       "    <tr>\n",
       "      <th>6</th>\n",
       "      <td>57.0</td>\n",
       "      <td>431.64</td>\n",
       "      <td>20.0</td>\n",
       "      <td>3738.90</td>\n",
       "      <td>1</td>\n",
       "    </tr>\n",
       "    <tr>\n",
       "      <th>7</th>\n",
       "      <td>15.0</td>\n",
       "      <td>132.40</td>\n",
       "      <td>6.0</td>\n",
       "      <td>21911.60</td>\n",
       "      <td>0</td>\n",
       "    </tr>\n",
       "    <tr>\n",
       "      <th>8</th>\n",
       "      <td>7.0</td>\n",
       "      <td>43.39</td>\n",
       "      <td>3.0</td>\n",
       "      <td>2538.67</td>\n",
       "      <td>1</td>\n",
       "    </tr>\n",
       "    <tr>\n",
       "      <th>9</th>\n",
       "      <td>90.0</td>\n",
       "      <td>665.41</td>\n",
       "      <td>38.0</td>\n",
       "      <td>17358.61</td>\n",
       "      <td>0</td>\n",
       "    </tr>\n",
       "  </tbody>\n",
       "</table>\n",
       "</div>"
      ],
      "text/plain": [
       "   calls  minutes  messages   mb_used  is_ultra\n",
       "0   40.0   311.90      83.0  19915.42         0\n",
       "1   85.0   516.75      56.0  22696.96         0\n",
       "2   77.0   467.66      86.0  21060.45         0\n",
       "3  106.0   745.53      81.0   8437.39         1\n",
       "4   66.0   418.74       1.0  14502.75         0\n",
       "5   58.0   344.56      21.0  15823.37         0\n",
       "6   57.0   431.64      20.0   3738.90         1\n",
       "7   15.0   132.40       6.0  21911.60         0\n",
       "8    7.0    43.39       3.0   2538.67         1\n",
       "9   90.0   665.41      38.0  17358.61         0"
      ]
     },
     "metadata": {},
     "output_type": "display_data"
    },
    {
     "name": "stdout",
     "output_type": "stream",
     "text": [
      "Общая информация:\n",
      "<class 'pandas.core.frame.DataFrame'>\n",
      "RangeIndex: 3214 entries, 0 to 3213\n",
      "Data columns (total 5 columns):\n",
      " #   Column    Non-Null Count  Dtype  \n",
      "---  ------    --------------  -----  \n",
      " 0   calls     3214 non-null   float64\n",
      " 1   minutes   3214 non-null   float64\n",
      " 2   messages  3214 non-null   float64\n",
      " 3   mb_used   3214 non-null   float64\n",
      " 4   is_ultra  3214 non-null   int64  \n",
      "dtypes: float64(4), int64(1)\n",
      "memory usage: 125.7 KB\n"
     ]
    },
    {
     "data": {
      "text/plain": [
       "None"
      ]
     },
     "metadata": {},
     "output_type": "display_data"
    },
    {
     "name": "stdout",
     "output_type": "stream",
     "text": [
      "Общая статистика:\n"
     ]
    },
    {
     "data": {
      "text/html": [
       "<div>\n",
       "<style scoped>\n",
       "    .dataframe tbody tr th:only-of-type {\n",
       "        vertical-align: middle;\n",
       "    }\n",
       "\n",
       "    .dataframe tbody tr th {\n",
       "        vertical-align: top;\n",
       "    }\n",
       "\n",
       "    .dataframe thead th {\n",
       "        text-align: right;\n",
       "    }\n",
       "</style>\n",
       "<table border=\"1\" class=\"dataframe\">\n",
       "  <thead>\n",
       "    <tr style=\"text-align: right;\">\n",
       "      <th></th>\n",
       "      <th>calls</th>\n",
       "      <th>minutes</th>\n",
       "      <th>messages</th>\n",
       "      <th>mb_used</th>\n",
       "      <th>is_ultra</th>\n",
       "    </tr>\n",
       "  </thead>\n",
       "  <tbody>\n",
       "    <tr>\n",
       "      <th>count</th>\n",
       "      <td>3214.000000</td>\n",
       "      <td>3214.000000</td>\n",
       "      <td>3214.000000</td>\n",
       "      <td>3214.000000</td>\n",
       "      <td>3214.000000</td>\n",
       "    </tr>\n",
       "    <tr>\n",
       "      <th>mean</th>\n",
       "      <td>63.038892</td>\n",
       "      <td>438.208787</td>\n",
       "      <td>38.281269</td>\n",
       "      <td>17207.673836</td>\n",
       "      <td>0.306472</td>\n",
       "    </tr>\n",
       "    <tr>\n",
       "      <th>std</th>\n",
       "      <td>33.236368</td>\n",
       "      <td>234.569872</td>\n",
       "      <td>36.148326</td>\n",
       "      <td>7570.968246</td>\n",
       "      <td>0.461100</td>\n",
       "    </tr>\n",
       "    <tr>\n",
       "      <th>min</th>\n",
       "      <td>0.000000</td>\n",
       "      <td>0.000000</td>\n",
       "      <td>0.000000</td>\n",
       "      <td>0.000000</td>\n",
       "      <td>0.000000</td>\n",
       "    </tr>\n",
       "    <tr>\n",
       "      <th>25%</th>\n",
       "      <td>40.000000</td>\n",
       "      <td>274.575000</td>\n",
       "      <td>9.000000</td>\n",
       "      <td>12491.902500</td>\n",
       "      <td>0.000000</td>\n",
       "    </tr>\n",
       "    <tr>\n",
       "      <th>50%</th>\n",
       "      <td>62.000000</td>\n",
       "      <td>430.600000</td>\n",
       "      <td>30.000000</td>\n",
       "      <td>16943.235000</td>\n",
       "      <td>0.000000</td>\n",
       "    </tr>\n",
       "    <tr>\n",
       "      <th>75%</th>\n",
       "      <td>82.000000</td>\n",
       "      <td>571.927500</td>\n",
       "      <td>57.000000</td>\n",
       "      <td>21424.700000</td>\n",
       "      <td>1.000000</td>\n",
       "    </tr>\n",
       "    <tr>\n",
       "      <th>max</th>\n",
       "      <td>244.000000</td>\n",
       "      <td>1632.060000</td>\n",
       "      <td>224.000000</td>\n",
       "      <td>49745.730000</td>\n",
       "      <td>1.000000</td>\n",
       "    </tr>\n",
       "  </tbody>\n",
       "</table>\n",
       "</div>"
      ],
      "text/plain": [
       "             calls      minutes     messages       mb_used     is_ultra\n",
       "count  3214.000000  3214.000000  3214.000000   3214.000000  3214.000000\n",
       "mean     63.038892   438.208787    38.281269  17207.673836     0.306472\n",
       "std      33.236368   234.569872    36.148326   7570.968246     0.461100\n",
       "min       0.000000     0.000000     0.000000      0.000000     0.000000\n",
       "25%      40.000000   274.575000     9.000000  12491.902500     0.000000\n",
       "50%      62.000000   430.600000    30.000000  16943.235000     0.000000\n",
       "75%      82.000000   571.927500    57.000000  21424.700000     1.000000\n",
       "max     244.000000  1632.060000   224.000000  49745.730000     1.000000"
      ]
     },
     "metadata": {},
     "output_type": "display_data"
    },
    {
     "name": "stdout",
     "output_type": "stream",
     "text": [
      "Дубликаты:\n"
     ]
    },
    {
     "data": {
      "text/plain": [
       "0"
      ]
     },
     "metadata": {},
     "output_type": "display_data"
    },
    {
     "name": "stdout",
     "output_type": "stream",
     "text": [
      "0.0%\n",
      "\n",
      "Пропуски:\n",
      "calls - 0.0%\n",
      "minutes - 0.0%\n",
      "messages - 0.0%\n",
      "mb_used - 0.0%\n",
      "is_ultra - 0.0%\n",
      "\n",
      "Уникальные значения столбцов:\n",
      "Уникальные значения столбца calls\n",
      "[ 40.  85.  77. 106.  66.  58.  57.  15.   7.  90.  82.  45.  51.  56.\n",
      " 108.   6.   2.  26.  79.  49.  93.  48.  11.  53.  81. 154.  37.  50.\n",
      "  41.  10.  71.  65. 110. 120.  76.  64.  23.  34.  98.  35.   5.  70.\n",
      " 124. 129.  67.   0.  13.  68.  91. 121. 114. 125.  80.  33. 138.  84.\n",
      "  78.  69.  63.  72.  73.   1.  43. 118.  74.  83. 141. 117.  54. 101.\n",
      "  29.   3. 107.  55.  47. 158.  87.  28.  59.  52.  44.  17. 111. 109.\n",
      "  14.  92.  94.  46. 133.  75.  38.  60. 100.  31.  61.  89.  27. 196.\n",
      "  24.  99.  62. 162. 116. 123.  18.  21.  12.  86.  32.  95.  39.  30.\n",
      "  25.  36.  42. 113.   9. 183. 156. 127.  96.  16.   4. 102.  97.  20.\n",
      " 104. 144.  19. 132. 131. 136.  88. 115. 176. 160. 164. 169.  22. 105.\n",
      " 152. 177. 161. 112.   8. 126. 178. 103. 130. 198. 119. 137. 150. 122.\n",
      " 146. 151. 157. 203. 143. 148. 128. 185. 167. 181. 184. 171. 153. 140.\n",
      " 159. 188. 134. 189. 182. 173. 172. 145. 180. 155. 174. 244. 165. 163.\n",
      " 142. 168.]\n",
      "Уникальные значения столбца minutes\n",
      "[311.9  516.75 467.66 ... 634.44 462.32 566.09]\n",
      "Уникальные значения столбца messages\n",
      "[ 83.  56.  86.  81.   1.  21.  20.   6.   3.  38.  13.  61.  16.   0.\n",
      "   4.  90.  31.  97.  66.  19.  30.  52.  48.  44.  27.   7.   9.  43.\n",
      "  33.  34.  10. 106.  65.  17.  11.  29.  75.  47.  49.  64. 144.  99.\n",
      "  46.  24.  22.  55.   8.  93. 153.  37.  69.  18.  78.  42.  82.  62.\n",
      "  40.  57.  60.  58. 123.  26.  51. 109.   5.  39.  35.  79.  12. 182.\n",
      "  36. 126.  59. 102.  14. 133. 110.  54.  72. 103.  23. 108.  92.  73.\n",
      "  15.  25.  91. 113. 105.  85. 191.  32.  50. 145.  41. 150.  53. 171.\n",
      " 176.  68.  28.  76.  71. 118.  63. 132.  84.   2.  67. 111. 101.  96.\n",
      " 112.  95.  89. 143.  45.  70.  77.  94. 137. 107.  98. 141. 124. 129.\n",
      " 114.  87.  80. 117. 138. 142. 134. 128. 180. 115. 154.  74. 185. 121.\n",
      " 127. 116.  88. 140. 201. 100. 169. 155. 135. 151. 139. 131. 188. 157.\n",
      " 148. 104. 224. 158. 211. 120. 149. 190. 173. 172. 146. 162. 119. 178.\n",
      " 223. 130. 122. 159. 181. 125. 152. 197. 136. 165. 183. 170.]\n",
      "Уникальные значения столбца mb_used\n",
      "[19915.42 22696.96 21060.45 ... 13974.06 31239.78 29480.52]\n",
      "Уникальные значения столбца is_ultra\n",
      "[0 1]\n",
      "\n",
      "Матрица диаграмм:\n"
     ]
    },
    {
     "data": {
      "image/png": "[encoded data removed]",
      "text/plain": [
       "<Figure size 720x720 with 25 Axes>"
      ]
     },
     "metadata": {
      "needs_background": "light"
     },
     "output_type": "display_data"
    },
    {
     "name": "stdout",
     "output_type": "stream",
     "text": [
      "Heatmap корреляций:\n"
     ]
    },
    {
     "data": {
      "image/png": "[encoded data removed]",
      "text/plain": [
       "<Figure size 720x720 with 2 Axes>"
      ]
     },
     "metadata": {
      "needs_background": "light"
     },
     "output_type": "display_data"
    }
   ],
   "source": [
    "info_row(users_behavior)"
   ]
  },
  {
   "cell_type": "markdown",
   "metadata": {},
   "source": [
    "### Вывод"
   ]
  },
  {
   "cell_type": "markdown",
   "metadata": {},
   "source": [
    "*Данные состоят из 3214 наблюдений и 5 столбцов. Предобработка данных не понадобится, пропусков нет, а все данные в нужном формате. Можно приступать к разделению данных на выборки.*  \n",
    "*Два признака  коллинеарны, когда они находятся между собой в линейной зависимости, если коэффициент корреляции более 0,7.  \n",
    "    `Мультиколлинеарность` — корреляция независимых переменных, которая затрудняет оценку и анализ общего результата. Когда независимые переменные коррелируют друг с другом, говорят о возникновении мультиколлинеарности. Мультиколлинеарность может стать причиной переобучаемости модели, что приведет к неверному результату . Кроме того, избыточные коэффициенты увеличивают сложность модели машинного обучения, а значит, время ее тренировки возрастает. Две переменных коллинеарны, когда они находятся между собой в линейной зависимости, если коэффициент корреляции более 0,7.\"  \n",
    "   Коэфициент корреляции Пирсона между признаками `calls` и `minutes` равен 0,98, что говорит о ярком проявлении линейной связи между ними.  \n",
    "    Признаками `calls` и `minutes` -  мультиколлинеарны.  \n",
    "    Чтобы избавиться от мультиколлинарности, необходимо исключить из модели один из факторов. Так как данные о количестве звонков(`calls`) не являются необходимым признаком для определения тарифа, то избавимся от данной колонки, чтобы избежать негативного воздействия этого явления на обучаемую модель*\n"
   ]
  },
  {
   "cell_type": "markdown",
   "metadata": {},
   "source": [
    "## Разбейте данные на выборки"
   ]
  },
  {
   "cell_type": "markdown",
   "metadata": {},
   "source": [
    "*Выведем признаки очистив их от лишних данных и присвоим `features` и целевой признак присвоим переменной `target`.*"
   ]
  },
  {
   "cell_type": "code",
   "execution_count": 5,
   "metadata": {
    "ExecuteTime": {
     "end_time": "2022-05-24T07:55:52.239486Z",
     "start_time": "2022-05-24T07:55:52.225027Z"
    }
   },
   "outputs": [],
   "source": [
    "features = users_behavior.drop(['calls','is_ultra'], axis=1)\n",
    "target = users_behavior['is_ultra']"
   ]
  },
  {
   "cell_type": "markdown",
   "metadata": {},
   "source": [
    "*Целевой признак и признаки извлечены, теперь необходимо разделить данные на валидационную, тестовую и тренировочную выборки.  \n",
    "Так как спрятанной тестовой выборки нет. Значит, данные будем разбивать на три части: обучающую, валидационную и тестовую. Размеры тестового и валидационного наборов делаем равными. Соответственно исходные данные разбиваем в соотношении 60%:20%:20%.*"
   ]
  },
  {
   "cell_type": "code",
   "execution_count": 6,
   "metadata": {
    "ExecuteTime": {
     "end_time": "2022-05-24T07:55:52.255443Z",
     "start_time": "2022-05-24T07:55:52.240462Z"
    }
   },
   "outputs": [
    {
     "data": {
      "text/html": [
       "<font color='orange'>Кортеж измерений массива target_train: (1928,)</font>"
      ],
      "text/plain": [
       "<IPython.core.display.HTML object>"
      ]
     },
     "metadata": {},
     "output_type": "display_data"
    },
    {
     "data": {
      "text/html": [
       "<font color='blue'>Кортеж измерений массива target_test: (1286,)</font>"
      ],
      "text/plain": [
       "<IPython.core.display.HTML object>"
      ]
     },
     "metadata": {},
     "output_type": "display_data"
    },
    {
     "data": {
      "text/html": [
       "<font color='orange'>Кортеж измерений массива features_train: (1928, 3)</font>"
      ],
      "text/plain": [
       "<IPython.core.display.HTML object>"
      ]
     },
     "metadata": {},
     "output_type": "display_data"
    },
    {
     "data": {
      "text/html": [
       "<font color='blue'>Кортеж измерений массива features_test: (1286, 3)</font>"
      ],
      "text/plain": [
       "<IPython.core.display.HTML object>"
      ]
     },
     "metadata": {},
     "output_type": "display_data"
    }
   ],
   "source": [
    "features_train, features_test, target_train, target_test = train_test_split(\n",
    "    features, target, train_size=0.60,random_state=12345)\n",
    "\n",
    "display(HTML(f\"<font color='orange'>Кортеж измерений массива target_train: {target_train.shape}</font>\"))\n",
    "display(HTML(f\"<font color='blue'>Кортеж измерений массива target_test: {target_test.shape}</font>\"))\n",
    "display(HTML(f\"<font color='orange'>Кортеж измерений массива features_train: {features_train.shape}</font>\"))\n",
    "display(HTML(f\"<font color='blue'>Кортеж измерений массива features_test: {features_test.shape}</font>\"))\n",
    "\n",
    "# Отделяем  40% данных для временной тестовой выборки"
   ]
  },
  {
   "cell_type": "code",
   "execution_count": 7,
   "metadata": {
    "ExecuteTime": {
     "end_time": "2022-05-24T07:55:52.271401Z",
     "start_time": "2022-05-24T07:55:52.256419Z"
    }
   },
   "outputs": [
    {
     "data": {
      "text/html": [
       "<font color='orange'>Кортеж измерений массива target_test: (643,)</font>"
      ],
      "text/plain": [
       "<IPython.core.display.HTML object>"
      ]
     },
     "metadata": {},
     "output_type": "display_data"
    },
    {
     "data": {
      "text/html": [
       "<font color='blue'>Кортеж измерений массива target_valid: (643,)</font>"
      ],
      "text/plain": [
       "<IPython.core.display.HTML object>"
      ]
     },
     "metadata": {},
     "output_type": "display_data"
    },
    {
     "data": {
      "text/html": [
       "<font color='orange'>Кортеж измерений массива features_test: (643, 3)</font>"
      ],
      "text/plain": [
       "<IPython.core.display.HTML object>"
      ]
     },
     "metadata": {},
     "output_type": "display_data"
    },
    {
     "data": {
      "text/html": [
       "<font color='blue'>Кортеж измерений массива features_valid: (643, 3)</font>"
      ],
      "text/plain": [
       "<IPython.core.display.HTML object>"
      ]
     },
     "metadata": {},
     "output_type": "display_data"
    }
   ],
   "source": [
    "features_test, features_valid, target_test, target_valid = train_test_split(\n",
    "    features_test, target_test, train_size=0.50,random_state=12345)\n",
    "\n",
    "display(HTML(f\"<font color='orange'>Кортеж измерений массива target_test: {target_test.shape}</font>\"))\n",
    "display(HTML(f\"<font color='blue'>Кортеж измерений массива target_valid: {target_valid.shape}</font>\"))\n",
    "display(HTML(f\"<font color='orange'>Кортеж измерений массива features_test: {features_test.shape}</font>\"))\n",
    "display(HTML(f\"<font color='blue'>Кортеж измерений массива features_valid: {features_valid.shape}</font>\"))\n",
    "# Делим временную тестовую выборку на тестовую и валидационную поровну "
   ]
  },
  {
   "cell_type": "markdown",
   "metadata": {},
   "source": [
    "### Вывод"
   ]
  },
  {
   "cell_type": "markdown",
   "metadata": {},
   "source": [
    "*Данные разделены на три выборки:  \n",
    "Обучающая: `features_train` - признаки, `target_train` - целевой признак  \n",
    "Валидационная: `features_valid` - признаки, `target_valid` - целевой признак    \n",
    "Тренировочная: `features_test` - признаки, `target_test` - целевой признак    \n",
    "В соотношении 60%/20%/20%*"
   ]
  },
  {
   "cell_type": "markdown",
   "metadata": {},
   "source": [
    "## Исследуйте модели"
   ]
  },
  {
   "cell_type": "markdown",
   "metadata": {},
   "source": [
    "*Исследуем качество моделей* ***`Дерева решений`***.  \n",
    "\n",
    "*В первом случае меняем значения `min_samples_split` и `min_samples_leaf`, выставляя предельные значения и постепенно уменьшая их так, чтобы качество класификатора не терялось.*\n"
   ]
  },
  {
   "cell_type": "code",
   "execution_count": 8,
   "metadata": {
    "ExecuteTime": {
     "end_time": "2022-05-24T07:55:52.395357Z",
     "start_time": "2022-05-24T07:55:52.272377Z"
    }
   },
   "outputs": [
    {
     "data": {
      "text/html": [
       "<font color='blue'>Accuracy наилучшей модели на валидационной выборке: 0.807153965785381</font>"
      ],
      "text/plain": [
       "<IPython.core.display.HTML object>"
      ]
     },
     "metadata": {},
     "output_type": "display_data"
    },
    {
     "data": {
      "text/html": [
       "<font color='blue'>Минимальное количество примеров для разделения: 2</font>"
      ],
      "text/plain": [
       "<IPython.core.display.HTML object>"
      ]
     },
     "metadata": {},
     "output_type": "display_data"
    },
    {
     "data": {
      "text/html": [
       "<font color='blue'>Минимальное количество объектов в листе: 16</font>"
      ],
      "text/plain": [
       "<IPython.core.display.HTML object>"
      ]
     },
     "metadata": {},
     "output_type": "display_data"
    },
    {
     "name": "stdout",
     "output_type": "stream",
     "text": [
      "Wall time: 107 ms\n"
     ]
    }
   ],
   "source": [
    "%%time\n",
    "best_model_split_leaf = None\n",
    "best_result_tree = 0\n",
    "\n",
    "for i,split in enumerate(range(2,3,1)):\n",
    "    for j,leaf in enumerate(range(1,17,1)):\n",
    "        model_tree = DecisionTreeClassifier(random_state=12345,min_samples_split=split,min_samples_leaf=leaf)\n",
    "        model_tree.fit(features_train,target_train)\n",
    "        result_tree = model_tree.score(features_valid,target_valid)\n",
    "        \n",
    "        if result_tree > best_result_tree:\n",
    "            best_model_split_leaf = model_tree \n",
    "            best_result_tree = result_tree\n",
    "\n",
    "display(HTML(f\"<font color='blue'>Accuracy наилучшей модели на валидационной выборке: {best_result_tree}</font>\"))  \n",
    "display(HTML(f\"<font color='blue'>Минимальное количество примеров для разделения: {split}</font>\"))\n",
    "display(HTML(f\"<font color='blue'>Минимальное количество объектов в листе: {leaf}</font>\"))"
   ]
  },
  {
   "cell_type": "markdown",
   "metadata": {},
   "source": [
    "*Удалось подобрать минимальные значения:  \n",
    "`min_samples_split`(Минимальное количество примеров для разделения: 2);  \n",
    "`min_samples_leaf`(Минимальное количество объектов в листе: 16)*"
   ]
  },
  {
   "cell_type": "markdown",
   "metadata": {},
   "source": [
    "*В целях избежания возможного `переобучения модели`, пробуем уменьшать гиперпараметр `max_depth`, при выбранных минимальных значениях `min_samples_leaf` и `min_samples_split` и сохранении полученной точности модели.*"
   ]
  },
  {
   "cell_type": "code",
   "execution_count": 9,
   "metadata": {
    "ExecuteTime": {
     "end_time": "2022-05-24T07:55:52.457922Z",
     "start_time": "2022-05-24T07:55:52.395812Z"
    }
   },
   "outputs": [
    {
     "data": {
      "text/html": [
       "<font color='blue'>Accuracy наилучшей модели на валидационной выборке: 0.807153965785381</font>"
      ],
      "text/plain": [
       "<IPython.core.display.HTML object>"
      ]
     },
     "metadata": {},
     "output_type": "display_data"
    },
    {
     "data": {
      "text/html": [
       "<font color='blue'>Максимально допустимая глубина дерева: 8</font>"
      ],
      "text/plain": [
       "<IPython.core.display.HTML object>"
      ]
     },
     "metadata": {},
     "output_type": "display_data"
    },
    {
     "name": "stdout",
     "output_type": "stream",
     "text": [
      "Wall time: 44.9 ms\n"
     ]
    }
   ],
   "source": [
    "%%time\n",
    "best_model_depth = None\n",
    "best_result_tree = 0\n",
    "\n",
    "\n",
    "for depth in range(1, 9,1):\n",
    "    model_tree = DecisionTreeClassifier(random_state=12345,min_samples_leaf=16, min_samples_split=2, max_depth=depth)\n",
    "    model_tree.fit(features_train,target_train)\n",
    "    result_tree = model_tree.score(features_valid,target_valid)\n",
    "\n",
    "    \n",
    "    if result_tree > best_result_tree:\n",
    "        best_model_depth = model_tree \n",
    "        best_result_tree = result_tree\n",
    "        joblib.dump(best_model_depth, 'best_model_depth.joblib')\n",
    "display(HTML(f\"<font color='blue'>Accuracy наилучшей модели на валидационной выборке: {best_result_tree}</font>\"))  \n",
    "display(HTML(f\"<font color='blue'>Максимально допустимая глубина дерева: {depth}</font>\"))\n",
    "\n",
    "# сохранили наилучшую модель "
   ]
  },
  {
   "cell_type": "markdown",
   "metadata": {},
   "source": [
    "*Вручную меняя максимальный предел удалось получить минимальное значение `max_depth`(максимально допустимая глубина дерева), равное 9.*  \n",
    "\n",
    "*Итоговая точность модели `Решающее дерево` с минимальными значениями гиперпараметров:  \n",
    "`max_depth`=9,`min_samples_split`=2,`min_samples_leaf`=16  \n",
    "<font color='blue'>Accuracy наилучшей модели на валидационной выборке: 0.807153965785381</font>*"
   ]
  },
  {
   "cell_type": "markdown",
   "metadata": {},
   "source": [
    "*Исследуем качество моделей* ***`Случайный лес`***.  \n",
    "\n",
    "Пробуем менять `min_samples_leaf` и `min_samples_split`."
   ]
  },
  {
   "cell_type": "code",
   "execution_count": 10,
   "metadata": {
    "ExecuteTime": {
     "end_time": "2022-05-24T07:55:57.764423Z",
     "start_time": "2022-05-24T07:55:52.458952Z"
    }
   },
   "outputs": [
    {
     "data": {
      "text/html": [
       "<font color='blue'>Accuracy наилучшей модели на валидационной выборке: 0.8118195956454122</font>"
      ],
      "text/plain": [
       "<IPython.core.display.HTML object>"
      ]
     },
     "metadata": {},
     "output_type": "display_data"
    },
    {
     "data": {
      "text/html": [
       "<font color='blue'>Минимальное количество примеров для разделения: 9</font>"
      ],
      "text/plain": [
       "<IPython.core.display.HTML object>"
      ]
     },
     "metadata": {},
     "output_type": "display_data"
    },
    {
     "data": {
      "text/html": [
       "<font color='blue'>Минимальное количество объектов в листе: 3</font>"
      ],
      "text/plain": [
       "<IPython.core.display.HTML object>"
      ]
     },
     "metadata": {},
     "output_type": "display_data"
    },
    {
     "name": "stdout",
     "output_type": "stream",
     "text": [
      "Wall time: 5.29 s\n"
     ]
    }
   ],
   "source": [
    "%%time\n",
    "best_model_forest = None\n",
    "best_result_forest = 0\n",
    "\n",
    "for i,split in enumerate(range(2,10)):\n",
    "    for j,leaf in enumerate(range(1,4)):\n",
    "        model_forest = RandomForestClassifier(random_state=12345, min_samples_split=split,min_samples_leaf=leaf) \n",
    "        model_forest.fit(features_train,target_train)\n",
    "\n",
    "     \n",
    "        result_forest = model_forest.score(features_valid,target_valid) \n",
    "        if result_forest > best_result_forest:\n",
    "            best_model_forest = model_forest\n",
    "            best_result_forest = result_forest\n",
    "            \n",
    "display(HTML(f\"<font color='blue'>Accuracy наилучшей модели на валидационной выборке: {best_result_forest}</font>\"))  \n",
    "display(HTML(f\"<font color='blue'>Минимальное количество примеров для разделения: {split}</font>\"))\n",
    "display(HTML(f\"<font color='blue'>Минимальное количество объектов в листе: {leaf}</font>\"))"
   ]
  },
  {
   "cell_type": "markdown",
   "metadata": {},
   "source": [
    "*Удалось подобрать минимальные значения:  \n",
    "`min_samples_split`(Минимальное количество примеров для разделения: 9);  \n",
    "`min_samples_leaf`(Минимальное количество объектов в листе: 3)*"
   ]
  },
  {
   "cell_type": "markdown",
   "metadata": {},
   "source": [
    "*Пробуем менять только лишь `n_estimators`(количество деревьев в лесу), при заданных значениях `min_samples_split`=9 и  \n",
    "`min_samples_leaf`=3*"
   ]
  },
  {
   "cell_type": "code",
   "execution_count": 11,
   "metadata": {
    "ExecuteTime": {
     "end_time": "2022-05-24T07:56:08.598126Z",
     "start_time": "2022-05-24T07:55:57.765420Z"
    }
   },
   "outputs": [
    {
     "data": {
      "text/html": [
       "<font color='blue'>Accuracy наилучшей модели на валидационной выборке: 0.8118195956454122</font>"
      ],
      "text/plain": [
       "<IPython.core.display.HTML object>"
      ]
     },
     "metadata": {},
     "output_type": "display_data"
    },
    {
     "data": {
      "text/html": [
       "<font color='blue'>Количество деревьев наилучшей модели Случайный лес: 100</font>"
      ],
      "text/plain": [
       "<IPython.core.display.HTML object>"
      ]
     },
     "metadata": {},
     "output_type": "display_data"
    },
    {
     "name": "stdout",
     "output_type": "stream",
     "text": [
      "Wall time: 10.8 s\n"
     ]
    }
   ],
   "source": [
    "%%time\n",
    "best_model_forest_est = None\n",
    "best_result_forest_est = 0\n",
    "\n",
    "for est in range(1, 101):\n",
    "    model_forest = RandomForestClassifier(random_state=12345,min_samples_split=9, min_samples_leaf=3, n_estimators=est) \n",
    "    model_forest.fit(features_train,target_train)\n",
    "\n",
    "    \n",
    "    result_forest = model_forest.score(features_valid,target_valid) \n",
    "    if result_forest > best_result_forest_est:\n",
    "        best_model_forest_est = model_forest\n",
    "        best_result_forest_est = result_forest\n",
    "        joblib.dump(best_model_forest_est, 'best_model_forest.joblib')\n",
    "display(HTML(f\"<font color='blue'>Accuracy наилучшей модели на валидационной выборке: {best_result_forest_est}</font>\"))  \n",
    "display(HTML(f\"<font color='blue'>Количество деревьев наилучшей модели Случайный лес: {est}</font>\"))\n",
    "\n",
    "# сохранили наилучшую модель"
   ]
  },
  {
   "cell_type": "markdown",
   "metadata": {},
   "source": [
    "*При заданных значениях гиперпараметров `min_samples_split`=9 и `min_samples_leaf`=3, с сохранением исходной точности, минимальное значение `n_estimators`:*  \n",
    "\n",
    "<font color='blue'>*Количество деревьев наилучшей модели Случайный лес: 100* </font>."
   ]
  },
  {
   "cell_type": "markdown",
   "metadata": {},
   "source": [
    "*Исследуем качество моделей* ***`Логистической регрессии`***"
   ]
  },
  {
   "cell_type": "code",
   "execution_count": 12,
   "metadata": {
    "ExecuteTime": {
     "end_time": "2022-05-24T07:56:08.630040Z",
     "start_time": "2022-05-24T07:56:08.600127Z"
    }
   },
   "outputs": [
    {
     "data": {
      "text/html": [
       "<font color='blue'>Accuracy модели логистической регрессии на валидационной выборке:0.6982892690513219</font>"
      ],
      "text/plain": [
       "<IPython.core.display.HTML object>"
      ]
     },
     "metadata": {},
     "output_type": "display_data"
    },
    {
     "name": "stdout",
     "output_type": "stream",
     "text": [
      "Wall time: 18.9 ms\n"
     ]
    }
   ],
   "source": [
    "%%time\n",
    "model_log_reg = LogisticRegression(random_state=12345)\n",
    "model_log_reg.fit(features_train,target_train) \n",
    "result_log_reg = model_log_reg.score(features_valid,target_valid) \n",
    "\n",
    "joblib.dump(model_log_reg, 'model_log_reg.joblib')\n",
    "\n",
    "display(HTML(f\"<font color='blue'>Accuracy модели логистической регрессии на валидационной выборке:\\\n",
    "{result_log_reg}</font>\"))\n",
    "\n",
    "# сохранили модель"
   ]
  },
  {
   "cell_type": "markdown",
   "metadata": {},
   "source": [
    "### Вывод"
   ]
  },
  {
   "cell_type": "markdown",
   "metadata": {},
   "source": [
    "* *Самым быстрым и наименее точным оказался метод* ***`Логистической регрессии`***. *Accuracy = 0.6982892690513219. - Не проходит по заданной точности 0.75*   \n",
    "* *Наиболее точным(из мной проверенных вариаций) и наиболее долгим является метод* ***`RandomForestClassifier(Случайный лес)`***.  \n",
    "\n",
    "<font color='blue'>*Accuracy = 0.812.*</font> \n",
    "  \n",
    "* *Наиболее оптимальным с точки зрения точность/время выполнения является метод* ***`DecisionTreeClassifier(Дерева решений)`***.  \n",
    "\n",
    "<font color='blue'>*Accuracy = 0.807.*</font>   "
   ]
  },
  {
   "cell_type": "markdown",
   "metadata": {},
   "source": [
    "## Проверьте модель на тестовой выборке"
   ]
  },
  {
   "cell_type": "markdown",
   "metadata": {},
   "source": [
    "*Протестируем качество модели* ***`Дерева решений`*** *на тестовой выборке.  \n",
    "Выбрали оптимальный вариант с гиперпараметрами:  \n",
    "`max_depth`=9,`min_samples_split`=2,`min_samples_leaf`=16*"
   ]
  },
  {
   "cell_type": "code",
   "execution_count": 13,
   "metadata": {
    "ExecuteTime": {
     "end_time": "2022-05-24T07:56:08.645997Z",
     "start_time": "2022-05-24T07:56:08.631037Z"
    }
   },
   "outputs": [
    {
     "data": {
      "text/html": [
       "<font color='blue'>Accuracy модели Дерева решений на тестовой выборке:0.7776049766718507</font>"
      ],
      "text/plain": [
       "<IPython.core.display.HTML object>"
      ]
     },
     "metadata": {},
     "output_type": "display_data"
    }
   ],
   "source": [
    "model_tree_test = DecisionTreeClassifier(random_state=12345,min_samples_leaf=16,min_samples_split=2,max_depth=9)\n",
    "model_tree_test.fit(features_train,target_train)\n",
    "\n",
    "test_predictions_tree = model_tree_test.predict(features_test)\n",
    "\n",
    "\n",
    "display(HTML(f\"<font color='blue'>Accuracy модели Дерева решений на тестовой выборке:\\\n",
    "{accuracy_score(test_predictions_tree,target_test)}</font>\"))"
   ]
  },
  {
   "cell_type": "markdown",
   "metadata": {},
   "source": [
    "*Протестируем качество модели* ***`Случайный лес`*** *на тестовой выборке.  \n",
    "Выбрали оптимальный вариант с гиперпараметрами:  \n",
    "`min_samples_split`=9 и `min_samples_leaf`=3,`n_estimators` = 100*"
   ]
  },
  {
   "cell_type": "code",
   "execution_count": 14,
   "metadata": {
    "ExecuteTime": {
     "end_time": "2022-05-24T07:56:08.853621Z",
     "start_time": "2022-05-24T07:56:08.646996Z"
    }
   },
   "outputs": [
    {
     "data": {
      "text/html": [
       "<font color='blue'>Accuracy модели Случайный лес на тестовой выборке:0.7807153965785381</font>"
      ],
      "text/plain": [
       "<IPython.core.display.HTML object>"
      ]
     },
     "metadata": {},
     "output_type": "display_data"
    }
   ],
   "source": [
    "model_forest_test = RandomForestClassifier(random_state=12345,min_samples_split=9, n_estimators=100,min_samples_leaf=29) \n",
    "model_forest_test.fit(features_train,target_train)\n",
    "test_predictions_forest = model_forest_test.predict(features_test)\n",
    "\n",
    "\n",
    "display(HTML(f\"<font color='blue'>Accuracy модели Случайный лес на тестовой выборке:\\\n",
    "{accuracy_score(test_predictions_forest,target_test)}</font>\"))"
   ]
  },
  {
   "cell_type": "markdown",
   "metadata": {},
   "source": [
    "### Вывод"
   ]
  },
  {
   "cell_type": "markdown",
   "metadata": {},
   "source": [
    "*На тестовой выборке модели `DecisionTreeClassifier`(Дерево решений) и `RandomForestClassifier`(Случайный лес) показали практически одинаковую точность `0.78`.*  \n",
    "*С учетом того, что модель `DecisionTreeClassifier`(Дерево решений) работает быстрее, целесообразнее выбрать ее в качестве алгоритма предсказания оптимальных тарифов, в случае большого набора данных.*"
   ]
  },
  {
   "cell_type": "markdown",
   "metadata": {},
   "source": [
    "## (бонус) Проверьте модели на адекватность"
   ]
  },
  {
   "cell_type": "markdown",
   "metadata": {},
   "source": [
    "*Вероятность ошибки случайной модели - 50%.  \n",
    "Вероятность же ошибки выбранных моделей - 22%, что естественно ниже.  \n",
    "Следует считать данные модели адекватными.*  \n",
    "\n",
    "*Так же выбранную модель можно проверить на адекватность сравнив с моделью `DummyClassifier` библиотеки `Sklearn`.  \n",
    "Этот классификатор служит простой базой для сравнения с другими более сложными классификаторами.  \n",
    "Конкретное поведение базовой линии выбирается с помощью параметра `strategy`.  \n",
    "Сравним с двумя вариантами данного классификатора, используя аргументы `strategy`:*  \n",
    "- *`most_frequent`,который всегда предсказывает наиболее частую метку в обучающем наборе.*\n",
    "- *`uniform`, генерирует прогнозы равномерно случайным образом из списка уникальных классов в обучающем наборе(фактически имитирует случайную модель).*"
   ]
  },
  {
   "cell_type": "code",
   "execution_count": 15,
   "metadata": {
    "ExecuteTime": {
     "end_time": "2022-05-24T07:56:08.900554Z",
     "start_time": "2022-05-24T07:56:08.860612Z"
    }
   },
   "outputs": [
    {
     "data": {
      "text/html": [
       "<font color='blue'>Уникальные значения:[0 1]</font>"
      ],
      "text/plain": [
       "<IPython.core.display.HTML object>"
      ]
     },
     "metadata": {},
     "output_type": "display_data"
    },
    {
     "data": {
      "text/html": [
       "<font color='blue'>Тестовые значения значения accuracy:0.5038880248833593</font>"
      ],
      "text/plain": [
       "<IPython.core.display.HTML object>"
      ]
     },
     "metadata": {},
     "output_type": "display_data"
    }
   ],
   "source": [
    "\n",
    "dummy_uniform = DummyClassifier(strategy='uniform', random_state=12345).fit(features_train, target_train)\n",
    "dummy_pred = dummy_uniform.predict(features_test)\n",
    "\n",
    "\n",
    "display(HTML(f\"<font color='blue'>Уникальные значения:{np.unique(dummy_pred)}</font>\"))\n",
    "display(HTML(f\"<font color='blue'>Тестовые значения значения accuracy:{accuracy_score(target_test, dummy_pred)}</font>\"))\n",
    "\n",
    "# Обучение модели с аргументом strategy = 'uniform'"
   ]
  },
  {
   "cell_type": "markdown",
   "metadata": {},
   "source": [
    "*Как и предполагалось вероятность \"случайного метода\" - 50/50*"
   ]
  },
  {
   "cell_type": "code",
   "execution_count": 16,
   "metadata": {
    "ExecuteTime": {
     "end_time": "2022-05-24T07:56:08.932559Z",
     "start_time": "2022-05-24T07:56:08.906489Z"
    }
   },
   "outputs": [
    {
     "data": {
      "text/html": [
       "<font color='blue'>Уникальные значения:[0]</font>"
      ],
      "text/plain": [
       "<IPython.core.display.HTML object>"
      ]
     },
     "metadata": {},
     "output_type": "display_data"
    },
    {
     "data": {
      "text/html": [
       "<font color='blue'>Тестовые значения значения accuracy:0.7060653188180405</font>"
      ],
      "text/plain": [
       "<IPython.core.display.HTML object>"
      ]
     },
     "metadata": {},
     "output_type": "display_data"
    }
   ],
   "source": [
    "dummy_frequent = DummyClassifier(strategy=\"most_frequent\", random_state=12345).fit(features_train, target_train)\n",
    "dummy_pred_f = dummy_frequent.predict(features_test)\n",
    "\n",
    "\n",
    "display(HTML(f\"<font color='blue'>Уникальные значения:{np.unique(dummy_pred_f)}</font>\"))\n",
    "display(HTML(f\"<font color='blue'>Тестовые значения значения accuracy:{accuracy_score(target_test, dummy_pred_f)}</font>\"))\n",
    "# Обучение модели с аргументом strategy = 'most_frequent'"
   ]
  },
  {
   "cell_type": "markdown",
   "metadata": {},
   "source": [
    "*Данный метод выдал вероятность ошибки - 29%, что является ниже процента ошибки случайной модели, но выше обеих выбранных оптимальных моделей.*"
   ]
  },
  {
   "cell_type": "markdown",
   "metadata": {},
   "source": [
    "## Общий вывод"
   ]
  },
  {
   "cell_type": "markdown",
   "metadata": {},
   "source": [
    "*Оптимальные модели для задачи классификации, которая выберет подходящий тариф (`Смарт` или `Ультра`), соответствующий потребностям клиентов компании \"Мегалайн\", пользующихся архивными тарифами:  \n",
    "Модель на алгоритме классификации `DecisionTreeClassifier`(Дерево решений) с гиперпараметрами:*   \n",
    "`max_depth` = 9  \n",
    "`min_samples_leaf` = 16  \n",
    "`min_samples_split`=2\n",
    "\n",
    "*Данная модель обладает точностью принятия решения - 0.78(согласно проверке на тестовой сборке), что выше порогового значения в 0.75. Предназначена для оценки больших массивов данных.*  \n",
    "\n",
    "Модель на алгоритме классификации `RandomForestClassifier`(Дерево решений) с гиперпараметрами:   \n",
    "`n_estimators` = 100  \n",
    "`min_samples_leaf` = 3  \n",
    "`min_samples_split`=9  \n",
    "*Данная модель обладает точностью принятия решения - 0.78(согласно проверке на тестовой сборке), что выше порогового значения в 0.75. Предназначена для оценки меньших массивов данных, ввиду более долгого времени исполнения и большей нагрузки на систему.*"
   ]
  }
 ],
 "metadata": {
  "ExecuteTimeLog": [
   {
    "duration": 1077,
    "start_time": "2022-03-11T09:35:22.566Z"
   },
   {
    "duration": 5130,
    "start_time": "2022-03-11T09:35:47.135Z"
   },
   {
    "duration": 29,
    "start_time": "2022-03-11T09:36:08.399Z"
   },
   {
    "duration": 13,
    "start_time": "2022-03-11T09:36:17.862Z"
   },
   {
    "duration": 9,
    "start_time": "2022-03-11T09:36:26.838Z"
   },
   {
    "duration": 7,
    "start_time": "2022-03-11T09:36:42.918Z"
   },
   {
    "duration": 11,
    "start_time": "2022-03-11T09:36:59.278Z"
   },
   {
    "duration": 13,
    "start_time": "2022-03-11T09:37:17.022Z"
   },
   {
    "duration": 21,
    "start_time": "2022-03-11T09:37:32.213Z"
   },
   {
    "duration": 6,
    "start_time": "2022-03-11T09:37:52.510Z"
   },
   {
    "duration": 4,
    "start_time": "2022-03-11T09:38:00.261Z"
   },
   {
    "duration": 4,
    "start_time": "2022-03-11T09:39:13.582Z"
   },
   {
    "duration": 444,
    "start_time": "2022-03-11T09:39:34.163Z"
   },
   {
    "duration": 430,
    "start_time": "2022-03-11T09:39:47.896Z"
   },
   {
    "duration": 442,
    "start_time": "2022-03-11T09:41:42.125Z"
   },
   {
    "duration": 1329,
    "start_time": "2022-03-11T09:42:28.620Z"
   },
   {
    "duration": 960,
    "start_time": "2022-03-11T09:43:03.292Z"
   },
   {
    "duration": 3,
    "start_time": "2022-03-11T09:46:41.795Z"
   },
   {
    "duration": 19,
    "start_time": "2022-03-11T09:46:44.073Z"
   },
   {
    "duration": 966,
    "start_time": "2022-03-11T09:46:51.177Z"
   },
   {
    "duration": 14674,
    "start_time": "2022-03-11T09:47:36.987Z"
   },
   {
    "duration": 438,
    "start_time": "2022-03-11T09:48:25.042Z"
   },
   {
    "duration": 110,
    "start_time": "2022-03-11T09:49:31.837Z"
   },
   {
    "duration": 315,
    "start_time": "2022-03-11T09:50:10.709Z"
   },
   {
    "duration": 203,
    "start_time": "2022-03-11T09:51:53.625Z"
   },
   {
    "duration": 209,
    "start_time": "2022-03-11T09:52:15.608Z"
   },
   {
    "duration": 1355,
    "start_time": "2022-03-11T13:42:11.814Z"
   },
   {
    "duration": 20,
    "start_time": "2022-03-11T13:42:13.171Z"
   },
   {
    "duration": 27,
    "start_time": "2022-03-11T13:42:13.194Z"
   },
   {
    "duration": 15,
    "start_time": "2022-03-11T13:42:13.535Z"
   },
   {
    "duration": 12,
    "start_time": "2022-03-11T13:42:14.086Z"
   },
   {
    "duration": 15,
    "start_time": "2022-03-11T13:42:14.606Z"
   },
   {
    "duration": 22,
    "start_time": "2022-03-11T13:42:15.140Z"
   },
   {
    "duration": 34,
    "start_time": "2022-03-11T13:42:15.716Z"
   },
   {
    "duration": 12,
    "start_time": "2022-03-11T13:42:16.387Z"
   },
   {
    "duration": 6,
    "start_time": "2022-03-11T13:42:17.308Z"
   },
   {
    "duration": 5,
    "start_time": "2022-03-11T13:43:40.468Z"
   },
   {
    "duration": 352,
    "start_time": "2022-03-11T13:43:41.757Z"
   },
   {
    "duration": 367,
    "start_time": "2022-03-11T13:43:52.346Z"
   },
   {
    "duration": 513,
    "start_time": "2022-03-11T13:47:51.558Z"
   },
   {
    "duration": 1482,
    "start_time": "2022-03-11T13:47:52.073Z"
   },
   {
    "duration": 1362,
    "start_time": "2022-03-11T13:47:53.558Z"
   },
   {
    "duration": 25542,
    "start_time": "2022-03-11T13:47:54.923Z"
   },
   {
    "duration": 370,
    "start_time": "2022-03-11T13:48:20.467Z"
   },
   {
    "duration": 120,
    "start_time": "2022-03-11T13:48:20.840Z"
   },
   {
    "duration": 455,
    "start_time": "2022-03-11T13:48:20.962Z"
   },
   {
    "duration": 191,
    "start_time": "2022-03-11T13:48:21.420Z"
   },
   {
    "duration": 204,
    "start_time": "2022-03-11T13:48:21.615Z"
   },
   {
    "duration": 1183,
    "start_time": "2022-03-11T13:54:07.404Z"
   },
   {
    "duration": 1116,
    "start_time": "2022-03-11T16:44:33.893Z"
   },
   {
    "duration": 20,
    "start_time": "2022-03-11T16:44:36.639Z"
   },
   {
    "duration": 11,
    "start_time": "2022-03-11T16:44:36.816Z"
   },
   {
    "duration": 9,
    "start_time": "2022-03-11T16:44:37.013Z"
   },
   {
    "duration": 6,
    "start_time": "2022-03-11T16:44:37.182Z"
   },
   {
    "duration": 10,
    "start_time": "2022-03-11T16:44:37.429Z"
   },
   {
    "duration": 15,
    "start_time": "2022-03-11T16:44:37.523Z"
   },
   {
    "duration": 19,
    "start_time": "2022-03-11T16:44:37.718Z"
   },
   {
    "duration": 6,
    "start_time": "2022-03-11T16:44:37.978Z"
   },
   {
    "duration": 3,
    "start_time": "2022-03-11T16:44:40.905Z"
   },
   {
    "duration": 4,
    "start_time": "2022-03-11T16:46:32.230Z"
   },
   {
    "duration": 1746,
    "start_time": "2022-03-11T16:47:08.492Z"
   },
   {
    "duration": 2163,
    "start_time": "2022-03-11T16:47:39.654Z"
   },
   {
    "duration": 56,
    "start_time": "2022-03-11T16:50:00.873Z"
   },
   {
    "duration": 380,
    "start_time": "2022-03-11T16:50:36.020Z"
   },
   {
    "duration": 3524,
    "start_time": "2022-03-11T16:51:56.287Z"
   },
   {
    "duration": 385,
    "start_time": "2022-03-11T16:52:12.804Z"
   },
   {
    "duration": 5,
    "start_time": "2022-03-11T17:07:27.515Z"
   },
   {
    "duration": 338,
    "start_time": "2022-03-11T17:12:32.289Z"
   },
   {
    "duration": 634,
    "start_time": "2022-03-11T17:12:58.526Z"
   },
   {
    "duration": 319,
    "start_time": "2022-03-11T17:13:11.087Z"
   },
   {
    "duration": 4,
    "start_time": "2022-03-11T17:28:13.315Z"
   }
  ],
  "kernelspec": {
   "display_name": "Python 3 (ipykernel)",
   "language": "python",
   "name": "python3"
  },
  "language_info": {
   "codemirror_mode": {
    "name": "ipython",
    "version": 3
   },
   "file_extension": ".py",
   "mimetype": "text/x-python",
   "name": "python",
   "nbconvert_exporter": "python",
   "pygments_lexer": "ipython3",
   "version": "3.9.7"
  },
  "toc": {
   "base_numbering": 1,
   "nav_menu": {},
   "number_sections": true,
   "sideBar": true,
   "skip_h1_title": true,
   "title_cell": "Содержание",
   "title_sidebar": "Contents",
   "toc_cell": true,
   "toc_position": {},
   "toc_section_display": true,
   "toc_window_display": true
  }
 },
 "nbformat": 4,
 "nbformat_minor": 2
}
