{
 "cells": [
  {
   "cell_type": "markdown",
   "metadata": {
    "toc": true
   },
   "source": [
    "<h1>Содержание<span class=\"tocSkip\"></span></h1>\n",
    "<div class=\"toc\"><ul class=\"toc-item\"><li><span><a href=\"#Подготовка-данных\" data-toc-modified-id=\"Подготовка-данных-1\"><span class=\"toc-item-num\">1&nbsp;&nbsp;</span>Подготовка данных</a></span><ul class=\"toc-item\"><li><span><a href=\"#Вывод-после-ознакомления-с-данными\" data-toc-modified-id=\"Вывод-после-ознакомления-с-данными-1.1\"><span class=\"toc-item-num\">1.1&nbsp;&nbsp;</span>Вывод после ознакомления с данными</a></span></li><li><span><a href=\"#Предобработка\" data-toc-modified-id=\"Предобработка-1.2\"><span class=\"toc-item-num\">1.2&nbsp;&nbsp;</span>Предобработка</a></span></li><li><span><a href=\"#Вывод\" data-toc-modified-id=\"Вывод-1.3\"><span class=\"toc-item-num\">1.3&nbsp;&nbsp;</span>Вывод</a></span></li><li><span><a href=\"#Подготовка-данных\" data-toc-modified-id=\"Подготовка-данных-1.4\"><span class=\"toc-item-num\">1.4&nbsp;&nbsp;</span>Подготовка данных</a></span></li></ul></li><li><span><a href=\"#Обучение-моделей\" data-toc-modified-id=\"Обучение-моделей-2\"><span class=\"toc-item-num\">2&nbsp;&nbsp;</span>Обучение моделей</a></span><ul class=\"toc-item\"><li><span><a href=\"#LinearRegression\" data-toc-modified-id=\"LinearRegression-2.1\"><span class=\"toc-item-num\">2.1&nbsp;&nbsp;</span>LinearRegression</a></span></li><li><span><a href=\"#DecisionTreeRegressor\" data-toc-modified-id=\"DecisionTreeRegressor-2.2\"><span class=\"toc-item-num\">2.2&nbsp;&nbsp;</span>DecisionTreeRegressor</a></span></li><li><span><a href=\"#LightGBM\" data-toc-modified-id=\"LightGBM-2.3\"><span class=\"toc-item-num\">2.3&nbsp;&nbsp;</span>LightGBM</a></span></li><li><span><a href=\"#CatBoostRegressor\" data-toc-modified-id=\"CatBoostRegressor-2.4\"><span class=\"toc-item-num\">2.4&nbsp;&nbsp;</span>CatBoostRegressor</a></span></li></ul></li><li><span><a href=\"#Анализ-моделей\" data-toc-modified-id=\"Анализ-моделей-3\"><span class=\"toc-item-num\">3&nbsp;&nbsp;</span>Анализ моделей</a></span><ul class=\"toc-item\"><li><span><a href=\"#Вывод\" data-toc-modified-id=\"Вывод-3.1\"><span class=\"toc-item-num\">3.1&nbsp;&nbsp;</span>Вывод</a></span></li></ul></li></ul></div>"
   ]
  },
  {
   "cell_type": "markdown",
   "metadata": {},
   "source": [
    "# Определение стоимости автомобилей"
   ]
  },
  {
   "cell_type": "markdown",
   "metadata": {},
   "source": [
    "Сервис по продаже автомобилей с пробегом «Не бит, не крашен» разрабатывает приложение для привлечения новых клиентов. В нём можно быстро узнать рыночную стоимость своего автомобиля. В вашем распоряжении исторические данные: технические характеристики, комплектации и цены автомобилей. Вам нужно построить модель для определения стоимости. \n",
    "\n",
    "Заказчику важны:\n",
    "\n",
    "- качество предсказания;\n",
    "- скорость предсказания;\n",
    "- время обучения.\n",
    "\n",
    "\n",
    "# **Описание данных:**\n",
    "\n",
    "| Признаки |    Интерпретация |\n",
    "| :--- | :----------- |\n",
    "| DateCrawled | - дата скачивания анкеты из базы |\n",
    "| VehicleType | - тип автомобильного кузова |\n",
    "| RegistrationYear | - год регистрации автомобиля |\n",
    "| Gearbox     | - тип коробки передач |\n",
    "| Power     | - мощность (л.с.) |\n",
    "| Model | - модель автомобиля |\n",
    "|Kilometer|- пробег (км)|\n",
    "| RegistrationMonth     | - месяц регистрации автомобиля |\n",
    "|FuelType|- тип топлива|\n",
    "|Brand|- марка автомобиля|\n",
    "|NotRepaired|- была машина в ремонте или нет|\n",
    "| DateCreated | - дата создания анкеты |\n",
    "|NumberOfPictures|- количество фотографий автомобиля|\n",
    "|PostalCode|- почтовый индекс владельца анкеты (пользователя)|\n",
    "|LastSeen|- дата последней активности пользователя|\n",
    "\n",
    "| Целевой признак |    Интерпретация |\n",
    "| :--- | :----------- |\n",
    "| Price | - цена (евро) |"
   ]
  },
  {
   "cell_type": "markdown",
   "metadata": {},
   "source": [
    "## Подготовка данных"
   ]
  },
  {
   "cell_type": "code",
   "execution_count": 1,
   "metadata": {
    "ExecuteTime": {
     "end_time": "2022-05-25T10:55:00.549104Z",
     "start_time": "2022-05-25T10:54:59.311815Z"
    }
   },
   "outputs": [],
   "source": [
    "# Импорт библиотек.\n",
    "import lightgbm as lgb\n",
    "import matplotlib.pyplot as plt\n",
    "import numpy as np\n",
    "import pandas as pd\n",
    "import seaborn as sns\n",
    "import warnings\n",
    "\n",
    "# Импорт модулей IPython.\n",
    "from IPython.display import display_html\n",
    "from IPython.core.display import display, HTML\n",
    "from IPython.display import display, Math, Latex\n",
    "# Импорт модулей numpy\n",
    "# from numpy.random import RandomState\n",
    "\n",
    "# Импорт моделей.\n",
    "from catboost import CatBoostRegressor\n",
    "from lightgbm import LGBMRegressor\n",
    "from sklearn.ensemble import RandomForestRegressor\n",
    "from sklearn.linear_model import LinearRegression\n",
    "from sklearn.tree import DecisionTreeRegressor\n",
    "\n",
    "# Импорт метрик и модулей sklearn.\n",
    "from sklearn.metrics import mean_squared_error,mean_absolute_error, make_scorer,r2_score\n",
    "from sklearn.model_selection import train_test_split, GridSearchCV, cross_val_score,cross_validate\n",
    "from sklearn.preprocessing import StandardScaler, OrdinalEncoder, OneHotEncoder"
   ]
  },
  {
   "cell_type": "code",
   "execution_count": 2,
   "metadata": {
    "ExecuteTime": {
     "end_time": "2022-05-25T10:55:05.395076Z",
     "start_time": "2022-05-25T10:55:04.728695Z"
    }
   },
   "outputs": [],
   "source": [
    "try:\n",
    "    autos = pd.read_csv('/datasets/autos.csv',sep=',')\n",
    "    pd.set_option('display.max_columns', None)\n",
    "    pd.options.mode.chained_assignment = None\n",
    "except:\n",
    "    autos = pd.read_csv('autos.csv',sep=',')\n",
    "    pd.set_option('display.max_columns', None)\n",
    "    pd.options.mode.chained_assignment = None"
   ]
  },
  {
   "cell_type": "code",
   "execution_count": 3,
   "metadata": {
    "ExecuteTime": {
     "end_time": "2022-05-25T10:55:09.616024Z",
     "start_time": "2022-05-25T10:55:09.601040Z"
    }
   },
   "outputs": [],
   "source": [
    "def info_row(df):\n",
    "    '''\n",
    "        Input: df - таблица pd.DataFrame.\n",
    "        Output: None.\n",
    "        Description: Функция первичного знакомства с данными.\n",
    "\n",
    "    '''\n",
    "    \n",
    "    display(df.head(10))\n",
    "    print('Общая информация:')\n",
    "    display(df.info())\n",
    "    print('Общая статистика:')\n",
    "    display(df.describe())\n",
    "    display(df.describe(include = ['object']))\n",
    "    print('Дубликаты:')\n",
    "    display(df.duplicated().sum())\n",
    "    print(f'{df.duplicated().sum()/len(df):.1%}')\n",
    "    print()\n",
    "    print('Дубликаты по столбцам типа \"object\":')\n",
    "    display(df[df.duplicated(subset=df.describe(include = ['object']).columns, keep=False)])\n",
    "    print('Пропуски:')\n",
    "    for col in df.columns:\n",
    "        pct_missing = np.mean(df[col].isna())\n",
    "        print('{} - {}%'.format(col, round(pct_missing*100,2)))\n",
    "    print()\n",
    "    print('Уникальные значения столбцов:')\n",
    "    for row in df.columns:\n",
    "        print('Уникальные значения столбца', row)\n",
    "        print(df[row].unique())\n",
    "    print()\n",
    "    print('Heatmap корреляций:')\n",
    "    plt.figure(figsize=(10, 10))\n",
    "    heatmap = sns.heatmap(df.corr(), vmin=-1, vmax=1, annot=True,cmap='BrBG') \n",
    "    heatmap.set_title('Correlation Heatmap', fontdict={'fontsize':10}, pad=12);\n",
    "    plt.show()\n",
    "    print('Heatmap пропусков:')\n",
    "    columns = df.columns[:]\n",
    "    colours = ['#ADD8E6', '#FFFACD'] \n",
    "    plt.figure(figsize=(20, 20))\n",
    "    sns.heatmap(df[columns].isnull(), cmap=sns.color_palette(colours))\n",
    "    plt.show()"
   ]
  },
  {
   "cell_type": "code",
   "execution_count": 4,
   "metadata": {
    "ExecuteTime": {
     "end_time": "2022-05-25T10:55:21.860573Z",
     "start_time": "2022-05-25T10:55:13.713823Z"
    }
   },
   "outputs": [
    {
     "data": {
      "text/html": [
       "<div>\n",
       "<style scoped>\n",
       "    .dataframe tbody tr th:only-of-type {\n",
       "        vertical-align: middle;\n",
       "    }\n",
       "\n",
       "    .dataframe tbody tr th {\n",
       "        vertical-align: top;\n",
       "    }\n",
       "\n",
       "    .dataframe thead th {\n",
       "        text-align: right;\n",
       "    }\n",
       "</style>\n",
       "<table border=\"1\" class=\"dataframe\">\n",
       "  <thead>\n",
       "    <tr style=\"text-align: right;\">\n",
       "      <th></th>\n",
       "      <th>DateCrawled</th>\n",
       "      <th>Price</th>\n",
       "      <th>VehicleType</th>\n",
       "      <th>RegistrationYear</th>\n",
       "      <th>Gearbox</th>\n",
       "      <th>Power</th>\n",
       "      <th>Model</th>\n",
       "      <th>Kilometer</th>\n",
       "      <th>RegistrationMonth</th>\n",
       "      <th>FuelType</th>\n",
       "      <th>Brand</th>\n",
       "      <th>NotRepaired</th>\n",
       "      <th>DateCreated</th>\n",
       "      <th>NumberOfPictures</th>\n",
       "      <th>PostalCode</th>\n",
       "      <th>LastSeen</th>\n",
       "    </tr>\n",
       "  </thead>\n",
       "  <tbody>\n",
       "    <tr>\n",
       "      <th>0</th>\n",
       "      <td>2016-03-24 11:52:17</td>\n",
       "      <td>480</td>\n",
       "      <td>NaN</td>\n",
       "      <td>1993</td>\n",
       "      <td>manual</td>\n",
       "      <td>0</td>\n",
       "      <td>golf</td>\n",
       "      <td>150000</td>\n",
       "      <td>0</td>\n",
       "      <td>petrol</td>\n",
       "      <td>volkswagen</td>\n",
       "      <td>NaN</td>\n",
       "      <td>2016-03-24 00:00:00</td>\n",
       "      <td>0</td>\n",
       "      <td>70435</td>\n",
       "      <td>2016-04-07 03:16:57</td>\n",
       "    </tr>\n",
       "    <tr>\n",
       "      <th>1</th>\n",
       "      <td>2016-03-24 10:58:45</td>\n",
       "      <td>18300</td>\n",
       "      <td>coupe</td>\n",
       "      <td>2011</td>\n",
       "      <td>manual</td>\n",
       "      <td>190</td>\n",
       "      <td>NaN</td>\n",
       "      <td>125000</td>\n",
       "      <td>5</td>\n",
       "      <td>gasoline</td>\n",
       "      <td>audi</td>\n",
       "      <td>yes</td>\n",
       "      <td>2016-03-24 00:00:00</td>\n",
       "      <td>0</td>\n",
       "      <td>66954</td>\n",
       "      <td>2016-04-07 01:46:50</td>\n",
       "    </tr>\n",
       "    <tr>\n",
       "      <th>2</th>\n",
       "      <td>2016-03-14 12:52:21</td>\n",
       "      <td>9800</td>\n",
       "      <td>suv</td>\n",
       "      <td>2004</td>\n",
       "      <td>auto</td>\n",
       "      <td>163</td>\n",
       "      <td>grand</td>\n",
       "      <td>125000</td>\n",
       "      <td>8</td>\n",
       "      <td>gasoline</td>\n",
       "      <td>jeep</td>\n",
       "      <td>NaN</td>\n",
       "      <td>2016-03-14 00:00:00</td>\n",
       "      <td>0</td>\n",
       "      <td>90480</td>\n",
       "      <td>2016-04-05 12:47:46</td>\n",
       "    </tr>\n",
       "    <tr>\n",
       "      <th>3</th>\n",
       "      <td>2016-03-17 16:54:04</td>\n",
       "      <td>1500</td>\n",
       "      <td>small</td>\n",
       "      <td>2001</td>\n",
       "      <td>manual</td>\n",
       "      <td>75</td>\n",
       "      <td>golf</td>\n",
       "      <td>150000</td>\n",
       "      <td>6</td>\n",
       "      <td>petrol</td>\n",
       "      <td>volkswagen</td>\n",
       "      <td>no</td>\n",
       "      <td>2016-03-17 00:00:00</td>\n",
       "      <td>0</td>\n",
       "      <td>91074</td>\n",
       "      <td>2016-03-17 17:40:17</td>\n",
       "    </tr>\n",
       "    <tr>\n",
       "      <th>4</th>\n",
       "      <td>2016-03-31 17:25:20</td>\n",
       "      <td>3600</td>\n",
       "      <td>small</td>\n",
       "      <td>2008</td>\n",
       "      <td>manual</td>\n",
       "      <td>69</td>\n",
       "      <td>fabia</td>\n",
       "      <td>90000</td>\n",
       "      <td>7</td>\n",
       "      <td>gasoline</td>\n",
       "      <td>skoda</td>\n",
       "      <td>no</td>\n",
       "      <td>2016-03-31 00:00:00</td>\n",
       "      <td>0</td>\n",
       "      <td>60437</td>\n",
       "      <td>2016-04-06 10:17:21</td>\n",
       "    </tr>\n",
       "    <tr>\n",
       "      <th>5</th>\n",
       "      <td>2016-04-04 17:36:23</td>\n",
       "      <td>650</td>\n",
       "      <td>sedan</td>\n",
       "      <td>1995</td>\n",
       "      <td>manual</td>\n",
       "      <td>102</td>\n",
       "      <td>3er</td>\n",
       "      <td>150000</td>\n",
       "      <td>10</td>\n",
       "      <td>petrol</td>\n",
       "      <td>bmw</td>\n",
       "      <td>yes</td>\n",
       "      <td>2016-04-04 00:00:00</td>\n",
       "      <td>0</td>\n",
       "      <td>33775</td>\n",
       "      <td>2016-04-06 19:17:07</td>\n",
       "    </tr>\n",
       "    <tr>\n",
       "      <th>6</th>\n",
       "      <td>2016-04-01 20:48:51</td>\n",
       "      <td>2200</td>\n",
       "      <td>convertible</td>\n",
       "      <td>2004</td>\n",
       "      <td>manual</td>\n",
       "      <td>109</td>\n",
       "      <td>2_reihe</td>\n",
       "      <td>150000</td>\n",
       "      <td>8</td>\n",
       "      <td>petrol</td>\n",
       "      <td>peugeot</td>\n",
       "      <td>no</td>\n",
       "      <td>2016-04-01 00:00:00</td>\n",
       "      <td>0</td>\n",
       "      <td>67112</td>\n",
       "      <td>2016-04-05 18:18:39</td>\n",
       "    </tr>\n",
       "    <tr>\n",
       "      <th>7</th>\n",
       "      <td>2016-03-21 18:54:38</td>\n",
       "      <td>0</td>\n",
       "      <td>sedan</td>\n",
       "      <td>1980</td>\n",
       "      <td>manual</td>\n",
       "      <td>50</td>\n",
       "      <td>other</td>\n",
       "      <td>40000</td>\n",
       "      <td>7</td>\n",
       "      <td>petrol</td>\n",
       "      <td>volkswagen</td>\n",
       "      <td>no</td>\n",
       "      <td>2016-03-21 00:00:00</td>\n",
       "      <td>0</td>\n",
       "      <td>19348</td>\n",
       "      <td>2016-03-25 16:47:58</td>\n",
       "    </tr>\n",
       "    <tr>\n",
       "      <th>8</th>\n",
       "      <td>2016-04-04 23:42:13</td>\n",
       "      <td>14500</td>\n",
       "      <td>bus</td>\n",
       "      <td>2014</td>\n",
       "      <td>manual</td>\n",
       "      <td>125</td>\n",
       "      <td>c_max</td>\n",
       "      <td>30000</td>\n",
       "      <td>8</td>\n",
       "      <td>petrol</td>\n",
       "      <td>ford</td>\n",
       "      <td>NaN</td>\n",
       "      <td>2016-04-04 00:00:00</td>\n",
       "      <td>0</td>\n",
       "      <td>94505</td>\n",
       "      <td>2016-04-04 23:42:13</td>\n",
       "    </tr>\n",
       "    <tr>\n",
       "      <th>9</th>\n",
       "      <td>2016-03-17 10:53:50</td>\n",
       "      <td>999</td>\n",
       "      <td>small</td>\n",
       "      <td>1998</td>\n",
       "      <td>manual</td>\n",
       "      <td>101</td>\n",
       "      <td>golf</td>\n",
       "      <td>150000</td>\n",
       "      <td>0</td>\n",
       "      <td>NaN</td>\n",
       "      <td>volkswagen</td>\n",
       "      <td>NaN</td>\n",
       "      <td>2016-03-17 00:00:00</td>\n",
       "      <td>0</td>\n",
       "      <td>27472</td>\n",
       "      <td>2016-03-31 17:17:06</td>\n",
       "    </tr>\n",
       "  </tbody>\n",
       "</table>\n",
       "</div>"
      ],
      "text/plain": [
       "           DateCrawled  Price  VehicleType  RegistrationYear Gearbox  Power  \\\n",
       "0  2016-03-24 11:52:17    480          NaN              1993  manual      0   \n",
       "1  2016-03-24 10:58:45  18300        coupe              2011  manual    190   \n",
       "2  2016-03-14 12:52:21   9800          suv              2004    auto    163   \n",
       "3  2016-03-17 16:54:04   1500        small              2001  manual     75   \n",
       "4  2016-03-31 17:25:20   3600        small              2008  manual     69   \n",
       "5  2016-04-04 17:36:23    650        sedan              1995  manual    102   \n",
       "6  2016-04-01 20:48:51   2200  convertible              2004  manual    109   \n",
       "7  2016-03-21 18:54:38      0        sedan              1980  manual     50   \n",
       "8  2016-04-04 23:42:13  14500          bus              2014  manual    125   \n",
       "9  2016-03-17 10:53:50    999        small              1998  manual    101   \n",
       "\n",
       "     Model  Kilometer  RegistrationMonth  FuelType       Brand NotRepaired  \\\n",
       "0     golf     150000                  0    petrol  volkswagen         NaN   \n",
       "1      NaN     125000                  5  gasoline        audi         yes   \n",
       "2    grand     125000                  8  gasoline        jeep         NaN   \n",
       "3     golf     150000                  6    petrol  volkswagen          no   \n",
       "4    fabia      90000                  7  gasoline       skoda          no   \n",
       "5      3er     150000                 10    petrol         bmw         yes   \n",
       "6  2_reihe     150000                  8    petrol     peugeot          no   \n",
       "7    other      40000                  7    petrol  volkswagen          no   \n",
       "8    c_max      30000                  8    petrol        ford         NaN   \n",
       "9     golf     150000                  0       NaN  volkswagen         NaN   \n",
       "\n",
       "           DateCreated  NumberOfPictures  PostalCode             LastSeen  \n",
       "0  2016-03-24 00:00:00                 0       70435  2016-04-07 03:16:57  \n",
       "1  2016-03-24 00:00:00                 0       66954  2016-04-07 01:46:50  \n",
       "2  2016-03-14 00:00:00                 0       90480  2016-04-05 12:47:46  \n",
       "3  2016-03-17 00:00:00                 0       91074  2016-03-17 17:40:17  \n",
       "4  2016-03-31 00:00:00                 0       60437  2016-04-06 10:17:21  \n",
       "5  2016-04-04 00:00:00                 0       33775  2016-04-06 19:17:07  \n",
       "6  2016-04-01 00:00:00                 0       67112  2016-04-05 18:18:39  \n",
       "7  2016-03-21 00:00:00                 0       19348  2016-03-25 16:47:58  \n",
       "8  2016-04-04 00:00:00                 0       94505  2016-04-04 23:42:13  \n",
       "9  2016-03-17 00:00:00                 0       27472  2016-03-31 17:17:06  "
      ]
     },
     "metadata": {},
     "output_type": "display_data"
    },
    {
     "name": "stdout",
     "output_type": "stream",
     "text": [
      "Общая информация:\n",
      "<class 'pandas.core.frame.DataFrame'>\n",
      "RangeIndex: 354369 entries, 0 to 354368\n",
      "Data columns (total 16 columns):\n",
      " #   Column             Non-Null Count   Dtype \n",
      "---  ------             --------------   ----- \n",
      " 0   DateCrawled        354369 non-null  object\n",
      " 1   Price              354369 non-null  int64 \n",
      " 2   VehicleType        316879 non-null  object\n",
      " 3   RegistrationYear   354369 non-null  int64 \n",
      " 4   Gearbox            334536 non-null  object\n",
      " 5   Power              354369 non-null  int64 \n",
      " 6   Model              334664 non-null  object\n",
      " 7   Kilometer          354369 non-null  int64 \n",
      " 8   RegistrationMonth  354369 non-null  int64 \n",
      " 9   FuelType           321474 non-null  object\n",
      " 10  Brand              354369 non-null  object\n",
      " 11  NotRepaired        283215 non-null  object\n",
      " 12  DateCreated        354369 non-null  object\n",
      " 13  NumberOfPictures   354369 non-null  int64 \n",
      " 14  PostalCode         354369 non-null  int64 \n",
      " 15  LastSeen           354369 non-null  object\n",
      "dtypes: int64(7), object(9)\n",
      "memory usage: 43.3+ MB\n"
     ]
    },
    {
     "data": {
      "text/plain": [
       "None"
      ]
     },
     "metadata": {},
     "output_type": "display_data"
    },
    {
     "name": "stdout",
     "output_type": "stream",
     "text": [
      "Общая статистика:\n"
     ]
    },
    {
     "data": {
      "text/html": [
       "<div>\n",
       "<style scoped>\n",
       "    .dataframe tbody tr th:only-of-type {\n",
       "        vertical-align: middle;\n",
       "    }\n",
       "\n",
       "    .dataframe tbody tr th {\n",
       "        vertical-align: top;\n",
       "    }\n",
       "\n",
       "    .dataframe thead th {\n",
       "        text-align: right;\n",
       "    }\n",
       "</style>\n",
       "<table border=\"1\" class=\"dataframe\">\n",
       "  <thead>\n",
       "    <tr style=\"text-align: right;\">\n",
       "      <th></th>\n",
       "      <th>Price</th>\n",
       "      <th>RegistrationYear</th>\n",
       "      <th>Power</th>\n",
       "      <th>Kilometer</th>\n",
       "      <th>RegistrationMonth</th>\n",
       "      <th>NumberOfPictures</th>\n",
       "      <th>PostalCode</th>\n",
       "    </tr>\n",
       "  </thead>\n",
       "  <tbody>\n",
       "    <tr>\n",
       "      <th>count</th>\n",
       "      <td>354369.000000</td>\n",
       "      <td>354369.000000</td>\n",
       "      <td>354369.000000</td>\n",
       "      <td>354369.000000</td>\n",
       "      <td>354369.000000</td>\n",
       "      <td>354369.0</td>\n",
       "      <td>354369.000000</td>\n",
       "    </tr>\n",
       "    <tr>\n",
       "      <th>mean</th>\n",
       "      <td>4416.656776</td>\n",
       "      <td>2004.234448</td>\n",
       "      <td>110.094337</td>\n",
       "      <td>128211.172535</td>\n",
       "      <td>5.714645</td>\n",
       "      <td>0.0</td>\n",
       "      <td>50508.689087</td>\n",
       "    </tr>\n",
       "    <tr>\n",
       "      <th>std</th>\n",
       "      <td>4514.158514</td>\n",
       "      <td>90.227958</td>\n",
       "      <td>189.850405</td>\n",
       "      <td>37905.341530</td>\n",
       "      <td>3.726421</td>\n",
       "      <td>0.0</td>\n",
       "      <td>25783.096248</td>\n",
       "    </tr>\n",
       "    <tr>\n",
       "      <th>min</th>\n",
       "      <td>0.000000</td>\n",
       "      <td>1000.000000</td>\n",
       "      <td>0.000000</td>\n",
       "      <td>5000.000000</td>\n",
       "      <td>0.000000</td>\n",
       "      <td>0.0</td>\n",
       "      <td>1067.000000</td>\n",
       "    </tr>\n",
       "    <tr>\n",
       "      <th>25%</th>\n",
       "      <td>1050.000000</td>\n",
       "      <td>1999.000000</td>\n",
       "      <td>69.000000</td>\n",
       "      <td>125000.000000</td>\n",
       "      <td>3.000000</td>\n",
       "      <td>0.0</td>\n",
       "      <td>30165.000000</td>\n",
       "    </tr>\n",
       "    <tr>\n",
       "      <th>50%</th>\n",
       "      <td>2700.000000</td>\n",
       "      <td>2003.000000</td>\n",
       "      <td>105.000000</td>\n",
       "      <td>150000.000000</td>\n",
       "      <td>6.000000</td>\n",
       "      <td>0.0</td>\n",
       "      <td>49413.000000</td>\n",
       "    </tr>\n",
       "    <tr>\n",
       "      <th>75%</th>\n",
       "      <td>6400.000000</td>\n",
       "      <td>2008.000000</td>\n",
       "      <td>143.000000</td>\n",
       "      <td>150000.000000</td>\n",
       "      <td>9.000000</td>\n",
       "      <td>0.0</td>\n",
       "      <td>71083.000000</td>\n",
       "    </tr>\n",
       "    <tr>\n",
       "      <th>max</th>\n",
       "      <td>20000.000000</td>\n",
       "      <td>9999.000000</td>\n",
       "      <td>20000.000000</td>\n",
       "      <td>150000.000000</td>\n",
       "      <td>12.000000</td>\n",
       "      <td>0.0</td>\n",
       "      <td>99998.000000</td>\n",
       "    </tr>\n",
       "  </tbody>\n",
       "</table>\n",
       "</div>"
      ],
      "text/plain": [
       "               Price  RegistrationYear          Power      Kilometer  \\\n",
       "count  354369.000000     354369.000000  354369.000000  354369.000000   \n",
       "mean     4416.656776       2004.234448     110.094337  128211.172535   \n",
       "std      4514.158514         90.227958     189.850405   37905.341530   \n",
       "min         0.000000       1000.000000       0.000000    5000.000000   \n",
       "25%      1050.000000       1999.000000      69.000000  125000.000000   \n",
       "50%      2700.000000       2003.000000     105.000000  150000.000000   \n",
       "75%      6400.000000       2008.000000     143.000000  150000.000000   \n",
       "max     20000.000000       9999.000000   20000.000000  150000.000000   \n",
       "\n",
       "       RegistrationMonth  NumberOfPictures     PostalCode  \n",
       "count      354369.000000          354369.0  354369.000000  \n",
       "mean            5.714645               0.0   50508.689087  \n",
       "std             3.726421               0.0   25783.096248  \n",
       "min             0.000000               0.0    1067.000000  \n",
       "25%             3.000000               0.0   30165.000000  \n",
       "50%             6.000000               0.0   49413.000000  \n",
       "75%             9.000000               0.0   71083.000000  \n",
       "max            12.000000               0.0   99998.000000  "
      ]
     },
     "metadata": {},
     "output_type": "display_data"
    },
    {
     "data": {
      "text/html": [
       "<div>\n",
       "<style scoped>\n",
       "    .dataframe tbody tr th:only-of-type {\n",
       "        vertical-align: middle;\n",
       "    }\n",
       "\n",
       "    .dataframe tbody tr th {\n",
       "        vertical-align: top;\n",
       "    }\n",
       "\n",
       "    .dataframe thead th {\n",
       "        text-align: right;\n",
       "    }\n",
       "</style>\n",
       "<table border=\"1\" class=\"dataframe\">\n",
       "  <thead>\n",
       "    <tr style=\"text-align: right;\">\n",
       "      <th></th>\n",
       "      <th>DateCrawled</th>\n",
       "      <th>VehicleType</th>\n",
       "      <th>Gearbox</th>\n",
       "      <th>Model</th>\n",
       "      <th>FuelType</th>\n",
       "      <th>Brand</th>\n",
       "      <th>NotRepaired</th>\n",
       "      <th>DateCreated</th>\n",
       "      <th>LastSeen</th>\n",
       "    </tr>\n",
       "  </thead>\n",
       "  <tbody>\n",
       "    <tr>\n",
       "      <th>count</th>\n",
       "      <td>354369</td>\n",
       "      <td>316879</td>\n",
       "      <td>334536</td>\n",
       "      <td>334664</td>\n",
       "      <td>321474</td>\n",
       "      <td>354369</td>\n",
       "      <td>283215</td>\n",
       "      <td>354369</td>\n",
       "      <td>354369</td>\n",
       "    </tr>\n",
       "    <tr>\n",
       "      <th>unique</th>\n",
       "      <td>271174</td>\n",
       "      <td>8</td>\n",
       "      <td>2</td>\n",
       "      <td>250</td>\n",
       "      <td>7</td>\n",
       "      <td>40</td>\n",
       "      <td>2</td>\n",
       "      <td>109</td>\n",
       "      <td>179150</td>\n",
       "    </tr>\n",
       "    <tr>\n",
       "      <th>top</th>\n",
       "      <td>2016-03-24 14:49:47</td>\n",
       "      <td>sedan</td>\n",
       "      <td>manual</td>\n",
       "      <td>golf</td>\n",
       "      <td>petrol</td>\n",
       "      <td>volkswagen</td>\n",
       "      <td>no</td>\n",
       "      <td>2016-04-03 00:00:00</td>\n",
       "      <td>2016-04-06 13:45:54</td>\n",
       "    </tr>\n",
       "    <tr>\n",
       "      <th>freq</th>\n",
       "      <td>7</td>\n",
       "      <td>91457</td>\n",
       "      <td>268251</td>\n",
       "      <td>29232</td>\n",
       "      <td>216352</td>\n",
       "      <td>77013</td>\n",
       "      <td>247161</td>\n",
       "      <td>13719</td>\n",
       "      <td>17</td>\n",
       "    </tr>\n",
       "  </tbody>\n",
       "</table>\n",
       "</div>"
      ],
      "text/plain": [
       "                DateCrawled VehicleType Gearbox   Model FuelType       Brand  \\\n",
       "count                354369      316879  334536  334664   321474      354369   \n",
       "unique               271174           8       2     250        7          40   \n",
       "top     2016-03-24 14:49:47       sedan  manual    golf   petrol  volkswagen   \n",
       "freq                      7       91457  268251   29232   216352       77013   \n",
       "\n",
       "       NotRepaired          DateCreated             LastSeen  \n",
       "count       283215               354369               354369  \n",
       "unique           2                  109               179150  \n",
       "top             no  2016-04-03 00:00:00  2016-04-06 13:45:54  \n",
       "freq        247161                13719                   17  "
      ]
     },
     "metadata": {},
     "output_type": "display_data"
    },
    {
     "name": "stdout",
     "output_type": "stream",
     "text": [
      "Дубликаты:\n"
     ]
    },
    {
     "data": {
      "text/plain": [
       "4"
      ]
     },
     "metadata": {},
     "output_type": "display_data"
    },
    {
     "name": "stdout",
     "output_type": "stream",
     "text": [
      "0.0%\n",
      "\n",
      "Дубликаты по столбцам типа \"object\":\n"
     ]
    },
    {
     "data": {
      "text/html": [
       "<div>\n",
       "<style scoped>\n",
       "    .dataframe tbody tr th:only-of-type {\n",
       "        vertical-align: middle;\n",
       "    }\n",
       "\n",
       "    .dataframe tbody tr th {\n",
       "        vertical-align: top;\n",
       "    }\n",
       "\n",
       "    .dataframe thead th {\n",
       "        text-align: right;\n",
       "    }\n",
       "</style>\n",
       "<table border=\"1\" class=\"dataframe\">\n",
       "  <thead>\n",
       "    <tr style=\"text-align: right;\">\n",
       "      <th></th>\n",
       "      <th>DateCrawled</th>\n",
       "      <th>Price</th>\n",
       "      <th>VehicleType</th>\n",
       "      <th>RegistrationYear</th>\n",
       "      <th>Gearbox</th>\n",
       "      <th>Power</th>\n",
       "      <th>Model</th>\n",
       "      <th>Kilometer</th>\n",
       "      <th>RegistrationMonth</th>\n",
       "      <th>FuelType</th>\n",
       "      <th>Brand</th>\n",
       "      <th>NotRepaired</th>\n",
       "      <th>DateCreated</th>\n",
       "      <th>NumberOfPictures</th>\n",
       "      <th>PostalCode</th>\n",
       "      <th>LastSeen</th>\n",
       "    </tr>\n",
       "  </thead>\n",
       "  <tbody>\n",
       "    <tr>\n",
       "      <th>5256</th>\n",
       "      <td>2016-04-01 15:38:34</td>\n",
       "      <td>5750</td>\n",
       "      <td>bus</td>\n",
       "      <td>1998</td>\n",
       "      <td>manual</td>\n",
       "      <td>102</td>\n",
       "      <td>transporter</td>\n",
       "      <td>150000</td>\n",
       "      <td>8</td>\n",
       "      <td>gasoline</td>\n",
       "      <td>volkswagen</td>\n",
       "      <td>no</td>\n",
       "      <td>2016-04-01 00:00:00</td>\n",
       "      <td>0</td>\n",
       "      <td>29227</td>\n",
       "      <td>2016-04-01 15:38:34</td>\n",
       "    </tr>\n",
       "    <tr>\n",
       "      <th>9100</th>\n",
       "      <td>2016-04-01 08:36:36</td>\n",
       "      <td>990</td>\n",
       "      <td>small</td>\n",
       "      <td>1997</td>\n",
       "      <td>manual</td>\n",
       "      <td>45</td>\n",
       "      <td>corsa</td>\n",
       "      <td>100000</td>\n",
       "      <td>3</td>\n",
       "      <td>petrol</td>\n",
       "      <td>opel</td>\n",
       "      <td>no</td>\n",
       "      <td>2016-04-01 00:00:00</td>\n",
       "      <td>0</td>\n",
       "      <td>82131</td>\n",
       "      <td>2016-04-07 05:15:40</td>\n",
       "    </tr>\n",
       "    <tr>\n",
       "      <th>18311</th>\n",
       "      <td>2016-03-07 12:00:46</td>\n",
       "      <td>10000</td>\n",
       "      <td>wagon</td>\n",
       "      <td>2013</td>\n",
       "      <td>manual</td>\n",
       "      <td>184</td>\n",
       "      <td>golf</td>\n",
       "      <td>60000</td>\n",
       "      <td>7</td>\n",
       "      <td>gasoline</td>\n",
       "      <td>volkswagen</td>\n",
       "      <td>no</td>\n",
       "      <td>2016-03-07 00:00:00</td>\n",
       "      <td>0</td>\n",
       "      <td>20359</td>\n",
       "      <td>2016-03-20 12:49:27</td>\n",
       "    </tr>\n",
       "    <tr>\n",
       "      <th>24813</th>\n",
       "      <td>2016-03-30 11:37:36</td>\n",
       "      <td>1999</td>\n",
       "      <td>sedan</td>\n",
       "      <td>2000</td>\n",
       "      <td>manual</td>\n",
       "      <td>105</td>\n",
       "      <td>golf</td>\n",
       "      <td>150000</td>\n",
       "      <td>1</td>\n",
       "      <td>petrol</td>\n",
       "      <td>volkswagen</td>\n",
       "      <td>no</td>\n",
       "      <td>2016-03-30 00:00:00</td>\n",
       "      <td>0</td>\n",
       "      <td>7554</td>\n",
       "      <td>2016-04-07 02:15:45</td>\n",
       "    </tr>\n",
       "    <tr>\n",
       "      <th>27083</th>\n",
       "      <td>2016-03-30 11:37:36</td>\n",
       "      <td>1850</td>\n",
       "      <td>sedan</td>\n",
       "      <td>1997</td>\n",
       "      <td>manual</td>\n",
       "      <td>75</td>\n",
       "      <td>golf</td>\n",
       "      <td>150000</td>\n",
       "      <td>12</td>\n",
       "      <td>petrol</td>\n",
       "      <td>volkswagen</td>\n",
       "      <td>no</td>\n",
       "      <td>2016-03-30 00:00:00</td>\n",
       "      <td>0</td>\n",
       "      <td>91301</td>\n",
       "      <td>2016-04-07 02:15:45</td>\n",
       "    </tr>\n",
       "    <tr>\n",
       "      <th>...</th>\n",
       "      <td>...</td>\n",
       "      <td>...</td>\n",
       "      <td>...</td>\n",
       "      <td>...</td>\n",
       "      <td>...</td>\n",
       "      <td>...</td>\n",
       "      <td>...</td>\n",
       "      <td>...</td>\n",
       "      <td>...</td>\n",
       "      <td>...</td>\n",
       "      <td>...</td>\n",
       "      <td>...</td>\n",
       "      <td>...</td>\n",
       "      <td>...</td>\n",
       "      <td>...</td>\n",
       "      <td>...</td>\n",
       "    </tr>\n",
       "    <tr>\n",
       "      <th>330209</th>\n",
       "      <td>2016-03-20 20:45:44</td>\n",
       "      <td>19950</td>\n",
       "      <td>wagon</td>\n",
       "      <td>2012</td>\n",
       "      <td>manual</td>\n",
       "      <td>120</td>\n",
       "      <td>a4</td>\n",
       "      <td>80000</td>\n",
       "      <td>12</td>\n",
       "      <td>gasoline</td>\n",
       "      <td>audi</td>\n",
       "      <td>no</td>\n",
       "      <td>2016-03-20 00:00:00</td>\n",
       "      <td>0</td>\n",
       "      <td>95448</td>\n",
       "      <td>2016-04-07 05:16:18</td>\n",
       "    </tr>\n",
       "    <tr>\n",
       "      <th>338714</th>\n",
       "      <td>2016-04-03 10:37:45</td>\n",
       "      <td>1990</td>\n",
       "      <td>wagon</td>\n",
       "      <td>1998</td>\n",
       "      <td>manual</td>\n",
       "      <td>195</td>\n",
       "      <td>passat</td>\n",
       "      <td>150000</td>\n",
       "      <td>9</td>\n",
       "      <td>petrol</td>\n",
       "      <td>volkswagen</td>\n",
       "      <td>no</td>\n",
       "      <td>2016-04-03 00:00:00</td>\n",
       "      <td>0</td>\n",
       "      <td>99880</td>\n",
       "      <td>2016-04-07 11:17:12</td>\n",
       "    </tr>\n",
       "    <tr>\n",
       "      <th>340361</th>\n",
       "      <td>2016-04-01 19:56:42</td>\n",
       "      <td>10500</td>\n",
       "      <td>sedan</td>\n",
       "      <td>2010</td>\n",
       "      <td>manual</td>\n",
       "      <td>102</td>\n",
       "      <td>a3</td>\n",
       "      <td>150000</td>\n",
       "      <td>9</td>\n",
       "      <td>petrol</td>\n",
       "      <td>audi</td>\n",
       "      <td>no</td>\n",
       "      <td>2016-04-01 00:00:00</td>\n",
       "      <td>0</td>\n",
       "      <td>83125</td>\n",
       "      <td>2016-04-05 16:45:50</td>\n",
       "    </tr>\n",
       "    <tr>\n",
       "      <th>341463</th>\n",
       "      <td>2016-03-31 14:38:38</td>\n",
       "      <td>6500</td>\n",
       "      <td>sedan</td>\n",
       "      <td>2011</td>\n",
       "      <td>manual</td>\n",
       "      <td>140</td>\n",
       "      <td>golf</td>\n",
       "      <td>150000</td>\n",
       "      <td>2</td>\n",
       "      <td>gasoline</td>\n",
       "      <td>volkswagen</td>\n",
       "      <td>no</td>\n",
       "      <td>2016-03-31 00:00:00</td>\n",
       "      <td>0</td>\n",
       "      <td>68309</td>\n",
       "      <td>2016-03-31 14:38:38</td>\n",
       "    </tr>\n",
       "    <tr>\n",
       "      <th>346109</th>\n",
       "      <td>2016-03-21 18:56:15</td>\n",
       "      <td>699</td>\n",
       "      <td>convertible</td>\n",
       "      <td>1997</td>\n",
       "      <td>manual</td>\n",
       "      <td>75</td>\n",
       "      <td>astra</td>\n",
       "      <td>150000</td>\n",
       "      <td>10</td>\n",
       "      <td>petrol</td>\n",
       "      <td>opel</td>\n",
       "      <td>no</td>\n",
       "      <td>2016-03-21 00:00:00</td>\n",
       "      <td>0</td>\n",
       "      <td>47137</td>\n",
       "      <td>2016-03-21 18:56:15</td>\n",
       "    </tr>\n",
       "  </tbody>\n",
       "</table>\n",
       "<p>74 rows × 16 columns</p>\n",
       "</div>"
      ],
      "text/plain": [
       "                DateCrawled  Price  VehicleType  RegistrationYear Gearbox  \\\n",
       "5256    2016-04-01 15:38:34   5750          bus              1998  manual   \n",
       "9100    2016-04-01 08:36:36    990        small              1997  manual   \n",
       "18311   2016-03-07 12:00:46  10000        wagon              2013  manual   \n",
       "24813   2016-03-30 11:37:36   1999        sedan              2000  manual   \n",
       "27083   2016-03-30 11:37:36   1850        sedan              1997  manual   \n",
       "...                     ...    ...          ...               ...     ...   \n",
       "330209  2016-03-20 20:45:44  19950        wagon              2012  manual   \n",
       "338714  2016-04-03 10:37:45   1990        wagon              1998  manual   \n",
       "340361  2016-04-01 19:56:42  10500        sedan              2010  manual   \n",
       "341463  2016-03-31 14:38:38   6500        sedan              2011  manual   \n",
       "346109  2016-03-21 18:56:15    699  convertible              1997  manual   \n",
       "\n",
       "        Power        Model  Kilometer  RegistrationMonth  FuelType  \\\n",
       "5256      102  transporter     150000                  8  gasoline   \n",
       "9100       45        corsa     100000                  3    petrol   \n",
       "18311     184         golf      60000                  7  gasoline   \n",
       "24813     105         golf     150000                  1    petrol   \n",
       "27083      75         golf     150000                 12    petrol   \n",
       "...       ...          ...        ...                ...       ...   \n",
       "330209    120           a4      80000                 12  gasoline   \n",
       "338714    195       passat     150000                  9    petrol   \n",
       "340361    102           a3     150000                  9    petrol   \n",
       "341463    140         golf     150000                  2  gasoline   \n",
       "346109     75        astra     150000                 10    petrol   \n",
       "\n",
       "             Brand NotRepaired          DateCreated  NumberOfPictures  \\\n",
       "5256    volkswagen          no  2016-04-01 00:00:00                 0   \n",
       "9100          opel          no  2016-04-01 00:00:00                 0   \n",
       "18311   volkswagen          no  2016-03-07 00:00:00                 0   \n",
       "24813   volkswagen          no  2016-03-30 00:00:00                 0   \n",
       "27083   volkswagen          no  2016-03-30 00:00:00                 0   \n",
       "...            ...         ...                  ...               ...   \n",
       "330209        audi          no  2016-03-20 00:00:00                 0   \n",
       "338714  volkswagen          no  2016-04-03 00:00:00                 0   \n",
       "340361        audi          no  2016-04-01 00:00:00                 0   \n",
       "341463  volkswagen          no  2016-03-31 00:00:00                 0   \n",
       "346109        opel          no  2016-03-21 00:00:00                 0   \n",
       "\n",
       "        PostalCode             LastSeen  \n",
       "5256         29227  2016-04-01 15:38:34  \n",
       "9100         82131  2016-04-07 05:15:40  \n",
       "18311        20359  2016-03-20 12:49:27  \n",
       "24813         7554  2016-04-07 02:15:45  \n",
       "27083        91301  2016-04-07 02:15:45  \n",
       "...            ...                  ...  \n",
       "330209       95448  2016-04-07 05:16:18  \n",
       "338714       99880  2016-04-07 11:17:12  \n",
       "340361       83125  2016-04-05 16:45:50  \n",
       "341463       68309  2016-03-31 14:38:38  \n",
       "346109       47137  2016-03-21 18:56:15  \n",
       "\n",
       "[74 rows x 16 columns]"
      ]
     },
     "metadata": {},
     "output_type": "display_data"
    },
    {
     "name": "stdout",
     "output_type": "stream",
     "text": [
      "Пропуски:\n",
      "DateCrawled - 0.0%\n",
      "Price - 0.0%\n",
      "VehicleType - 10.58%\n",
      "RegistrationYear - 0.0%\n",
      "Gearbox - 5.6%\n",
      "Power - 0.0%\n",
      "Model - 5.56%\n",
      "Kilometer - 0.0%\n",
      "RegistrationMonth - 0.0%\n",
      "FuelType - 9.28%\n",
      "Brand - 0.0%\n",
      "NotRepaired - 20.08%\n",
      "DateCreated - 0.0%\n",
      "NumberOfPictures - 0.0%\n",
      "PostalCode - 0.0%\n",
      "LastSeen - 0.0%\n",
      "\n",
      "Уникальные значения столбцов:\n",
      "Уникальные значения столбца DateCrawled\n",
      "['2016-03-24 11:52:17' '2016-03-24 10:58:45' '2016-03-14 12:52:21' ...\n",
      " '2016-03-21 09:50:58' '2016-03-14 17:48:27' '2016-03-19 18:57:12']\n",
      "Уникальные значения столбца Price\n",
      "[  480 18300  9800 ... 12395 18429 10985]\n",
      "Уникальные значения столбца VehicleType\n",
      "[nan 'coupe' 'suv' 'small' 'sedan' 'convertible' 'bus' 'wagon' 'other']\n",
      "Уникальные значения столбца RegistrationYear\n",
      "[1993 2011 2004 2001 2008 1995 1980 2014 1998 2005 1910 2016 2007 2009\n",
      " 2002 2018 1997 1990 2017 1981 2003 1994 1991 1984 2006 1999 2012 2010\n",
      " 2000 1992 2013 1996 1985 1989 2015 1982 1976 1983 1973 1111 1969 1971\n",
      " 1987 1986 1988 1970 1965 1945 1925 1974 1979 1955 1978 1972 1968 1977\n",
      " 1961 1960 1966 1975 1963 1964 5000 1954 1958 1967 1959 9999 1956 3200\n",
      " 1000 1941 8888 1500 2200 4100 1962 1929 1957 1940 3000 2066 1949 2019\n",
      " 1937 1951 1800 1953 1234 8000 5300 9000 2900 6000 5900 5911 1933 1400\n",
      " 1950 4000 1948 1952 1200 8500 1932 1255 3700 3800 4800 1942 7000 1935\n",
      " 1936 6500 1923 2290 2500 1930 1001 9450 1944 1943 1934 1938 1688 2800\n",
      " 1253 1928 1919 5555 5600 1600 2222 1039 9996 1300 8455 1931 1915 4500\n",
      " 1920 1602 7800 9229 1947 1927 7100 8200 1946 7500 3500]\n",
      "Уникальные значения столбца Gearbox\n",
      "['manual' 'auto' nan]\n",
      "Уникальные значения столбца Power\n",
      "[    0   190   163    75    69   102   109    50   125   101   105   140\n",
      "   115   131    60   136   160   231    90   118   193    99   113   218\n",
      "   122   129    70   306    95    61   177    80   170    55   143    64\n",
      "   286   232   150   156    82   155    54   185    87   180    86    84\n",
      "   224   235   200   178   265    77   110   144   120   116   184   126\n",
      "   204    88   194   305   197   179   250    45   313    41   165    98\n",
      "   130   114   211    56   201   213    58   107    83   174   100   220\n",
      "    85    73   192    68    66   299    74    52   147    65   310    71\n",
      "    97   239   203     5   300   103   258   320    63    81   148    44\n",
      "   145   230   280   260   104   188   333   186   117   141    59   132\n",
      "   234   158    39    92    51   135    53   209    43   146    67   106\n",
      "   166   276   344    72   249   237   245   111   326   279    23   138\n",
      "   175    96   226    26    37   301   334   128   133   124    33   219\n",
      "   241   167    94   182   196   238  1398   228   112    48   272   139\n",
      "  1799    40   240    79   256   360   243   375   252   396   340   108\n",
      "   121   345   187   289   222   198   284   450   233   387   152   347\n",
      "   172    57   137   212   476   314    30     7    47   173   290   207\n",
      "   205   171   750    78    91    89   349   325    76   151   350   953\n",
      "    93   142   500   343   199   119   164    16   264   367   208   210\n",
      "    46   435  1001   225   127   176   161   603   307   354    35   206\n",
      "   771   355   273   223   255   123   154   149  7515  1400   268   620\n",
      "   169   400   275    34     2   242  1779   285   162   328  1753   329\n",
      "   134   420   247   168 10317   215    18   330   283    62    10   214\n",
      "   183   254    15   321   322   315   952   600   181   426   599   379\n",
      "   999    22   157    42   195   553     4   309   507   381   271   440\n",
      "   189   401  1111  2729    21   236  1240  1704   521     1  1900   270\n",
      "    24   159   292   808   515  1200   303    29    38  1993    14   216\n",
      "   610   504    49   267   331   363   261   385  1011   253   696 10520\n",
      "   376   227   311    27   217    20  1999    11  1056    25   394    12\n",
      "   298   296  1659   294   551  6920   246    17  1800  1625   368   390\n",
      "   221  1367   259   606   327  2017  1597   266   374   392     9   405\n",
      "    13   262   601   430   295     8   411   900   541  7512   382 10218\n",
      "  7544  1102   287    19   751   297  1090   457   282   602   388     6\n",
      "  1000  5411   335  1360   202  3750   805  1062  1024 11530   364  1796\n",
      "  5000   269   460  1002   288  1780 12012 17932   316  2005  1399   191\n",
      "   278  1300   380   257   449  1256   153  1653   520   560   281 12510\n",
      "     3  1500   386    32  1202  2016  1436  1405   671   274  1288  1055\n",
      " 10912 15016  6226  1115   277  1105   341  1223  2340  8404  1968   338\n",
      "   445  1920   370   517  4400 10710 10522  9010   431  1164 11509   371\n",
      "  1501   428 11635    36   304   348  1703  1910  1995   579 10000   580\n",
      "   408    31  1005   358  1403   489  5575 19211   585   960   365   353\n",
      "   490   352  1801   346   550  3199   800  7508  1312   357  1937   950\n",
      "  4700  1600  3454 19208   251   850   337   700  8011  2331  2789   487\n",
      "   519  2461  6006  3500  5815  6018  1781  1503   612  1596   229  1506\n",
      "  5809 15020  5867  2172  1598 17410  1363   584  1054   851  1339   318\n",
      "   510   525  1700    28  1151   685  6011   317   703  1771 15001   514\n",
      "   362   332   324  6045   530   425   308  6010   475   903   640  2000\n",
      "   248   651  2799 17011   505  1103  1521   351 16051   398  9000  1998\n",
      " 10311   409  1230 17019 12684  8259  1895   901  1317   871   909  2201\n",
      "  1595   776 17700 11011  1199   459  1162  1120 15033  1896   339   361\n",
      "   574  6512   454   650 13616   604   607 16312  1082   336 20000   416\n",
      "   678  6012  1401  1021  1870 13636  1250  9710   323  1158  2009   902\n",
      "  6062  1275   572   244   399  1016   743  1221  2402 16011  1362   544\n",
      "   645   907   702 12512  1986  1003  1432  9013  9011   442  1017  1394\n",
      " 15017 10910  1992   540  2018 11025  1433  1701  2792  1502  1239  1390\n",
      " 14009  1160  1351 11111  1783  9007   923  1149   754  1988   402  2004\n",
      "  5420  1793  1324   356  7511  1299   293 19312  1079  1689   998  1100\n",
      "  9012  1933   508 16311   682  1252  1922  7529   732  2389  2200  1707\n",
      "  1416  8500  1012   485  3000 10110   421  4507  1631  7518   377  1004\n",
      "  2007  2598  1548  1241]\n",
      "Уникальные значения столбца Model\n",
      "['golf' nan 'grand' 'fabia' '3er' '2_reihe' 'other' 'c_max' '3_reihe'\n",
      " 'passat' 'navara' 'ka' 'polo' 'twingo' 'a_klasse' 'scirocco' '5er'\n",
      " 'meriva' 'arosa' 'c4' 'civic' 'transporter' 'punto' 'e_klasse' 'clio'\n",
      " 'kadett' 'kangoo' 'corsa' 'one' 'fortwo' '1er' 'b_klasse' 'signum'\n",
      " 'astra' 'a8' 'jetta' 'fiesta' 'c_klasse' 'micra' 'vito' 'sprinter' '156'\n",
      " 'escort' 'forester' 'xc_reihe' 'scenic' 'a4' 'a1' 'insignia' 'combo'\n",
      " 'focus' 'tt' 'a6' 'jazz' 'omega' 'slk' '7er' '80' '147' '100' 'z_reihe'\n",
      " 'sportage' 'sorento' 'v40' 'ibiza' 'mustang' 'eos' 'touran' 'getz' 'a3'\n",
      " 'almera' 'megane' 'lupo' 'r19' 'zafira' 'caddy' 'mondeo' 'cordoba' 'colt'\n",
      " 'impreza' 'vectra' 'berlingo' 'tiguan' 'i_reihe' 'espace' 'sharan'\n",
      " '6_reihe' 'panda' 'up' 'seicento' 'ceed' '5_reihe' 'yeti' 'octavia' 'mii'\n",
      " 'rx_reihe' '6er' 'modus' 'fox' 'matiz' 'beetle' 'c1' 'rio' 'touareg'\n",
      " 'logan' 'spider' 'cuore' 's_max' 'a2' 'galaxy' 'c3' 'viano' 's_klasse'\n",
      " '1_reihe' 'avensis' 'roomster' 'sl' 'kaefer' 'santa' 'cooper' 'leon'\n",
      " '4_reihe' 'a5' '500' 'laguna' 'ptcruiser' 'clk' 'primera' 'x_reihe'\n",
      " 'exeo' '159' 'transit' 'juke' 'qashqai' 'carisma' 'accord' 'corolla'\n",
      " 'lanos' 'phaeton' 'verso' 'swift' 'rav' 'picanto' 'boxster' 'kalos'\n",
      " 'superb' 'stilo' 'alhambra' 'mx_reihe' 'roadster' 'ypsilon' 'cayenne'\n",
      " 'galant' 'justy' '90' 'sirion' 'crossfire' 'agila' 'duster' 'cr_reihe'\n",
      " 'v50' 'c_reihe' 'v_klasse' 'm_klasse' 'yaris' 'c5' 'aygo' 'cc' 'carnival'\n",
      " 'fusion' '911' 'bora' 'forfour' 'm_reihe' 'cl' 'tigra' '300c' 'spark'\n",
      " 'v70' 'kuga' 'x_type' 'ducato' 's_type' 'x_trail' 'toledo' 'altea'\n",
      " 'voyager' 'calibra' 'bravo' 'antara' 'tucson' 'citigo' 'jimny' 'wrangler'\n",
      " 'lybra' 'q7' 'lancer' 'captiva' 'c2' 'discovery' 'freelander' 'sandero'\n",
      " 'note' '900' 'cherokee' 'clubman' 'samara' 'defender' '601' 'cx_reihe'\n",
      " 'legacy' 'pajero' 'auris' 'niva' 's60' 'nubira' 'vivaro' 'g_klasse'\n",
      " 'lodgy' '850' 'range_rover' 'q3' 'serie_2' 'glk' 'charade' 'croma'\n",
      " 'outlander' 'doblo' 'musa' 'move' '9000' 'v60' '145' 'aveo' '200' 'b_max'\n",
      " 'range_rover_sport' 'terios' 'rangerover' 'q5' 'range_rover_evoque'\n",
      " 'materia' 'delta' 'gl' 'kalina' 'amarok' 'elefantino' 'i3' 'kappa'\n",
      " 'serie_3' 'serie_1']\n",
      "Уникальные значения столбца Kilometer\n",
      "[150000 125000  90000  40000  30000  70000   5000 100000  60000  20000\n",
      "  80000  50000  10000]\n",
      "Уникальные значения столбца RegistrationMonth\n",
      "[ 0  5  8  6  7 10 12 11  2  3  1  4  9]\n",
      "Уникальные значения столбца FuelType\n",
      "['petrol' 'gasoline' nan 'lpg' 'other' 'hybrid' 'cng' 'electric']\n",
      "Уникальные значения столбца Brand\n",
      "['volkswagen' 'audi' 'jeep' 'skoda' 'bmw' 'peugeot' 'ford' 'mazda'\n",
      " 'nissan' 'renault' 'mercedes_benz' 'opel' 'seat' 'citroen' 'honda' 'fiat'\n",
      " 'mini' 'smart' 'hyundai' 'sonstige_autos' 'alfa_romeo' 'subaru' 'volvo'\n",
      " 'mitsubishi' 'kia' 'suzuki' 'lancia' 'toyota' 'chevrolet' 'dacia'\n",
      " 'daihatsu' 'trabant' 'saab' 'chrysler' 'jaguar' 'daewoo' 'porsche'\n",
      " 'rover' 'land_rover' 'lada']\n",
      "Уникальные значения столбца NotRepaired\n",
      "[nan 'yes' 'no']\n",
      "Уникальные значения столбца DateCreated\n",
      "['2016-03-24 00:00:00' '2016-03-14 00:00:00' '2016-03-17 00:00:00'\n",
      " '2016-03-31 00:00:00' '2016-04-04 00:00:00' '2016-04-01 00:00:00'\n",
      " '2016-03-21 00:00:00' '2016-03-26 00:00:00' '2016-04-07 00:00:00'\n",
      " '2016-03-15 00:00:00' '2016-03-11 00:00:00' '2016-03-20 00:00:00'\n",
      " '2016-03-23 00:00:00' '2016-03-27 00:00:00' '2016-03-12 00:00:00'\n",
      " '2016-03-13 00:00:00' '2016-03-18 00:00:00' '2016-03-10 00:00:00'\n",
      " '2016-03-07 00:00:00' '2016-03-09 00:00:00' '2016-03-08 00:00:00'\n",
      " '2016-04-03 00:00:00' '2016-03-29 00:00:00' '2016-03-25 00:00:00'\n",
      " '2016-03-28 00:00:00' '2016-03-30 00:00:00' '2016-03-22 00:00:00'\n",
      " '2016-02-09 00:00:00' '2016-03-05 00:00:00' '2016-04-02 00:00:00'\n",
      " '2016-03-16 00:00:00' '2016-03-19 00:00:00' '2016-04-05 00:00:00'\n",
      " '2016-03-06 00:00:00' '2016-02-12 00:00:00' '2016-03-03 00:00:00'\n",
      " '2016-03-01 00:00:00' '2016-03-04 00:00:00' '2016-04-06 00:00:00'\n",
      " '2016-02-15 00:00:00' '2016-02-24 00:00:00' '2016-02-27 00:00:00'\n",
      " '2015-03-20 00:00:00' '2016-02-28 00:00:00' '2016-02-17 00:00:00'\n",
      " '2016-01-27 00:00:00' '2016-02-20 00:00:00' '2016-02-29 00:00:00'\n",
      " '2016-02-10 00:00:00' '2016-02-23 00:00:00' '2016-02-21 00:00:00'\n",
      " '2015-11-02 00:00:00' '2016-02-19 00:00:00' '2016-02-26 00:00:00'\n",
      " '2016-02-11 00:00:00' '2016-01-10 00:00:00' '2016-02-06 00:00:00'\n",
      " '2016-02-18 00:00:00' '2016-01-29 00:00:00' '2016-03-02 00:00:00'\n",
      " '2015-12-06 00:00:00' '2016-01-24 00:00:00' '2016-01-30 00:00:00'\n",
      " '2016-02-02 00:00:00' '2016-02-16 00:00:00' '2016-02-13 00:00:00'\n",
      " '2016-02-05 00:00:00' '2016-02-22 00:00:00' '2015-11-17 00:00:00'\n",
      " '2014-03-10 00:00:00' '2016-02-07 00:00:00' '2016-01-23 00:00:00'\n",
      " '2016-02-25 00:00:00' '2016-02-14 00:00:00' '2016-01-02 00:00:00'\n",
      " '2015-09-04 00:00:00' '2015-11-12 00:00:00' '2015-12-27 00:00:00'\n",
      " '2015-11-24 00:00:00' '2016-01-20 00:00:00' '2016-02-03 00:00:00'\n",
      " '2015-12-05 00:00:00' '2015-08-07 00:00:00' '2016-01-28 00:00:00'\n",
      " '2016-01-31 00:00:00' '2016-02-08 00:00:00' '2016-01-07 00:00:00'\n",
      " '2016-01-22 00:00:00' '2016-01-18 00:00:00' '2016-01-08 00:00:00'\n",
      " '2015-11-23 00:00:00' '2016-01-13 00:00:00' '2016-01-17 00:00:00'\n",
      " '2016-01-15 00:00:00' '2015-11-08 00:00:00' '2016-01-26 00:00:00'\n",
      " '2016-02-04 00:00:00' '2016-01-25 00:00:00' '2016-01-16 00:00:00'\n",
      " '2015-08-10 00:00:00' '2016-01-03 00:00:00' '2016-01-19 00:00:00'\n",
      " '2015-12-30 00:00:00' '2016-02-01 00:00:00' '2015-12-17 00:00:00'\n",
      " '2015-11-10 00:00:00' '2016-01-06 00:00:00' '2015-09-09 00:00:00'\n",
      " '2015-06-18 00:00:00']\n",
      "Уникальные значения столбца NumberOfPictures\n",
      "[0]\n",
      "Уникальные значения столбца PostalCode\n",
      "[70435 66954 90480 ... 38528 38325 31096]\n",
      "Уникальные значения столбца LastSeen\n",
      "['2016-04-07 03:16:57' '2016-04-07 01:46:50' '2016-04-05 12:47:46' ...\n",
      " '2016-03-19 20:44:43' '2016-03-29 10:17:23' '2016-03-21 10:42:49']\n",
      "\n",
      "Heatmap корреляций:\n"
     ]
    },
    {
     "data": {
      "image/png": "[encoded data removed]",
      "text/plain": [
       "<Figure size 720x720 with 2 Axes>"
      ]
     },
     "metadata": {
      "needs_background": "light"
     },
     "output_type": "display_data"
    },
    {
     "name": "stdout",
     "output_type": "stream",
     "text": [
      "Heatmap пропусков:\n"
     ]
    },
    {
     "data": {
      "image/png": "[encoded data removed]",
      "text/plain": [
       "<Figure size 1440x1440 with 2 Axes>"
      ]
     },
     "metadata": {
      "needs_background": "light"
     },
     "output_type": "display_data"
    }
   ],
   "source": [
    "info_row(autos)"
   ]
  },
  {
   "cell_type": "markdown",
   "metadata": {},
   "source": [
    "### Вывод после ознакомления с данными\n",
    "\n",
    "После знакомства, с предоставленными данными, наметим план по их предобработке.  \n",
    "Выявилось следующее:\n",
    "\n",
    "1) **Колонки признаков, никак не влияющих на работу модели:**\n",
    "\n",
    "| Название колонки |    Интерпретация |\n",
    "| :--- | :----------- |\n",
    "| DateCrawled | - дата скачивания анкеты из базы |\n",
    "| RegistrationMonth     | - месяц регистрации автомобиля |\n",
    "| DateCreated | - дата создания анкеты |\n",
    "|NumberOfPictures|- количество фотографий автомобиля|\n",
    "|PostalCode|- почтовый индекс владельца анкеты (пользователя)|\n",
    "|LastSeen|- дата последней активности пользователя|\n",
    "\n",
    "    От данных колонок необходимо избавиться. Это так же ускорит время обучения модели и получения результатов.\\\n",
    "2) **Целевой признак `Price` содержит нулевые значения.**\\\n",
    ">Так как у нас нет возможности восстановить эти данные, а нулевые значения могут повлиять на работу модели, то их необходимо удалить из всей выборки.\n",
    "\n",
    "3) **Пропуски данных в значимых признаках:**\\\n",
    "\n",
    "| Название колонки |    Интерпретация |\n",
    "| :--- | :----------- |\n",
    "| VehicleType | - тип автомобильного кузова |\n",
    "| Gearbox     | - тип коробки передач |\n",
    "| Model | - модель автомобиля |\n",
    "|FuelType|- тип топлива|\n",
    "|NotRepaired|- была машина в ремонте или нет|\n",
    "\n",
    "\n",
    "* Ввиду того, что в колонках `VehicleType`, `Model` и `FuelType` имеется значение `other`, все пропущенные значения в данных столбцах присвоим ему.\\\n",
    "* Пропуски в  колонке `Gearbox` могут быть обусловлены разными причинами, возможно коробка роботизированная или механическая и клиент просто не указал это. В таком случае, учитывая невозможность их восстановления по имеющимся данным, а так же за неимением возможности связаться с заказчиком, для уточнения, оставим их заполненными специальным значением `unknown`.\n",
    "* Количество пропусков в колонке `NotRepaired` довольно значимое (и составляет 20%), причины их появления могут быть так же разными(машина не была в ремонте и клиент оставил пропуск; клиент намеренно не указал эти данные, ввиду желания скрыть эту информацию...). Так же заменим пропуски специальным значением - `unknown`.\n",
    "\n",
    "4) **В данных так же обнаружены выбросы в колонках:**\n",
    "\n",
    "| Название колонки |    Интерпретация |\n",
    "| :--- | :----------- |\n",
    "| RegistrationYear | - год регистрации автомобиля |\n",
    "| Power     | - мощность (л.с.) |\n",
    "\n",
    "* Примерный план по удалению выбросов из `RegistrationYear`, обоснуем следующим:\n",
    "Первый из представленных брэндов компания `Форд` была зарегистрирована в 1906г, а первый в мире автомобиль был создан в 1886г. Все автомобили данной марки (в выборке), с датой регистрации указанной ранее 1910г - были зарегистрированы ранее даты создания первого автомобиля(что невозможно). Так же дела обстоят и с объединенным критерием `sonstige_autos`(другие автомобили). Поэтому все объявления с авто, зарегистрированными ранее 1910г необходимо удалить из колонки `RegistrationYear`. Так же необходимо удалить все объявления с датой регистрации авто, которая превосходит максимальную дату скачивания анкеты из базы (2016-04-07 14:36:58).  \n",
    "* Что же касается выбросов в колонке `Power`:\n",
    "Самым маломощным автомобилем является Peel P50 (мощность 4,2 л.с.), а самым мощным (на 2016 год) являлся Bugatti Chiron (мощность 1500 л.с.), ввиду того, что такие машины стоили гораздо больше 20 000 евро, ограничимся мощностью в 500 л.с. Поэтому удалим все, что выше и ниже этих данных. \n",
    "\n",
    "5) В данных имеются дубликаты."
   ]
  },
  {
   "cell_type": "markdown",
   "metadata": {},
   "source": [
    "### Предобработка"
   ]
  },
  {
   "cell_type": "markdown",
   "metadata": {},
   "source": [
    "1) Удалим дубликаты"
   ]
  },
  {
   "cell_type": "code",
   "execution_count": 5,
   "metadata": {
    "ExecuteTime": {
     "end_time": "2022-05-25T10:56:10.921568Z",
     "start_time": "2022-05-25T10:56:09.552978Z"
    }
   },
   "outputs": [],
   "source": [
    "autos.drop_duplicates(keep='first', inplace=True, ignore_index=False)\n",
    "autos.drop_duplicates(subset=autos.describe(include = ['object']).columns,\n",
    "                      keep='first', inplace=True, ignore_index=False)\n",
    "autos = autos.reset_index(drop=True)"
   ]
  },
  {
   "cell_type": "code",
   "execution_count": 6,
   "metadata": {
    "ExecuteTime": {
     "end_time": "2022-05-25T10:56:11.048194Z",
     "start_time": "2022-05-25T10:56:11.040217Z"
    }
   },
   "outputs": [
    {
     "data": {
      "text/plain": [
       "(354332, 16)"
      ]
     },
     "execution_count": 6,
     "metadata": {},
     "output_type": "execute_result"
    }
   ],
   "source": [
    "autos.shape"
   ]
  },
  {
   "cell_type": "markdown",
   "metadata": {},
   "source": [
    "2) Удалим невлияющие на работу модели признаки"
   ]
  },
  {
   "cell_type": "code",
   "execution_count": 7,
   "metadata": {
    "ExecuteTime": {
     "end_time": "2022-05-25T10:56:15.952661Z",
     "start_time": "2022-05-25T10:56:15.911770Z"
    }
   },
   "outputs": [],
   "source": [
    "autos = autos.drop(['DateCrawled','RegistrationMonth','DateCreated','NumberOfPictures','PostalCode','LastSeen'], axis=1)"
   ]
  },
  {
   "cell_type": "markdown",
   "metadata": {},
   "source": [
    "3) Удалим нулевые значения целевого признака"
   ]
  },
  {
   "cell_type": "code",
   "execution_count": 8,
   "metadata": {
    "ExecuteTime": {
     "end_time": "2022-05-25T10:56:17.515678Z",
     "start_time": "2022-05-25T10:56:17.496760Z"
    }
   },
   "outputs": [
    {
     "name": "stdout",
     "output_type": "stream",
     "text": [
      "Количество данных с целевым признаком Price равным нулю 3 %\n"
     ]
    }
   ],
   "source": [
    "print('Количество данных с целевым признаком Price равным нулю', ((autos['Price'] == 0).sum()*100)//len(autos),'%')"
   ]
  },
  {
   "cell_type": "code",
   "execution_count": 9,
   "metadata": {
    "ExecuteTime": {
     "end_time": "2022-05-25T10:56:18.643638Z",
     "start_time": "2022-05-25T10:56:18.584766Z"
    }
   },
   "outputs": [],
   "source": [
    "autos = autos.query(\"Price != 0\").reset_index(drop=True)"
   ]
  },
  {
   "cell_type": "markdown",
   "metadata": {
    "ExecuteTime": {
     "end_time": "2022-05-18T15:02:05.653357Z",
     "start_time": "2022-05-18T15:02:05.564503Z"
    }
   },
   "source": [
    "4) Заменим пропуски в колонках `VehicleType`, `Model` и `FuelType` на значение `other`"
   ]
  },
  {
   "cell_type": "code",
   "execution_count": 10,
   "metadata": {
    "ExecuteTime": {
     "end_time": "2022-05-25T10:56:23.143519Z",
     "start_time": "2022-05-25T10:56:23.096614Z"
    }
   },
   "outputs": [],
   "source": [
    "autos['VehicleType'] = autos['VehicleType'].fillna('other')\n",
    "autos['Model'] = autos['Model'].fillna('other')\n",
    "autos['FuelType'] = autos['FuelType'].fillna('other')"
   ]
  },
  {
   "cell_type": "markdown",
   "metadata": {},
   "source": [
    "5) Заменим пропуски в колонках `Gearbox` и `NotRepaired` нетипичным значением `unknown`"
   ]
  },
  {
   "cell_type": "code",
   "execution_count": 11,
   "metadata": {
    "ExecuteTime": {
     "end_time": "2022-05-25T10:56:25.232030Z",
     "start_time": "2022-05-25T10:56:25.185142Z"
    }
   },
   "outputs": [],
   "source": [
    "autos['Gearbox'] = autos['Gearbox'].fillna('unknown')\n",
    "autos['NotRepaired'] = autos['NotRepaired'].fillna('unknown')"
   ]
  },
  {
   "cell_type": "markdown",
   "metadata": {
    "ExecuteTime": {
     "end_time": "2022-05-18T15:27:13.405312Z",
     "start_time": "2022-05-18T15:27:13.377388Z"
    }
   },
   "source": [
    "6) Удалим выбросы из колонок `RegistrationYear` и `Power`"
   ]
  },
  {
   "cell_type": "code",
   "execution_count": 12,
   "metadata": {
    "ExecuteTime": {
     "end_time": "2022-05-25T10:56:31.453545Z",
     "start_time": "2022-05-25T10:56:31.432601Z"
    }
   },
   "outputs": [],
   "source": [
    "def emissions(row,min_row,max_row,step,title_row, f_title, s_title):\n",
    "    '''\n",
    "        Input: row - таблица pd.Serios, min_row - int(минимальная граница графика), max_row - int(максимальныя граница),\n",
    "               title_row, f_title, s_title - str(наименования осей и титул графика)\n",
    "        Output: None.\n",
    "        Description: Функция подсчитывает количество данных менее минимального и более максимального значений,\n",
    "                     а так же выводит гистограмму и боксплот.\n",
    "\n",
    "    '''\n",
    "    \n",
    "    count_min = 0\n",
    "    count_max = 0\n",
    "    percent_list = []\n",
    "    index_list = [f'Выбросы меньше {min_row}', f'Выбросы больше {max_row -1}', 'Суммарные выбросы']\n",
    "    \n",
    "    # Графический блок.\n",
    "    fig = plt.figure(figsize=(15, 6))\n",
    "    ax1 = plt.subplot(1, 2, 1)\n",
    "    ax1 = row.plot(kind='hist', bins=((max_row-min_row)//2), range=(min_row,max_row), \n",
    "                                         title=title_row, grid=True)\n",
    "    ax1.set_xlabel(f_title)\n",
    "    ax1.set_ylabel(s_title)\n",
    "    major_ticks_ax1 = range(min_row, max_row, step)\n",
    "    ax1.set_xticks(major_ticks_ax1)\n",
    "    ax2 = plt.subplot(1, 2, 2)\n",
    "    ax2 = row.plot(kind='box',title=title_row,grid=True)\n",
    "    plt.ylim(min_row, max_row)\n",
    "    major_ticks_ax2 = range(min_row, max_row, step)\n",
    "    ax2.set_yticks(major_ticks_ax2)\n",
    "\n",
    "    ax1.grid(True,which='major', alpha=0.5)\n",
    "    ax2.grid(True,which='major', alpha=0.5)\n",
    "    \n",
    "    # Подсчет количества выбросов.\n",
    "    count_min = (row <= min_row).sum()\n",
    "    count_max = (row >= max_row).sum()\n",
    "    \n",
    "    percent_list.extend([(count_min*100)/len(row),(count_max*100)/len(row), ((count_min + count_max)*100)/len(row)])\n",
    "    \n",
    "    percent_df = pd.DataFrame(np.array(percent_list), index=[index_list], columns=[title_row])\n",
    "    display(percent_df.round(3))  "
   ]
  },
  {
   "cell_type": "code",
   "execution_count": 13,
   "metadata": {
    "ExecuteTime": {
     "end_time": "2022-05-25T10:57:04.095700Z",
     "start_time": "2022-05-25T10:57:03.768547Z"
    }
   },
   "outputs": [
    {
     "data": {
      "text/html": [
       "<div>\n",
       "<style scoped>\n",
       "    .dataframe tbody tr th:only-of-type {\n",
       "        vertical-align: middle;\n",
       "    }\n",
       "\n",
       "    .dataframe tbody tr th {\n",
       "        vertical-align: top;\n",
       "    }\n",
       "\n",
       "    .dataframe thead th {\n",
       "        text-align: right;\n",
       "    }\n",
       "</style>\n",
       "<table border=\"1\" class=\"dataframe\">\n",
       "  <thead>\n",
       "    <tr style=\"text-align: right;\">\n",
       "      <th></th>\n",
       "      <th>Год регистрации автомобиля</th>\n",
       "    </tr>\n",
       "  </thead>\n",
       "  <tbody>\n",
       "    <tr>\n",
       "      <th>Выбросы меньше 1910</th>\n",
       "      <td>0.032</td>\n",
       "    </tr>\n",
       "    <tr>\n",
       "      <th>Выбросы больше 2016</th>\n",
       "      <td>4.011</td>\n",
       "    </tr>\n",
       "    <tr>\n",
       "      <th>Суммарные выбросы</th>\n",
       "      <td>4.042</td>\n",
       "    </tr>\n",
       "  </tbody>\n",
       "</table>\n",
       "</div>"
      ],
      "text/plain": [
       "                     Год регистрации автомобиля\n",
       "Выбросы меньше 1910                       0.032\n",
       "Выбросы больше 2016                       4.011\n",
       "Суммарные выбросы                         4.042"
      ]
     },
     "metadata": {},
     "output_type": "display_data"
    },
    {
     "data": {
      "image/png": "[encoded data removed]",
      "text/plain": [
       "<Figure size 1080x432 with 2 Axes>"
      ]
     },
     "metadata": {
      "needs_background": "light"
     },
     "output_type": "display_data"
    }
   ],
   "source": [
    "emissions(autos['RegistrationYear'],1910,2017,10,'Год регистрации автомобиля','Годы','Количество')"
   ]
  },
  {
   "cell_type": "code",
   "execution_count": 14,
   "metadata": {
    "ExecuteTime": {
     "end_time": "2022-05-25T10:57:06.660144Z",
     "start_time": "2022-05-25T10:57:06.130856Z"
    }
   },
   "outputs": [
    {
     "data": {
      "text/html": [
       "<div>\n",
       "<style scoped>\n",
       "    .dataframe tbody tr th:only-of-type {\n",
       "        vertical-align: middle;\n",
       "    }\n",
       "\n",
       "    .dataframe tbody tr th {\n",
       "        vertical-align: top;\n",
       "    }\n",
       "\n",
       "    .dataframe thead th {\n",
       "        text-align: right;\n",
       "    }\n",
       "</style>\n",
       "<table border=\"1\" class=\"dataframe\">\n",
       "  <thead>\n",
       "    <tr style=\"text-align: right;\">\n",
       "      <th></th>\n",
       "      <th>Мощность автомобиля</th>\n",
       "    </tr>\n",
       "  </thead>\n",
       "  <tbody>\n",
       "    <tr>\n",
       "      <th>Выбросы меньше 0</th>\n",
       "      <td>10.583</td>\n",
       "    </tr>\n",
       "    <tr>\n",
       "      <th>Выбросы больше 499</th>\n",
       "      <td>0.135</td>\n",
       "    </tr>\n",
       "    <tr>\n",
       "      <th>Суммарные выбросы</th>\n",
       "      <td>10.718</td>\n",
       "    </tr>\n",
       "  </tbody>\n",
       "</table>\n",
       "</div>"
      ],
      "text/plain": [
       "                    Мощность автомобиля\n",
       "Выбросы меньше 0                 10.583\n",
       "Выбросы больше 499                0.135\n",
       "Суммарные выбросы                10.718"
      ]
     },
     "metadata": {},
     "output_type": "display_data"
    },
    {
     "data": {
      "image/png": "[encoded data removed]",
      "text/plain": [
       "<Figure size 1080x432 with 2 Axes>"
      ]
     },
     "metadata": {
      "needs_background": "light"
     },
     "output_type": "display_data"
    }
   ],
   "source": [
    "emissions(autos['Power'],0,500,50,'Мощность автомобиля','Мощность','Количество')"
   ]
  },
  {
   "cell_type": "markdown",
   "metadata": {},
   "source": [
    "На графиках отчетливо видны всплески. В колонке `RegistrationYear` - в районе значения 2016, а в колонке `Power` - всплеск в нулевых значениях мощности двигателя.\\\n",
    "Выбросов в `RegistrationYear` относительно не много, поэтому мы их спокойно удалим. А вот  в колонке `Power` значений, равных нулю, достаточно много, поэтому, во избежании потери приличного количества данных, мы их заменим медианой мощности отностительно аналогичных моделей машин по колонке `Model`."
   ]
  },
  {
   "cell_type": "code",
   "execution_count": 15,
   "metadata": {
    "ExecuteTime": {
     "end_time": "2022-05-25T10:57:11.558466Z",
     "start_time": "2022-05-25T10:57:11.440576Z"
    }
   },
   "outputs": [],
   "source": [
    "autos = autos.query(\"1910 <= RegistrationYear <= 2016 & Power <= 500\")\n",
    "autos['Power'] = autos['Power'].replace(0).fillna(autos.groupby('Model')['Power'].transform('median'))\n",
    "autos = autos.query(\" 4<= Power\").reset_index(drop=True)"
   ]
  },
  {
   "cell_type": "code",
   "execution_count": 16,
   "metadata": {
    "ExecuteTime": {
     "end_time": "2022-05-25T10:57:12.171865Z",
     "start_time": "2022-05-25T10:57:12.159898Z"
    }
   },
   "outputs": [
    {
     "data": {
      "text/plain": [
       "(329287, 10)"
      ]
     },
     "execution_count": 16,
     "metadata": {},
     "output_type": "execute_result"
    }
   ],
   "source": [
    "autos.shape"
   ]
  },
  {
   "cell_type": "markdown",
   "metadata": {},
   "source": [
    "### Вывод  \n",
    "План по предобработке выполнен:\n",
    "1) Удалены дубликаты\\\n",
    "2) Удалены не влияющие на работу модели признаки\\\n",
    "3) Удалены нулевые значения целевого признака `Price`\\\n",
    "4) Заменены пропуски в колонках `VehicleType`, `Model` и `FuelType` на значение `other`\\\n",
    "5) Пропуски в колонках `Gearbox` и `NotRepaired` заменены нетипичным значением `unknown`\\\n",
    "6) Удалены выбросы из колонок `RegistrationYear` и `Power`, при этом сохранена значительная часть данных.\\\n",
    "План выполнен полностью, при этом потеря данных составила 7% выборки."
   ]
  },
  {
   "cell_type": "markdown",
   "metadata": {},
   "source": [
    "### Подготовка данных"
   ]
  },
  {
   "cell_type": "markdown",
   "metadata": {
    "ExecuteTime": {
     "end_time": "2022-05-19T13:34:26.400798Z",
     "start_time": "2022-05-19T13:34:26.377837Z"
    }
   },
   "source": [
    "Ввиду того, что данных преобладают категориальные признаки, да еще и с большим количетсвом значений. Для их преобразования, наиболее предпочтительным будет метод порядкового кодирования `Ordinal Encoding`.   \n",
    "* Данный метод позволит нам не создавать огромное количество дополнительных колонок, что сильно бы сказалось на работе моделей.\n",
    "* Но в тоже время, данная методика не подходит для моделей логистической регрессии.\\\n",
    "В так случае создадим две функции подготовки данных:\n",
    ">В первой применим метод `Ordinal Encoding`\\\n",
    "Во второй - `One-Hot Encoding`\\\n",
    "И сравним результаты\n"
   ]
  },
  {
   "cell_type": "code",
   "execution_count": 17,
   "metadata": {
    "ExecuteTime": {
     "end_time": "2022-05-25T10:57:46.390722Z",
     "start_time": "2022-05-25T10:57:46.369755Z"
    }
   },
   "outputs": [],
   "source": [
    "def preparation_ord(df):\n",
    "    '''\n",
    "    Input: feathers - таблица  (pd.DataFrame).\n",
    "    Output: features,target, features_train, features_test, target_train, target_test, num, cat -\n",
    "            признаки, целевой признак, признаки и целовой признак обучающей и тестовой выборок, \n",
    "            списки численных и категориальных колонок\n",
    "    Description: 1) Функция формирует список с названиями колонок численных признаков.\n",
    "                 2) Преобразует категориальные признаки в численные порядковым кодированием.\n",
    "                 3) Разбивает выборку на целевой признак и признаки.\n",
    "                 4) Выделяет обучающую и тестовые выборки.\n",
    "                 5) Масштабирует численные признаки\n",
    "\n",
    "    '''\n",
    "    num = []\n",
    "    cat = []\n",
    "    # Формируем список с названиями колонок численных признаков. \n",
    "    num = list(df.select_dtypes(exclude = 'object'))\n",
    "    num.remove('Price')\n",
    "    cat = list(df.select_dtypes(include = 'object'))\n",
    "    \n",
    "    # Преобразуем категориальные признаки в численные.\n",
    "    encoder = OrdinalEncoder() \n",
    "    encoder.fit(df[cat])\n",
    "    df_ordinal = pd.DataFrame(encoder.transform(df[cat]), columns=df[cat].columns)\n",
    "    final_df = df.drop(columns = cat).join(df_ordinal)\n",
    "\n",
    "    # Разбиваем выборку на целевой признак и признаки. \n",
    "    features = final_df.drop('Price', axis=1)\n",
    "    target = final_df['Price']   \n",
    "                 \n",
    "    # Выделяем обучающую и тестовые выборки.\n",
    "    features_train, features_test, target_train, target_test = train_test_split(\n",
    "        features, target, train_size=0.75,random_state=12345)\n",
    "    \n",
    "    # Масштабируем численные признаки\n",
    "    scaler = StandardScaler()\n",
    "    scaler.fit(features_train[num]) \n",
    "    features_train[num] = scaler.transform(features_train[num])\n",
    "    features_test[num] = scaler.transform(features_test[num])\n",
    "\n",
    "    return features,target,features_train, features_test, target_train, target_test, num, df_ordinal"
   ]
  },
  {
   "cell_type": "code",
   "execution_count": 18,
   "metadata": {
    "ExecuteTime": {
     "end_time": "2022-05-25T10:57:49.468533Z",
     "start_time": "2022-05-25T10:57:48.887823Z"
    }
   },
   "outputs": [
    {
     "name": "stdout",
     "output_type": "stream",
     "text": [
      "Wall time: 566 ms\n"
     ]
    }
   ],
   "source": [
    "%%time\n",
    "features,target,features_train, features_test, target_train, target_test, num, df_ordinal = preparation_ord(autos)"
   ]
  },
  {
   "cell_type": "code",
   "execution_count": 19,
   "metadata": {
    "ExecuteTime": {
     "end_time": "2022-05-25T10:58:24.877282Z",
     "start_time": "2022-05-25T10:58:24.720666Z"
    }
   },
   "outputs": [],
   "source": [
    "def preparation_ohe(df):\n",
    "    '''\n",
    "    Input: feathers - таблица  (pd.DataFrame).\n",
    "    Output: features,target, features_train, features_test, target_train, target_test, num, cat -\n",
    "            признаки, целевой признак, признаки и целовой признак обучающей и тестовой выборок, \n",
    "            списки численных и категориальных колонок\n",
    "    Description: 1) Функция преобразует категориальные признаки в численные методом One-Hot Encoding.  \n",
    "                 2) Разбивает выборку на признаки и целевой признак.\n",
    "                 3) Формирует списки с названиями колонок численных и категориальных признаков.\n",
    "                 4) Выделяет обучающую и тестовые выборки.\n",
    "                 5) Масштабирует численные признаки\n",
    "\n",
    "    '''\n",
    "    num = []\n",
    "    cat = []\n",
    "    \n",
    "    num = list(df.select_dtypes(exclude = 'object'))\n",
    "    num.remove('Price')\n",
    "    cat = list(df.select_dtypes(include = 'object'))\n",
    "    \n",
    "    # Преобразуем категориальные признаки.\n",
    "    df_ohe = pd.get_dummies(df,drop_first=True)\n",
    "        \n",
    "    # Разбиваем выборку на целевой признак и признаки. \n",
    "    features = df_ohe.drop('Price', axis=1)\n",
    "    target = df_ohe['Price']\n",
    "\n",
    "    # Выделяем обучающую и тестовые выборки.\n",
    "    features_train, features_test, target_train, target_test = train_test_split(\n",
    "        features, target, train_size=0.75,random_state=12345)\n",
    "    \n",
    "    # Масштабируем числовые признаки.\n",
    "    scaler = StandardScaler()\n",
    "    scaler.fit(features_train[num]) \n",
    "    features_train[num] = scaler.transform(features_train[num])\n",
    "    features_test[num] = scaler.transform(features_test[num])\n",
    "\n",
    "    return features,target,features_train, features_test, target_train, target_test, num, cat"
   ]
  },
  {
   "cell_type": "code",
   "execution_count": 20,
   "metadata": {
    "ExecuteTime": {
     "end_time": "2022-05-25T10:58:33.876757Z",
     "start_time": "2022-05-25T10:58:32.743676Z"
    }
   },
   "outputs": [
    {
     "name": "stdout",
     "output_type": "stream",
     "text": [
      "Wall time: 1.13 s\n"
     ]
    }
   ],
   "source": [
    "%%time\n",
    "features_o,target_o,features_train_o, features_test_o, target_train_o, target_test_o, num_o, cat_o  = preparation_ohe(autos)"
   ]
  },
  {
   "cell_type": "markdown",
   "metadata": {},
   "source": [
    "## Обучение моделей"
   ]
  },
  {
   "cell_type": "code",
   "execution_count": 21,
   "metadata": {
    "ExecuteTime": {
     "end_time": "2022-05-25T10:58:39.691762Z",
     "start_time": "2022-05-25T10:58:39.679770Z"
    }
   },
   "outputs": [],
   "source": [
    "# Создадим словарь для результатов тестирования.\n",
    "rmse_dict = {}"
   ]
  },
  {
   "cell_type": "code",
   "execution_count": 22,
   "metadata": {
    "ExecuteTime": {
     "end_time": "2022-05-25T10:58:44.155739Z",
     "start_time": "2022-05-25T10:58:44.150724Z"
    }
   },
   "outputs": [],
   "source": [
    "def params_grid(model,params,scoring,features,target):\n",
    "    '''\n",
    "    Input: model - обучаемая модель, params - набор параметров модели, scoring -метрика оценки ошибки,\n",
    "           features,target - признаки и целевой признак обучающей выборки.\n",
    "    Output: model_grid,best_params,best_score - модель, ее лучшие параметры и \n",
    "            наименьшее значение метрики оценки ошибки\n",
    "    Description: Функция ищет лучшие параметры из диапазона переданного в аргумент, \n",
    "                 для принимаемой в аргумент модели\n",
    "\n",
    "    '''\n",
    "    model_grid = GridSearchCV(model,params,cv=5, n_jobs=-1,scoring=scoring, verbose=2)\n",
    "    model_grid.fit(features,target)\n",
    "    best_params = model_grid.best_params_\n",
    "    best_score = model_grid.best_score_\n",
    "    return model_grid,best_params,best_score"
   ]
  },
  {
   "cell_type": "markdown",
   "metadata": {},
   "source": [
    "### LinearRegression\n",
    "Обучим две модели в соответствующей каждому типу кодирования и посмотрим на результаты.\\\n",
    "Начнем с модели использующей данные после кодирования `OrdinalEncoder`."
   ]
  },
  {
   "cell_type": "code",
   "execution_count": 23,
   "metadata": {
    "ExecuteTime": {
     "end_time": "2022-05-25T10:59:26.629061Z",
     "start_time": "2022-05-25T10:59:26.336871Z"
    }
   },
   "outputs": [
    {
     "data": {
      "text/html": [
       "<font color='blue'>RMSE LinearRegression методом OrdinalEncoder:3108.989</font>"
      ],
      "text/plain": [
       "<IPython.core.display.HTML object>"
      ]
     },
     "metadata": {},
     "output_type": "display_data"
    },
    {
     "name": "stdout",
     "output_type": "stream",
     "text": [
      "Wall time: 285 ms\n"
     ]
    }
   ],
   "source": [
    "%%time\n",
    "model_lr_ord = LinearRegression()\n",
    "rmse_lr_ord = cross_val_score(LinearRegression(),\n",
    "                                          features_train,\n",
    "                                          target_train,\n",
    "                                          cv=5, scoring='neg_root_mean_squared_error').min()\n",
    "rmse_lr_ord = rmse_lr_ord *(-1)\n",
    "display(HTML(f\"<font color='blue'>RMSE LinearRegression методом OrdinalEncoder:\\\n",
    "{rmse_lr_ord:.3f}</font>\"))"
   ]
  },
  {
   "cell_type": "markdown",
   "metadata": {},
   "source": [
    "Посмотрим, как поведет себя `LinearRegression` на данных, преобразованных методом `One-Hot Encoding`."
   ]
  },
  {
   "cell_type": "code",
   "execution_count": 24,
   "metadata": {
    "ExecuteTime": {
     "end_time": "2022-05-25T10:59:51.230030Z",
     "start_time": "2022-05-25T10:59:28.951623Z"
    }
   },
   "outputs": [
    {
     "data": {
      "text/html": [
       "<font color='blue'>RMSE LinearRegression методом One-Hot Encoding:2742.979</font>"
      ],
      "text/plain": [
       "<IPython.core.display.HTML object>"
      ]
     },
     "metadata": {},
     "output_type": "display_data"
    },
    {
     "name": "stdout",
     "output_type": "stream",
     "text": [
      "Wall time: 22.3 s\n"
     ]
    }
   ],
   "source": [
    "%%time\n",
    "model_lr_ohe = LinearRegression()\n",
    "rmse_lr_ohe = cross_val_score(LinearRegression(),\n",
    "                                          features_train_o,\n",
    "                                          target_train_o,\n",
    "                                          cv=5, scoring='neg_root_mean_squared_error').min()\n",
    "rmse_lr_ohe = rmse_lr_ohe *(-1)\n",
    "display(HTML(f\"<font color='blue'>RMSE LinearRegression методом One-Hot Encoding:\\\n",
    "{rmse_lr_ohe:.3f}</font>\"))"
   ]
  },
  {
   "cell_type": "code",
   "execution_count": 41,
   "metadata": {
    "ExecuteTime": {
     "end_time": "2022-05-25T12:04:49.516004Z",
     "start_time": "2022-05-25T12:04:49.512014Z"
    }
   },
   "outputs": [],
   "source": [
    "# Занесем результаты в словарь\n",
    "rmse_dict['LinearRegression'] = [rmse_lr_ord, rmse_lr_ohe,0,0.0285,22.3,0]"
   ]
  },
  {
   "cell_type": "markdown",
   "metadata": {},
   "source": [
    "###  DecisionTreeRegressor\n",
    "Оценить модели решающего дерева."
   ]
  },
  {
   "cell_type": "code",
   "execution_count": 26,
   "metadata": {
    "ExecuteTime": {
     "end_time": "2022-05-25T11:03:48.886002Z",
     "start_time": "2022-05-25T11:03:48.878993Z"
    }
   },
   "outputs": [],
   "source": [
    "tree_params = {'max_depth': range(1,8,1)}\n",
    "tree_model = DecisionTreeRegressor(random_state=12345)"
   ]
  },
  {
   "cell_type": "code",
   "execution_count": 27,
   "metadata": {
    "ExecuteTime": {
     "end_time": "2022-05-25T11:03:58.354572Z",
     "start_time": "2022-05-25T11:03:52.999175Z"
    }
   },
   "outputs": [
    {
     "name": "stdout",
     "output_type": "stream",
     "text": [
      "Fitting 5 folds for each of 7 candidates, totalling 35 fits\n"
     ]
    },
    {
     "data": {
      "text/html": [
       "<font color='blue'>RMSE DecisionTreeRegressor методом OrdinalEncoder:-2300.157</font>"
      ],
      "text/plain": [
       "<IPython.core.display.HTML object>"
      ]
     },
     "metadata": {},
     "output_type": "display_data"
    },
    {
     "name": "stdout",
     "output_type": "stream",
     "text": [
      "Wall time: 5.35 s\n"
     ]
    }
   ],
   "source": [
    "%%time\n",
    "tree_grid_ord = params_grid(tree_model,tree_params,'neg_root_mean_squared_error',features_train,target_train)\n",
    "tree_grid_ord\n",
    "display(HTML(f\"<font color='blue'>RMSE DecisionTreeRegressor методом OrdinalEncoder:\\\n",
    "{tree_grid_ord[2]:.3f}</font>\"))"
   ]
  },
  {
   "cell_type": "code",
   "execution_count": 28,
   "metadata": {
    "ExecuteTime": {
     "end_time": "2022-05-25T11:04:43.122681Z",
     "start_time": "2022-05-25T11:04:04.551149Z"
    }
   },
   "outputs": [
    {
     "name": "stdout",
     "output_type": "stream",
     "text": [
      "Fitting 5 folds for each of 7 candidates, totalling 35 fits\n"
     ]
    },
    {
     "data": {
      "text/html": [
       "<font color='blue'>RMSE DecisionTreeRegressor методом One-Hot Encoding:-2303.555</font>"
      ],
      "text/plain": [
       "<IPython.core.display.HTML object>"
      ]
     },
     "metadata": {},
     "output_type": "display_data"
    },
    {
     "name": "stdout",
     "output_type": "stream",
     "text": [
      "Wall time: 38.6 s\n"
     ]
    }
   ],
   "source": [
    "%%time\n",
    "tree_grid_ohe = params_grid(tree_model,tree_params,'neg_root_mean_squared_error',features_train_o,target_train_o)\n",
    "tree_grid_ohe\n",
    "display(HTML(f\"<font color='blue'>RMSE DecisionTreeRegressor методом One-Hot Encoding:\\\n",
    "{tree_grid_ohe[2]:.3f}</font>\"))"
   ]
  },
  {
   "cell_type": "code",
   "execution_count": 40,
   "metadata": {
    "ExecuteTime": {
     "end_time": "2022-05-25T12:04:40.264440Z",
     "start_time": "2022-05-25T12:04:40.247462Z"
    }
   },
   "outputs": [],
   "source": [
    "# Занесем результаты в словарь\n",
    "rmse_dict['DecisionTreeRegressor'] = [tree_grid_ord[2]*(-1), tree_grid_ohe[2]*(-1),0, 5.35, 38.6,0]"
   ]
  },
  {
   "cell_type": "markdown",
   "metadata": {},
   "source": [
    "### LightGBM \n",
    "Теперь посмотрим на результаты на модели Бустинга."
   ]
  },
  {
   "cell_type": "code",
   "execution_count": 30,
   "metadata": {
    "ExecuteTime": {
     "end_time": "2022-05-25T11:05:18.129374Z",
     "start_time": "2022-05-25T11:05:18.110429Z"
    }
   },
   "outputs": [],
   "source": [
    "parameters_lgbm = {\n",
    "          'objective': ['regression'],\n",
    "          'max_depth': range(3,7,1),\n",
    "          'learning_rate':np.arange(0.021,0.024,0.001),\n",
    "          \"boosting_type\": ['gbdt'],\n",
    "          \"metric\": ['rmse'],\n",
    "          \"verbosity\": [1],\n",
    "          'random_state': [12345],\n",
    "          'n_estimators': range(380,481,50),        \n",
    "    }\n"
   ]
  },
  {
   "cell_type": "code",
   "execution_count": 31,
   "metadata": {
    "ExecuteTime": {
     "end_time": "2022-05-25T11:05:19.309196Z",
     "start_time": "2022-05-25T11:05:19.303213Z"
    }
   },
   "outputs": [],
   "source": [
    "model_lgbm = LGBMRegressor()"
   ]
  },
  {
   "cell_type": "markdown",
   "metadata": {},
   "source": [
    "Первая модель на данных после кодирования `OrdinalEncoder`."
   ]
  },
  {
   "cell_type": "code",
   "execution_count": 32,
   "metadata": {
    "ExecuteTime": {
     "end_time": "2022-05-25T11:10:09.906937Z",
     "start_time": "2022-05-25T11:05:32.903149Z"
    }
   },
   "outputs": [
    {
     "name": "stdout",
     "output_type": "stream",
     "text": [
      "Fitting 5 folds for each of 36 candidates, totalling 180 fits\n",
      "[LightGBM] [Warning] Accuracy may be bad since you didn't explicitly set num_leaves OR 2^max_depth > num_leaves. (num_leaves=31).\n",
      "[LightGBM] [Warning] Accuracy may be bad since you didn't explicitly set num_leaves OR 2^max_depth > num_leaves. (num_leaves=31).\n",
      "[LightGBM] [Warning] Auto-choosing row-wise multi-threading, the overhead of testing was 0.006431 seconds.\n",
      "You can set `force_row_wise=true` to remove the overhead.\n",
      "And if memory is not enough, you can set `force_col_wise=true`.\n",
      "[LightGBM] [Info] Total Bins 641\n",
      "[LightGBM] [Info] Number of data points in the train set: 246965, number of used features: 9\n",
      "[LightGBM] [Info] Start training from score 4606.609256\n",
      "[LightGBM] [Warning] No further splits with positive gain, best gain: -inf\n",
      "[LightGBM] [Warning] No further splits with positive gain, best gain: -inf\n",
      "[LightGBM] [Warning] No further splits with positive gain, best gain: -inf\n",
      "[LightGBM] [Warning] No further splits with positive gain, best gain: -inf\n",
      "[LightGBM] [Warning] No further splits with positive gain, best gain: -inf\n",
      "[LightGBM] [Warning] No further splits with positive gain, best gain: -inf\n",
      "[LightGBM] [Warning] No further splits with positive gain, best gain: -inf\n",
      "[LightGBM] [Warning] No further splits with positive gain, best gain: -inf\n",
      "[LightGBM] [Warning] No further splits with positive gain, best gain: -inf\n",
      "[LightGBM] [Warning] No further splits with positive gain, best gain: -inf\n",
      "[LightGBM] [Warning] No further splits with positive gain, best gain: -inf\n",
      "[LightGBM] [Warning] No further splits with positive gain, best gain: -inf\n",
      "[LightGBM] [Warning] No further splits with positive gain, best gain: -inf\n",
      "[LightGBM] [Warning] No further splits with positive gain, best gain: -inf\n",
      "[LightGBM] [Warning] No further splits with positive gain, best gain: -inf\n",
      "[LightGBM] [Warning] No further splits with positive gain, best gain: -inf\n",
      "[LightGBM] [Warning] No further splits with positive gain, best gain: -inf\n",
      "[LightGBM] [Warning] No further splits with positive gain, best gain: -inf\n",
      "[LightGBM] [Warning] No further splits with positive gain, best gain: -inf\n",
      "[LightGBM] [Warning] No further splits with positive gain, best gain: -inf\n",
      "[LightGBM] [Warning] No further splits with positive gain, best gain: -inf\n",
      "[LightGBM] [Warning] No further splits with positive gain, best gain: -inf\n",
      "[LightGBM] [Warning] No further splits with positive gain, best gain: -inf\n",
      "[LightGBM] [Warning] No further splits with positive gain, best gain: -inf\n",
      "[LightGBM] [Warning] No further splits with positive gain, best gain: -inf\n",
      "[LightGBM] [Warning] No further splits with positive gain, best gain: -inf\n",
      "[LightGBM] [Warning] No further splits with positive gain, best gain: -inf\n",
      "[LightGBM] [Warning] No further splits with positive gain, best gain: -inf\n",
      "[LightGBM] [Warning] No further splits with positive gain, best gain: -inf\n",
      "[LightGBM] [Warning] No further splits with positive gain, best gain: -inf\n",
      "[LightGBM] [Warning] No further splits with positive gain, best gain: -inf\n",
      "[LightGBM] [Warning] No further splits with positive gain, best gain: -inf\n",
      "[LightGBM] [Warning] No further splits with positive gain, best gain: -inf\n",
      "[LightGBM] [Warning] No further splits with positive gain, best gain: -inf\n",
      "[LightGBM] [Warning] No further splits with positive gain, best gain: -inf\n",
      "[LightGBM] [Warning] No further splits with positive gain, best gain: -inf\n",
      "[LightGBM] [Warning] No further splits with positive gain, best gain: -inf\n",
      "[LightGBM] [Warning] No further splits with positive gain, best gain: -inf\n",
      "[LightGBM] [Warning] No further splits with positive gain, best gain: -inf\n",
      "[LightGBM] [Warning] No further splits with positive gain, best gain: -inf\n",
      "[LightGBM] [Warning] No further splits with positive gain, best gain: -inf\n",
      "[LightGBM] [Warning] No further splits with positive gain, best gain: -inf\n",
      "[LightGBM] [Warning] No further splits with positive gain, best gain: -inf\n",
      "[LightGBM] [Warning] No further splits with positive gain, best gain: -inf\n"
     ]
    },
    {
     "data": {
      "text/html": [
       "<font color='blue'>RMSE LGBMRegressor методом OrdinalEncoder:-1775.394</font>"
      ],
      "text/plain": [
       "<IPython.core.display.HTML object>"
      ]
     },
     "metadata": {},
     "output_type": "display_data"
    },
    {
     "name": "stdout",
     "output_type": "stream",
     "text": [
      "Wall time: 4min 36s\n"
     ]
    }
   ],
   "source": [
    "%%time\n",
    "lgbm_grid_ord = params_grid(model_lgbm,parameters_lgbm,'neg_root_mean_squared_error',features_train,target_train)\n",
    "lgbm_grid_ord \n",
    "display(HTML(f\"<font color='blue'>RMSE LGBMRegressor методом OrdinalEncoder:\\\n",
    "{lgbm_grid_ord[2]:.3f}</font>\"))"
   ]
  },
  {
   "cell_type": "markdown",
   "metadata": {},
   "source": [
    "Вторая используем данные после кодирования `One-Hot Encoding`."
   ]
  },
  {
   "cell_type": "code",
   "execution_count": 33,
   "metadata": {
    "ExecuteTime": {
     "end_time": "2022-05-25T11:16:52.065833Z",
     "start_time": "2022-05-25T11:10:48.798942Z"
    }
   },
   "outputs": [
    {
     "name": "stdout",
     "output_type": "stream",
     "text": [
      "Fitting 5 folds for each of 36 candidates, totalling 180 fits\n",
      "[LightGBM] [Warning] Accuracy may be bad since you didn't explicitly set num_leaves OR 2^max_depth > num_leaves. (num_leaves=31).\n",
      "[LightGBM] [Warning] Accuracy may be bad since you didn't explicitly set num_leaves OR 2^max_depth > num_leaves. (num_leaves=31).\n",
      "[LightGBM] [Warning] Auto-choosing row-wise multi-threading, the overhead of testing was 0.007852 seconds.\n",
      "You can set `force_row_wise=true` to remove the overhead.\n",
      "And if memory is not enough, you can set `force_col_wise=true`.\n",
      "[LightGBM] [Info] Total Bins 911\n",
      "[LightGBM] [Info] Number of data points in the train set: 246965, number of used features: 291\n",
      "[LightGBM] [Info] Start training from score 4606.609256\n",
      "[LightGBM] [Warning] No further splits with positive gain, best gain: -inf\n",
      "[LightGBM] [Warning] No further splits with positive gain, best gain: -inf\n",
      "[LightGBM] [Warning] No further splits with positive gain, best gain: -inf\n",
      "[LightGBM] [Warning] No further splits with positive gain, best gain: -inf\n",
      "[LightGBM] [Warning] No further splits with positive gain, best gain: -inf\n",
      "[LightGBM] [Warning] No further splits with positive gain, best gain: -inf\n",
      "[LightGBM] [Warning] No further splits with positive gain, best gain: -inf\n",
      "[LightGBM] [Warning] No further splits with positive gain, best gain: -inf\n",
      "[LightGBM] [Warning] No further splits with positive gain, best gain: -inf\n",
      "[LightGBM] [Warning] No further splits with positive gain, best gain: -inf\n",
      "[LightGBM] [Warning] No further splits with positive gain, best gain: -inf\n",
      "[LightGBM] [Warning] No further splits with positive gain, best gain: -inf\n",
      "[LightGBM] [Warning] No further splits with positive gain, best gain: -inf\n",
      "[LightGBM] [Warning] No further splits with positive gain, best gain: -inf\n",
      "[LightGBM] [Warning] No further splits with positive gain, best gain: -inf\n",
      "[LightGBM] [Warning] No further splits with positive gain, best gain: -inf\n",
      "[LightGBM] [Warning] No further splits with positive gain, best gain: -inf\n",
      "[LightGBM] [Warning] No further splits with positive gain, best gain: -inf\n",
      "[LightGBM] [Warning] No further splits with positive gain, best gain: -inf\n",
      "[LightGBM] [Warning] No further splits with positive gain, best gain: -inf\n",
      "[LightGBM] [Warning] No further splits with positive gain, best gain: -inf\n",
      "[LightGBM] [Warning] No further splits with positive gain, best gain: -inf\n",
      "[LightGBM] [Warning] No further splits with positive gain, best gain: -inf\n",
      "[LightGBM] [Warning] No further splits with positive gain, best gain: -inf\n",
      "[LightGBM] [Warning] No further splits with positive gain, best gain: -inf\n",
      "[LightGBM] [Warning] No further splits with positive gain, best gain: -inf\n",
      "[LightGBM] [Warning] No further splits with positive gain, best gain: -inf\n",
      "[LightGBM] [Warning] No further splits with positive gain, best gain: -inf\n",
      "[LightGBM] [Warning] No further splits with positive gain, best gain: -inf\n",
      "[LightGBM] [Warning] No further splits with positive gain, best gain: -inf\n",
      "[LightGBM] [Warning] No further splits with positive gain, best gain: -inf\n",
      "[LightGBM] [Warning] No further splits with positive gain, best gain: -inf\n",
      "[LightGBM] [Warning] No further splits with positive gain, best gain: -inf\n",
      "[LightGBM] [Warning] No further splits with positive gain, best gain: -inf\n",
      "[LightGBM] [Warning] No further splits with positive gain, best gain: -inf\n",
      "[LightGBM] [Warning] No further splits with positive gain, best gain: -inf\n",
      "[LightGBM] [Warning] No further splits with positive gain, best gain: -inf\n",
      "[LightGBM] [Warning] No further splits with positive gain, best gain: -inf\n",
      "[LightGBM] [Warning] No further splits with positive gain, best gain: -inf\n",
      "[LightGBM] [Warning] No further splits with positive gain, best gain: -inf\n",
      "[LightGBM] [Warning] No further splits with positive gain, best gain: -inf\n",
      "[LightGBM] [Warning] No further splits with positive gain, best gain: -inf\n",
      "[LightGBM] [Warning] No further splits with positive gain, best gain: -inf\n",
      "[LightGBM] [Warning] No further splits with positive gain, best gain: -inf\n",
      "[LightGBM] [Warning] No further splits with positive gain, best gain: -inf\n",
      "[LightGBM] [Warning] No further splits with positive gain, best gain: -inf\n",
      "[LightGBM] [Warning] No further splits with positive gain, best gain: -inf\n",
      "[LightGBM] [Warning] No further splits with positive gain, best gain: -inf\n",
      "[LightGBM] [Warning] No further splits with positive gain, best gain: -inf\n",
      "[LightGBM] [Warning] No further splits with positive gain, best gain: -inf\n",
      "[LightGBM] [Warning] No further splits with positive gain, best gain: -inf\n",
      "[LightGBM] [Warning] No further splits with positive gain, best gain: -inf\n",
      "[LightGBM] [Warning] No further splits with positive gain, best gain: -inf\n",
      "[LightGBM] [Warning] No further splits with positive gain, best gain: -inf\n",
      "[LightGBM] [Warning] No further splits with positive gain, best gain: -inf\n",
      "[LightGBM] [Warning] No further splits with positive gain, best gain: -inf\n",
      "[LightGBM] [Warning] No further splits with positive gain, best gain: -inf\n",
      "[LightGBM] [Warning] No further splits with positive gain, best gain: -inf\n",
      "[LightGBM] [Warning] No further splits with positive gain, best gain: -inf\n",
      "[LightGBM] [Warning] No further splits with positive gain, best gain: -inf\n",
      "[LightGBM] [Warning] No further splits with positive gain, best gain: -inf\n",
      "[LightGBM] [Warning] No further splits with positive gain, best gain: -inf\n",
      "[LightGBM] [Warning] No further splits with positive gain, best gain: -inf\n",
      "[LightGBM] [Warning] No further splits with positive gain, best gain: -inf\n",
      "[LightGBM] [Warning] No further splits with positive gain, best gain: -inf\n",
      "[LightGBM] [Warning] No further splits with positive gain, best gain: -inf\n",
      "[LightGBM] [Warning] No further splits with positive gain, best gain: -inf\n",
      "[LightGBM] [Warning] No further splits with positive gain, best gain: -inf\n",
      "[LightGBM] [Warning] No further splits with positive gain, best gain: -inf\n",
      "[LightGBM] [Warning] No further splits with positive gain, best gain: -inf\n",
      "[LightGBM] [Warning] No further splits with positive gain, best gain: -inf\n",
      "[LightGBM] [Warning] No further splits with positive gain, best gain: -inf\n",
      "[LightGBM] [Warning] No further splits with positive gain, best gain: -inf\n",
      "[LightGBM] [Warning] No further splits with positive gain, best gain: -inf\n",
      "[LightGBM] [Warning] No further splits with positive gain, best gain: -inf\n",
      "[LightGBM] [Warning] No further splits with positive gain, best gain: -inf\n"
     ]
    },
    {
     "data": {
      "text/html": [
       "<font color='blue'>RMSE LGBMRegressor методом One-Hot Encoding:-1788.285</font>"
      ],
      "text/plain": [
       "<IPython.core.display.HTML object>"
      ]
     },
     "metadata": {},
     "output_type": "display_data"
    },
    {
     "name": "stdout",
     "output_type": "stream",
     "text": [
      "Wall time: 6min 3s\n"
     ]
    }
   ],
   "source": [
    "%%time\n",
    "lgbm_grid_ohe = params_grid(model_lgbm,parameters_lgbm,'neg_root_mean_squared_error',features_train_o,target_train_o)\n",
    "display(HTML(f\"<font color='blue'>RMSE LGBMRegressor методом One-Hot Encoding:\\\n",
    "{lgbm_grid_ohe[2]:.3f}</font>\"))"
   ]
  },
  {
   "cell_type": "markdown",
   "metadata": {},
   "source": [
    "`LGBM` модель может обрабатывать категориальные принзаки сама, достаточно привести эти признаки к типу 'category'. Попробуем обучить ещё такой вариант модели."
   ]
  },
  {
   "cell_type": "code",
   "execution_count": 37,
   "metadata": {
    "ExecuteTime": {
     "end_time": "2022-05-25T11:51:35.591112Z",
     "start_time": "2022-05-25T11:51:35.368292Z"
    }
   },
   "outputs": [],
   "source": [
    "category = list(autos.select_dtypes(include = 'object'))\n",
    "\n",
    "for col in category:\n",
    "    autos[col] = autos[col].astype('category')\n",
    "    \n",
    "\n",
    "# Разбиваем выборку на целевой признак и признаки. \n",
    "features = autos.drop('Price', axis=1)\n",
    "target = autos['Price']\n",
    "\n",
    "\n",
    "\n",
    "# Выделяем обучающую и тестовые выборки.\n",
    "features_train_l, features_test_l, target_train_l, target_test_l = train_test_split(\n",
    "    features, target, train_size=0.75,random_state=12345)\n",
    "\n",
    "# Масштабируем числовые признаки\n",
    "scaler = StandardScaler()\n",
    "scaler.fit(features_train_l[num]) \n",
    "features_train_l[num] = scaler.transform(features_train_l[num])\n",
    "features_test_l[num] = scaler.transform(features_test_l[num])"
   ]
  },
  {
   "cell_type": "code",
   "execution_count": 38,
   "metadata": {
    "ExecuteTime": {
     "end_time": "2022-05-25T11:56:33.083251Z",
     "start_time": "2022-05-25T11:51:40.858108Z"
    }
   },
   "outputs": [
    {
     "name": "stdout",
     "output_type": "stream",
     "text": [
      "Fitting 5 folds for each of 36 candidates, totalling 180 fits\n",
      "[LightGBM] [Warning] Accuracy may be bad since you didn't explicitly set num_leaves OR 2^max_depth > num_leaves. (num_leaves=31).\n",
      "[LightGBM] [Warning] Accuracy may be bad since you didn't explicitly set num_leaves OR 2^max_depth > num_leaves. (num_leaves=31).\n",
      "[LightGBM] [Warning] Auto-choosing row-wise multi-threading, the overhead of testing was 0.007036 seconds.\n",
      "You can set `force_row_wise=true` to remove the overhead.\n",
      "And if memory is not enough, you can set `force_col_wise=true`.\n",
      "[LightGBM] [Info] Total Bins 645\n",
      "[LightGBM] [Info] Number of data points in the train set: 246965, number of used features: 9\n",
      "[LightGBM] [Info] Start training from score 4606.609256\n",
      "[LightGBM] [Warning] No further splits with positive gain, best gain: -inf\n",
      "[LightGBM] [Warning] No further splits with positive gain, best gain: -inf\n",
      "[LightGBM] [Warning] No further splits with positive gain, best gain: -inf\n",
      "[LightGBM] [Warning] No further splits with positive gain, best gain: -inf\n",
      "[LightGBM] [Warning] No further splits with positive gain, best gain: -inf\n",
      "[LightGBM] [Warning] No further splits with positive gain, best gain: -inf\n",
      "[LightGBM] [Warning] No further splits with positive gain, best gain: -inf\n",
      "[LightGBM] [Warning] No further splits with positive gain, best gain: -inf\n",
      "[LightGBM] [Warning] No further splits with positive gain, best gain: -inf\n",
      "[LightGBM] [Warning] No further splits with positive gain, best gain: -inf\n",
      "[LightGBM] [Warning] No further splits with positive gain, best gain: -inf\n",
      "[LightGBM] [Warning] No further splits with positive gain, best gain: -inf\n",
      "[LightGBM] [Warning] No further splits with positive gain, best gain: -inf\n",
      "[LightGBM] [Warning] No further splits with positive gain, best gain: -inf\n",
      "[LightGBM] [Warning] No further splits with positive gain, best gain: -inf\n",
      "[LightGBM] [Warning] No further splits with positive gain, best gain: -inf\n",
      "[LightGBM] [Warning] No further splits with positive gain, best gain: -inf\n",
      "[LightGBM] [Warning] No further splits with positive gain, best gain: -inf\n",
      "[LightGBM] [Warning] No further splits with positive gain, best gain: -inf\n",
      "[LightGBM] [Warning] No further splits with positive gain, best gain: -inf\n",
      "[LightGBM] [Warning] No further splits with positive gain, best gain: -inf\n",
      "[LightGBM] [Warning] No further splits with positive gain, best gain: -inf\n",
      "[LightGBM] [Warning] No further splits with positive gain, best gain: -inf\n",
      "[LightGBM] [Warning] No further splits with positive gain, best gain: -inf\n",
      "[LightGBM] [Warning] No further splits with positive gain, best gain: -inf\n",
      "[LightGBM] [Warning] No further splits with positive gain, best gain: -inf\n",
      "[LightGBM] [Warning] No further splits with positive gain, best gain: -inf\n",
      "[LightGBM] [Warning] No further splits with positive gain, best gain: -inf\n",
      "[LightGBM] [Warning] No further splits with positive gain, best gain: -inf\n",
      "[LightGBM] [Warning] No further splits with positive gain, best gain: -inf\n",
      "[LightGBM] [Warning] No further splits with positive gain, best gain: -inf\n",
      "[LightGBM] [Warning] No further splits with positive gain, best gain: -inf\n",
      "[LightGBM] [Warning] No further splits with positive gain, best gain: -inf\n",
      "[LightGBM] [Warning] No further splits with positive gain, best gain: -inf\n",
      "[LightGBM] [Warning] No further splits with positive gain, best gain: -inf\n",
      "[LightGBM] [Warning] No further splits with positive gain, best gain: -inf\n",
      "[LightGBM] [Warning] No further splits with positive gain, best gain: -inf\n",
      "[LightGBM] [Warning] No further splits with positive gain, best gain: -inf\n",
      "[LightGBM] [Warning] No further splits with positive gain, best gain: -inf\n",
      "[LightGBM] [Warning] No further splits with positive gain, best gain: -inf\n",
      "[LightGBM] [Warning] No further splits with positive gain, best gain: -inf\n",
      "[LightGBM] [Warning] No further splits with positive gain, best gain: -inf\n",
      "[LightGBM] [Warning] No further splits with positive gain, best gain: -inf\n",
      "[LightGBM] [Warning] No further splits with positive gain, best gain: -inf\n",
      "[LightGBM] [Warning] No further splits with positive gain, best gain: -inf\n",
      "[LightGBM] [Warning] No further splits with positive gain, best gain: -inf\n",
      "[LightGBM] [Warning] No further splits with positive gain, best gain: -inf\n",
      "[LightGBM] [Warning] No further splits with positive gain, best gain: -inf\n",
      "[LightGBM] [Warning] No further splits with positive gain, best gain: -inf\n",
      "[LightGBM] [Warning] No further splits with positive gain, best gain: -inf\n",
      "[LightGBM] [Warning] No further splits with positive gain, best gain: -inf\n"
     ]
    },
    {
     "data": {
      "text/html": [
       "<font color='blue'>RMSE LGBMRegressor переводом в category:-1683.758</font>"
      ],
      "text/plain": [
       "<IPython.core.display.HTML object>"
      ]
     },
     "metadata": {},
     "output_type": "display_data"
    },
    {
     "name": "stdout",
     "output_type": "stream",
     "text": [
      "Wall time: 4min 52s\n"
     ]
    }
   ],
   "source": [
    "%%time\n",
    "lgbm_grid_cat = params_grid(model_lgbm,parameters_lgbm,'neg_root_mean_squared_error',features_train_l,target_train_l)\n",
    "display(HTML(f\"<font color='blue'>RMSE LGBMRegressor переводом в category:\\\n",
    "{lgbm_grid_cat[2]:.3f}</font>\"))"
   ]
  },
  {
   "cell_type": "code",
   "execution_count": 39,
   "metadata": {
    "ExecuteTime": {
     "end_time": "2022-05-25T12:04:14.685154Z",
     "start_time": "2022-05-25T12:04:14.672161Z"
    }
   },
   "outputs": [],
   "source": [
    "# Занесем результаты в словарь.\n",
    "rmse_dict['LGBMRegressor'] = [lgbm_grid_ord[2]*(-1), lgbm_grid_ohe[2]*(-1),lgbm_grid_cat[2]*(-1), 276,363,292]"
   ]
  },
  {
   "cell_type": "markdown",
   "metadata": {},
   "source": [
    "### CatBoostRegressor"
   ]
  },
  {
   "cell_type": "code",
   "execution_count": 42,
   "metadata": {
    "ExecuteTime": {
     "end_time": "2022-05-25T12:05:03.403878Z",
     "start_time": "2022-05-25T12:05:03.391910Z"
    }
   },
   "outputs": [],
   "source": [
    "parameters_cat = {\n",
    "          'depth': range(3,7,1),\n",
    "          'learning_rate':np.arange(0.021,0.024,0.001),\n",
    "          \"loss_function\": ['RMSE'],\n",
    "          \"verbose\": [1],\n",
    "          'random_state': [12345],\n",
    "          'iterations': range(380,481,50)\n",
    "          } "
   ]
  },
  {
   "cell_type": "code",
   "execution_count": 43,
   "metadata": {
    "ExecuteTime": {
     "end_time": "2022-05-25T12:05:09.587928Z",
     "start_time": "2022-05-25T12:05:09.575937Z"
    }
   },
   "outputs": [],
   "source": [
    "model_cat = CatBoostRegressor()"
   ]
  },
  {
   "cell_type": "markdown",
   "metadata": {},
   "source": [
    "CatBoostRegressor метод `OrdinalEncoder`"
   ]
  },
  {
   "cell_type": "code",
   "execution_count": 44,
   "metadata": {
    "ExecuteTime": {
     "end_time": "2022-05-25T12:20:44.672466Z",
     "start_time": "2022-05-25T12:05:23.627916Z"
    }
   },
   "outputs": [
    {
     "name": "stdout",
     "output_type": "stream",
     "text": [
      "Fitting 5 folds for each of 36 candidates, totalling 180 fits\n",
      "0:\tlearn: 4478.7706568\ttotal: 151ms\tremaining: 1m 12s\n",
      "1:\tlearn: 4416.2752247\ttotal: 170ms\tremaining: 40.7s\n",
      "2:\tlearn: 4353.5487423\ttotal: 190ms\tremaining: 30.1s\n",
      "3:\tlearn: 4292.7519467\ttotal: 208ms\tremaining: 24.7s\n",
      "4:\tlearn: 4234.9557616\ttotal: 225ms\tremaining: 21.4s\n",
      "5:\tlearn: 4178.4795963\ttotal: 250ms\tremaining: 19.8s\n",
      "6:\tlearn: 4124.7570843\ttotal: 270ms\tremaining: 18.3s\n",
      "7:\tlearn: 4070.9147629\ttotal: 289ms\tremaining: 17s\n",
      "8:\tlearn: 4016.9949574\ttotal: 307ms\tremaining: 16.1s\n",
      "9:\tlearn: 3966.6743383\ttotal: 325ms\tremaining: 15.3s\n",
      "10:\tlearn: 3916.2074659\ttotal: 344ms\tremaining: 14.7s\n",
      "11:\tlearn: 3867.8470474\ttotal: 366ms\tremaining: 14.3s\n",
      "12:\tlearn: 3823.1905580\ttotal: 384ms\tremaining: 13.8s\n",
      "13:\tlearn: 3776.9191124\ttotal: 401ms\tremaining: 13.4s\n",
      "14:\tlearn: 3733.3284573\ttotal: 419ms\tremaining: 13s\n",
      "15:\tlearn: 3690.9100498\ttotal: 435ms\tremaining: 12.6s\n",
      "16:\tlearn: 3648.7241198\ttotal: 455ms\tremaining: 12.4s\n",
      "17:\tlearn: 3606.9481283\ttotal: 475ms\tremaining: 12.2s\n",
      "18:\tlearn: 3567.0413793\ttotal: 495ms\tremaining: 12s\n",
      "19:\tlearn: 3528.9141954\ttotal: 512ms\tremaining: 11.8s\n",
      "20:\tlearn: 3492.1042396\ttotal: 530ms\tremaining: 11.6s\n",
      "21:\tlearn: 3456.7867715\ttotal: 548ms\tremaining: 11.4s\n",
      "22:\tlearn: 3421.9796062\ttotal: 565ms\tremaining: 11.2s\n",
      "23:\tlearn: 3386.6201303\ttotal: 582ms\tremaining: 11.1s\n",
      "24:\tlearn: 3354.1502041\ttotal: 599ms\tremaining: 10.9s\n",
      "25:\tlearn: 3322.2947427\ttotal: 616ms\tremaining: 10.8s\n",
      "26:\tlearn: 3290.3860074\ttotal: 633ms\tremaining: 10.6s\n",
      "27:\tlearn: 3259.4576841\ttotal: 651ms\tremaining: 10.5s\n",
      "28:\tlearn: 3230.2665916\ttotal: 670ms\tremaining: 10.4s\n",
      "29:\tlearn: 3201.5704368\ttotal: 687ms\tremaining: 10.3s\n",
      "30:\tlearn: 3174.0371066\ttotal: 705ms\tremaining: 10.2s\n",
      "31:\tlearn: 3146.6194462\ttotal: 723ms\tremaining: 10.1s\n",
      "32:\tlearn: 3118.5964097\ttotal: 740ms\tremaining: 10s\n",
      "33:\tlearn: 3092.9804846\ttotal: 761ms\tremaining: 9.98s\n",
      "34:\tlearn: 3067.0083499\ttotal: 778ms\tremaining: 9.89s\n",
      "35:\tlearn: 3042.6602470\ttotal: 795ms\tremaining: 9.81s\n",
      "36:\tlearn: 3017.9631091\ttotal: 811ms\tremaining: 9.71s\n",
      "37:\tlearn: 2995.1023622\ttotal: 828ms\tremaining: 9.63s\n",
      "38:\tlearn: 2971.8188411\ttotal: 845ms\tremaining: 9.56s\n",
      "39:\tlearn: 2950.0559350\ttotal: 862ms\tremaining: 9.49s\n",
      "40:\tlearn: 2928.5861179\ttotal: 879ms\tremaining: 9.42s\n",
      "41:\tlearn: 2907.8392550\ttotal: 897ms\tremaining: 9.35s\n",
      "42:\tlearn: 2888.4050187\ttotal: 913ms\tremaining: 9.28s\n",
      "43:\tlearn: 2868.7210111\ttotal: 931ms\tremaining: 9.22s\n",
      "44:\tlearn: 2849.9122814\ttotal: 949ms\tremaining: 9.17s\n",
      "45:\tlearn: 2831.4966491\ttotal: 967ms\tremaining: 9.12s\n",
      "46:\tlearn: 2813.6904041\ttotal: 983ms\tremaining: 9.06s\n",
      "47:\tlearn: 2795.9255953\ttotal: 1s\tremaining: 9s\n",
      "48:\tlearn: 2778.7772755\ttotal: 1.02s\tremaining: 8.95s\n",
      "49:\tlearn: 2761.6263147\ttotal: 1.03s\tremaining: 8.89s\n",
      "50:\tlearn: 2745.3946859\ttotal: 1.05s\tremaining: 8.85s\n",
      "51:\tlearn: 2728.9686216\ttotal: 1.07s\tremaining: 8.8s\n",
      "52:\tlearn: 2713.1631960\ttotal: 1.09s\tremaining: 8.76s\n",
      "53:\tlearn: 2698.7867892\ttotal: 1.1s\tremaining: 8.71s\n",
      "54:\tlearn: 2684.0600165\ttotal: 1.12s\tremaining: 8.67s\n",
      "55:\tlearn: 2669.1948785\ttotal: 1.14s\tremaining: 8.62s\n",
      "56:\tlearn: 2655.3332974\ttotal: 1.16s\tremaining: 8.58s\n",
      "57:\tlearn: 2641.6583076\ttotal: 1.17s\tremaining: 8.54s\n",
      "58:\tlearn: 2629.0110414\ttotal: 1.19s\tremaining: 8.5s\n",
      "59:\tlearn: 2616.4822194\ttotal: 1.21s\tremaining: 8.46s\n",
      "60:\tlearn: 2604.6458673\ttotal: 1.22s\tremaining: 8.4s\n",
      "61:\tlearn: 2591.9216981\ttotal: 1.24s\tremaining: 8.36s\n",
      "62:\tlearn: 2580.4419252\ttotal: 1.26s\tremaining: 8.32s\n",
      "63:\tlearn: 2569.2789076\ttotal: 1.27s\tremaining: 8.28s\n",
      "64:\tlearn: 2558.2293117\ttotal: 1.29s\tremaining: 8.24s\n",
      "65:\tlearn: 2547.7331752\ttotal: 1.31s\tremaining: 8.2s\n",
      "66:\tlearn: 2537.2730032\ttotal: 1.32s\tremaining: 8.16s\n",
      "67:\tlearn: 2527.1874760\ttotal: 1.34s\tremaining: 8.12s\n",
      "68:\tlearn: 2517.1730073\ttotal: 1.36s\tremaining: 8.08s\n",
      "69:\tlearn: 2506.4036691\ttotal: 1.37s\tremaining: 8.05s\n",
      "70:\tlearn: 2496.5127006\ttotal: 1.39s\tremaining: 8.01s\n",
      "71:\tlearn: 2487.8885004\ttotal: 1.41s\tremaining: 7.97s\n",
      "72:\tlearn: 2479.0439468\ttotal: 1.42s\tremaining: 7.93s\n",
      "73:\tlearn: 2470.4808823\ttotal: 1.44s\tremaining: 7.91s\n",
      "74:\tlearn: 2462.3176776\ttotal: 1.46s\tremaining: 7.88s\n",
      "75:\tlearn: 2453.6026977\ttotal: 1.48s\tremaining: 7.84s\n",
      "76:\tlearn: 2445.8930504\ttotal: 1.49s\tremaining: 7.81s\n",
      "77:\tlearn: 2438.3223754\ttotal: 1.51s\tremaining: 7.77s\n",
      "78:\tlearn: 2430.4351873\ttotal: 1.52s\tremaining: 7.74s\n",
      "79:\tlearn: 2422.4902613\ttotal: 1.54s\tremaining: 7.7s\n",
      "80:\tlearn: 2415.0271897\ttotal: 1.55s\tremaining: 7.66s\n",
      "81:\tlearn: 2408.1442855\ttotal: 1.57s\tremaining: 7.63s\n",
      "82:\tlearn: 2401.0636113\ttotal: 1.59s\tremaining: 7.61s\n",
      "83:\tlearn: 2394.2638265\ttotal: 1.61s\tremaining: 7.58s\n",
      "84:\tlearn: 2387.9932108\ttotal: 1.62s\tremaining: 7.54s\n",
      "85:\tlearn: 2380.8220434\ttotal: 1.64s\tremaining: 7.51s\n",
      "86:\tlearn: 2374.0502656\ttotal: 1.66s\tremaining: 7.48s\n",
      "87:\tlearn: 2367.8489172\ttotal: 1.67s\tremaining: 7.45s\n",
      "88:\tlearn: 2360.8951009\ttotal: 1.69s\tremaining: 7.43s\n",
      "89:\tlearn: 2354.7688414\ttotal: 1.71s\tremaining: 7.4s\n",
      "90:\tlearn: 2348.9000123\ttotal: 1.72s\tremaining: 7.37s\n",
      "91:\tlearn: 2342.6318448\ttotal: 1.74s\tremaining: 7.34s\n",
      "92:\tlearn: 2336.7345023\ttotal: 1.76s\tremaining: 7.31s\n",
      "93:\tlearn: 2331.2952375\ttotal: 1.77s\tremaining: 7.29s\n",
      "94:\tlearn: 2324.7077186\ttotal: 1.79s\tremaining: 7.27s\n",
      "95:\tlearn: 2319.5345165\ttotal: 1.81s\tremaining: 7.24s\n",
      "96:\tlearn: 2314.1525938\ttotal: 1.82s\tremaining: 7.21s\n",
      "97:\tlearn: 2309.1788483\ttotal: 1.84s\tremaining: 7.18s\n",
      "98:\tlearn: 2304.0929546\ttotal: 1.86s\tremaining: 7.15s\n",
      "99:\tlearn: 2299.3594985\ttotal: 1.87s\tremaining: 7.12s\n",
      "100:\tlearn: 2294.6797015\ttotal: 1.89s\tremaining: 7.09s\n",
      "101:\tlearn: 2290.0562616\ttotal: 1.91s\tremaining: 7.07s\n",
      "102:\tlearn: 2284.6503419\ttotal: 1.92s\tremaining: 7.04s\n",
      "103:\tlearn: 2279.7537418\ttotal: 1.94s\tremaining: 7.01s\n",
      "104:\tlearn: 2275.1849834\ttotal: 1.95s\tremaining: 6.98s\n",
      "105:\tlearn: 2271.0710974\ttotal: 1.97s\tremaining: 6.96s\n",
      "106:\tlearn: 2266.1468803\ttotal: 1.99s\tremaining: 6.93s\n",
      "107:\tlearn: 2261.5930151\ttotal: 2s\tremaining: 6.91s\n",
      "108:\tlearn: 2257.2165718\ttotal: 2.02s\tremaining: 6.88s\n",
      "109:\tlearn: 2252.2093691\ttotal: 2.04s\tremaining: 6.86s\n",
      "110:\tlearn: 2247.9271024\ttotal: 2.05s\tremaining: 6.83s\n",
      "111:\tlearn: 2243.8587091\ttotal: 2.07s\tremaining: 6.81s\n",
      "112:\tlearn: 2240.0884709\ttotal: 2.09s\tremaining: 6.78s\n",
      "113:\tlearn: 2236.1891742\ttotal: 2.1s\tremaining: 6.76s\n",
      "114:\tlearn: 2232.4504856\ttotal: 2.12s\tremaining: 6.73s\n",
      "115:\tlearn: 2228.9638488\ttotal: 2.14s\tremaining: 6.71s\n",
      "116:\tlearn: 2225.5207899\ttotal: 2.15s\tremaining: 6.68s\n",
      "117:\tlearn: 2221.9977589\ttotal: 2.17s\tremaining: 6.65s\n",
      "118:\tlearn: 2218.4698670\ttotal: 2.19s\tremaining: 6.63s\n",
      "119:\tlearn: 2215.3540530\ttotal: 2.2s\tremaining: 6.61s\n",
      "120:\tlearn: 2211.9065344\ttotal: 2.22s\tremaining: 6.58s\n",
      "121:\tlearn: 2208.2837087\ttotal: 2.23s\tremaining: 6.55s\n",
      "122:\tlearn: 2204.1959553\ttotal: 2.25s\tremaining: 6.53s\n",
      "123:\tlearn: 2201.1918578\ttotal: 2.27s\tremaining: 6.51s\n",
      "124:\tlearn: 2197.5004236\ttotal: 2.28s\tremaining: 6.49s\n",
      "125:\tlearn: 2194.2880435\ttotal: 2.3s\tremaining: 6.46s\n",
      "126:\tlearn: 2190.8672163\ttotal: 2.32s\tremaining: 6.44s\n",
      "127:\tlearn: 2187.5666650\ttotal: 2.33s\tremaining: 6.42s\n",
      "128:\tlearn: 2184.6671203\ttotal: 2.35s\tremaining: 6.39s\n",
      "129:\tlearn: 2181.5912623\ttotal: 2.36s\tremaining: 6.37s\n",
      "130:\tlearn: 2178.9458940\ttotal: 2.38s\tremaining: 6.34s\n",
      "131:\tlearn: 2176.2247266\ttotal: 2.4s\tremaining: 6.32s\n",
      "132:\tlearn: 2173.2702201\ttotal: 2.41s\tremaining: 6.3s\n",
      "133:\tlearn: 2169.9211914\ttotal: 2.44s\tremaining: 6.29s\n",
      "134:\tlearn: 2166.7618518\ttotal: 2.45s\tremaining: 6.27s\n",
      "135:\tlearn: 2164.3808865\ttotal: 2.47s\tremaining: 6.25s\n",
      "136:\tlearn: 2161.5111529\ttotal: 2.49s\tremaining: 6.23s\n",
      "137:\tlearn: 2159.2832474\ttotal: 2.5s\tremaining: 6.21s\n",
      "138:\tlearn: 2156.7195515\ttotal: 2.52s\tremaining: 6.19s\n",
      "139:\tlearn: 2153.6869491\ttotal: 2.54s\tremaining: 6.17s\n",
      "140:\tlearn: 2151.4118990\ttotal: 2.56s\tremaining: 6.15s\n",
      "141:\tlearn: 2148.8836305\ttotal: 2.58s\tremaining: 6.13s\n",
      "142:\tlearn: 2146.8136979\ttotal: 2.6s\tremaining: 6.12s\n",
      "143:\tlearn: 2144.2635857\ttotal: 2.61s\tremaining: 6.1s\n",
      "144:\tlearn: 2141.9778412\ttotal: 2.63s\tremaining: 6.09s\n",
      "145:\tlearn: 2139.7366394\ttotal: 2.65s\tremaining: 6.07s\n",
      "146:\tlearn: 2136.8453893\ttotal: 2.67s\tremaining: 6.05s\n",
      "147:\tlearn: 2134.1948573\ttotal: 2.69s\tremaining: 6.03s\n",
      "148:\tlearn: 2132.0282785\ttotal: 2.7s\tremaining: 6.01s\n",
      "149:\tlearn: 2129.0935578\ttotal: 2.72s\tremaining: 5.99s\n",
      "150:\tlearn: 2127.1647939\ttotal: 2.74s\tremaining: 5.96s\n",
      "151:\tlearn: 2125.2717740\ttotal: 2.75s\tremaining: 5.94s\n",
      "152:\tlearn: 2123.0158917\ttotal: 2.77s\tremaining: 5.92s\n",
      "153:\tlearn: 2121.0300851\ttotal: 2.79s\tremaining: 5.91s\n",
      "154:\tlearn: 2118.8253262\ttotal: 2.81s\tremaining: 5.89s\n",
      "155:\tlearn: 2116.1435858\ttotal: 2.83s\tremaining: 5.87s\n",
      "156:\tlearn: 2113.8822122\ttotal: 2.85s\tremaining: 5.86s\n",
      "157:\tlearn: 2111.3493096\ttotal: 2.87s\tremaining: 5.84s\n",
      "158:\tlearn: 2109.2588883\ttotal: 2.88s\tremaining: 5.82s\n",
      "159:\tlearn: 2106.8139232\ttotal: 2.9s\tremaining: 5.81s\n",
      "160:\tlearn: 2104.6023477\ttotal: 2.92s\tremaining: 5.79s\n",
      "161:\tlearn: 2102.3015651\ttotal: 2.94s\tremaining: 5.78s\n",
      "162:\tlearn: 2100.5552845\ttotal: 2.96s\tremaining: 5.75s\n",
      "163:\tlearn: 2098.6499839\ttotal: 2.97s\tremaining: 5.73s\n",
      "164:\tlearn: 2096.6877163\ttotal: 2.99s\tremaining: 5.71s\n",
      "165:\tlearn: 2094.1727405\ttotal: 3s\tremaining: 5.68s\n",
      "166:\tlearn: 2091.9910351\ttotal: 3.02s\tremaining: 5.66s\n",
      "167:\tlearn: 2089.9085360\ttotal: 3.04s\tremaining: 5.64s\n",
      "168:\tlearn: 2088.0591309\ttotal: 3.06s\tremaining: 5.63s\n",
      "169:\tlearn: 2086.7309788\ttotal: 3.08s\tremaining: 5.61s\n",
      "170:\tlearn: 2085.1206814\ttotal: 3.09s\tremaining: 5.59s\n",
      "171:\tlearn: 2082.8101530\ttotal: 3.11s\tremaining: 5.57s\n",
      "172:\tlearn: 2081.0688979\ttotal: 3.13s\tremaining: 5.55s\n",
      "173:\tlearn: 2079.6130599\ttotal: 3.15s\tremaining: 5.54s\n",
      "174:\tlearn: 2077.8018611\ttotal: 3.17s\tremaining: 5.52s\n",
      "175:\tlearn: 2076.3430037\ttotal: 3.19s\tremaining: 5.5s\n",
      "176:\tlearn: 2074.7872505\ttotal: 3.2s\tremaining: 5.48s\n",
      "177:\tlearn: 2073.5230216\ttotal: 3.22s\tremaining: 5.47s\n",
      "178:\tlearn: 2072.0398954\ttotal: 3.24s\tremaining: 5.45s\n",
      "179:\tlearn: 2069.8100061\ttotal: 3.26s\tremaining: 5.44s\n",
      "180:\tlearn: 2068.0265083\ttotal: 3.28s\tremaining: 5.42s\n",
      "181:\tlearn: 2065.8548226\ttotal: 3.3s\tremaining: 5.41s\n",
      "182:\tlearn: 2064.1792533\ttotal: 3.32s\tremaining: 5.39s\n",
      "183:\tlearn: 2062.8806468\ttotal: 3.34s\tremaining: 5.38s\n",
      "184:\tlearn: 2061.5575620\ttotal: 3.36s\tremaining: 5.36s\n",
      "185:\tlearn: 2059.7742126\ttotal: 3.38s\tremaining: 5.34s\n",
      "186:\tlearn: 2058.3900389\ttotal: 3.4s\tremaining: 5.32s\n",
      "187:\tlearn: 2056.6300113\ttotal: 3.42s\tremaining: 5.31s\n",
      "188:\tlearn: 2054.6160353\ttotal: 3.46s\tremaining: 5.32s\n",
      "189:\tlearn: 2053.4760876\ttotal: 3.48s\tremaining: 5.32s\n",
      "190:\tlearn: 2051.6248414\ttotal: 3.51s\tremaining: 5.31s\n",
      "191:\tlearn: 2050.4346529\ttotal: 3.53s\tremaining: 5.29s\n",
      "192:\tlearn: 2048.3893535\ttotal: 3.54s\tremaining: 5.27s\n",
      "193:\tlearn: 2046.5595487\ttotal: 3.56s\tremaining: 5.25s\n",
      "194:\tlearn: 2045.2647614\ttotal: 3.58s\tremaining: 5.23s\n",
      "195:\tlearn: 2044.3017238\ttotal: 3.59s\tremaining: 5.21s\n",
      "196:\tlearn: 2042.9144945\ttotal: 3.61s\tremaining: 5.18s\n",
      "197:\tlearn: 2041.0609584\ttotal: 3.63s\tremaining: 5.17s\n",
      "198:\tlearn: 2039.9429491\ttotal: 3.65s\tremaining: 5.15s\n",
      "199:\tlearn: 2038.3771757\ttotal: 3.66s\tremaining: 5.13s\n",
      "200:\tlearn: 2037.0692722\ttotal: 3.68s\tremaining: 5.11s\n",
      "201:\tlearn: 2035.9714164\ttotal: 3.69s\tremaining: 5.08s\n",
      "202:\tlearn: 2034.8575316\ttotal: 3.71s\tremaining: 5.06s\n",
      "203:\tlearn: 2033.7392692\ttotal: 3.73s\tremaining: 5.04s\n",
      "204:\tlearn: 2031.8118611\ttotal: 3.74s\tremaining: 5.02s\n",
      "205:\tlearn: 2030.1954530\ttotal: 3.76s\tremaining: 5s\n",
      "206:\tlearn: 2029.2667308\ttotal: 3.78s\tremaining: 4.99s\n",
      "207:\tlearn: 2028.4021984\ttotal: 3.8s\tremaining: 4.96s\n",
      "208:\tlearn: 2026.8934675\ttotal: 3.81s\tremaining: 4.94s\n",
      "209:\tlearn: 2025.8480309\ttotal: 3.83s\tremaining: 4.92s\n",
      "210:\tlearn: 2024.7999372\ttotal: 3.85s\tremaining: 4.9s\n",
      "211:\tlearn: 2023.6582816\ttotal: 3.86s\tremaining: 4.88s\n",
      "212:\tlearn: 2022.0788473\ttotal: 3.88s\tremaining: 4.87s\n",
      "213:\tlearn: 2020.9621487\ttotal: 3.9s\tremaining: 4.84s\n",
      "214:\tlearn: 2019.9958052\ttotal: 3.91s\tremaining: 4.82s\n",
      "215:\tlearn: 2018.1817094\ttotal: 3.93s\tremaining: 4.8s\n",
      "216:\tlearn: 2016.4709435\ttotal: 3.95s\tremaining: 4.78s\n",
      "217:\tlearn: 2015.5556339\ttotal: 3.96s\tremaining: 4.76s\n",
      "218:\tlearn: 2014.3199161\ttotal: 3.98s\tremaining: 4.74s\n",
      "219:\tlearn: 2013.4071157\ttotal: 3.99s\tremaining: 4.72s\n",
      "220:\tlearn: 2012.2774741\ttotal: 4.01s\tremaining: 4.7s\n",
      "221:\tlearn: 2010.7889470\ttotal: 4.03s\tremaining: 4.68s\n",
      "222:\tlearn: 2009.8277328\ttotal: 4.04s\tremaining: 4.66s\n",
      "223:\tlearn: 2008.5773940\ttotal: 4.06s\tremaining: 4.64s\n",
      "224:\tlearn: 2006.9717684\ttotal: 4.08s\tremaining: 4.62s\n",
      "225:\tlearn: 2005.9392091\ttotal: 4.09s\tremaining: 4.6s\n",
      "226:\tlearn: 2004.9270667\ttotal: 4.11s\tremaining: 4.58s\n",
      "227:\tlearn: 2004.0884595\ttotal: 4.13s\tremaining: 4.56s\n",
      "228:\tlearn: 2003.4524227\ttotal: 4.14s\tremaining: 4.54s\n",
      "229:\tlearn: 2002.4926950\ttotal: 4.16s\tremaining: 4.52s\n",
      "230:\tlearn: 2001.7182542\ttotal: 4.17s\tremaining: 4.5s\n",
      "231:\tlearn: 2000.8467287\ttotal: 4.19s\tremaining: 4.48s\n",
      "232:\tlearn: 2000.0560950\ttotal: 4.2s\tremaining: 4.46s\n",
      "233:\tlearn: 1999.1211564\ttotal: 4.22s\tremaining: 4.43s\n",
      "234:\tlearn: 1998.2326993\ttotal: 4.23s\tremaining: 4.41s\n",
      "235:\tlearn: 1997.4861624\ttotal: 4.25s\tremaining: 4.39s\n",
      "236:\tlearn: 1996.5914504\ttotal: 4.26s\tremaining: 4.37s\n",
      "237:\tlearn: 1995.8734466\ttotal: 4.28s\tremaining: 4.35s\n",
      "238:\tlearn: 1994.5058561\ttotal: 4.3s\tremaining: 4.33s\n",
      "239:\tlearn: 1993.3117444\ttotal: 4.32s\tremaining: 4.32s\n",
      "240:\tlearn: 1992.5021620\ttotal: 4.33s\tremaining: 4.3s\n",
      "241:\tlearn: 1991.6884015\ttotal: 4.35s\tremaining: 4.28s\n",
      "242:\tlearn: 1990.3090673\ttotal: 4.36s\tremaining: 4.26s\n",
      "243:\tlearn: 1988.9477053\ttotal: 4.38s\tremaining: 4.24s\n",
      "244:\tlearn: 1987.8751371\ttotal: 4.4s\tremaining: 4.22s\n",
      "245:\tlearn: 1986.4628378\ttotal: 4.42s\tremaining: 4.2s\n",
      "246:\tlearn: 1985.7956953\ttotal: 4.43s\tremaining: 4.18s\n",
      "247:\tlearn: 1985.2301617\ttotal: 4.45s\tremaining: 4.16s\n",
      "248:\tlearn: 1984.2832277\ttotal: 4.46s\tremaining: 4.14s\n",
      "249:\tlearn: 1983.3161430\ttotal: 4.48s\tremaining: 4.12s\n",
      "250:\tlearn: 1982.6382062\ttotal: 4.5s\tremaining: 4.1s\n",
      "251:\tlearn: 1981.8914680\ttotal: 4.51s\tremaining: 4.08s\n",
      "252:\tlearn: 1980.9671136\ttotal: 4.53s\tremaining: 4.06s\n",
      "253:\tlearn: 1980.4001124\ttotal: 4.54s\tremaining: 4.04s\n",
      "254:\tlearn: 1979.1724238\ttotal: 4.56s\tremaining: 4.02s\n",
      "255:\tlearn: 1978.4751026\ttotal: 4.57s\tremaining: 4s\n",
      "256:\tlearn: 1977.3695285\ttotal: 4.59s\tremaining: 3.98s\n",
      "257:\tlearn: 1976.4512436\ttotal: 4.6s\tremaining: 3.96s\n",
      "258:\tlearn: 1975.6773937\ttotal: 4.62s\tremaining: 3.94s\n",
      "259:\tlearn: 1974.5564811\ttotal: 4.63s\tremaining: 3.92s\n",
      "260:\tlearn: 1974.0037778\ttotal: 4.64s\tremaining: 3.9s\n",
      "261:\tlearn: 1972.9906705\ttotal: 4.66s\tremaining: 3.88s\n",
      "262:\tlearn: 1972.2396662\ttotal: 4.67s\tremaining: 3.85s\n",
      "263:\tlearn: 1971.4482545\ttotal: 4.69s\tremaining: 3.83s\n",
      "264:\tlearn: 1969.9481681\ttotal: 4.7s\tremaining: 3.81s\n",
      "265:\tlearn: 1968.6948796\ttotal: 4.72s\tremaining: 3.79s\n",
      "266:\tlearn: 1967.9428637\ttotal: 4.73s\tremaining: 3.77s\n",
      "267:\tlearn: 1967.3769503\ttotal: 4.74s\tremaining: 3.75s\n",
      "268:\tlearn: 1966.9184828\ttotal: 4.76s\tremaining: 3.73s\n",
      "269:\tlearn: 1965.9381435\ttotal: 4.77s\tremaining: 3.71s\n",
      "270:\tlearn: 1965.2188245\ttotal: 4.79s\tremaining: 3.69s\n",
      "271:\tlearn: 1964.4399645\ttotal: 4.8s\tremaining: 3.67s\n",
      "272:\tlearn: 1963.9678085\ttotal: 4.81s\tremaining: 3.65s\n",
      "273:\tlearn: 1963.0569729\ttotal: 4.82s\tremaining: 3.63s\n",
      "274:\tlearn: 1962.4639016\ttotal: 4.84s\tremaining: 3.61s\n",
      "275:\tlearn: 1961.6244024\ttotal: 4.86s\tremaining: 3.59s\n",
      "276:\tlearn: 1961.0719871\ttotal: 4.87s\tremaining: 3.57s\n",
      "277:\tlearn: 1960.1677054\ttotal: 4.88s\tremaining: 3.55s\n",
      "278:\tlearn: 1959.4714959\ttotal: 4.9s\tremaining: 3.53s\n",
      "279:\tlearn: 1958.9729780\ttotal: 4.91s\tremaining: 3.51s\n",
      "280:\tlearn: 1957.6857215\ttotal: 4.93s\tremaining: 3.49s\n",
      "281:\tlearn: 1956.7977686\ttotal: 4.94s\tremaining: 3.47s\n",
      "282:\tlearn: 1955.6653105\ttotal: 4.96s\tremaining: 3.45s\n",
      "283:\tlearn: 1954.7306263\ttotal: 4.97s\tremaining: 3.43s\n",
      "284:\tlearn: 1953.8376000\ttotal: 4.99s\tremaining: 3.41s\n",
      "285:\tlearn: 1952.8750950\ttotal: 5s\tremaining: 3.39s\n",
      "286:\tlearn: 1952.3130778\ttotal: 5.01s\tremaining: 3.37s\n",
      "287:\tlearn: 1951.8208725\ttotal: 5.03s\tremaining: 3.35s\n",
      "288:\tlearn: 1951.0060513\ttotal: 5.04s\tremaining: 3.33s\n",
      "289:\tlearn: 1950.2974118\ttotal: 5.06s\tremaining: 3.31s\n",
      "290:\tlearn: 1949.2395553\ttotal: 5.08s\tremaining: 3.3s\n",
      "291:\tlearn: 1948.3131718\ttotal: 5.09s\tremaining: 3.28s\n",
      "292:\tlearn: 1947.7307546\ttotal: 5.11s\tremaining: 3.26s\n",
      "293:\tlearn: 1946.9124748\ttotal: 5.12s\tremaining: 3.24s\n",
      "294:\tlearn: 1946.4119694\ttotal: 5.13s\tremaining: 3.22s\n",
      "295:\tlearn: 1945.9013540\ttotal: 5.15s\tremaining: 3.2s\n",
      "296:\tlearn: 1945.4507250\ttotal: 5.17s\tremaining: 3.18s\n",
      "297:\tlearn: 1944.9508116\ttotal: 5.18s\tremaining: 3.17s\n",
      "298:\tlearn: 1944.1548366\ttotal: 5.2s\tremaining: 3.15s\n",
      "299:\tlearn: 1943.4174311\ttotal: 5.22s\tremaining: 3.13s\n",
      "300:\tlearn: 1942.7661962\ttotal: 5.23s\tremaining: 3.11s\n",
      "301:\tlearn: 1941.9554678\ttotal: 5.25s\tremaining: 3.09s\n",
      "302:\tlearn: 1941.4422250\ttotal: 5.27s\tremaining: 3.08s\n",
      "303:\tlearn: 1940.9058790\ttotal: 5.28s\tremaining: 3.06s\n",
      "304:\tlearn: 1940.3906022\ttotal: 5.3s\tremaining: 3.04s\n",
      "305:\tlearn: 1939.4308378\ttotal: 5.31s\tremaining: 3.02s\n",
      "306:\tlearn: 1938.9157865\ttotal: 5.33s\tremaining: 3s\n",
      "307:\tlearn: 1938.1596950\ttotal: 5.34s\tremaining: 2.98s\n",
      "308:\tlearn: 1937.5068235\ttotal: 5.36s\tremaining: 2.96s\n",
      "309:\tlearn: 1937.1374849\ttotal: 5.37s\tremaining: 2.95s\n",
      "310:\tlearn: 1936.3075066\ttotal: 5.4s\tremaining: 2.93s\n",
      "311:\tlearn: 1935.5125720\ttotal: 5.41s\tremaining: 2.92s\n",
      "312:\tlearn: 1934.8476084\ttotal: 5.43s\tremaining: 2.9s\n",
      "313:\tlearn: 1934.1494370\ttotal: 5.45s\tremaining: 2.88s\n",
      "314:\tlearn: 1933.5690302\ttotal: 5.46s\tremaining: 2.86s\n",
      "315:\tlearn: 1933.2353888\ttotal: 5.47s\tremaining: 2.84s\n",
      "316:\tlearn: 1932.8091653\ttotal: 5.49s\tremaining: 2.82s\n",
      "317:\tlearn: 1932.2035197\ttotal: 5.5s\tremaining: 2.8s\n",
      "318:\tlearn: 1931.6073866\ttotal: 5.52s\tremaining: 2.78s\n",
      "319:\tlearn: 1930.7185225\ttotal: 5.53s\tremaining: 2.77s\n",
      "320:\tlearn: 1930.1787937\ttotal: 5.55s\tremaining: 2.75s\n",
      "321:\tlearn: 1929.7456151\ttotal: 5.56s\tremaining: 2.73s\n",
      "322:\tlearn: 1929.3467553\ttotal: 5.58s\tremaining: 2.71s\n",
      "323:\tlearn: 1928.7703167\ttotal: 5.6s\tremaining: 2.69s\n",
      "324:\tlearn: 1928.2803080\ttotal: 5.61s\tremaining: 2.68s\n",
      "325:\tlearn: 1927.8547668\ttotal: 5.63s\tremaining: 2.66s\n",
      "326:\tlearn: 1926.9401042\ttotal: 5.65s\tremaining: 2.64s\n",
      "327:\tlearn: 1926.3133099\ttotal: 5.66s\tremaining: 2.63s\n",
      "328:\tlearn: 1925.9073380\ttotal: 5.68s\tremaining: 2.61s\n",
      "329:\tlearn: 1925.1907916\ttotal: 5.7s\tremaining: 2.59s\n",
      "330:\tlearn: 1924.4576906\ttotal: 5.71s\tremaining: 2.57s\n",
      "331:\tlearn: 1923.8298352\ttotal: 5.73s\tremaining: 2.55s\n",
      "332:\tlearn: 1923.1393785\ttotal: 5.74s\tremaining: 2.54s\n",
      "333:\tlearn: 1922.6906821\ttotal: 5.76s\tremaining: 2.52s\n",
      "334:\tlearn: 1922.1856496\ttotal: 5.77s\tremaining: 2.5s\n",
      "335:\tlearn: 1921.7133695\ttotal: 5.78s\tremaining: 2.48s\n",
      "336:\tlearn: 1921.1447415\ttotal: 5.8s\tremaining: 2.46s\n",
      "337:\tlearn: 1920.5451697\ttotal: 5.81s\tremaining: 2.44s\n",
      "338:\tlearn: 1920.0455650\ttotal: 5.82s\tremaining: 2.42s\n",
      "339:\tlearn: 1919.8090077\ttotal: 5.84s\tremaining: 2.4s\n",
      "340:\tlearn: 1919.1868777\ttotal: 5.85s\tremaining: 2.38s\n",
      "341:\tlearn: 1918.3907344\ttotal: 5.87s\tremaining: 2.37s\n",
      "342:\tlearn: 1917.6849626\ttotal: 5.88s\tremaining: 2.35s\n",
      "343:\tlearn: 1916.9639273\ttotal: 5.9s\tremaining: 2.33s\n",
      "344:\tlearn: 1916.5651185\ttotal: 5.92s\tremaining: 2.31s\n",
      "345:\tlearn: 1915.8496336\ttotal: 5.93s\tremaining: 2.3s\n",
      "346:\tlearn: 1915.5790751\ttotal: 5.94s\tremaining: 2.28s\n",
      "347:\tlearn: 1915.2685119\ttotal: 5.96s\tremaining: 2.26s\n",
      "348:\tlearn: 1915.0732071\ttotal: 5.97s\tremaining: 2.24s\n",
      "349:\tlearn: 1914.5551628\ttotal: 5.98s\tremaining: 2.22s\n",
      "350:\tlearn: 1913.9263644\ttotal: 6s\tremaining: 2.2s\n",
      "351:\tlearn: 1913.2375015\ttotal: 6.01s\tremaining: 2.19s\n",
      "352:\tlearn: 1912.8067329\ttotal: 6.03s\tremaining: 2.17s\n",
      "353:\tlearn: 1912.3206453\ttotal: 6.04s\tremaining: 2.15s\n",
      "354:\tlearn: 1911.7700140\ttotal: 6.05s\tremaining: 2.13s\n",
      "355:\tlearn: 1911.2547884\ttotal: 6.07s\tremaining: 2.11s\n",
      "356:\tlearn: 1910.9013193\ttotal: 6.08s\tremaining: 2.1s\n",
      "357:\tlearn: 1910.5165915\ttotal: 6.1s\tremaining: 2.08s\n",
      "358:\tlearn: 1909.7919877\ttotal: 6.11s\tremaining: 2.06s\n",
      "359:\tlearn: 1909.2584329\ttotal: 6.13s\tremaining: 2.04s\n",
      "360:\tlearn: 1908.5839076\ttotal: 6.14s\tremaining: 2.02s\n",
      "361:\tlearn: 1907.8220942\ttotal: 6.15s\tremaining: 2.01s\n",
      "362:\tlearn: 1907.2471499\ttotal: 6.17s\tremaining: 1.99s\n",
      "363:\tlearn: 1906.7345418\ttotal: 6.18s\tremaining: 1.97s\n",
      "364:\tlearn: 1906.2158834\ttotal: 6.2s\tremaining: 1.95s\n",
      "365:\tlearn: 1905.4342690\ttotal: 6.21s\tremaining: 1.94s\n",
      "366:\tlearn: 1904.9600499\ttotal: 6.23s\tremaining: 1.92s\n",
      "367:\tlearn: 1904.3259327\ttotal: 6.24s\tremaining: 1.9s\n",
      "368:\tlearn: 1903.9461758\ttotal: 6.26s\tremaining: 1.88s\n",
      "369:\tlearn: 1903.2808519\ttotal: 6.27s\tremaining: 1.86s\n",
      "370:\tlearn: 1902.8020051\ttotal: 6.29s\tremaining: 1.85s\n",
      "371:\tlearn: 1902.4156341\ttotal: 6.3s\tremaining: 1.83s\n",
      "372:\tlearn: 1902.1993698\ttotal: 6.31s\tremaining: 1.81s\n",
      "373:\tlearn: 1901.6385020\ttotal: 6.33s\tremaining: 1.79s\n",
      "374:\tlearn: 1901.1794459\ttotal: 6.35s\tremaining: 1.78s\n",
      "375:\tlearn: 1900.9102100\ttotal: 6.36s\tremaining: 1.76s\n",
      "376:\tlearn: 1900.2243212\ttotal: 6.38s\tremaining: 1.74s\n",
      "377:\tlearn: 1899.7587150\ttotal: 6.4s\tremaining: 1.73s\n",
      "378:\tlearn: 1899.2439657\ttotal: 6.41s\tremaining: 1.71s\n",
      "379:\tlearn: 1898.6739274\ttotal: 6.43s\tremaining: 1.69s\n",
      "380:\tlearn: 1898.4628724\ttotal: 6.44s\tremaining: 1.67s\n",
      "381:\tlearn: 1897.9273795\ttotal: 6.45s\tremaining: 1.66s\n",
      "382:\tlearn: 1897.6642310\ttotal: 6.47s\tremaining: 1.64s\n",
      "383:\tlearn: 1897.3667734\ttotal: 6.48s\tremaining: 1.62s\n",
      "384:\tlearn: 1896.9119471\ttotal: 6.5s\tremaining: 1.6s\n",
      "385:\tlearn: 1896.4740440\ttotal: 6.51s\tremaining: 1.58s\n",
      "386:\tlearn: 1896.1177891\ttotal: 6.53s\tremaining: 1.57s\n",
      "387:\tlearn: 1895.6790993\ttotal: 6.54s\tremaining: 1.55s\n",
      "388:\tlearn: 1895.3679586\ttotal: 6.55s\tremaining: 1.53s\n",
      "389:\tlearn: 1894.9826777\ttotal: 6.57s\tremaining: 1.51s\n",
      "390:\tlearn: 1894.8322994\ttotal: 6.58s\tremaining: 1.5s\n",
      "391:\tlearn: 1894.2338869\ttotal: 6.6s\tremaining: 1.48s\n",
      "392:\tlearn: 1893.9118251\ttotal: 6.61s\tremaining: 1.46s\n",
      "393:\tlearn: 1893.3242529\ttotal: 6.62s\tremaining: 1.45s\n",
      "394:\tlearn: 1892.9204353\ttotal: 6.64s\tremaining: 1.43s\n",
      "395:\tlearn: 1892.7073378\ttotal: 6.65s\tremaining: 1.41s\n",
      "396:\tlearn: 1892.2383085\ttotal: 6.67s\tremaining: 1.39s\n",
      "397:\tlearn: 1891.6806225\ttotal: 6.68s\tremaining: 1.38s\n",
      "398:\tlearn: 1891.3052993\ttotal: 6.7s\tremaining: 1.36s\n",
      "399:\tlearn: 1890.8617390\ttotal: 6.71s\tremaining: 1.34s\n",
      "400:\tlearn: 1890.5475646\ttotal: 6.72s\tremaining: 1.32s\n",
      "401:\tlearn: 1889.7874204\ttotal: 6.74s\tremaining: 1.31s\n",
      "402:\tlearn: 1889.3472486\ttotal: 6.75s\tremaining: 1.29s\n",
      "403:\tlearn: 1889.1311523\ttotal: 6.77s\tremaining: 1.27s\n",
      "404:\tlearn: 1888.7919985\ttotal: 6.78s\tremaining: 1.25s\n",
      "405:\tlearn: 1888.2974131\ttotal: 6.79s\tremaining: 1.24s\n",
      "406:\tlearn: 1887.7967812\ttotal: 6.81s\tremaining: 1.22s\n",
      "407:\tlearn: 1887.3391085\ttotal: 6.82s\tremaining: 1.2s\n",
      "408:\tlearn: 1886.8325202\ttotal: 6.84s\tremaining: 1.19s\n",
      "409:\tlearn: 1886.1862998\ttotal: 6.85s\tremaining: 1.17s\n",
      "410:\tlearn: 1885.7172960\ttotal: 6.87s\tremaining: 1.15s\n",
      "411:\tlearn: 1885.3773440\ttotal: 6.88s\tremaining: 1.14s\n",
      "412:\tlearn: 1884.9852885\ttotal: 6.9s\tremaining: 1.12s\n",
      "413:\tlearn: 1884.6195121\ttotal: 6.91s\tremaining: 1.1s\n",
      "414:\tlearn: 1883.9883074\ttotal: 6.93s\tremaining: 1.08s\n",
      "415:\tlearn: 1883.3447711\ttotal: 6.94s\tremaining: 1.07s\n",
      "416:\tlearn: 1883.0350014\ttotal: 6.96s\tremaining: 1.05s\n",
      "417:\tlearn: 1882.8471808\ttotal: 6.97s\tremaining: 1.03s\n",
      "418:\tlearn: 1882.4702978\ttotal: 6.99s\tremaining: 1.02s\n",
      "419:\tlearn: 1882.2017035\ttotal: 7s\tremaining: 1s\n",
      "420:\tlearn: 1881.5530189\ttotal: 7.02s\tremaining: 983ms\n",
      "421:\tlearn: 1881.0848296\ttotal: 7.03s\tremaining: 966ms\n",
      "422:\tlearn: 1880.8544894\ttotal: 7.05s\tremaining: 950ms\n",
      "423:\tlearn: 1880.7041247\ttotal: 7.06s\tremaining: 933ms\n",
      "424:\tlearn: 1880.3555666\ttotal: 7.08s\tremaining: 916ms\n",
      "425:\tlearn: 1879.9642583\ttotal: 7.1s\tremaining: 900ms\n",
      "426:\tlearn: 1879.5878718\ttotal: 7.11s\tremaining: 883ms\n",
      "427:\tlearn: 1879.1508756\ttotal: 7.13s\tremaining: 867ms\n",
      "428:\tlearn: 1878.6960422\ttotal: 7.15s\tremaining: 850ms\n",
      "429:\tlearn: 1878.4041709\ttotal: 7.17s\tremaining: 834ms\n",
      "430:\tlearn: 1878.0351661\ttotal: 7.19s\tremaining: 817ms\n",
      "431:\tlearn: 1877.6503347\ttotal: 7.21s\tremaining: 801ms\n",
      "432:\tlearn: 1877.1393644\ttotal: 7.22s\tremaining: 784ms\n",
      "433:\tlearn: 1876.8761763\ttotal: 7.24s\tremaining: 767ms\n",
      "434:\tlearn: 1876.6416171\ttotal: 7.26s\tremaining: 751ms\n",
      "435:\tlearn: 1876.1400982\ttotal: 7.28s\tremaining: 735ms\n",
      "436:\tlearn: 1875.8845459\ttotal: 7.29s\tremaining: 718ms\n",
      "437:\tlearn: 1875.6429304\ttotal: 7.31s\tremaining: 701ms\n",
      "438:\tlearn: 1875.0570248\ttotal: 7.33s\tremaining: 685ms\n",
      "439:\tlearn: 1874.6339109\ttotal: 7.34s\tremaining: 668ms\n",
      "440:\tlearn: 1874.1800726\ttotal: 7.36s\tremaining: 651ms\n",
      "441:\tlearn: 1873.7895590\ttotal: 7.38s\tremaining: 635ms\n",
      "442:\tlearn: 1873.4033376\ttotal: 7.4s\tremaining: 618ms\n",
      "443:\tlearn: 1873.0709965\ttotal: 7.41s\tremaining: 601ms\n",
      "444:\tlearn: 1872.6323592\ttotal: 7.43s\tremaining: 584ms\n",
      "445:\tlearn: 1872.2742193\ttotal: 7.44s\tremaining: 567ms\n",
      "446:\tlearn: 1871.8689963\ttotal: 7.45s\tremaining: 550ms\n",
      "447:\tlearn: 1871.7261976\ttotal: 7.47s\tremaining: 533ms\n",
      "448:\tlearn: 1871.4006205\ttotal: 7.48s\tremaining: 517ms\n",
      "449:\tlearn: 1871.1893693\ttotal: 7.5s\tremaining: 500ms\n",
      "450:\tlearn: 1870.9213097\ttotal: 7.51s\tremaining: 483ms\n",
      "451:\tlearn: 1870.5907358\ttotal: 7.52s\tremaining: 466ms\n",
      "452:\tlearn: 1870.3227770\ttotal: 7.54s\tremaining: 449ms\n",
      "453:\tlearn: 1870.0738203\ttotal: 7.55s\tremaining: 432ms\n",
      "454:\tlearn: 1869.9107141\ttotal: 7.57s\tremaining: 416ms\n",
      "455:\tlearn: 1869.5894884\ttotal: 7.58s\tremaining: 399ms\n",
      "456:\tlearn: 1869.2061106\ttotal: 7.6s\tremaining: 382ms\n",
      "457:\tlearn: 1868.9288556\ttotal: 7.61s\tremaining: 366ms\n",
      "458:\tlearn: 1868.6604854\ttotal: 7.63s\tremaining: 349ms\n",
      "459:\tlearn: 1868.2396433\ttotal: 7.64s\tremaining: 332ms\n",
      "460:\tlearn: 1868.0218934\ttotal: 7.65s\tremaining: 315ms\n",
      "461:\tlearn: 1867.5536498\ttotal: 7.67s\tremaining: 299ms\n",
      "462:\tlearn: 1867.1944605\ttotal: 7.69s\tremaining: 282ms\n",
      "463:\tlearn: 1866.9830876\ttotal: 7.7s\tremaining: 266ms\n",
      "464:\tlearn: 1866.5902549\ttotal: 7.72s\tremaining: 249ms\n",
      "465:\tlearn: 1866.2707175\ttotal: 7.73s\tremaining: 232ms\n",
      "466:\tlearn: 1865.9573353\ttotal: 7.74s\tremaining: 216ms\n",
      "467:\tlearn: 1865.5287062\ttotal: 7.76s\tremaining: 199ms\n",
      "468:\tlearn: 1865.2403730\ttotal: 7.78s\tremaining: 182ms\n",
      "469:\tlearn: 1864.9260781\ttotal: 7.79s\tremaining: 166ms\n",
      "470:\tlearn: 1864.4128075\ttotal: 7.81s\tremaining: 149ms\n",
      "471:\tlearn: 1864.1714543\ttotal: 7.83s\tremaining: 133ms\n",
      "472:\tlearn: 1863.7787252\ttotal: 7.84s\tremaining: 116ms\n",
      "473:\tlearn: 1863.5811306\ttotal: 7.86s\tremaining: 99.4ms\n",
      "474:\tlearn: 1863.2260117\ttotal: 7.87s\tremaining: 82.9ms\n",
      "475:\tlearn: 1863.0309340\ttotal: 7.89s\tremaining: 66.3ms\n",
      "476:\tlearn: 1862.6464220\ttotal: 7.91s\tremaining: 49.7ms\n",
      "477:\tlearn: 1862.3765008\ttotal: 7.92s\tremaining: 33.1ms\n",
      "478:\tlearn: 1861.8992599\ttotal: 7.93s\tremaining: 16.6ms\n",
      "479:\tlearn: 1861.7182159\ttotal: 7.95s\tremaining: 0us\n"
     ]
    },
    {
     "data": {
      "text/html": [
       "<font color='blue'>RMSE CatBoostRegressor методом OrdinalEncoder:-1873.351</font>"
      ],
      "text/plain": [
       "<IPython.core.display.HTML object>"
      ]
     },
     "metadata": {},
     "output_type": "display_data"
    },
    {
     "name": "stdout",
     "output_type": "stream",
     "text": [
      "Wall time: 15min 21s\n"
     ]
    }
   ],
   "source": [
    "%%time\n",
    "cat_grid_ord = params_grid(model_cat,parameters_cat,'neg_root_mean_squared_error',features_train,target_train)\n",
    "cat_grid_ord\n",
    "display(HTML(f\"<font color='blue'>RMSE CatBoostRegressor методом OrdinalEncoder:\\\n",
    "{cat_grid_ord[2]:.3f}</font>\"))"
   ]
  },
  {
   "cell_type": "markdown",
   "metadata": {},
   "source": [
    "CatBoostRegressor метод `One-Hot Encoding`"
   ]
  },
  {
   "cell_type": "code",
   "execution_count": 45,
   "metadata": {
    "ExecuteTime": {
     "end_time": "2022-05-25T12:36:16.727429Z",
     "start_time": "2022-05-25T12:22:05.728688Z"
    }
   },
   "outputs": [
    {
     "name": "stdout",
     "output_type": "stream",
     "text": [
      "Fitting 5 folds for each of 36 candidates, totalling 180 fits\n",
      "0:\tlearn: 4477.8816671\ttotal: 21.1ms\tremaining: 10.1s\n",
      "1:\tlearn: 4415.4569127\ttotal: 40.4ms\tremaining: 9.65s\n",
      "2:\tlearn: 4352.4736093\ttotal: 63.3ms\tremaining: 10.1s\n",
      "3:\tlearn: 4294.6403109\ttotal: 82.7ms\tremaining: 9.84s\n",
      "4:\tlearn: 4237.9795223\ttotal: 102ms\tremaining: 9.72s\n",
      "5:\tlearn: 4180.7543899\ttotal: 121ms\tremaining: 9.56s\n",
      "6:\tlearn: 4124.1451986\ttotal: 140ms\tremaining: 9.43s\n",
      "7:\tlearn: 4070.4759353\ttotal: 157ms\tremaining: 9.27s\n",
      "8:\tlearn: 4017.4129295\ttotal: 175ms\tremaining: 9.15s\n",
      "9:\tlearn: 3968.3460434\ttotal: 194ms\tremaining: 9.11s\n",
      "10:\tlearn: 3917.0198088\ttotal: 213ms\tremaining: 9.07s\n",
      "11:\tlearn: 3868.4447322\ttotal: 232ms\tremaining: 9.04s\n",
      "12:\tlearn: 3820.5827385\ttotal: 249ms\tremaining: 8.95s\n",
      "13:\tlearn: 3774.2438713\ttotal: 268ms\tremaining: 8.94s\n",
      "14:\tlearn: 3730.7804176\ttotal: 288ms\tremaining: 8.94s\n",
      "15:\tlearn: 3688.6798665\ttotal: 307ms\tremaining: 8.91s\n",
      "16:\tlearn: 3646.4580901\ttotal: 329ms\tremaining: 8.96s\n",
      "17:\tlearn: 3606.1363529\ttotal: 347ms\tremaining: 8.9s\n",
      "18:\tlearn: 3566.2436759\ttotal: 365ms\tremaining: 8.86s\n",
      "19:\tlearn: 3528.7591741\ttotal: 384ms\tremaining: 8.84s\n",
      "20:\tlearn: 3493.6183394\ttotal: 404ms\tremaining: 8.83s\n",
      "21:\tlearn: 3458.5921803\ttotal: 424ms\tremaining: 8.83s\n",
      "22:\tlearn: 3422.2378907\ttotal: 446ms\tremaining: 8.87s\n",
      "23:\tlearn: 3386.6718287\ttotal: 465ms\tremaining: 8.84s\n",
      "24:\tlearn: 3352.3217479\ttotal: 491ms\tremaining: 8.93s\n",
      "25:\tlearn: 3319.3125508\ttotal: 510ms\tremaining: 8.9s\n",
      "26:\tlearn: 3287.3081231\ttotal: 531ms\tremaining: 8.9s\n",
      "27:\tlearn: 3256.2221829\ttotal: 551ms\tremaining: 8.9s\n",
      "28:\tlearn: 3225.7534126\ttotal: 570ms\tremaining: 8.86s\n",
      "29:\tlearn: 3196.8237804\ttotal: 588ms\tremaining: 8.81s\n",
      "30:\tlearn: 3167.8310876\ttotal: 606ms\tremaining: 8.78s\n",
      "31:\tlearn: 3141.2541197\ttotal: 627ms\tremaining: 8.78s\n",
      "32:\tlearn: 3114.3489234\ttotal: 645ms\tremaining: 8.74s\n",
      "33:\tlearn: 3089.1057427\ttotal: 662ms\tremaining: 8.69s\n",
      "34:\tlearn: 3063.8844096\ttotal: 680ms\tremaining: 8.65s\n",
      "35:\tlearn: 3039.5336079\ttotal: 699ms\tremaining: 8.62s\n",
      "36:\tlearn: 3016.2590858\ttotal: 717ms\tremaining: 8.59s\n",
      "37:\tlearn: 2993.3789697\ttotal: 736ms\tremaining: 8.56s\n",
      "38:\tlearn: 2971.1603952\ttotal: 753ms\tremaining: 8.52s\n",
      "39:\tlearn: 2949.4997343\ttotal: 771ms\tremaining: 8.48s\n",
      "40:\tlearn: 2928.6243601\ttotal: 788ms\tremaining: 8.44s\n",
      "41:\tlearn: 2908.2927178\ttotal: 806ms\tremaining: 8.4s\n",
      "42:\tlearn: 2888.7996019\ttotal: 828ms\tremaining: 8.41s\n",
      "43:\tlearn: 2869.2997661\ttotal: 846ms\tremaining: 8.38s\n",
      "44:\tlearn: 2850.3993499\ttotal: 862ms\tremaining: 8.34s\n",
      "45:\tlearn: 2831.9423661\ttotal: 880ms\tremaining: 8.3s\n",
      "46:\tlearn: 2814.5105483\ttotal: 898ms\tremaining: 8.28s\n",
      "47:\tlearn: 2797.7771468\ttotal: 916ms\tremaining: 8.24s\n",
      "48:\tlearn: 2781.5139103\ttotal: 933ms\tremaining: 8.21s\n",
      "49:\tlearn: 2765.4201556\ttotal: 951ms\tremaining: 8.18s\n",
      "50:\tlearn: 2748.6406018\ttotal: 970ms\tremaining: 8.16s\n",
      "51:\tlearn: 2732.7839687\ttotal: 988ms\tremaining: 8.13s\n",
      "52:\tlearn: 2717.9898074\ttotal: 1.01s\tremaining: 8.14s\n",
      "53:\tlearn: 2703.8714519\ttotal: 1.03s\tremaining: 8.12s\n",
      "54:\tlearn: 2689.5097046\ttotal: 1.05s\tremaining: 8.11s\n",
      "55:\tlearn: 2675.8141605\ttotal: 1.07s\tremaining: 8.09s\n",
      "56:\tlearn: 2661.9827151\ttotal: 1.08s\tremaining: 8.06s\n",
      "57:\tlearn: 2648.8251147\ttotal: 1.1s\tremaining: 8.03s\n",
      "58:\tlearn: 2636.2278458\ttotal: 1.12s\tremaining: 7.99s\n",
      "59:\tlearn: 2623.8092552\ttotal: 1.14s\tremaining: 7.96s\n",
      "60:\tlearn: 2611.6135848\ttotal: 1.15s\tremaining: 7.93s\n",
      "61:\tlearn: 2599.4301298\ttotal: 1.17s\tremaining: 7.9s\n",
      "62:\tlearn: 2587.9810920\ttotal: 1.19s\tremaining: 7.87s\n",
      "63:\tlearn: 2577.5452018\ttotal: 1.21s\tremaining: 7.84s\n",
      "64:\tlearn: 2566.6358554\ttotal: 1.22s\tremaining: 7.8s\n",
      "65:\tlearn: 2556.2653687\ttotal: 1.24s\tremaining: 7.78s\n",
      "66:\tlearn: 2545.9799113\ttotal: 1.26s\tremaining: 7.76s\n",
      "67:\tlearn: 2535.2852703\ttotal: 1.27s\tremaining: 7.73s\n",
      "68:\tlearn: 2525.2714772\ttotal: 1.29s\tremaining: 7.7s\n",
      "69:\tlearn: 2515.4667766\ttotal: 1.31s\tremaining: 7.68s\n",
      "70:\tlearn: 2505.9623902\ttotal: 1.33s\tremaining: 7.65s\n",
      "71:\tlearn: 2496.5167211\ttotal: 1.35s\tremaining: 7.63s\n",
      "72:\tlearn: 2487.6956813\ttotal: 1.36s\tremaining: 7.61s\n",
      "73:\tlearn: 2478.5304278\ttotal: 1.38s\tremaining: 7.57s\n",
      "74:\tlearn: 2469.7706194\ttotal: 1.4s\tremaining: 7.54s\n",
      "75:\tlearn: 2460.1385157\ttotal: 1.42s\tremaining: 7.52s\n",
      "76:\tlearn: 2451.9300795\ttotal: 1.43s\tremaining: 7.49s\n",
      "77:\tlearn: 2443.7515773\ttotal: 1.45s\tremaining: 7.47s\n",
      "78:\tlearn: 2434.4298959\ttotal: 1.47s\tremaining: 7.46s\n",
      "79:\tlearn: 2425.7746594\ttotal: 1.49s\tremaining: 7.43s\n",
      "80:\tlearn: 2418.4413809\ttotal: 1.5s\tremaining: 7.41s\n",
      "81:\tlearn: 2410.8670396\ttotal: 1.52s\tremaining: 7.38s\n",
      "82:\tlearn: 2403.1641464\ttotal: 1.54s\tremaining: 7.36s\n",
      "83:\tlearn: 2396.0948353\ttotal: 1.56s\tremaining: 7.34s\n",
      "84:\tlearn: 2389.1648773\ttotal: 1.57s\tremaining: 7.32s\n",
      "85:\tlearn: 2382.6678276\ttotal: 1.59s\tremaining: 7.29s\n",
      "86:\tlearn: 2375.8253497\ttotal: 1.61s\tremaining: 7.27s\n",
      "87:\tlearn: 2369.1474060\ttotal: 1.63s\tremaining: 7.25s\n",
      "88:\tlearn: 2362.9884896\ttotal: 1.65s\tremaining: 7.23s\n",
      "89:\tlearn: 2356.8757996\ttotal: 1.66s\tremaining: 7.21s\n",
      "90:\tlearn: 2350.2098651\ttotal: 1.68s\tremaining: 7.19s\n",
      "91:\tlearn: 2343.4288023\ttotal: 1.7s\tremaining: 7.17s\n",
      "92:\tlearn: 2337.7930656\ttotal: 1.72s\tremaining: 7.14s\n",
      "93:\tlearn: 2332.0873003\ttotal: 1.73s\tremaining: 7.12s\n",
      "94:\tlearn: 2326.5794980\ttotal: 1.75s\tremaining: 7.09s\n",
      "95:\tlearn: 2321.2916025\ttotal: 1.76s\tremaining: 7.06s\n",
      "96:\tlearn: 2315.5057146\ttotal: 1.78s\tremaining: 7.04s\n",
      "97:\tlearn: 2309.8308346\ttotal: 1.8s\tremaining: 7.02s\n",
      "98:\tlearn: 2304.5637778\ttotal: 1.82s\tremaining: 6.99s\n",
      "99:\tlearn: 2299.5497671\ttotal: 1.83s\tremaining: 6.97s\n",
      "100:\tlearn: 2294.6985963\ttotal: 1.85s\tremaining: 6.95s\n",
      "101:\tlearn: 2289.4964956\ttotal: 1.88s\tremaining: 6.95s\n",
      "102:\tlearn: 2284.8212811\ttotal: 1.89s\tremaining: 6.93s\n",
      "103:\tlearn: 2279.8214412\ttotal: 1.91s\tremaining: 6.91s\n",
      "104:\tlearn: 2274.8984264\ttotal: 1.93s\tremaining: 6.89s\n",
      "105:\tlearn: 2270.2816808\ttotal: 1.95s\tremaining: 6.88s\n",
      "106:\tlearn: 2265.4232600\ttotal: 1.97s\tremaining: 6.86s\n",
      "107:\tlearn: 2261.1732873\ttotal: 1.98s\tremaining: 6.83s\n",
      "108:\tlearn: 2256.7075271\ttotal: 2s\tremaining: 6.82s\n",
      "109:\tlearn: 2252.0660697\ttotal: 2.02s\tremaining: 6.79s\n",
      "110:\tlearn: 2247.0314814\ttotal: 2.04s\tremaining: 6.78s\n",
      "111:\tlearn: 2243.1461649\ttotal: 2.06s\tremaining: 6.76s\n",
      "112:\tlearn: 2238.8962535\ttotal: 2.08s\tremaining: 6.74s\n",
      "113:\tlearn: 2234.7299001\ttotal: 2.09s\tremaining: 6.72s\n",
      "114:\tlearn: 2230.6166118\ttotal: 2.11s\tremaining: 6.7s\n",
      "115:\tlearn: 2226.4261129\ttotal: 2.13s\tremaining: 6.68s\n",
      "116:\tlearn: 2222.5862358\ttotal: 2.15s\tremaining: 6.66s\n",
      "117:\tlearn: 2219.0511578\ttotal: 2.16s\tremaining: 6.63s\n",
      "118:\tlearn: 2215.3079246\ttotal: 2.18s\tremaining: 6.61s\n",
      "119:\tlearn: 2211.8183825\ttotal: 2.19s\tremaining: 6.58s\n",
      "120:\tlearn: 2208.1806214\ttotal: 2.21s\tremaining: 6.56s\n",
      "121:\tlearn: 2204.7846676\ttotal: 2.23s\tremaining: 6.54s\n",
      "122:\tlearn: 2200.5082416\ttotal: 2.25s\tremaining: 6.52s\n",
      "123:\tlearn: 2197.1019655\ttotal: 2.26s\tremaining: 6.5s\n",
      "124:\tlearn: 2193.4609715\ttotal: 2.28s\tremaining: 6.48s\n",
      "125:\tlearn: 2190.0348644\ttotal: 2.3s\tremaining: 6.46s\n",
      "126:\tlearn: 2185.8749810\ttotal: 2.32s\tremaining: 6.44s\n",
      "127:\tlearn: 2182.8038480\ttotal: 2.33s\tremaining: 6.41s\n",
      "128:\tlearn: 2179.4184621\ttotal: 2.35s\tremaining: 6.38s\n",
      "129:\tlearn: 2176.3766279\ttotal: 2.36s\tremaining: 6.36s\n",
      "130:\tlearn: 2173.1406632\ttotal: 2.38s\tremaining: 6.34s\n",
      "131:\tlearn: 2170.2634110\ttotal: 2.39s\tremaining: 6.31s\n",
      "132:\tlearn: 2167.5338146\ttotal: 2.41s\tremaining: 6.29s\n",
      "133:\tlearn: 2164.4097685\ttotal: 2.43s\tremaining: 6.26s\n",
      "134:\tlearn: 2161.8325728\ttotal: 2.44s\tremaining: 6.24s\n",
      "135:\tlearn: 2158.8953757\ttotal: 2.46s\tremaining: 6.21s\n",
      "136:\tlearn: 2156.2318155\ttotal: 2.47s\tremaining: 6.19s\n",
      "137:\tlearn: 2153.6082884\ttotal: 2.49s\tremaining: 6.16s\n",
      "138:\tlearn: 2150.0844875\ttotal: 2.5s\tremaining: 6.14s\n",
      "139:\tlearn: 2147.2637665\ttotal: 2.52s\tremaining: 6.12s\n",
      "140:\tlearn: 2144.7904123\ttotal: 2.53s\tremaining: 6.09s\n",
      "141:\tlearn: 2142.4438542\ttotal: 2.55s\tremaining: 6.07s\n",
      "142:\tlearn: 2139.6058852\ttotal: 2.57s\tremaining: 6.05s\n",
      "143:\tlearn: 2137.2107658\ttotal: 2.58s\tremaining: 6.03s\n",
      "144:\tlearn: 2134.7180953\ttotal: 2.6s\tremaining: 6s\n",
      "145:\tlearn: 2132.3454282\ttotal: 2.62s\tremaining: 5.98s\n",
      "146:\tlearn: 2130.0660623\ttotal: 2.63s\tremaining: 5.96s\n",
      "147:\tlearn: 2127.6451005\ttotal: 2.65s\tremaining: 5.94s\n",
      "148:\tlearn: 2125.6790477\ttotal: 2.66s\tremaining: 5.92s\n",
      "149:\tlearn: 2123.0696864\ttotal: 2.68s\tremaining: 5.89s\n",
      "150:\tlearn: 2120.8275144\ttotal: 2.69s\tremaining: 5.87s\n",
      "151:\tlearn: 2118.9047091\ttotal: 2.71s\tremaining: 5.85s\n",
      "152:\tlearn: 2115.7141263\ttotal: 2.73s\tremaining: 5.83s\n",
      "153:\tlearn: 2113.2607639\ttotal: 2.74s\tremaining: 5.81s\n",
      "154:\tlearn: 2111.0715000\ttotal: 2.76s\tremaining: 5.78s\n",
      "155:\tlearn: 2108.8845219\ttotal: 2.77s\tremaining: 5.76s\n",
      "156:\tlearn: 2106.7127338\ttotal: 2.79s\tremaining: 5.74s\n",
      "157:\tlearn: 2104.4914719\ttotal: 2.81s\tremaining: 5.72s\n",
      "158:\tlearn: 2102.1298674\ttotal: 2.82s\tremaining: 5.7s\n",
      "159:\tlearn: 2100.0017671\ttotal: 2.84s\tremaining: 5.67s\n",
      "160:\tlearn: 2098.0346191\ttotal: 2.85s\tremaining: 5.65s\n",
      "161:\tlearn: 2095.9829527\ttotal: 2.87s\tremaining: 5.63s\n",
      "162:\tlearn: 2094.0820624\ttotal: 2.88s\tremaining: 5.6s\n",
      "163:\tlearn: 2092.1626229\ttotal: 2.9s\tremaining: 5.58s\n",
      "164:\tlearn: 2090.4083528\ttotal: 2.91s\tremaining: 5.56s\n",
      "165:\tlearn: 2088.7045689\ttotal: 2.92s\tremaining: 5.53s\n",
      "166:\tlearn: 2086.8453906\ttotal: 2.94s\tremaining: 5.5s\n",
      "167:\tlearn: 2085.3082552\ttotal: 2.95s\tremaining: 5.48s\n",
      "168:\tlearn: 2083.5218038\ttotal: 2.96s\tremaining: 5.46s\n",
      "169:\tlearn: 2081.3162937\ttotal: 2.98s\tremaining: 5.44s\n",
      "170:\tlearn: 2079.4774302\ttotal: 3s\tremaining: 5.41s\n",
      "171:\tlearn: 2077.7606287\ttotal: 3.01s\tremaining: 5.39s\n",
      "172:\tlearn: 2075.9777128\ttotal: 3.03s\tremaining: 5.37s\n",
      "173:\tlearn: 2074.0815417\ttotal: 3.04s\tremaining: 5.35s\n",
      "174:\tlearn: 2072.3967839\ttotal: 3.06s\tremaining: 5.32s\n",
      "175:\tlearn: 2070.6486292\ttotal: 3.07s\tremaining: 5.31s\n",
      "176:\tlearn: 2068.8198433\ttotal: 3.09s\tremaining: 5.29s\n",
      "177:\tlearn: 2067.1763979\ttotal: 3.1s\tremaining: 5.26s\n",
      "178:\tlearn: 2065.1589737\ttotal: 3.12s\tremaining: 5.24s\n",
      "179:\tlearn: 2062.8503750\ttotal: 3.13s\tremaining: 5.22s\n",
      "180:\tlearn: 2061.0454446\ttotal: 3.15s\tremaining: 5.2s\n",
      "181:\tlearn: 2059.3837553\ttotal: 3.16s\tremaining: 5.18s\n",
      "182:\tlearn: 2057.9835747\ttotal: 3.18s\tremaining: 5.16s\n",
      "183:\tlearn: 2056.3829902\ttotal: 3.19s\tremaining: 5.14s\n",
      "184:\tlearn: 2054.6349243\ttotal: 3.21s\tremaining: 5.12s\n",
      "185:\tlearn: 2053.0483906\ttotal: 3.22s\tremaining: 5.09s\n",
      "186:\tlearn: 2051.6404875\ttotal: 3.24s\tremaining: 5.07s\n",
      "187:\tlearn: 2050.5061835\ttotal: 3.25s\tremaining: 5.04s\n",
      "188:\tlearn: 2048.9018383\ttotal: 3.26s\tremaining: 5.03s\n",
      "189:\tlearn: 2047.2721040\ttotal: 3.28s\tremaining: 5.01s\n",
      "190:\tlearn: 2045.5646892\ttotal: 3.3s\tremaining: 4.99s\n",
      "191:\tlearn: 2044.1912410\ttotal: 3.31s\tremaining: 4.97s\n",
      "192:\tlearn: 2042.7980110\ttotal: 3.32s\tremaining: 4.94s\n",
      "193:\tlearn: 2041.5452067\ttotal: 3.34s\tremaining: 4.92s\n",
      "194:\tlearn: 2039.9354317\ttotal: 3.35s\tremaining: 4.9s\n",
      "195:\tlearn: 2038.5833248\ttotal: 3.37s\tremaining: 4.88s\n",
      "196:\tlearn: 2037.3682421\ttotal: 3.38s\tremaining: 4.86s\n",
      "197:\tlearn: 2036.0470135\ttotal: 3.39s\tremaining: 4.83s\n",
      "198:\tlearn: 2034.1342005\ttotal: 3.41s\tremaining: 4.82s\n",
      "199:\tlearn: 2032.8054234\ttotal: 3.42s\tremaining: 4.79s\n",
      "200:\tlearn: 2031.5079989\ttotal: 3.44s\tremaining: 4.77s\n",
      "201:\tlearn: 2030.1167982\ttotal: 3.45s\tremaining: 4.75s\n",
      "202:\tlearn: 2029.1110565\ttotal: 3.47s\tremaining: 4.73s\n",
      "203:\tlearn: 2028.1214304\ttotal: 3.48s\tremaining: 4.71s\n",
      "204:\tlearn: 2026.9006165\ttotal: 3.5s\tremaining: 4.69s\n",
      "205:\tlearn: 2025.3181082\ttotal: 3.51s\tremaining: 4.67s\n",
      "206:\tlearn: 2023.9337588\ttotal: 3.52s\tremaining: 4.65s\n",
      "207:\tlearn: 2022.4739057\ttotal: 3.54s\tremaining: 4.63s\n",
      "208:\tlearn: 2020.5011472\ttotal: 3.56s\tremaining: 4.61s\n",
      "209:\tlearn: 2019.4768392\ttotal: 3.57s\tremaining: 4.59s\n",
      "210:\tlearn: 2018.2064802\ttotal: 3.58s\tremaining: 4.57s\n",
      "211:\tlearn: 2017.2166091\ttotal: 3.6s\tremaining: 4.55s\n",
      "212:\tlearn: 2016.0713932\ttotal: 3.61s\tremaining: 4.53s\n",
      "213:\tlearn: 2014.8752880\ttotal: 3.63s\tremaining: 4.51s\n",
      "214:\tlearn: 2013.5397157\ttotal: 3.64s\tremaining: 4.49s\n",
      "215:\tlearn: 2012.6441469\ttotal: 3.65s\tremaining: 4.47s\n",
      "216:\tlearn: 2010.7838441\ttotal: 3.67s\tremaining: 4.45s\n",
      "217:\tlearn: 2009.8032871\ttotal: 3.69s\tremaining: 4.43s\n",
      "218:\tlearn: 2008.7331263\ttotal: 3.7s\tremaining: 4.41s\n",
      "219:\tlearn: 2007.4806602\ttotal: 3.71s\tremaining: 4.39s\n",
      "220:\tlearn: 2006.3933150\ttotal: 3.73s\tremaining: 4.37s\n",
      "221:\tlearn: 2005.1510596\ttotal: 3.74s\tremaining: 4.35s\n",
      "222:\tlearn: 2003.9480276\ttotal: 3.76s\tremaining: 4.33s\n",
      "223:\tlearn: 2003.0836979\ttotal: 3.77s\tremaining: 4.31s\n",
      "224:\tlearn: 2001.7699425\ttotal: 3.79s\tremaining: 4.29s\n",
      "225:\tlearn: 2000.2935241\ttotal: 3.8s\tremaining: 4.27s\n",
      "226:\tlearn: 1998.6271470\ttotal: 3.82s\tremaining: 4.25s\n",
      "227:\tlearn: 1997.7153203\ttotal: 3.83s\tremaining: 4.23s\n",
      "228:\tlearn: 1996.6397632\ttotal: 3.85s\tremaining: 4.21s\n",
      "229:\tlearn: 1995.5671488\ttotal: 3.86s\tremaining: 4.19s\n",
      "230:\tlearn: 1994.3407339\ttotal: 3.88s\tremaining: 4.18s\n",
      "231:\tlearn: 1993.1422637\ttotal: 3.89s\tremaining: 4.16s\n",
      "232:\tlearn: 1991.8211834\ttotal: 3.91s\tremaining: 4.14s\n",
      "233:\tlearn: 1990.8788769\ttotal: 3.92s\tremaining: 4.12s\n",
      "234:\tlearn: 1990.1260923\ttotal: 3.93s\tremaining: 4.1s\n",
      "235:\tlearn: 1988.7876706\ttotal: 3.95s\tremaining: 4.08s\n",
      "236:\tlearn: 1987.6796485\ttotal: 3.96s\tremaining: 4.06s\n",
      "237:\tlearn: 1986.9088368\ttotal: 3.98s\tremaining: 4.04s\n",
      "238:\tlearn: 1986.1271371\ttotal: 3.99s\tremaining: 4.02s\n",
      "239:\tlearn: 1985.0448684\ttotal: 4s\tremaining: 4s\n",
      "240:\tlearn: 1984.1611442\ttotal: 4.03s\tremaining: 3.99s\n",
      "241:\tlearn: 1983.2995423\ttotal: 4.04s\tremaining: 3.97s\n",
      "242:\tlearn: 1982.0730536\ttotal: 4.05s\tremaining: 3.95s\n",
      "243:\tlearn: 1980.8350577\ttotal: 4.07s\tremaining: 3.94s\n",
      "244:\tlearn: 1979.7597963\ttotal: 4.09s\tremaining: 3.92s\n",
      "245:\tlearn: 1978.3648824\ttotal: 4.1s\tremaining: 3.9s\n",
      "246:\tlearn: 1977.6894337\ttotal: 4.12s\tremaining: 3.88s\n",
      "247:\tlearn: 1976.8366066\ttotal: 4.13s\tremaining: 3.86s\n",
      "248:\tlearn: 1976.0333550\ttotal: 4.14s\tremaining: 3.84s\n",
      "249:\tlearn: 1975.2146112\ttotal: 4.16s\tremaining: 3.82s\n",
      "250:\tlearn: 1974.3826694\ttotal: 4.17s\tremaining: 3.81s\n",
      "251:\tlearn: 1973.6813321\ttotal: 4.18s\tremaining: 3.79s\n",
      "252:\tlearn: 1972.7819589\ttotal: 4.2s\tremaining: 3.77s\n",
      "253:\tlearn: 1971.5390448\ttotal: 4.22s\tremaining: 3.75s\n",
      "254:\tlearn: 1970.7309638\ttotal: 4.23s\tremaining: 3.73s\n",
      "255:\tlearn: 1970.0309417\ttotal: 4.24s\tremaining: 3.71s\n",
      "256:\tlearn: 1969.4240799\ttotal: 4.26s\tremaining: 3.69s\n",
      "257:\tlearn: 1968.7620476\ttotal: 4.27s\tremaining: 3.67s\n",
      "258:\tlearn: 1967.8470166\ttotal: 4.29s\tremaining: 3.66s\n",
      "259:\tlearn: 1966.7788139\ttotal: 4.3s\tremaining: 3.64s\n",
      "260:\tlearn: 1966.0118960\ttotal: 4.31s\tremaining: 3.62s\n",
      "261:\tlearn: 1965.4057089\ttotal: 4.33s\tremaining: 3.6s\n",
      "262:\tlearn: 1964.3720567\ttotal: 4.34s\tremaining: 3.58s\n",
      "263:\tlearn: 1963.5288550\ttotal: 4.36s\tremaining: 3.56s\n",
      "264:\tlearn: 1962.9308244\ttotal: 4.37s\tremaining: 3.55s\n",
      "265:\tlearn: 1962.2634501\ttotal: 4.38s\tremaining: 3.53s\n",
      "266:\tlearn: 1961.6031489\ttotal: 4.4s\tremaining: 3.51s\n",
      "267:\tlearn: 1961.0566969\ttotal: 4.41s\tremaining: 3.49s\n",
      "268:\tlearn: 1960.1714156\ttotal: 4.43s\tremaining: 3.47s\n",
      "269:\tlearn: 1959.5683378\ttotal: 4.44s\tremaining: 3.45s\n",
      "270:\tlearn: 1958.4967902\ttotal: 4.45s\tremaining: 3.44s\n",
      "271:\tlearn: 1957.6368811\ttotal: 4.47s\tremaining: 3.42s\n",
      "272:\tlearn: 1956.9864029\ttotal: 4.48s\tremaining: 3.4s\n",
      "273:\tlearn: 1955.9590519\ttotal: 4.5s\tremaining: 3.38s\n",
      "274:\tlearn: 1955.2881921\ttotal: 4.51s\tremaining: 3.36s\n",
      "275:\tlearn: 1954.6499854\ttotal: 4.53s\tremaining: 3.35s\n",
      "276:\tlearn: 1953.5211712\ttotal: 4.54s\tremaining: 3.33s\n",
      "277:\tlearn: 1953.0139898\ttotal: 4.55s\tremaining: 3.31s\n",
      "278:\tlearn: 1952.2316591\ttotal: 4.57s\tremaining: 3.29s\n",
      "279:\tlearn: 1951.1172739\ttotal: 4.58s\tremaining: 3.27s\n",
      "280:\tlearn: 1950.1623854\ttotal: 4.6s\tremaining: 3.26s\n",
      "281:\tlearn: 1949.4573257\ttotal: 4.61s\tremaining: 3.24s\n",
      "282:\tlearn: 1948.5527775\ttotal: 4.63s\tremaining: 3.22s\n",
      "283:\tlearn: 1947.9571622\ttotal: 4.64s\tremaining: 3.2s\n",
      "284:\tlearn: 1947.2960588\ttotal: 4.66s\tremaining: 3.19s\n",
      "285:\tlearn: 1946.5696756\ttotal: 4.67s\tremaining: 3.17s\n",
      "286:\tlearn: 1946.0740001\ttotal: 4.68s\tremaining: 3.15s\n",
      "287:\tlearn: 1945.5010896\ttotal: 4.7s\tremaining: 3.13s\n",
      "288:\tlearn: 1944.7245120\ttotal: 4.71s\tremaining: 3.12s\n",
      "289:\tlearn: 1944.0063517\ttotal: 4.73s\tremaining: 3.1s\n",
      "290:\tlearn: 1943.3637567\ttotal: 4.74s\tremaining: 3.08s\n",
      "291:\tlearn: 1942.8376680\ttotal: 4.75s\tremaining: 3.06s\n",
      "292:\tlearn: 1942.2342678\ttotal: 4.77s\tremaining: 3.04s\n",
      "293:\tlearn: 1941.6711345\ttotal: 4.78s\tremaining: 3.02s\n",
      "294:\tlearn: 1941.0013275\ttotal: 4.8s\tremaining: 3.01s\n",
      "295:\tlearn: 1940.2377649\ttotal: 4.81s\tremaining: 2.99s\n",
      "296:\tlearn: 1939.5163955\ttotal: 4.83s\tremaining: 2.97s\n",
      "297:\tlearn: 1938.8834997\ttotal: 4.84s\tremaining: 2.96s\n",
      "298:\tlearn: 1938.1551157\ttotal: 4.85s\tremaining: 2.94s\n",
      "299:\tlearn: 1937.7175811\ttotal: 4.87s\tremaining: 2.92s\n",
      "300:\tlearn: 1937.2042055\ttotal: 4.88s\tremaining: 2.9s\n",
      "301:\tlearn: 1936.5836135\ttotal: 4.9s\tremaining: 2.88s\n",
      "302:\tlearn: 1935.9263698\ttotal: 4.91s\tremaining: 2.87s\n",
      "303:\tlearn: 1935.4698842\ttotal: 4.92s\tremaining: 2.85s\n",
      "304:\tlearn: 1935.0014629\ttotal: 4.94s\tremaining: 2.83s\n",
      "305:\tlearn: 1934.4875521\ttotal: 4.95s\tremaining: 2.81s\n",
      "306:\tlearn: 1933.6796850\ttotal: 4.96s\tremaining: 2.8s\n",
      "307:\tlearn: 1932.6930544\ttotal: 4.98s\tremaining: 2.78s\n",
      "308:\tlearn: 1932.3069000\ttotal: 4.99s\tremaining: 2.76s\n",
      "309:\tlearn: 1931.8417657\ttotal: 5.01s\tremaining: 2.75s\n",
      "310:\tlearn: 1931.2030864\ttotal: 5.03s\tremaining: 2.73s\n",
      "311:\tlearn: 1930.7092623\ttotal: 5.04s\tremaining: 2.71s\n",
      "312:\tlearn: 1929.9662470\ttotal: 5.05s\tremaining: 2.7s\n",
      "313:\tlearn: 1929.4190385\ttotal: 5.07s\tremaining: 2.68s\n",
      "314:\tlearn: 1928.8102577\ttotal: 5.08s\tremaining: 2.66s\n",
      "315:\tlearn: 1928.2435108\ttotal: 5.1s\tremaining: 2.65s\n",
      "316:\tlearn: 1927.7070124\ttotal: 5.11s\tremaining: 2.63s\n",
      "317:\tlearn: 1927.1300523\ttotal: 5.13s\tremaining: 2.61s\n",
      "318:\tlearn: 1926.5837442\ttotal: 5.14s\tremaining: 2.59s\n",
      "319:\tlearn: 1925.9863014\ttotal: 5.15s\tremaining: 2.58s\n",
      "320:\tlearn: 1925.3136471\ttotal: 5.17s\tremaining: 2.56s\n",
      "321:\tlearn: 1924.9365275\ttotal: 5.18s\tremaining: 2.54s\n",
      "322:\tlearn: 1924.4402185\ttotal: 5.2s\tremaining: 2.52s\n",
      "323:\tlearn: 1923.9156296\ttotal: 5.21s\tremaining: 2.51s\n",
      "324:\tlearn: 1923.3226907\ttotal: 5.23s\tremaining: 2.49s\n",
      "325:\tlearn: 1922.8633029\ttotal: 5.24s\tremaining: 2.48s\n",
      "326:\tlearn: 1922.1363172\ttotal: 5.26s\tremaining: 2.46s\n",
      "327:\tlearn: 1921.7255923\ttotal: 5.27s\tremaining: 2.44s\n",
      "328:\tlearn: 1921.3972327\ttotal: 5.28s\tremaining: 2.42s\n",
      "329:\tlearn: 1920.8534732\ttotal: 5.3s\tremaining: 2.41s\n",
      "330:\tlearn: 1920.4164364\ttotal: 5.31s\tremaining: 2.39s\n",
      "331:\tlearn: 1919.7472224\ttotal: 5.33s\tremaining: 2.38s\n",
      "332:\tlearn: 1919.3662661\ttotal: 5.34s\tremaining: 2.36s\n",
      "333:\tlearn: 1918.7485488\ttotal: 5.35s\tremaining: 2.34s\n",
      "334:\tlearn: 1918.4319771\ttotal: 5.37s\tremaining: 2.32s\n",
      "335:\tlearn: 1917.9325064\ttotal: 5.38s\tremaining: 2.31s\n",
      "336:\tlearn: 1917.4193826\ttotal: 5.4s\tremaining: 2.29s\n",
      "337:\tlearn: 1916.7960849\ttotal: 5.41s\tremaining: 2.27s\n",
      "338:\tlearn: 1916.0953247\ttotal: 5.42s\tremaining: 2.26s\n",
      "339:\tlearn: 1915.6394564\ttotal: 5.44s\tremaining: 2.24s\n",
      "340:\tlearn: 1914.9726712\ttotal: 5.45s\tremaining: 2.22s\n",
      "341:\tlearn: 1914.2953009\ttotal: 5.47s\tremaining: 2.21s\n",
      "342:\tlearn: 1913.8152165\ttotal: 5.48s\tremaining: 2.19s\n",
      "343:\tlearn: 1913.4628684\ttotal: 5.5s\tremaining: 2.17s\n",
      "344:\tlearn: 1913.0076787\ttotal: 5.51s\tremaining: 2.16s\n",
      "345:\tlearn: 1912.5031339\ttotal: 5.52s\tremaining: 2.14s\n",
      "346:\tlearn: 1912.0070967\ttotal: 5.54s\tremaining: 2.12s\n",
      "347:\tlearn: 1911.2843741\ttotal: 5.55s\tremaining: 2.11s\n",
      "348:\tlearn: 1910.8669407\ttotal: 5.57s\tremaining: 2.09s\n",
      "349:\tlearn: 1910.3474973\ttotal: 5.58s\tremaining: 2.07s\n",
      "350:\tlearn: 1909.6483666\ttotal: 5.6s\tremaining: 2.06s\n",
      "351:\tlearn: 1909.2438077\ttotal: 5.61s\tremaining: 2.04s\n",
      "352:\tlearn: 1908.8429761\ttotal: 5.62s\tremaining: 2.02s\n",
      "353:\tlearn: 1908.4300409\ttotal: 5.63s\tremaining: 2.01s\n",
      "354:\tlearn: 1907.8757665\ttotal: 5.65s\tremaining: 1.99s\n",
      "355:\tlearn: 1907.5748518\ttotal: 5.66s\tremaining: 1.97s\n",
      "356:\tlearn: 1907.1994761\ttotal: 5.68s\tremaining: 1.96s\n",
      "357:\tlearn: 1906.7696826\ttotal: 5.69s\tremaining: 1.94s\n",
      "358:\tlearn: 1906.2651330\ttotal: 5.71s\tremaining: 1.92s\n",
      "359:\tlearn: 1905.8588735\ttotal: 5.72s\tremaining: 1.91s\n",
      "360:\tlearn: 1905.4297216\ttotal: 5.73s\tremaining: 1.89s\n",
      "361:\tlearn: 1904.9881504\ttotal: 5.75s\tremaining: 1.87s\n",
      "362:\tlearn: 1904.4822292\ttotal: 5.76s\tremaining: 1.86s\n",
      "363:\tlearn: 1903.9491947\ttotal: 5.78s\tremaining: 1.84s\n",
      "364:\tlearn: 1903.5873896\ttotal: 5.79s\tremaining: 1.82s\n",
      "365:\tlearn: 1902.8840999\ttotal: 5.81s\tremaining: 1.81s\n",
      "366:\tlearn: 1902.5894453\ttotal: 5.82s\tremaining: 1.79s\n",
      "367:\tlearn: 1902.1262748\ttotal: 5.83s\tremaining: 1.77s\n",
      "368:\tlearn: 1901.6818376\ttotal: 5.85s\tremaining: 1.76s\n",
      "369:\tlearn: 1901.2625083\ttotal: 5.86s\tremaining: 1.74s\n",
      "370:\tlearn: 1900.8876019\ttotal: 5.87s\tremaining: 1.73s\n",
      "371:\tlearn: 1900.5514373\ttotal: 5.89s\tremaining: 1.71s\n",
      "372:\tlearn: 1899.8606895\ttotal: 5.9s\tremaining: 1.69s\n",
      "373:\tlearn: 1899.3350304\ttotal: 5.92s\tremaining: 1.68s\n",
      "374:\tlearn: 1899.0956099\ttotal: 5.93s\tremaining: 1.66s\n",
      "375:\tlearn: 1898.4907862\ttotal: 5.95s\tremaining: 1.65s\n",
      "376:\tlearn: 1898.2283702\ttotal: 5.97s\tremaining: 1.63s\n",
      "377:\tlearn: 1897.9043154\ttotal: 5.99s\tremaining: 1.62s\n",
      "378:\tlearn: 1897.5461262\ttotal: 6.02s\tremaining: 1.6s\n",
      "379:\tlearn: 1897.2411232\ttotal: 6.04s\tremaining: 1.59s\n",
      "380:\tlearn: 1896.8495687\ttotal: 6.06s\tremaining: 1.57s\n",
      "381:\tlearn: 1896.4026989\ttotal: 6.08s\tremaining: 1.56s\n",
      "382:\tlearn: 1895.8410958\ttotal: 6.09s\tremaining: 1.54s\n",
      "383:\tlearn: 1895.3447449\ttotal: 6.11s\tremaining: 1.53s\n",
      "384:\tlearn: 1894.9975248\ttotal: 6.13s\tremaining: 1.51s\n",
      "385:\tlearn: 1894.6562102\ttotal: 6.14s\tremaining: 1.5s\n",
      "386:\tlearn: 1894.3725321\ttotal: 6.16s\tremaining: 1.48s\n",
      "387:\tlearn: 1893.8322979\ttotal: 6.18s\tremaining: 1.46s\n",
      "388:\tlearn: 1893.5611501\ttotal: 6.19s\tremaining: 1.45s\n",
      "389:\tlearn: 1893.2039657\ttotal: 6.21s\tremaining: 1.43s\n",
      "390:\tlearn: 1892.8413021\ttotal: 6.23s\tremaining: 1.42s\n",
      "391:\tlearn: 1892.4681778\ttotal: 6.25s\tremaining: 1.4s\n",
      "392:\tlearn: 1892.1840760\ttotal: 6.26s\tremaining: 1.39s\n",
      "393:\tlearn: 1891.6794655\ttotal: 6.28s\tremaining: 1.37s\n",
      "394:\tlearn: 1891.2702657\ttotal: 6.3s\tremaining: 1.35s\n",
      "395:\tlearn: 1890.9242799\ttotal: 6.31s\tremaining: 1.34s\n",
      "396:\tlearn: 1890.5965975\ttotal: 6.33s\tremaining: 1.32s\n",
      "397:\tlearn: 1890.2753689\ttotal: 6.35s\tremaining: 1.31s\n",
      "398:\tlearn: 1889.8225838\ttotal: 6.36s\tremaining: 1.29s\n",
      "399:\tlearn: 1889.4984248\ttotal: 6.38s\tremaining: 1.27s\n",
      "400:\tlearn: 1889.0991966\ttotal: 6.4s\tremaining: 1.26s\n",
      "401:\tlearn: 1888.7910289\ttotal: 6.42s\tremaining: 1.24s\n",
      "402:\tlearn: 1888.4903049\ttotal: 6.43s\tremaining: 1.23s\n",
      "403:\tlearn: 1888.0936351\ttotal: 6.45s\tremaining: 1.21s\n",
      "404:\tlearn: 1887.8028345\ttotal: 6.46s\tremaining: 1.2s\n",
      "405:\tlearn: 1887.3306532\ttotal: 6.48s\tremaining: 1.18s\n",
      "406:\tlearn: 1887.0044758\ttotal: 6.5s\tremaining: 1.17s\n",
      "407:\tlearn: 1886.4816224\ttotal: 6.51s\tremaining: 1.15s\n",
      "408:\tlearn: 1886.1232521\ttotal: 6.53s\tremaining: 1.13s\n",
      "409:\tlearn: 1885.8616530\ttotal: 6.55s\tremaining: 1.12s\n",
      "410:\tlearn: 1885.5552673\ttotal: 6.56s\tremaining: 1.1s\n",
      "411:\tlearn: 1885.3060788\ttotal: 6.58s\tremaining: 1.08s\n",
      "412:\tlearn: 1884.8600069\ttotal: 6.59s\tremaining: 1.07s\n",
      "413:\tlearn: 1884.1807095\ttotal: 6.61s\tremaining: 1.05s\n",
      "414:\tlearn: 1883.6741496\ttotal: 6.63s\tremaining: 1.04s\n",
      "415:\tlearn: 1883.2424019\ttotal: 6.65s\tremaining: 1.02s\n",
      "416:\tlearn: 1882.9469032\ttotal: 6.67s\tremaining: 1.01s\n",
      "417:\tlearn: 1882.7211507\ttotal: 6.68s\tremaining: 991ms\n",
      "418:\tlearn: 1882.4269625\ttotal: 6.7s\tremaining: 975ms\n",
      "419:\tlearn: 1882.1378167\ttotal: 6.72s\tremaining: 960ms\n",
      "420:\tlearn: 1881.6003647\ttotal: 6.74s\tremaining: 944ms\n",
      "421:\tlearn: 1881.2762271\ttotal: 6.75s\tremaining: 928ms\n",
      "422:\tlearn: 1880.9276755\ttotal: 6.77s\tremaining: 912ms\n",
      "423:\tlearn: 1880.5809145\ttotal: 6.79s\tremaining: 896ms\n",
      "424:\tlearn: 1880.1988745\ttotal: 6.8s\tremaining: 881ms\n",
      "425:\tlearn: 1879.7768266\ttotal: 6.82s\tremaining: 865ms\n",
      "426:\tlearn: 1879.4921514\ttotal: 6.84s\tremaining: 849ms\n",
      "427:\tlearn: 1879.2285356\ttotal: 6.86s\tremaining: 833ms\n",
      "428:\tlearn: 1878.7684907\ttotal: 6.87s\tremaining: 817ms\n",
      "429:\tlearn: 1878.3937837\ttotal: 6.89s\tremaining: 801ms\n",
      "430:\tlearn: 1878.1083315\ttotal: 6.91s\tremaining: 785ms\n",
      "431:\tlearn: 1877.7899663\ttotal: 6.92s\tremaining: 769ms\n",
      "432:\tlearn: 1877.5559920\ttotal: 6.93s\tremaining: 753ms\n",
      "433:\tlearn: 1877.0751769\ttotal: 6.95s\tremaining: 736ms\n",
      "434:\tlearn: 1876.7329959\ttotal: 6.96s\tremaining: 720ms\n",
      "435:\tlearn: 1876.3076469\ttotal: 6.98s\tremaining: 704ms\n",
      "436:\tlearn: 1875.8791287\ttotal: 7s\tremaining: 688ms\n",
      "437:\tlearn: 1875.3055329\ttotal: 7.01s\tremaining: 672ms\n",
      "438:\tlearn: 1875.0683382\ttotal: 7.03s\tremaining: 656ms\n",
      "439:\tlearn: 1874.7887230\ttotal: 7.04s\tremaining: 640ms\n",
      "440:\tlearn: 1874.4084156\ttotal: 7.06s\tremaining: 624ms\n",
      "441:\tlearn: 1874.2093972\ttotal: 7.07s\tremaining: 608ms\n",
      "442:\tlearn: 1873.9119374\ttotal: 7.08s\tremaining: 592ms\n",
      "443:\tlearn: 1873.5555716\ttotal: 7.1s\tremaining: 575ms\n",
      "444:\tlearn: 1873.1346524\ttotal: 7.11s\tremaining: 560ms\n",
      "445:\tlearn: 1872.7926247\ttotal: 7.13s\tremaining: 543ms\n",
      "446:\tlearn: 1872.4816994\ttotal: 7.14s\tremaining: 527ms\n",
      "447:\tlearn: 1872.2562677\ttotal: 7.15s\tremaining: 511ms\n",
      "448:\tlearn: 1872.0559103\ttotal: 7.17s\tremaining: 495ms\n",
      "449:\tlearn: 1871.7796130\ttotal: 7.18s\tremaining: 479ms\n",
      "450:\tlearn: 1871.2426402\ttotal: 7.2s\tremaining: 463ms\n",
      "451:\tlearn: 1870.9934580\ttotal: 7.21s\tremaining: 447ms\n",
      "452:\tlearn: 1870.6576238\ttotal: 7.22s\tremaining: 431ms\n",
      "453:\tlearn: 1870.1824576\ttotal: 7.24s\tremaining: 415ms\n",
      "454:\tlearn: 1869.5841093\ttotal: 7.25s\tremaining: 399ms\n",
      "455:\tlearn: 1869.2509735\ttotal: 7.27s\tremaining: 383ms\n",
      "456:\tlearn: 1869.0419118\ttotal: 7.28s\tremaining: 366ms\n",
      "457:\tlearn: 1868.7471053\ttotal: 7.29s\tremaining: 350ms\n",
      "458:\tlearn: 1868.3708541\ttotal: 7.31s\tremaining: 334ms\n",
      "459:\tlearn: 1868.0981194\ttotal: 7.33s\tremaining: 319ms\n",
      "460:\tlearn: 1867.8121544\ttotal: 7.34s\tremaining: 302ms\n",
      "461:\tlearn: 1867.2928804\ttotal: 7.36s\tremaining: 287ms\n",
      "462:\tlearn: 1866.7921433\ttotal: 7.37s\tremaining: 271ms\n",
      "463:\tlearn: 1866.3990452\ttotal: 7.38s\tremaining: 255ms\n",
      "464:\tlearn: 1865.8444597\ttotal: 7.4s\tremaining: 239ms\n",
      "465:\tlearn: 1865.6096015\ttotal: 7.42s\tremaining: 223ms\n",
      "466:\tlearn: 1865.3690030\ttotal: 7.43s\tremaining: 207ms\n",
      "467:\tlearn: 1865.1878725\ttotal: 7.44s\tremaining: 191ms\n",
      "468:\tlearn: 1864.9205749\ttotal: 7.45s\tremaining: 175ms\n",
      "469:\tlearn: 1864.6487649\ttotal: 7.47s\tremaining: 159ms\n",
      "470:\tlearn: 1864.3531243\ttotal: 7.48s\tremaining: 143ms\n",
      "471:\tlearn: 1863.9889214\ttotal: 7.5s\tremaining: 127ms\n",
      "472:\tlearn: 1863.7659247\ttotal: 7.51s\tremaining: 111ms\n",
      "473:\tlearn: 1863.3683874\ttotal: 7.53s\tremaining: 95.3ms\n",
      "474:\tlearn: 1863.0892844\ttotal: 7.54s\tremaining: 79.4ms\n",
      "475:\tlearn: 1862.6738701\ttotal: 7.55s\tremaining: 63.5ms\n",
      "476:\tlearn: 1862.4015043\ttotal: 7.57s\tremaining: 47.6ms\n",
      "477:\tlearn: 1862.1755194\ttotal: 7.58s\tremaining: 31.7ms\n",
      "478:\tlearn: 1861.9731667\ttotal: 7.59s\tremaining: 15.8ms\n",
      "479:\tlearn: 1861.7521144\ttotal: 7.6s\tremaining: 0us\n"
     ]
    },
    {
     "data": {
      "text/html": [
       "<font color='blue'>RMSE CatBoostRegressor методом One-Hot Encoding:-1872.623</font>"
      ],
      "text/plain": [
       "<IPython.core.display.HTML object>"
      ]
     },
     "metadata": {},
     "output_type": "display_data"
    },
    {
     "name": "stdout",
     "output_type": "stream",
     "text": [
      "Wall time: 14min 10s\n"
     ]
    }
   ],
   "source": [
    "%%time\n",
    "cat_grid_ohe = params_grid(model_cat,parameters_cat,'neg_root_mean_squared_error',features_train_o,target_train_o)\n",
    "display(HTML(f\"<font color='blue'>RMSE CatBoostRegressor методом One-Hot Encoding:\\\n",
    "{cat_grid_ohe[2]:.3f}</font>\"))"
   ]
  },
  {
   "cell_type": "code",
   "execution_count": 47,
   "metadata": {
    "ExecuteTime": {
     "end_time": "2022-05-25T12:40:18.786990Z",
     "start_time": "2022-05-25T12:40:18.774025Z"
    }
   },
   "outputs": [],
   "source": [
    "# Занесем результаты в словарь\n",
    "rmse_dict['CatBoostRegressor'] = [cat_grid_ord[2]*(-1), cat_grid_ohe[2]*(-1),0,921,850,0]"
   ]
  },
  {
   "cell_type": "markdown",
   "metadata": {},
   "source": [
    "## Анализ моделей"
   ]
  },
  {
   "cell_type": "code",
   "execution_count": 56,
   "metadata": {
    "ExecuteTime": {
     "end_time": "2022-05-25T12:47:17.996526Z",
     "start_time": "2022-05-25T12:47:17.965607Z"
    }
   },
   "outputs": [
    {
     "data": {
      "text/html": [
       "<style type=\"text/css\">\n",
       "#T_4ee07_row0_col0, #T_4ee07_row0_col1, #T_4ee07_row2_col2, #T_4ee07_row2_col5, #T_4ee07_row3_col3, #T_4ee07_row3_col4 {\n",
       "  background-color: #87ceeb;\n",
       "  color: #000000;\n",
       "}\n",
       "#T_4ee07_row0_col2, #T_4ee07_row0_col3, #T_4ee07_row0_col4, #T_4ee07_row0_col5, #T_4ee07_row1_col2, #T_4ee07_row1_col3, #T_4ee07_row1_col5, #T_4ee07_row2_col0, #T_4ee07_row2_col1, #T_4ee07_row3_col2, #T_4ee07_row3_col5 {\n",
       "  background-color: #eff1f2;\n",
       "  color: #000000;\n",
       "}\n",
       "#T_4ee07_row1_col0 {\n",
       "  background-color: #c6e3ef;\n",
       "  color: #000000;\n",
       "}\n",
       "#T_4ee07_row1_col1 {\n",
       "  background-color: #b7deee;\n",
       "  color: #000000;\n",
       "}\n",
       "#T_4ee07_row1_col4 {\n",
       "  background-color: #edf0f2;\n",
       "  color: #000000;\n",
       "}\n",
       "#T_4ee07_row2_col3 {\n",
       "  background-color: #d0e7f0;\n",
       "  color: #000000;\n",
       "}\n",
       "#T_4ee07_row2_col4 {\n",
       "  background-color: #c4e3ef;\n",
       "  color: #000000;\n",
       "}\n",
       "#T_4ee07_row3_col0 {\n",
       "  background-color: #e8eef1;\n",
       "  color: #000000;\n",
       "}\n",
       "#T_4ee07_row3_col1 {\n",
       "  background-color: #e6eef1;\n",
       "  color: #000000;\n",
       "}\n",
       "</style>\n",
       "<table id=\"T_4ee07_\">\n",
       "  <thead>\n",
       "    <tr>\n",
       "      <th class=\"blank level0\" >&nbsp;</th>\n",
       "      <th class=\"col_heading level0 col0\" >RMSE Ordinal</th>\n",
       "      <th class=\"col_heading level0 col1\" >RMSE One-Hot</th>\n",
       "      <th class=\"col_heading level0 col2\" >RMSE category</th>\n",
       "      <th class=\"col_heading level0 col3\" >CV Ordinal(s)</th>\n",
       "      <th class=\"col_heading level0 col4\" >CV One-Hot(s)</th>\n",
       "      <th class=\"col_heading level0 col5\" >CV category(s)</th>\n",
       "    </tr>\n",
       "  </thead>\n",
       "  <tbody>\n",
       "    <tr>\n",
       "      <th id=\"T_4ee07_level0_row0\" class=\"row_heading level0 row0\" >LinearRegression</th>\n",
       "      <td id=\"T_4ee07_row0_col0\" class=\"data row0 col0\" >3108.988761</td>\n",
       "      <td id=\"T_4ee07_row0_col1\" class=\"data row0 col1\" >2742.978850</td>\n",
       "      <td id=\"T_4ee07_row0_col2\" class=\"data row0 col2\" >0.000000</td>\n",
       "      <td id=\"T_4ee07_row0_col3\" class=\"data row0 col3\" >0.028500</td>\n",
       "      <td id=\"T_4ee07_row0_col4\" class=\"data row0 col4\" >22.300000</td>\n",
       "      <td id=\"T_4ee07_row0_col5\" class=\"data row0 col5\" >0</td>\n",
       "    </tr>\n",
       "    <tr>\n",
       "      <th id=\"T_4ee07_level0_row1\" class=\"row_heading level0 row1\" >DecisionTreeRegressor</th>\n",
       "      <td id=\"T_4ee07_row1_col0\" class=\"data row1 col0\" >2300.156752</td>\n",
       "      <td id=\"T_4ee07_row1_col1\" class=\"data row1 col1\" >2303.555144</td>\n",
       "      <td id=\"T_4ee07_row1_col2\" class=\"data row1 col2\" >0.000000</td>\n",
       "      <td id=\"T_4ee07_row1_col3\" class=\"data row1 col3\" >5.350000</td>\n",
       "      <td id=\"T_4ee07_row1_col4\" class=\"data row1 col4\" >38.600000</td>\n",
       "      <td id=\"T_4ee07_row1_col5\" class=\"data row1 col5\" >0</td>\n",
       "    </tr>\n",
       "    <tr>\n",
       "      <th id=\"T_4ee07_level0_row2\" class=\"row_heading level0 row2\" >LGBMRegressor</th>\n",
       "      <td id=\"T_4ee07_row2_col0\" class=\"data row2 col0\" >1775.394448</td>\n",
       "      <td id=\"T_4ee07_row2_col1\" class=\"data row2 col1\" >1788.284760</td>\n",
       "      <td id=\"T_4ee07_row2_col2\" class=\"data row2 col2\" >1683.757724</td>\n",
       "      <td id=\"T_4ee07_row2_col3\" class=\"data row2 col3\" >276.000000</td>\n",
       "      <td id=\"T_4ee07_row2_col4\" class=\"data row2 col4\" >363.000000</td>\n",
       "      <td id=\"T_4ee07_row2_col5\" class=\"data row2 col5\" >292</td>\n",
       "    </tr>\n",
       "    <tr>\n",
       "      <th id=\"T_4ee07_level0_row3\" class=\"row_heading level0 row3\" >CatBoostRegressor</th>\n",
       "      <td id=\"T_4ee07_row3_col0\" class=\"data row3 col0\" >1873.351208</td>\n",
       "      <td id=\"T_4ee07_row3_col1\" class=\"data row3 col1\" >1872.622917</td>\n",
       "      <td id=\"T_4ee07_row3_col2\" class=\"data row3 col2\" >0.000000</td>\n",
       "      <td id=\"T_4ee07_row3_col3\" class=\"data row3 col3\" >921.000000</td>\n",
       "      <td id=\"T_4ee07_row3_col4\" class=\"data row3 col4\" >850.000000</td>\n",
       "      <td id=\"T_4ee07_row3_col5\" class=\"data row3 col5\" >0</td>\n",
       "    </tr>\n",
       "  </tbody>\n",
       "</table>\n"
      ],
      "text/plain": [
       "<pandas.io.formats.style.Styler at 0x1ad82615bb0>"
      ]
     },
     "execution_count": 56,
     "metadata": {},
     "output_type": "execute_result"
    }
   ],
   "source": [
    "rmse_score = pd.DataFrame.from_dict(data=rmse_dict, columns=[\n",
    "    'RMSE Ordinal', \n",
    "    'RMSE One-Hot',\n",
    "    'RMSE category',\n",
    "    'CV Ordinal(s)',\n",
    "    'CV One-Hot(s)',\n",
    "    'CV category(s)'\n",
    "    ],\n",
    "                                    orient='index')\n",
    "rmse_score.style.background_gradient(cmap=sns.light_palette(\"skyblue\", as_cmap=True))\n"
   ]
  },
  {
   "cell_type": "markdown",
   "metadata": {},
   "source": [
    "Проверка лучшей модели на тестовой выборке"
   ]
  },
  {
   "cell_type": "code",
   "execution_count": 51,
   "metadata": {
    "ExecuteTime": {
     "end_time": "2022-05-25T12:43:03.589258Z",
     "start_time": "2022-05-25T12:43:03.582255Z"
    }
   },
   "outputs": [
    {
     "data": {
      "text/plain": [
       "(GridSearchCV(cv=5, estimator=LGBMRegressor(), n_jobs=-1,\n",
       "              param_grid={'boosting_type': ['gbdt'],\n",
       "                          'learning_rate': array([0.021, 0.022, 0.023]),\n",
       "                          'max_depth': range(3, 7), 'metric': ['rmse'],\n",
       "                          'n_estimators': range(380, 481, 50),\n",
       "                          'objective': ['regression'], 'random_state': [12345],\n",
       "                          'verbosity': [1]},\n",
       "              scoring='neg_root_mean_squared_error', verbose=2),\n",
       " {'boosting_type': 'gbdt',\n",
       "  'learning_rate': 0.023000000000000003,\n",
       "  'max_depth': 6,\n",
       "  'metric': 'rmse',\n",
       "  'n_estimators': 480,\n",
       "  'objective': 'regression',\n",
       "  'random_state': 12345,\n",
       "  'verbosity': 1},\n",
       " -1683.7577235510266)"
      ]
     },
     "execution_count": 51,
     "metadata": {},
     "output_type": "execute_result"
    }
   ],
   "source": [
    "lgbm_grid_cat"
   ]
  },
  {
   "cell_type": "code",
   "execution_count": 55,
   "metadata": {
    "ExecuteTime": {
     "end_time": "2022-05-25T12:45:42.512174Z",
     "start_time": "2022-05-25T12:45:39.781478Z"
    }
   },
   "outputs": [
    {
     "data": {
      "text/html": [
       "<font color='blue'>RMSE LGBMRegressor методом category:1676.204</font>"
      ],
      "text/plain": [
       "<IPython.core.display.HTML object>"
      ]
     },
     "metadata": {},
     "output_type": "display_data"
    },
    {
     "name": "stdout",
     "output_type": "stream",
     "text": [
      "Wall time: 2.71 s\n"
     ]
    }
   ],
   "source": [
    "%%time\n",
    "\n",
    "model_lgbm_cat = LGBMRegressor(\n",
    "    \n",
    "    boosting_type ='gbdt',\n",
    "    learning_rate = 0.023,\n",
    "    max_depth = 6,\n",
    "    metric = 'rmse',\n",
    "    n_estimators = 480,\n",
    "    objective = 'regression',\n",
    "    random_state = 12345,\n",
    "    verbosity = -10,\n",
    "    force_row_wise = True,\n",
    ")\n",
    "model_lgbm_cat.fit(features_train_l, target_train_l)\n",
    "\n",
    "predicted_lgbm_cat = model_lgbm_cat.predict(features_test_l)\n",
    "rmse_lgbm_cat = (mean_squared_error(target_test_l, predicted_lgbm_cat)) ** 0.5\n",
    "\n",
    "display(HTML(f\"<font color='blue'>RMSE LGBMRegressor методом category:\\\n",
    "{rmse_lgbm_cat:.3f}</font>\"))"
   ]
  },
  {
   "cell_type": "markdown",
   "metadata": {},
   "source": [
    "### Вывод\n",
    "В ходе проделанной работы были проанализированы данные сервиса по продаже автомобилей.\n",
    "\n",
    "* Проведена предобработка данных, по итогу которой  данные были очищены от выбросов и пропусков, а так же были удалены лишние признаки.\n",
    "* Проведена подготовка данных двумя способами кодирования.\n",
    "* По подготовленным данным были обучены следующие модели:\n",
    ">Модель `LinearRegression`\\\n",
    "Модель `DecisionTreeRegressor`\\\n",
    "А так же две модели Бустинга:\\\n",
    "Модель `LGBMRegressor`\\\n",
    "Модель `CatBoostRegressor`.\n",
    "\n",
    "* Модели обучались определению рыночной стоимости автомобилей, на основании исторических данных.\\\n",
    "* Для оценки качества моделей использовалась метрика `RMSE`.\n",
    "\n",
    "* Учитывая значимые, для заказчика критерии:\n",
    ">Качество предсказания\\\n",
    "Скорость предсказания\\\n",
    "Время обучения.\n",
    "\n",
    "* Все необходимые данные были внесены в итоговую таблицу с результатами.\n",
    "* На основании полученных данных выбрана самая точная модель: \n",
    ">`LGBMRegressor`\n",
    "* Самая быстрая и точная модель(по результатам метрики RMSE и времени обучения):\n",
    ">`DecisionTreeRegressor`\t\n",
    "\n",
    "* В целом, модели Бустинга более точны в своих оценках, нежели простые регрессоры, но подбор их параметров и обучение занимают гораздо большее время. Если опираться на качество предстказания модели, то места распределились бы так:\n",
    ">`LGBMRegressor`\\\n",
    "`CatBoostRegressor`\\\n",
    "`DecisionTreeRegressor`\\\n",
    "`LinearRegression`\n"
   ]
  }
 ],
 "metadata": {
  "ExecuteTimeLog": [
   {
    "duration": 1570,
    "start_time": "2022-05-21T18:17:08.776Z"
   },
   {
    "duration": 1401,
    "start_time": "2022-05-21T18:17:10.348Z"
   },
   {
    "duration": 9,
    "start_time": "2022-05-21T18:17:11.751Z"
   },
   {
    "duration": 13883,
    "start_time": "2022-05-21T18:17:11.762Z"
   },
   {
    "duration": 1857,
    "start_time": "2022-05-21T18:17:25.647Z"
   },
   {
    "duration": 4,
    "start_time": "2022-05-21T18:17:27.506Z"
   },
   {
    "duration": 55,
    "start_time": "2022-05-21T18:17:27.512Z"
   },
   {
    "duration": 6,
    "start_time": "2022-05-21T18:17:27.568Z"
   },
   {
    "duration": 72,
    "start_time": "2022-05-21T18:17:27.575Z"
   },
   {
    "duration": 49,
    "start_time": "2022-05-21T18:17:27.649Z"
   },
   {
    "duration": 54,
    "start_time": "2022-05-21T18:17:27.699Z"
   },
   {
    "duration": 8,
    "start_time": "2022-05-21T18:17:27.755Z"
   },
   {
    "duration": 455,
    "start_time": "2022-05-21T18:17:27.764Z"
   },
   {
    "duration": 813,
    "start_time": "2022-05-21T18:17:28.233Z"
   },
   {
    "duration": 103,
    "start_time": "2022-05-21T18:17:29.048Z"
   },
   {
    "duration": 4,
    "start_time": "2022-05-21T18:17:29.153Z"
   },
   {
    "duration": 16,
    "start_time": "2022-05-21T18:17:29.159Z"
   },
   {
    "duration": 872,
    "start_time": "2022-05-21T18:17:29.177Z"
   },
   {
    "duration": 7,
    "start_time": "2022-05-21T18:17:30.051Z"
   },
   {
    "duration": 7598,
    "start_time": "2022-05-21T18:17:30.060Z"
   },
   {
    "duration": 9,
    "start_time": "2022-05-21T18:17:37.660Z"
   },
   {
    "duration": 27,
    "start_time": "2022-05-21T18:17:37.671Z"
   },
   {
    "duration": 267,
    "start_time": "2022-05-21T18:17:37.700Z"
   },
   {
    "duration": 67697,
    "start_time": "2022-05-21T18:17:38.039Z"
   },
   {
    "duration": 5,
    "start_time": "2022-05-21T18:18:45.740Z"
   },
   {
    "duration": 138,
    "start_time": "2022-05-21T18:18:45.751Z"
   },
   {
    "duration": 7538,
    "start_time": "2022-05-21T18:18:45.891Z"
   },
   {
    "duration": 154477,
    "start_time": "2022-05-21T18:18:53.433Z"
   },
   {
    "duration": 403,
    "start_time": "2022-05-21T18:21:27.912Z"
   },
   {
    "duration": 8160,
    "start_time": "2022-05-21T18:21:28.317Z"
   },
   {
    "duration": 50,
    "start_time": "2022-05-21T18:21:36.479Z"
   },
   {
    "duration": 30,
    "start_time": "2022-05-21T18:21:36.531Z"
   },
   {
    "duration": 21,
    "start_time": "2022-05-21T18:21:36.562Z"
   },
   {
    "duration": 2923124,
    "start_time": "2022-05-21T18:21:36.586Z"
   },
   {
    "duration": 70,
    "start_time": "2022-05-21T19:10:19.712Z"
   },
   {
    "duration": 1711,
    "start_time": "2022-05-22T19:42:56.650Z"
   },
   {
    "duration": 1141,
    "start_time": "2022-05-22T19:42:58.363Z"
   },
   {
    "duration": 8,
    "start_time": "2022-05-22T19:42:59.505Z"
   },
   {
    "duration": 11526,
    "start_time": "2022-05-22T19:42:59.515Z"
   },
   {
    "duration": 1731,
    "start_time": "2022-05-22T19:43:11.043Z"
   },
   {
    "duration": 4,
    "start_time": "2022-05-22T19:43:12.776Z"
   },
   {
    "duration": 50,
    "start_time": "2022-05-22T19:43:12.782Z"
   },
   {
    "duration": 6,
    "start_time": "2022-05-22T19:43:12.834Z"
   },
   {
    "duration": 45,
    "start_time": "2022-05-22T19:43:12.841Z"
   },
   {
    "duration": 60,
    "start_time": "2022-05-22T19:43:12.889Z"
   },
   {
    "duration": 33,
    "start_time": "2022-05-22T19:43:12.951Z"
   },
   {
    "duration": 7,
    "start_time": "2022-05-22T19:43:12.986Z"
   },
   {
    "duration": 372,
    "start_time": "2022-05-22T19:43:12.994Z"
   },
   {
    "duration": 700,
    "start_time": "2022-05-22T19:43:13.367Z"
   },
   {
    "duration": 122,
    "start_time": "2022-05-22T19:43:14.069Z"
   },
   {
    "duration": 5,
    "start_time": "2022-05-22T19:43:14.193Z"
   },
   {
    "duration": 7,
    "start_time": "2022-05-22T19:43:14.200Z"
   },
   {
    "duration": 847,
    "start_time": "2022-05-22T19:43:14.208Z"
   },
   {
    "duration": 15,
    "start_time": "2022-05-22T19:43:15.056Z"
   },
   {
    "duration": 134,
    "start_time": "2022-05-22T19:43:15.073Z"
   },
   {
    "duration": 11,
    "start_time": "2022-05-22T19:43:41.810Z"
   },
   {
    "duration": 5,
    "start_time": "2022-05-22T19:47:25.621Z"
   },
   {
    "duration": 158,
    "start_time": "2022-05-22T19:47:31.097Z"
   },
   {
    "duration": 143,
    "start_time": "2022-05-22T19:47:46.206Z"
   },
   {
    "duration": 171,
    "start_time": "2022-05-22T19:47:56.688Z"
   },
   {
    "duration": 13,
    "start_time": "2022-05-22T19:48:53.206Z"
   },
   {
    "duration": 3,
    "start_time": "2022-05-22T19:49:06.791Z"
   },
   {
    "duration": 164,
    "start_time": "2022-05-22T19:49:40.620Z"
   },
   {
    "duration": 148,
    "start_time": "2022-05-22T19:49:49.289Z"
   },
   {
    "duration": 109,
    "start_time": "2022-05-22T19:49:56.053Z"
   },
   {
    "duration": 1324,
    "start_time": "2022-05-22T19:50:54.913Z"
   },
   {
    "duration": 2551,
    "start_time": "2022-05-22T19:51:09.491Z"
   },
   {
    "duration": 2664,
    "start_time": "2022-05-22T19:51:29.740Z"
   },
   {
    "duration": 2508,
    "start_time": "2022-05-22T19:51:39.529Z"
   },
   {
    "duration": 36,
    "start_time": "2022-05-22T19:52:12.558Z"
   },
   {
    "duration": 7,
    "start_time": "2022-05-22T19:53:24.173Z"
   },
   {
    "duration": 5,
    "start_time": "2022-05-22T20:06:47.127Z"
   },
   {
    "duration": 5,
    "start_time": "2022-05-22T20:07:41.058Z"
   }
  ],
  "kernelspec": {
   "display_name": "Python 3 (ipykernel)",
   "language": "python",
   "name": "python3"
  },
  "language_info": {
   "codemirror_mode": {
    "name": "ipython",
    "version": 3
   },
   "file_extension": ".py",
   "mimetype": "text/x-python",
   "name": "python",
   "nbconvert_exporter": "python",
   "pygments_lexer": "ipython3",
   "version": "3.9.7"
  },
  "toc": {
   "base_numbering": 1,
   "nav_menu": {},
   "number_sections": true,
   "sideBar": true,
   "skip_h1_title": true,
   "title_cell": "Содержание",
   "title_sidebar": "Contents",
   "toc_cell": true,
   "toc_position": {},
   "toc_section_display": true,
   "toc_window_display": true
  }
 },
 "nbformat": 4,
 "nbformat_minor": 2
}
