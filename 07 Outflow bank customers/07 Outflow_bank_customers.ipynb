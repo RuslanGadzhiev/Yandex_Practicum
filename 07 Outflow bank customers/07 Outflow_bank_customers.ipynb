{
 "cells": [
  {
   "cell_type": "markdown",
   "id": "b266356d",
   "metadata": {
    "toc": true
   },
   "source": [
    "<h1>Содержание<span class=\"tocSkip\"></span></h1>\n",
    "<div class=\"toc\"><ul class=\"toc-item\"><li><span><a href=\"#Подготовка-данных\" data-toc-modified-id=\"Подготовка-данных-1\"><span class=\"toc-item-num\">1&nbsp;&nbsp;</span>Подготовка данных</a></span><ul class=\"toc-item\"><li><span><a href=\"#Первичный-вывод-по-имеющимся-данным\" data-toc-modified-id=\"Первичный-вывод-по-имеющимся-данным-1.1\"><span class=\"toc-item-num\">1.1&nbsp;&nbsp;</span>Первичный вывод по имеющимся данным</a></span></li><li><span><a href=\"#Предобработка\" data-toc-modified-id=\"Предобработка-1.2\"><span class=\"toc-item-num\">1.2&nbsp;&nbsp;</span>Предобработка</a></span></li><li><span><a href=\"#Подготовка-данных\" data-toc-modified-id=\"Подготовка-данных-1.3\"><span class=\"toc-item-num\">1.3&nbsp;&nbsp;</span>Подготовка данных</a></span></li><li><span><a href=\"#Извлекаем-признаки-и-целевой-признак\" data-toc-modified-id=\"Извлекаем-признаки-и-целевой-признак-1.4\"><span class=\"toc-item-num\">1.4&nbsp;&nbsp;</span>Извлекаем признаки и целевой признак</a></span></li><li><span><a href=\"#Разделение-данных-на-обучающую,-тестовую-и-валидационную-сборки\" data-toc-modified-id=\"Разделение-данных-на-обучающую,-тестовую-и-валидационную-сборки-1.5\"><span class=\"toc-item-num\">1.5&nbsp;&nbsp;</span>Разделение данных на обучающую, тестовую и валидационную сборки</a></span></li><li><span><a href=\"#Масштабируем-признаки\" data-toc-modified-id=\"Масштабируем-признаки-1.6\"><span class=\"toc-item-num\">1.6&nbsp;&nbsp;</span>Масштабируем признаки</a></span></li><li><span><a href=\"#Вывод\" data-toc-modified-id=\"Вывод-1.7\"><span class=\"toc-item-num\">1.7&nbsp;&nbsp;</span>Вывод</a></span></li></ul></li><li><span><a href=\"#Исследование-задачи\" data-toc-modified-id=\"Исследование-задачи-2\"><span class=\"toc-item-num\">2&nbsp;&nbsp;</span>Исследование задачи</a></span><ul class=\"toc-item\"><li><span><a href=\"#Модель-решающего-дерева\" data-toc-modified-id=\"Модель-решающего-дерева-2.1\"><span class=\"toc-item-num\">2.1&nbsp;&nbsp;</span>Модель решающего дерева</a></span></li><li><span><a href=\"#Модель-случайного-леса\" data-toc-modified-id=\"Модель-случайного-леса-2.2\"><span class=\"toc-item-num\">2.2&nbsp;&nbsp;</span>Модель случайного леса</a></span></li><li><span><a href=\"#Модель-логистической-регрессии\" data-toc-modified-id=\"Модель-логистической-регрессии-2.3\"><span class=\"toc-item-num\">2.3&nbsp;&nbsp;</span>Модель логистической регрессии</a></span></li><li><span><a href=\"#Посчитаем-метрики-для-каждой-модели\" data-toc-modified-id=\"Посчитаем-метрики-для-каждой-модели-2.4\"><span class=\"toc-item-num\">2.4&nbsp;&nbsp;</span>Посчитаем метрики для каждой модели</a></span></li><li><span><a href=\"#Вывод-по-несбалансированным-моделям\" data-toc-modified-id=\"Вывод-по-несбалансированным-моделям-2.5\"><span class=\"toc-item-num\">2.5&nbsp;&nbsp;</span>Вывод по несбалансированным моделям</a></span></li></ul></li><li><span><a href=\"#Борьба-с-дисбалансом\" data-toc-modified-id=\"Борьба-с-дисбалансом-3\"><span class=\"toc-item-num\">3&nbsp;&nbsp;</span>Борьба с дисбалансом</a></span><ul class=\"toc-item\"><li><span><a href=\"#Проверка-адекватности-модели\" data-toc-modified-id=\"Проверка-адекватности-модели-3.1\"><span class=\"toc-item-num\">3.1&nbsp;&nbsp;</span>Проверка адекватности модели</a></span></li><li><span><a href=\"#Увеливение-выборки\" data-toc-modified-id=\"Увеливение-выборки-3.2\"><span class=\"toc-item-num\">3.2&nbsp;&nbsp;</span>Увеливение выборки</a></span></li><li><span><a href=\"#Посчитаем-метрики-моделей\" data-toc-modified-id=\"Посчитаем-метрики-моделей-3.3\"><span class=\"toc-item-num\">3.3&nbsp;&nbsp;</span>Посчитаем метрики моделей</a></span></li><li><span><a href=\"#Построим-кривые-AUC-ROC-всех-моделей\" data-toc-modified-id=\"Построим-кривые-AUC-ROC-всех-моделей-3.4\"><span class=\"toc-item-num\">3.4&nbsp;&nbsp;</span>Построим кривые AUC-ROC всех моделей</a></span></li><li><span><a href=\"#Вывод-после-увеличения-выборки\" data-toc-modified-id=\"Вывод-после-увеличения-выборки-3.5\"><span class=\"toc-item-num\">3.5&nbsp;&nbsp;</span>Вывод после увеличения выборки</a></span></li><li><span><a href=\"#Уменьшение-выборки\" data-toc-modified-id=\"Уменьшение-выборки-3.6\"><span class=\"toc-item-num\">3.6&nbsp;&nbsp;</span>Уменьшение выборки</a></span></li><li><span><a href=\"#Вывод-после-уменьшения-сборки\" data-toc-modified-id=\"Вывод-после-уменьшения-сборки-3.7\"><span class=\"toc-item-num\">3.7&nbsp;&nbsp;</span>Вывод после уменьшения сборки</a></span></li><li><span><a href=\"#Взвешивание-классов\" data-toc-modified-id=\"Взвешивание-классов-3.8\"><span class=\"toc-item-num\">3.8&nbsp;&nbsp;</span>Взвешивание классов</a></span><ul class=\"toc-item\"><li><span><a href=\"#Модель-решающего-дерева\" data-toc-modified-id=\"Модель-решающего-дерева-3.8.1\"><span class=\"toc-item-num\">3.8.1&nbsp;&nbsp;</span>Модель решающего дерева</a></span></li><li><span><a href=\"#Модель-случайного-леса\" data-toc-modified-id=\"Модель-случайного-леса-3.8.2\"><span class=\"toc-item-num\">3.8.2&nbsp;&nbsp;</span>Модель случайного леса</a></span></li><li><span><a href=\"#Модель-логической-регрессии\" data-toc-modified-id=\"Модель-логической-регрессии-3.8.3\"><span class=\"toc-item-num\">3.8.3&nbsp;&nbsp;</span>Модель логической регрессии</a></span></li></ul></li><li><span><a href=\"#Вывод-после-взвешивания-классов\" data-toc-modified-id=\"Вывод-после-взвешивания-классов-3.9\"><span class=\"toc-item-num\">3.9&nbsp;&nbsp;</span>Вывод после взвешивания классов</a></span></li><li><span><a href=\"#Улучшение-параметров-выбранной-модели-методом-GridSearchCV\" data-toc-modified-id=\"Улучшение-параметров-выбранной-модели-методом-GridSearchCV-3.10\"><span class=\"toc-item-num\">3.10&nbsp;&nbsp;</span>Улучшение параметров выбранной модели методом GridSearchCV</a></span></li><li><span><a href=\"#Обучим-модель-с-лучшими-параметрами\" data-toc-modified-id=\"Обучим-модель-с-лучшими-параметрами-3.11\"><span class=\"toc-item-num\">3.11&nbsp;&nbsp;</span>Обучим модель с лучшими параметрами</a></span></li></ul></li><li><span><a href=\"#Тестирование-модели\" data-toc-modified-id=\"Тестирование-модели-4\"><span class=\"toc-item-num\">4&nbsp;&nbsp;</span>Тестирование модели</a></span><ul class=\"toc-item\"><li><span><a href=\"#Вывод\" data-toc-modified-id=\"Вывод-4.1\"><span class=\"toc-item-num\">4.1&nbsp;&nbsp;</span>Вывод</a></span></li></ul></li><li><span><a href=\"#Чек-лист-готовности-проекта\" data-toc-modified-id=\"Чек-лист-готовности-проекта-5\"><span class=\"toc-item-num\">5&nbsp;&nbsp;</span>Чек-лист готовности проекта</a></span></li></ul></div>"
   ]
  },
  {
   "cell_type": "markdown",
   "id": "8c4bfa61",
   "metadata": {},
   "source": [
    "# Прогноз оттока клиентов банка"
   ]
  },
  {
   "cell_type": "markdown",
   "id": "a7bec0d7",
   "metadata": {},
   "source": [
    "*Из «Бета-Банка» стали уходить клиенты. Каждый месяц. Немного, но заметно. Банковские маркетологи посчитали: сохранять текущих клиентов дешевле, чем привлекать новых.  \n",
    "Нужно спрогнозировать, уйдёт клиент из банка в ближайшее время или нет. Вам предоставлены исторические данные о поведении клиентов и расторжении договоров с банком.  \n",
    "Постройте модель с предельно большим значением *F1*-меры. Чтобы сдать проект успешно, нужно довести метрику до 0.59. Проверьте *F1*-меру на тестовой выборке самостоятельно.  \n",
    "\n",
    "Дополнительно измеряйте *AUC-ROC*, сравнивайте её значение с *F1*-мерой.\n",
    "\n",
    "Источник данных: [https://www.kaggle.com/barelydedicated/bank-customer-churn-modeling](https://www.kaggle.com/barelydedicated/bank-customer-churn-modeling)*  \n",
    "\n",
    "***Признаки***  \n",
    "*`RowNumber` — индекс строки в данных  \n",
    "`CustomerId` — уникальный идентификатор клиента  \n",
    "`Surname` — фамилия  \n",
    "`CreditScore` — кредитный рейтинг  \n",
    "`Geography` — страна проживания  \n",
    "`Gender` — пол  \n",
    "`Age` — возраст  \n",
    "`Tenure` — сколько лет человек является клиентом банка  \n",
    "`Balance` — баланс на счёте  \n",
    "`NumOfProducts` — количество продуктов банка, используемых клиентом  \n",
    "`HasCrCard` — наличие кредитной карты  \n",
    "`IsActiveMember` — активность клиента  \n",
    "`EstimatedSalary` — предполагаемая зарплата  \n",
    "***Целевой признак***  \n",
    "`Exited` — факт ухода клиента*"
   ]
  },
  {
   "cell_type": "markdown",
   "id": "f0412e81",
   "metadata": {},
   "source": [
    "## Подготовка данных"
   ]
  },
  {
   "cell_type": "code",
   "execution_count": 1,
   "id": "11bd729e",
   "metadata": {
    "ExecuteTime": {
     "end_time": "2022-05-24T09:56:55.250046Z",
     "start_time": "2022-05-24T09:56:53.976356Z"
    }
   },
   "outputs": [],
   "source": [
    "# Импорт библиотек\n",
    "import pandas as pd\n",
    "import numpy as np\n",
    "import matplotlib.pyplot as plt\n",
    "import seaborn as sns\n",
    "# import joblib \n",
    "import warnings\n",
    "\n",
    "# Импорт статистики\n",
    "# from scipy import stats as st\n",
    "\n",
    "# Импорт моделей\n",
    "from sklearn.tree import DecisionTreeClassifier\n",
    "from sklearn.ensemble import RandomForestClassifier\n",
    "from sklearn.linear_model import LogisticRegression\n",
    "from sklearn.model_selection import train_test_split \n",
    "from sklearn.preprocessing import StandardScaler\n",
    "# from joblib import dump \n",
    "from sklearn.model_selection import GridSearchCV, cross_val_score\n",
    "from sklearn.utils import shuffle\n",
    "\n",
    "# Импорт метрик\n",
    "from sklearn.metrics import accuracy_score \n",
    "from sklearn.metrics import mean_squared_error\n",
    "from sklearn.metrics import f1_score, precision_score, recall_score, accuracy_score, roc_auc_score, roc_curve, make_scorer\n",
    "from sklearn.metrics import precision_recall_curve\n",
    "\n",
    "# Импорт разного\n",
    "from IPython.display import display_html\n",
    "from IPython.core.display import display, HTML"
   ]
  },
  {
   "cell_type": "code",
   "execution_count": 2,
   "id": "cb62707a",
   "metadata": {
    "ExecuteTime": {
     "end_time": "2022-05-24T09:56:55.280839Z",
     "start_time": "2022-05-24T09:56:55.250046Z"
    }
   },
   "outputs": [],
   "source": [
    "try:\n",
    "    churn = pd.read_csv('/datasets/Churn.csv',sep=',')\n",
    "    pd.set_option('display.max_columns', None)\n",
    "    pd.options.mode.chained_assignment = None\n",
    "except:\n",
    "    churn = pd.read_csv('Churn.csv',sep=',')\n",
    "    pd.set_option('display.max_columns', None)\n",
    "    pd.options.mode.chained_assignment = None"
   ]
  },
  {
   "cell_type": "code",
   "execution_count": 3,
   "id": "f2e1aa4f",
   "metadata": {
    "ExecuteTime": {
     "end_time": "2022-05-24T09:56:55.296768Z",
     "start_time": "2022-05-24T09:56:55.281807Z"
    }
   },
   "outputs": [],
   "source": [
    "def info_row(df):\n",
    "    '''\n",
    "        Input: df - таблица pd.DataFrame.\n",
    "        Output: None.\n",
    "        Description: Функция первичного знакомства с данными.\n",
    "\n",
    "    '''\n",
    "    \n",
    "    display(df.head(10))\n",
    "    print('Общая информация:')\n",
    "    display(df.info())\n",
    "    print('Общая статистика:')\n",
    "    display(df.describe())\n",
    "    display(df.describe(include = ['object']))\n",
    "    print('Дубликаты:')\n",
    "    display(df.duplicated().sum())\n",
    "    print(f'{df.duplicated().sum()/len(df):.1%}')\n",
    "    print()\n",
    "    print('Пропуски:')\n",
    "    for col in df.columns:\n",
    "        pct_missing = np.mean(df[col].isna())\n",
    "        print('{} - {}%'.format(col, round(pct_missing*100,2)))\n",
    "    print()\n",
    "    print('Уникальные значения столбцов:')\n",
    "    for row in df.columns:\n",
    "        print('Уникальные значения столбца', row)\n",
    "        print(df[row].unique())\n",
    "    print()\n",
    "    print('Количество уникальных значений:')\n",
    "    for row in df.columns:\n",
    "        if df[row].value_counts().count() <= 15:\n",
    "            print('Количество значений', row)\n",
    "            print(df[row].value_counts())\n",
    "    print('Матрица диаграмм:')\n",
    "    pd.plotting.scatter_matrix(df,figsize=(10,10))\n",
    "    plt.suptitle(\"Матрица диаграмм зависимостей\", size=20)\n",
    "    plt.show()\n",
    "    print('Heatmap корреляций:')\n",
    "    plt.figure(figsize=(10, 10))\n",
    "    heatmap = sns.heatmap(df.corr(), vmin=-1, vmax=1, annot=True,cmap='BrBG') \n",
    "    heatmap.set_title('Correlation Heatmap', fontdict={'fontsize':10}, pad=12);\n",
    "    plt.show()"
   ]
  },
  {
   "cell_type": "code",
   "execution_count": 4,
   "id": "ac90c865",
   "metadata": {
    "ExecuteTime": {
     "end_time": "2022-05-24T09:57:03.041479Z",
     "start_time": "2022-05-24T09:56:55.298763Z"
    }
   },
   "outputs": [
    {
     "data": {
      "text/html": [
       "<div>\n",
       "<style scoped>\n",
       "    .dataframe tbody tr th:only-of-type {\n",
       "        vertical-align: middle;\n",
       "    }\n",
       "\n",
       "    .dataframe tbody tr th {\n",
       "        vertical-align: top;\n",
       "    }\n",
       "\n",
       "    .dataframe thead th {\n",
       "        text-align: right;\n",
       "    }\n",
       "</style>\n",
       "<table border=\"1\" class=\"dataframe\">\n",
       "  <thead>\n",
       "    <tr style=\"text-align: right;\">\n",
       "      <th></th>\n",
       "      <th>RowNumber</th>\n",
       "      <th>CustomerId</th>\n",
       "      <th>Surname</th>\n",
       "      <th>CreditScore</th>\n",
       "      <th>Geography</th>\n",
       "      <th>Gender</th>\n",
       "      <th>Age</th>\n",
       "      <th>Tenure</th>\n",
       "      <th>Balance</th>\n",
       "      <th>NumOfProducts</th>\n",
       "      <th>HasCrCard</th>\n",
       "      <th>IsActiveMember</th>\n",
       "      <th>EstimatedSalary</th>\n",
       "      <th>Exited</th>\n",
       "    </tr>\n",
       "  </thead>\n",
       "  <tbody>\n",
       "    <tr>\n",
       "      <th>0</th>\n",
       "      <td>1</td>\n",
       "      <td>15634602</td>\n",
       "      <td>Hargrave</td>\n",
       "      <td>619</td>\n",
       "      <td>France</td>\n",
       "      <td>Female</td>\n",
       "      <td>42</td>\n",
       "      <td>2.0</td>\n",
       "      <td>0.00</td>\n",
       "      <td>1</td>\n",
       "      <td>1</td>\n",
       "      <td>1</td>\n",
       "      <td>101348.88</td>\n",
       "      <td>1</td>\n",
       "    </tr>\n",
       "    <tr>\n",
       "      <th>1</th>\n",
       "      <td>2</td>\n",
       "      <td>15647311</td>\n",
       "      <td>Hill</td>\n",
       "      <td>608</td>\n",
       "      <td>Spain</td>\n",
       "      <td>Female</td>\n",
       "      <td>41</td>\n",
       "      <td>1.0</td>\n",
       "      <td>83807.86</td>\n",
       "      <td>1</td>\n",
       "      <td>0</td>\n",
       "      <td>1</td>\n",
       "      <td>112542.58</td>\n",
       "      <td>0</td>\n",
       "    </tr>\n",
       "    <tr>\n",
       "      <th>2</th>\n",
       "      <td>3</td>\n",
       "      <td>15619304</td>\n",
       "      <td>Onio</td>\n",
       "      <td>502</td>\n",
       "      <td>France</td>\n",
       "      <td>Female</td>\n",
       "      <td>42</td>\n",
       "      <td>8.0</td>\n",
       "      <td>159660.80</td>\n",
       "      <td>3</td>\n",
       "      <td>1</td>\n",
       "      <td>0</td>\n",
       "      <td>113931.57</td>\n",
       "      <td>1</td>\n",
       "    </tr>\n",
       "    <tr>\n",
       "      <th>3</th>\n",
       "      <td>4</td>\n",
       "      <td>15701354</td>\n",
       "      <td>Boni</td>\n",
       "      <td>699</td>\n",
       "      <td>France</td>\n",
       "      <td>Female</td>\n",
       "      <td>39</td>\n",
       "      <td>1.0</td>\n",
       "      <td>0.00</td>\n",
       "      <td>2</td>\n",
       "      <td>0</td>\n",
       "      <td>0</td>\n",
       "      <td>93826.63</td>\n",
       "      <td>0</td>\n",
       "    </tr>\n",
       "    <tr>\n",
       "      <th>4</th>\n",
       "      <td>5</td>\n",
       "      <td>15737888</td>\n",
       "      <td>Mitchell</td>\n",
       "      <td>850</td>\n",
       "      <td>Spain</td>\n",
       "      <td>Female</td>\n",
       "      <td>43</td>\n",
       "      <td>2.0</td>\n",
       "      <td>125510.82</td>\n",
       "      <td>1</td>\n",
       "      <td>1</td>\n",
       "      <td>1</td>\n",
       "      <td>79084.10</td>\n",
       "      <td>0</td>\n",
       "    </tr>\n",
       "    <tr>\n",
       "      <th>5</th>\n",
       "      <td>6</td>\n",
       "      <td>15574012</td>\n",
       "      <td>Chu</td>\n",
       "      <td>645</td>\n",
       "      <td>Spain</td>\n",
       "      <td>Male</td>\n",
       "      <td>44</td>\n",
       "      <td>8.0</td>\n",
       "      <td>113755.78</td>\n",
       "      <td>2</td>\n",
       "      <td>1</td>\n",
       "      <td>0</td>\n",
       "      <td>149756.71</td>\n",
       "      <td>1</td>\n",
       "    </tr>\n",
       "    <tr>\n",
       "      <th>6</th>\n",
       "      <td>7</td>\n",
       "      <td>15592531</td>\n",
       "      <td>Bartlett</td>\n",
       "      <td>822</td>\n",
       "      <td>France</td>\n",
       "      <td>Male</td>\n",
       "      <td>50</td>\n",
       "      <td>7.0</td>\n",
       "      <td>0.00</td>\n",
       "      <td>2</td>\n",
       "      <td>1</td>\n",
       "      <td>1</td>\n",
       "      <td>10062.80</td>\n",
       "      <td>0</td>\n",
       "    </tr>\n",
       "    <tr>\n",
       "      <th>7</th>\n",
       "      <td>8</td>\n",
       "      <td>15656148</td>\n",
       "      <td>Obinna</td>\n",
       "      <td>376</td>\n",
       "      <td>Germany</td>\n",
       "      <td>Female</td>\n",
       "      <td>29</td>\n",
       "      <td>4.0</td>\n",
       "      <td>115046.74</td>\n",
       "      <td>4</td>\n",
       "      <td>1</td>\n",
       "      <td>0</td>\n",
       "      <td>119346.88</td>\n",
       "      <td>1</td>\n",
       "    </tr>\n",
       "    <tr>\n",
       "      <th>8</th>\n",
       "      <td>9</td>\n",
       "      <td>15792365</td>\n",
       "      <td>He</td>\n",
       "      <td>501</td>\n",
       "      <td>France</td>\n",
       "      <td>Male</td>\n",
       "      <td>44</td>\n",
       "      <td>4.0</td>\n",
       "      <td>142051.07</td>\n",
       "      <td>2</td>\n",
       "      <td>0</td>\n",
       "      <td>1</td>\n",
       "      <td>74940.50</td>\n",
       "      <td>0</td>\n",
       "    </tr>\n",
       "    <tr>\n",
       "      <th>9</th>\n",
       "      <td>10</td>\n",
       "      <td>15592389</td>\n",
       "      <td>H?</td>\n",
       "      <td>684</td>\n",
       "      <td>France</td>\n",
       "      <td>Male</td>\n",
       "      <td>27</td>\n",
       "      <td>2.0</td>\n",
       "      <td>134603.88</td>\n",
       "      <td>1</td>\n",
       "      <td>1</td>\n",
       "      <td>1</td>\n",
       "      <td>71725.73</td>\n",
       "      <td>0</td>\n",
       "    </tr>\n",
       "  </tbody>\n",
       "</table>\n",
       "</div>"
      ],
      "text/plain": [
       "   RowNumber  CustomerId   Surname  CreditScore Geography  Gender  Age  \\\n",
       "0          1    15634602  Hargrave          619    France  Female   42   \n",
       "1          2    15647311      Hill          608     Spain  Female   41   \n",
       "2          3    15619304      Onio          502    France  Female   42   \n",
       "3          4    15701354      Boni          699    France  Female   39   \n",
       "4          5    15737888  Mitchell          850     Spain  Female   43   \n",
       "5          6    15574012       Chu          645     Spain    Male   44   \n",
       "6          7    15592531  Bartlett          822    France    Male   50   \n",
       "7          8    15656148    Obinna          376   Germany  Female   29   \n",
       "8          9    15792365        He          501    France    Male   44   \n",
       "9         10    15592389        H?          684    France    Male   27   \n",
       "\n",
       "   Tenure    Balance  NumOfProducts  HasCrCard  IsActiveMember  \\\n",
       "0     2.0       0.00              1          1               1   \n",
       "1     1.0   83807.86              1          0               1   \n",
       "2     8.0  159660.80              3          1               0   \n",
       "3     1.0       0.00              2          0               0   \n",
       "4     2.0  125510.82              1          1               1   \n",
       "5     8.0  113755.78              2          1               0   \n",
       "6     7.0       0.00              2          1               1   \n",
       "7     4.0  115046.74              4          1               0   \n",
       "8     4.0  142051.07              2          0               1   \n",
       "9     2.0  134603.88              1          1               1   \n",
       "\n",
       "   EstimatedSalary  Exited  \n",
       "0        101348.88       1  \n",
       "1        112542.58       0  \n",
       "2        113931.57       1  \n",
       "3         93826.63       0  \n",
       "4         79084.10       0  \n",
       "5        149756.71       1  \n",
       "6         10062.80       0  \n",
       "7        119346.88       1  \n",
       "8         74940.50       0  \n",
       "9         71725.73       0  "
      ]
     },
     "metadata": {},
     "output_type": "display_data"
    },
    {
     "name": "stdout",
     "output_type": "stream",
     "text": [
      "Общая информация:\n",
      "<class 'pandas.core.frame.DataFrame'>\n",
      "RangeIndex: 10000 entries, 0 to 9999\n",
      "Data columns (total 14 columns):\n",
      " #   Column           Non-Null Count  Dtype  \n",
      "---  ------           --------------  -----  \n",
      " 0   RowNumber        10000 non-null  int64  \n",
      " 1   CustomerId       10000 non-null  int64  \n",
      " 2   Surname          10000 non-null  object \n",
      " 3   CreditScore      10000 non-null  int64  \n",
      " 4   Geography        10000 non-null  object \n",
      " 5   Gender           10000 non-null  object \n",
      " 6   Age              10000 non-null  int64  \n",
      " 7   Tenure           9091 non-null   float64\n",
      " 8   Balance          10000 non-null  float64\n",
      " 9   NumOfProducts    10000 non-null  int64  \n",
      " 10  HasCrCard        10000 non-null  int64  \n",
      " 11  IsActiveMember   10000 non-null  int64  \n",
      " 12  EstimatedSalary  10000 non-null  float64\n",
      " 13  Exited           10000 non-null  int64  \n",
      "dtypes: float64(3), int64(8), object(3)\n",
      "memory usage: 1.1+ MB\n"
     ]
    },
    {
     "data": {
      "text/plain": [
       "None"
      ]
     },
     "metadata": {},
     "output_type": "display_data"
    },
    {
     "name": "stdout",
     "output_type": "stream",
     "text": [
      "Общая статистика:\n"
     ]
    },
    {
     "data": {
      "text/html": [
       "<div>\n",
       "<style scoped>\n",
       "    .dataframe tbody tr th:only-of-type {\n",
       "        vertical-align: middle;\n",
       "    }\n",
       "\n",
       "    .dataframe tbody tr th {\n",
       "        vertical-align: top;\n",
       "    }\n",
       "\n",
       "    .dataframe thead th {\n",
       "        text-align: right;\n",
       "    }\n",
       "</style>\n",
       "<table border=\"1\" class=\"dataframe\">\n",
       "  <thead>\n",
       "    <tr style=\"text-align: right;\">\n",
       "      <th></th>\n",
       "      <th>RowNumber</th>\n",
       "      <th>CustomerId</th>\n",
       "      <th>CreditScore</th>\n",
       "      <th>Age</th>\n",
       "      <th>Tenure</th>\n",
       "      <th>Balance</th>\n",
       "      <th>NumOfProducts</th>\n",
       "      <th>HasCrCard</th>\n",
       "      <th>IsActiveMember</th>\n",
       "      <th>EstimatedSalary</th>\n",
       "      <th>Exited</th>\n",
       "    </tr>\n",
       "  </thead>\n",
       "  <tbody>\n",
       "    <tr>\n",
       "      <th>count</th>\n",
       "      <td>10000.00000</td>\n",
       "      <td>1.000000e+04</td>\n",
       "      <td>10000.000000</td>\n",
       "      <td>10000.000000</td>\n",
       "      <td>9091.000000</td>\n",
       "      <td>10000.000000</td>\n",
       "      <td>10000.000000</td>\n",
       "      <td>10000.00000</td>\n",
       "      <td>10000.000000</td>\n",
       "      <td>10000.000000</td>\n",
       "      <td>10000.000000</td>\n",
       "    </tr>\n",
       "    <tr>\n",
       "      <th>mean</th>\n",
       "      <td>5000.50000</td>\n",
       "      <td>1.569094e+07</td>\n",
       "      <td>650.528800</td>\n",
       "      <td>38.921800</td>\n",
       "      <td>4.997690</td>\n",
       "      <td>76485.889288</td>\n",
       "      <td>1.530200</td>\n",
       "      <td>0.70550</td>\n",
       "      <td>0.515100</td>\n",
       "      <td>100090.239881</td>\n",
       "      <td>0.203700</td>\n",
       "    </tr>\n",
       "    <tr>\n",
       "      <th>std</th>\n",
       "      <td>2886.89568</td>\n",
       "      <td>7.193619e+04</td>\n",
       "      <td>96.653299</td>\n",
       "      <td>10.487806</td>\n",
       "      <td>2.894723</td>\n",
       "      <td>62397.405202</td>\n",
       "      <td>0.581654</td>\n",
       "      <td>0.45584</td>\n",
       "      <td>0.499797</td>\n",
       "      <td>57510.492818</td>\n",
       "      <td>0.402769</td>\n",
       "    </tr>\n",
       "    <tr>\n",
       "      <th>min</th>\n",
       "      <td>1.00000</td>\n",
       "      <td>1.556570e+07</td>\n",
       "      <td>350.000000</td>\n",
       "      <td>18.000000</td>\n",
       "      <td>0.000000</td>\n",
       "      <td>0.000000</td>\n",
       "      <td>1.000000</td>\n",
       "      <td>0.00000</td>\n",
       "      <td>0.000000</td>\n",
       "      <td>11.580000</td>\n",
       "      <td>0.000000</td>\n",
       "    </tr>\n",
       "    <tr>\n",
       "      <th>25%</th>\n",
       "      <td>2500.75000</td>\n",
       "      <td>1.562853e+07</td>\n",
       "      <td>584.000000</td>\n",
       "      <td>32.000000</td>\n",
       "      <td>2.000000</td>\n",
       "      <td>0.000000</td>\n",
       "      <td>1.000000</td>\n",
       "      <td>0.00000</td>\n",
       "      <td>0.000000</td>\n",
       "      <td>51002.110000</td>\n",
       "      <td>0.000000</td>\n",
       "    </tr>\n",
       "    <tr>\n",
       "      <th>50%</th>\n",
       "      <td>5000.50000</td>\n",
       "      <td>1.569074e+07</td>\n",
       "      <td>652.000000</td>\n",
       "      <td>37.000000</td>\n",
       "      <td>5.000000</td>\n",
       "      <td>97198.540000</td>\n",
       "      <td>1.000000</td>\n",
       "      <td>1.00000</td>\n",
       "      <td>1.000000</td>\n",
       "      <td>100193.915000</td>\n",
       "      <td>0.000000</td>\n",
       "    </tr>\n",
       "    <tr>\n",
       "      <th>75%</th>\n",
       "      <td>7500.25000</td>\n",
       "      <td>1.575323e+07</td>\n",
       "      <td>718.000000</td>\n",
       "      <td>44.000000</td>\n",
       "      <td>7.000000</td>\n",
       "      <td>127644.240000</td>\n",
       "      <td>2.000000</td>\n",
       "      <td>1.00000</td>\n",
       "      <td>1.000000</td>\n",
       "      <td>149388.247500</td>\n",
       "      <td>0.000000</td>\n",
       "    </tr>\n",
       "    <tr>\n",
       "      <th>max</th>\n",
       "      <td>10000.00000</td>\n",
       "      <td>1.581569e+07</td>\n",
       "      <td>850.000000</td>\n",
       "      <td>92.000000</td>\n",
       "      <td>10.000000</td>\n",
       "      <td>250898.090000</td>\n",
       "      <td>4.000000</td>\n",
       "      <td>1.00000</td>\n",
       "      <td>1.000000</td>\n",
       "      <td>199992.480000</td>\n",
       "      <td>1.000000</td>\n",
       "    </tr>\n",
       "  </tbody>\n",
       "</table>\n",
       "</div>"
      ],
      "text/plain": [
       "         RowNumber    CustomerId   CreditScore           Age       Tenure  \\\n",
       "count  10000.00000  1.000000e+04  10000.000000  10000.000000  9091.000000   \n",
       "mean    5000.50000  1.569094e+07    650.528800     38.921800     4.997690   \n",
       "std     2886.89568  7.193619e+04     96.653299     10.487806     2.894723   \n",
       "min        1.00000  1.556570e+07    350.000000     18.000000     0.000000   \n",
       "25%     2500.75000  1.562853e+07    584.000000     32.000000     2.000000   \n",
       "50%     5000.50000  1.569074e+07    652.000000     37.000000     5.000000   \n",
       "75%     7500.25000  1.575323e+07    718.000000     44.000000     7.000000   \n",
       "max    10000.00000  1.581569e+07    850.000000     92.000000    10.000000   \n",
       "\n",
       "             Balance  NumOfProducts    HasCrCard  IsActiveMember  \\\n",
       "count   10000.000000   10000.000000  10000.00000    10000.000000   \n",
       "mean    76485.889288       1.530200      0.70550        0.515100   \n",
       "std     62397.405202       0.581654      0.45584        0.499797   \n",
       "min         0.000000       1.000000      0.00000        0.000000   \n",
       "25%         0.000000       1.000000      0.00000        0.000000   \n",
       "50%     97198.540000       1.000000      1.00000        1.000000   \n",
       "75%    127644.240000       2.000000      1.00000        1.000000   \n",
       "max    250898.090000       4.000000      1.00000        1.000000   \n",
       "\n",
       "       EstimatedSalary        Exited  \n",
       "count     10000.000000  10000.000000  \n",
       "mean     100090.239881      0.203700  \n",
       "std       57510.492818      0.402769  \n",
       "min          11.580000      0.000000  \n",
       "25%       51002.110000      0.000000  \n",
       "50%      100193.915000      0.000000  \n",
       "75%      149388.247500      0.000000  \n",
       "max      199992.480000      1.000000  "
      ]
     },
     "metadata": {},
     "output_type": "display_data"
    },
    {
     "data": {
      "text/html": [
       "<div>\n",
       "<style scoped>\n",
       "    .dataframe tbody tr th:only-of-type {\n",
       "        vertical-align: middle;\n",
       "    }\n",
       "\n",
       "    .dataframe tbody tr th {\n",
       "        vertical-align: top;\n",
       "    }\n",
       "\n",
       "    .dataframe thead th {\n",
       "        text-align: right;\n",
       "    }\n",
       "</style>\n",
       "<table border=\"1\" class=\"dataframe\">\n",
       "  <thead>\n",
       "    <tr style=\"text-align: right;\">\n",
       "      <th></th>\n",
       "      <th>Surname</th>\n",
       "      <th>Geography</th>\n",
       "      <th>Gender</th>\n",
       "    </tr>\n",
       "  </thead>\n",
       "  <tbody>\n",
       "    <tr>\n",
       "      <th>count</th>\n",
       "      <td>10000</td>\n",
       "      <td>10000</td>\n",
       "      <td>10000</td>\n",
       "    </tr>\n",
       "    <tr>\n",
       "      <th>unique</th>\n",
       "      <td>2932</td>\n",
       "      <td>3</td>\n",
       "      <td>2</td>\n",
       "    </tr>\n",
       "    <tr>\n",
       "      <th>top</th>\n",
       "      <td>Smith</td>\n",
       "      <td>France</td>\n",
       "      <td>Male</td>\n",
       "    </tr>\n",
       "    <tr>\n",
       "      <th>freq</th>\n",
       "      <td>32</td>\n",
       "      <td>5014</td>\n",
       "      <td>5457</td>\n",
       "    </tr>\n",
       "  </tbody>\n",
       "</table>\n",
       "</div>"
      ],
      "text/plain": [
       "       Surname Geography Gender\n",
       "count    10000     10000  10000\n",
       "unique    2932         3      2\n",
       "top      Smith    France   Male\n",
       "freq        32      5014   5457"
      ]
     },
     "metadata": {},
     "output_type": "display_data"
    },
    {
     "name": "stdout",
     "output_type": "stream",
     "text": [
      "Дубликаты:\n"
     ]
    },
    {
     "data": {
      "text/plain": [
       "0"
      ]
     },
     "metadata": {},
     "output_type": "display_data"
    },
    {
     "name": "stdout",
     "output_type": "stream",
     "text": [
      "0.0%\n",
      "\n",
      "Пропуски:\n",
      "RowNumber - 0.0%\n",
      "CustomerId - 0.0%\n",
      "Surname - 0.0%\n",
      "CreditScore - 0.0%\n",
      "Geography - 0.0%\n",
      "Gender - 0.0%\n",
      "Age - 0.0%\n",
      "Tenure - 9.09%\n",
      "Balance - 0.0%\n",
      "NumOfProducts - 0.0%\n",
      "HasCrCard - 0.0%\n",
      "IsActiveMember - 0.0%\n",
      "EstimatedSalary - 0.0%\n",
      "Exited - 0.0%\n",
      "\n",
      "Уникальные значения столбцов:\n",
      "Уникальные значения столбца RowNumber\n",
      "[    1     2     3 ...  9998  9999 10000]\n",
      "Уникальные значения столбца CustomerId\n",
      "[15634602 15647311 15619304 ... 15584532 15682355 15628319]\n",
      "Уникальные значения столбца Surname\n",
      "['Hargrave' 'Hill' 'Onio' ... 'Kashiwagi' 'Aldridge' 'Burbidge']\n",
      "Уникальные значения столбца CreditScore\n",
      "[619 608 502 699 850 645 822 376 501 684 528 497 476 549 635 616 653 587\n",
      " 726 732 636 510 669 846 577 756 571 574 411 591 533 553 520 722 475 490\n",
      " 804 582 472 465 556 834 660 776 829 637 550 698 585 788 655 601 656 725\n",
      " 511 614 742 687 555 603 751 581 735 661 675 738 813 657 604 519 664 678\n",
      " 757 416 665 777 543 506 493 652 750 729 646 647 808 524 769 730 515 773\n",
      " 814 710 413 623 670 622 785 605 479 685 538 562 721 628 668 828 674 625\n",
      " 432 770 758 795 686 789 589 461 584 579 663 682 793 691 485 650 754 535\n",
      " 716 539 706 586 631 717 800 683 704 615 667 484 480 578 512 606 597 778\n",
      " 514 525 715 580 807 521 759 516 711 618 643 671 689 620 676 572 695 592\n",
      " 567 694 547 594 673 610 767 763 712 703 662 659 523 772 545 634 739 771\n",
      " 681 544 696 766 727 693 557 531 498 651 791 733 811 707 714 782 775 799\n",
      " 602 744 588 747 583 627 731 629 438 642 806 474 559 429 680 749 734 644\n",
      " 626 649 805 718 840 630 654 762 568 613 522 737 648 443 640 540 460 593\n",
      " 801 611 802 745 483 690 492 709 705 560 752 701 537 487 596 702 486 724\n",
      " 548 464 790 534 748 494 590 468 509 818 816 536 753 774 621 569 658 798\n",
      " 641 542 692 639 765 570 638 599 632 779 527 564 833 504 842 508 417 598\n",
      " 741 607 761 848 546 439 755 760 526 713 700 666 566 495 688 612 477 427\n",
      " 839 819 720 459 503 624 529 563 482 796 445 746 786 554 672 787 499 844\n",
      " 450 815 838 803 736 633 600 679 517 792 743 488 421 841 708 507 505 456\n",
      " 435 561 518 565 728 784 552 609 764 697 723 551 444 719 496 541 830 812\n",
      " 677 420 595 617 809 500 826 434 513 478 797 363 399 463 780 452 575 837\n",
      " 794 824 428 823 781 849 489 431 457 768 831 359 820 573 576 558 817 449\n",
      " 440 415 821 530 350 446 425 740 481 783 358 845 451 458 469 423 404 836\n",
      " 473 835 466 491 351 827 843 365 532 414 453 471 401 810 832 470 447 422\n",
      " 825 430 436 426 408 847 418 437 410 454 407 455 462 386 405 383 395 467\n",
      " 433 442 424 448 441 367 412 382 373 419]\n",
      "Уникальные значения столбца Geography\n",
      "['France' 'Spain' 'Germany']\n",
      "Уникальные значения столбца Gender\n",
      "['Female' 'Male']\n",
      "Уникальные значения столбца Age\n",
      "[42 41 39 43 44 50 29 27 31 24 34 25 35 45 58 32 38 46 36 33 40 51 61 49\n",
      " 37 19 66 56 26 21 55 75 22 30 28 65 48 52 57 73 47 54 72 20 67 79 62 53\n",
      " 80 59 68 23 60 70 63 64 18 82 69 74 71 76 77 88 85 84 78 81 92 83]\n",
      "Уникальные значения столбца Tenure\n",
      "[ 2.  1.  8.  7.  4.  6.  3. 10.  5.  9.  0. nan]\n",
      "Уникальные значения столбца Balance\n",
      "[     0.    83807.86 159660.8  ...  57369.61  75075.31 130142.79]\n",
      "Уникальные значения столбца NumOfProducts\n",
      "[1 3 2 4]\n",
      "Уникальные значения столбца HasCrCard\n",
      "[1 0]\n",
      "Уникальные значения столбца IsActiveMember\n",
      "[1 0]\n",
      "Уникальные значения столбца EstimatedSalary\n",
      "[101348.88 112542.58 113931.57 ...  42085.58  92888.52  38190.78]\n",
      "Уникальные значения столбца Exited\n",
      "[1 0]\n",
      "\n",
      "Количество уникальных значений:\n",
      "Количество значений Geography\n",
      "France     5014\n",
      "Germany    2509\n",
      "Spain      2477\n",
      "Name: Geography, dtype: int64\n",
      "Количество значений Gender\n",
      "Male      5457\n",
      "Female    4543\n",
      "Name: Gender, dtype: int64\n",
      "Количество значений Tenure\n",
      "1.0     952\n",
      "2.0     950\n",
      "8.0     933\n",
      "3.0     928\n",
      "5.0     927\n",
      "7.0     925\n",
      "4.0     885\n",
      "9.0     882\n",
      "6.0     881\n",
      "10.0    446\n",
      "0.0     382\n",
      "Name: Tenure, dtype: int64\n",
      "Количество значений NumOfProducts\n",
      "1    5084\n",
      "2    4590\n",
      "3     266\n",
      "4      60\n",
      "Name: NumOfProducts, dtype: int64\n",
      "Количество значений HasCrCard\n",
      "1    7055\n",
      "0    2945\n",
      "Name: HasCrCard, dtype: int64\n",
      "Количество значений IsActiveMember\n",
      "1    5151\n",
      "0    4849\n",
      "Name: IsActiveMember, dtype: int64\n",
      "Количество значений Exited\n",
      "0    7963\n",
      "1    2037\n",
      "Name: Exited, dtype: int64\n",
      "Матрица диаграмм:\n"
     ]
    },
    {
     "data": {
      "image/png": "[encoded data removed]",
      "text/plain": [
       "<Figure size 720x720 with 121 Axes>"
      ]
     },
     "metadata": {
      "needs_background": "light"
     },
     "output_type": "display_data"
    },
    {
     "name": "stdout",
     "output_type": "stream",
     "text": [
      "Heatmap корреляций:\n"
     ]
    },
    {
     "data": {
      "image/png": "[encoded data removed]",
      "text/plain": [
       "<Figure size 720x720 with 2 Axes>"
      ]
     },
     "metadata": {
      "needs_background": "light"
     },
     "output_type": "display_data"
    }
   ],
   "source": [
    "info_row(churn)"
   ]
  },
  {
   "cell_type": "markdown",
   "id": "23b170f7",
   "metadata": {},
   "source": [
    "### Первичный вывод по имеющимся данным"
   ]
  },
  {
   "cell_type": "markdown",
   "id": "c96a7633",
   "metadata": {},
   "source": [
    "* *Привести наименования колонок к нижнему регистру*  \n",
    "* *Пропуски в колонке `Tenure` - 9%. Тип пропусков - полностью случайные. Слишком большая потеря данных при удалении, поэтому пропуски заменим на `0`.*  \n",
    "* *Колонки: `RowNumber`,`CustomerId`,`Surname`(Значения соответственно: индекс строки в данных, уникальный идентификатор клиента, фамилия),в расчетах нам не пригодятся, поэтому необходимо их удалить.*  \n",
    "* *Колонки `Geography`, `Gender` - категориальные признаки, преобразовывать их будем методом OHE.*  \n",
    "* *Колонки: `creditscore`, `age`, `tenure`, `balance`,`numofproducts`,`hascrcard`,`estimatedsalary` необходимо масштабировать.*  \n",
    "* *Целевой признак несбалансирован и меет перевес данных практически в 4 раза*"
   ]
  },
  {
   "cell_type": "markdown",
   "id": "7121e74e",
   "metadata": {},
   "source": [
    "### Предобработка"
   ]
  },
  {
   "cell_type": "code",
   "execution_count": 5,
   "id": "4a48df88",
   "metadata": {
    "ExecuteTime": {
     "end_time": "2022-05-24T09:57:03.056593Z",
     "start_time": "2022-05-24T09:57:03.041479Z"
    }
   },
   "outputs": [],
   "source": [
    "churn.columns = churn.columns.str.lower()\n",
    "\n",
    "# Приведем названия колонок к нижнему регистру."
   ]
  },
  {
   "cell_type": "markdown",
   "id": "88978a62",
   "metadata": {},
   "source": [
    "*Данные в колонке `tenure`, являются важными для банковской статистики. Каждый клиент закрепляется за менеджером, который ее и ведет(вносит эти данные), эти данные строго проверяются и обновляются. Скорее всего клиент только обратился в банк(первое обращение - открыл счет или завел кредитную карту). А высокий кредитный рейтинг некоторых клиентов(большинство в первой квартили все же) можно объяснить их кредитной историей в других банках. Пропуски эти считаю полностью случайными и заменяю специальным значением - 0(правильным было бы узнать от заказчика о данных пропусках).*"
   ]
  },
  {
   "cell_type": "code",
   "execution_count": 6,
   "id": "595a6cda",
   "metadata": {
    "ExecuteTime": {
     "end_time": "2022-05-24T09:57:03.072550Z",
     "start_time": "2022-05-24T09:57:03.057591Z"
    }
   },
   "outputs": [],
   "source": [
    "churn['tenure'] = churn['tenure'].fillna(0)"
   ]
  },
  {
   "cell_type": "code",
   "execution_count": 7,
   "id": "765d7039",
   "metadata": {
    "ExecuteTime": {
     "end_time": "2022-05-24T09:57:03.088598Z",
     "start_time": "2022-05-24T09:57:03.074546Z"
    }
   },
   "outputs": [],
   "source": [
    "churn = churn.drop(['rownumber','customerid','surname'], axis=1)\n",
    "\n",
    "# Удалим уже не интересующие нас столбцы."
   ]
  },
  {
   "cell_type": "markdown",
   "id": "d5fb8fed",
   "metadata": {},
   "source": [
    "### Подготовка данных"
   ]
  },
  {
   "cell_type": "code",
   "execution_count": 8,
   "id": "159a305e",
   "metadata": {
    "ExecuteTime": {
     "end_time": "2022-05-24T09:57:03.103864Z",
     "start_time": "2022-05-24T09:57:03.089508Z"
    }
   },
   "outputs": [],
   "source": [
    "churn_ohe = pd.get_dummies(churn, drop_first=True)\n",
    "\n",
    "# Преобразуем категориальные признаки geography и gender \n",
    "# в численные, техникой прямого кодирования."
   ]
  },
  {
   "cell_type": "code",
   "execution_count": 9,
   "id": "9cf1b046",
   "metadata": {
    "ExecuteTime": {
     "end_time": "2022-05-24T09:57:03.119821Z",
     "start_time": "2022-05-24T09:57:03.104861Z"
    }
   },
   "outputs": [
    {
     "data": {
      "text/html": [
       "<div>\n",
       "<style scoped>\n",
       "    .dataframe tbody tr th:only-of-type {\n",
       "        vertical-align: middle;\n",
       "    }\n",
       "\n",
       "    .dataframe tbody tr th {\n",
       "        vertical-align: top;\n",
       "    }\n",
       "\n",
       "    .dataframe thead th {\n",
       "        text-align: right;\n",
       "    }\n",
       "</style>\n",
       "<table border=\"1\" class=\"dataframe\">\n",
       "  <thead>\n",
       "    <tr style=\"text-align: right;\">\n",
       "      <th></th>\n",
       "      <th>creditscore</th>\n",
       "      <th>age</th>\n",
       "      <th>tenure</th>\n",
       "      <th>balance</th>\n",
       "      <th>numofproducts</th>\n",
       "      <th>hascrcard</th>\n",
       "      <th>isactivemember</th>\n",
       "      <th>estimatedsalary</th>\n",
       "      <th>exited</th>\n",
       "      <th>geography_Germany</th>\n",
       "      <th>geography_Spain</th>\n",
       "      <th>gender_Male</th>\n",
       "    </tr>\n",
       "  </thead>\n",
       "  <tbody>\n",
       "    <tr>\n",
       "      <th>0</th>\n",
       "      <td>619</td>\n",
       "      <td>42</td>\n",
       "      <td>2.0</td>\n",
       "      <td>0.00</td>\n",
       "      <td>1</td>\n",
       "      <td>1</td>\n",
       "      <td>1</td>\n",
       "      <td>101348.88</td>\n",
       "      <td>1</td>\n",
       "      <td>0</td>\n",
       "      <td>0</td>\n",
       "      <td>0</td>\n",
       "    </tr>\n",
       "    <tr>\n",
       "      <th>1</th>\n",
       "      <td>608</td>\n",
       "      <td>41</td>\n",
       "      <td>1.0</td>\n",
       "      <td>83807.86</td>\n",
       "      <td>1</td>\n",
       "      <td>0</td>\n",
       "      <td>1</td>\n",
       "      <td>112542.58</td>\n",
       "      <td>0</td>\n",
       "      <td>0</td>\n",
       "      <td>1</td>\n",
       "      <td>0</td>\n",
       "    </tr>\n",
       "    <tr>\n",
       "      <th>2</th>\n",
       "      <td>502</td>\n",
       "      <td>42</td>\n",
       "      <td>8.0</td>\n",
       "      <td>159660.80</td>\n",
       "      <td>3</td>\n",
       "      <td>1</td>\n",
       "      <td>0</td>\n",
       "      <td>113931.57</td>\n",
       "      <td>1</td>\n",
       "      <td>0</td>\n",
       "      <td>0</td>\n",
       "      <td>0</td>\n",
       "    </tr>\n",
       "    <tr>\n",
       "      <th>3</th>\n",
       "      <td>699</td>\n",
       "      <td>39</td>\n",
       "      <td>1.0</td>\n",
       "      <td>0.00</td>\n",
       "      <td>2</td>\n",
       "      <td>0</td>\n",
       "      <td>0</td>\n",
       "      <td>93826.63</td>\n",
       "      <td>0</td>\n",
       "      <td>0</td>\n",
       "      <td>0</td>\n",
       "      <td>0</td>\n",
       "    </tr>\n",
       "    <tr>\n",
       "      <th>4</th>\n",
       "      <td>850</td>\n",
       "      <td>43</td>\n",
       "      <td>2.0</td>\n",
       "      <td>125510.82</td>\n",
       "      <td>1</td>\n",
       "      <td>1</td>\n",
       "      <td>1</td>\n",
       "      <td>79084.10</td>\n",
       "      <td>0</td>\n",
       "      <td>0</td>\n",
       "      <td>1</td>\n",
       "      <td>0</td>\n",
       "    </tr>\n",
       "  </tbody>\n",
       "</table>\n",
       "</div>"
      ],
      "text/plain": [
       "   creditscore  age  tenure    balance  numofproducts  hascrcard  \\\n",
       "0          619   42     2.0       0.00              1          1   \n",
       "1          608   41     1.0   83807.86              1          0   \n",
       "2          502   42     8.0  159660.80              3          1   \n",
       "3          699   39     1.0       0.00              2          0   \n",
       "4          850   43     2.0  125510.82              1          1   \n",
       "\n",
       "   isactivemember  estimatedsalary  exited  geography_Germany  \\\n",
       "0               1        101348.88       1                  0   \n",
       "1               1        112542.58       0                  0   \n",
       "2               0        113931.57       1                  0   \n",
       "3               0         93826.63       0                  0   \n",
       "4               1         79084.10       0                  0   \n",
       "\n",
       "   geography_Spain  gender_Male  \n",
       "0                0            0  \n",
       "1                1            0  \n",
       "2                0            0  \n",
       "3                0            0  \n",
       "4                1            0  "
      ]
     },
     "execution_count": 9,
     "metadata": {},
     "output_type": "execute_result"
    }
   ],
   "source": [
    "churn_ohe.head()"
   ]
  },
  {
   "cell_type": "markdown",
   "id": "51cf184c",
   "metadata": {},
   "source": [
    "### Извлекаем признаки и целевой признак"
   ]
  },
  {
   "cell_type": "code",
   "execution_count": 10,
   "id": "471447b9",
   "metadata": {
    "ExecuteTime": {
     "end_time": "2022-05-24T09:57:03.135801Z",
     "start_time": "2022-05-24T09:57:03.121816Z"
    }
   },
   "outputs": [],
   "source": [
    "features = churn_ohe.drop('exited', axis=1)\n",
    "target = churn_ohe['exited']"
   ]
  },
  {
   "cell_type": "code",
   "execution_count": 11,
   "id": "2039f50d",
   "metadata": {
    "ExecuteTime": {
     "end_time": "2022-05-24T09:57:03.151759Z",
     "start_time": "2022-05-24T09:57:03.136775Z"
    }
   },
   "outputs": [
    {
     "data": {
      "text/plain": [
       "['creditscore', 'age', 'tenure', 'balance', 'numofproducts', 'estimatedsalary']"
      ]
     },
     "execution_count": 11,
     "metadata": {},
     "output_type": "execute_result"
    }
   ],
   "source": [
    "bin_col = []\n",
    "for col in features.columns:\n",
    "    if len(features[col].unique()) != 2 and list(features[col].unique()) != [0,1]:\n",
    "        bin_col.append(col)\n",
    "bin_col\n",
    "\n",
    "# Создадим отдельный список с численными признаками."
   ]
  },
  {
   "cell_type": "markdown",
   "id": "c4a6e75a",
   "metadata": {},
   "source": [
    "### Разделение данных на обучающую, тестовую и валидационную сборки"
   ]
  },
  {
   "cell_type": "code",
   "execution_count": 12,
   "id": "dcc6e880",
   "metadata": {
    "ExecuteTime": {
     "end_time": "2022-05-24T09:57:03.167716Z",
     "start_time": "2022-05-24T09:57:03.152732Z"
    }
   },
   "outputs": [
    {
     "data": {
      "text/html": [
       "<font color='orange'>Целевые признаки обучающей, валидационной и тестовой сборок:(6000,),(2000,),(2000,)</font>"
      ],
      "text/plain": [
       "<IPython.core.display.HTML object>"
      ]
     },
     "metadata": {},
     "output_type": "display_data"
    },
    {
     "data": {
      "text/html": [
       "<font color='blue'>Признаки обучающей, валидационной и тестовой сборок:(6000, 11),(2000, 11),(2000, 11)</font>"
      ],
      "text/plain": [
       "<IPython.core.display.HTML object>"
      ]
     },
     "metadata": {},
     "output_type": "display_data"
    }
   ],
   "source": [
    "features_train, features_test, target_train, target_test = train_test_split(\n",
    "    features, target, train_size=0.60,random_state=12345)\n",
    "features_test, features_valid, target_test, target_valid = train_test_split(\n",
    "    features_test, target_test, train_size=0.50,random_state=12345)\n",
    "\n",
    "display(HTML(f\"<font color='orange'>Целевые признаки обучающей, валидационной и тестовой сборок:\\\n",
    "{target_train.shape},{target_valid.shape},{target_test.shape}</font>\"))\n",
    "display(HTML(f\"<font color='blue'>Признаки обучающей, валидационной и тестовой сборок:\\\n",
    "{features_train.shape},{features_valid.shape},{features_test.shape}</font>\"))\n",
    "\n",
    " \n",
    "\n",
    "# Отделяем  40% данных для временной тестовой выборки.\n",
    "# Делим временную тестовую выборку на тестовую и валидационную поровну."
   ]
  },
  {
   "cell_type": "markdown",
   "id": "1dbd8e33",
   "metadata": {},
   "source": [
    "### Масштабируем признаки"
   ]
  },
  {
   "cell_type": "code",
   "execution_count": 13,
   "id": "e8ae7954",
   "metadata": {
    "ExecuteTime": {
     "end_time": "2022-05-24T09:57:03.199608Z",
     "start_time": "2022-05-24T09:57:03.168689Z"
    }
   },
   "outputs": [
    {
     "data": {
      "text/html": [
       "<div>\n",
       "<style scoped>\n",
       "    .dataframe tbody tr th:only-of-type {\n",
       "        vertical-align: middle;\n",
       "    }\n",
       "\n",
       "    .dataframe tbody tr th {\n",
       "        vertical-align: top;\n",
       "    }\n",
       "\n",
       "    .dataframe thead th {\n",
       "        text-align: right;\n",
       "    }\n",
       "</style>\n",
       "<table border=\"1\" class=\"dataframe\">\n",
       "  <thead>\n",
       "    <tr style=\"text-align: right;\">\n",
       "      <th></th>\n",
       "      <th>creditscore</th>\n",
       "      <th>age</th>\n",
       "      <th>tenure</th>\n",
       "      <th>balance</th>\n",
       "      <th>numofproducts</th>\n",
       "      <th>hascrcard</th>\n",
       "      <th>isactivemember</th>\n",
       "      <th>estimatedsalary</th>\n",
       "      <th>geography_Germany</th>\n",
       "      <th>geography_Spain</th>\n",
       "      <th>gender_Male</th>\n",
       "    </tr>\n",
       "  </thead>\n",
       "  <tbody>\n",
       "    <tr>\n",
       "      <th>7479</th>\n",
       "      <td>-0.886751</td>\n",
       "      <td>-0.373192</td>\n",
       "      <td>1.104696</td>\n",
       "      <td>1.232271</td>\n",
       "      <td>-0.891560</td>\n",
       "      <td>1</td>\n",
       "      <td>0</td>\n",
       "      <td>-0.187705</td>\n",
       "      <td>0</td>\n",
       "      <td>1</td>\n",
       "      <td>1</td>\n",
       "    </tr>\n",
       "    <tr>\n",
       "      <th>3411</th>\n",
       "      <td>0.608663</td>\n",
       "      <td>-0.183385</td>\n",
       "      <td>1.104696</td>\n",
       "      <td>0.600563</td>\n",
       "      <td>-0.891560</td>\n",
       "      <td>0</td>\n",
       "      <td>0</td>\n",
       "      <td>-0.333945</td>\n",
       "      <td>0</td>\n",
       "      <td>0</td>\n",
       "      <td>0</td>\n",
       "    </tr>\n",
       "    <tr>\n",
       "      <th>6027</th>\n",
       "      <td>2.052152</td>\n",
       "      <td>0.480939</td>\n",
       "      <td>-0.503694</td>\n",
       "      <td>1.027098</td>\n",
       "      <td>0.830152</td>\n",
       "      <td>0</td>\n",
       "      <td>1</td>\n",
       "      <td>1.503095</td>\n",
       "      <td>1</td>\n",
       "      <td>0</td>\n",
       "      <td>1</td>\n",
       "    </tr>\n",
       "    <tr>\n",
       "      <th>1247</th>\n",
       "      <td>-1.457915</td>\n",
       "      <td>-1.417129</td>\n",
       "      <td>0.461340</td>\n",
       "      <td>-1.233163</td>\n",
       "      <td>0.830152</td>\n",
       "      <td>1</td>\n",
       "      <td>0</td>\n",
       "      <td>-1.071061</td>\n",
       "      <td>0</td>\n",
       "      <td>0</td>\n",
       "      <td>1</td>\n",
       "    </tr>\n",
       "    <tr>\n",
       "      <th>3716</th>\n",
       "      <td>0.130961</td>\n",
       "      <td>-1.132419</td>\n",
       "      <td>-0.825373</td>\n",
       "      <td>1.140475</td>\n",
       "      <td>-0.891560</td>\n",
       "      <td>0</td>\n",
       "      <td>0</td>\n",
       "      <td>1.524268</td>\n",
       "      <td>1</td>\n",
       "      <td>0</td>\n",
       "      <td>0</td>\n",
       "    </tr>\n",
       "  </tbody>\n",
       "</table>\n",
       "</div>"
      ],
      "text/plain": [
       "      creditscore       age    tenure   balance  numofproducts  hascrcard  \\\n",
       "7479    -0.886751 -0.373192  1.104696  1.232271      -0.891560          1   \n",
       "3411     0.608663 -0.183385  1.104696  0.600563      -0.891560          0   \n",
       "6027     2.052152  0.480939 -0.503694  1.027098       0.830152          0   \n",
       "1247    -1.457915 -1.417129  0.461340 -1.233163       0.830152          1   \n",
       "3716     0.130961 -1.132419 -0.825373  1.140475      -0.891560          0   \n",
       "\n",
       "      isactivemember  estimatedsalary  geography_Germany  geography_Spain  \\\n",
       "7479               0        -0.187705                  0                1   \n",
       "3411               0        -0.333945                  0                0   \n",
       "6027               1         1.503095                  1                0   \n",
       "1247               0        -1.071061                  0                0   \n",
       "3716               0         1.524268                  1                0   \n",
       "\n",
       "      gender_Male  \n",
       "7479            1  \n",
       "3411            0  \n",
       "6027            1  \n",
       "1247            1  \n",
       "3716            0  "
      ]
     },
     "execution_count": 13,
     "metadata": {},
     "output_type": "execute_result"
    }
   ],
   "source": [
    "scaler = StandardScaler()\n",
    "scaler.fit(features_train[bin_col]) \n",
    "\n",
    "features_train[bin_col] = scaler.transform(features_train[bin_col])\n",
    "features_valid[bin_col] = scaler.transform(features_valid[bin_col])\n",
    "features_test[bin_col] = scaler.transform(features_test[bin_col])\n",
    "\n",
    "features_train.head()"
   ]
  },
  {
   "cell_type": "markdown",
   "id": "3b4542d7",
   "metadata": {},
   "source": [
    "### Вывод"
   ]
  },
  {
   "cell_type": "markdown",
   "id": "1f48091a",
   "metadata": {},
   "source": [
    "*Данные подготовлены к исследованию*  \n",
    "* *Извлечены целевой признак и признаки*  \n",
    "* *Данные разбиты на три выборки: обучающую, тестовую и валидационную.*  \n",
    "* *Удалены лишние признаки*  \n",
    "* *Признаки, имеющие разный масштаб - масштабированы*"
   ]
  },
  {
   "cell_type": "markdown",
   "id": "6167a78b",
   "metadata": {},
   "source": [
    "## Исследование задачи"
   ]
  },
  {
   "cell_type": "markdown",
   "id": "bea61922",
   "metadata": {},
   "source": [
    "*Обучим модели `DecisionTreeClassifier`, `RandomForestClassifier` и `LogisticRegression` по обучающей выборке и подберем лучшее значение f1 меры для каждой.*"
   ]
  },
  {
   "cell_type": "markdown",
   "id": "7c971489",
   "metadata": {},
   "source": [
    "### Модель решающего дерева"
   ]
  },
  {
   "cell_type": "code",
   "execution_count": 14,
   "id": "4acb6789",
   "metadata": {
    "ExecuteTime": {
     "end_time": "2022-05-24T09:57:04.063606Z",
     "start_time": "2022-05-24T09:57:03.200605Z"
    }
   },
   "outputs": [
    {
     "data": {
      "text/html": [
       "<font color='blue'>Cреднее гармоническое полноты и точности модели на валидационной выборке:0.53781512605042</font>"
      ],
      "text/plain": [
       "<IPython.core.display.HTML object>"
      ]
     },
     "metadata": {},
     "output_type": "display_data"
    },
    {
     "data": {
      "text/html": [
       "<font color='blue'>Максимально допустимая глубина дерева: 9</font>"
      ],
      "text/plain": [
       "<IPython.core.display.HTML object>"
      ]
     },
     "metadata": {},
     "output_type": "display_data"
    },
    {
     "name": "stdout",
     "output_type": "stream",
     "text": [
      "Wall time: 847 ms\n"
     ]
    }
   ],
   "source": [
    "%%time\n",
    "\n",
    "best_f1_tree = 0\n",
    "\n",
    "\n",
    "for depth in range(1, 40,1):\n",
    "    model_tree = DecisionTreeClassifier(random_state=12345, max_depth=depth)\n",
    "    model_tree.fit(features_train,target_train)\n",
    "    predicted_valid_tree = model_tree.predict(features_valid)\n",
    "    f1_tree_score = f1_score(target_valid, predicted_valid_tree)\n",
    "    \n",
    "    if best_f1_tree < f1_tree_score:\n",
    "        best_f1_tree = f1_tree_score\n",
    "        best_tree_depth = depth\n",
    "display(HTML(f\"<font color='blue'>Cреднее гармоническое полноты и точности модели на валидационной выборке:\\\n",
    "{best_f1_tree}</font>\"))  \n",
    "display(HTML(f\"<font color='blue'>Максимально допустимая глубина дерева: {best_tree_depth}</font>\"))\n",
    "\n",
    "# Обучили модель Дерева решений. \n",
    "# Посчитали f1 меру модели."
   ]
  },
  {
   "cell_type": "markdown",
   "id": "0aee3900",
   "metadata": {},
   "source": [
    "### Модель случайного леса"
   ]
  },
  {
   "cell_type": "code",
   "execution_count": 15,
   "id": "c5b0a939",
   "metadata": {
    "ExecuteTime": {
     "end_time": "2022-05-24T09:57:20.538916Z",
     "start_time": "2022-05-24T09:57:04.064610Z"
    }
   },
   "outputs": [
    {
     "data": {
      "text/html": [
       "<font color='blue'>Cреднее гармоническое полноты и точности модели на валидационной выборке:0.5572289156626506</font>"
      ],
      "text/plain": [
       "<IPython.core.display.HTML object>"
      ]
     },
     "metadata": {},
     "output_type": "display_data"
    },
    {
     "data": {
      "text/html": [
       "<font color='blue'>Максимально допустимая глубина дерева: 18</font>"
      ],
      "text/plain": [
       "<IPython.core.display.HTML object>"
      ]
     },
     "metadata": {},
     "output_type": "display_data"
    },
    {
     "data": {
      "text/html": [
       "<font color='blue'>Количество деревьев наилучшей модели Случайный лес: 76</font>"
      ],
      "text/plain": [
       "<IPython.core.display.HTML object>"
      ]
     },
     "metadata": {},
     "output_type": "display_data"
    },
    {
     "name": "stdout",
     "output_type": "stream",
     "text": [
      "Wall time: 16.5 s\n"
     ]
    }
   ],
   "source": [
    "%%time\n",
    "\n",
    "best_f1_forest = 0\n",
    "\n",
    "for depth in range(16,20,1):\n",
    "    for est in range(70,80,1):\n",
    "        model_forest = RandomForestClassifier(random_state=12345, max_depth=depth, n_estimators=est) \n",
    "        model_forest.fit(features_train,target_train)\n",
    "        predicted_valid_forest = model_forest.predict(features_valid)\n",
    "        f1_forest_score = f1_score(target_valid, predicted_valid_forest)\n",
    "     \n",
    "        \n",
    "        if best_f1_forest < f1_forest_score:\n",
    "            best_f1_forest = f1_forest_score\n",
    "            best_forest_depth = depth\n",
    "            best_forest_est = est\n",
    "display(HTML(f\"<font color='blue'>Cреднее гармоническое полноты и точности модели на валидационной выборке:\\\n",
    "{best_f1_forest}</font>\"))  \n",
    "display(HTML(f\"<font color='blue'>Максимально допустимая глубина дерева: {best_forest_depth}</font>\"))\n",
    "display(HTML(f\"<font color='blue'>Количество деревьев наилучшей модели Случайный лес: {best_forest_est}</font>\"))\n",
    "\n",
    "# Обучили модель Случайного леса. \n",
    "# Посчитали f1 меру модели."
   ]
  },
  {
   "cell_type": "markdown",
   "id": "2dc89871",
   "metadata": {},
   "source": [
    "### Модель логистической регрессии"
   ]
  },
  {
   "cell_type": "code",
   "execution_count": 16,
   "id": "c43a7c75",
   "metadata": {
    "ExecuteTime": {
     "end_time": "2022-05-24T09:57:20.565309Z",
     "start_time": "2022-05-24T09:57:20.540883Z"
    }
   },
   "outputs": [
    {
     "data": {
      "text/html": [
       "<font color='blue'>Cреднее гармоническое полноты и точности модели на валидационной выборке:0.2743055555555555</font>"
      ],
      "text/plain": [
       "<IPython.core.display.HTML object>"
      ]
     },
     "metadata": {},
     "output_type": "display_data"
    },
    {
     "name": "stdout",
     "output_type": "stream",
     "text": [
      "Wall time: 19.4 ms\n"
     ]
    }
   ],
   "source": [
    "%%time\n",
    "model_log_reg = LogisticRegression(random_state=12345,solver='liblinear')\n",
    "model_log_reg.fit(features_train,target_train) \n",
    "predicted_valid_log = model_log_reg.predict(features_valid)\n",
    "f1_log_score = f1_score(target_valid, predicted_valid_log)\n",
    "\n",
    "\n",
    "display(HTML(f\"<font color='blue'>Cреднее гармоническое полноты и точности модели на валидационной выборке:\\\n",
    "{f1_log_score}</font>\"))\n",
    "\n",
    "\n",
    "# Обучили модель логистической регрессии. \n",
    "# Посчитали f1 меру модели."
   ]
  },
  {
   "cell_type": "markdown",
   "id": "e205acc7",
   "metadata": {},
   "source": [
    "### Посчитаем метрики для каждой модели"
   ]
  },
  {
   "cell_type": "markdown",
   "id": "2aace35e",
   "metadata": {},
   "source": [
    "precision_score, recall_score, accuracy_score, roc_auc_score, roc_curve"
   ]
  },
  {
   "cell_type": "code",
   "execution_count": 17,
   "id": "3d6dd0c5",
   "metadata": {
    "ExecuteTime": {
     "end_time": "2022-05-24T09:57:20.581266Z",
     "start_time": "2022-05-24T09:57:20.566306Z"
    }
   },
   "outputs": [],
   "source": [
    "def display_met(model,target,predicted,color):\n",
    "    '''\n",
    "        Input: model - обученная модель,target - целевой признак ,predicted - предсказания модели,\n",
    "               color - цвет, которым будет выводиться информация.\n",
    "        Output: probabilities_one_valid - начения вероятностей класса «1».\n",
    "        Description: Функция выводит на экран метрики получаемой в аргумент модели.\n",
    "\n",
    "    '''\n",
    "    display(HTML(f\"<font color='{color}'>Оценка точности классификации: \\\n",
    "    {accuracy_score(target,predicted)}</font>\"))\n",
    "    display(HTML(f\"<font color='{color}'>Полнота: \\\n",
    "    {recall_score(target,predicted)}</font>\"))\n",
    "    display(HTML(f\"<font color='{color}'>Точность: \\\n",
    "    {precision_score(target,predicted)}</font>\"))\n",
    "\n",
    "    probabilities_valid = model.predict_proba(features_valid)\n",
    "    probabilities_one_valid = probabilities_valid[:, 1]\n",
    "    display(HTML(f\"<font color='{color}'>AUC-ROC: \\\n",
    "    {roc_auc_score(target_valid,probabilities_one_valid)}</font>\"))\n",
    "    \n",
    "    return probabilities_one_valid"
   ]
  },
  {
   "cell_type": "code",
   "execution_count": 18,
   "id": "a13f8160",
   "metadata": {
    "ExecuteTime": {
     "end_time": "2022-05-24T09:57:20.612183Z",
     "start_time": "2022-05-24T09:57:20.582263Z"
    }
   },
   "outputs": [
    {
     "data": {
      "text/html": [
       "<font color='blue'>Оценка точности классификации:     0.7845</font>"
      ],
      "text/plain": [
       "<IPython.core.display.HTML object>"
      ]
     },
     "metadata": {},
     "output_type": "display_data"
    },
    {
     "data": {
      "text/html": [
       "<font color='blue'>Полнота:     0.46808510638297873</font>"
      ],
      "text/plain": [
       "<IPython.core.display.HTML object>"
      ]
     },
     "metadata": {},
     "output_type": "display_data"
    },
    {
     "data": {
      "text/html": [
       "<font color='blue'>Точность:     0.4900990099009901</font>"
      ],
      "text/plain": [
       "<IPython.core.display.HTML object>"
      ]
     },
     "metadata": {},
     "output_type": "display_data"
    },
    {
     "data": {
      "text/html": [
       "<font color='blue'>AUC-ROC:     0.6687286660640321</font>"
      ],
      "text/plain": [
       "<IPython.core.display.HTML object>"
      ]
     },
     "metadata": {},
     "output_type": "display_data"
    },
    {
     "data": {
      "text/plain": [
       "array([0., 0., 0., ..., 0., 0., 0.])"
      ]
     },
     "execution_count": 18,
     "metadata": {},
     "output_type": "execute_result"
    }
   ],
   "source": [
    "display_met(model_tree,target_valid,predicted_valid_tree,'blue')\n",
    "\n",
    "# Модель решающего дерева."
   ]
  },
  {
   "cell_type": "code",
   "execution_count": 19,
   "id": "95efc51a",
   "metadata": {
    "ExecuteTime": {
     "end_time": "2022-05-24T09:57:20.659058Z",
     "start_time": "2022-05-24T09:57:20.613181Z"
    }
   },
   "outputs": [
    {
     "data": {
      "text/html": [
       "<font color='orange'>Оценка точности классификации:     0.8455</font>"
      ],
      "text/plain": [
       "<IPython.core.display.HTML object>"
      ]
     },
     "metadata": {},
     "output_type": "display_data"
    },
    {
     "data": {
      "text/html": [
       "<font color='orange'>Полнота:     0.42080378250591016</font>"
      ],
      "text/plain": [
       "<IPython.core.display.HTML object>"
      ]
     },
     "metadata": {},
     "output_type": "display_data"
    },
    {
     "data": {
      "text/html": [
       "<font color='orange'>Точность:     0.7355371900826446</font>"
      ],
      "text/plain": [
       "<IPython.core.display.HTML object>"
      ]
     },
     "metadata": {},
     "output_type": "display_data"
    },
    {
     "data": {
      "text/html": [
       "<font color='orange'>AUC-ROC:     0.8482935099861935</font>"
      ],
      "text/plain": [
       "<IPython.core.display.HTML object>"
      ]
     },
     "metadata": {},
     "output_type": "display_data"
    },
    {
     "data": {
      "text/plain": [
       "array([0.05063291, 0.20545278, 0.05063291, ..., 0.        , 0.06329114,\n",
       "       0.27848101])"
      ]
     },
     "execution_count": 19,
     "metadata": {},
     "output_type": "execute_result"
    }
   ],
   "source": [
    "display_met(model_forest,target_valid,predicted_valid_forest,'orange')\n",
    "\n",
    "# Модель Случайного леса"
   ]
  },
  {
   "cell_type": "code",
   "execution_count": 20,
   "id": "698ab378",
   "metadata": {
    "ExecuteTime": {
     "end_time": "2022-05-24T09:57:20.675015Z",
     "start_time": "2022-05-24T09:57:20.660055Z"
    }
   },
   "outputs": [
    {
     "data": {
      "text/html": [
       "<font color='green'>Оценка точности классификации:     0.791</font>"
      ],
      "text/plain": [
       "<IPython.core.display.HTML object>"
      ]
     },
     "metadata": {},
     "output_type": "display_data"
    },
    {
     "data": {
      "text/html": [
       "<font color='green'>Полнота:     0.1867612293144208</font>"
      ],
      "text/plain": [
       "<IPython.core.display.HTML object>"
      ]
     },
     "metadata": {},
     "output_type": "display_data"
    },
    {
     "data": {
      "text/html": [
       "<font color='green'>Точность:     0.5163398692810458</font>"
      ],
      "text/plain": [
       "<IPython.core.display.HTML object>"
      ]
     },
     "metadata": {},
     "output_type": "display_data"
    },
    {
     "data": {
      "text/html": [
       "<font color='green'>AUC-ROC:     0.738656005132887</font>"
      ],
      "text/plain": [
       "<IPython.core.display.HTML object>"
      ]
     },
     "metadata": {},
     "output_type": "display_data"
    },
    {
     "data": {
      "text/plain": [
       "array([0.14906208, 0.19077364, 0.04126147, ..., 0.19047743, 0.24612563,\n",
       "       0.80120021])"
      ]
     },
     "execution_count": 20,
     "metadata": {},
     "output_type": "execute_result"
    }
   ],
   "source": [
    "display_met(model_log_reg,target_valid,predicted_valid_log,'green')\n",
    "\n",
    "# Модель Логистической регрессии"
   ]
  },
  {
   "cell_type": "markdown",
   "id": "507840a0",
   "metadata": {},
   "source": [
    "### Вывод по несбалансированным моделям"
   ]
  },
  {
   "cell_type": "markdown",
   "id": "03ff04d2",
   "metadata": {},
   "source": [
    "*Показатели точности несбалансированных моделей далеки от \"идеала\", ввиду доминирования в данных отрицательных ответов. Ни одна модель не достигла требуемого минимального порога `f1-меры`. Попробуем поработать на дисбалансом выборки.*"
   ]
  },
  {
   "cell_type": "markdown",
   "id": "496d9e67",
   "metadata": {},
   "source": [
    "## Борьба с дисбалансом"
   ]
  },
  {
   "cell_type": "markdown",
   "id": "2279c5bf",
   "metadata": {},
   "source": [
    "### Проверка адекватности модели"
   ]
  },
  {
   "cell_type": "code",
   "execution_count": 21,
   "id": "da26245c",
   "metadata": {
    "ExecuteTime": {
     "end_time": "2022-05-24T09:57:20.770759Z",
     "start_time": "2022-05-24T09:57:20.676012Z"
    }
   },
   "outputs": [
    {
     "data": {
      "text/plain": [
       "0    0.7963\n",
       "1    0.2037\n",
       "Name: exited, dtype: float64"
      ]
     },
     "metadata": {},
     "output_type": "display_data"
    },
    {
     "data": {
      "image/png": "[encoded data removed]",
      "text/plain": [
       "<Figure size 432x288 with 1 Axes>"
      ]
     },
     "metadata": {
      "needs_background": "light"
     },
     "output_type": "display_data"
    }
   ],
   "source": [
    "class_frequency = churn_ohe['exited'].value_counts(normalize=True)\n",
    "display(class_frequency)\n",
    "class_frequency.plot(kind='bar')\n",
    "plt.show()\n",
    "\n",
    "# Проверим, как часто в целевом признаке встречается класс «1» или «0»\n",
    "# и построим график для наглядности."
   ]
  },
  {
   "cell_type": "code",
   "execution_count": 22,
   "id": "300c8ce3",
   "metadata": {
    "ExecuteTime": {
     "end_time": "2022-05-24T09:57:20.818631Z",
     "start_time": "2022-05-24T09:57:20.771757Z"
    }
   },
   "outputs": [
    {
     "name": "stdout",
     "output_type": "stream",
     "text": [
      "0    0.798\n",
      "1    0.202\n",
      "dtype: float64\n",
      "0    0.879\n",
      "1    0.121\n",
      "dtype: float64\n",
      "0    0.9235\n",
      "1    0.0765\n",
      "dtype: float64\n"
     ]
    }
   ],
   "source": [
    "predicted_valid_tree = pd.Series(model_tree.predict(features_valid))\n",
    "predicted_valid_forest = pd.Series(model_forest.predict(features_valid))\n",
    "predicted_valid_log = pd.Series(model_log_reg.predict(features_valid))\n",
    "\n",
    "class_frequency_tree = predicted_valid_tree.value_counts(normalize=True)\n",
    "class_frequency_forest = predicted_valid_forest.value_counts(normalize=True)\n",
    "class_frequency_log = predicted_valid_log.value_counts(normalize=True)\n",
    "\n",
    "print(class_frequency_tree)\n",
    "print(class_frequency_forest)\n",
    "print(class_frequency_log)\n",
    "\n",
    "# Проверим частоту в предсказаниях для каждой модели."
   ]
  },
  {
   "cell_type": "code",
   "execution_count": 23,
   "id": "e3bba369",
   "metadata": {
    "ExecuteTime": {
     "end_time": "2022-05-24T09:57:21.057162Z",
     "start_time": "2022-05-24T09:57:20.819629Z"
    },
    "scrolled": true
   },
   "outputs": [
    {
     "data": {
      "image/png": "[encoded data removed]",
      "text/plain": [
       "<Figure size 1080x432 with 3 Axes>"
      ]
     },
     "metadata": {
      "needs_background": "light"
     },
     "output_type": "display_data"
    }
   ],
   "source": [
    "fig = plt.figure(figsize=(15, 6))\n",
    "fig.subplots_adjust(top=0.9)\n",
    "fig.suptitle('Частота классов в предсказаниях для каждой модели')\n",
    "\n",
    "ax1 = plt.subplot(1, 3, 1)\n",
    "ax1.set_xlabel('Решающее дерево')\n",
    "ax1 = class_frequency_tree.plot(kind='bar')\n",
    "ax2 = plt.subplot(1, 3, 2)\n",
    "ax2.set_xlabel('Случайный лес')\n",
    "ax2 = class_frequency_forest.plot(kind='bar')\n",
    "ax3 = plt.subplot(1, 3, 3)\n",
    "ax3.set_xlabel('Логистическая регрессия')\n",
    "ax3 = class_frequency_log.plot(kind='bar')\n",
    "plt.show()"
   ]
  },
  {
   "cell_type": "code",
   "execution_count": 24,
   "id": "321bf729",
   "metadata": {
    "ExecuteTime": {
     "end_time": "2022-05-24T09:57:21.073107Z",
     "start_time": "2022-05-24T09:57:21.059120Z"
    }
   },
   "outputs": [
    {
     "name": "stdout",
     "output_type": "stream",
     "text": [
      "0.8006666666666666\n",
      "0.7885\n"
     ]
    }
   ],
   "source": [
    "target_pred_constant_train = pd.Series([0] * len(target_train))\n",
    "target_pred_constant_valid = pd.Series([0] * len(target_valid))\n",
    "\n",
    "print(accuracy_score(target_train, target_pred_constant_train))\n",
    "print(accuracy_score(target_valid, target_pred_constant_valid))\n",
    "\n",
    "# Создадим константную модель: любому объекту она прогнозирует класс «0».\n",
    "# Проверим частоту ее предсказаний по обучающей и валидационной сборкам."
   ]
  },
  {
   "cell_type": "markdown",
   "id": "6233832f",
   "metadata": {},
   "source": [
    "*Наблюдается явный перевес в сторону отрицательных ответов*"
   ]
  },
  {
   "cell_type": "markdown",
   "id": "0de51847",
   "metadata": {},
   "source": [
    "### Увеливение выборки"
   ]
  },
  {
   "cell_type": "markdown",
   "id": "c6c71ec2",
   "metadata": {},
   "source": [
    "*Попробуем сбалансировать данные с помощью увеличения в воборке положительных ответов*"
   ]
  },
  {
   "cell_type": "code",
   "execution_count": 25,
   "id": "796de263",
   "metadata": {
    "ExecuteTime": {
     "end_time": "2022-05-24T09:57:21.089040Z",
     "start_time": "2022-05-24T09:57:21.074080Z"
    }
   },
   "outputs": [],
   "source": [
    "def upsample(features, target, repeat):\n",
    "    '''\n",
    "        Input: features - признаки(таблица pd.DataFrame), target - целевой признак(таблица pd.Series),\n",
    "               repeat - количество повторений(int).\n",
    "        Output: features_upsampled, target_upsampled - сбалансированые признаки\n",
    "        Description: Функция разделяет признаки на отрицательные и положительные, \n",
    "                     увеличивает количество положительных,собирает их обратно и перемешивает данные. \n",
    "                     На выходе получаем увеличенную выборку за счет положительных ответов.\n",
    "\n",
    "    '''\n",
    "    features_zeros = features[target == 0]\n",
    "    features_ones = features[target == 1]\n",
    "    target_zeros = target[target == 0]\n",
    "    target_ones = target[target == 1]\n",
    "\n",
    "    features_upsampled = pd.concat([features_zeros] + [features_ones] * repeat)\n",
    "    target_upsampled = pd.concat([target_zeros] + [target_ones] * repeat)\n",
    "    \n",
    "    features_upsampled, target_upsampled = shuffle(\n",
    "        features_upsampled, target_upsampled, random_state=12345)\n",
    "    \n",
    "    return features_upsampled, target_upsampled\n",
    "\n",
    "features_upsampled, target_upsampled = upsample(features_train, target_train, 4)"
   ]
  },
  {
   "cell_type": "code",
   "execution_count": 26,
   "id": "24561f72",
   "metadata": {
    "ExecuteTime": {
     "end_time": "2022-05-24T09:57:21.421537Z",
     "start_time": "2022-05-24T09:57:21.090038Z"
    }
   },
   "outputs": [
    {
     "data": {
      "text/html": [
       "<font color='blue'>Cреднее гармоническое полноты и точности модели на валидационной выборке:0.5809128630705395</font>"
      ],
      "text/plain": [
       "<IPython.core.display.HTML object>"
      ]
     },
     "metadata": {},
     "output_type": "display_data"
    },
    {
     "data": {
      "text/html": [
       "<font color='blue'>Максимально допустимая глубина дерева: 5</font>"
      ],
      "text/plain": [
       "<IPython.core.display.HTML object>"
      ]
     },
     "metadata": {},
     "output_type": "display_data"
    },
    {
     "name": "stdout",
     "output_type": "stream",
     "text": [
      "Wall time: 322 ms\n"
     ]
    }
   ],
   "source": [
    "%%time\n",
    "\n",
    "best_f1_tree_up = 0\n",
    "\n",
    "\n",
    "for depth in range(1, 16,1):\n",
    "    model_tree_up = DecisionTreeClassifier(random_state=12345, max_depth=depth)\n",
    "    model_tree_up.fit(features_upsampled,target_upsampled)\n",
    "    predicted_valid_tree_up = model_tree_up.predict(features_valid)\n",
    "    f1_tree_score_up = f1_score(target_valid, predicted_valid_tree_up)\n",
    "    \n",
    "    if best_f1_tree_up < f1_tree_score_up:\n",
    "        best_f1_tree_up = f1_tree_score_up\n",
    "        best_tree_depth_up = depth\n",
    "display(HTML(f\"<font color='blue'>Cреднее гармоническое полноты и точности модели на валидационной выборке:\\\n",
    "{best_f1_tree_up}</font>\"))  \n",
    "display(HTML(f\"<font color='blue'>Максимально допустимая глубина дерева: {best_tree_depth_up}</font>\"))\n",
    "\n",
    "# Обучили модель Дерева решений \n",
    "# на увеличенной выборке.\n",
    "# Посчитали f1 меру модели."
   ]
  },
  {
   "cell_type": "code",
   "execution_count": 27,
   "id": "69218363",
   "metadata": {
    "ExecuteTime": {
     "end_time": "2022-05-24T09:57:41.010963Z",
     "start_time": "2022-05-24T09:57:21.422536Z"
    }
   },
   "outputs": [
    {
     "data": {
      "text/html": [
       "<font color='blue'>Cреднее гармоническое полноты и точности модели на валидационной выборке:0.6147623862487362</font>"
      ],
      "text/plain": [
       "<IPython.core.display.HTML object>"
      ]
     },
     "metadata": {},
     "output_type": "display_data"
    },
    {
     "data": {
      "text/html": [
       "<font color='blue'>Максимально допустимая глубина дерева: 8</font>"
      ],
      "text/plain": [
       "<IPython.core.display.HTML object>"
      ]
     },
     "metadata": {},
     "output_type": "display_data"
    },
    {
     "data": {
      "text/html": [
       "<font color='blue'>Количество деревьев наилучшей модели Случайный лес: 133</font>"
      ],
      "text/plain": [
       "<IPython.core.display.HTML object>"
      ]
     },
     "metadata": {},
     "output_type": "display_data"
    },
    {
     "name": "stdout",
     "output_type": "stream",
     "text": [
      "Wall time: 19.6 s\n"
     ]
    }
   ],
   "source": [
    "%%time\n",
    "\n",
    "best_f1_forest_up = 0\n",
    "\n",
    "for depth in range(7,12,1):\n",
    "    for est in range(130,135,1):\n",
    "        model_forest_up = RandomForestClassifier(random_state=12345, max_depth=depth, n_estimators=est) \n",
    "        model_forest_up.fit(features_upsampled,target_upsampled)\n",
    "        predicted_valid_forest_up = model_forest_up.predict(features_valid)\n",
    "        f1_forest_score_up = f1_score(target_valid, predicted_valid_forest_up)\n",
    "     \n",
    "        \n",
    "        if best_f1_forest_up < f1_forest_score_up:\n",
    "            best_f1_forest_up = f1_forest_score_up\n",
    "            best_forest_depth_up = depth\n",
    "            best_forest_est_up = est\n",
    "display(HTML(f\"<font color='blue'>Cреднее гармоническое полноты и точности модели на валидационной выборке:\\\n",
    "{best_f1_forest_up}</font>\"))  \n",
    "display(HTML(f\"<font color='blue'>Максимально допустимая глубина дерева: {best_forest_depth_up}</font>\"))\n",
    "display(HTML(f\"<font color='blue'>Количество деревьев наилучшей модели Случайный лес: {best_forest_est_up}</font>\"))\n",
    "\n",
    "# Обучили модель случайного леса \n",
    "# на увеличенной выборке.\n",
    "# Посчитали f1 меру модели."
   ]
  },
  {
   "cell_type": "code",
   "execution_count": 28,
   "id": "96b9fdb3",
   "metadata": {
    "ExecuteTime": {
     "end_time": "2022-05-24T09:57:41.058808Z",
     "start_time": "2022-05-24T09:57:41.013929Z"
    }
   },
   "outputs": [
    {
     "data": {
      "text/html": [
       "<font color='blue'>Cреднее гармоническое полноты и точности модели на валидационной выборке:0.4779220779220779</font>"
      ],
      "text/plain": [
       "<IPython.core.display.HTML object>"
      ]
     },
     "metadata": {},
     "output_type": "display_data"
    },
    {
     "name": "stdout",
     "output_type": "stream",
     "text": [
      "Wall time: 25.9 ms\n"
     ]
    }
   ],
   "source": [
    "%%time\n",
    "model_log_reg_up = LogisticRegression(random_state=12345,solver='liblinear')\n",
    "model_log_reg_up.fit(features_upsampled,target_upsampled) \n",
    "predicted_valid_log_up = model_log_reg_up.predict(features_valid)\n",
    "f1_log_score_up = f1_score(target_valid, predicted_valid_log_up)\n",
    "\n",
    "\n",
    "display(HTML(f\"<font color='blue'>Cреднее гармоническое полноты и точности модели на валидационной выборке:\\\n",
    "{f1_log_score_up}</font>\"))\n",
    "\n",
    "# Обучили модель логистической регрессии на увеличенной выборке\n",
    "# Получили метрику качества модели."
   ]
  },
  {
   "cell_type": "markdown",
   "id": "3ee3cafd",
   "metadata": {},
   "source": [
    "### Посчитаем метрики моделей"
   ]
  },
  {
   "cell_type": "code",
   "execution_count": 29,
   "id": "bf749257",
   "metadata": {
    "ExecuteTime": {
     "end_time": "2022-05-24T09:57:41.105683Z",
     "start_time": "2022-05-24T09:57:41.059806Z"
    }
   },
   "outputs": [
    {
     "data": {
      "text/html": [
       "<font color='blue'>Оценка точности классификации:     0.798</font>"
      ],
      "text/plain": [
       "<IPython.core.display.HTML object>"
      ]
     },
     "metadata": {},
     "output_type": "display_data"
    },
    {
     "data": {
      "text/html": [
       "<font color='blue'>Полнота:     0.6619385342789598</font>"
      ],
      "text/plain": [
       "<IPython.core.display.HTML object>"
      ]
     },
     "metadata": {},
     "output_type": "display_data"
    },
    {
     "data": {
      "text/html": [
       "<font color='blue'>Точность:     0.5175600739371534</font>"
      ],
      "text/plain": [
       "<IPython.core.display.HTML object>"
      ]
     },
     "metadata": {},
     "output_type": "display_data"
    },
    {
     "data": {
      "text/html": [
       "<font color='blue'>AUC-ROC:     0.8355347481752318</font>"
      ],
      "text/plain": [
       "<IPython.core.display.HTML object>"
      ]
     },
     "metadata": {},
     "output_type": "display_data"
    }
   ],
   "source": [
    "model_tree_best = DecisionTreeClassifier(random_state=12345, max_depth=best_tree_depth_up)\n",
    "model_tree_best.fit(features_upsampled,target_upsampled)\n",
    "prediction_tree_best = model_tree_best.predict(features_valid)\n",
    "\n",
    "\n",
    "probabilities_one_valid_tree_up = display_met(model_tree_best,target_valid,prediction_tree_best,'blue')\n",
    "fpr_tree, tpr_tree, thresholds_tree = roc_curve(target_valid, probabilities_one_valid_tree_up)\n",
    "# Оценим метрики лучшей модели Решающего дерева."
   ]
  },
  {
   "cell_type": "code",
   "execution_count": 30,
   "id": "735de9ad",
   "metadata": {
    "ExecuteTime": {
     "end_time": "2022-05-24T09:57:41.937149Z",
     "start_time": "2022-05-24T09:57:41.106680Z"
    }
   },
   "outputs": [
    {
     "data": {
      "text/html": [
       "<font color='orange'>Оценка точности классификации:     0.8095</font>"
      ],
      "text/plain": [
       "<IPython.core.display.HTML object>"
      ]
     },
     "metadata": {},
     "output_type": "display_data"
    },
    {
     "data": {
      "text/html": [
       "<font color='orange'>Полнота:     0.7186761229314421</font>"
      ],
      "text/plain": [
       "<IPython.core.display.HTML object>"
      ]
     },
     "metadata": {},
     "output_type": "display_data"
    },
    {
     "data": {
      "text/html": [
       "<font color='orange'>Точность:     0.5371024734982333</font>"
      ],
      "text/plain": [
       "<IPython.core.display.HTML object>"
      ]
     },
     "metadata": {},
     "output_type": "display_data"
    },
    {
     "data": {
      "text/html": [
       "<font color='orange'>AUC-ROC:     0.8564335730379525</font>"
      ],
      "text/plain": [
       "<IPython.core.display.HTML object>"
      ]
     },
     "metadata": {},
     "output_type": "display_data"
    }
   ],
   "source": [
    "model_forest_best = RandomForestClassifier(random_state=12345, max_depth=best_forest_depth_up,n_estimators=best_forest_est_up)\n",
    "model_forest_best.fit(features_upsampled,target_upsampled)\n",
    "prediction_forest_best = model_forest_best.predict(features_valid)\n",
    "\n",
    "probabilities_one_valid_forest_up = display_met(model_forest_best,target_valid,prediction_forest_best,'orange')\n",
    "fpr_forest, tpr_forest, thresholds_forest = roc_curve(target_valid, probabilities_one_valid_forest_up)\n",
    "# Оценим метрики лучшей модели Случайного леса."
   ]
  },
  {
   "cell_type": "code",
   "execution_count": 31,
   "id": "dc00ed5f",
   "metadata": {
    "ExecuteTime": {
     "end_time": "2022-05-24T09:57:41.967827Z",
     "start_time": "2022-05-24T09:57:41.937905Z"
    }
   },
   "outputs": [
    {
     "data": {
      "text/html": [
       "<font color='green'>Оценка точности классификации:     0.6985</font>"
      ],
      "text/plain": [
       "<IPython.core.display.HTML object>"
      ]
     },
     "metadata": {},
     "output_type": "display_data"
    },
    {
     "data": {
      "text/html": [
       "<font color='green'>Полнота:     0.6524822695035462</font>"
      ],
      "text/plain": [
       "<IPython.core.display.HTML object>"
      ]
     },
     "metadata": {},
     "output_type": "display_data"
    },
    {
     "data": {
      "text/html": [
       "<font color='green'>Точность:     0.3770491803278688</font>"
      ],
      "text/plain": [
       "<IPython.core.display.HTML object>"
      ]
     },
     "metadata": {},
     "output_type": "display_data"
    },
    {
     "data": {
      "text/html": [
       "<font color='green'>AUC-ROC:     0.738656005132887</font>"
      ],
      "text/plain": [
       "<IPython.core.display.HTML object>"
      ]
     },
     "metadata": {},
     "output_type": "display_data"
    }
   ],
   "source": [
    "probabilities_one_valid_log_up = display_met(model_log_reg,target_valid,predicted_valid_log_up,'green')\n",
    "fpr_log, tpr_log, thresholds_log = roc_curve(target_valid, probabilities_one_valid_log_up)\n",
    "# Оценим метрики лучшей модели Логистической регрессии."
   ]
  },
  {
   "cell_type": "markdown",
   "id": "1f159536",
   "metadata": {},
   "source": [
    "### Построим кривые AUC-ROC всех моделей"
   ]
  },
  {
   "cell_type": "code",
   "execution_count": 32,
   "id": "a49ade8f",
   "metadata": {
    "ExecuteTime": {
     "end_time": "2022-05-24T09:57:42.110446Z",
     "start_time": "2022-05-24T09:57:41.968825Z"
    }
   },
   "outputs": [
    {
     "data": {
      "text/plain": [
       "<Figure size 432x288 with 0 Axes>"
      ]
     },
     "metadata": {},
     "output_type": "display_data"
    },
    {
     "data": {
      "image/png": "[encoded data removed]",
      "text/plain": [
       "<Figure size 720x576 with 1 Axes>"
      ]
     },
     "metadata": {
      "needs_background": "light"
     },
     "output_type": "display_data"
    }
   ],
   "source": [
    "plt.figure()\n",
    "\n",
    "plt.figure(figsize=(10,8))\n",
    "\n",
    "\n",
    "plt.plot([0, 1], [0, 1], linestyle='--')\n",
    "plt.xlim([0.0, 1.0])\n",
    "plt.ylim([0.0, 1.0])\n",
    "\n",
    "plt.plot(fpr_tree,tpr_tree)\n",
    "plt.plot(fpr_forest,tpr_forest)\n",
    "plt.plot(fpr_log,tpr_log)\n",
    "\n",
    "plt.xlabel('False Positive Rate')\n",
    "plt.ylabel('True Positive Rate')\n",
    "plt.title('ROC-кривая')\n",
    "plt.legend(('Случайная модель','Дерево решения','Случайный лес','Логистическая регрессия'),\n",
    "           loc='lower right', fontsize='x-large') \n",
    "plt.show()\n",
    "\n",
    "# Получим значения FPR, значения TPR и рассмотренные пороги для каждой модели.\n",
    "# Построим кривые и сравним со случайной моделью."
   ]
  },
  {
   "cell_type": "markdown",
   "id": "4c6cd459",
   "metadata": {},
   "source": [
    "### Вывод после увеличения выборки"
   ]
  },
  {
   "cell_type": "markdown",
   "id": "e92ad4be",
   "metadata": {},
   "source": [
    "*Значения f1 меры на всех моделях увеличилось, наилучшие показатели у модели `Cлучайного леса`. Попробуем уменьшить количество отрицательных ответов.*"
   ]
  },
  {
   "cell_type": "markdown",
   "id": "24d35709",
   "metadata": {},
   "source": [
    "### Уменьшение выборки"
   ]
  },
  {
   "cell_type": "code",
   "execution_count": 33,
   "id": "98df9ca5",
   "metadata": {
    "ExecuteTime": {
     "end_time": "2022-05-24T09:57:42.126403Z",
     "start_time": "2022-05-24T09:57:42.111444Z"
    }
   },
   "outputs": [],
   "source": [
    "def downsample(features, target, fraction):\n",
    "    \"\"\"Функция разделяет признаки на отрицательные и положительные, уменьшает количество отрицательных, \n",
    "    собирает их обратно и перемешивает данные. На выходе получаем уменьшенную выборку за счет отрицательных ответов.\n",
    "    \"\"\"\n",
    "    features_zeros = features[target == 0]\n",
    "    features_ones = features[target == 1]\n",
    "    target_zeros = target[target == 0]\n",
    "    target_ones = target[target == 1]\n",
    "\n",
    "    features_downsampled = pd.concat(\n",
    "        [features_zeros.sample(frac=fraction, random_state=12345)] + [features_ones])\n",
    "    target_downsampled = pd.concat(\n",
    "        [target_zeros.sample(frac=fraction, random_state=12345)] + [target_ones])\n",
    "    \n",
    "    features_downsampled, target_downsampled = shuffle(\n",
    "        features_downsampled, target_downsampled, random_state=12345)\n",
    "    \n",
    "    return features_downsampled, target_downsampled\n",
    "\n",
    "features_downsampled, target_downsampled = downsample(features_train, target_train, 0.25)"
   ]
  },
  {
   "cell_type": "code",
   "execution_count": 34,
   "id": "13ebf8ee",
   "metadata": {
    "ExecuteTime": {
     "end_time": "2022-05-24T09:57:42.539499Z",
     "start_time": "2022-05-24T09:57:42.127401Z"
    }
   },
   "outputs": [
    {
     "data": {
      "text/html": [
       "<font color='blue'>Cреднее гармоническое полноты и точности модели на валидационной выборке:0.6074380165289257</font>"
      ],
      "text/plain": [
       "<IPython.core.display.HTML object>"
      ]
     },
     "metadata": {},
     "output_type": "display_data"
    },
    {
     "data": {
      "text/html": [
       "<font color='blue'>Максимально допустимая глубина дерева: 5</font>"
      ],
      "text/plain": [
       "<IPython.core.display.HTML object>"
      ]
     },
     "metadata": {},
     "output_type": "display_data"
    },
    {
     "name": "stdout",
     "output_type": "stream",
     "text": [
      "Wall time: 398 ms\n"
     ]
    }
   ],
   "source": [
    "%%time\n",
    "\n",
    "best_f1_tree = 0\n",
    "\n",
    "\n",
    "for depth in range(1, 40,1):\n",
    "    model_tree_down = DecisionTreeClassifier(random_state=12345, max_depth=depth)\n",
    "    model_tree_down.fit(features_downsampled, target_downsampled)\n",
    "    predicted_valid_tree_down = model_tree_down.predict(features_valid)\n",
    "    f1_tree_score_down = f1_score(target_valid, predicted_valid_tree_down)\n",
    "    \n",
    "    if best_f1_tree < f1_tree_score_down:\n",
    "        best_f1_tree = f1_tree_score_down\n",
    "        best_tree_depth = depth\n",
    "display(HTML(f\"<font color='blue'>Cреднее гармоническое полноты и точности модели на валидационной выборке:\\\n",
    "{best_f1_tree}</font>\"))  \n",
    "display(HTML(f\"<font color='blue'>Максимально допустимая глубина дерева: {best_tree_depth}</font>\"))\n",
    "\n",
    "# Обучили модель Дерева решений  \n",
    "# на уменьшенной выборке.\n",
    "# Посчитали f1 меру модели."
   ]
  },
  {
   "cell_type": "code",
   "execution_count": 35,
   "id": "953de8ac",
   "metadata": {
    "ExecuteTime": {
     "end_time": "2022-05-24T09:57:44.653693Z",
     "start_time": "2022-05-24T09:57:42.540259Z"
    }
   },
   "outputs": [
    {
     "data": {
      "text/html": [
       "<font color='blue'>Cреднее гармоническое полноты и точности модели на валидационной выборке:0.5941893158388004</font>"
      ],
      "text/plain": [
       "<IPython.core.display.HTML object>"
      ]
     },
     "metadata": {},
     "output_type": "display_data"
    },
    {
     "data": {
      "text/html": [
       "<font color='blue'>Максимально допустимая глубина дерева: 8</font>"
      ],
      "text/plain": [
       "<IPython.core.display.HTML object>"
      ]
     },
     "metadata": {},
     "output_type": "display_data"
    },
    {
     "data": {
      "text/html": [
       "<font color='blue'>Количество деревьев наилучшей модели Случайный лес: 149</font>"
      ],
      "text/plain": [
       "<IPython.core.display.HTML object>"
      ]
     },
     "metadata": {},
     "output_type": "display_data"
    },
    {
     "name": "stdout",
     "output_type": "stream",
     "text": [
      "Wall time: 2.1 s\n"
     ]
    }
   ],
   "source": [
    "%%time\n",
    "\n",
    "best_f1_forest = 0\n",
    "\n",
    "for depth in range(7,10,1):\n",
    "    for est in range(148,150,1):\n",
    "        model_forest_down = RandomForestClassifier(random_state=12345, max_depth=depth, n_estimators=est) \n",
    "        model_forest_down.fit(features_downsampled, target_downsampled)\n",
    "        predicted_valid_forest_down = model_forest_down.predict(features_valid)\n",
    "        f1_forest_score_down = f1_score(target_valid, predicted_valid_forest_down)\n",
    "     \n",
    "        \n",
    "        if best_f1_forest < f1_forest_score_down:\n",
    "            best_f1_forest = f1_forest_score_down\n",
    "            best_forest_depth = depth\n",
    "            best_forest_est = est\n",
    "display(HTML(f\"<font color='blue'>Cреднее гармоническое полноты и точности модели на валидационной выборке:\\\n",
    "{best_f1_forest}</font>\"))  \n",
    "display(HTML(f\"<font color='blue'>Максимально допустимая глубина дерева: {best_forest_depth}</font>\"))\n",
    "display(HTML(f\"<font color='blue'>Количество деревьев наилучшей модели Случайный лес: {best_forest_est}</font>\"))\n",
    "\n",
    "# Обучили модель случайного леса \n",
    "# на уменьшенной выборке.\n",
    "# Посчитали f1 меру модели."
   ]
  },
  {
   "cell_type": "code",
   "execution_count": 36,
   "id": "ba5f1b3d",
   "metadata": {
    "ExecuteTime": {
     "end_time": "2022-05-24T09:57:44.685581Z",
     "start_time": "2022-05-24T09:57:44.654664Z"
    }
   },
   "outputs": [
    {
     "data": {
      "text/html": [
       "<font color='blue'>Cреднее гармоническое полноты и точности модели на валидационной выборке:0.4779220779220779</font>"
      ],
      "text/plain": [
       "<IPython.core.display.HTML object>"
      ]
     },
     "metadata": {},
     "output_type": "display_data"
    },
    {
     "name": "stdout",
     "output_type": "stream",
     "text": [
      "Wall time: 15.9 ms\n"
     ]
    }
   ],
   "source": [
    "%%time\n",
    "model_log_reg_down = LogisticRegression(random_state=12345)\n",
    "model_log_reg_down.fit(features_downsampled,target_downsampled) \n",
    "predicted_valid_log_down = model_log_reg_down.predict(features_valid)\n",
    "f1_log_score_down = f1_score(target_valid, predicted_valid_log_down)\n",
    "\n",
    "\n",
    "display(HTML(f\"<font color='blue'>Cреднее гармоническое полноты и точности модели на валидационной выборке:\\\n",
    "{f1_log_score_up}</font>\"))\n",
    "\n",
    "\n",
    "# обучили модель логистической регрессии на уменьшенной выборке.\n",
    "# Получили метрику качества модели."
   ]
  },
  {
   "cell_type": "markdown",
   "id": "f44c7ff8",
   "metadata": {},
   "source": [
    "### Вывод после уменьшения сборки"
   ]
  },
  {
   "cell_type": "markdown",
   "id": "32adcab7",
   "metadata": {},
   "source": [
    "*Результаты вычисления f1 меры после уменьшения выборки снизились для модели случайного леса и повысились для модели решающего дерева, а вот для модели логоческой регрессии никаких изменений данной метрики не произошло. Ввиду того, что наиболее удачная(вплане f1 меры) модель - модель случайного леса на увеличенной выборке, поэтому будем дальше работать с предыдущими моделями расчитанными методом увеличения выборки*"
   ]
  },
  {
   "cell_type": "markdown",
   "id": "629df977",
   "metadata": {},
   "source": [
    "### Взвешивание классов"
   ]
  },
  {
   "cell_type": "markdown",
   "id": "4313f9c5",
   "metadata": {},
   "source": [
    "#### Модель решающего дерева"
   ]
  },
  {
   "cell_type": "code",
   "execution_count": 37,
   "id": "cdb24513",
   "metadata": {
    "ExecuteTime": {
     "end_time": "2022-05-24T09:57:45.051758Z",
     "start_time": "2022-05-24T09:57:44.686578Z"
    }
   },
   "outputs": [
    {
     "data": {
      "text/html": [
       "<font color='blue'>Cреднее гармоническое полноты и точности модели на валидационной выборке:0.5809128630705395</font>"
      ],
      "text/plain": [
       "<IPython.core.display.HTML object>"
      ]
     },
     "metadata": {},
     "output_type": "display_data"
    },
    {
     "data": {
      "text/html": [
       "<font color='blue'>Максимально допустимая глубина дерева: 5</font>"
      ],
      "text/plain": [
       "<IPython.core.display.HTML object>"
      ]
     },
     "metadata": {},
     "output_type": "display_data"
    },
    {
     "name": "stdout",
     "output_type": "stream",
     "text": [
      "Wall time: 346 ms\n"
     ]
    }
   ],
   "source": [
    "%%time\n",
    "\n",
    "best_f1_tree_up_bal = 0\n",
    "\n",
    "\n",
    "for depth in range(1, 16,1):\n",
    "    model_tree_up_bal = DecisionTreeClassifier(random_state=12345, class_weight='balanced', max_depth=depth)\n",
    "    model_tree_up_bal.fit(features_upsampled,target_upsampled)\n",
    "    predicted_valid_tree_up_bal = model_tree_up_bal.predict(features_valid)\n",
    "    f1_tree_score_up_bal = f1_score(target_valid, predicted_valid_tree_up_bal)\n",
    "    \n",
    "    if best_f1_tree_up_bal < f1_tree_score_up_bal:\n",
    "        best_f1_tree_up_bal = f1_tree_score_up_bal\n",
    "        best_tree_depth_bal = depth\n",
    "display(HTML(f\"<font color='blue'>Cреднее гармоническое полноты и точности модели на валидационной выборке:\\\n",
    "{best_f1_tree_up_bal}</font>\"))  \n",
    "display(HTML(f\"<font color='blue'>Максимально допустимая глубина дерева: {best_tree_depth_bal}</font>\"))\n",
    "\n",
    "# Обучили модель Дерева решений с параметром class_weight балансирующим веса классов\n",
    "# на увеличенной выборке.\n",
    "# Посчитали f1 меру модели."
   ]
  },
  {
   "cell_type": "markdown",
   "id": "e1d42697",
   "metadata": {},
   "source": [
    "#### Модель случайного леса"
   ]
  },
  {
   "cell_type": "code",
   "execution_count": 38,
   "id": "0e71af32",
   "metadata": {
    "ExecuteTime": {
     "end_time": "2022-05-24T09:58:04.561168Z",
     "start_time": "2022-05-24T09:57:45.052728Z"
    }
   },
   "outputs": [
    {
     "data": {
      "text/html": [
       "<font color='blue'>Cреднее гармоническое полноты и точности модели на валидационной выборке:0.6217948717948718</font>"
      ],
      "text/plain": [
       "<IPython.core.display.HTML object>"
      ]
     },
     "metadata": {},
     "output_type": "display_data"
    },
    {
     "data": {
      "text/html": [
       "<font color='blue'>Максимально допустимая глубина дерева: 10</font>"
      ],
      "text/plain": [
       "<IPython.core.display.HTML object>"
      ]
     },
     "metadata": {},
     "output_type": "display_data"
    },
    {
     "data": {
      "text/html": [
       "<font color='blue'>Количество деревьев наилучшей модели Случайный лес: 133</font>"
      ],
      "text/plain": [
       "<IPython.core.display.HTML object>"
      ]
     },
     "metadata": {},
     "output_type": "display_data"
    },
    {
     "name": "stdout",
     "output_type": "stream",
     "text": [
      "Wall time: 19.5 s\n"
     ]
    }
   ],
   "source": [
    "%%time\n",
    "\n",
    "best_f1_forest_up_bal = 0\n",
    "\n",
    "for depth in range(7,12,1):\n",
    "    for est in range(130,135,1):\n",
    "        model_forest_up_bal = RandomForestClassifier(random_state=12345, max_depth=depth, n_estimators=est, \n",
    "                                                     class_weight='balanced') \n",
    "        model_forest_up_bal.fit(features_upsampled,target_upsampled)\n",
    "        predicted_valid_forest_up_bal = model_forest_up_bal.predict(features_valid)\n",
    "        f1_forest_score_up_bal = f1_score(target_valid, predicted_valid_forest_up_bal)\n",
    "     \n",
    "        \n",
    "        if best_f1_forest_up_bal < f1_forest_score_up_bal:\n",
    "            best_f1_forest_up_bal = f1_forest_score_up_bal\n",
    "            best_forest_depth_up_bal = depth\n",
    "            best_forest_est_up_bal = est\n",
    "display(HTML(f\"<font color='blue'>Cреднее гармоническое полноты и точности модели на валидационной выборке:\\\n",
    "{best_f1_forest_up_bal}</font>\"))  \n",
    "display(HTML(f\"<font color='blue'>Максимально допустимая глубина дерева: {best_forest_depth_up_bal}</font>\"))\n",
    "display(HTML(f\"<font color='blue'>Количество деревьев наилучшей модели Случайный лес: {best_forest_est_up_bal}</font>\"))\n",
    "\n",
    "# Обучили модель случайного леса с параметром class_weight уравнивающим значения классов\n",
    "# на увеличенной выборке.\n",
    "# Посчитали f1 меру модели."
   ]
  },
  {
   "cell_type": "markdown",
   "id": "044a40ce",
   "metadata": {},
   "source": [
    "#### Модель логической регрессии"
   ]
  },
  {
   "cell_type": "code",
   "execution_count": 39,
   "id": "8de0a67b",
   "metadata": {
    "ExecuteTime": {
     "end_time": "2022-05-24T09:58:04.608047Z",
     "start_time": "2022-05-24T09:58:04.563185Z"
    }
   },
   "outputs": [
    {
     "data": {
      "text/html": [
       "<font color='blue'>Cреднее гармоническое полноты и точности модели на валидационной выборке:0.4797238999137188</font>"
      ],
      "text/plain": [
       "<IPython.core.display.HTML object>"
      ]
     },
     "metadata": {},
     "output_type": "display_data"
    },
    {
     "name": "stdout",
     "output_type": "stream",
     "text": [
      "Wall time: 25.9 ms\n"
     ]
    }
   ],
   "source": [
    "%%time\n",
    "model_log_reg_up_bal = LogisticRegression(random_state=12345,solver='liblinear', class_weight='balanced')\n",
    "model_log_reg_up_bal.fit(features_upsampled,target_upsampled) \n",
    "predicted_valid_log_up_bal = model_log_reg_up_bal.predict(features_valid)\n",
    "f1_log_score_up_bal = f1_score(target_valid, predicted_valid_log_up_bal)\n",
    "\n",
    "\n",
    "display(HTML(f\"<font color='blue'>Cреднее гармоническое полноты и точности модели на валидационной выборке:\\\n",
    "{f1_log_score_up_bal}</font>\"))\n",
    "\n",
    "\n",
    "# Обучили модель логистической регрессии с параметром class_weight уравнивающим значения классов\n",
    "# на увеличенной выборке.\n",
    "# Посчитали f1 меру модели."
   ]
  },
  {
   "cell_type": "markdown",
   "id": "be2e48ee",
   "metadata": {},
   "source": [
    "### Вывод после взвешивания классов "
   ]
  },
  {
   "cell_type": "markdown",
   "id": "6d99aaee",
   "metadata": {},
   "source": [
    "*Взвешивание классов улучшило f1 меру полученных нами моделей. Лучшие показатели  у модели `Случайного леса`, далее улучшать и тестировать будем данную модель, как основную.*"
   ]
  },
  {
   "cell_type": "markdown",
   "id": "39a04b52",
   "metadata": {},
   "source": [
    "### Улучшение параметров выбранной модели методом GridSearchCV"
   ]
  },
  {
   "cell_type": "code",
   "execution_count": 40,
   "id": "c57eee09",
   "metadata": {
    "ExecuteTime": {
     "end_time": "2022-05-24T09:58:04.624004Z",
     "start_time": "2022-05-24T09:58:04.609044Z"
    }
   },
   "outputs": [],
   "source": [
    "forest_params = {'max_depth': range(7,12),'n_estimators': range(130,150)}\n",
    "\n",
    "# Создадим словарь с параметрами, которые будем перебирать."
   ]
  },
  {
   "cell_type": "code",
   "execution_count": 41,
   "id": "55455ddd",
   "metadata": {
    "ExecuteTime": {
     "end_time": "2022-05-24T09:58:04.639961Z",
     "start_time": "2022-05-24T09:58:04.625002Z"
    }
   },
   "outputs": [],
   "source": [
    "f1 = make_scorer(f1_score , average='binary')\n",
    "\n",
    "# Создадим счетчик f1 меры."
   ]
  },
  {
   "cell_type": "code",
   "execution_count": 42,
   "id": "0cd171d4",
   "metadata": {
    "ExecuteTime": {
     "end_time": "2022-05-24T09:58:04.655919Z",
     "start_time": "2022-05-24T09:58:04.640959Z"
    }
   },
   "outputs": [],
   "source": [
    "best_grid_model = RandomForestClassifier(random_state=12345)"
   ]
  },
  {
   "cell_type": "code",
   "execution_count": 43,
   "id": "193131ab",
   "metadata": {
    "ExecuteTime": {
     "end_time": "2022-05-24T09:58:04.671876Z",
     "start_time": "2022-05-24T09:58:04.656917Z"
    }
   },
   "outputs": [],
   "source": [
    "forest_grid = GridSearchCV(best_grid_model,forest_params,cv=5, n_jobs=-1,scoring=f1,verbose=True)"
   ]
  },
  {
   "cell_type": "code",
   "execution_count": 44,
   "id": "ac6d0302",
   "metadata": {
    "ExecuteTime": {
     "end_time": "2022-05-24T09:59:12.309825Z",
     "start_time": "2022-05-24T09:58:04.672874Z"
    }
   },
   "outputs": [
    {
     "name": "stdout",
     "output_type": "stream",
     "text": [
      "Fitting 5 folds for each of 100 candidates, totalling 500 fits\n",
      "Wall time: 1min 7s\n"
     ]
    },
    {
     "data": {
      "text/plain": [
       "GridSearchCV(cv=5, estimator=RandomForestClassifier(random_state=12345),\n",
       "             n_jobs=-1,\n",
       "             param_grid={'max_depth': range(7, 12),\n",
       "                         'n_estimators': range(130, 150)},\n",
       "             scoring=make_scorer(f1_score, average=binary), verbose=True)"
      ]
     },
     "execution_count": 44,
     "metadata": {},
     "output_type": "execute_result"
    }
   ],
   "source": [
    "%%time\n",
    "forest_grid.fit(features_upsampled,target_upsampled)\n",
    "# найдем наилучшие параметры на увеличенной выборке обучаемых данных"
   ]
  },
  {
   "cell_type": "code",
   "execution_count": 45,
   "id": "2e53148e",
   "metadata": {
    "ExecuteTime": {
     "end_time": "2022-05-24T09:59:12.325779Z",
     "start_time": "2022-05-24T09:59:12.310801Z"
    }
   },
   "outputs": [
    {
     "data": {
      "text/plain": [
       "{'max_depth': 11, 'n_estimators': 140}"
      ]
     },
     "execution_count": 45,
     "metadata": {},
     "output_type": "execute_result"
    }
   ],
   "source": [
    "forest_grid.best_params_\n",
    "\n",
    "# Параметры  лучшей модели."
   ]
  },
  {
   "cell_type": "markdown",
   "id": "4b5e3547",
   "metadata": {},
   "source": [
    "### Обучим модель с лучшими параметрами"
   ]
  },
  {
   "cell_type": "code",
   "execution_count": 46,
   "id": "e025ddfb",
   "metadata": {
    "ExecuteTime": {
     "end_time": "2022-05-24T09:59:13.311972Z",
     "start_time": "2022-05-24T09:59:12.327745Z"
    }
   },
   "outputs": [
    {
     "data": {
      "text/html": [
       "<font color='blue'>Cреднее гармоническое полноты и точности лучшей модели на валидационной выборке:0.6109253065774806</font>"
      ],
      "text/plain": [
       "<IPython.core.display.HTML object>"
      ]
     },
     "metadata": {},
     "output_type": "display_data"
    }
   ],
   "source": [
    "best_model = RandomForestClassifier(random_state=12345, max_depth=11, n_estimators=140, \n",
    "                                                     class_weight='balanced') \n",
    "best_model.fit(features_upsampled,target_upsampled)\n",
    "predicted_valid_best_model = best_model.predict(features_valid)\n",
    "f1_best_model = f1_score(target_valid, predicted_valid_best_model)\n",
    "\n",
    "display(HTML(f\"<font color='blue'>Cреднее гармоническое полноты и точности лучшей модели на валидационной выборке:\\\n",
    "{f1_best_model}</font>\"))\n",
    "\n",
    "# Обучим лучшую модель случайного леса с параметрами max_depth=11, n_estimators=148\n",
    "# и выведем лучшую метрику f1."
   ]
  },
  {
   "cell_type": "markdown",
   "id": "e1b34ff5",
   "metadata": {},
   "source": [
    "## Тестирование модели"
   ]
  },
  {
   "cell_type": "code",
   "execution_count": 47,
   "id": "264667ab",
   "metadata": {
    "ExecuteTime": {
     "end_time": "2022-05-24T09:59:13.374642Z",
     "start_time": "2022-05-24T09:59:13.313186Z"
    }
   },
   "outputs": [
    {
     "data": {
      "text/html": [
       "<font color='blue'>Cреднее гармоническое полноты и точности лучшей модели на тестовой выборке:0.6213151927437641</font>"
      ],
      "text/plain": [
       "<IPython.core.display.HTML object>"
      ]
     },
     "metadata": {},
     "output_type": "display_data"
    }
   ],
   "source": [
    "best_model\n",
    "prediction_best = best_model.predict(features_test)\n",
    "f1_best_test = f1_score(target_test, prediction_best)\n",
    "\n",
    "display(HTML(f\"<font color='blue'>Cреднее гармоническое полноты и точности лучшей модели на тестовой выборке:\\\n",
    "{f1_best_test}</font>\"))\n",
    "\n",
    "# Получим предсказания по тестовым признакам."
   ]
  },
  {
   "cell_type": "code",
   "execution_count": 48,
   "id": "2d1ab436",
   "metadata": {
    "ExecuteTime": {
     "end_time": "2022-05-24T09:59:13.436480Z",
     "start_time": "2022-05-24T09:59:13.375642Z"
    }
   },
   "outputs": [
    {
     "data": {
      "text/html": [
       "<font color='orange'>Оценка точности классификации: 0.833</font>"
      ],
      "text/plain": [
       "<IPython.core.display.HTML object>"
      ]
     },
     "metadata": {},
     "output_type": "display_data"
    },
    {
     "data": {
      "text/html": [
       "<font color='orange'>Полнота: 0.6555023923444976</font>"
      ],
      "text/plain": [
       "<IPython.core.display.HTML object>"
      ]
     },
     "metadata": {},
     "output_type": "display_data"
    },
    {
     "data": {
      "text/html": [
       "<font color='orange'>Точность: 0.5905172413793104</font>"
      ],
      "text/plain": [
       "<IPython.core.display.HTML object>"
      ]
     },
     "metadata": {},
     "output_type": "display_data"
    },
    {
     "data": {
      "text/html": [
       "<font color='orange'>AUC-ROC: 0.8515340039559881</font>"
      ],
      "text/plain": [
       "<IPython.core.display.HTML object>"
      ]
     },
     "metadata": {},
     "output_type": "display_data"
    }
   ],
   "source": [
    "display(HTML(f\"<font color='orange'>Оценка точности классификации: \\\n",
    "{accuracy_score(target_test,prediction_best)}</font>\"))\n",
    "display(HTML(f\"<font color='orange'>Полнота: \\\n",
    "{recall_score(target_test,prediction_best)}</font>\"))\n",
    "display(HTML(f\"<font color='orange'>Точность: \\\n",
    "{precision_score(target_test,prediction_best)}</font>\"))\n",
    "\n",
    "probabilities_test = best_model.predict_proba(features_test)\n",
    "probabilities_one_test = probabilities_test[:, 1]\n",
    "display(HTML(f\"<font color='orange'>AUC-ROC: \\\n",
    "{roc_auc_score(target_test,probabilities_one_test)}</font>\"))\n",
    "fpr_test, tpr_test, thresholds_test = roc_curve(target_test, probabilities_one_test)\n",
    "\n",
    "# Оценим метрики лучшей модели Случайного леса на тестовой выборке."
   ]
  },
  {
   "cell_type": "code",
   "execution_count": 49,
   "id": "f846c00a",
   "metadata": {
    "ExecuteTime": {
     "end_time": "2022-05-24T09:59:13.564142Z",
     "start_time": "2022-05-24T09:59:13.437477Z"
    }
   },
   "outputs": [
    {
     "data": {
      "text/plain": [
       "<Figure size 432x288 with 0 Axes>"
      ]
     },
     "metadata": {},
     "output_type": "display_data"
    },
    {
     "data": {
      "image/png": "[encoded data removed]",
      "text/plain": [
       "<Figure size 720x576 with 1 Axes>"
      ]
     },
     "metadata": {
      "needs_background": "light"
     },
     "output_type": "display_data"
    }
   ],
   "source": [
    "plt.figure()\n",
    "\n",
    "plt.figure(figsize=(10,8))\n",
    "\n",
    "\n",
    "plt.plot([0, 1], [0, 1], linestyle='--')\n",
    "plt.xlim([0.0, 1.0])\n",
    "plt.ylim([0.0, 1.0])\n",
    "\n",
    "plt.plot(fpr_test, tpr_test)\n",
    "\n",
    "plt.xlabel('False Positive Rate')\n",
    "plt.ylabel('True Positive Rate')\n",
    "plt.title('ROC-кривая')\n",
    "plt.legend(('Случайная модель','Дерево решения','Случайный лес','Логистическая регрессия'),\n",
    "           loc='lower right', fontsize='x-large') \n",
    "plt.show()\n",
    "\n",
    "# Построим кривую тестовой модели и сравним со случайной моделью."
   ]
  },
  {
   "cell_type": "markdown",
   "id": "ef7c345d",
   "metadata": {},
   "source": [
    "### Вывод"
   ]
  },
  {
   "cell_type": "markdown",
   "id": "d7efdcf3",
   "metadata": {},
   "source": [
    "*Подобранная нами модель на алгоритме `RandomForestClassifier` с параметрами `max_depth`=11, `n_estimators`=148, `class_weight`='balanced' превысила минимальное заданное значение f1 меры в 0,59.  \n",
    "Значение f1 меры подобранной модели - 0,63  \n",
    "AUC-ROC подобранной модели -  0.85.  \n",
    "f1 мера - это среднее гармоническое полноты и точности(оценивает как хорошо модели удалось прогнозирование положительного класса и не переусердствовала ли она).\n",
    "AUC-ROC оценивает вероятность того, что случайно выбранный положительный объект будет будет иметь более высокую вероятность быть положительным.  \n",
    "AUC-ROC более устойчив к несбалансированным моделям нежели f1 мера, его показатели на первичных(несбалансированных) моделях практически не изменились, а вот показатель f1 меры увеличивался по мере устранения дисбаланса в данных.*"
   ]
  }
 ],
 "metadata": {
  "ExecuteTimeLog": [
   {
    "duration": 117,
    "start_time": "2022-03-26T20:56:54.968Z"
   },
   {
    "duration": 3645,
    "start_time": "2022-03-26T20:57:06.184Z"
   },
   {
    "duration": 3,
    "start_time": "2022-03-26T20:57:09.885Z"
   },
   {
    "duration": 408,
    "start_time": "2022-03-26T20:57:09.890Z"
   },
   {
    "duration": 0,
    "start_time": "2022-03-26T20:57:10.303Z"
   },
   {
    "duration": 0,
    "start_time": "2022-03-26T20:57:10.305Z"
   },
   {
    "duration": 0,
    "start_time": "2022-03-26T20:57:10.306Z"
   },
   {
    "duration": 0,
    "start_time": "2022-03-26T20:57:10.308Z"
   },
   {
    "duration": 0,
    "start_time": "2022-03-26T20:57:10.309Z"
   },
   {
    "duration": 0,
    "start_time": "2022-03-26T20:57:10.310Z"
   },
   {
    "duration": 0,
    "start_time": "2022-03-26T20:57:10.313Z"
   },
   {
    "duration": 0,
    "start_time": "2022-03-26T20:57:10.314Z"
   },
   {
    "duration": 0,
    "start_time": "2022-03-26T20:57:10.315Z"
   },
   {
    "duration": 0,
    "start_time": "2022-03-26T20:57:10.317Z"
   },
   {
    "duration": 0,
    "start_time": "2022-03-26T20:57:10.318Z"
   },
   {
    "duration": 0,
    "start_time": "2022-03-26T20:57:10.384Z"
   },
   {
    "duration": 0,
    "start_time": "2022-03-26T20:57:10.387Z"
   },
   {
    "duration": 0,
    "start_time": "2022-03-26T20:57:10.388Z"
   },
   {
    "duration": 0,
    "start_time": "2022-03-26T20:57:10.390Z"
   },
   {
    "duration": 0,
    "start_time": "2022-03-26T20:57:10.392Z"
   },
   {
    "duration": 0,
    "start_time": "2022-03-26T20:57:10.393Z"
   },
   {
    "duration": 0,
    "start_time": "2022-03-26T20:57:10.394Z"
   },
   {
    "duration": 0,
    "start_time": "2022-03-26T20:57:10.396Z"
   },
   {
    "duration": 0,
    "start_time": "2022-03-26T20:57:10.397Z"
   },
   {
    "duration": 0,
    "start_time": "2022-03-26T20:57:10.398Z"
   },
   {
    "duration": 0,
    "start_time": "2022-03-26T20:57:10.400Z"
   },
   {
    "duration": 1,
    "start_time": "2022-03-26T20:57:10.401Z"
   },
   {
    "duration": 0,
    "start_time": "2022-03-26T20:57:10.403Z"
   },
   {
    "duration": 0,
    "start_time": "2022-03-26T20:57:10.405Z"
   },
   {
    "duration": 0,
    "start_time": "2022-03-26T20:57:10.406Z"
   },
   {
    "duration": 0,
    "start_time": "2022-03-26T20:57:10.407Z"
   },
   {
    "duration": 0,
    "start_time": "2022-03-26T20:57:10.409Z"
   },
   {
    "duration": 0,
    "start_time": "2022-03-26T20:57:10.410Z"
   },
   {
    "duration": 0,
    "start_time": "2022-03-26T20:57:10.412Z"
   },
   {
    "duration": 0,
    "start_time": "2022-03-26T20:57:10.414Z"
   },
   {
    "duration": 0,
    "start_time": "2022-03-26T20:57:10.484Z"
   },
   {
    "duration": 0,
    "start_time": "2022-03-26T20:57:10.485Z"
   },
   {
    "duration": 0,
    "start_time": "2022-03-26T20:57:10.487Z"
   },
   {
    "duration": 0,
    "start_time": "2022-03-26T20:57:10.489Z"
   },
   {
    "duration": 0,
    "start_time": "2022-03-26T20:57:10.491Z"
   },
   {
    "duration": 0,
    "start_time": "2022-03-26T20:57:10.492Z"
   },
   {
    "duration": 0,
    "start_time": "2022-03-26T20:57:10.493Z"
   },
   {
    "duration": 0,
    "start_time": "2022-03-26T20:57:10.495Z"
   },
   {
    "duration": 0,
    "start_time": "2022-03-26T20:57:10.496Z"
   },
   {
    "duration": 0,
    "start_time": "2022-03-26T20:57:10.498Z"
   },
   {
    "duration": 0,
    "start_time": "2022-03-26T20:57:10.499Z"
   },
   {
    "duration": 0,
    "start_time": "2022-03-26T20:57:10.500Z"
   },
   {
    "duration": 0,
    "start_time": "2022-03-26T20:57:10.502Z"
   },
   {
    "duration": 0,
    "start_time": "2022-03-26T20:57:10.504Z"
   },
   {
    "duration": 0,
    "start_time": "2022-03-26T20:57:10.506Z"
   },
   {
    "duration": 0,
    "start_time": "2022-03-26T20:57:10.507Z"
   },
   {
    "duration": 0,
    "start_time": "2022-03-26T20:57:10.509Z"
   },
   {
    "duration": 0,
    "start_time": "2022-03-26T20:57:10.511Z"
   },
   {
    "duration": 0,
    "start_time": "2022-03-26T20:57:10.584Z"
   },
   {
    "duration": 0,
    "start_time": "2022-03-26T20:57:10.585Z"
   },
   {
    "duration": 0,
    "start_time": "2022-03-26T20:57:10.586Z"
   },
   {
    "duration": 0,
    "start_time": "2022-03-26T20:57:10.587Z"
   },
   {
    "duration": 0,
    "start_time": "2022-03-26T20:57:10.589Z"
   },
   {
    "duration": 0,
    "start_time": "2022-03-26T20:57:10.590Z"
   },
   {
    "duration": 0,
    "start_time": "2022-03-26T20:57:10.592Z"
   },
   {
    "duration": 103,
    "start_time": "2022-03-26T20:57:41.312Z"
   },
   {
    "duration": 57,
    "start_time": "2022-03-26T20:57:56.132Z"
   },
   {
    "duration": 28,
    "start_time": "2022-03-26T20:58:02.893Z"
   },
   {
    "duration": 84,
    "start_time": "2022-03-26T20:58:02.923Z"
   },
   {
    "duration": 97,
    "start_time": "2022-03-26T20:58:03.010Z"
   },
   {
    "duration": 85,
    "start_time": "2022-03-26T20:58:03.110Z"
   },
   {
    "duration": 108,
    "start_time": "2022-03-26T20:58:03.197Z"
   },
   {
    "duration": 184,
    "start_time": "2022-03-26T20:58:03.308Z"
   },
   {
    "duration": 95,
    "start_time": "2022-03-26T20:58:03.494Z"
   },
   {
    "duration": 19,
    "start_time": "2022-03-26T20:58:03.592Z"
   },
   {
    "duration": 71,
    "start_time": "2022-03-26T20:58:03.614Z"
   },
   {
    "duration": 8295,
    "start_time": "2022-03-26T20:58:03.689Z"
   },
   {
    "duration": 6,
    "start_time": "2022-03-26T20:58:11.988Z"
   },
   {
    "duration": 96,
    "start_time": "2022-03-26T20:58:11.997Z"
   },
   {
    "duration": 97,
    "start_time": "2022-03-26T20:58:12.096Z"
   },
   {
    "duration": 4,
    "start_time": "2022-03-26T20:58:12.196Z"
   },
   {
    "duration": 92,
    "start_time": "2022-03-26T20:58:12.202Z"
   },
   {
    "duration": 10,
    "start_time": "2022-03-26T20:58:12.296Z"
   },
   {
    "duration": 78,
    "start_time": "2022-03-26T20:58:12.309Z"
   },
   {
    "duration": 23,
    "start_time": "2022-03-26T20:58:12.389Z"
   },
   {
    "duration": 91,
    "start_time": "2022-03-26T20:58:12.414Z"
   },
   {
    "duration": 27,
    "start_time": "2022-03-26T20:58:12.508Z"
   },
   {
    "duration": 155,
    "start_time": "2022-03-26T20:58:12.585Z"
   },
   {
    "duration": 144,
    "start_time": "2022-03-26T20:58:12.743Z"
   },
   {
    "duration": 3439,
    "start_time": "2022-03-26T20:58:12.890Z"
   },
   {
    "duration": 66355,
    "start_time": "2022-03-26T20:58:16.332Z"
   },
   {
    "duration": 199,
    "start_time": "2022-03-26T20:59:22.689Z"
   },
   {
    "duration": 255,
    "start_time": "2022-03-26T20:59:22.891Z"
   },
   {
    "duration": 391,
    "start_time": "2022-03-26T20:59:23.149Z"
   },
   {
    "duration": 340,
    "start_time": "2022-03-26T20:59:23.546Z"
   },
   {
    "duration": 825,
    "start_time": "2022-03-26T20:59:23.889Z"
   },
   {
    "duration": 275,
    "start_time": "2022-03-26T20:59:24.717Z"
   },
   {
    "duration": 1020,
    "start_time": "2022-03-26T20:59:24.995Z"
   },
   {
    "duration": 67,
    "start_time": "2022-03-26T20:59:26.017Z"
   },
   {
    "duration": 20,
    "start_time": "2022-03-26T20:59:26.087Z"
   },
   {
    "duration": 1726,
    "start_time": "2022-03-26T20:59:26.110Z"
   },
   {
    "duration": 85570,
    "start_time": "2022-03-26T20:59:27.839Z"
   },
   {
    "duration": 276,
    "start_time": "2022-03-26T21:00:53.412Z"
   },
   {
    "duration": 432,
    "start_time": "2022-03-26T21:00:53.690Z"
   },
   {
    "duration": 3363,
    "start_time": "2022-03-26T21:00:54.124Z"
   },
   {
    "duration": 463,
    "start_time": "2022-03-26T21:00:57.489Z"
   },
   {
    "duration": 639,
    "start_time": "2022-03-26T21:00:57.955Z"
   },
   {
    "duration": 19,
    "start_time": "2022-03-26T21:00:58.597Z"
   },
   {
    "duration": 3971,
    "start_time": "2022-03-26T21:00:58.619Z"
   },
   {
    "duration": 79497,
    "start_time": "2022-03-26T21:01:02.592Z"
   },
   {
    "duration": 395,
    "start_time": "2022-03-26T21:02:22.092Z"
   },
   {
    "duration": 1414,
    "start_time": "2022-03-26T21:02:22.490Z"
   },
   {
    "duration": 79040,
    "start_time": "2022-03-26T21:02:23.907Z"
   },
   {
    "duration": 239,
    "start_time": "2022-03-26T21:03:42.950Z"
   },
   {
    "duration": 6,
    "start_time": "2022-03-26T21:03:43.192Z"
   },
   {
    "duration": 97,
    "start_time": "2022-03-26T21:03:43.200Z"
   },
   {
    "duration": 8,
    "start_time": "2022-03-26T21:03:43.299Z"
   },
   {
    "duration": 1335882,
    "start_time": "2022-03-26T21:03:43.310Z"
   },
   {
    "duration": 7,
    "start_time": "2022-03-26T21:25:59.195Z"
   },
   {
    "duration": 2106,
    "start_time": "2022-03-26T21:25:59.204Z"
   },
   {
    "duration": 142,
    "start_time": "2022-03-26T21:26:01.313Z"
   },
   {
    "duration": 297,
    "start_time": "2022-03-26T21:26:01.457Z"
   },
   {
    "duration": 279,
    "start_time": "2022-03-26T21:26:01.756Z"
   },
   {
    "duration": 114,
    "start_time": "2022-03-26T21:26:02.041Z"
   },
   {
    "duration": 0,
    "start_time": "2022-03-26T21:26:02.157Z"
   },
   {
    "duration": 0,
    "start_time": "2022-03-26T21:26:02.158Z"
   },
   {
    "duration": 1585,
    "start_time": "2022-03-27T12:39:04.339Z"
   },
   {
    "duration": 3,
    "start_time": "2022-03-27T12:39:06.280Z"
   },
   {
    "duration": 75,
    "start_time": "2022-03-27T12:39:07.448Z"
   },
   {
    "duration": 32,
    "start_time": "2022-03-27T12:39:20.225Z"
   },
   {
    "duration": 3,
    "start_time": "2022-03-27T12:42:56.071Z"
   },
   {
    "duration": 12,
    "start_time": "2022-03-27T12:42:56.815Z"
   },
   {
    "duration": 24,
    "start_time": "2022-03-27T12:43:07.268Z"
   },
   {
    "duration": 3,
    "start_time": "2022-03-27T12:43:38.958Z"
   },
   {
    "duration": 13,
    "start_time": "2022-03-27T12:43:42.526Z"
   },
   {
    "duration": 4,
    "start_time": "2022-03-27T12:43:50.302Z"
   },
   {
    "duration": 5,
    "start_time": "2022-03-27T12:56:48.953Z"
   },
   {
    "duration": 14,
    "start_time": "2022-03-27T12:57:44.453Z"
   },
   {
    "duration": 13,
    "start_time": "2022-03-27T12:57:48.054Z"
   },
   {
    "duration": 6,
    "start_time": "2022-03-27T12:57:57.822Z"
   },
   {
    "duration": 127,
    "start_time": "2022-03-27T12:58:03.207Z"
   },
   {
    "duration": 41,
    "start_time": "2022-03-27T12:58:07.470Z"
   },
   {
    "duration": 1085,
    "start_time": "2022-03-27T12:59:57.825Z"
   },
   {
    "duration": 19163,
    "start_time": "2022-03-27T13:00:01.229Z"
   },
   {
    "duration": 103,
    "start_time": "2022-03-27T13:00:22.838Z"
   },
   {
    "duration": 239,
    "start_time": "2022-03-27T13:00:27.084Z"
   },
   {
    "duration": 279,
    "start_time": "2022-03-27T13:00:28.924Z"
   },
   {
    "duration": 378,
    "start_time": "2022-03-27T13:00:30.860Z"
   },
   {
    "duration": 4,
    "start_time": "2022-03-27T13:02:13.012Z"
   },
   {
    "duration": 1891,
    "start_time": "2022-03-27T13:02:13.948Z"
   },
   {
    "duration": 115,
    "start_time": "2022-03-27T13:03:48.075Z"
   },
   {
    "duration": 51,
    "start_time": "2022-03-27T13:03:48.626Z"
   },
   {
    "duration": 341,
    "start_time": "2022-03-27T13:03:49.643Z"
   },
   {
    "duration": 8,
    "start_time": "2022-03-27T13:03:53.372Z"
   },
   {
    "duration": 13,
    "start_time": "2022-03-27T13:03:56.524Z"
   },
   {
    "duration": 539,
    "start_time": "2022-03-27T13:03:57.182Z"
   },
   {
    "duration": 22817,
    "start_time": "2022-03-27T13:03:57.729Z"
   },
   {
    "duration": 192,
    "start_time": "2022-03-27T13:04:20.549Z"
   },
   {
    "duration": 288,
    "start_time": "2022-03-27T13:04:20.743Z"
   },
   {
    "duration": 1151,
    "start_time": "2022-03-27T13:04:21.034Z"
   },
   {
    "duration": 255,
    "start_time": "2022-03-27T13:04:22.187Z"
   },
   {
    "duration": 236,
    "start_time": "2022-03-27T13:05:00.689Z"
   },
   {
    "duration": 263,
    "start_time": "2022-03-27T13:05:06.355Z"
   },
   {
    "duration": 289,
    "start_time": "2022-03-27T13:05:42.850Z"
   },
   {
    "duration": 165,
    "start_time": "2022-03-27T13:05:51.659Z"
   },
   {
    "duration": 12,
    "start_time": "2022-03-27T13:06:06.570Z"
   },
   {
    "duration": 593,
    "start_time": "2022-03-27T13:06:20.986Z"
   },
   {
    "duration": 9338,
    "start_time": "2022-03-27T13:06:34.490Z"
   },
   {
    "duration": 189,
    "start_time": "2022-03-27T13:07:00.353Z"
   },
   {
    "duration": 9506,
    "start_time": "2022-03-27T13:20:22.603Z"
   },
   {
    "duration": 16344,
    "start_time": "2022-03-27T13:23:26.666Z"
   },
   {
    "duration": 48394,
    "start_time": "2022-03-27T13:24:02.320Z"
   },
   {
    "duration": 52346,
    "start_time": "2022-03-27T13:25:03.792Z"
   },
   {
    "duration": 39647,
    "start_time": "2022-03-27T13:26:46.727Z"
   },
   {
    "duration": 5,
    "start_time": "2022-03-27T13:33:26.898Z"
   },
   {
    "duration": 41669,
    "start_time": "2022-03-27T13:33:28.003Z"
   },
   {
    "duration": 5,
    "start_time": "2022-03-27T13:34:11.915Z"
   },
   {
    "duration": 39196,
    "start_time": "2022-03-27T13:34:13.761Z"
   },
   {
    "duration": 169,
    "start_time": "2022-03-27T13:36:32.872Z"
   },
   {
    "duration": 490,
    "start_time": "2022-03-27T13:36:36.786Z"
   },
   {
    "duration": 22892,
    "start_time": "2022-03-27T13:36:43.410Z"
   },
   {
    "duration": 177,
    "start_time": "2022-03-27T13:37:11.361Z"
   },
   {
    "duration": 2,
    "start_time": "2022-03-27T13:37:17.961Z"
   },
   {
    "duration": 3,
    "start_time": "2022-03-27T13:37:19.160Z"
   },
   {
    "duration": 10,
    "start_time": "2022-03-27T13:37:22.120Z"
   },
   {
    "duration": 3,
    "start_time": "2022-03-27T13:37:40.608Z"
   },
   {
    "duration": 408348,
    "start_time": "2022-03-27T13:37:42.216Z"
   },
   {
    "duration": 3,
    "start_time": "2022-03-27T13:44:36.499Z"
   },
   {
    "duration": 1221,
    "start_time": "2022-03-27T13:44:39.933Z"
   },
   {
    "duration": 175,
    "start_time": "2022-03-27T13:44:56.597Z"
   },
   {
    "duration": 304,
    "start_time": "2022-03-27T13:45:03.559Z"
   },
   {
    "duration": 166,
    "start_time": "2022-03-27T13:45:05.143Z"
   },
   {
    "duration": 174,
    "start_time": "2022-03-27T15:02:50.368Z"
   },
   {
    "duration": 47,
    "start_time": "2022-03-27T15:21:19.913Z"
   },
   {
    "duration": 196,
    "start_time": "2022-03-27T15:24:15.599Z"
   },
   {
    "duration": 1855,
    "start_time": "2022-03-27T16:01:06.688Z"
   },
   {
    "duration": 3,
    "start_time": "2022-03-27T16:01:08.546Z"
   },
   {
    "duration": 31,
    "start_time": "2022-03-27T16:01:08.551Z"
   },
   {
    "duration": 28,
    "start_time": "2022-03-27T16:01:08.585Z"
   },
   {
    "duration": 17,
    "start_time": "2022-03-27T16:01:08.614Z"
   },
   {
    "duration": 21,
    "start_time": "2022-03-27T16:01:08.633Z"
   },
   {
    "duration": 48,
    "start_time": "2022-03-27T16:01:08.657Z"
   },
   {
    "duration": 31,
    "start_time": "2022-03-27T16:01:08.707Z"
   },
   {
    "duration": 63,
    "start_time": "2022-03-27T16:01:08.739Z"
   },
   {
    "duration": 22,
    "start_time": "2022-03-27T16:01:08.805Z"
   },
   {
    "duration": 12,
    "start_time": "2022-03-27T16:01:08.829Z"
   },
   {
    "duration": 4,
    "start_time": "2022-03-27T16:01:08.843Z"
   },
   {
    "duration": 5,
    "start_time": "2022-03-27T16:01:08.849Z"
   },
   {
    "duration": 50,
    "start_time": "2022-03-27T16:01:08.856Z"
   },
   {
    "duration": 20,
    "start_time": "2022-03-27T16:01:08.908Z"
   },
   {
    "duration": 7,
    "start_time": "2022-03-27T16:01:08.930Z"
   },
   {
    "duration": 17,
    "start_time": "2022-03-27T16:01:08.938Z"
   },
   {
    "duration": 7,
    "start_time": "2022-03-27T16:01:08.957Z"
   },
   {
    "duration": 8,
    "start_time": "2022-03-27T16:01:08.966Z"
   },
   {
    "duration": 13,
    "start_time": "2022-03-27T16:01:09.001Z"
   },
   {
    "duration": 13,
    "start_time": "2022-03-27T16:01:09.016Z"
   },
   {
    "duration": 8,
    "start_time": "2022-03-27T16:01:09.031Z"
   },
   {
    "duration": 167,
    "start_time": "2022-03-27T16:01:09.041Z"
   },
   {
    "duration": 42,
    "start_time": "2022-03-27T16:01:09.210Z"
   },
   {
    "duration": 1441,
    "start_time": "2022-03-27T16:01:09.254Z"
   },
   {
    "duration": 24597,
    "start_time": "2022-03-27T16:01:10.697Z"
   },
   {
    "duration": 205,
    "start_time": "2022-03-27T16:01:35.296Z"
   },
   {
    "duration": 276,
    "start_time": "2022-03-27T16:01:35.506Z"
   },
   {
    "duration": 343,
    "start_time": "2022-03-27T16:01:35.784Z"
   },
   {
    "duration": 289,
    "start_time": "2022-03-27T16:01:36.129Z"
   },
   {
    "duration": 82,
    "start_time": "2022-03-27T16:01:36.420Z"
   },
   {
    "duration": 303,
    "start_time": "2022-03-27T16:01:36.504Z"
   },
   {
    "duration": 223,
    "start_time": "2022-03-27T16:01:36.810Z"
   },
   {
    "duration": 67,
    "start_time": "2022-03-27T16:01:37.035Z"
   },
   {
    "duration": 550,
    "start_time": "2022-03-27T16:01:37.105Z"
   },
   {
    "duration": 8,
    "start_time": "2022-03-27T16:01:37.657Z"
   },
   {
    "duration": 16,
    "start_time": "2022-03-27T16:01:37.667Z"
   },
   {
    "duration": 571,
    "start_time": "2022-03-27T16:01:37.702Z"
   },
   {
    "duration": 32550,
    "start_time": "2022-03-27T16:01:38.275Z"
   },
   {
    "duration": 176,
    "start_time": "2022-03-27T16:02:10.828Z"
   },
   {
    "duration": 339,
    "start_time": "2022-03-27T16:02:11.006Z"
   },
   {
    "duration": 1451,
    "start_time": "2022-03-27T16:02:11.347Z"
   },
   {
    "duration": 405,
    "start_time": "2022-03-27T16:02:12.800Z"
   },
   {
    "duration": 397,
    "start_time": "2022-03-27T16:02:13.207Z"
   },
   {
    "duration": 218,
    "start_time": "2022-03-27T16:02:13.606Z"
   },
   {
    "duration": 13,
    "start_time": "2022-03-27T16:02:13.826Z"
   },
   {
    "duration": 738,
    "start_time": "2022-03-27T16:02:13.842Z"
   },
   {
    "duration": 46329,
    "start_time": "2022-03-27T16:02:14.582Z"
   },
   {
    "duration": 7,
    "start_time": "2022-03-27T16:03:00.914Z"
   },
   {
    "duration": 48352,
    "start_time": "2022-03-27T16:03:00.924Z"
   },
   {
    "duration": 126,
    "start_time": "2022-03-27T16:03:49.278Z"
   },
   {
    "duration": 680,
    "start_time": "2022-03-27T16:03:49.410Z"
   },
   {
    "duration": 1947,
    "start_time": "2022-03-27T16:26:38.739Z"
   },
   {
    "duration": 3,
    "start_time": "2022-03-27T16:26:41.139Z"
   },
   {
    "duration": 39,
    "start_time": "2022-03-27T16:26:41.914Z"
   },
   {
    "duration": 24,
    "start_time": "2022-03-27T16:26:46.241Z"
   },
   {
    "duration": 21,
    "start_time": "2022-03-27T16:26:47.043Z"
   },
   {
    "duration": 16,
    "start_time": "2022-03-27T16:26:48.369Z"
   },
   {
    "duration": 17,
    "start_time": "2022-03-27T16:27:24.603Z"
   },
   {
    "duration": 36,
    "start_time": "2022-03-27T16:27:26.218Z"
   },
   {
    "duration": 53,
    "start_time": "2022-03-27T16:27:37.051Z"
   },
   {
    "duration": 26,
    "start_time": "2022-03-27T16:27:49.890Z"
   },
   {
    "duration": 14,
    "start_time": "2022-03-27T16:27:50.995Z"
   },
   {
    "duration": 4,
    "start_time": "2022-03-27T16:27:51.490Z"
   },
   {
    "duration": 4,
    "start_time": "2022-03-27T16:27:54.146Z"
   },
   {
    "duration": 13,
    "start_time": "2022-03-27T16:27:54.753Z"
   },
   {
    "duration": 21,
    "start_time": "2022-03-27T16:27:56.226Z"
   },
   {
    "duration": 3,
    "start_time": "2022-03-27T16:28:02.338Z"
   },
   {
    "duration": 12,
    "start_time": "2022-03-27T16:28:03.129Z"
   },
   {
    "duration": 3,
    "start_time": "2022-03-27T16:28:05.800Z"
   },
   {
    "duration": 4,
    "start_time": "2022-03-27T16:28:12.619Z"
   },
   {
    "duration": 11,
    "start_time": "2022-03-27T16:28:19.993Z"
   },
   {
    "duration": 10,
    "start_time": "2022-03-27T16:28:20.881Z"
   },
   {
    "duration": 5,
    "start_time": "2022-03-27T16:28:25.129Z"
   },
   {
    "duration": 143,
    "start_time": "2022-03-27T16:28:27.642Z"
   },
   {
    "duration": 109,
    "start_time": "2022-03-27T16:34:41.854Z"
   },
   {
    "duration": 6,
    "start_time": "2022-03-27T16:35:09.311Z"
   },
   {
    "duration": 7,
    "start_time": "2022-03-27T16:35:15.343Z"
   },
   {
    "duration": 7,
    "start_time": "2022-03-27T16:35:34.823Z"
   },
   {
    "duration": 158,
    "start_time": "2022-03-27T16:35:38.312Z"
   },
   {
    "duration": 58,
    "start_time": "2022-03-27T16:35:53.334Z"
   },
   {
    "duration": 1094,
    "start_time": "2022-03-27T16:37:37.984Z"
   },
   {
    "duration": 18959,
    "start_time": "2022-03-27T16:37:46.894Z"
   },
   {
    "duration": 142,
    "start_time": "2022-03-27T16:38:12.223Z"
   },
   {
    "duration": 275,
    "start_time": "2022-03-27T16:38:19.342Z"
   },
   {
    "duration": 337,
    "start_time": "2022-03-27T16:38:20.653Z"
   },
   {
    "duration": 534,
    "start_time": "2022-03-27T16:38:23.630Z"
   },
   {
    "duration": 4,
    "start_time": "2022-03-27T16:38:25.118Z"
   },
   {
    "duration": 383,
    "start_time": "2022-03-27T16:38:26.381Z"
   },
   {
    "duration": 5,
    "start_time": "2022-03-27T16:39:34.455Z"
   },
   {
    "duration": 364,
    "start_time": "2022-03-27T16:39:35.300Z"
   },
   {
    "duration": 104,
    "start_time": "2022-03-27T16:40:24.029Z"
   },
   {
    "duration": 96,
    "start_time": "2022-03-27T16:40:26.868Z"
   },
   {
    "duration": 295,
    "start_time": "2022-03-27T16:40:27.491Z"
   },
   {
    "duration": 8,
    "start_time": "2022-03-27T16:40:30.597Z"
   },
   {
    "duration": 11,
    "start_time": "2022-03-27T16:40:34.601Z"
   },
   {
    "duration": 540,
    "start_time": "2022-03-27T16:40:36.399Z"
   },
   {
    "duration": 22203,
    "start_time": "2022-03-27T16:40:36.941Z"
   },
   {
    "duration": 124,
    "start_time": "2022-03-27T16:40:59.145Z"
   },
   {
    "duration": 391,
    "start_time": "2022-03-27T16:40:59.271Z"
   },
   {
    "duration": 1131,
    "start_time": "2022-03-27T16:40:59.663Z"
   },
   {
    "duration": 277,
    "start_time": "2022-03-27T16:41:03.093Z"
   },
   {
    "duration": 10,
    "start_time": "2022-03-27T16:41:07.308Z"
   },
   {
    "duration": 324,
    "start_time": "2022-03-27T16:41:22.141Z"
   },
   {
    "duration": 158,
    "start_time": "2022-03-27T16:41:28.732Z"
   },
   {
    "duration": 10,
    "start_time": "2022-03-27T16:41:41.083Z"
   },
   {
    "duration": 577,
    "start_time": "2022-03-27T16:41:50.589Z"
   },
   {
    "duration": 2530,
    "start_time": "2022-03-27T16:42:19.205Z"
   },
   {
    "duration": 5,
    "start_time": "2022-03-27T16:44:30.420Z"
   },
   {
    "duration": 39128,
    "start_time": "2022-03-27T16:44:31.915Z"
   },
   {
    "duration": 183,
    "start_time": "2022-03-27T16:45:55.282Z"
   },
   {
    "duration": 638,
    "start_time": "2022-03-27T16:46:06.451Z"
   },
   {
    "duration": 22571,
    "start_time": "2022-03-27T16:46:15.858Z"
   },
   {
    "duration": 101,
    "start_time": "2022-03-27T16:46:41.164Z"
   },
   {
    "duration": 2,
    "start_time": "2022-03-27T16:46:51.202Z"
   },
   {
    "duration": 3,
    "start_time": "2022-03-27T16:46:53.610Z"
   },
   {
    "duration": 10,
    "start_time": "2022-03-27T16:47:55.274Z"
   },
   {
    "duration": 13,
    "start_time": "2022-03-27T16:48:35.209Z"
   },
   {
    "duration": 3,
    "start_time": "2022-03-27T16:51:14.696Z"
   },
   {
    "duration": 3,
    "start_time": "2022-03-27T16:51:20.416Z"
   },
   {
    "duration": 406662,
    "start_time": "2022-03-27T16:51:30.160Z"
   },
   {
    "duration": 4,
    "start_time": "2022-03-27T16:58:38.911Z"
   },
   {
    "duration": 1071,
    "start_time": "2022-03-27T16:58:52.229Z"
   },
   {
    "duration": 119,
    "start_time": "2022-03-27T16:58:58.013Z"
   },
   {
    "duration": 490,
    "start_time": "2022-03-27T17:07:17.744Z"
   },
   {
    "duration": 199,
    "start_time": "2022-03-27T17:07:22.057Z"
   },
   {
    "duration": 210,
    "start_time": "2022-03-27T17:08:12.047Z"
   },
   {
    "duration": 48,
    "start_time": "2022-03-27T18:25:05.770Z"
   },
   {
    "duration": 1709,
    "start_time": "2022-03-27T18:25:13.131Z"
   },
   {
    "duration": 3,
    "start_time": "2022-03-27T18:25:14.842Z"
   },
   {
    "duration": 37,
    "start_time": "2022-03-27T18:25:14.846Z"
   },
   {
    "duration": 19,
    "start_time": "2022-03-27T18:25:16.250Z"
   },
   {
    "duration": 15,
    "start_time": "2022-03-27T18:25:16.449Z"
   },
   {
    "duration": 12,
    "start_time": "2022-03-27T18:25:16.626Z"
   },
   {
    "duration": 14,
    "start_time": "2022-03-27T18:25:16.827Z"
   },
   {
    "duration": 26,
    "start_time": "2022-03-27T18:25:17.026Z"
   },
   {
    "duration": 36,
    "start_time": "2022-03-27T18:25:17.771Z"
   },
   {
    "duration": 19,
    "start_time": "2022-03-27T18:25:18.013Z"
   },
   {
    "duration": 11,
    "start_time": "2022-03-27T18:25:18.159Z"
   },
   {
    "duration": 4,
    "start_time": "2022-03-27T18:25:18.474Z"
   },
   {
    "duration": 3,
    "start_time": "2022-03-27T18:25:18.658Z"
   },
   {
    "duration": 11,
    "start_time": "2022-03-27T18:25:18.841Z"
   },
   {
    "duration": 24,
    "start_time": "2022-03-27T18:25:19.130Z"
   },
   {
    "duration": 3,
    "start_time": "2022-03-27T18:25:21.362Z"
   },
   {
    "duration": 12,
    "start_time": "2022-03-27T18:25:21.634Z"
   },
   {
    "duration": 4,
    "start_time": "2022-03-27T18:25:22.147Z"
   },
   {
    "duration": 4,
    "start_time": "2022-03-27T18:25:24.015Z"
   },
   {
    "duration": 10,
    "start_time": "2022-03-27T18:25:26.826Z"
   },
   {
    "duration": 14,
    "start_time": "2022-03-27T18:25:27.369Z"
   },
   {
    "duration": 6,
    "start_time": "2022-03-27T18:25:28.570Z"
   },
   {
    "duration": 3,
    "start_time": "2022-03-27T18:25:32.043Z"
   },
   {
    "duration": 10,
    "start_time": "2022-03-27T18:25:32.936Z"
   },
   {
    "duration": 9,
    "start_time": "2022-03-27T18:25:45.547Z"
   },
   {
    "duration": 121,
    "start_time": "2022-03-27T18:25:47.137Z"
   },
   {
    "duration": 34,
    "start_time": "2022-03-27T18:25:58.571Z"
   },
   {
    "duration": 1665,
    "start_time": "2022-03-28T08:51:12.864Z"
   },
   {
    "duration": 3,
    "start_time": "2022-03-28T08:51:14.531Z"
   },
   {
    "duration": 31,
    "start_time": "2022-03-28T08:51:14.536Z"
   },
   {
    "duration": 18,
    "start_time": "2022-03-28T08:51:14.569Z"
   },
   {
    "duration": 14,
    "start_time": "2022-03-28T08:51:14.589Z"
   },
   {
    "duration": 15,
    "start_time": "2022-03-28T08:51:14.604Z"
   },
   {
    "duration": 13,
    "start_time": "2022-03-28T08:51:14.621Z"
   },
   {
    "duration": 26,
    "start_time": "2022-03-28T08:51:14.663Z"
   },
   {
    "duration": 35,
    "start_time": "2022-03-28T08:51:15.340Z"
   },
   {
    "duration": 20,
    "start_time": "2022-03-28T08:51:15.501Z"
   },
   {
    "duration": 10,
    "start_time": "2022-03-28T08:51:15.693Z"
   },
   {
    "duration": 4,
    "start_time": "2022-03-28T08:51:15.885Z"
   },
   {
    "duration": 4,
    "start_time": "2022-03-28T08:51:16.053Z"
   },
   {
    "duration": 11,
    "start_time": "2022-03-28T08:51:16.229Z"
   },
   {
    "duration": 19,
    "start_time": "2022-03-28T08:51:16.447Z"
   },
   {
    "duration": 3,
    "start_time": "2022-03-28T08:51:17.957Z"
   },
   {
    "duration": 11,
    "start_time": "2022-03-28T08:51:18.156Z"
   },
   {
    "duration": 3,
    "start_time": "2022-03-28T08:51:18.349Z"
   },
   {
    "duration": 5,
    "start_time": "2022-03-28T08:51:19.101Z"
   },
   {
    "duration": 12,
    "start_time": "2022-03-28T08:51:19.927Z"
   },
   {
    "duration": 14,
    "start_time": "2022-03-28T08:51:20.117Z"
   },
   {
    "duration": 6,
    "start_time": "2022-03-28T08:51:20.519Z"
   },
   {
    "duration": 3,
    "start_time": "2022-03-28T08:51:20.725Z"
   },
   {
    "duration": 9,
    "start_time": "2022-03-28T08:51:20.918Z"
   },
   {
    "duration": 146,
    "start_time": "2022-03-28T08:51:21.719Z"
   },
   {
    "duration": 32,
    "start_time": "2022-03-28T08:51:22.110Z"
   },
   {
    "duration": 3,
    "start_time": "2022-03-28T08:51:22.316Z"
   },
   {
    "duration": 1146,
    "start_time": "2022-03-28T08:51:24.606Z"
   },
   {
    "duration": 18979,
    "start_time": "2022-03-28T08:51:25.754Z"
   },
   {
    "duration": 131,
    "start_time": "2022-03-28T08:51:44.734Z"
   },
   {
    "duration": 315,
    "start_time": "2022-03-28T08:51:44.867Z"
   },
   {
    "duration": 334,
    "start_time": "2022-03-28T08:51:45.184Z"
   },
   {
    "duration": 344,
    "start_time": "2022-03-28T08:51:45.520Z"
   },
   {
    "duration": 6,
    "start_time": "2022-03-28T08:51:45.866Z"
   },
   {
    "duration": 389,
    "start_time": "2022-03-28T08:51:45.874Z"
   },
   {
    "duration": 115,
    "start_time": "2022-03-28T08:51:46.266Z"
   },
   {
    "duration": 82,
    "start_time": "2022-03-28T08:51:46.382Z"
   },
   {
    "duration": 403,
    "start_time": "2022-03-28T08:51:46.466Z"
   },
   {
    "duration": 7,
    "start_time": "2022-03-28T08:51:46.871Z"
   },
   {
    "duration": 2336,
    "start_time": "2022-03-28T09:05:10.802Z"
   },
   {
    "duration": 3,
    "start_time": "2022-03-28T09:05:14.082Z"
   },
   {
    "duration": 33,
    "start_time": "2022-03-28T09:05:14.539Z"
   },
   {
    "duration": 29,
    "start_time": "2022-03-28T09:05:16.114Z"
   },
   {
    "duration": 25,
    "start_time": "2022-03-28T09:05:16.344Z"
   },
   {
    "duration": 20,
    "start_time": "2022-03-28T09:05:16.753Z"
   },
   {
    "duration": 22,
    "start_time": "2022-03-28T09:05:16.961Z"
   },
   {
    "duration": 41,
    "start_time": "2022-03-28T09:05:17.338Z"
   },
   {
    "duration": 58,
    "start_time": "2022-03-28T09:05:18.858Z"
   },
   {
    "duration": 29,
    "start_time": "2022-03-28T09:05:19.161Z"
   },
   {
    "duration": 18,
    "start_time": "2022-03-28T09:05:19.545Z"
   },
   {
    "duration": 6,
    "start_time": "2022-03-28T09:05:20.041Z"
   },
   {
    "duration": 5,
    "start_time": "2022-03-28T09:05:20.473Z"
   },
   {
    "duration": 15,
    "start_time": "2022-03-28T09:05:21.137Z"
   },
   {
    "duration": 27,
    "start_time": "2022-03-28T09:05:21.656Z"
   },
   {
    "duration": 5,
    "start_time": "2022-03-28T09:05:25.025Z"
   },
   {
    "duration": 20,
    "start_time": "2022-03-28T09:05:25.729Z"
   },
   {
    "duration": 5,
    "start_time": "2022-03-28T09:05:26.448Z"
   },
   {
    "duration": 6,
    "start_time": "2022-03-28T09:05:28.674Z"
   },
   {
    "duration": 16,
    "start_time": "2022-03-28T09:05:32.946Z"
   },
   {
    "duration": 18,
    "start_time": "2022-03-28T09:05:33.785Z"
   },
   {
    "duration": 9,
    "start_time": "2022-03-28T09:05:35.850Z"
   },
   {
    "duration": 4,
    "start_time": "2022-03-28T09:05:38.690Z"
   },
   {
    "duration": 15,
    "start_time": "2022-03-28T09:05:44.834Z"
   },
   {
    "duration": 119,
    "start_time": "2022-03-28T09:05:51.345Z"
   },
   {
    "duration": 53,
    "start_time": "2022-03-28T09:05:53.025Z"
   },
   {
    "duration": 4,
    "start_time": "2022-03-28T09:05:54.416Z"
   },
   {
    "duration": 1988,
    "start_time": "2022-03-28T09:05:59.194Z"
   },
   {
    "duration": 31840,
    "start_time": "2022-03-28T09:06:02.748Z"
   },
   {
    "duration": 140,
    "start_time": "2022-03-28T09:07:06.048Z"
   },
   {
    "duration": 551,
    "start_time": "2022-03-28T09:07:07.145Z"
   },
   {
    "duration": 276,
    "start_time": "2022-03-28T09:07:08.334Z"
   },
   {
    "duration": 286,
    "start_time": "2022-03-28T09:07:08.999Z"
   },
   {
    "duration": 8,
    "start_time": "2022-03-28T09:07:09.714Z"
   },
   {
    "duration": 371,
    "start_time": "2022-03-28T09:07:10.215Z"
   },
   {
    "duration": 196,
    "start_time": "2022-03-28T09:07:15.952Z"
   },
   {
    "duration": 104,
    "start_time": "2022-03-28T09:07:16.888Z"
   },
   {
    "duration": 540,
    "start_time": "2022-03-28T09:07:17.536Z"
   },
   {
    "duration": 10,
    "start_time": "2022-03-28T09:07:18.648Z"
   },
   {
    "duration": 17,
    "start_time": "2022-03-28T09:07:20.704Z"
   },
   {
    "duration": 690,
    "start_time": "2022-03-28T09:07:21.216Z"
   },
   {
    "duration": 37607,
    "start_time": "2022-03-28T09:07:21.909Z"
   },
   {
    "duration": 201,
    "start_time": "2022-03-28T09:08:02.884Z"
   },
   {
    "duration": 335,
    "start_time": "2022-03-28T09:08:03.936Z"
   },
   {
    "duration": 1831,
    "start_time": "2022-03-28T09:08:04.570Z"
   },
   {
    "duration": 288,
    "start_time": "2022-03-28T09:08:06.404Z"
   },
   {
    "duration": 301,
    "start_time": "2022-03-28T09:08:06.785Z"
   },
   {
    "duration": 337,
    "start_time": "2022-03-28T09:08:08.080Z"
   },
   {
    "duration": 16,
    "start_time": "2022-03-28T09:08:11.064Z"
   },
   {
    "duration": 856,
    "start_time": "2022-03-28T09:08:11.697Z"
   },
   {
    "duration": 3925,
    "start_time": "2022-03-28T09:08:14.809Z"
   },
   {
    "duration": 7,
    "start_time": "2022-03-28T09:08:20.713Z"
   },
   {
    "duration": 61451,
    "start_time": "2022-03-28T09:08:21.521Z"
   },
   {
    "duration": 217,
    "start_time": "2022-03-28T09:16:35.973Z"
   },
   {
    "duration": 781,
    "start_time": "2022-03-28T09:16:39.076Z"
   },
   {
    "duration": 38706,
    "start_time": "2022-03-28T09:16:42.068Z"
   },
   {
    "duration": 163,
    "start_time": "2022-03-28T09:17:59.027Z"
   },
   {
    "duration": 4,
    "start_time": "2022-03-28T09:18:01.547Z"
   },
   {
    "duration": 4,
    "start_time": "2022-03-28T09:18:02.131Z"
   },
   {
    "duration": 4,
    "start_time": "2022-03-28T09:18:20.995Z"
   },
   {
    "duration": 4,
    "start_time": "2022-03-28T09:18:23.387Z"
   },
   {
    "duration": 4,
    "start_time": "2022-03-28T09:18:24.507Z"
   },
   {
    "duration": 669303,
    "start_time": "2022-03-28T09:18:28.235Z"
   },
   {
    "duration": 6,
    "start_time": "2022-03-28T09:29:47.327Z"
   },
   {
    "duration": 1896,
    "start_time": "2022-03-28T09:30:05.839Z"
   },
   {
    "duration": 156,
    "start_time": "2022-03-28T09:30:17.792Z"
   },
   {
    "duration": 406,
    "start_time": "2022-03-28T09:30:39.388Z"
   },
   {
    "duration": 274,
    "start_time": "2022-03-28T09:30:40.197Z"
   }
  ],
  "kernelspec": {
   "display_name": "Python 3 (ipykernel)",
   "language": "python",
   "name": "python3"
  },
  "language_info": {
   "codemirror_mode": {
    "name": "ipython",
    "version": 3
   },
   "file_extension": ".py",
   "mimetype": "text/x-python",
   "name": "python",
   "nbconvert_exporter": "python",
   "pygments_lexer": "ipython3",
   "version": "3.9.7"
  },
  "toc": {
   "base_numbering": 1,
   "nav_menu": {},
   "number_sections": true,
   "sideBar": true,
   "skip_h1_title": true,
   "title_cell": "Содержание",
   "title_sidebar": "Contents",
   "toc_cell": true,
   "toc_position": {
    "height": "calc(100% - 180px)",
    "left": "10px",
    "top": "150px",
    "width": "303.038px"
   },
   "toc_section_display": true,
   "toc_window_display": true
  }
 },
 "nbformat": 4,
 "nbformat_minor": 5
}
